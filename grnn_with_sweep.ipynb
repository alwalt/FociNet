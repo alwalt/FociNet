{
 "cells": [
  {
   "cell_type": "code",
   "execution_count": 1,
   "id": "de1cb82a-e22a-44d0-b3d5-54a31d18a475",
   "metadata": {},
   "outputs": [
    {
     "name": "stderr",
     "output_type": "stream",
     "text": [
      "2024-11-24 00:26:39.982530: E external/local_xla/xla/stream_executor/cuda/cuda_fft.cc:477] Unable to register cuFFT factory: Attempting to register factory for plugin cuFFT when one has already been registered\n",
      "WARNING: All log messages before absl::InitializeLog() is called are written to STDERR\n",
      "E0000 00:00:1732436800.113633 1206932 cuda_dnn.cc:8310] Unable to register cuDNN factory: Attempting to register factory for plugin cuDNN when one has already been registered\n",
      "E0000 00:00:1732436800.152081 1206932 cuda_blas.cc:1418] Unable to register cuBLAS factory: Attempting to register factory for plugin cuBLAS when one has already been registered\n",
      "2024-11-24 00:26:40.299338: I tensorflow/core/platform/cpu_feature_guard.cc:210] This TensorFlow binary is optimized to use available CPU instructions in performance-critical operations.\n",
      "To enable the following instructions: AVX2 FMA, in other operations, rebuild TensorFlow with the appropriate compiler flags.\n"
     ]
    },
    {
     "name": "stdout",
     "output_type": "stream",
     "text": [
      "Number of outliers to remove: 27\n",
      "Original metadata size: 77177\n",
      "Filtered metadata size: 77150\n"
     ]
    }
   ],
   "source": [
    "import os\n",
    "import tensorflow as tf\n",
    "import numpy as np\n",
    "import pandas as pd\n",
    "import cv2\n",
    "import matplotlib.pyplot as plt\n",
    "\n",
    "\n",
    "# # Define the directory containing the images\n",
    "# #test_image = \"BPS-Microscopy/DAPI_MASK_images\"\n",
    "image_dir = \"BPS-Microscopy/train\"\n",
    "\n",
    "# Load the metadata from the Excel file\n",
    "# metadata_path = 'BPS-Microscopy/DAPI_MASK_images/meta_DAPI_MASK.csv'\n",
    "metadata_path = 'BPS-Microscopy/train/meta.csv'\n",
    "metadata = pd.read_csv(metadata_path)\n",
    "\n",
    "# Display the first few rows of the metadata\n",
    "# print(metadata.head())\n",
    "\n",
    "# Add the full path to the filenames in the metadata\n",
    "metadata['filepath'] = metadata['filename'].apply(lambda x: os.path.join(image_dir, x))\n",
    "\n",
    "# Filter only tif\n",
    "metadata = metadata[metadata['filename'].str.endswith('.tif')]\n",
    "\n",
    "# Display the first few rows of the updated metadata\n",
    "# metadata.head()\n",
    "\n",
    "\n",
    "# Load the list of outlier file paths\n",
    "outliers_file = \"outliers_list.txt\"  # Path to the saved outliers list\n",
    "with open(outliers_file, \"r\") as f:\n",
    "    outlier_filepaths = set(line.strip() for line in f)\n",
    "\n",
    "print(f\"Number of outliers to remove: {len(outlier_filepaths)}\")\n",
    "\n",
    "# Remove outliers from the metadata\n",
    "filtered_metadata = metadata[~metadata['filepath'].isin(outlier_filepaths)]\n",
    "\n",
    "# Print results\n",
    "print(f\"Original metadata size: {len(metadata)}\")\n",
    "print(f\"Filtered metadata size: {len(filtered_metadata)}\")\n",
    "\n",
    "metadata = filtered_metadata"
   ]
  },
  {
   "cell_type": "code",
   "execution_count": 2,
   "id": "5bd765e6",
   "metadata": {},
   "outputs": [
    {
     "name": "stdout",
     "output_type": "stream",
     "text": [
      "Loading processed datasets and metadata...\n",
      "Filtering Criteria - hr_post_exposure: 4, particle_type: X-ray\n",
      "Train size: 9766, Validation size: 2790, Test size: 1396\n"
     ]
    }
   ],
   "source": [
    "from phasepack.phasecong import phasecong\n",
    "from skimage.measure import shannon_entropy\n",
    "from skimage.filters import sobel\n",
    "from skimage import io\n",
    "from sklearn.preprocessing import MinMaxScaler\n",
    "import numpy as np\n",
    "import pickle\n",
    "\n",
    "def extract_features(image):\n",
    "    \"\"\"\n",
    "    Extracts features required for BIQA:\n",
    "    - Mean Phase Congruency (MPC)\n",
    "    - Entropy of Phase Congruency (EPC)\n",
    "    - Entropy of the Image (EDIS)\n",
    "    - Mean Gradient Magnitude of the Image (MGDIS)\n",
    "    \n",
    "    Parameters:\n",
    "    - image: np.array, input grayscale image\n",
    "\n",
    "    Returns:\n",
    "    - features: list of feature values [MPC, EPC, EDIS, MGDIS]\n",
    "    \"\"\"\n",
    "    # Compute Phase Congruency\n",
    "    pc_image, *_ = phasecong(image)\n",
    "    mpc = np.mean(pc_image)\n",
    "    epc = shannon_entropy(pc_image)\n",
    "\n",
    "    # Compute Image Entropy\n",
    "    edis = shannon_entropy(image)\n",
    "\n",
    "    # Compute Mean Gradient Magnitude\n",
    "    gradient_image = sobel(image)\n",
    "    mgdis = np.mean(gradient_image)\n",
    "\n",
    "    return [mpc, epc, edis, mgdis]\n",
    "\n",
    "def prepare_feature_dataset(metadata):\n",
    "    \"\"\"\n",
    "    Extract features and labels for a given dataset.\n",
    "    \"\"\"\n",
    "    features = []\n",
    "    labels = []\n",
    "    for _, row in metadata.iterrows():\n",
    "        image_path = row['filepath']  # Replace with the correct column name for image paths\n",
    "        try:\n",
    "            image = io.imread(image_path, as_gray=True)  # Load the image\n",
    "            feature = extract_features(image)  # Extract features\n",
    "            features.append(feature)\n",
    "            labels.append(row['dose_Gy'])  # Replace 'dose' with your target column name\n",
    "        except Exception as e:\n",
    "            print(f\"Error processing image {image_path}: {e}\")\n",
    "    return np.array(features), np.array(labels)\n",
    "\n",
    "\n",
    "def load_or_prepare_features(metadata, hr_post_exposure, particle_type):\n",
    "    filtered_metadata = metadata[\n",
    "        (metadata['hr_post_exposure'] == hr_post_exposure) &\n",
    "        (metadata['particle_type'] == particle_type)\n",
    "    ]\n",
    "    processed_dir = \"processed_features\"\n",
    "\n",
    "    # Define filenames dynamically based on filtering criteria\n",
    "    train_path = os.path.join(processed_dir, f\"train_hr{hr_post_exposure}_particle{particle_type}.pkl\")\n",
    "    val_path = os.path.join(processed_dir, f\"val_hr{hr_post_exposure}_particle{particle_type}.pkl\")\n",
    "    test_path = os.path.join(processed_dir, f\"test_hr{hr_post_exposure}_particle{particle_type}.pkl\")\n",
    "\n",
    "    if os.path.exists(train_path) and os.path.exists(val_path) and os.path.exists(test_path):\n",
    "        print(\"Loading processed datasets and metadata...\")\n",
    "        with open(train_path, \"rb\") as f:\n",
    "            X_train, y_train, train_metadata = pickle.load(f)\n",
    "        with open(val_path, \"rb\") as f:\n",
    "            X_val, y_val, val_metadata = pickle.load(f)\n",
    "        with open(test_path, \"rb\") as f:\n",
    "            X_test, y_test, test_metadata = pickle.load(f)\n",
    "    else:\n",
    "        print(\"Processed datasets not found. Calculating features...\")\n",
    "\n",
    "        # Shuffle and split metadata\n",
    "        shuffled_metadata = filtered_metadata.sample(frac=1, random_state=42).reset_index(drop=True)\n",
    "        train_size = int(len(shuffled_metadata) * 0.7)\n",
    "        val_size = int(len(shuffled_metadata) * 0.2)\n",
    "\n",
    "        train_metadata = shuffled_metadata[:train_size]\n",
    "        val_metadata = shuffled_metadata[train_size:train_size + val_size]\n",
    "        test_metadata = shuffled_metadata[train_size + val_size:]\n",
    "\n",
    "        # Extract features and labels\n",
    "        X_train, y_train = prepare_feature_dataset(train_metadata)\n",
    "        X_val, y_val = prepare_feature_dataset(val_metadata)\n",
    "        X_test, y_test = prepare_feature_dataset(test_metadata)\n",
    "\n",
    "        # Normalize features\n",
    "        scaler = MinMaxScaler()\n",
    "        X_train = scaler.fit_transform(X_train)\n",
    "        X_val = scaler.transform(X_val)\n",
    "        X_test = scaler.transform(X_test)\n",
    "\n",
    "        # Save datasets with metadata\n",
    "        os.makedirs(processed_dir, exist_ok=True)\n",
    "        with open(train_path, \"wb\") as f:\n",
    "            pickle.dump((X_train, y_train, train_metadata), f)\n",
    "        with open(val_path, \"wb\") as f:\n",
    "            pickle.dump((X_val, y_val, val_metadata), f)\n",
    "        with open(test_path, \"wb\") as f:\n",
    "            pickle.dump((X_test, y_test, test_metadata), f)\n",
    "\n",
    "    return X_train, y_train, X_val, y_val, X_test, y_test, train_metadata, val_metadata, test_metadata\n",
    "\n",
    "\n",
    "# Define filtering criteria\n",
    "hr_post_exposure = 4\n",
    "particle_type = 'X-ray'\n",
    "\n",
    "# Pass criteria explicitly to the function\n",
    "X_train, y_train, X_val, y_val, X_test, y_test, train_metadata, val_metadata, test_metadata = load_or_prepare_features(\n",
    "    metadata, hr_post_exposure, particle_type\n",
    ")\n",
    "\n",
    "print(f\"Filtering Criteria - hr_post_exposure: {hr_post_exposure}, particle_type: {particle_type}\")\n",
    "print(f\"Train size: {len(X_train)}, Validation size: {len(X_val)}, Test size: {len(X_test)}\")\n"
   ]
  },
  {
   "cell_type": "code",
   "execution_count": 3,
   "id": "1a2d2af1",
   "metadata": {},
   "outputs": [
    {
     "data": {
      "image/png": "[encoded data removed]",
      "text/plain": [
       "<Figure size 1800x600 with 3 Axes>"
      ]
     },
     "metadata": {},
     "output_type": "display_data"
    }
   ],
   "source": [
    "# Check set split\n",
    "\n",
    "# Function to add total count annotations for each group\n",
    "def annotate_group_totals(ax, data):\n",
    "    for i, patch in enumerate(ax.patches):\n",
    "        if i % len(data.columns) == 0:  # Add annotation only for the first bar of each group\n",
    "            x = patch.get_x() + patch.get_width() / 2\n",
    "            total = data.iloc[i // len(data.columns)].sum()\n",
    "            ax.annotate(f'{int(total)}', (x, total + 5), ha='center', va='bottom', fontsize=10, color='black')\n",
    "\n",
    "# Function to create legend labels with counts\n",
    "def create_legend_labels(data):\n",
    "    labels = []\n",
    "    for dose in data.columns:\n",
    "        count = data[dose].sum()\n",
    "        labels.append(f\"Dose {dose} Gy ({int(count)})\")\n",
    "    return labels\n",
    "\n",
    "# Plot all sets: training, validation, and test\n",
    "plt.figure(figsize=(18, 6))\n",
    "\n",
    "# Training set plot\n",
    "plt.subplot(1, 3, 1)\n",
    "train_counts = train_metadata.groupby(['particle_type', 'dose_Gy']).size().unstack().fillna(0)\n",
    "train_ax = train_counts.plot(kind='bar', stacked=True, ax=plt.gca(), legend=False)\n",
    "annotate_group_totals(train_ax, train_counts)\n",
    "plt.title('Training Set Distribution')\n",
    "plt.xlabel('Particle Type')\n",
    "plt.ylabel('Count')\n",
    "\n",
    "# Add legend with counts for training set\n",
    "train_labels = create_legend_labels(train_counts)\n",
    "plt.legend(train_labels, title=\"Dose (Gy)\", bbox_to_anchor=(1.0, 1.0), loc='upper left')\n",
    "\n",
    "# Validation set plot\n",
    "plt.subplot(1, 3, 2)\n",
    "val_counts = val_metadata.groupby(['particle_type', 'dose_Gy']).size().unstack().fillna(0)\n",
    "val_ax = val_counts.plot(kind='bar', stacked=True, ax=plt.gca(), legend=False)\n",
    "annotate_group_totals(val_ax, val_counts)\n",
    "plt.title('Validation Set Distribution')\n",
    "plt.xlabel('Particle Type')\n",
    "plt.ylabel('Count')\n",
    "\n",
    "# Add legend with counts for validation set\n",
    "val_labels = create_legend_labels(val_counts)\n",
    "plt.legend(val_labels, title=\"Dose (Gy)\", bbox_to_anchor=(1.0, 1.0), loc='upper left')\n",
    "\n",
    "# Test set plot\n",
    "plt.subplot(1, 3, 3)\n",
    "test_counts = test_metadata.groupby(['particle_type', 'dose_Gy']).size().unstack().fillna(0)\n",
    "test_ax = test_counts.plot(kind='bar', stacked=True, ax=plt.gca(), legend=False)\n",
    "annotate_group_totals(test_ax, test_counts)\n",
    "plt.title('Test Set Distribution')\n",
    "plt.xlabel('Particle Type')\n",
    "plt.ylabel('Count')\n",
    "\n",
    "# Add legend with counts for test set\n",
    "test_labels = create_legend_labels(test_counts)\n",
    "plt.legend(test_labels, title=\"Dose (Gy)\", bbox_to_anchor=(1.0, 1.0), loc='upper left')\n",
    "\n",
    "# Adjust layout\n",
    "plt.tight_layout()\n",
    "plt.show()\n"
   ]
  },
  {
   "cell_type": "code",
   "execution_count": null,
   "id": "b7b2c661",
   "metadata": {},
   "outputs": [
    {
     "name": "stderr",
     "output_type": "stream",
     "text": [
      "\u001b[34m\u001b[1mwandb\u001b[0m: Using wandb-core as the SDK backend.  Please refer to https://wandb.me/wandb-core for more information.\n"
     ]
    },
    {
     "name": "stdout",
     "output_type": "stream",
     "text": [
      "Create sweep with ID: uui2wa8p\n",
      "Sweep URL: https://wandb.ai/walt_/dose-prediction/sweeps/uui2wa8p\n"
     ]
    },
    {
     "name": "stderr",
     "output_type": "stream",
     "text": [
      "\u001b[34m\u001b[1mwandb\u001b[0m: Agent Starting Run: 51p8kpij with config:\n",
      "\u001b[34m\u001b[1mwandb\u001b[0m: \tactivation_function: tanh\n",
      "\u001b[34m\u001b[1mwandb\u001b[0m: \tbatch_size: 16\n",
      "\u001b[34m\u001b[1mwandb\u001b[0m: \tepochs: 20\n",
      "\u001b[34m\u001b[1mwandb\u001b[0m: \tinput_dim: 4\n",
      "\u001b[34m\u001b[1mwandb\u001b[0m: \tlearning_rate: 0.001\n",
      "\u001b[34m\u001b[1mwandb\u001b[0m: \tloss_function: mean_absolute_error\n",
      "\u001b[34m\u001b[1mwandb\u001b[0m: Currently logged in as: \u001b[33mwalt_\u001b[0m. Use \u001b[1m`wandb login --relogin`\u001b[0m to force relogin\n"
     ]
    },
    {
     "data": {
      "text/html": [
       "Tracking run with wandb version 0.18.7"
      ],
      "text/plain": [
       "<IPython.core.display.HTML object>"
      ]
     },
     "metadata": {},
     "output_type": "display_data"
    },
    {
     "data": {
      "text/html": [
       "Run data is saved locally in <code>/home/walt/FociNet/wandb/run-20241124_002648-51p8kpij</code>"
      ],
      "text/plain": [
       "<IPython.core.display.HTML object>"
      ]
     },
     "metadata": {},
     "output_type": "display_data"
    },
    {
     "data": {
      "text/html": [
       "Syncing run <strong><a href='https://wandb.ai/walt_/dose-prediction/runs/51p8kpij' target=\"_blank\">vivid-sweep-1</a></strong> to <a href='https://wandb.ai/walt_/dose-prediction' target=\"_blank\">Weights & Biases</a> (<a href='https://wandb.me/developer-guide' target=\"_blank\">docs</a>)<br/>Sweep page: <a href='https://wandb.ai/walt_/dose-prediction/sweeps/uui2wa8p' target=\"_blank\">https://wandb.ai/walt_/dose-prediction/sweeps/uui2wa8p</a>"
      ],
      "text/plain": [
       "<IPython.core.display.HTML object>"
      ]
     },
     "metadata": {},
     "output_type": "display_data"
    },
    {
     "data": {
      "text/html": [
       " View project at <a href='https://wandb.ai/walt_/dose-prediction' target=\"_blank\">https://wandb.ai/walt_/dose-prediction</a>"
      ],
      "text/plain": [
       "<IPython.core.display.HTML object>"
      ]
     },
     "metadata": {},
     "output_type": "display_data"
    },
    {
     "data": {
      "text/html": [
       " View sweep at <a href='https://wandb.ai/walt_/dose-prediction/sweeps/uui2wa8p' target=\"_blank\">https://wandb.ai/walt_/dose-prediction/sweeps/uui2wa8p</a>"
      ],
      "text/plain": [
       "<IPython.core.display.HTML object>"
      ]
     },
     "metadata": {},
     "output_type": "display_data"
    },
    {
     "data": {
      "text/html": [
       " View run at <a href='https://wandb.ai/walt_/dose-prediction/runs/51p8kpij' target=\"_blank\">https://wandb.ai/walt_/dose-prediction/runs/51p8kpij</a>"
      ],
      "text/plain": [
       "<IPython.core.display.HTML object>"
      ]
     },
     "metadata": {},
     "output_type": "display_data"
    },
    {
     "name": "stderr",
     "output_type": "stream",
     "text": [
      "I0000 00:00:1732436810.245052 1207284 gpu_device.cc:2022] Created device /job:localhost/replica:0/task:0/device:GPU:0 with 11214 MB memory:  -> device: 0, name: NVIDIA GeForce RTX 3090, pci bus id: 0000:33:00.0, compute capability: 8.6\n"
     ]
    },
    {
     "name": "stdout",
     "output_type": "stream",
     "text": [
      "Epoch 1/20\n"
     ]
    },
    {
     "name": "stderr",
     "output_type": "stream",
     "text": [
      "WARNING: All log messages before absl::InitializeLog() is called are written to STDERR\n",
      "I0000 00:00:1732436817.775469 1207365 service.cc:148] XLA service 0x7feab8006190 initialized for platform CUDA (this does not guarantee that XLA will be used). Devices:\n",
      "I0000 00:00:1732436817.775604 1207365 service.cc:156]   StreamExecutor device (0): NVIDIA GeForce RTX 3090, Compute Capability 8.6\n",
      "2024-11-24 00:26:57.816337: I tensorflow/compiler/mlir/tensorflow/utils/dump_mlir_util.cc:268] disabling MLIR crash reproducer, set env var `MLIR_CRASH_REPRODUCER_DIRECTORY` to enable.\n",
      "I0000 00:00:1732436817.915717 1207365 cuda_dnn.cc:529] Loaded cuDNN version 90501\n",
      "I0000 00:00:1732436819.225780 1207365 device_compiler.h:188] Compiled cluster using XLA!  This line is logged at most once for the lifetime of the process.\n"
     ]
    },
    {
     "name": "stdout",
     "output_type": "stream",
     "text": [
      "611/611 - 6s - 10ms/step - loss: 0.2907 - mae: 0.2907 - val_loss: 0.2723 - val_mae: 0.2723\n",
      "Epoch 2/20\n",
      "611/611 - 2s - 3ms/step - loss: 0.2767 - mae: 0.2767 - val_loss: 0.2725 - val_mae: 0.2725\n",
      "Epoch 3/20\n",
      "611/611 - 1s - 2ms/step - loss: 0.2724 - mae: 0.2724 - val_loss: 0.2615 - val_mae: 0.2615\n",
      "Epoch 4/20\n",
      "611/611 - 1s - 2ms/step - loss: 0.2685 - mae: 0.2685 - val_loss: 0.2611 - val_mae: 0.2611\n",
      "Epoch 5/20\n",
      "611/611 - 1s - 2ms/step - loss: 0.2649 - mae: 0.2649 - val_loss: 0.2554 - val_mae: 0.2554\n",
      "Epoch 6/20\n",
      "611/611 - 1s - 2ms/step - loss: 0.2619 - mae: 0.2619 - val_loss: 0.2540 - val_mae: 0.2540\n",
      "Epoch 7/20\n",
      "611/611 - 1s - 2ms/step - loss: 0.2568 - mae: 0.2568 - val_loss: 0.2496 - val_mae: 0.2496\n",
      "Epoch 8/20\n",
      "611/611 - 2s - 2ms/step - loss: 0.2500 - mae: 0.2500 - val_loss: 0.2407 - val_mae: 0.2407\n",
      "Epoch 9/20\n",
      "611/611 - 1s - 2ms/step - loss: 0.2386 - mae: 0.2386 - val_loss: 0.2344 - val_mae: 0.2344\n",
      "Epoch 10/20\n",
      "611/611 - 1s - 2ms/step - loss: 0.2297 - mae: 0.2297 - val_loss: 0.2318 - val_mae: 0.2318\n",
      "Epoch 11/20\n",
      "611/611 - 1s - 2ms/step - loss: 0.2229 - mae: 0.2229 - val_loss: 0.2199 - val_mae: 0.2199\n",
      "Epoch 12/20\n",
      "611/611 - 1s - 2ms/step - loss: 0.2174 - mae: 0.2174 - val_loss: 0.2195 - val_mae: 0.2195\n",
      "Epoch 13/20\n",
      "611/611 - 2s - 3ms/step - loss: 0.2139 - mae: 0.2139 - val_loss: 0.2134 - val_mae: 0.2134\n",
      "Epoch 14/20\n",
      "611/611 - 2s - 3ms/step - loss: 0.2104 - mae: 0.2104 - val_loss: 0.2198 - val_mae: 0.2198\n",
      "Epoch 15/20\n",
      "611/611 - 2s - 3ms/step - loss: 0.2074 - mae: 0.2074 - val_loss: 0.2077 - val_mae: 0.2077\n",
      "Epoch 16/20\n",
      "611/611 - 1s - 2ms/step - loss: 0.2047 - mae: 0.2047 - val_loss: 0.2094 - val_mae: 0.2094\n",
      "Epoch 17/20\n",
      "611/611 - 1s - 2ms/step - loss: 0.2022 - mae: 0.2022 - val_loss: 0.2045 - val_mae: 0.2045\n",
      "Epoch 18/20\n",
      "611/611 - 1s - 2ms/step - loss: 0.2004 - mae: 0.2004 - val_loss: 0.2016 - val_mae: 0.2016\n",
      "Epoch 19/20\n",
      "611/611 - 1s - 2ms/step - loss: 0.1985 - mae: 0.1985 - val_loss: 0.2001 - val_mae: 0.2001\n",
      "Epoch 20/20\n",
      "611/611 - 1s - 2ms/step - loss: 0.1964 - mae: 0.1964 - val_loss: 0.1986 - val_mae: 0.1986\n",
      "\u001b[1m44/44\u001b[0m \u001b[32m━━━━━━━━━━━━━━━━━━━━\u001b[0m\u001b[37m\u001b[0m \u001b[1m0s\u001b[0m 5ms/step\n"
     ]
    },
    {
     "data": {
      "text/html": [
       "\n",
       "    <style>\n",
       "        .wandb-row {\n",
       "            display: flex;\n",
       "            flex-direction: row;\n",
       "            flex-wrap: wrap;\n",
       "            justify-content: flex-start;\n",
       "            width: 100%;\n",
       "        }\n",
       "        .wandb-col {\n",
       "            display: flex;\n",
       "            flex-direction: column;\n",
       "            flex-basis: 100%;\n",
       "            flex: 1;\n",
       "            padding: 10px;\n",
       "        }\n",
       "    </style>\n",
       "<div class=\"wandb-row\"><div class=\"wandb-col\"><h3>Run history:</h3><br/><table class=\"wandb\"><tr><td>Max Absolute Error (Test)</td><td>▁</td></tr><tr><td>Mean Absolute Error (Test)</td><td>▁</td></tr><tr><td>R²</td><td>▁</td></tr><tr><td>Test Loss</td><td>▁</td></tr><tr><td>Test MAE</td><td>▁</td></tr><tr><td>epoch</td><td>▁▁▂▂▂▃▃▄▄▄▅▅▅▆▆▇▇▇██</td></tr><tr><td>epoch/epoch</td><td>▁▁▂▂▂▃▃▄▄▄▅▅▅▆▆▇▇▇██</td></tr><tr><td>epoch/learning_rate</td><td>▁▁▁▁▁▁▁▁▁▁▁▁▁▁▁▁▁▁▁▁</td></tr><tr><td>epoch/loss</td><td>█▇▇▆▆▆▅▅▄▃▃▃▂▂▂▂▁▁▁▁</td></tr><tr><td>epoch/mae</td><td>█▇▇▆▆▆▅▅▄▃▃▃▂▂▂▂▁▁▁▁</td></tr><tr><td>epoch/val_loss</td><td>██▇▇▆▆▆▅▄▄▃▃▂▃▂▂▂▁▁▁</td></tr><tr><td>epoch/val_mae</td><td>██▇▇▆▆▆▅▄▄▃▃▂▃▂▂▂▁▁▁</td></tr><tr><td>train_loss</td><td>█▇▇▆▆▆▅▅▄▃▃▃▂▂▂▂▁▁▁▁</td></tr><tr><td>train_mae</td><td>█▇▇▆▆▆▅▅▄▃▃▃▂▂▂▂▁▁▁▁</td></tr><tr><td>val_loss</td><td>██▇▇▆▆▆▅▄▄▃▃▂▃▂▂▂▁▁▁</td></tr><tr><td>val_mae</td><td>██▇▇▆▆▆▅▄▄▃▃▂▃▂▂▂▁▁▁</td></tr></table><br/></div><div class=\"wandb-col\"><h3>Run summary:</h3><br/><table class=\"wandb\"><tr><td>Max Absolute Error (Test)</td><td>1.02636</td></tr><tr><td>Mean Absolute Error (Test)</td><td>0.18803</td></tr><tr><td>R²</td><td>0.44753</td></tr><tr><td>Test Loss</td><td>0.18803</td></tr><tr><td>Test MAE</td><td>0.18803</td></tr><tr><td>epoch</td><td>19</td></tr><tr><td>epoch/epoch</td><td>19</td></tr><tr><td>epoch/learning_rate</td><td>0.001</td></tr><tr><td>epoch/loss</td><td>0.19645</td></tr><tr><td>epoch/mae</td><td>0.19645</td></tr><tr><td>epoch/val_loss</td><td>0.19856</td></tr><tr><td>epoch/val_mae</td><td>0.19856</td></tr><tr><td>train_loss</td><td>0.19645</td></tr><tr><td>train_mae</td><td>0.19645</td></tr><tr><td>val_loss</td><td>0.19856</td></tr><tr><td>val_mae</td><td>0.19856</td></tr></table><br/></div></div>"
      ],
      "text/plain": [
       "<IPython.core.display.HTML object>"
      ]
     },
     "metadata": {},
     "output_type": "display_data"
    },
    {
     "data": {
      "text/html": [
       " View run <strong style=\"color:#cdcd00\">vivid-sweep-1</strong> at: <a href='https://wandb.ai/walt_/dose-prediction/runs/51p8kpij' target=\"_blank\">https://wandb.ai/walt_/dose-prediction/runs/51p8kpij</a><br/> View project at: <a href='https://wandb.ai/walt_/dose-prediction' target=\"_blank\">https://wandb.ai/walt_/dose-prediction</a><br/>Synced 5 W&B file(s), 0 media file(s), 40 artifact file(s) and 0 other file(s)"
      ],
      "text/plain": [
       "<IPython.core.display.HTML object>"
      ]
     },
     "metadata": {},
     "output_type": "display_data"
    },
    {
     "data": {
      "text/html": [
       "Find logs at: <code>./wandb/run-20241124_002648-51p8kpij/logs</code>"
      ],
      "text/plain": [
       "<IPython.core.display.HTML object>"
      ]
     },
     "metadata": {},
     "output_type": "display_data"
    },
    {
     "name": "stderr",
     "output_type": "stream",
     "text": [
      "\u001b[34m\u001b[1mwandb\u001b[0m: Agent Starting Run: 7983cqa3 with config:\n",
      "\u001b[34m\u001b[1mwandb\u001b[0m: \tactivation_function: tanh\n",
      "\u001b[34m\u001b[1mwandb\u001b[0m: \tbatch_size: 16\n",
      "\u001b[34m\u001b[1mwandb\u001b[0m: \tepochs: 20\n",
      "\u001b[34m\u001b[1mwandb\u001b[0m: \tinput_dim: 4\n",
      "\u001b[34m\u001b[1mwandb\u001b[0m: \tlearning_rate: 0.005\n",
      "\u001b[34m\u001b[1mwandb\u001b[0m: \tloss_function: mean_absolute_error\n"
     ]
    },
    {
     "data": {
      "text/html": [
       "Tracking run with wandb version 0.18.7"
      ],
      "text/plain": [
       "<IPython.core.display.HTML object>"
      ]
     },
     "metadata": {},
     "output_type": "display_data"
    },
    {
     "data": {
      "text/html": [
       "Run data is saved locally in <code>/home/walt/FociNet/wandb/run-20241124_002737-7983cqa3</code>"
      ],
      "text/plain": [
       "<IPython.core.display.HTML object>"
      ]
     },
     "metadata": {},
     "output_type": "display_data"
    },
    {
     "data": {
      "text/html": [
       "Syncing run <strong><a href='https://wandb.ai/walt_/dose-prediction/runs/7983cqa3' target=\"_blank\">solar-sweep-2</a></strong> to <a href='https://wandb.ai/walt_/dose-prediction' target=\"_blank\">Weights & Biases</a> (<a href='https://wandb.me/developer-guide' target=\"_blank\">docs</a>)<br/>Sweep page: <a href='https://wandb.ai/walt_/dose-prediction/sweeps/uui2wa8p' target=\"_blank\">https://wandb.ai/walt_/dose-prediction/sweeps/uui2wa8p</a>"
      ],
      "text/plain": [
       "<IPython.core.display.HTML object>"
      ]
     },
     "metadata": {},
     "output_type": "display_data"
    },
    {
     "data": {
      "text/html": [
       " View project at <a href='https://wandb.ai/walt_/dose-prediction' target=\"_blank\">https://wandb.ai/walt_/dose-prediction</a>"
      ],
      "text/plain": [
       "<IPython.core.display.HTML object>"
      ]
     },
     "metadata": {},
     "output_type": "display_data"
    },
    {
     "data": {
      "text/html": [
       " View sweep at <a href='https://wandb.ai/walt_/dose-prediction/sweeps/uui2wa8p' target=\"_blank\">https://wandb.ai/walt_/dose-prediction/sweeps/uui2wa8p</a>"
      ],
      "text/plain": [
       "<IPython.core.display.HTML object>"
      ]
     },
     "metadata": {},
     "output_type": "display_data"
    },
    {
     "data": {
      "text/html": [
       " View run at <a href='https://wandb.ai/walt_/dose-prediction/runs/7983cqa3' target=\"_blank\">https://wandb.ai/walt_/dose-prediction/runs/7983cqa3</a>"
      ],
      "text/plain": [
       "<IPython.core.display.HTML object>"
      ]
     },
     "metadata": {},
     "output_type": "display_data"
    },
    {
     "name": "stdout",
     "output_type": "stream",
     "text": [
      "Epoch 1/20\n",
      "611/611 - 3s - 5ms/step - loss: 0.2919 - mae: 0.2919 - val_loss: 0.2733 - val_mae: 0.2733\n",
      "Epoch 2/20\n",
      "611/611 - 2s - 3ms/step - loss: 0.2742 - mae: 0.2742 - val_loss: 0.2908 - val_mae: 0.2908\n",
      "Epoch 3/20\n",
      "611/611 - 2s - 3ms/step - loss: 0.2667 - mae: 0.2667 - val_loss: 0.2709 - val_mae: 0.2709\n",
      "Epoch 4/20\n",
      "611/611 - 1s - 2ms/step - loss: 0.2350 - mae: 0.2350 - val_loss: 0.2189 - val_mae: 0.2189\n",
      "Epoch 5/20\n",
      "611/611 - 1s - 2ms/step - loss: 0.2052 - mae: 0.2052 - val_loss: 0.1981 - val_mae: 0.1981\n",
      "Epoch 6/20\n",
      "611/611 - 1s - 2ms/step - loss: 0.1974 - mae: 0.1974 - val_loss: 0.1956 - val_mae: 0.1956\n",
      "Epoch 7/20\n",
      "611/611 - 1s - 2ms/step - loss: 0.1927 - mae: 0.1927 - val_loss: 0.2232 - val_mae: 0.2232\n",
      "Epoch 8/20\n",
      "611/611 - 1s - 2ms/step - loss: 0.1915 - mae: 0.1915 - val_loss: 0.1964 - val_mae: 0.1964\n",
      "Epoch 9/20\n",
      "611/611 - 1s - 2ms/step - loss: 0.1911 - mae: 0.1911 - val_loss: 0.1956 - val_mae: 0.1956\n",
      "Epoch 10/20\n",
      "611/611 - 1s - 2ms/step - loss: 0.1887 - mae: 0.1887 - val_loss: 0.2064 - val_mae: 0.2064\n",
      "Epoch 11/20\n",
      "611/611 - 1s - 2ms/step - loss: 0.1868 - mae: 0.1868 - val_loss: 0.1945 - val_mae: 0.1945\n",
      "Epoch 12/20\n",
      "611/611 - 1s - 2ms/step - loss: 0.1852 - mae: 0.1852 - val_loss: 0.1871 - val_mae: 0.1871\n",
      "Epoch 13/20\n",
      "611/611 - 1s - 2ms/step - loss: 0.1887 - mae: 0.1887 - val_loss: 0.1892 - val_mae: 0.1892\n",
      "Epoch 14/20\n",
      "611/611 - 1s - 2ms/step - loss: 0.1903 - mae: 0.1903 - val_loss: 0.1922 - val_mae: 0.1922\n",
      "Epoch 15/20\n",
      "611/611 - 1s - 2ms/step - loss: 0.1825 - mae: 0.1825 - val_loss: 0.1945 - val_mae: 0.1945\n",
      "Epoch 16/20\n",
      "611/611 - 1s - 2ms/step - loss: 0.1852 - mae: 0.1852 - val_loss: 0.1908 - val_mae: 0.1908\n",
      "Epoch 17/20\n",
      "611/611 - 1s - 2ms/step - loss: 0.1830 - mae: 0.1830 - val_loss: 0.1872 - val_mae: 0.1872\n",
      "Epoch 18/20\n",
      "611/611 - 1s - 2ms/step - loss: 0.1827 - mae: 0.1827 - val_loss: 0.2111 - val_mae: 0.2111\n",
      "Epoch 19/20\n",
      "611/611 - 1s - 2ms/step - loss: 0.1921 - mae: 0.1921 - val_loss: 0.1889 - val_mae: 0.1889\n",
      "Epoch 20/20\n",
      "611/611 - 1s - 2ms/step - loss: 0.1878 - mae: 0.1878 - val_loss: 0.1907 - val_mae: 0.1907\n",
      "\u001b[1m44/44\u001b[0m \u001b[32m━━━━━━━━━━━━━━━━━━━━\u001b[0m\u001b[37m\u001b[0m \u001b[1m0s\u001b[0m 4ms/step\n"
     ]
    },
    {
     "data": {
      "text/html": [
       "\n",
       "    <style>\n",
       "        .wandb-row {\n",
       "            display: flex;\n",
       "            flex-direction: row;\n",
       "            flex-wrap: wrap;\n",
       "            justify-content: flex-start;\n",
       "            width: 100%;\n",
       "        }\n",
       "        .wandb-col {\n",
       "            display: flex;\n",
       "            flex-direction: column;\n",
       "            flex-basis: 100%;\n",
       "            flex: 1;\n",
       "            padding: 10px;\n",
       "        }\n",
       "    </style>\n",
       "<div class=\"wandb-row\"><div class=\"wandb-col\"><h3>Run history:</h3><br/><table class=\"wandb\"><tr><td>Max Absolute Error (Test)</td><td>▁</td></tr><tr><td>Mean Absolute Error (Test)</td><td>▁</td></tr><tr><td>R²</td><td>▁</td></tr><tr><td>Test Loss</td><td>▁</td></tr><tr><td>Test MAE</td><td>▁</td></tr><tr><td>epoch</td><td>▁▁▂▂▂▃▃▄▄▄▅▅▅▆▆▇▇▇██</td></tr><tr><td>epoch/epoch</td><td>▁▁▂▂▂▃▃▄▄▄▅▅▅▆▆▇▇▇██</td></tr><tr><td>epoch/learning_rate</td><td>▁▁▁▁▁▁▁▁▁▁▁▁▁▁▁▁▁▁▁▁</td></tr><tr><td>epoch/loss</td><td>█▇▆▄▂▂▂▂▂▁▁▁▁▁▁▁▁▁▂▁</td></tr><tr><td>epoch/mae</td><td>█▇▆▄▂▂▂▂▂▁▁▁▁▁▁▁▁▁▂▁</td></tr><tr><td>epoch/val_loss</td><td>▇█▇▃▂▂▃▂▂▂▁▁▁▁▁▁▁▃▁▁</td></tr><tr><td>epoch/val_mae</td><td>▇█▇▃▂▂▃▂▂▂▁▁▁▁▁▁▁▃▁▁</td></tr><tr><td>train_loss</td><td>█▇▆▄▂▂▂▂▂▁▁▁▁▁▁▁▁▁▂▁</td></tr><tr><td>train_mae</td><td>█▇▆▄▂▂▂▂▂▁▁▁▁▁▁▁▁▁▂▁</td></tr><tr><td>val_loss</td><td>▇█▇▃▂▂▃▂▂▂▁▁▁▁▁▁▁▃▁▁</td></tr><tr><td>val_mae</td><td>▇█▇▃▂▂▃▂▂▂▁▁▁▁▁▁▁▃▁▁</td></tr></table><br/></div><div class=\"wandb-col\"><h3>Run summary:</h3><br/><table class=\"wandb\"><tr><td>Max Absolute Error (Test)</td><td>1.00852</td></tr><tr><td>Mean Absolute Error (Test)</td><td>0.18831</td></tr><tr><td>R²</td><td>0.28277</td></tr><tr><td>Test Loss</td><td>0.18831</td></tr><tr><td>Test MAE</td><td>0.18831</td></tr><tr><td>epoch</td><td>19</td></tr><tr><td>epoch/epoch</td><td>19</td></tr><tr><td>epoch/learning_rate</td><td>0.005</td></tr><tr><td>epoch/loss</td><td>0.18776</td></tr><tr><td>epoch/mae</td><td>0.18776</td></tr><tr><td>epoch/val_loss</td><td>0.19074</td></tr><tr><td>epoch/val_mae</td><td>0.19074</td></tr><tr><td>train_loss</td><td>0.18776</td></tr><tr><td>train_mae</td><td>0.18776</td></tr><tr><td>val_loss</td><td>0.19074</td></tr><tr><td>val_mae</td><td>0.19074</td></tr></table><br/></div></div>"
      ],
      "text/plain": [
       "<IPython.core.display.HTML object>"
      ]
     },
     "metadata": {},
     "output_type": "display_data"
    },
    {
     "data": {
      "text/html": [
       " View run <strong style=\"color:#cdcd00\">solar-sweep-2</strong> at: <a href='https://wandb.ai/walt_/dose-prediction/runs/7983cqa3' target=\"_blank\">https://wandb.ai/walt_/dose-prediction/runs/7983cqa3</a><br/> View project at: <a href='https://wandb.ai/walt_/dose-prediction' target=\"_blank\">https://wandb.ai/walt_/dose-prediction</a><br/>Synced 5 W&B file(s), 0 media file(s), 40 artifact file(s) and 0 other file(s)"
      ],
      "text/plain": [
       "<IPython.core.display.HTML object>"
      ]
     },
     "metadata": {},
     "output_type": "display_data"
    },
    {
     "data": {
      "text/html": [
       "Find logs at: <code>./wandb/run-20241124_002737-7983cqa3/logs</code>"
      ],
      "text/plain": [
       "<IPython.core.display.HTML object>"
      ]
     },
     "metadata": {},
     "output_type": "display_data"
    },
    {
     "name": "stderr",
     "output_type": "stream",
     "text": [
      "\u001b[34m\u001b[1mwandb\u001b[0m: Agent Starting Run: xvcn67q3 with config:\n",
      "\u001b[34m\u001b[1mwandb\u001b[0m: \tactivation_function: tanh\n",
      "\u001b[34m\u001b[1mwandb\u001b[0m: \tbatch_size: 16\n",
      "\u001b[34m\u001b[1mwandb\u001b[0m: \tepochs: 20\n",
      "\u001b[34m\u001b[1mwandb\u001b[0m: \tinput_dim: 4\n",
      "\u001b[34m\u001b[1mwandb\u001b[0m: \tlearning_rate: 0.01\n",
      "\u001b[34m\u001b[1mwandb\u001b[0m: \tloss_function: mean_absolute_error\n"
     ]
    },
    {
     "data": {
      "text/html": [
       "Tracking run with wandb version 0.18.7"
      ],
      "text/plain": [
       "<IPython.core.display.HTML object>"
      ]
     },
     "metadata": {},
     "output_type": "display_data"
    },
    {
     "data": {
      "text/html": [
       "Run data is saved locally in <code>/home/walt/FociNet/wandb/run-20241124_002812-xvcn67q3</code>"
      ],
      "text/plain": [
       "<IPython.core.display.HTML object>"
      ]
     },
     "metadata": {},
     "output_type": "display_data"
    },
    {
     "data": {
      "text/html": [
       "Syncing run <strong><a href='https://wandb.ai/walt_/dose-prediction/runs/xvcn67q3' target=\"_blank\">upbeat-sweep-3</a></strong> to <a href='https://wandb.ai/walt_/dose-prediction' target=\"_blank\">Weights & Biases</a> (<a href='https://wandb.me/developer-guide' target=\"_blank\">docs</a>)<br/>Sweep page: <a href='https://wandb.ai/walt_/dose-prediction/sweeps/uui2wa8p' target=\"_blank\">https://wandb.ai/walt_/dose-prediction/sweeps/uui2wa8p</a>"
      ],
      "text/plain": [
       "<IPython.core.display.HTML object>"
      ]
     },
     "metadata": {},
     "output_type": "display_data"
    },
    {
     "data": {
      "text/html": [
       " View project at <a href='https://wandb.ai/walt_/dose-prediction' target=\"_blank\">https://wandb.ai/walt_/dose-prediction</a>"
      ],
      "text/plain": [
       "<IPython.core.display.HTML object>"
      ]
     },
     "metadata": {},
     "output_type": "display_data"
    },
    {
     "data": {
      "text/html": [
       " View sweep at <a href='https://wandb.ai/walt_/dose-prediction/sweeps/uui2wa8p' target=\"_blank\">https://wandb.ai/walt_/dose-prediction/sweeps/uui2wa8p</a>"
      ],
      "text/plain": [
       "<IPython.core.display.HTML object>"
      ]
     },
     "metadata": {},
     "output_type": "display_data"
    },
    {
     "data": {
      "text/html": [
       " View run at <a href='https://wandb.ai/walt_/dose-prediction/runs/xvcn67q3' target=\"_blank\">https://wandb.ai/walt_/dose-prediction/runs/xvcn67q3</a>"
      ],
      "text/plain": [
       "<IPython.core.display.HTML object>"
      ]
     },
     "metadata": {},
     "output_type": "display_data"
    },
    {
     "name": "stdout",
     "output_type": "stream",
     "text": [
      "Epoch 1/20\n",
      "611/611 - 3s - 5ms/step - loss: 0.2966 - mae: 0.2966 - val_loss: 0.2615 - val_mae: 0.2615\n",
      "Epoch 2/20\n",
      "611/611 - 2s - 3ms/step - loss: 0.2286 - mae: 0.2286 - val_loss: 0.2184 - val_mae: 0.2184\n",
      "Epoch 3/20\n",
      "611/611 - 1s - 2ms/step - loss: 0.2093 - mae: 0.2093 - val_loss: 0.2039 - val_mae: 0.2039\n",
      "Epoch 4/20\n",
      "611/611 - 2s - 2ms/step - loss: 0.1991 - mae: 0.1991 - val_loss: 0.1994 - val_mae: 0.1994\n",
      "Epoch 5/20\n",
      "611/611 - 1s - 2ms/step - loss: 0.1942 - mae: 0.1942 - val_loss: 0.1969 - val_mae: 0.1969\n",
      "Epoch 6/20\n",
      "611/611 - 1s - 2ms/step - loss: 0.1991 - mae: 0.1991 - val_loss: 0.1941 - val_mae: 0.1941\n",
      "Epoch 7/20\n",
      "611/611 - 1s - 2ms/step - loss: 0.1950 - mae: 0.1950 - val_loss: 0.2048 - val_mae: 0.2048\n",
      "Epoch 8/20\n",
      "611/611 - 1s - 2ms/step - loss: 0.1949 - mae: 0.1949 - val_loss: 0.1870 - val_mae: 0.1870\n",
      "Epoch 9/20\n",
      "611/611 - 1s - 2ms/step - loss: 0.1935 - mae: 0.1935 - val_loss: 0.1926 - val_mae: 0.1926\n",
      "Epoch 10/20\n",
      "611/611 - 1s - 2ms/step - loss: 0.1930 - mae: 0.1930 - val_loss: 0.1969 - val_mae: 0.1969\n",
      "Epoch 11/20\n",
      "611/611 - 1s - 2ms/step - loss: 0.1922 - mae: 0.1922 - val_loss: 0.1917 - val_mae: 0.1917\n",
      "Epoch 12/20\n",
      "611/611 - 1s - 2ms/step - loss: 0.1935 - mae: 0.1935 - val_loss: 0.1915 - val_mae: 0.1915\n",
      "Epoch 13/20\n",
      "611/611 - 1s - 2ms/step - loss: 0.1923 - mae: 0.1923 - val_loss: 0.2016 - val_mae: 0.2016\n",
      "Epoch 14/20\n",
      "611/611 - 1s - 2ms/step - loss: 0.1880 - mae: 0.1880 - val_loss: 0.1937 - val_mae: 0.1937\n",
      "Epoch 15/20\n",
      "611/611 - 2s - 3ms/step - loss: 0.1944 - mae: 0.1944 - val_loss: 0.1893 - val_mae: 0.1893\n",
      "Epoch 16/20\n",
      "611/611 - 1s - 2ms/step - loss: 0.1885 - mae: 0.1885 - val_loss: 0.1872 - val_mae: 0.1872\n",
      "Epoch 17/20\n",
      "611/611 - 2s - 3ms/step - loss: 0.1887 - mae: 0.1887 - val_loss: 0.2057 - val_mae: 0.2057\n",
      "Epoch 18/20\n",
      "611/611 - 3s - 4ms/step - loss: 0.1890 - mae: 0.1890 - val_loss: 0.1893 - val_mae: 0.1893\n",
      "Epoch 19/20\n",
      "611/611 - 1s - 2ms/step - loss: 0.1918 - mae: 0.1918 - val_loss: 0.1926 - val_mae: 0.1926\n",
      "Epoch 20/20\n",
      "611/611 - 1s - 2ms/step - loss: 0.1899 - mae: 0.1899 - val_loss: 0.1881 - val_mae: 0.1881\n",
      "\u001b[1m44/44\u001b[0m \u001b[32m━━━━━━━━━━━━━━━━━━━━\u001b[0m\u001b[37m\u001b[0m \u001b[1m0s\u001b[0m 4ms/step\n"
     ]
    },
    {
     "data": {
      "text/html": [
       "\n",
       "    <style>\n",
       "        .wandb-row {\n",
       "            display: flex;\n",
       "            flex-direction: row;\n",
       "            flex-wrap: wrap;\n",
       "            justify-content: flex-start;\n",
       "            width: 100%;\n",
       "        }\n",
       "        .wandb-col {\n",
       "            display: flex;\n",
       "            flex-direction: column;\n",
       "            flex-basis: 100%;\n",
       "            flex: 1;\n",
       "            padding: 10px;\n",
       "        }\n",
       "    </style>\n",
       "<div class=\"wandb-row\"><div class=\"wandb-col\"><h3>Run history:</h3><br/><table class=\"wandb\"><tr><td>Max Absolute Error (Test)</td><td>▁</td></tr><tr><td>Mean Absolute Error (Test)</td><td>▁</td></tr><tr><td>R²</td><td>▁</td></tr><tr><td>Test Loss</td><td>▁</td></tr><tr><td>Test MAE</td><td>▁</td></tr><tr><td>epoch</td><td>▁▁▂▂▂▃▃▄▄▄▅▅▅▆▆▇▇▇██</td></tr><tr><td>epoch/epoch</td><td>▁▁▂▂▂▃▃▄▄▄▅▅▅▆▆▇▇▇██</td></tr><tr><td>epoch/learning_rate</td><td>▁▁▁▁▁▁▁▁▁▁▁▁▁▁▁▁▁▁▁▁</td></tr><tr><td>epoch/loss</td><td>█▄▂▂▁▂▁▁▁▁▁▁▁▁▁▁▁▁▁▁</td></tr><tr><td>epoch/mae</td><td>█▄▂▂▁▂▁▁▁▁▁▁▁▁▁▁▁▁▁▁</td></tr><tr><td>epoch/val_loss</td><td>█▄▃▂▂▂▃▁▂▂▁▁▂▂▁▁▃▁▂▁</td></tr><tr><td>epoch/val_mae</td><td>█▄▃▂▂▂▃▁▂▂▁▁▂▂▁▁▃▁▂▁</td></tr><tr><td>train_loss</td><td>█▄▂▂▁▂▁▁▁▁▁▁▁▁▁▁▁▁▁▁</td></tr><tr><td>train_mae</td><td>█▄▂▂▁▂▁▁▁▁▁▁▁▁▁▁▁▁▁▁</td></tr><tr><td>val_loss</td><td>█▄▃▂▂▂▃▁▂▂▁▁▂▂▁▁▃▁▂▁</td></tr><tr><td>val_mae</td><td>█▄▃▂▂▂▃▁▂▂▁▁▂▂▁▁▃▁▂▁</td></tr></table><br/></div><div class=\"wandb-col\"><h3>Run summary:</h3><br/><table class=\"wandb\"><tr><td>Max Absolute Error (Test)</td><td>1.03283</td></tr><tr><td>Mean Absolute Error (Test)</td><td>0.18043</td></tr><tr><td>R²</td><td>0.32801</td></tr><tr><td>Test Loss</td><td>0.18043</td></tr><tr><td>Test MAE</td><td>0.18043</td></tr><tr><td>epoch</td><td>19</td></tr><tr><td>epoch/epoch</td><td>19</td></tr><tr><td>epoch/learning_rate</td><td>0.01</td></tr><tr><td>epoch/loss</td><td>0.18992</td></tr><tr><td>epoch/mae</td><td>0.18992</td></tr><tr><td>epoch/val_loss</td><td>0.1881</td></tr><tr><td>epoch/val_mae</td><td>0.1881</td></tr><tr><td>train_loss</td><td>0.18992</td></tr><tr><td>train_mae</td><td>0.18992</td></tr><tr><td>val_loss</td><td>0.1881</td></tr><tr><td>val_mae</td><td>0.1881</td></tr></table><br/></div></div>"
      ],
      "text/plain": [
       "<IPython.core.display.HTML object>"
      ]
     },
     "metadata": {},
     "output_type": "display_data"
    },
    {
     "data": {
      "text/html": [
       " View run <strong style=\"color:#cdcd00\">upbeat-sweep-3</strong> at: <a href='https://wandb.ai/walt_/dose-prediction/runs/xvcn67q3' target=\"_blank\">https://wandb.ai/walt_/dose-prediction/runs/xvcn67q3</a><br/> View project at: <a href='https://wandb.ai/walt_/dose-prediction' target=\"_blank\">https://wandb.ai/walt_/dose-prediction</a><br/>Synced 5 W&B file(s), 0 media file(s), 40 artifact file(s) and 0 other file(s)"
      ],
      "text/plain": [
       "<IPython.core.display.HTML object>"
      ]
     },
     "metadata": {},
     "output_type": "display_data"
    },
    {
     "data": {
      "text/html": [
       "Find logs at: <code>./wandb/run-20241124_002812-xvcn67q3/logs</code>"
      ],
      "text/plain": [
       "<IPython.core.display.HTML object>"
      ]
     },
     "metadata": {},
     "output_type": "display_data"
    },
    {
     "name": "stderr",
     "output_type": "stream",
     "text": [
      "\u001b[34m\u001b[1mwandb\u001b[0m: Agent Starting Run: 1pz0e1q7 with config:\n",
      "\u001b[34m\u001b[1mwandb\u001b[0m: \tactivation_function: tanh\n",
      "\u001b[34m\u001b[1mwandb\u001b[0m: \tbatch_size: 16\n",
      "\u001b[34m\u001b[1mwandb\u001b[0m: \tepochs: 25\n",
      "\u001b[34m\u001b[1mwandb\u001b[0m: \tinput_dim: 4\n",
      "\u001b[34m\u001b[1mwandb\u001b[0m: \tlearning_rate: 0.001\n",
      "\u001b[34m\u001b[1mwandb\u001b[0m: \tloss_function: mean_absolute_error\n"
     ]
    },
    {
     "data": {
      "text/html": [
       "Tracking run with wandb version 0.18.7"
      ],
      "text/plain": [
       "<IPython.core.display.HTML object>"
      ]
     },
     "metadata": {},
     "output_type": "display_data"
    },
    {
     "data": {
      "text/html": [
       "Run data is saved locally in <code>/home/walt/FociNet/wandb/run-20241124_002853-1pz0e1q7</code>"
      ],
      "text/plain": [
       "<IPython.core.display.HTML object>"
      ]
     },
     "metadata": {},
     "output_type": "display_data"
    },
    {
     "data": {
      "text/html": [
       "Syncing run <strong><a href='https://wandb.ai/walt_/dose-prediction/runs/1pz0e1q7' target=\"_blank\">twilight-sweep-4</a></strong> to <a href='https://wandb.ai/walt_/dose-prediction' target=\"_blank\">Weights & Biases</a> (<a href='https://wandb.me/developer-guide' target=\"_blank\">docs</a>)<br/>Sweep page: <a href='https://wandb.ai/walt_/dose-prediction/sweeps/uui2wa8p' target=\"_blank\">https://wandb.ai/walt_/dose-prediction/sweeps/uui2wa8p</a>"
      ],
      "text/plain": [
       "<IPython.core.display.HTML object>"
      ]
     },
     "metadata": {},
     "output_type": "display_data"
    },
    {
     "data": {
      "text/html": [
       " View project at <a href='https://wandb.ai/walt_/dose-prediction' target=\"_blank\">https://wandb.ai/walt_/dose-prediction</a>"
      ],
      "text/plain": [
       "<IPython.core.display.HTML object>"
      ]
     },
     "metadata": {},
     "output_type": "display_data"
    },
    {
     "data": {
      "text/html": [
       " View sweep at <a href='https://wandb.ai/walt_/dose-prediction/sweeps/uui2wa8p' target=\"_blank\">https://wandb.ai/walt_/dose-prediction/sweeps/uui2wa8p</a>"
      ],
      "text/plain": [
       "<IPython.core.display.HTML object>"
      ]
     },
     "metadata": {},
     "output_type": "display_data"
    },
    {
     "data": {
      "text/html": [
       " View run at <a href='https://wandb.ai/walt_/dose-prediction/runs/1pz0e1q7' target=\"_blank\">https://wandb.ai/walt_/dose-prediction/runs/1pz0e1q7</a>"
      ],
      "text/plain": [
       "<IPython.core.display.HTML object>"
      ]
     },
     "metadata": {},
     "output_type": "display_data"
    },
    {
     "name": "stdout",
     "output_type": "stream",
     "text": [
      "Epoch 1/25\n",
      "611/611 - 3s - 5ms/step - loss: 0.2925 - mae: 0.2925 - val_loss: 0.2820 - val_mae: 0.2820\n",
      "Epoch 2/25\n",
      "611/611 - 1s - 2ms/step - loss: 0.2780 - mae: 0.2780 - val_loss: 0.2731 - val_mae: 0.2731\n",
      "Epoch 3/25\n",
      "611/611 - 1s - 2ms/step - loss: 0.2708 - mae: 0.2708 - val_loss: 0.2682 - val_mae: 0.2682\n",
      "Epoch 4/25\n",
      "611/611 - 1s - 2ms/step - loss: 0.2660 - mae: 0.2660 - val_loss: 0.2580 - val_mae: 0.2580\n",
      "Epoch 5/25\n",
      "611/611 - 1s - 2ms/step - loss: 0.2636 - mae: 0.2636 - val_loss: 0.2578 - val_mae: 0.2578\n",
      "Epoch 6/25\n",
      "611/611 - 1s - 2ms/step - loss: 0.2613 - mae: 0.2613 - val_loss: 0.2654 - val_mae: 0.2654\n",
      "Epoch 7/25\n",
      "611/611 - 1s - 2ms/step - loss: 0.2609 - mae: 0.2609 - val_loss: 0.2561 - val_mae: 0.2561\n",
      "Epoch 8/25\n",
      "611/611 - 1s - 2ms/step - loss: 0.2599 - mae: 0.2599 - val_loss: 0.2586 - val_mae: 0.2586\n",
      "Epoch 9/25\n",
      "611/611 - 1s - 2ms/step - loss: 0.2593 - mae: 0.2593 - val_loss: 0.2620 - val_mae: 0.2620\n",
      "Epoch 10/25\n",
      "611/611 - 1s - 2ms/step - loss: 0.2546 - mae: 0.2546 - val_loss: 0.2457 - val_mae: 0.2457\n",
      "Epoch 11/25\n",
      "611/611 - 1s - 2ms/step - loss: 0.2413 - mae: 0.2413 - val_loss: 0.2298 - val_mae: 0.2298\n",
      "Epoch 12/25\n",
      "611/611 - 2s - 2ms/step - loss: 0.2245 - mae: 0.2245 - val_loss: 0.2270 - val_mae: 0.2270\n",
      "Epoch 13/25\n",
      "611/611 - 1s - 2ms/step - loss: 0.2168 - mae: 0.2168 - val_loss: 0.2170 - val_mae: 0.2170\n",
      "Epoch 14/25\n",
      "611/611 - 1s - 2ms/step - loss: 0.2125 - mae: 0.2125 - val_loss: 0.2120 - val_mae: 0.2120\n",
      "Epoch 15/25\n",
      "611/611 - 1s - 2ms/step - loss: 0.2089 - mae: 0.2089 - val_loss: 0.2108 - val_mae: 0.2108\n",
      "Epoch 16/25\n",
      "611/611 - 1s - 2ms/step - loss: 0.2056 - mae: 0.2056 - val_loss: 0.2064 - val_mae: 0.2064\n",
      "Epoch 17/25\n",
      "611/611 - 1s - 2ms/step - loss: 0.2024 - mae: 0.2024 - val_loss: 0.2075 - val_mae: 0.2075\n",
      "Epoch 18/25\n",
      "611/611 - 1s - 2ms/step - loss: 0.1994 - mae: 0.1994 - val_loss: 0.2036 - val_mae: 0.2036\n",
      "Epoch 19/25\n",
      "611/611 - 1s - 2ms/step - loss: 0.1974 - mae: 0.1974 - val_loss: 0.1992 - val_mae: 0.1992\n",
      "Epoch 20/25\n",
      "611/611 - 1s - 2ms/step - loss: 0.1954 - mae: 0.1954 - val_loss: 0.1997 - val_mae: 0.1997\n",
      "Epoch 21/25\n",
      "611/611 - 2s - 3ms/step - loss: 0.1938 - mae: 0.1938 - val_loss: 0.2023 - val_mae: 0.2023\n",
      "Epoch 22/25\n",
      "611/611 - 2s - 4ms/step - loss: 0.1919 - mae: 0.1919 - val_loss: 0.1971 - val_mae: 0.1971\n",
      "Epoch 23/25\n",
      "611/611 - 2s - 3ms/step - loss: 0.1911 - mae: 0.1911 - val_loss: 0.1974 - val_mae: 0.1974\n",
      "Epoch 24/25\n",
      "611/611 - 1s - 2ms/step - loss: 0.1896 - mae: 0.1896 - val_loss: 0.1943 - val_mae: 0.1943\n",
      "Epoch 25/25\n",
      "611/611 - 2s - 3ms/step - loss: 0.1890 - mae: 0.1890 - val_loss: 0.1970 - val_mae: 0.1970\n",
      "\u001b[1m44/44\u001b[0m \u001b[32m━━━━━━━━━━━━━━━━━━━━\u001b[0m\u001b[37m\u001b[0m \u001b[1m0s\u001b[0m 4ms/step\n"
     ]
    },
    {
     "data": {
      "text/html": [
       "\n",
       "    <style>\n",
       "        .wandb-row {\n",
       "            display: flex;\n",
       "            flex-direction: row;\n",
       "            flex-wrap: wrap;\n",
       "            justify-content: flex-start;\n",
       "            width: 100%;\n",
       "        }\n",
       "        .wandb-col {\n",
       "            display: flex;\n",
       "            flex-direction: column;\n",
       "            flex-basis: 100%;\n",
       "            flex: 1;\n",
       "            padding: 10px;\n",
       "        }\n",
       "    </style>\n",
       "<div class=\"wandb-row\"><div class=\"wandb-col\"><h3>Run history:</h3><br/><table class=\"wandb\"><tr><td>Max Absolute Error (Test)</td><td>▁</td></tr><tr><td>Mean Absolute Error (Test)</td><td>▁</td></tr><tr><td>R²</td><td>▁</td></tr><tr><td>Test Loss</td><td>▁</td></tr><tr><td>Test MAE</td><td>▁</td></tr><tr><td>epoch</td><td>▁▁▂▂▂▂▃▃▃▄▄▄▅▅▅▅▆▆▆▇▇▇▇██</td></tr><tr><td>epoch/epoch</td><td>▁▁▂▂▂▂▃▃▃▄▄▄▅▅▅▅▆▆▆▇▇▇▇██</td></tr><tr><td>epoch/learning_rate</td><td>▁▁▁▁▁▁▁▁▁▁▁▁▁▁▁▁▁▁▁▁▁▁▁▁▁</td></tr><tr><td>epoch/loss</td><td>█▇▇▆▆▆▆▆▆▅▅▃▃▃▂▂▂▂▂▁▁▁▁▁▁</td></tr><tr><td>epoch/mae</td><td>█▇▇▆▆▆▆▆▆▅▅▃▃▃▂▂▂▂▂▁▁▁▁▁▁</td></tr><tr><td>epoch/val_loss</td><td>█▇▇▆▆▇▆▆▆▅▄▄▃▂▂▂▂▂▁▁▂▁▁▁▁</td></tr><tr><td>epoch/val_mae</td><td>█▇▇▆▆▇▆▆▆▅▄▄▃▂▂▂▂▂▁▁▂▁▁▁▁</td></tr><tr><td>train_loss</td><td>█▇▇▆▆▆▆▆▆▅▅▃▃▃▂▂▂▂▂▁▁▁▁▁▁</td></tr><tr><td>train_mae</td><td>█▇▇▆▆▆▆▆▆▅▅▃▃▃▂▂▂▂▂▁▁▁▁▁▁</td></tr><tr><td>val_loss</td><td>█▇▇▆▆▇▆▆▆▅▄▄▃▂▂▂▂▂▁▁▂▁▁▁▁</td></tr><tr><td>val_mae</td><td>█▇▇▆▆▇▆▆▆▅▄▄▃▂▂▂▂▂▁▁▂▁▁▁▁</td></tr></table><br/></div><div class=\"wandb-col\"><h3>Run summary:</h3><br/><table class=\"wandb\"><tr><td>Max Absolute Error (Test)</td><td>1.02782</td></tr><tr><td>Mean Absolute Error (Test)</td><td>0.19045</td></tr><tr><td>R²</td><td>0.40035</td></tr><tr><td>Test Loss</td><td>0.19045</td></tr><tr><td>Test MAE</td><td>0.19045</td></tr><tr><td>epoch</td><td>24</td></tr><tr><td>epoch/epoch</td><td>24</td></tr><tr><td>epoch/learning_rate</td><td>0.001</td></tr><tr><td>epoch/loss</td><td>0.18896</td></tr><tr><td>epoch/mae</td><td>0.18896</td></tr><tr><td>epoch/val_loss</td><td>0.19703</td></tr><tr><td>epoch/val_mae</td><td>0.19703</td></tr><tr><td>train_loss</td><td>0.18896</td></tr><tr><td>train_mae</td><td>0.18896</td></tr><tr><td>val_loss</td><td>0.19703</td></tr><tr><td>val_mae</td><td>0.19703</td></tr></table><br/></div></div>"
      ],
      "text/plain": [
       "<IPython.core.display.HTML object>"
      ]
     },
     "metadata": {},
     "output_type": "display_data"
    },
    {
     "data": {
      "text/html": [
       " View run <strong style=\"color:#cdcd00\">twilight-sweep-4</strong> at: <a href='https://wandb.ai/walt_/dose-prediction/runs/1pz0e1q7' target=\"_blank\">https://wandb.ai/walt_/dose-prediction/runs/1pz0e1q7</a><br/> View project at: <a href='https://wandb.ai/walt_/dose-prediction' target=\"_blank\">https://wandb.ai/walt_/dose-prediction</a><br/>Synced 5 W&B file(s), 0 media file(s), 50 artifact file(s) and 0 other file(s)"
      ],
      "text/plain": [
       "<IPython.core.display.HTML object>"
      ]
     },
     "metadata": {},
     "output_type": "display_data"
    },
    {
     "data": {
      "text/html": [
       "Find logs at: <code>./wandb/run-20241124_002853-1pz0e1q7/logs</code>"
      ],
      "text/plain": [
       "<IPython.core.display.HTML object>"
      ]
     },
     "metadata": {},
     "output_type": "display_data"
    },
    {
     "name": "stderr",
     "output_type": "stream",
     "text": [
      "\u001b[34m\u001b[1mwandb\u001b[0m: Agent Starting Run: dddskat2 with config:\n",
      "\u001b[34m\u001b[1mwandb\u001b[0m: \tactivation_function: tanh\n",
      "\u001b[34m\u001b[1mwandb\u001b[0m: \tbatch_size: 16\n",
      "\u001b[34m\u001b[1mwandb\u001b[0m: \tepochs: 25\n",
      "\u001b[34m\u001b[1mwandb\u001b[0m: \tinput_dim: 4\n",
      "\u001b[34m\u001b[1mwandb\u001b[0m: \tlearning_rate: 0.005\n",
      "\u001b[34m\u001b[1mwandb\u001b[0m: \tloss_function: mean_absolute_error\n"
     ]
    },
    {
     "data": {
      "text/html": [
       "Tracking run with wandb version 0.18.7"
      ],
      "text/plain": [
       "<IPython.core.display.HTML object>"
      ]
     },
     "metadata": {},
     "output_type": "display_data"
    },
    {
     "data": {
      "text/html": [
       "Run data is saved locally in <code>/home/walt/FociNet/wandb/run-20241124_002939-dddskat2</code>"
      ],
      "text/plain": [
       "<IPython.core.display.HTML object>"
      ]
     },
     "metadata": {},
     "output_type": "display_data"
    },
    {
     "data": {
      "text/html": [
       "Syncing run <strong><a href='https://wandb.ai/walt_/dose-prediction/runs/dddskat2' target=\"_blank\">fragrant-sweep-5</a></strong> to <a href='https://wandb.ai/walt_/dose-prediction' target=\"_blank\">Weights & Biases</a> (<a href='https://wandb.me/developer-guide' target=\"_blank\">docs</a>)<br/>Sweep page: <a href='https://wandb.ai/walt_/dose-prediction/sweeps/uui2wa8p' target=\"_blank\">https://wandb.ai/walt_/dose-prediction/sweeps/uui2wa8p</a>"
      ],
      "text/plain": [
       "<IPython.core.display.HTML object>"
      ]
     },
     "metadata": {},
     "output_type": "display_data"
    },
    {
     "data": {
      "text/html": [
       " View project at <a href='https://wandb.ai/walt_/dose-prediction' target=\"_blank\">https://wandb.ai/walt_/dose-prediction</a>"
      ],
      "text/plain": [
       "<IPython.core.display.HTML object>"
      ]
     },
     "metadata": {},
     "output_type": "display_data"
    },
    {
     "data": {
      "text/html": [
       " View sweep at <a href='https://wandb.ai/walt_/dose-prediction/sweeps/uui2wa8p' target=\"_blank\">https://wandb.ai/walt_/dose-prediction/sweeps/uui2wa8p</a>"
      ],
      "text/plain": [
       "<IPython.core.display.HTML object>"
      ]
     },
     "metadata": {},
     "output_type": "display_data"
    },
    {
     "data": {
      "text/html": [
       " View run at <a href='https://wandb.ai/walt_/dose-prediction/runs/dddskat2' target=\"_blank\">https://wandb.ai/walt_/dose-prediction/runs/dddskat2</a>"
      ],
      "text/plain": [
       "<IPython.core.display.HTML object>"
      ]
     },
     "metadata": {},
     "output_type": "display_data"
    },
    {
     "name": "stdout",
     "output_type": "stream",
     "text": [
      "Epoch 1/25\n",
      "611/611 - 3s - 5ms/step - loss: 0.2933 - mae: 0.2933 - val_loss: 0.2703 - val_mae: 0.2703\n",
      "Epoch 2/25\n",
      "611/611 - 2s - 3ms/step - loss: 0.2504 - mae: 0.2504 - val_loss: 0.2441 - val_mae: 0.2441\n",
      "Epoch 3/25\n",
      "611/611 - 1s - 2ms/step - loss: 0.2162 - mae: 0.2162 - val_loss: 0.2213 - val_mae: 0.2213\n",
      "Epoch 4/25\n",
      "611/611 - 1s - 2ms/step - loss: 0.2036 - mae: 0.2036 - val_loss: 0.2023 - val_mae: 0.2023\n",
      "Epoch 5/25\n",
      "611/611 - 1s - 2ms/step - loss: 0.1984 - mae: 0.1984 - val_loss: 0.1961 - val_mae: 0.1961\n",
      "Epoch 6/25\n",
      "611/611 - 1s - 2ms/step - loss: 0.1937 - mae: 0.1937 - val_loss: 0.1955 - val_mae: 0.1955\n",
      "Epoch 7/25\n",
      "611/611 - 1s - 2ms/step - loss: 0.1915 - mae: 0.1915 - val_loss: 0.1911 - val_mae: 0.1911\n",
      "Epoch 8/25\n",
      "611/611 - 1s - 2ms/step - loss: 0.1903 - mae: 0.1903 - val_loss: 0.1895 - val_mae: 0.1895\n",
      "Epoch 9/25\n",
      "611/611 - 1s - 2ms/step - loss: 0.1920 - mae: 0.1920 - val_loss: 0.1938 - val_mae: 0.1938\n",
      "Epoch 10/25\n",
      "611/611 - 2s - 3ms/step - loss: 0.1892 - mae: 0.1892 - val_loss: 0.1901 - val_mae: 0.1901\n",
      "Epoch 11/25\n",
      "611/611 - 1s - 2ms/step - loss: 0.1878 - mae: 0.1878 - val_loss: 0.1932 - val_mae: 0.1932\n",
      "Epoch 12/25\n",
      "611/611 - 1s - 2ms/step - loss: 0.1868 - mae: 0.1868 - val_loss: 0.2041 - val_mae: 0.2041\n",
      "Epoch 13/25\n",
      "611/611 - 1s - 2ms/step - loss: 0.1890 - mae: 0.1890 - val_loss: 0.1889 - val_mae: 0.1889\n",
      "Epoch 14/25\n",
      "611/611 - 1s - 2ms/step - loss: 0.1848 - mae: 0.1848 - val_loss: 0.1901 - val_mae: 0.1901\n",
      "Epoch 15/25\n",
      "611/611 - 1s - 2ms/step - loss: 0.1887 - mae: 0.1887 - val_loss: 0.1939 - val_mae: 0.1939\n",
      "Epoch 16/25\n",
      "611/611 - 1s - 2ms/step - loss: 0.1871 - mae: 0.1871 - val_loss: 0.1903 - val_mae: 0.1903\n",
      "Epoch 17/25\n",
      "611/611 - 1s - 2ms/step - loss: 0.1849 - mae: 0.1849 - val_loss: 0.1876 - val_mae: 0.1876\n",
      "Epoch 18/25\n",
      "611/611 - 1s - 2ms/step - loss: 0.1856 - mae: 0.1856 - val_loss: 0.1867 - val_mae: 0.1867\n",
      "Epoch 19/25\n",
      "611/611 - 1s - 2ms/step - loss: 0.1842 - mae: 0.1842 - val_loss: 0.1877 - val_mae: 0.1877\n",
      "Epoch 20/25\n",
      "611/611 - 1s - 2ms/step - loss: 0.1823 - mae: 0.1823 - val_loss: 0.1850 - val_mae: 0.1850\n",
      "Epoch 21/25\n",
      "611/611 - 1s - 2ms/step - loss: 0.1814 - mae: 0.1814 - val_loss: 0.1903 - val_mae: 0.1903\n",
      "Epoch 22/25\n",
      "611/611 - 1s - 2ms/step - loss: 0.1786 - mae: 0.1786 - val_loss: 0.1851 - val_mae: 0.1851\n",
      "Epoch 23/25\n",
      "611/611 - 1s - 2ms/step - loss: 0.1799 - mae: 0.1799 - val_loss: 0.1933 - val_mae: 0.1933\n",
      "Epoch 24/25\n",
      "611/611 - 1s - 2ms/step - loss: 0.1841 - mae: 0.1841 - val_loss: 0.1851 - val_mae: 0.1851\n",
      "Epoch 25/25\n",
      "611/611 - 1s - 2ms/step - loss: 0.1810 - mae: 0.1810 - val_loss: 0.1925 - val_mae: 0.1925\n",
      "\u001b[1m44/44\u001b[0m \u001b[32m━━━━━━━━━━━━━━━━━━━━\u001b[0m\u001b[37m\u001b[0m \u001b[1m0s\u001b[0m 4ms/step\n"
     ]
    },
    {
     "data": {
      "text/html": [
       "\n",
       "    <style>\n",
       "        .wandb-row {\n",
       "            display: flex;\n",
       "            flex-direction: row;\n",
       "            flex-wrap: wrap;\n",
       "            justify-content: flex-start;\n",
       "            width: 100%;\n",
       "        }\n",
       "        .wandb-col {\n",
       "            display: flex;\n",
       "            flex-direction: column;\n",
       "            flex-basis: 100%;\n",
       "            flex: 1;\n",
       "            padding: 10px;\n",
       "        }\n",
       "    </style>\n",
       "<div class=\"wandb-row\"><div class=\"wandb-col\"><h3>Run history:</h3><br/><table class=\"wandb\"><tr><td>Max Absolute Error (Test)</td><td>▁</td></tr><tr><td>Mean Absolute Error (Test)</td><td>▁</td></tr><tr><td>R²</td><td>▁</td></tr><tr><td>Test Loss</td><td>▁</td></tr><tr><td>Test MAE</td><td>▁</td></tr><tr><td>epoch</td><td>▁▁▂▂▂▂▃▃▃▄▄▄▅▅▅▅▆▆▆▇▇▇▇██</td></tr><tr><td>epoch/epoch</td><td>▁▁▂▂▂▂▃▃▃▄▄▄▅▅▅▅▆▆▆▇▇▇▇██</td></tr><tr><td>epoch/learning_rate</td><td>▁▁▁▁▁▁▁▁▁▁▁▁▁▁▁▁▁▁▁▁▁▁▁▁▁</td></tr><tr><td>epoch/loss</td><td>█▅▃▃▂▂▂▂▂▂▂▁▂▁▂▂▁▁▁▁▁▁▁▁▁</td></tr><tr><td>epoch/mae</td><td>█▅▃▃▂▂▂▂▂▂▂▁▂▁▂▂▁▁▁▁▁▁▁▁▁</td></tr><tr><td>epoch/val_loss</td><td>█▆▄▂▂▂▁▁▂▁▂▃▁▁▂▁▁▁▁▁▁▁▂▁▂</td></tr><tr><td>epoch/val_mae</td><td>█▆▄▂▂▂▁▁▂▁▂▃▁▁▂▁▁▁▁▁▁▁▂▁▂</td></tr><tr><td>train_loss</td><td>█▅▃▃▂▂▂▂▂▂▂▁▂▁▂▂▁▁▁▁▁▁▁▁▁</td></tr><tr><td>train_mae</td><td>█▅▃▃▂▂▂▂▂▂▂▁▂▁▂▂▁▁▁▁▁▁▁▁▁</td></tr><tr><td>val_loss</td><td>█▆▄▂▂▂▁▁▂▁▂▃▁▁▂▁▁▁▁▁▁▁▂▁▂</td></tr><tr><td>val_mae</td><td>█▆▄▂▂▂▁▁▂▁▂▃▁▁▂▁▁▁▁▁▁▁▂▁▂</td></tr></table><br/></div><div class=\"wandb-col\"><h3>Run summary:</h3><br/><table class=\"wandb\"><tr><td>Max Absolute Error (Test)</td><td>1.00298</td></tr><tr><td>Mean Absolute Error (Test)</td><td>0.17646</td></tr><tr><td>R²</td><td>0.33591</td></tr><tr><td>Test Loss</td><td>0.17646</td></tr><tr><td>Test MAE</td><td>0.17646</td></tr><tr><td>epoch</td><td>24</td></tr><tr><td>epoch/epoch</td><td>24</td></tr><tr><td>epoch/learning_rate</td><td>0.005</td></tr><tr><td>epoch/loss</td><td>0.18101</td></tr><tr><td>epoch/mae</td><td>0.18101</td></tr><tr><td>epoch/val_loss</td><td>0.19248</td></tr><tr><td>epoch/val_mae</td><td>0.19248</td></tr><tr><td>train_loss</td><td>0.18101</td></tr><tr><td>train_mae</td><td>0.18101</td></tr><tr><td>val_loss</td><td>0.19248</td></tr><tr><td>val_mae</td><td>0.19248</td></tr></table><br/></div></div>"
      ],
      "text/plain": [
       "<IPython.core.display.HTML object>"
      ]
     },
     "metadata": {},
     "output_type": "display_data"
    },
    {
     "data": {
      "text/html": [
       " View run <strong style=\"color:#cdcd00\">fragrant-sweep-5</strong> at: <a href='https://wandb.ai/walt_/dose-prediction/runs/dddskat2' target=\"_blank\">https://wandb.ai/walt_/dose-prediction/runs/dddskat2</a><br/> View project at: <a href='https://wandb.ai/walt_/dose-prediction' target=\"_blank\">https://wandb.ai/walt_/dose-prediction</a><br/>Synced 5 W&B file(s), 0 media file(s), 50 artifact file(s) and 0 other file(s)"
      ],
      "text/plain": [
       "<IPython.core.display.HTML object>"
      ]
     },
     "metadata": {},
     "output_type": "display_data"
    },
    {
     "data": {
      "text/html": [
       "Find logs at: <code>./wandb/run-20241124_002939-dddskat2/logs</code>"
      ],
      "text/plain": [
       "<IPython.core.display.HTML object>"
      ]
     },
     "metadata": {},
     "output_type": "display_data"
    },
    {
     "name": "stderr",
     "output_type": "stream",
     "text": [
      "\u001b[34m\u001b[1mwandb\u001b[0m: Sweep Agent: Waiting for job.\n",
      "\u001b[34m\u001b[1mwandb\u001b[0m: Job received.\n",
      "\u001b[34m\u001b[1mwandb\u001b[0m: Agent Starting Run: 3o2rn9nq with config:\n",
      "\u001b[34m\u001b[1mwandb\u001b[0m: \tactivation_function: tanh\n",
      "\u001b[34m\u001b[1mwandb\u001b[0m: \tbatch_size: 16\n",
      "\u001b[34m\u001b[1mwandb\u001b[0m: \tepochs: 25\n",
      "\u001b[34m\u001b[1mwandb\u001b[0m: \tinput_dim: 4\n",
      "\u001b[34m\u001b[1mwandb\u001b[0m: \tlearning_rate: 0.01\n",
      "\u001b[34m\u001b[1mwandb\u001b[0m: \tloss_function: mean_absolute_error\n"
     ]
    },
    {
     "data": {
      "text/html": [
       "Tracking run with wandb version 0.18.7"
      ],
      "text/plain": [
       "<IPython.core.display.HTML object>"
      ]
     },
     "metadata": {},
     "output_type": "display_data"
    },
    {
     "data": {
      "text/html": [
       "Run data is saved locally in <code>/home/walt/FociNet/wandb/run-20241124_003029-3o2rn9nq</code>"
      ],
      "text/plain": [
       "<IPython.core.display.HTML object>"
      ]
     },
     "metadata": {},
     "output_type": "display_data"
    },
    {
     "data": {
      "text/html": [
       "Syncing run <strong><a href='https://wandb.ai/walt_/dose-prediction/runs/3o2rn9nq' target=\"_blank\">lemon-sweep-6</a></strong> to <a href='https://wandb.ai/walt_/dose-prediction' target=\"_blank\">Weights & Biases</a> (<a href='https://wandb.me/developer-guide' target=\"_blank\">docs</a>)<br/>Sweep page: <a href='https://wandb.ai/walt_/dose-prediction/sweeps/uui2wa8p' target=\"_blank\">https://wandb.ai/walt_/dose-prediction/sweeps/uui2wa8p</a>"
      ],
      "text/plain": [
       "<IPython.core.display.HTML object>"
      ]
     },
     "metadata": {},
     "output_type": "display_data"
    },
    {
     "data": {
      "text/html": [
       " View project at <a href='https://wandb.ai/walt_/dose-prediction' target=\"_blank\">https://wandb.ai/walt_/dose-prediction</a>"
      ],
      "text/plain": [
       "<IPython.core.display.HTML object>"
      ]
     },
     "metadata": {},
     "output_type": "display_data"
    },
    {
     "data": {
      "text/html": [
       " View sweep at <a href='https://wandb.ai/walt_/dose-prediction/sweeps/uui2wa8p' target=\"_blank\">https://wandb.ai/walt_/dose-prediction/sweeps/uui2wa8p</a>"
      ],
      "text/plain": [
       "<IPython.core.display.HTML object>"
      ]
     },
     "metadata": {},
     "output_type": "display_data"
    },
    {
     "data": {
      "text/html": [
       " View run at <a href='https://wandb.ai/walt_/dose-prediction/runs/3o2rn9nq' target=\"_blank\">https://wandb.ai/walt_/dose-prediction/runs/3o2rn9nq</a>"
      ],
      "text/plain": [
       "<IPython.core.display.HTML object>"
      ]
     },
     "metadata": {},
     "output_type": "display_data"
    },
    {
     "name": "stdout",
     "output_type": "stream",
     "text": [
      "Epoch 1/25\n",
      "611/611 - 3s - 5ms/step - loss: 0.2934 - mae: 0.2934 - val_loss: 0.2828 - val_mae: 0.2828\n",
      "Epoch 2/25\n",
      "611/611 - 1s - 2ms/step - loss: 0.2323 - mae: 0.2323 - val_loss: 0.2152 - val_mae: 0.2152\n",
      "Epoch 3/25\n",
      "611/611 - 1s - 2ms/step - loss: 0.2095 - mae: 0.2095 - val_loss: 0.2030 - val_mae: 0.2030\n",
      "Epoch 4/25\n",
      "611/611 - 1s - 2ms/step - loss: 0.2013 - mae: 0.2013 - val_loss: 0.2619 - val_mae: 0.2619\n",
      "Epoch 5/25\n",
      "611/611 - 1s - 2ms/step - loss: 0.1977 - mae: 0.1977 - val_loss: 0.1998 - val_mae: 0.1998\n",
      "Epoch 6/25\n",
      "611/611 - 2s - 3ms/step - loss: 0.1973 - mae: 0.1973 - val_loss: 0.1918 - val_mae: 0.1918\n",
      "Epoch 7/25\n",
      "611/611 - 2s - 3ms/step - loss: 0.1942 - mae: 0.1942 - val_loss: 0.1893 - val_mae: 0.1893\n",
      "Epoch 8/25\n",
      "611/611 - 1s - 2ms/step - loss: 0.1939 - mae: 0.1939 - val_loss: 0.1945 - val_mae: 0.1945\n",
      "Epoch 9/25\n",
      "611/611 - 1s - 2ms/step - loss: 0.1890 - mae: 0.1890 - val_loss: 0.1919 - val_mae: 0.1919\n",
      "Epoch 10/25\n",
      "611/611 - 1s - 2ms/step - loss: 0.1875 - mae: 0.1875 - val_loss: 0.2036 - val_mae: 0.2036\n",
      "Epoch 11/25\n",
      "611/611 - 1s - 2ms/step - loss: 0.1899 - mae: 0.1899 - val_loss: 0.1865 - val_mae: 0.1865\n",
      "Epoch 12/25\n",
      "611/611 - 1s - 2ms/step - loss: 0.1901 - mae: 0.1901 - val_loss: 0.1877 - val_mae: 0.1877\n",
      "Epoch 13/25\n",
      "611/611 - 1s - 2ms/step - loss: 0.1886 - mae: 0.1886 - val_loss: 0.1913 - val_mae: 0.1913\n",
      "Epoch 14/25\n",
      "611/611 - 1s - 2ms/step - loss: 0.1946 - mae: 0.1946 - val_loss: 0.1910 - val_mae: 0.1910\n",
      "Epoch 15/25\n",
      "611/611 - 1s - 2ms/step - loss: 0.1875 - mae: 0.1875 - val_loss: 0.1858 - val_mae: 0.1858\n",
      "Epoch 16/25\n",
      "611/611 - 1s - 2ms/step - loss: 0.1903 - mae: 0.1903 - val_loss: 0.1919 - val_mae: 0.1919\n",
      "Epoch 17/25\n",
      "611/611 - 2s - 3ms/step - loss: 0.1980 - mae: 0.1980 - val_loss: 0.2037 - val_mae: 0.2037\n",
      "Epoch 18/25\n",
      "611/611 - 1s - 2ms/step - loss: 0.1935 - mae: 0.1935 - val_loss: 0.2249 - val_mae: 0.2249\n",
      "Epoch 19/25\n",
      "611/611 - 1s - 2ms/step - loss: 0.1867 - mae: 0.1867 - val_loss: 0.1887 - val_mae: 0.1887\n",
      "Epoch 20/25\n",
      "611/611 - 1s - 2ms/step - loss: 0.1946 - mae: 0.1946 - val_loss: 0.1863 - val_mae: 0.1863\n",
      "Epoch 21/25\n",
      "611/611 - 1s - 2ms/step - loss: 0.1901 - mae: 0.1901 - val_loss: 0.1855 - val_mae: 0.1855\n",
      "Epoch 22/25\n",
      "611/611 - 1s - 2ms/step - loss: 0.1903 - mae: 0.1903 - val_loss: 0.1878 - val_mae: 0.1878\n",
      "Epoch 23/25\n",
      "611/611 - 1s - 2ms/step - loss: 0.1885 - mae: 0.1885 - val_loss: 0.1961 - val_mae: 0.1961\n",
      "Epoch 24/25\n",
      "611/611 - 1s - 2ms/step - loss: 0.1939 - mae: 0.1939 - val_loss: 0.2041 - val_mae: 0.2041\n",
      "Epoch 25/25\n",
      "611/611 - 1s - 2ms/step - loss: 0.1837 - mae: 0.1837 - val_loss: 0.1853 - val_mae: 0.1853\n",
      "\u001b[1m44/44\u001b[0m \u001b[32m━━━━━━━━━━━━━━━━━━━━\u001b[0m\u001b[37m\u001b[0m \u001b[1m0s\u001b[0m 4ms/step\n"
     ]
    },
    {
     "data": {
      "text/html": [
       "\n",
       "    <style>\n",
       "        .wandb-row {\n",
       "            display: flex;\n",
       "            flex-direction: row;\n",
       "            flex-wrap: wrap;\n",
       "            justify-content: flex-start;\n",
       "            width: 100%;\n",
       "        }\n",
       "        .wandb-col {\n",
       "            display: flex;\n",
       "            flex-direction: column;\n",
       "            flex-basis: 100%;\n",
       "            flex: 1;\n",
       "            padding: 10px;\n",
       "        }\n",
       "    </style>\n",
       "<div class=\"wandb-row\"><div class=\"wandb-col\"><h3>Run history:</h3><br/><table class=\"wandb\"><tr><td>Max Absolute Error (Test)</td><td>▁</td></tr><tr><td>Mean Absolute Error (Test)</td><td>▁</td></tr><tr><td>R²</td><td>▁</td></tr><tr><td>Test Loss</td><td>▁</td></tr><tr><td>Test MAE</td><td>▁</td></tr><tr><td>epoch</td><td>▁▁▂▂▂▂▃▃▃▄▄▄▅▅▅▅▆▆▆▇▇▇▇██</td></tr><tr><td>epoch/epoch</td><td>▁▁▂▂▂▂▃▃▃▄▄▄▅▅▅▅▆▆▆▇▇▇▇██</td></tr><tr><td>epoch/learning_rate</td><td>▁▁▁▁▁▁▁▁▁▁▁▁▁▁▁▁▁▁▁▁▁▁▁▁▁</td></tr><tr><td>epoch/loss</td><td>█▄▃▂▂▂▂▂▁▁▁▁▁▂▁▁▂▂▁▂▁▁▁▂▁</td></tr><tr><td>epoch/mae</td><td>█▄▃▂▂▂▂▂▁▁▁▁▁▂▁▁▂▂▁▂▁▁▁▂▁</td></tr><tr><td>epoch/val_loss</td><td>█▃▂▆▂▁▁▂▁▂▁▁▁▁▁▁▂▄▁▁▁▁▂▂▁</td></tr><tr><td>epoch/val_mae</td><td>█▃▂▆▂▁▁▂▁▂▁▁▁▁▁▁▂▄▁▁▁▁▂▂▁</td></tr><tr><td>train_loss</td><td>█▄▃▂▂▂▂▂▁▁▁▁▁▂▁▁▂▂▁▂▁▁▁▂▁</td></tr><tr><td>train_mae</td><td>█▄▃▂▂▂▂▂▁▁▁▁▁▂▁▁▂▂▁▂▁▁▁▂▁</td></tr><tr><td>val_loss</td><td>█▃▂▆▂▁▁▂▁▂▁▁▁▁▁▁▂▄▁▁▁▁▂▂▁</td></tr><tr><td>val_mae</td><td>█▃▂▆▂▁▁▂▁▂▁▁▁▁▁▁▂▄▁▁▁▁▂▂▁</td></tr></table><br/></div><div class=\"wandb-col\"><h3>Run summary:</h3><br/><table class=\"wandb\"><tr><td>Max Absolute Error (Test)</td><td>1.00535</td></tr><tr><td>Mean Absolute Error (Test)</td><td>0.16655</td></tr><tr><td>R²</td><td>0.35035</td></tr><tr><td>Test Loss</td><td>0.16655</td></tr><tr><td>Test MAE</td><td>0.16655</td></tr><tr><td>epoch</td><td>24</td></tr><tr><td>epoch/epoch</td><td>24</td></tr><tr><td>epoch/learning_rate</td><td>0.01</td></tr><tr><td>epoch/loss</td><td>0.18366</td></tr><tr><td>epoch/mae</td><td>0.18366</td></tr><tr><td>epoch/val_loss</td><td>0.18535</td></tr><tr><td>epoch/val_mae</td><td>0.18535</td></tr><tr><td>train_loss</td><td>0.18366</td></tr><tr><td>train_mae</td><td>0.18366</td></tr><tr><td>val_loss</td><td>0.18535</td></tr><tr><td>val_mae</td><td>0.18535</td></tr></table><br/></div></div>"
      ],
      "text/plain": [
       "<IPython.core.display.HTML object>"
      ]
     },
     "metadata": {},
     "output_type": "display_data"
    },
    {
     "data": {
      "text/html": [
       " View run <strong style=\"color:#cdcd00\">lemon-sweep-6</strong> at: <a href='https://wandb.ai/walt_/dose-prediction/runs/3o2rn9nq' target=\"_blank\">https://wandb.ai/walt_/dose-prediction/runs/3o2rn9nq</a><br/> View project at: <a href='https://wandb.ai/walt_/dose-prediction' target=\"_blank\">https://wandb.ai/walt_/dose-prediction</a><br/>Synced 5 W&B file(s), 0 media file(s), 50 artifact file(s) and 0 other file(s)"
      ],
      "text/plain": [
       "<IPython.core.display.HTML object>"
      ]
     },
     "metadata": {},
     "output_type": "display_data"
    },
    {
     "data": {
      "text/html": [
       "Find logs at: <code>./wandb/run-20241124_003029-3o2rn9nq/logs</code>"
      ],
      "text/plain": [
       "<IPython.core.display.HTML object>"
      ]
     },
     "metadata": {},
     "output_type": "display_data"
    },
    {
     "name": "stderr",
     "output_type": "stream",
     "text": [
      "\u001b[34m\u001b[1mwandb\u001b[0m: Sweep Agent: Waiting for job.\n",
      "\u001b[34m\u001b[1mwandb\u001b[0m: Job received.\n",
      "\u001b[34m\u001b[1mwandb\u001b[0m: Agent Starting Run: niqfwb9e with config:\n",
      "\u001b[34m\u001b[1mwandb\u001b[0m: \tactivation_function: tanh\n",
      "\u001b[34m\u001b[1mwandb\u001b[0m: \tbatch_size: 16\n",
      "\u001b[34m\u001b[1mwandb\u001b[0m: \tepochs: 30\n",
      "\u001b[34m\u001b[1mwandb\u001b[0m: \tinput_dim: 4\n",
      "\u001b[34m\u001b[1mwandb\u001b[0m: \tlearning_rate: 0.001\n",
      "\u001b[34m\u001b[1mwandb\u001b[0m: \tloss_function: mean_absolute_error\n"
     ]
    },
    {
     "data": {
      "text/html": [
       "Tracking run with wandb version 0.18.7"
      ],
      "text/plain": [
       "<IPython.core.display.HTML object>"
      ]
     },
     "metadata": {},
     "output_type": "display_data"
    },
    {
     "data": {
      "text/html": [
       "Run data is saved locally in <code>/home/walt/FociNet/wandb/run-20241124_003120-niqfwb9e</code>"
      ],
      "text/plain": [
       "<IPython.core.display.HTML object>"
      ]
     },
     "metadata": {},
     "output_type": "display_data"
    },
    {
     "data": {
      "text/html": [
       "Syncing run <strong><a href='https://wandb.ai/walt_/dose-prediction/runs/niqfwb9e' target=\"_blank\">generous-sweep-7</a></strong> to <a href='https://wandb.ai/walt_/dose-prediction' target=\"_blank\">Weights & Biases</a> (<a href='https://wandb.me/developer-guide' target=\"_blank\">docs</a>)<br/>Sweep page: <a href='https://wandb.ai/walt_/dose-prediction/sweeps/uui2wa8p' target=\"_blank\">https://wandb.ai/walt_/dose-prediction/sweeps/uui2wa8p</a>"
      ],
      "text/plain": [
       "<IPython.core.display.HTML object>"
      ]
     },
     "metadata": {},
     "output_type": "display_data"
    },
    {
     "data": {
      "text/html": [
       " View project at <a href='https://wandb.ai/walt_/dose-prediction' target=\"_blank\">https://wandb.ai/walt_/dose-prediction</a>"
      ],
      "text/plain": [
       "<IPython.core.display.HTML object>"
      ]
     },
     "metadata": {},
     "output_type": "display_data"
    },
    {
     "data": {
      "text/html": [
       " View sweep at <a href='https://wandb.ai/walt_/dose-prediction/sweeps/uui2wa8p' target=\"_blank\">https://wandb.ai/walt_/dose-prediction/sweeps/uui2wa8p</a>"
      ],
      "text/plain": [
       "<IPython.core.display.HTML object>"
      ]
     },
     "metadata": {},
     "output_type": "display_data"
    },
    {
     "data": {
      "text/html": [
       " View run at <a href='https://wandb.ai/walt_/dose-prediction/runs/niqfwb9e' target=\"_blank\">https://wandb.ai/walt_/dose-prediction/runs/niqfwb9e</a>"
      ],
      "text/plain": [
       "<IPython.core.display.HTML object>"
      ]
     },
     "metadata": {},
     "output_type": "display_data"
    },
    {
     "name": "stdout",
     "output_type": "stream",
     "text": [
      "Epoch 1/30\n",
      "611/611 - 3s - 5ms/step - loss: 0.2909 - mae: 0.2909 - val_loss: 0.2745 - val_mae: 0.2745\n",
      "Epoch 2/30\n",
      "611/611 - 1s - 2ms/step - loss: 0.2777 - mae: 0.2777 - val_loss: 0.2842 - val_mae: 0.2842\n",
      "Epoch 3/30\n",
      "611/611 - 1s - 2ms/step - loss: 0.2695 - mae: 0.2695 - val_loss: 0.2811 - val_mae: 0.2811\n",
      "Epoch 4/30\n",
      "611/611 - 1s - 2ms/step - loss: 0.2659 - mae: 0.2659 - val_loss: 0.2770 - val_mae: 0.2770\n",
      "Epoch 5/30\n",
      "611/611 - 1s - 2ms/step - loss: 0.2638 - mae: 0.2638 - val_loss: 0.2577 - val_mae: 0.2577\n",
      "Epoch 6/30\n",
      "611/611 - 1s - 2ms/step - loss: 0.2619 - mae: 0.2619 - val_loss: 0.2570 - val_mae: 0.2570\n",
      "Epoch 7/30\n",
      "611/611 - 1s - 2ms/step - loss: 0.2611 - mae: 0.2611 - val_loss: 0.2540 - val_mae: 0.2540\n",
      "Epoch 8/30\n",
      "611/611 - 1s - 2ms/step - loss: 0.2577 - mae: 0.2577 - val_loss: 0.2505 - val_mae: 0.2505\n",
      "Epoch 9/30\n",
      "611/611 - 2s - 2ms/step - loss: 0.2496 - mae: 0.2496 - val_loss: 0.2392 - val_mae: 0.2392\n",
      "Epoch 10/30\n",
      "611/611 - 1s - 2ms/step - loss: 0.2384 - mae: 0.2384 - val_loss: 0.2463 - val_mae: 0.2463\n",
      "Epoch 11/30\n",
      "611/611 - 1s - 2ms/step - loss: 0.2301 - mae: 0.2301 - val_loss: 0.2371 - val_mae: 0.2371\n",
      "Epoch 12/30\n",
      "611/611 - 1s - 2ms/step - loss: 0.2227 - mae: 0.2227 - val_loss: 0.2220 - val_mae: 0.2220\n",
      "Epoch 13/30\n",
      "611/611 - 1s - 2ms/step - loss: 0.2181 - mae: 0.2181 - val_loss: 0.2172 - val_mae: 0.2172\n",
      "Epoch 14/30\n",
      "611/611 - 2s - 3ms/step - loss: 0.2150 - mae: 0.2150 - val_loss: 0.2178 - val_mae: 0.2178\n",
      "Epoch 15/30\n",
      "611/611 - 1s - 2ms/step - loss: 0.2101 - mae: 0.2101 - val_loss: 0.2156 - val_mae: 0.2156\n",
      "Epoch 16/30\n",
      "611/611 - 1s - 2ms/step - loss: 0.2084 - mae: 0.2084 - val_loss: 0.2143 - val_mae: 0.2143\n",
      "Epoch 17/30\n",
      "611/611 - 1s - 2ms/step - loss: 0.2058 - mae: 0.2058 - val_loss: 0.2092 - val_mae: 0.2092\n",
      "Epoch 18/30\n",
      "611/611 - 1s - 2ms/step - loss: 0.2034 - mae: 0.2034 - val_loss: 0.2127 - val_mae: 0.2127\n",
      "Epoch 19/30\n",
      "611/611 - 2s - 3ms/step - loss: 0.2009 - mae: 0.2009 - val_loss: 0.2054 - val_mae: 0.2054\n",
      "Epoch 20/30\n",
      "611/611 - 1s - 2ms/step - loss: 0.1993 - mae: 0.1993 - val_loss: 0.2079 - val_mae: 0.2079\n",
      "Epoch 21/30\n",
      "611/611 - 1s - 2ms/step - loss: 0.1974 - mae: 0.1974 - val_loss: 0.1996 - val_mae: 0.1996\n",
      "Epoch 22/30\n",
      "611/611 - 1s - 2ms/step - loss: 0.1959 - mae: 0.1959 - val_loss: 0.2039 - val_mae: 0.2039\n",
      "Epoch 23/30\n",
      "611/611 - 1s - 2ms/step - loss: 0.1943 - mae: 0.1943 - val_loss: 0.1963 - val_mae: 0.1963\n",
      "Epoch 24/30\n",
      "611/611 - 1s - 2ms/step - loss: 0.1931 - mae: 0.1931 - val_loss: 0.1983 - val_mae: 0.1983\n",
      "Epoch 25/30\n",
      "611/611 - 1s - 2ms/step - loss: 0.1921 - mae: 0.1921 - val_loss: 0.1986 - val_mae: 0.1986\n",
      "Epoch 26/30\n",
      "611/611 - 1s - 2ms/step - loss: 0.1915 - mae: 0.1915 - val_loss: 0.1949 - val_mae: 0.1949\n",
      "Epoch 27/30\n",
      "611/611 - 1s - 2ms/step - loss: 0.1896 - mae: 0.1896 - val_loss: 0.2005 - val_mae: 0.2005\n",
      "Epoch 28/30\n",
      "611/611 - 1s - 2ms/step - loss: 0.1891 - mae: 0.1891 - val_loss: 0.1973 - val_mae: 0.1973\n",
      "Epoch 29/30\n",
      "611/611 - 1s - 2ms/step - loss: 0.1884 - mae: 0.1884 - val_loss: 0.1927 - val_mae: 0.1927\n",
      "Epoch 30/30\n",
      "611/611 - 1s - 2ms/step - loss: 0.1876 - mae: 0.1876 - val_loss: 0.1933 - val_mae: 0.1933\n",
      "\u001b[1m44/44\u001b[0m \u001b[32m━━━━━━━━━━━━━━━━━━━━\u001b[0m\u001b[37m\u001b[0m \u001b[1m0s\u001b[0m 4ms/step\n"
     ]
    },
    {
     "data": {
      "text/html": [
       "\n",
       "    <style>\n",
       "        .wandb-row {\n",
       "            display: flex;\n",
       "            flex-direction: row;\n",
       "            flex-wrap: wrap;\n",
       "            justify-content: flex-start;\n",
       "            width: 100%;\n",
       "        }\n",
       "        .wandb-col {\n",
       "            display: flex;\n",
       "            flex-direction: column;\n",
       "            flex-basis: 100%;\n",
       "            flex: 1;\n",
       "            padding: 10px;\n",
       "        }\n",
       "    </style>\n",
       "<div class=\"wandb-row\"><div class=\"wandb-col\"><h3>Run history:</h3><br/><table class=\"wandb\"><tr><td>Max Absolute Error (Test)</td><td>▁</td></tr><tr><td>Mean Absolute Error (Test)</td><td>▁</td></tr><tr><td>R²</td><td>▁</td></tr><tr><td>Test Loss</td><td>▁</td></tr><tr><td>Test MAE</td><td>▁</td></tr><tr><td>epoch</td><td>▁▁▁▂▂▂▂▃▃▃▃▄▄▄▄▅▅▅▅▆▆▆▆▇▇▇▇███</td></tr><tr><td>epoch/epoch</td><td>▁▁▁▂▂▂▂▃▃▃▃▄▄▄▄▅▅▅▅▆▆▆▆▇▇▇▇███</td></tr><tr><td>epoch/learning_rate</td><td>▁▁▁▁▁▁▁▁▁▁▁▁▁▁▁▁▁▁▁▁▁▁▁▁▁▁▁▁▁▁</td></tr><tr><td>epoch/loss</td><td>█▇▇▆▆▆▆▆▅▄▄▃▃▃▃▂▂▂▂▂▂▂▁▁▁▁▁▁▁▁</td></tr><tr><td>epoch/mae</td><td>█▇▇▆▆▆▆▆▅▄▄▃▃▃▃▂▂▂▂▂▂▂▁▁▁▁▁▁▁▁</td></tr><tr><td>epoch/val_loss</td><td>▇██▇▆▆▆▅▅▅▄▃▃▃▃▃▂▃▂▂▂▂▁▁▁▁▂▁▁▁</td></tr><tr><td>epoch/val_mae</td><td>▇██▇▆▆▆▅▅▅▄▃▃▃▃▃▂▃▂▂▂▂▁▁▁▁▂▁▁▁</td></tr><tr><td>train_loss</td><td>█▇▇▆▆▆▆▆▅▄▄▃▃▃▃▂▂▂▂▂▂▂▁▁▁▁▁▁▁▁</td></tr><tr><td>train_mae</td><td>█▇▇▆▆▆▆▆▅▄▄▃▃▃▃▂▂▂▂▂▂▂▁▁▁▁▁▁▁▁</td></tr><tr><td>val_loss</td><td>▇██▇▆▆▆▅▅▅▄▃▃▃▃▃▂▃▂▂▂▂▁▁▁▁▂▁▁▁</td></tr><tr><td>val_mae</td><td>▇██▇▆▆▆▅▅▅▄▃▃▃▃▃▂▃▂▂▂▂▁▁▁▁▂▁▁▁</td></tr></table><br/></div><div class=\"wandb-col\"><h3>Run summary:</h3><br/><table class=\"wandb\"><tr><td>Max Absolute Error (Test)</td><td>1.05217</td></tr><tr><td>Mean Absolute Error (Test)</td><td>0.17997</td></tr><tr><td>R²</td><td>0.42895</td></tr><tr><td>Test Loss</td><td>0.17997</td></tr><tr><td>Test MAE</td><td>0.17997</td></tr><tr><td>epoch</td><td>29</td></tr><tr><td>epoch/epoch</td><td>29</td></tr><tr><td>epoch/learning_rate</td><td>0.001</td></tr><tr><td>epoch/loss</td><td>0.18758</td></tr><tr><td>epoch/mae</td><td>0.18758</td></tr><tr><td>epoch/val_loss</td><td>0.19333</td></tr><tr><td>epoch/val_mae</td><td>0.19333</td></tr><tr><td>train_loss</td><td>0.18758</td></tr><tr><td>train_mae</td><td>0.18758</td></tr><tr><td>val_loss</td><td>0.19333</td></tr><tr><td>val_mae</td><td>0.19333</td></tr></table><br/></div></div>"
      ],
      "text/plain": [
       "<IPython.core.display.HTML object>"
      ]
     },
     "metadata": {},
     "output_type": "display_data"
    },
    {
     "data": {
      "text/html": [
       " View run <strong style=\"color:#cdcd00\">generous-sweep-7</strong> at: <a href='https://wandb.ai/walt_/dose-prediction/runs/niqfwb9e' target=\"_blank\">https://wandb.ai/walt_/dose-prediction/runs/niqfwb9e</a><br/> View project at: <a href='https://wandb.ai/walt_/dose-prediction' target=\"_blank\">https://wandb.ai/walt_/dose-prediction</a><br/>Synced 5 W&B file(s), 0 media file(s), 60 artifact file(s) and 0 other file(s)"
      ],
      "text/plain": [
       "<IPython.core.display.HTML object>"
      ]
     },
     "metadata": {},
     "output_type": "display_data"
    },
    {
     "data": {
      "text/html": [
       "Find logs at: <code>./wandb/run-20241124_003120-niqfwb9e/logs</code>"
      ],
      "text/plain": [
       "<IPython.core.display.HTML object>"
      ]
     },
     "metadata": {},
     "output_type": "display_data"
    },
    {
     "name": "stderr",
     "output_type": "stream",
     "text": [
      "\u001b[34m\u001b[1mwandb\u001b[0m: Agent Starting Run: hxhy0u1t with config:\n",
      "\u001b[34m\u001b[1mwandb\u001b[0m: \tactivation_function: tanh\n",
      "\u001b[34m\u001b[1mwandb\u001b[0m: \tbatch_size: 16\n",
      "\u001b[34m\u001b[1mwandb\u001b[0m: \tepochs: 30\n",
      "\u001b[34m\u001b[1mwandb\u001b[0m: \tinput_dim: 4\n",
      "\u001b[34m\u001b[1mwandb\u001b[0m: \tlearning_rate: 0.005\n",
      "\u001b[34m\u001b[1mwandb\u001b[0m: \tloss_function: mean_absolute_error\n"
     ]
    },
    {
     "data": {
      "text/html": [
       "Tracking run with wandb version 0.18.7"
      ],
      "text/plain": [
       "<IPython.core.display.HTML object>"
      ]
     },
     "metadata": {},
     "output_type": "display_data"
    },
    {
     "data": {
      "text/html": [
       "Run data is saved locally in <code>/home/walt/FociNet/wandb/run-20241124_003211-hxhy0u1t</code>"
      ],
      "text/plain": [
       "<IPython.core.display.HTML object>"
      ]
     },
     "metadata": {},
     "output_type": "display_data"
    },
    {
     "data": {
      "text/html": [
       "Syncing run <strong><a href='https://wandb.ai/walt_/dose-prediction/runs/hxhy0u1t' target=\"_blank\">helpful-sweep-8</a></strong> to <a href='https://wandb.ai/walt_/dose-prediction' target=\"_blank\">Weights & Biases</a> (<a href='https://wandb.me/developer-guide' target=\"_blank\">docs</a>)<br/>Sweep page: <a href='https://wandb.ai/walt_/dose-prediction/sweeps/uui2wa8p' target=\"_blank\">https://wandb.ai/walt_/dose-prediction/sweeps/uui2wa8p</a>"
      ],
      "text/plain": [
       "<IPython.core.display.HTML object>"
      ]
     },
     "metadata": {},
     "output_type": "display_data"
    },
    {
     "data": {
      "text/html": [
       " View project at <a href='https://wandb.ai/walt_/dose-prediction' target=\"_blank\">https://wandb.ai/walt_/dose-prediction</a>"
      ],
      "text/plain": [
       "<IPython.core.display.HTML object>"
      ]
     },
     "metadata": {},
     "output_type": "display_data"
    },
    {
     "data": {
      "text/html": [
       " View sweep at <a href='https://wandb.ai/walt_/dose-prediction/sweeps/uui2wa8p' target=\"_blank\">https://wandb.ai/walt_/dose-prediction/sweeps/uui2wa8p</a>"
      ],
      "text/plain": [
       "<IPython.core.display.HTML object>"
      ]
     },
     "metadata": {},
     "output_type": "display_data"
    },
    {
     "data": {
      "text/html": [
       " View run at <a href='https://wandb.ai/walt_/dose-prediction/runs/hxhy0u1t' target=\"_blank\">https://wandb.ai/walt_/dose-prediction/runs/hxhy0u1t</a>"
      ],
      "text/plain": [
       "<IPython.core.display.HTML object>"
      ]
     },
     "metadata": {},
     "output_type": "display_data"
    },
    {
     "name": "stdout",
     "output_type": "stream",
     "text": [
      "Epoch 1/30\n",
      "611/611 - 3s - 5ms/step - loss: 0.2892 - mae: 0.2892 - val_loss: 0.2738 - val_mae: 0.2738\n",
      "Epoch 2/30\n",
      "611/611 - 1s - 2ms/step - loss: 0.2639 - mae: 0.2639 - val_loss: 0.2308 - val_mae: 0.2308\n",
      "Epoch 3/30\n",
      "611/611 - 1s - 2ms/step - loss: 0.2188 - mae: 0.2188 - val_loss: 0.2218 - val_mae: 0.2218\n",
      "Epoch 4/30\n",
      "611/611 - 1s - 2ms/step - loss: 0.2075 - mae: 0.2075 - val_loss: 0.2063 - val_mae: 0.2063\n",
      "Epoch 5/30\n",
      "611/611 - 1s - 2ms/step - loss: 0.2007 - mae: 0.2007 - val_loss: 0.2049 - val_mae: 0.2049\n",
      "Epoch 6/30\n",
      "611/611 - 1s - 2ms/step - loss: 0.1970 - mae: 0.1970 - val_loss: 0.2066 - val_mae: 0.2066\n",
      "Epoch 7/30\n",
      "611/611 - 1s - 2ms/step - loss: 0.1940 - mae: 0.1940 - val_loss: 0.1999 - val_mae: 0.1999\n",
      "Epoch 8/30\n",
      "611/611 - 2s - 3ms/step - loss: 0.1899 - mae: 0.1899 - val_loss: 0.1980 - val_mae: 0.1980\n",
      "Epoch 9/30\n",
      "611/611 - 2s - 3ms/step - loss: 0.1910 - mae: 0.1910 - val_loss: 0.1958 - val_mae: 0.1958\n",
      "Epoch 10/30\n",
      "611/611 - 2s - 3ms/step - loss: 0.1913 - mae: 0.1913 - val_loss: 0.2397 - val_mae: 0.2397\n",
      "Epoch 11/30\n",
      "611/611 - 2s - 3ms/step - loss: 0.1887 - mae: 0.1887 - val_loss: 0.1887 - val_mae: 0.1887\n",
      "Epoch 12/30\n",
      "611/611 - 1s - 2ms/step - loss: 0.1845 - mae: 0.1845 - val_loss: 0.1887 - val_mae: 0.1887\n",
      "Epoch 13/30\n",
      "611/611 - 1s - 2ms/step - loss: 0.1858 - mae: 0.1858 - val_loss: 0.1893 - val_mae: 0.1893\n",
      "Epoch 14/30\n",
      "611/611 - 1s - 2ms/step - loss: 0.1864 - mae: 0.1864 - val_loss: 0.1901 - val_mae: 0.1901\n",
      "Epoch 15/30\n",
      "611/611 - 1s - 2ms/step - loss: 0.1902 - mae: 0.1902 - val_loss: 0.1861 - val_mae: 0.1861\n",
      "Epoch 16/30\n",
      "611/611 - 1s - 2ms/step - loss: 0.1845 - mae: 0.1845 - val_loss: 0.1861 - val_mae: 0.1861\n",
      "Epoch 17/30\n",
      "611/611 - 1s - 2ms/step - loss: 0.1812 - mae: 0.1812 - val_loss: 0.1864 - val_mae: 0.1864\n",
      "Epoch 18/30\n",
      "611/611 - 1s - 2ms/step - loss: 0.1819 - mae: 0.1819 - val_loss: 0.1901 - val_mae: 0.1901\n",
      "Epoch 19/30\n",
      "611/611 - 1s - 2ms/step - loss: 0.1835 - mae: 0.1835 - val_loss: 0.1868 - val_mae: 0.1868\n",
      "Epoch 20/30\n",
      "611/611 - 1s - 2ms/step - loss: 0.1878 - mae: 0.1878 - val_loss: 0.1947 - val_mae: 0.1947\n",
      "Epoch 21/30\n",
      "611/611 - 1s - 2ms/step - loss: 0.1810 - mae: 0.1810 - val_loss: 0.1853 - val_mae: 0.1853\n",
      "Epoch 22/30\n",
      "611/611 - 1s - 2ms/step - loss: 0.1840 - mae: 0.1840 - val_loss: 0.2018 - val_mae: 0.2018\n",
      "Epoch 23/30\n",
      "611/611 - 1s - 2ms/step - loss: 0.1841 - mae: 0.1841 - val_loss: 0.1836 - val_mae: 0.1836\n",
      "Epoch 24/30\n",
      "611/611 - 1s - 2ms/step - loss: 0.1856 - mae: 0.1856 - val_loss: 0.2021 - val_mae: 0.2021\n",
      "Epoch 25/30\n",
      "611/611 - 1s - 2ms/step - loss: 0.1843 - mae: 0.1843 - val_loss: 0.2064 - val_mae: 0.2064\n",
      "Epoch 26/30\n",
      "611/611 - 1s - 2ms/step - loss: 0.1818 - mae: 0.1818 - val_loss: 0.1857 - val_mae: 0.1857\n",
      "Epoch 27/30\n",
      "611/611 - 1s - 2ms/step - loss: 0.1818 - mae: 0.1818 - val_loss: 0.1854 - val_mae: 0.1854\n",
      "Epoch 28/30\n",
      "611/611 - 1s - 2ms/step - loss: 0.1821 - mae: 0.1821 - val_loss: 0.1838 - val_mae: 0.1838\n",
      "Epoch 29/30\n",
      "611/611 - 1s - 2ms/step - loss: 0.1822 - mae: 0.1822 - val_loss: 0.1858 - val_mae: 0.1858\n",
      "Epoch 30/30\n",
      "611/611 - 1s - 2ms/step - loss: 0.1837 - mae: 0.1837 - val_loss: 0.1985 - val_mae: 0.1985\n",
      "\u001b[1m44/44\u001b[0m \u001b[32m━━━━━━━━━━━━━━━━━━━━\u001b[0m\u001b[37m\u001b[0m \u001b[1m0s\u001b[0m 4ms/step\n"
     ]
    },
    {
     "data": {
      "text/html": [
       "\n",
       "    <style>\n",
       "        .wandb-row {\n",
       "            display: flex;\n",
       "            flex-direction: row;\n",
       "            flex-wrap: wrap;\n",
       "            justify-content: flex-start;\n",
       "            width: 100%;\n",
       "        }\n",
       "        .wandb-col {\n",
       "            display: flex;\n",
       "            flex-direction: column;\n",
       "            flex-basis: 100%;\n",
       "            flex: 1;\n",
       "            padding: 10px;\n",
       "        }\n",
       "    </style>\n",
       "<div class=\"wandb-row\"><div class=\"wandb-col\"><h3>Run history:</h3><br/><table class=\"wandb\"><tr><td>Max Absolute Error (Test)</td><td>▁</td></tr><tr><td>Mean Absolute Error (Test)</td><td>▁</td></tr><tr><td>R²</td><td>▁</td></tr><tr><td>Test Loss</td><td>▁</td></tr><tr><td>Test MAE</td><td>▁</td></tr><tr><td>epoch</td><td>▁▁▁▂▂▂▂▃▃▃▃▄▄▄▄▅▅▅▅▆▆▆▆▇▇▇▇███</td></tr><tr><td>epoch/epoch</td><td>▁▁▁▂▂▂▂▃▃▃▃▄▄▄▄▅▅▅▅▆▆▆▆▇▇▇▇███</td></tr><tr><td>epoch/learning_rate</td><td>▁▁▁▁▁▁▁▁▁▁▁▁▁▁▁▁▁▁▁▁▁▁▁▁▁▁▁▁▁▁</td></tr><tr><td>epoch/loss</td><td>█▆▃▃▂▂▂▂▂▂▁▁▁▁▂▁▁▁▁▁▁▁▁▁▁▁▁▁▁▁</td></tr><tr><td>epoch/mae</td><td>█▆▃▃▂▂▂▂▂▂▁▁▁▁▂▁▁▁▁▁▁▁▁▁▁▁▁▁▁▁</td></tr><tr><td>epoch/val_loss</td><td>█▅▄▃▃▃▂▂▂▅▁▁▁▂▁▁▁▂▁▂▁▂▁▂▃▁▁▁▁▂</td></tr><tr><td>epoch/val_mae</td><td>█▅▄▃▃▃▂▂▂▅▁▁▁▂▁▁▁▂▁▂▁▂▁▂▃▁▁▁▁▂</td></tr><tr><td>train_loss</td><td>█▆▃▃▂▂▂▂▂▂▁▁▁▁▂▁▁▁▁▁▁▁▁▁▁▁▁▁▁▁</td></tr><tr><td>train_mae</td><td>█▆▃▃▂▂▂▂▂▂▁▁▁▁▂▁▁▁▁▁▁▁▁▁▁▁▁▁▁▁</td></tr><tr><td>val_loss</td><td>█▅▄▃▃▃▂▂▂▅▁▁▁▂▁▁▁▂▁▂▁▂▁▂▃▁▁▁▁▂</td></tr><tr><td>val_mae</td><td>█▅▄▃▃▃▂▂▂▅▁▁▁▂▁▁▁▂▁▂▁▂▁▂▃▁▁▁▁▂</td></tr></table><br/></div><div class=\"wandb-col\"><h3>Run summary:</h3><br/><table class=\"wandb\"><tr><td>Max Absolute Error (Test)</td><td>1.00561</td></tr><tr><td>Mean Absolute Error (Test)</td><td>0.19473</td></tr><tr><td>R²</td><td>0.26109</td></tr><tr><td>Test Loss</td><td>0.19473</td></tr><tr><td>Test MAE</td><td>0.19473</td></tr><tr><td>epoch</td><td>29</td></tr><tr><td>epoch/epoch</td><td>29</td></tr><tr><td>epoch/learning_rate</td><td>0.005</td></tr><tr><td>epoch/loss</td><td>0.18373</td></tr><tr><td>epoch/mae</td><td>0.18373</td></tr><tr><td>epoch/val_loss</td><td>0.19853</td></tr><tr><td>epoch/val_mae</td><td>0.19853</td></tr><tr><td>train_loss</td><td>0.18373</td></tr><tr><td>train_mae</td><td>0.18373</td></tr><tr><td>val_loss</td><td>0.19853</td></tr><tr><td>val_mae</td><td>0.19853</td></tr></table><br/></div></div>"
      ],
      "text/plain": [
       "<IPython.core.display.HTML object>"
      ]
     },
     "metadata": {},
     "output_type": "display_data"
    },
    {
     "data": {
      "text/html": [
       " View run <strong style=\"color:#cdcd00\">helpful-sweep-8</strong> at: <a href='https://wandb.ai/walt_/dose-prediction/runs/hxhy0u1t' target=\"_blank\">https://wandb.ai/walt_/dose-prediction/runs/hxhy0u1t</a><br/> View project at: <a href='https://wandb.ai/walt_/dose-prediction' target=\"_blank\">https://wandb.ai/walt_/dose-prediction</a><br/>Synced 5 W&B file(s), 0 media file(s), 60 artifact file(s) and 0 other file(s)"
      ],
      "text/plain": [
       "<IPython.core.display.HTML object>"
      ]
     },
     "metadata": {},
     "output_type": "display_data"
    },
    {
     "data": {
      "text/html": [
       "Find logs at: <code>./wandb/run-20241124_003211-hxhy0u1t/logs</code>"
      ],
      "text/plain": [
       "<IPython.core.display.HTML object>"
      ]
     },
     "metadata": {},
     "output_type": "display_data"
    },
    {
     "name": "stderr",
     "output_type": "stream",
     "text": [
      "\u001b[34m\u001b[1mwandb\u001b[0m: Agent Starting Run: ae2s0lhb with config:\n",
      "\u001b[34m\u001b[1mwandb\u001b[0m: \tactivation_function: tanh\n",
      "\u001b[34m\u001b[1mwandb\u001b[0m: \tbatch_size: 16\n",
      "\u001b[34m\u001b[1mwandb\u001b[0m: \tepochs: 30\n",
      "\u001b[34m\u001b[1mwandb\u001b[0m: \tinput_dim: 4\n",
      "\u001b[34m\u001b[1mwandb\u001b[0m: \tlearning_rate: 0.01\n",
      "\u001b[34m\u001b[1mwandb\u001b[0m: \tloss_function: mean_absolute_error\n"
     ]
    },
    {
     "data": {
      "text/html": [
       "Tracking run with wandb version 0.18.7"
      ],
      "text/plain": [
       "<IPython.core.display.HTML object>"
      ]
     },
     "metadata": {},
     "output_type": "display_data"
    },
    {
     "data": {
      "text/html": [
       "Run data is saved locally in <code>/home/walt/FociNet/wandb/run-20241124_003302-ae2s0lhb</code>"
      ],
      "text/plain": [
       "<IPython.core.display.HTML object>"
      ]
     },
     "metadata": {},
     "output_type": "display_data"
    },
    {
     "data": {
      "text/html": [
       "Syncing run <strong><a href='https://wandb.ai/walt_/dose-prediction/runs/ae2s0lhb' target=\"_blank\">icy-sweep-9</a></strong> to <a href='https://wandb.ai/walt_/dose-prediction' target=\"_blank\">Weights & Biases</a> (<a href='https://wandb.me/developer-guide' target=\"_blank\">docs</a>)<br/>Sweep page: <a href='https://wandb.ai/walt_/dose-prediction/sweeps/uui2wa8p' target=\"_blank\">https://wandb.ai/walt_/dose-prediction/sweeps/uui2wa8p</a>"
      ],
      "text/plain": [
       "<IPython.core.display.HTML object>"
      ]
     },
     "metadata": {},
     "output_type": "display_data"
    },
    {
     "data": {
      "text/html": [
       " View project at <a href='https://wandb.ai/walt_/dose-prediction' target=\"_blank\">https://wandb.ai/walt_/dose-prediction</a>"
      ],
      "text/plain": [
       "<IPython.core.display.HTML object>"
      ]
     },
     "metadata": {},
     "output_type": "display_data"
    },
    {
     "data": {
      "text/html": [
       " View sweep at <a href='https://wandb.ai/walt_/dose-prediction/sweeps/uui2wa8p' target=\"_blank\">https://wandb.ai/walt_/dose-prediction/sweeps/uui2wa8p</a>"
      ],
      "text/plain": [
       "<IPython.core.display.HTML object>"
      ]
     },
     "metadata": {},
     "output_type": "display_data"
    },
    {
     "data": {
      "text/html": [
       " View run at <a href='https://wandb.ai/walt_/dose-prediction/runs/ae2s0lhb' target=\"_blank\">https://wandb.ai/walt_/dose-prediction/runs/ae2s0lhb</a>"
      ],
      "text/plain": [
       "<IPython.core.display.HTML object>"
      ]
     },
     "metadata": {},
     "output_type": "display_data"
    },
    {
     "name": "stdout",
     "output_type": "stream",
     "text": [
      "Epoch 1/30\n",
      "611/611 - 3s - 5ms/step - loss: 0.2919 - mae: 0.2919 - val_loss: 0.2660 - val_mae: 0.2660\n",
      "Epoch 2/30\n",
      "611/611 - 1s - 2ms/step - loss: 0.2750 - mae: 0.2750 - val_loss: 0.2595 - val_mae: 0.2595\n",
      "Epoch 3/30\n",
      "611/611 - 1s - 2ms/step - loss: 0.2154 - mae: 0.2154 - val_loss: 0.2097 - val_mae: 0.2097\n",
      "Epoch 4/30\n",
      "611/611 - 1s - 2ms/step - loss: 0.2067 - mae: 0.2067 - val_loss: 0.2097 - val_mae: 0.2097\n",
      "Epoch 5/30\n",
      "611/611 - 2s - 3ms/step - loss: 0.1977 - mae: 0.1977 - val_loss: 0.2158 - val_mae: 0.2158\n",
      "Epoch 6/30\n",
      "611/611 - 2s - 4ms/step - loss: 0.2001 - mae: 0.2001 - val_loss: 0.1971 - val_mae: 0.1971\n",
      "Epoch 7/30\n",
      "611/611 - 2s - 3ms/step - loss: 0.1969 - mae: 0.1969 - val_loss: 0.2276 - val_mae: 0.2276\n",
      "Epoch 8/30\n",
      "611/611 - 1s - 2ms/step - loss: 0.1925 - mae: 0.1925 - val_loss: 0.2028 - val_mae: 0.2028\n",
      "Epoch 9/30\n",
      "611/611 - 2s - 3ms/step - loss: 0.1949 - mae: 0.1949 - val_loss: 0.1904 - val_mae: 0.1904\n",
      "Epoch 10/30\n",
      "611/611 - 1s - 2ms/step - loss: 0.1926 - mae: 0.1926 - val_loss: 0.1964 - val_mae: 0.1964\n",
      "Epoch 11/30\n",
      "611/611 - 1s - 2ms/step - loss: 0.1949 - mae: 0.1949 - val_loss: 0.2040 - val_mae: 0.2040\n",
      "Epoch 12/30\n",
      "611/611 - 1s - 2ms/step - loss: 0.1911 - mae: 0.1911 - val_loss: 0.1891 - val_mae: 0.1891\n",
      "Epoch 13/30\n",
      "611/611 - 1s - 2ms/step - loss: 0.1927 - mae: 0.1927 - val_loss: 0.2142 - val_mae: 0.2142\n",
      "Epoch 14/30\n",
      "611/611 - 2s - 2ms/step - loss: 0.1927 - mae: 0.1927 - val_loss: 0.2095 - val_mae: 0.2095\n",
      "Epoch 15/30\n",
      "611/611 - 1s - 2ms/step - loss: 0.1905 - mae: 0.1905 - val_loss: 0.1972 - val_mae: 0.1972\n",
      "Epoch 16/30\n",
      "611/611 - 1s - 2ms/step - loss: 0.1928 - mae: 0.1928 - val_loss: 0.2059 - val_mae: 0.2059\n",
      "Epoch 17/30\n",
      "611/611 - 1s - 2ms/step - loss: 0.1941 - mae: 0.1941 - val_loss: 0.2104 - val_mae: 0.2104\n",
      "Epoch 18/30\n",
      "611/611 - 1s - 2ms/step - loss: 0.1954 - mae: 0.1954 - val_loss: 0.1997 - val_mae: 0.1997\n",
      "Epoch 19/30\n",
      "611/611 - 1s - 2ms/step - loss: 0.1886 - mae: 0.1886 - val_loss: 0.1874 - val_mae: 0.1874\n",
      "Epoch 20/30\n",
      "611/611 - 1s - 2ms/step - loss: 0.1890 - mae: 0.1890 - val_loss: 0.2071 - val_mae: 0.2071\n",
      "Epoch 21/30\n",
      "611/611 - 1s - 2ms/step - loss: 0.1933 - mae: 0.1933 - val_loss: 0.1938 - val_mae: 0.1938\n",
      "Epoch 22/30\n",
      "611/611 - 1s - 2ms/step - loss: 0.1842 - mae: 0.1842 - val_loss: 0.1873 - val_mae: 0.1873\n",
      "Epoch 23/30\n",
      "611/611 - 1s - 2ms/step - loss: 0.1969 - mae: 0.1969 - val_loss: 0.1925 - val_mae: 0.1925\n",
      "Epoch 24/30\n",
      "611/611 - 1s - 2ms/step - loss: 0.1886 - mae: 0.1886 - val_loss: 0.1990 - val_mae: 0.1990\n",
      "Epoch 25/30\n",
      "611/611 - 2s - 3ms/step - loss: 0.1918 - mae: 0.1918 - val_loss: 0.1877 - val_mae: 0.1877\n",
      "Epoch 26/30\n",
      "611/611 - 2s - 3ms/step - loss: 0.1850 - mae: 0.1850 - val_loss: 0.1906 - val_mae: 0.1906\n",
      "Epoch 27/30\n",
      "611/611 - 1s - 2ms/step - loss: 0.1910 - mae: 0.1910 - val_loss: 0.1880 - val_mae: 0.1880\n",
      "Epoch 28/30\n",
      "611/611 - 1s - 2ms/step - loss: 0.1909 - mae: 0.1909 - val_loss: 0.1867 - val_mae: 0.1867\n",
      "Epoch 29/30\n",
      "611/611 - 1s - 2ms/step - loss: 0.1881 - mae: 0.1881 - val_loss: 0.1852 - val_mae: 0.1852\n",
      "Epoch 30/30\n",
      "611/611 - 1s - 2ms/step - loss: 0.1840 - mae: 0.1840 - val_loss: 0.1904 - val_mae: 0.1904\n",
      "\u001b[1m44/44\u001b[0m \u001b[32m━━━━━━━━━━━━━━━━━━━━\u001b[0m\u001b[37m\u001b[0m \u001b[1m0s\u001b[0m 4ms/step\n"
     ]
    },
    {
     "data": {
      "text/html": [
       "\n",
       "    <style>\n",
       "        .wandb-row {\n",
       "            display: flex;\n",
       "            flex-direction: row;\n",
       "            flex-wrap: wrap;\n",
       "            justify-content: flex-start;\n",
       "            width: 100%;\n",
       "        }\n",
       "        .wandb-col {\n",
       "            display: flex;\n",
       "            flex-direction: column;\n",
       "            flex-basis: 100%;\n",
       "            flex: 1;\n",
       "            padding: 10px;\n",
       "        }\n",
       "    </style>\n",
       "<div class=\"wandb-row\"><div class=\"wandb-col\"><h3>Run history:</h3><br/><table class=\"wandb\"><tr><td>Max Absolute Error (Test)</td><td>▁</td></tr><tr><td>Mean Absolute Error (Test)</td><td>▁</td></tr><tr><td>R²</td><td>▁</td></tr><tr><td>Test Loss</td><td>▁</td></tr><tr><td>Test MAE</td><td>▁</td></tr><tr><td>epoch</td><td>▁▁▁▂▂▂▂▃▃▃▃▄▄▄▄▅▅▅▅▆▆▆▆▇▇▇▇███</td></tr><tr><td>epoch/epoch</td><td>▁▁▁▂▂▂▂▃▃▃▃▄▄▄▄▅▅▅▅▆▆▆▆▇▇▇▇███</td></tr><tr><td>epoch/learning_rate</td><td>▁▁▁▁▁▁▁▁▁▁▁▁▁▁▁▁▁▁▁▁▁▁▁▁▁▁▁▁▁▁</td></tr><tr><td>epoch/loss</td><td>█▇▃▂▂▂▂▂▂▂▂▁▂▂▁▂▂▂▁▁▂▁▂▁▂▁▁▁▁▁</td></tr><tr><td>epoch/mae</td><td>█▇▃▂▂▂▂▂▂▂▂▁▂▂▁▂▂▂▁▁▂▁▂▁▂▁▁▁▁▁</td></tr><tr><td>epoch/val_loss</td><td>█▇▃▃▄▂▅▃▁▂▃▁▄▃▂▃▃▂▁▃▂▁▂▂▁▁▁▁▁▁</td></tr><tr><td>epoch/val_mae</td><td>█▇▃▃▄▂▅▃▁▂▃▁▄▃▂▃▃▂▁▃▂▁▂▂▁▁▁▁▁▁</td></tr><tr><td>train_loss</td><td>█▇▃▂▂▂▂▂▂▂▂▁▂▂▁▂▂▂▁▁▂▁▂▁▂▁▁▁▁▁</td></tr><tr><td>train_mae</td><td>█▇▃▂▂▂▂▂▂▂▂▁▂▂▁▂▂▂▁▁▂▁▂▁▂▁▁▁▁▁</td></tr><tr><td>val_loss</td><td>█▇▃▃▄▂▅▃▁▂▃▁▄▃▂▃▃▂▁▃▂▁▂▂▁▁▁▁▁▁</td></tr><tr><td>val_mae</td><td>█▇▃▃▄▂▅▃▁▂▃▁▄▃▂▃▃▂▁▃▂▁▂▂▁▁▁▁▁▁</td></tr></table><br/></div><div class=\"wandb-col\"><h3>Run summary:</h3><br/><table class=\"wandb\"><tr><td>Max Absolute Error (Test)</td><td>1.00203</td></tr><tr><td>Mean Absolute Error (Test)</td><td>0.18831</td></tr><tr><td>R²</td><td>0.2732</td></tr><tr><td>Test Loss</td><td>0.18831</td></tr><tr><td>Test MAE</td><td>0.18831</td></tr><tr><td>epoch</td><td>29</td></tr><tr><td>epoch/epoch</td><td>29</td></tr><tr><td>epoch/learning_rate</td><td>0.01</td></tr><tr><td>epoch/loss</td><td>0.18404</td></tr><tr><td>epoch/mae</td><td>0.18404</td></tr><tr><td>epoch/val_loss</td><td>0.19043</td></tr><tr><td>epoch/val_mae</td><td>0.19043</td></tr><tr><td>train_loss</td><td>0.18404</td></tr><tr><td>train_mae</td><td>0.18404</td></tr><tr><td>val_loss</td><td>0.19043</td></tr><tr><td>val_mae</td><td>0.19043</td></tr></table><br/></div></div>"
      ],
      "text/plain": [
       "<IPython.core.display.HTML object>"
      ]
     },
     "metadata": {},
     "output_type": "display_data"
    },
    {
     "data": {
      "text/html": [
       " View run <strong style=\"color:#cdcd00\">icy-sweep-9</strong> at: <a href='https://wandb.ai/walt_/dose-prediction/runs/ae2s0lhb' target=\"_blank\">https://wandb.ai/walt_/dose-prediction/runs/ae2s0lhb</a><br/> View project at: <a href='https://wandb.ai/walt_/dose-prediction' target=\"_blank\">https://wandb.ai/walt_/dose-prediction</a><br/>Synced 5 W&B file(s), 0 media file(s), 60 artifact file(s) and 0 other file(s)"
      ],
      "text/plain": [
       "<IPython.core.display.HTML object>"
      ]
     },
     "metadata": {},
     "output_type": "display_data"
    },
    {
     "data": {
      "text/html": [
       "Find logs at: <code>./wandb/run-20241124_003302-ae2s0lhb/logs</code>"
      ],
      "text/plain": [
       "<IPython.core.display.HTML object>"
      ]
     },
     "metadata": {},
     "output_type": "display_data"
    },
    {
     "name": "stderr",
     "output_type": "stream",
     "text": [
      "\u001b[34m\u001b[1mwandb\u001b[0m: Agent Starting Run: uvop7dbg with config:\n",
      "\u001b[34m\u001b[1mwandb\u001b[0m: \tactivation_function: tanh\n",
      "\u001b[34m\u001b[1mwandb\u001b[0m: \tbatch_size: 16\n",
      "\u001b[34m\u001b[1mwandb\u001b[0m: \tepochs: 35\n",
      "\u001b[34m\u001b[1mwandb\u001b[0m: \tinput_dim: 4\n",
      "\u001b[34m\u001b[1mwandb\u001b[0m: \tlearning_rate: 0.001\n",
      "\u001b[34m\u001b[1mwandb\u001b[0m: \tloss_function: mean_absolute_error\n"
     ]
    },
    {
     "data": {
      "text/html": [
       "Tracking run with wandb version 0.18.7"
      ],
      "text/plain": [
       "<IPython.core.display.HTML object>"
      ]
     },
     "metadata": {},
     "output_type": "display_data"
    },
    {
     "data": {
      "text/html": [
       "Run data is saved locally in <code>/home/walt/FociNet/wandb/run-20241124_003358-uvop7dbg</code>"
      ],
      "text/plain": [
       "<IPython.core.display.HTML object>"
      ]
     },
     "metadata": {},
     "output_type": "display_data"
    },
    {
     "data": {
      "text/html": [
       "Syncing run <strong><a href='https://wandb.ai/walt_/dose-prediction/runs/uvop7dbg' target=\"_blank\">major-sweep-10</a></strong> to <a href='https://wandb.ai/walt_/dose-prediction' target=\"_blank\">Weights & Biases</a> (<a href='https://wandb.me/developer-guide' target=\"_blank\">docs</a>)<br/>Sweep page: <a href='https://wandb.ai/walt_/dose-prediction/sweeps/uui2wa8p' target=\"_blank\">https://wandb.ai/walt_/dose-prediction/sweeps/uui2wa8p</a>"
      ],
      "text/plain": [
       "<IPython.core.display.HTML object>"
      ]
     },
     "metadata": {},
     "output_type": "display_data"
    },
    {
     "data": {
      "text/html": [
       " View project at <a href='https://wandb.ai/walt_/dose-prediction' target=\"_blank\">https://wandb.ai/walt_/dose-prediction</a>"
      ],
      "text/plain": [
       "<IPython.core.display.HTML object>"
      ]
     },
     "metadata": {},
     "output_type": "display_data"
    },
    {
     "data": {
      "text/html": [
       " View sweep at <a href='https://wandb.ai/walt_/dose-prediction/sweeps/uui2wa8p' target=\"_blank\">https://wandb.ai/walt_/dose-prediction/sweeps/uui2wa8p</a>"
      ],
      "text/plain": [
       "<IPython.core.display.HTML object>"
      ]
     },
     "metadata": {},
     "output_type": "display_data"
    },
    {
     "data": {
      "text/html": [
       " View run at <a href='https://wandb.ai/walt_/dose-prediction/runs/uvop7dbg' target=\"_blank\">https://wandb.ai/walt_/dose-prediction/runs/uvop7dbg</a>"
      ],
      "text/plain": [
       "<IPython.core.display.HTML object>"
      ]
     },
     "metadata": {},
     "output_type": "display_data"
    },
    {
     "name": "stdout",
     "output_type": "stream",
     "text": [
      "Epoch 1/35\n",
      "611/611 - 3s - 5ms/step - loss: 0.2967 - mae: 0.2967 - val_loss: 0.2801 - val_mae: 0.2801\n",
      "Epoch 2/35\n",
      "611/611 - 1s - 2ms/step - loss: 0.2764 - mae: 0.2764 - val_loss: 0.2634 - val_mae: 0.2634\n",
      "Epoch 3/35\n",
      "611/611 - 2s - 3ms/step - loss: 0.2680 - mae: 0.2680 - val_loss: 0.2770 - val_mae: 0.2770\n",
      "Epoch 4/35\n",
      "611/611 - 2s - 3ms/step - loss: 0.2654 - mae: 0.2654 - val_loss: 0.2579 - val_mae: 0.2579\n",
      "Epoch 5/35\n",
      "611/611 - 2s - 3ms/step - loss: 0.2595 - mae: 0.2595 - val_loss: 0.2583 - val_mae: 0.2583\n",
      "Epoch 6/35\n",
      "611/611 - 2s - 3ms/step - loss: 0.2565 - mae: 0.2565 - val_loss: 0.2556 - val_mae: 0.2556\n",
      "Epoch 7/35\n",
      "611/611 - 2s - 2ms/step - loss: 0.2442 - mae: 0.2442 - val_loss: 0.2392 - val_mae: 0.2392\n",
      "Epoch 8/35\n",
      "611/611 - 1s - 2ms/step - loss: 0.2336 - mae: 0.2336 - val_loss: 0.2274 - val_mae: 0.2274\n",
      "Epoch 9/35\n",
      "611/611 - 1s - 2ms/step - loss: 0.2246 - mae: 0.2246 - val_loss: 0.2200 - val_mae: 0.2200\n",
      "Epoch 10/35\n",
      "611/611 - 1s - 2ms/step - loss: 0.2176 - mae: 0.2176 - val_loss: 0.2200 - val_mae: 0.2200\n",
      "Epoch 11/35\n",
      "611/611 - 1s - 2ms/step - loss: 0.2114 - mae: 0.2114 - val_loss: 0.2126 - val_mae: 0.2126\n",
      "Epoch 12/35\n",
      "611/611 - 1s - 2ms/step - loss: 0.2086 - mae: 0.2086 - val_loss: 0.2106 - val_mae: 0.2106\n",
      "Epoch 13/35\n",
      "611/611 - 1s - 2ms/step - loss: 0.2052 - mae: 0.2052 - val_loss: 0.2064 - val_mae: 0.2064\n",
      "Epoch 14/35\n",
      "611/611 - 1s - 2ms/step - loss: 0.2026 - mae: 0.2026 - val_loss: 0.2051 - val_mae: 0.2051\n",
      "Epoch 15/35\n",
      "611/611 - 1s - 2ms/step - loss: 0.2001 - mae: 0.2001 - val_loss: 0.2035 - val_mae: 0.2035\n",
      "Epoch 16/35\n",
      "611/611 - 2s - 3ms/step - loss: 0.1983 - mae: 0.1983 - val_loss: 0.2008 - val_mae: 0.2008\n",
      "Epoch 17/35\n",
      "611/611 - 1s - 2ms/step - loss: 0.1970 - mae: 0.1970 - val_loss: 0.2009 - val_mae: 0.2009\n",
      "Epoch 18/35\n",
      "611/611 - 1s - 2ms/step - loss: 0.1959 - mae: 0.1959 - val_loss: 0.1975 - val_mae: 0.1975\n",
      "Epoch 19/35\n",
      "611/611 - 1s - 2ms/step - loss: 0.1949 - mae: 0.1949 - val_loss: 0.2050 - val_mae: 0.2050\n",
      "Epoch 20/35\n",
      "611/611 - 1s - 2ms/step - loss: 0.1934 - mae: 0.1934 - val_loss: 0.1995 - val_mae: 0.1995\n",
      "Epoch 21/35\n",
      "611/611 - 1s - 2ms/step - loss: 0.1924 - mae: 0.1924 - val_loss: 0.1954 - val_mae: 0.1954\n",
      "Epoch 22/35\n",
      "611/611 - 1s - 2ms/step - loss: 0.1910 - mae: 0.1910 - val_loss: 0.1967 - val_mae: 0.1967\n",
      "Epoch 23/35\n",
      "611/611 - 2s - 2ms/step - loss: 0.1913 - mae: 0.1913 - val_loss: 0.1989 - val_mae: 0.1989\n",
      "Epoch 24/35\n",
      "611/611 - 2s - 3ms/step - loss: 0.1896 - mae: 0.1896 - val_loss: 0.1945 - val_mae: 0.1945\n",
      "Epoch 25/35\n",
      "611/611 - 2s - 3ms/step - loss: 0.1887 - mae: 0.1887 - val_loss: 0.1943 - val_mae: 0.1943\n",
      "Epoch 26/35\n",
      "611/611 - 1s - 2ms/step - loss: 0.1872 - mae: 0.1872 - val_loss: 0.1947 - val_mae: 0.1947\n",
      "Epoch 27/35\n",
      "611/611 - 2s - 3ms/step - loss: 0.1870 - mae: 0.1870 - val_loss: 0.1941 - val_mae: 0.1941\n",
      "Epoch 28/35\n",
      "611/611 - 2s - 3ms/step - loss: 0.1858 - mae: 0.1858 - val_loss: 0.1961 - val_mae: 0.1961\n",
      "Epoch 29/35\n",
      "611/611 - 1s - 2ms/step - loss: 0.1853 - mae: 0.1853 - val_loss: 0.1904 - val_mae: 0.1904\n",
      "Epoch 30/35\n",
      "611/611 - 1s - 2ms/step - loss: 0.1847 - mae: 0.1847 - val_loss: 0.1995 - val_mae: 0.1995\n",
      "Epoch 31/35\n",
      "611/611 - 1s - 2ms/step - loss: 0.1845 - mae: 0.1845 - val_loss: 0.1901 - val_mae: 0.1901\n",
      "Epoch 32/35\n",
      "611/611 - 1s - 2ms/step - loss: 0.1866 - mae: 0.1866 - val_loss: 0.1898 - val_mae: 0.1898\n",
      "Epoch 33/35\n",
      "611/611 - 1s - 2ms/step - loss: 0.1841 - mae: 0.1841 - val_loss: 0.1942 - val_mae: 0.1942\n",
      "Epoch 34/35\n",
      "611/611 - 2s - 3ms/step - loss: 0.1832 - mae: 0.1832 - val_loss: 0.1908 - val_mae: 0.1908\n",
      "Epoch 35/35\n",
      "611/611 - 1s - 2ms/step - loss: 0.1839 - mae: 0.1839 - val_loss: 0.1898 - val_mae: 0.1898\n",
      "\u001b[1m44/44\u001b[0m \u001b[32m━━━━━━━━━━━━━━━━━━━━\u001b[0m\u001b[37m\u001b[0m \u001b[1m0s\u001b[0m 4ms/step\n"
     ]
    },
    {
     "data": {
      "text/html": [
       "\n",
       "    <style>\n",
       "        .wandb-row {\n",
       "            display: flex;\n",
       "            flex-direction: row;\n",
       "            flex-wrap: wrap;\n",
       "            justify-content: flex-start;\n",
       "            width: 100%;\n",
       "        }\n",
       "        .wandb-col {\n",
       "            display: flex;\n",
       "            flex-direction: column;\n",
       "            flex-basis: 100%;\n",
       "            flex: 1;\n",
       "            padding: 10px;\n",
       "        }\n",
       "    </style>\n",
       "<div class=\"wandb-row\"><div class=\"wandb-col\"><h3>Run history:</h3><br/><table class=\"wandb\"><tr><td>Max Absolute Error (Test)</td><td>▁</td></tr><tr><td>Mean Absolute Error (Test)</td><td>▁</td></tr><tr><td>R²</td><td>▁</td></tr><tr><td>Test Loss</td><td>▁</td></tr><tr><td>Test MAE</td><td>▁</td></tr><tr><td>epoch</td><td>▁▁▁▂▂▂▂▂▃▃▃▃▃▄▄▄▄▅▅▅▅▅▆▆▆▆▆▇▇▇▇▇███</td></tr><tr><td>epoch/epoch</td><td>▁▁▁▂▂▂▂▂▃▃▃▃▃▄▄▄▄▅▅▅▅▅▆▆▆▆▆▇▇▇▇▇███</td></tr><tr><td>epoch/learning_rate</td><td>▁▁▁▁▁▁▁▁▁▁▁▁▁▁▁▁▁▁▁▁▁▁▁▁▁▁▁▁▁▁▁▁▁▁▁</td></tr><tr><td>epoch/loss</td><td>█▇▆▆▆▆▅▄▄▃▃▃▂▂▂▂▂▂▂▂▂▁▁▁▁▁▁▁▁▁▁▁▁▁▁</td></tr><tr><td>epoch/mae</td><td>█▇▆▆▆▆▅▄▄▃▃▃▂▂▂▂▂▂▂▂▂▁▁▁▁▁▁▁▁▁▁▁▁▁▁</td></tr><tr><td>epoch/val_loss</td><td>█▇█▆▆▆▅▄▃▃▃▃▂▂▂▂▂▂▂▂▁▂▂▁▁▁▁▁▁▂▁▁▁▁▁</td></tr><tr><td>epoch/val_mae</td><td>█▇█▆▆▆▅▄▃▃▃▃▂▂▂▂▂▂▂▂▁▂▂▁▁▁▁▁▁▂▁▁▁▁▁</td></tr><tr><td>train_loss</td><td>█▇▆▆▆▆▅▄▄▃▃▃▂▂▂▂▂▂▂▂▂▁▁▁▁▁▁▁▁▁▁▁▁▁▁</td></tr><tr><td>train_mae</td><td>█▇▆▆▆▆▅▄▄▃▃▃▂▂▂▂▂▂▂▂▂▁▁▁▁▁▁▁▁▁▁▁▁▁▁</td></tr><tr><td>val_loss</td><td>█▇█▆▆▆▅▄▃▃▃▃▂▂▂▂▂▂▂▂▁▂▂▁▁▁▁▁▁▂▁▁▁▁▁</td></tr><tr><td>val_mae</td><td>█▇█▆▆▆▅▄▃▃▃▃▂▂▂▂▂▂▂▂▁▂▂▁▁▁▁▁▁▂▁▁▁▁▁</td></tr></table><br/></div><div class=\"wandb-col\"><h3>Run summary:</h3><br/><table class=\"wandb\"><tr><td>Max Absolute Error (Test)</td><td>1.00661</td></tr><tr><td>Mean Absolute Error (Test)</td><td>0.17811</td></tr><tr><td>R²</td><td>0.417</td></tr><tr><td>Test Loss</td><td>0.17811</td></tr><tr><td>Test MAE</td><td>0.17811</td></tr><tr><td>epoch</td><td>34</td></tr><tr><td>epoch/epoch</td><td>34</td></tr><tr><td>epoch/learning_rate</td><td>0.001</td></tr><tr><td>epoch/loss</td><td>0.18394</td></tr><tr><td>epoch/mae</td><td>0.18394</td></tr><tr><td>epoch/val_loss</td><td>0.18977</td></tr><tr><td>epoch/val_mae</td><td>0.18977</td></tr><tr><td>train_loss</td><td>0.18394</td></tr><tr><td>train_mae</td><td>0.18394</td></tr><tr><td>val_loss</td><td>0.18977</td></tr><tr><td>val_mae</td><td>0.18977</td></tr></table><br/></div></div>"
      ],
      "text/plain": [
       "<IPython.core.display.HTML object>"
      ]
     },
     "metadata": {},
     "output_type": "display_data"
    },
    {
     "data": {
      "text/html": [
       " View run <strong style=\"color:#cdcd00\">major-sweep-10</strong> at: <a href='https://wandb.ai/walt_/dose-prediction/runs/uvop7dbg' target=\"_blank\">https://wandb.ai/walt_/dose-prediction/runs/uvop7dbg</a><br/> View project at: <a href='https://wandb.ai/walt_/dose-prediction' target=\"_blank\">https://wandb.ai/walt_/dose-prediction</a><br/>Synced 5 W&B file(s), 0 media file(s), 70 artifact file(s) and 0 other file(s)"
      ],
      "text/plain": [
       "<IPython.core.display.HTML object>"
      ]
     },
     "metadata": {},
     "output_type": "display_data"
    },
    {
     "data": {
      "text/html": [
       "Find logs at: <code>./wandb/run-20241124_003358-uvop7dbg/logs</code>"
      ],
      "text/plain": [
       "<IPython.core.display.HTML object>"
      ]
     },
     "metadata": {},
     "output_type": "display_data"
    },
    {
     "name": "stderr",
     "output_type": "stream",
     "text": [
      "\u001b[34m\u001b[1mwandb\u001b[0m: Agent Starting Run: cvv2f0tf with config:\n",
      "\u001b[34m\u001b[1mwandb\u001b[0m: \tactivation_function: tanh\n",
      "\u001b[34m\u001b[1mwandb\u001b[0m: \tbatch_size: 16\n",
      "\u001b[34m\u001b[1mwandb\u001b[0m: \tepochs: 35\n",
      "\u001b[34m\u001b[1mwandb\u001b[0m: \tinput_dim: 4\n",
      "\u001b[34m\u001b[1mwandb\u001b[0m: \tlearning_rate: 0.005\n",
      "\u001b[34m\u001b[1mwandb\u001b[0m: \tloss_function: mean_absolute_error\n"
     ]
    },
    {
     "data": {
      "text/html": [
       "Tracking run with wandb version 0.18.7"
      ],
      "text/plain": [
       "<IPython.core.display.HTML object>"
      ]
     },
     "metadata": {},
     "output_type": "display_data"
    },
    {
     "data": {
      "text/html": [
       "Run data is saved locally in <code>/home/walt/FociNet/wandb/run-20241124_003459-cvv2f0tf</code>"
      ],
      "text/plain": [
       "<IPython.core.display.HTML object>"
      ]
     },
     "metadata": {},
     "output_type": "display_data"
    },
    {
     "data": {
      "text/html": [
       "Syncing run <strong><a href='https://wandb.ai/walt_/dose-prediction/runs/cvv2f0tf' target=\"_blank\">brisk-sweep-11</a></strong> to <a href='https://wandb.ai/walt_/dose-prediction' target=\"_blank\">Weights & Biases</a> (<a href='https://wandb.me/developer-guide' target=\"_blank\">docs</a>)<br/>Sweep page: <a href='https://wandb.ai/walt_/dose-prediction/sweeps/uui2wa8p' target=\"_blank\">https://wandb.ai/walt_/dose-prediction/sweeps/uui2wa8p</a>"
      ],
      "text/plain": [
       "<IPython.core.display.HTML object>"
      ]
     },
     "metadata": {},
     "output_type": "display_data"
    },
    {
     "data": {
      "text/html": [
       " View project at <a href='https://wandb.ai/walt_/dose-prediction' target=\"_blank\">https://wandb.ai/walt_/dose-prediction</a>"
      ],
      "text/plain": [
       "<IPython.core.display.HTML object>"
      ]
     },
     "metadata": {},
     "output_type": "display_data"
    },
    {
     "data": {
      "text/html": [
       " View sweep at <a href='https://wandb.ai/walt_/dose-prediction/sweeps/uui2wa8p' target=\"_blank\">https://wandb.ai/walt_/dose-prediction/sweeps/uui2wa8p</a>"
      ],
      "text/plain": [
       "<IPython.core.display.HTML object>"
      ]
     },
     "metadata": {},
     "output_type": "display_data"
    },
    {
     "data": {
      "text/html": [
       " View run at <a href='https://wandb.ai/walt_/dose-prediction/runs/cvv2f0tf' target=\"_blank\">https://wandb.ai/walt_/dose-prediction/runs/cvv2f0tf</a>"
      ],
      "text/plain": [
       "<IPython.core.display.HTML object>"
      ]
     },
     "metadata": {},
     "output_type": "display_data"
    },
    {
     "name": "stdout",
     "output_type": "stream",
     "text": [
      "Epoch 1/35\n",
      "611/611 - 3s - 5ms/step - loss: 0.2975 - mae: 0.2975 - val_loss: 0.2763 - val_mae: 0.2763\n",
      "Epoch 2/35\n",
      "611/611 - 2s - 3ms/step - loss: 0.2715 - mae: 0.2715 - val_loss: 0.2453 - val_mae: 0.2453\n",
      "Epoch 3/35\n",
      "611/611 - 1s - 2ms/step - loss: 0.2195 - mae: 0.2195 - val_loss: 0.2048 - val_mae: 0.2048\n",
      "Epoch 4/35\n",
      "611/611 - 2s - 3ms/step - loss: 0.2038 - mae: 0.2038 - val_loss: 0.2008 - val_mae: 0.2008\n",
      "Epoch 5/35\n",
      "611/611 - 2s - 3ms/step - loss: 0.1994 - mae: 0.1994 - val_loss: 0.2117 - val_mae: 0.2117\n",
      "Epoch 6/35\n",
      "611/611 - 1s - 2ms/step - loss: 0.1962 - mae: 0.1962 - val_loss: 0.2038 - val_mae: 0.2038\n",
      "Epoch 7/35\n",
      "611/611 - 2s - 3ms/step - loss: 0.1934 - mae: 0.1934 - val_loss: 0.1993 - val_mae: 0.1993\n",
      "Epoch 8/35\n",
      "611/611 - 1s - 2ms/step - loss: 0.1909 - mae: 0.1909 - val_loss: 0.1902 - val_mae: 0.1902\n",
      "Epoch 9/35\n",
      "611/611 - 1s - 2ms/step - loss: 0.1892 - mae: 0.1892 - val_loss: 0.1893 - val_mae: 0.1893\n",
      "Epoch 10/35\n",
      "611/611 - 1s - 2ms/step - loss: 0.1877 - mae: 0.1877 - val_loss: 0.1879 - val_mae: 0.1879\n",
      "Epoch 11/35\n",
      "611/611 - 2s - 3ms/step - loss: 0.1900 - mae: 0.1900 - val_loss: 0.1961 - val_mae: 0.1961\n",
      "Epoch 12/35\n",
      "611/611 - 1s - 2ms/step - loss: 0.1870 - mae: 0.1870 - val_loss: 0.1873 - val_mae: 0.1873\n",
      "Epoch 13/35\n",
      "611/611 - 1s - 2ms/step - loss: 0.1925 - mae: 0.1925 - val_loss: 0.1925 - val_mae: 0.1925\n",
      "Epoch 14/35\n",
      "611/611 - 1s - 2ms/step - loss: 0.1866 - mae: 0.1866 - val_loss: 0.1879 - val_mae: 0.1879\n",
      "Epoch 15/35\n",
      "611/611 - 1s - 2ms/step - loss: 0.1859 - mae: 0.1859 - val_loss: 0.1858 - val_mae: 0.1858\n",
      "Epoch 16/35\n",
      "611/611 - 2s - 2ms/step - loss: 0.1856 - mae: 0.1856 - val_loss: 0.1927 - val_mae: 0.1927\n",
      "Epoch 17/35\n",
      "611/611 - 1s - 2ms/step - loss: 0.1898 - mae: 0.1898 - val_loss: 0.1863 - val_mae: 0.1863\n",
      "Epoch 18/35\n",
      "611/611 - 1s - 2ms/step - loss: 0.1839 - mae: 0.1839 - val_loss: 0.1844 - val_mae: 0.1844\n",
      "Epoch 19/35\n",
      "611/611 - 1s - 2ms/step - loss: 0.1867 - mae: 0.1867 - val_loss: 0.1928 - val_mae: 0.1928\n",
      "Epoch 20/35\n",
      "611/611 - 1s - 2ms/step - loss: 0.1816 - mae: 0.1816 - val_loss: 0.1844 - val_mae: 0.1844\n",
      "Epoch 21/35\n",
      "611/611 - 2s - 3ms/step - loss: 0.1846 - mae: 0.1846 - val_loss: 0.1849 - val_mae: 0.1849\n",
      "Epoch 22/35\n",
      "611/611 - 2s - 3ms/step - loss: 0.1841 - mae: 0.1841 - val_loss: 0.1848 - val_mae: 0.1848\n",
      "Epoch 23/35\n",
      "611/611 - 1s - 2ms/step - loss: 0.1841 - mae: 0.1841 - val_loss: 0.1849 - val_mae: 0.1849\n",
      "Epoch 24/35\n",
      "611/611 - 1s - 2ms/step - loss: 0.1833 - mae: 0.1833 - val_loss: 0.1873 - val_mae: 0.1873\n",
      "Epoch 25/35\n",
      "611/611 - 4s - 7ms/step - loss: 0.1808 - mae: 0.1808 - val_loss: 0.2363 - val_mae: 0.2363\n",
      "Epoch 26/35\n",
      "611/611 - 2s - 3ms/step - loss: 0.1811 - mae: 0.1811 - val_loss: 0.1819 - val_mae: 0.1819\n",
      "Epoch 27/35\n",
      "611/611 - 2s - 3ms/step - loss: 0.1850 - mae: 0.1850 - val_loss: 0.1844 - val_mae: 0.1844\n",
      "Epoch 28/35\n",
      "611/611 - 1s - 2ms/step - loss: 0.1825 - mae: 0.1825 - val_loss: 0.1877 - val_mae: 0.1877\n",
      "Epoch 29/35\n",
      "611/611 - 2s - 3ms/step - loss: 0.1829 - mae: 0.1829 - val_loss: 0.1909 - val_mae: 0.1909\n",
      "Epoch 30/35\n",
      "611/611 - 1s - 2ms/step - loss: 0.1810 - mae: 0.1810 - val_loss: 0.2013 - val_mae: 0.2013\n",
      "Epoch 31/35\n",
      "611/611 - 2s - 3ms/step - loss: 0.1831 - mae: 0.1831 - val_loss: 0.2187 - val_mae: 0.2187\n",
      "Epoch 32/35\n",
      "611/611 - 1s - 2ms/step - loss: 0.1861 - mae: 0.1861 - val_loss: 0.1933 - val_mae: 0.1933\n",
      "Epoch 33/35\n",
      "611/611 - 2s - 3ms/step - loss: 0.1827 - mae: 0.1827 - val_loss: 0.1854 - val_mae: 0.1854\n",
      "Epoch 34/35\n",
      "611/611 - 1s - 2ms/step - loss: 0.1824 - mae: 0.1824 - val_loss: 0.1859 - val_mae: 0.1859\n",
      "Epoch 35/35\n",
      "611/611 - 1s - 2ms/step - loss: 0.1811 - mae: 0.1811 - val_loss: 0.1845 - val_mae: 0.1845\n",
      "\u001b[1m44/44\u001b[0m \u001b[32m━━━━━━━━━━━━━━━━━━━━\u001b[0m\u001b[37m\u001b[0m \u001b[1m0s\u001b[0m 4ms/step\n"
     ]
    },
    {
     "data": {
      "text/html": [
       "\n",
       "    <style>\n",
       "        .wandb-row {\n",
       "            display: flex;\n",
       "            flex-direction: row;\n",
       "            flex-wrap: wrap;\n",
       "            justify-content: flex-start;\n",
       "            width: 100%;\n",
       "        }\n",
       "        .wandb-col {\n",
       "            display: flex;\n",
       "            flex-direction: column;\n",
       "            flex-basis: 100%;\n",
       "            flex: 1;\n",
       "            padding: 10px;\n",
       "        }\n",
       "    </style>\n",
       "<div class=\"wandb-row\"><div class=\"wandb-col\"><h3>Run history:</h3><br/><table class=\"wandb\"><tr><td>Max Absolute Error (Test)</td><td>▁</td></tr><tr><td>Mean Absolute Error (Test)</td><td>▁</td></tr><tr><td>R²</td><td>▁</td></tr><tr><td>Test Loss</td><td>▁</td></tr><tr><td>Test MAE</td><td>▁</td></tr><tr><td>epoch</td><td>▁▁▁▂▂▂▂▂▃▃▃▃▃▄▄▄▄▅▅▅▅▅▆▆▆▆▆▇▇▇▇▇███</td></tr><tr><td>epoch/epoch</td><td>▁▁▁▂▂▂▂▂▃▃▃▃▃▄▄▄▄▅▅▅▅▅▆▆▆▆▆▇▇▇▇▇███</td></tr><tr><td>epoch/learning_rate</td><td>▁▁▁▁▁▁▁▁▁▁▁▁▁▁▁▁▁▁▁▁▁▁▁▁▁▁▁▁▁▁▁▁▁▁▁</td></tr><tr><td>epoch/loss</td><td>█▆▃▂▂▂▂▂▂▁▂▁▂▁▁▁▂▁▁▁▁▁▁▁▁▁▁▁▁▁▁▁▁▁▁</td></tr><tr><td>epoch/mae</td><td>█▆▃▂▂▂▂▂▂▁▂▁▂▁▁▁▂▁▁▁▁▁▁▁▁▁▁▁▁▁▁▁▁▁▁</td></tr><tr><td>epoch/val_loss</td><td>█▆▃▂▃▃▂▂▂▁▂▁▂▁▁▂▁▁▂▁▁▁▁▁▅▁▁▁▂▂▄▂▁▁▁</td></tr><tr><td>epoch/val_mae</td><td>█▆▃▂▃▃▂▂▂▁▂▁▂▁▁▂▁▁▂▁▁▁▁▁▅▁▁▁▂▂▄▂▁▁▁</td></tr><tr><td>train_loss</td><td>█▆▃▂▂▂▂▂▂▁▂▁▂▁▁▁▂▁▁▁▁▁▁▁▁▁▁▁▁▁▁▁▁▁▁</td></tr><tr><td>train_mae</td><td>█▆▃▂▂▂▂▂▂▁▂▁▂▁▁▁▂▁▁▁▁▁▁▁▁▁▁▁▁▁▁▁▁▁▁</td></tr><tr><td>val_loss</td><td>█▆▃▂▃▃▂▂▂▁▂▁▂▁▁▂▁▁▂▁▁▁▁▁▅▁▁▁▂▂▄▂▁▁▁</td></tr><tr><td>val_mae</td><td>█▆▃▂▃▃▂▂▂▁▂▁▂▁▁▂▁▁▂▁▁▁▁▁▅▁▁▁▂▂▄▂▁▁▁</td></tr></table><br/></div><div class=\"wandb-col\"><h3>Run summary:</h3><br/><table class=\"wandb\"><tr><td>Max Absolute Error (Test)</td><td>1.00604</td></tr><tr><td>Mean Absolute Error (Test)</td><td>0.17746</td></tr><tr><td>R²</td><td>0.32043</td></tr><tr><td>Test Loss</td><td>0.17746</td></tr><tr><td>Test MAE</td><td>0.17746</td></tr><tr><td>epoch</td><td>34</td></tr><tr><td>epoch/epoch</td><td>34</td></tr><tr><td>epoch/learning_rate</td><td>0.005</td></tr><tr><td>epoch/loss</td><td>0.18107</td></tr><tr><td>epoch/mae</td><td>0.18107</td></tr><tr><td>epoch/val_loss</td><td>0.18454</td></tr><tr><td>epoch/val_mae</td><td>0.18454</td></tr><tr><td>train_loss</td><td>0.18107</td></tr><tr><td>train_mae</td><td>0.18107</td></tr><tr><td>val_loss</td><td>0.18454</td></tr><tr><td>val_mae</td><td>0.18454</td></tr></table><br/></div></div>"
      ],
      "text/plain": [
       "<IPython.core.display.HTML object>"
      ]
     },
     "metadata": {},
     "output_type": "display_data"
    },
    {
     "data": {
      "text/html": [
       " View run <strong style=\"color:#cdcd00\">brisk-sweep-11</strong> at: <a href='https://wandb.ai/walt_/dose-prediction/runs/cvv2f0tf' target=\"_blank\">https://wandb.ai/walt_/dose-prediction/runs/cvv2f0tf</a><br/> View project at: <a href='https://wandb.ai/walt_/dose-prediction' target=\"_blank\">https://wandb.ai/walt_/dose-prediction</a><br/>Synced 5 W&B file(s), 0 media file(s), 70 artifact file(s) and 0 other file(s)"
      ],
      "text/plain": [
       "<IPython.core.display.HTML object>"
      ]
     },
     "metadata": {},
     "output_type": "display_data"
    },
    {
     "data": {
      "text/html": [
       "Find logs at: <code>./wandb/run-20241124_003459-cvv2f0tf/logs</code>"
      ],
      "text/plain": [
       "<IPython.core.display.HTML object>"
      ]
     },
     "metadata": {},
     "output_type": "display_data"
    },
    {
     "name": "stderr",
     "output_type": "stream",
     "text": [
      "\u001b[34m\u001b[1mwandb\u001b[0m: Agent Starting Run: l9zy2aqc with config:\n",
      "\u001b[34m\u001b[1mwandb\u001b[0m: \tactivation_function: tanh\n",
      "\u001b[34m\u001b[1mwandb\u001b[0m: \tbatch_size: 16\n",
      "\u001b[34m\u001b[1mwandb\u001b[0m: \tepochs: 35\n",
      "\u001b[34m\u001b[1mwandb\u001b[0m: \tinput_dim: 4\n",
      "\u001b[34m\u001b[1mwandb\u001b[0m: \tlearning_rate: 0.01\n",
      "\u001b[34m\u001b[1mwandb\u001b[0m: \tloss_function: mean_absolute_error\n"
     ]
    },
    {
     "data": {
      "text/html": [
       "Tracking run with wandb version 0.18.7"
      ],
      "text/plain": [
       "<IPython.core.display.HTML object>"
      ]
     },
     "metadata": {},
     "output_type": "display_data"
    },
    {
     "data": {
      "text/html": [
       "Run data is saved locally in <code>/home/walt/FociNet/wandb/run-20241124_003600-l9zy2aqc</code>"
      ],
      "text/plain": [
       "<IPython.core.display.HTML object>"
      ]
     },
     "metadata": {},
     "output_type": "display_data"
    },
    {
     "data": {
      "text/html": [
       "Syncing run <strong><a href='https://wandb.ai/walt_/dose-prediction/runs/l9zy2aqc' target=\"_blank\">glorious-sweep-12</a></strong> to <a href='https://wandb.ai/walt_/dose-prediction' target=\"_blank\">Weights & Biases</a> (<a href='https://wandb.me/developer-guide' target=\"_blank\">docs</a>)<br/>Sweep page: <a href='https://wandb.ai/walt_/dose-prediction/sweeps/uui2wa8p' target=\"_blank\">https://wandb.ai/walt_/dose-prediction/sweeps/uui2wa8p</a>"
      ],
      "text/plain": [
       "<IPython.core.display.HTML object>"
      ]
     },
     "metadata": {},
     "output_type": "display_data"
    },
    {
     "data": {
      "text/html": [
       " View project at <a href='https://wandb.ai/walt_/dose-prediction' target=\"_blank\">https://wandb.ai/walt_/dose-prediction</a>"
      ],
      "text/plain": [
       "<IPython.core.display.HTML object>"
      ]
     },
     "metadata": {},
     "output_type": "display_data"
    },
    {
     "data": {
      "text/html": [
       " View sweep at <a href='https://wandb.ai/walt_/dose-prediction/sweeps/uui2wa8p' target=\"_blank\">https://wandb.ai/walt_/dose-prediction/sweeps/uui2wa8p</a>"
      ],
      "text/plain": [
       "<IPython.core.display.HTML object>"
      ]
     },
     "metadata": {},
     "output_type": "display_data"
    },
    {
     "data": {
      "text/html": [
       " View run at <a href='https://wandb.ai/walt_/dose-prediction/runs/l9zy2aqc' target=\"_blank\">https://wandb.ai/walt_/dose-prediction/runs/l9zy2aqc</a>"
      ],
      "text/plain": [
       "<IPython.core.display.HTML object>"
      ]
     },
     "metadata": {},
     "output_type": "display_data"
    },
    {
     "name": "stdout",
     "output_type": "stream",
     "text": [
      "Epoch 1/35\n",
      "611/611 - 3s - 5ms/step - loss: 0.2900 - mae: 0.2900 - val_loss: 0.2276 - val_mae: 0.2276\n",
      "Epoch 2/35\n",
      "611/611 - 2s - 2ms/step - loss: 0.2237 - mae: 0.2237 - val_loss: 0.2055 - val_mae: 0.2055\n",
      "Epoch 3/35\n",
      "611/611 - 1s - 2ms/step - loss: 0.2083 - mae: 0.2083 - val_loss: 0.2076 - val_mae: 0.2076\n",
      "Epoch 4/35\n",
      "611/611 - 2s - 3ms/step - loss: 0.1980 - mae: 0.1980 - val_loss: 0.2009 - val_mae: 0.2009\n",
      "Epoch 5/35\n",
      "611/611 - 1s - 2ms/step - loss: 0.1944 - mae: 0.1944 - val_loss: 0.1925 - val_mae: 0.1925\n",
      "Epoch 6/35\n",
      "611/611 - 1s - 2ms/step - loss: 0.1978 - mae: 0.1978 - val_loss: 0.2393 - val_mae: 0.2393\n",
      "Epoch 7/35\n",
      "611/611 - 1s - 2ms/step - loss: 0.1988 - mae: 0.1988 - val_loss: 0.1994 - val_mae: 0.1994\n",
      "Epoch 8/35\n",
      "611/611 - 1s - 2ms/step - loss: 0.1907 - mae: 0.1907 - val_loss: 0.1925 - val_mae: 0.1925\n",
      "Epoch 9/35\n",
      "611/611 - 2s - 3ms/step - loss: 0.1902 - mae: 0.1902 - val_loss: 0.2095 - val_mae: 0.2095\n",
      "Epoch 10/35\n",
      "611/611 - 1s - 2ms/step - loss: 0.1920 - mae: 0.1920 - val_loss: 0.1905 - val_mae: 0.1905\n",
      "Epoch 11/35\n",
      "611/611 - 1s - 2ms/step - loss: 0.1906 - mae: 0.1906 - val_loss: 0.1999 - val_mae: 0.1999\n",
      "Epoch 12/35\n",
      "611/611 - 1s - 2ms/step - loss: 0.1921 - mae: 0.1921 - val_loss: 0.1922 - val_mae: 0.1922\n",
      "Epoch 13/35\n",
      "611/611 - 1s - 2ms/step - loss: 0.1857 - mae: 0.1857 - val_loss: 0.1948 - val_mae: 0.1948\n",
      "Epoch 14/35\n",
      "611/611 - 1s - 2ms/step - loss: 0.1898 - mae: 0.1898 - val_loss: 0.1875 - val_mae: 0.1875\n",
      "Epoch 15/35\n",
      "611/611 - 1s - 2ms/step - loss: 0.1893 - mae: 0.1893 - val_loss: 0.1975 - val_mae: 0.1975\n",
      "Epoch 16/35\n",
      "611/611 - 1s - 2ms/step - loss: 0.1880 - mae: 0.1880 - val_loss: 0.1885 - val_mae: 0.1885\n",
      "Epoch 17/35\n",
      "611/611 - 1s - 2ms/step - loss: 0.1944 - mae: 0.1944 - val_loss: 0.2001 - val_mae: 0.2001\n",
      "Epoch 18/35\n",
      "611/611 - 1s - 2ms/step - loss: 0.1847 - mae: 0.1847 - val_loss: 0.1851 - val_mae: 0.1851\n",
      "Epoch 19/35\n",
      "611/611 - 1s - 2ms/step - loss: 0.1903 - mae: 0.1903 - val_loss: 0.2024 - val_mae: 0.2024\n",
      "Epoch 20/35\n",
      "611/611 - 2s - 3ms/step - loss: 0.1859 - mae: 0.1859 - val_loss: 0.1896 - val_mae: 0.1896\n",
      "Epoch 21/35\n",
      "611/611 - 1s - 2ms/step - loss: 0.1890 - mae: 0.1890 - val_loss: 0.1863 - val_mae: 0.1863\n",
      "Epoch 22/35\n",
      "611/611 - 1s - 2ms/step - loss: 0.1902 - mae: 0.1902 - val_loss: 0.1898 - val_mae: 0.1898\n",
      "Epoch 23/35\n",
      "611/611 - 1s - 2ms/step - loss: 0.1892 - mae: 0.1892 - val_loss: 0.2117 - val_mae: 0.2117\n",
      "Epoch 24/35\n",
      "611/611 - 1s - 2ms/step - loss: 0.1837 - mae: 0.1837 - val_loss: 0.1906 - val_mae: 0.1906\n",
      "Epoch 25/35\n",
      "611/611 - 1s - 2ms/step - loss: 0.1864 - mae: 0.1864 - val_loss: 0.1863 - val_mae: 0.1863\n",
      "Epoch 26/35\n",
      "611/611 - 1s - 2ms/step - loss: 0.1964 - mae: 0.1964 - val_loss: 0.1912 - val_mae: 0.1912\n",
      "Epoch 27/35\n",
      "611/611 - 1s - 2ms/step - loss: 0.1841 - mae: 0.1841 - val_loss: 0.1851 - val_mae: 0.1851\n",
      "Epoch 28/35\n",
      "611/611 - 2s - 3ms/step - loss: 0.1923 - mae: 0.1923 - val_loss: 0.1904 - val_mae: 0.1904\n",
      "Epoch 29/35\n",
      "611/611 - 1s - 2ms/step - loss: 0.1873 - mae: 0.1873 - val_loss: 0.1904 - val_mae: 0.1904\n",
      "Epoch 30/35\n",
      "611/611 - 2s - 3ms/step - loss: 0.1907 - mae: 0.1907 - val_loss: 0.1936 - val_mae: 0.1936\n",
      "Epoch 31/35\n",
      "611/611 - 1s - 2ms/step - loss: 0.1922 - mae: 0.1922 - val_loss: 0.2132 - val_mae: 0.2132\n",
      "Epoch 32/35\n",
      "611/611 - 1s - 2ms/step - loss: 0.1919 - mae: 0.1919 - val_loss: 0.1881 - val_mae: 0.1881\n",
      "Epoch 33/35\n",
      "611/611 - 2s - 4ms/step - loss: 0.1856 - mae: 0.1856 - val_loss: 0.1892 - val_mae: 0.1892\n",
      "Epoch 34/35\n",
      "611/611 - 2s - 3ms/step - loss: 0.1818 - mae: 0.1818 - val_loss: 0.2149 - val_mae: 0.2149\n",
      "Epoch 35/35\n",
      "611/611 - 2s - 3ms/step - loss: 0.1864 - mae: 0.1864 - val_loss: 0.1887 - val_mae: 0.1887\n",
      "\u001b[1m44/44\u001b[0m \u001b[32m━━━━━━━━━━━━━━━━━━━━\u001b[0m\u001b[37m\u001b[0m \u001b[1m0s\u001b[0m 4ms/step\n"
     ]
    },
    {
     "data": {
      "text/html": [
       "\n",
       "    <style>\n",
       "        .wandb-row {\n",
       "            display: flex;\n",
       "            flex-direction: row;\n",
       "            flex-wrap: wrap;\n",
       "            justify-content: flex-start;\n",
       "            width: 100%;\n",
       "        }\n",
       "        .wandb-col {\n",
       "            display: flex;\n",
       "            flex-direction: column;\n",
       "            flex-basis: 100%;\n",
       "            flex: 1;\n",
       "            padding: 10px;\n",
       "        }\n",
       "    </style>\n",
       "<div class=\"wandb-row\"><div class=\"wandb-col\"><h3>Run history:</h3><br/><table class=\"wandb\"><tr><td>Max Absolute Error (Test)</td><td>▁</td></tr><tr><td>Mean Absolute Error (Test)</td><td>▁</td></tr><tr><td>R²</td><td>▁</td></tr><tr><td>Test Loss</td><td>▁</td></tr><tr><td>Test MAE</td><td>▁</td></tr><tr><td>epoch</td><td>▁▁▁▂▂▂▂▂▃▃▃▃▃▄▄▄▄▅▅▅▅▅▆▆▆▆▆▇▇▇▇▇███</td></tr><tr><td>epoch/epoch</td><td>▁▁▁▂▂▂▂▂▃▃▃▃▃▄▄▄▄▅▅▅▅▅▆▆▆▆▆▇▇▇▇▇███</td></tr><tr><td>epoch/learning_rate</td><td>▁▁▁▁▁▁▁▁▁▁▁▁▁▁▁▁▁▁▁▁▁▁▁▁▁▁▁▁▁▁▁▁▁▁▁</td></tr><tr><td>epoch/loss</td><td>█▄▃▂▂▂▂▂▂▂▂▂▁▂▁▁▂▁▂▁▁▂▁▁▁▂▁▂▁▂▂▂▁▁▁</td></tr><tr><td>epoch/mae</td><td>█▄▃▂▂▂▂▂▂▂▂▂▁▂▁▁▂▁▂▁▁▂▁▁▁▂▁▂▁▂▂▂▁▁▁</td></tr><tr><td>epoch/val_loss</td><td>▆▄▄▃▂█▃▂▄▂▃▂▂▁▃▁▃▁▃▂▁▂▄▂▁▂▁▂▂▂▅▁▂▅▁</td></tr><tr><td>epoch/val_mae</td><td>▆▄▄▃▂█▃▂▄▂▃▂▂▁▃▁▃▁▃▂▁▂▄▂▁▂▁▂▂▂▅▁▂▅▁</td></tr><tr><td>train_loss</td><td>█▄▃▂▂▂▂▂▂▂▂▂▁▂▁▁▂▁▂▁▁▂▁▁▁▂▁▂▁▂▂▂▁▁▁</td></tr><tr><td>train_mae</td><td>█▄▃▂▂▂▂▂▂▂▂▂▁▂▁▁▂▁▂▁▁▂▁▁▁▂▁▂▁▂▂▂▁▁▁</td></tr><tr><td>val_loss</td><td>▆▄▄▃▂█▃▂▄▂▃▂▂▁▃▁▃▁▃▂▁▂▄▂▁▂▁▂▂▂▅▁▂▅▁</td></tr><tr><td>val_mae</td><td>▆▄▄▃▂█▃▂▄▂▃▂▂▁▃▁▃▁▃▂▁▂▄▂▁▂▁▂▂▂▅▁▂▅▁</td></tr></table><br/></div><div class=\"wandb-col\"><h3>Run summary:</h3><br/><table class=\"wandb\"><tr><td>Max Absolute Error (Test)</td><td>1.01193</td></tr><tr><td>Mean Absolute Error (Test)</td><td>0.17188</td></tr><tr><td>R²</td><td>0.3286</td></tr><tr><td>Test Loss</td><td>0.17188</td></tr><tr><td>Test MAE</td><td>0.17188</td></tr><tr><td>epoch</td><td>34</td></tr><tr><td>epoch/epoch</td><td>34</td></tr><tr><td>epoch/learning_rate</td><td>0.01</td></tr><tr><td>epoch/loss</td><td>0.18637</td></tr><tr><td>epoch/mae</td><td>0.18637</td></tr><tr><td>epoch/val_loss</td><td>0.18868</td></tr><tr><td>epoch/val_mae</td><td>0.18868</td></tr><tr><td>train_loss</td><td>0.18637</td></tr><tr><td>train_mae</td><td>0.18637</td></tr><tr><td>val_loss</td><td>0.18868</td></tr><tr><td>val_mae</td><td>0.18868</td></tr></table><br/></div></div>"
      ],
      "text/plain": [
       "<IPython.core.display.HTML object>"
      ]
     },
     "metadata": {},
     "output_type": "display_data"
    },
    {
     "data": {
      "text/html": [
       " View run <strong style=\"color:#cdcd00\">glorious-sweep-12</strong> at: <a href='https://wandb.ai/walt_/dose-prediction/runs/l9zy2aqc' target=\"_blank\">https://wandb.ai/walt_/dose-prediction/runs/l9zy2aqc</a><br/> View project at: <a href='https://wandb.ai/walt_/dose-prediction' target=\"_blank\">https://wandb.ai/walt_/dose-prediction</a><br/>Synced 5 W&B file(s), 0 media file(s), 70 artifact file(s) and 0 other file(s)"
      ],
      "text/plain": [
       "<IPython.core.display.HTML object>"
      ]
     },
     "metadata": {},
     "output_type": "display_data"
    },
    {
     "data": {
      "text/html": [
       "Find logs at: <code>./wandb/run-20241124_003600-l9zy2aqc/logs</code>"
      ],
      "text/plain": [
       "<IPython.core.display.HTML object>"
      ]
     },
     "metadata": {},
     "output_type": "display_data"
    },
    {
     "name": "stderr",
     "output_type": "stream",
     "text": [
      "\u001b[34m\u001b[1mwandb\u001b[0m: Agent Starting Run: rch35kr1 with config:\n",
      "\u001b[34m\u001b[1mwandb\u001b[0m: \tactivation_function: tanh\n",
      "\u001b[34m\u001b[1mwandb\u001b[0m: \tbatch_size: 32\n",
      "\u001b[34m\u001b[1mwandb\u001b[0m: \tepochs: 20\n",
      "\u001b[34m\u001b[1mwandb\u001b[0m: \tinput_dim: 4\n",
      "\u001b[34m\u001b[1mwandb\u001b[0m: \tlearning_rate: 0.001\n",
      "\u001b[34m\u001b[1mwandb\u001b[0m: \tloss_function: mean_absolute_error\n"
     ]
    },
    {
     "data": {
      "text/html": [
       "Tracking run with wandb version 0.18.7"
      ],
      "text/plain": [
       "<IPython.core.display.HTML object>"
      ]
     },
     "metadata": {},
     "output_type": "display_data"
    },
    {
     "data": {
      "text/html": [
       "Run data is saved locally in <code>/home/walt/FociNet/wandb/run-20241124_003701-rch35kr1</code>"
      ],
      "text/plain": [
       "<IPython.core.display.HTML object>"
      ]
     },
     "metadata": {},
     "output_type": "display_data"
    },
    {
     "data": {
      "text/html": [
       "Syncing run <strong><a href='https://wandb.ai/walt_/dose-prediction/runs/rch35kr1' target=\"_blank\">olive-sweep-13</a></strong> to <a href='https://wandb.ai/walt_/dose-prediction' target=\"_blank\">Weights & Biases</a> (<a href='https://wandb.me/developer-guide' target=\"_blank\">docs</a>)<br/>Sweep page: <a href='https://wandb.ai/walt_/dose-prediction/sweeps/uui2wa8p' target=\"_blank\">https://wandb.ai/walt_/dose-prediction/sweeps/uui2wa8p</a>"
      ],
      "text/plain": [
       "<IPython.core.display.HTML object>"
      ]
     },
     "metadata": {},
     "output_type": "display_data"
    },
    {
     "data": {
      "text/html": [
       " View project at <a href='https://wandb.ai/walt_/dose-prediction' target=\"_blank\">https://wandb.ai/walt_/dose-prediction</a>"
      ],
      "text/plain": [
       "<IPython.core.display.HTML object>"
      ]
     },
     "metadata": {},
     "output_type": "display_data"
    },
    {
     "data": {
      "text/html": [
       " View sweep at <a href='https://wandb.ai/walt_/dose-prediction/sweeps/uui2wa8p' target=\"_blank\">https://wandb.ai/walt_/dose-prediction/sweeps/uui2wa8p</a>"
      ],
      "text/plain": [
       "<IPython.core.display.HTML object>"
      ]
     },
     "metadata": {},
     "output_type": "display_data"
    },
    {
     "data": {
      "text/html": [
       " View run at <a href='https://wandb.ai/walt_/dose-prediction/runs/rch35kr1' target=\"_blank\">https://wandb.ai/walt_/dose-prediction/runs/rch35kr1</a>"
      ],
      "text/plain": [
       "<IPython.core.display.HTML object>"
      ]
     },
     "metadata": {},
     "output_type": "display_data"
    },
    {
     "name": "stdout",
     "output_type": "stream",
     "text": [
      "Epoch 1/20\n",
      "306/306 - 3s - 9ms/step - loss: 0.2977 - mae: 0.2977 - val_loss: 0.2774 - val_mae: 0.2774\n",
      "Epoch 2/20\n",
      "306/306 - 1s - 2ms/step - loss: 0.2799 - mae: 0.2799 - val_loss: 0.2888 - val_mae: 0.2888\n",
      "Epoch 3/20\n",
      "306/306 - 1s - 3ms/step - loss: 0.2747 - mae: 0.2747 - val_loss: 0.2652 - val_mae: 0.2652\n",
      "Epoch 4/20\n",
      "306/306 - 1s - 3ms/step - loss: 0.2698 - mae: 0.2698 - val_loss: 0.2680 - val_mae: 0.2680\n",
      "Epoch 5/20\n",
      "306/306 - 1s - 3ms/step - loss: 0.2663 - mae: 0.2663 - val_loss: 0.2623 - val_mae: 0.2623\n",
      "Epoch 6/20\n",
      "306/306 - 2s - 6ms/step - loss: 0.2660 - mae: 0.2660 - val_loss: 0.2636 - val_mae: 0.2636\n",
      "Epoch 7/20\n",
      "306/306 - 1s - 3ms/step - loss: 0.2634 - mae: 0.2634 - val_loss: 0.2613 - val_mae: 0.2613\n",
      "Epoch 8/20\n",
      "306/306 - 1s - 3ms/step - loss: 0.2618 - mae: 0.2618 - val_loss: 0.2653 - val_mae: 0.2653\n",
      "Epoch 9/20\n",
      "306/306 - 1s - 2ms/step - loss: 0.2604 - mae: 0.2604 - val_loss: 0.2574 - val_mae: 0.2574\n",
      "Epoch 10/20\n",
      "306/306 - 1s - 3ms/step - loss: 0.2608 - mae: 0.2608 - val_loss: 0.2627 - val_mae: 0.2627\n",
      "Epoch 11/20\n",
      "306/306 - 1s - 2ms/step - loss: 0.2603 - mae: 0.2603 - val_loss: 0.2666 - val_mae: 0.2666\n",
      "Epoch 12/20\n",
      "306/306 - 1s - 3ms/step - loss: 0.2578 - mae: 0.2578 - val_loss: 0.2555 - val_mae: 0.2555\n",
      "Epoch 13/20\n",
      "306/306 - 1s - 3ms/step - loss: 0.2559 - mae: 0.2559 - val_loss: 0.2505 - val_mae: 0.2505\n",
      "Epoch 14/20\n",
      "306/306 - 1s - 3ms/step - loss: 0.2519 - mae: 0.2519 - val_loss: 0.2475 - val_mae: 0.2475\n",
      "Epoch 15/20\n",
      "306/306 - 1s - 3ms/step - loss: 0.2450 - mae: 0.2450 - val_loss: 0.2411 - val_mae: 0.2411\n",
      "Epoch 16/20\n",
      "306/306 - 1s - 2ms/step - loss: 0.2390 - mae: 0.2390 - val_loss: 0.2361 - val_mae: 0.2361\n",
      "Epoch 17/20\n",
      "306/306 - 1s - 3ms/step - loss: 0.2339 - mae: 0.2339 - val_loss: 0.2322 - val_mae: 0.2322\n",
      "Epoch 18/20\n",
      "306/306 - 1s - 2ms/step - loss: 0.2294 - mae: 0.2294 - val_loss: 0.2286 - val_mae: 0.2286\n",
      "Epoch 19/20\n",
      "306/306 - 1s - 2ms/step - loss: 0.2268 - mae: 0.2268 - val_loss: 0.2341 - val_mae: 0.2341\n",
      "Epoch 20/20\n",
      "306/306 - 1s - 3ms/step - loss: 0.2233 - mae: 0.2233 - val_loss: 0.2229 - val_mae: 0.2229\n",
      "\u001b[1m44/44\u001b[0m \u001b[32m━━━━━━━━━━━━━━━━━━━━\u001b[0m\u001b[37m\u001b[0m \u001b[1m0s\u001b[0m 4ms/step\n"
     ]
    },
    {
     "data": {
      "text/html": [
       "\n",
       "    <style>\n",
       "        .wandb-row {\n",
       "            display: flex;\n",
       "            flex-direction: row;\n",
       "            flex-wrap: wrap;\n",
       "            justify-content: flex-start;\n",
       "            width: 100%;\n",
       "        }\n",
       "        .wandb-col {\n",
       "            display: flex;\n",
       "            flex-direction: column;\n",
       "            flex-basis: 100%;\n",
       "            flex: 1;\n",
       "            padding: 10px;\n",
       "        }\n",
       "    </style>\n",
       "<div class=\"wandb-row\"><div class=\"wandb-col\"><h3>Run history:</h3><br/><table class=\"wandb\"><tr><td>Max Absolute Error (Test)</td><td>▁</td></tr><tr><td>Mean Absolute Error (Test)</td><td>▁</td></tr><tr><td>R²</td><td>▁</td></tr><tr><td>Test Loss</td><td>▁</td></tr><tr><td>Test MAE</td><td>▁</td></tr><tr><td>epoch</td><td>▁▁▂▂▂▃▃▄▄▄▅▅▅▆▆▇▇▇██</td></tr><tr><td>epoch/epoch</td><td>▁▁▂▂▂▃▃▄▄▄▅▅▅▆▆▇▇▇██</td></tr><tr><td>epoch/learning_rate</td><td>▁▁▁▁▁▁▁▁▁▁▁▁▁▁▁▁▁▁▁▁</td></tr><tr><td>epoch/loss</td><td>█▆▆▅▅▅▅▅▄▅▄▄▄▄▃▂▂▂▁▁</td></tr><tr><td>epoch/mae</td><td>█▆▆▅▅▅▅▅▄▅▄▄▄▄▃▂▂▂▁▁</td></tr><tr><td>epoch/val_loss</td><td>▇█▅▆▅▅▅▆▅▅▆▄▄▄▃▂▂▂▂▁</td></tr><tr><td>epoch/val_mae</td><td>▇█▅▆▅▅▅▆▅▅▆▄▄▄▃▂▂▂▂▁</td></tr><tr><td>train_loss</td><td>█▆▆▅▅▅▅▅▄▅▄▄▄▄▃▂▂▂▁▁</td></tr><tr><td>train_mae</td><td>█▆▆▅▅▅▅▅▄▅▄▄▄▄▃▂▂▂▁▁</td></tr><tr><td>val_loss</td><td>▇█▅▆▅▅▅▆▅▅▆▄▄▄▃▂▂▂▂▁</td></tr><tr><td>val_mae</td><td>▇█▅▆▅▅▅▆▅▅▆▄▄▄▃▂▂▂▂▁</td></tr></table><br/></div><div class=\"wandb-col\"><h3>Run summary:</h3><br/><table class=\"wandb\"><tr><td>Max Absolute Error (Test)</td><td>1.21645</td></tr><tr><td>Mean Absolute Error (Test)</td><td>0.21984</td></tr><tr><td>R²</td><td>0.40474</td></tr><tr><td>Test Loss</td><td>0.21984</td></tr><tr><td>Test MAE</td><td>0.21984</td></tr><tr><td>epoch</td><td>19</td></tr><tr><td>epoch/epoch</td><td>19</td></tr><tr><td>epoch/learning_rate</td><td>0.001</td></tr><tr><td>epoch/loss</td><td>0.22328</td></tr><tr><td>epoch/mae</td><td>0.22328</td></tr><tr><td>epoch/val_loss</td><td>0.22287</td></tr><tr><td>epoch/val_mae</td><td>0.22287</td></tr><tr><td>train_loss</td><td>0.22328</td></tr><tr><td>train_mae</td><td>0.22328</td></tr><tr><td>val_loss</td><td>0.22287</td></tr><tr><td>val_mae</td><td>0.22287</td></tr></table><br/></div></div>"
      ],
      "text/plain": [
       "<IPython.core.display.HTML object>"
      ]
     },
     "metadata": {},
     "output_type": "display_data"
    },
    {
     "data": {
      "text/html": [
       " View run <strong style=\"color:#cdcd00\">olive-sweep-13</strong> at: <a href='https://wandb.ai/walt_/dose-prediction/runs/rch35kr1' target=\"_blank\">https://wandb.ai/walt_/dose-prediction/runs/rch35kr1</a><br/> View project at: <a href='https://wandb.ai/walt_/dose-prediction' target=\"_blank\">https://wandb.ai/walt_/dose-prediction</a><br/>Synced 5 W&B file(s), 0 media file(s), 40 artifact file(s) and 0 other file(s)"
      ],
      "text/plain": [
       "<IPython.core.display.HTML object>"
      ]
     },
     "metadata": {},
     "output_type": "display_data"
    },
    {
     "data": {
      "text/html": [
       "Find logs at: <code>./wandb/run-20241124_003701-rch35kr1/logs</code>"
      ],
      "text/plain": [
       "<IPython.core.display.HTML object>"
      ]
     },
     "metadata": {},
     "output_type": "display_data"
    },
    {
     "name": "stderr",
     "output_type": "stream",
     "text": [
      "\u001b[34m\u001b[1mwandb\u001b[0m: Agent Starting Run: 63ojp6ns with config:\n",
      "\u001b[34m\u001b[1mwandb\u001b[0m: \tactivation_function: tanh\n",
      "\u001b[34m\u001b[1mwandb\u001b[0m: \tbatch_size: 32\n",
      "\u001b[34m\u001b[1mwandb\u001b[0m: \tepochs: 20\n",
      "\u001b[34m\u001b[1mwandb\u001b[0m: \tinput_dim: 4\n",
      "\u001b[34m\u001b[1mwandb\u001b[0m: \tlearning_rate: 0.005\n",
      "\u001b[34m\u001b[1mwandb\u001b[0m: \tloss_function: mean_absolute_error\n"
     ]
    },
    {
     "data": {
      "text/html": [
       "Tracking run with wandb version 0.18.7"
      ],
      "text/plain": [
       "<IPython.core.display.HTML object>"
      ]
     },
     "metadata": {},
     "output_type": "display_data"
    },
    {
     "data": {
      "text/html": [
       "Run data is saved locally in <code>/home/walt/FociNet/wandb/run-20241124_003736-63ojp6ns</code>"
      ],
      "text/plain": [
       "<IPython.core.display.HTML object>"
      ]
     },
     "metadata": {},
     "output_type": "display_data"
    },
    {
     "data": {
      "text/html": [
       "Syncing run <strong><a href='https://wandb.ai/walt_/dose-prediction/runs/63ojp6ns' target=\"_blank\">brisk-sweep-14</a></strong> to <a href='https://wandb.ai/walt_/dose-prediction' target=\"_blank\">Weights & Biases</a> (<a href='https://wandb.me/developer-guide' target=\"_blank\">docs</a>)<br/>Sweep page: <a href='https://wandb.ai/walt_/dose-prediction/sweeps/uui2wa8p' target=\"_blank\">https://wandb.ai/walt_/dose-prediction/sweeps/uui2wa8p</a>"
      ],
      "text/plain": [
       "<IPython.core.display.HTML object>"
      ]
     },
     "metadata": {},
     "output_type": "display_data"
    },
    {
     "data": {
      "text/html": [
       " View project at <a href='https://wandb.ai/walt_/dose-prediction' target=\"_blank\">https://wandb.ai/walt_/dose-prediction</a>"
      ],
      "text/plain": [
       "<IPython.core.display.HTML object>"
      ]
     },
     "metadata": {},
     "output_type": "display_data"
    },
    {
     "data": {
      "text/html": [
       " View sweep at <a href='https://wandb.ai/walt_/dose-prediction/sweeps/uui2wa8p' target=\"_blank\">https://wandb.ai/walt_/dose-prediction/sweeps/uui2wa8p</a>"
      ],
      "text/plain": [
       "<IPython.core.display.HTML object>"
      ]
     },
     "metadata": {},
     "output_type": "display_data"
    },
    {
     "data": {
      "text/html": [
       " View run at <a href='https://wandb.ai/walt_/dose-prediction/runs/63ojp6ns' target=\"_blank\">https://wandb.ai/walt_/dose-prediction/runs/63ojp6ns</a>"
      ],
      "text/plain": [
       "<IPython.core.display.HTML object>"
      ]
     },
     "metadata": {},
     "output_type": "display_data"
    },
    {
     "name": "stdout",
     "output_type": "stream",
     "text": [
      "Epoch 1/20\n",
      "306/306 - 2s - 8ms/step - loss: 0.2956 - mae: 0.2956 - val_loss: 0.2971 - val_mae: 0.2971\n",
      "Epoch 2/20\n",
      "306/306 - 1s - 3ms/step - loss: 0.2742 - mae: 0.2742 - val_loss: 0.2742 - val_mae: 0.2742\n",
      "Epoch 3/20\n",
      "306/306 - 1s - 2ms/step - loss: 0.2671 - mae: 0.2671 - val_loss: 0.2595 - val_mae: 0.2595\n",
      "Epoch 4/20\n",
      "306/306 - 1s - 3ms/step - loss: 0.2507 - mae: 0.2507 - val_loss: 0.2288 - val_mae: 0.2288\n",
      "Epoch 5/20\n",
      "306/306 - 1s - 3ms/step - loss: 0.2237 - mae: 0.2237 - val_loss: 0.2122 - val_mae: 0.2122\n",
      "Epoch 6/20\n",
      "306/306 - 1s - 3ms/step - loss: 0.2088 - mae: 0.2088 - val_loss: 0.2056 - val_mae: 0.2056\n",
      "Epoch 7/20\n",
      "306/306 - 1s - 3ms/step - loss: 0.2083 - mae: 0.2083 - val_loss: 0.2105 - val_mae: 0.2105\n",
      "Epoch 8/20\n",
      "306/306 - 1s - 3ms/step - loss: 0.1996 - mae: 0.1996 - val_loss: 0.2015 - val_mae: 0.2015\n",
      "Epoch 9/20\n",
      "306/306 - 1s - 3ms/step - loss: 0.1974 - mae: 0.1974 - val_loss: 0.2086 - val_mae: 0.2086\n",
      "Epoch 10/20\n",
      "306/306 - 1s - 3ms/step - loss: 0.1952 - mae: 0.1952 - val_loss: 0.2035 - val_mae: 0.2035\n",
      "Epoch 11/20\n",
      "306/306 - 1s - 3ms/step - loss: 0.1940 - mae: 0.1940 - val_loss: 0.2005 - val_mae: 0.2005\n",
      "Epoch 12/20\n",
      "306/306 - 1s - 3ms/step - loss: 0.1915 - mae: 0.1915 - val_loss: 0.1924 - val_mae: 0.1924\n",
      "Epoch 13/20\n",
      "306/306 - 1s - 3ms/step - loss: 0.1898 - mae: 0.1898 - val_loss: 0.1927 - val_mae: 0.1927\n",
      "Epoch 14/20\n",
      "306/306 - 1s - 3ms/step - loss: 0.1889 - mae: 0.1889 - val_loss: 0.1919 - val_mae: 0.1919\n",
      "Epoch 15/20\n",
      "306/306 - 1s - 3ms/step - loss: 0.1862 - mae: 0.1862 - val_loss: 0.1892 - val_mae: 0.1892\n",
      "Epoch 16/20\n",
      "306/306 - 1s - 3ms/step - loss: 0.1875 - mae: 0.1875 - val_loss: 0.1893 - val_mae: 0.1893\n",
      "Epoch 17/20\n",
      "306/306 - 1s - 3ms/step - loss: 0.1848 - mae: 0.1848 - val_loss: 0.1979 - val_mae: 0.1979\n",
      "Epoch 18/20\n",
      "306/306 - 1s - 2ms/step - loss: 0.1849 - mae: 0.1849 - val_loss: 0.1909 - val_mae: 0.1909\n",
      "Epoch 19/20\n",
      "306/306 - 1s - 3ms/step - loss: 0.1850 - mae: 0.1850 - val_loss: 0.1875 - val_mae: 0.1875\n",
      "Epoch 20/20\n",
      "306/306 - 1s - 2ms/step - loss: 0.1832 - mae: 0.1832 - val_loss: 0.1884 - val_mae: 0.1884\n",
      "\u001b[1m44/44\u001b[0m \u001b[32m━━━━━━━━━━━━━━━━━━━━\u001b[0m\u001b[37m\u001b[0m \u001b[1m0s\u001b[0m 4ms/step\n"
     ]
    },
    {
     "data": {
      "text/html": [
       "\n",
       "    <style>\n",
       "        .wandb-row {\n",
       "            display: flex;\n",
       "            flex-direction: row;\n",
       "            flex-wrap: wrap;\n",
       "            justify-content: flex-start;\n",
       "            width: 100%;\n",
       "        }\n",
       "        .wandb-col {\n",
       "            display: flex;\n",
       "            flex-direction: column;\n",
       "            flex-basis: 100%;\n",
       "            flex: 1;\n",
       "            padding: 10px;\n",
       "        }\n",
       "    </style>\n",
       "<div class=\"wandb-row\"><div class=\"wandb-col\"><h3>Run history:</h3><br/><table class=\"wandb\"><tr><td>Max Absolute Error (Test)</td><td>▁</td></tr><tr><td>Mean Absolute Error (Test)</td><td>▁</td></tr><tr><td>R²</td><td>▁</td></tr><tr><td>Test Loss</td><td>▁</td></tr><tr><td>Test MAE</td><td>▁</td></tr><tr><td>epoch</td><td>▁▁▂▂▂▃▃▄▄▄▅▅▅▆▆▇▇▇██</td></tr><tr><td>epoch/epoch</td><td>▁▁▂▂▂▃▃▄▄▄▅▅▅▆▆▇▇▇██</td></tr><tr><td>epoch/learning_rate</td><td>▁▁▁▁▁▁▁▁▁▁▁▁▁▁▁▁▁▁▁▁</td></tr><tr><td>epoch/loss</td><td>█▇▆▅▄▃▃▂▂▂▂▂▁▁▁▁▁▁▁▁</td></tr><tr><td>epoch/mae</td><td>█▇▆▅▄▃▃▂▂▂▂▂▁▁▁▁▁▁▁▁</td></tr><tr><td>epoch/val_loss</td><td>█▇▆▄▃▂▂▂▂▂▂▁▁▁▁▁▂▁▁▁</td></tr><tr><td>epoch/val_mae</td><td>█▇▆▄▃▂▂▂▂▂▂▁▁▁▁▁▂▁▁▁</td></tr><tr><td>train_loss</td><td>█▇▆▅▄▃▃▂▂▂▂▂▁▁▁▁▁▁▁▁</td></tr><tr><td>train_mae</td><td>█▇▆▅▄▃▃▂▂▂▂▂▁▁▁▁▁▁▁▁</td></tr><tr><td>val_loss</td><td>█▇▆▄▃▂▂▂▂▂▂▁▁▁▁▁▂▁▁▁</td></tr><tr><td>val_mae</td><td>█▇▆▄▃▂▂▂▂▂▂▁▁▁▁▁▂▁▁▁</td></tr></table><br/></div><div class=\"wandb-col\"><h3>Run summary:</h3><br/><table class=\"wandb\"><tr><td>Max Absolute Error (Test)</td><td>0.99256</td></tr><tr><td>Mean Absolute Error (Test)</td><td>0.17427</td></tr><tr><td>R²</td><td>0.41208</td></tr><tr><td>Test Loss</td><td>0.17427</td></tr><tr><td>Test MAE</td><td>0.17427</td></tr><tr><td>epoch</td><td>19</td></tr><tr><td>epoch/epoch</td><td>19</td></tr><tr><td>epoch/learning_rate</td><td>0.005</td></tr><tr><td>epoch/loss</td><td>0.1832</td></tr><tr><td>epoch/mae</td><td>0.1832</td></tr><tr><td>epoch/val_loss</td><td>0.18843</td></tr><tr><td>epoch/val_mae</td><td>0.18843</td></tr><tr><td>train_loss</td><td>0.1832</td></tr><tr><td>train_mae</td><td>0.1832</td></tr><tr><td>val_loss</td><td>0.18843</td></tr><tr><td>val_mae</td><td>0.18843</td></tr></table><br/></div></div>"
      ],
      "text/plain": [
       "<IPython.core.display.HTML object>"
      ]
     },
     "metadata": {},
     "output_type": "display_data"
    },
    {
     "data": {
      "text/html": [
       " View run <strong style=\"color:#cdcd00\">brisk-sweep-14</strong> at: <a href='https://wandb.ai/walt_/dose-prediction/runs/63ojp6ns' target=\"_blank\">https://wandb.ai/walt_/dose-prediction/runs/63ojp6ns</a><br/> View project at: <a href='https://wandb.ai/walt_/dose-prediction' target=\"_blank\">https://wandb.ai/walt_/dose-prediction</a><br/>Synced 5 W&B file(s), 0 media file(s), 40 artifact file(s) and 0 other file(s)"
      ],
      "text/plain": [
       "<IPython.core.display.HTML object>"
      ]
     },
     "metadata": {},
     "output_type": "display_data"
    },
    {
     "data": {
      "text/html": [
       "Find logs at: <code>./wandb/run-20241124_003736-63ojp6ns/logs</code>"
      ],
      "text/plain": [
       "<IPython.core.display.HTML object>"
      ]
     },
     "metadata": {},
     "output_type": "display_data"
    },
    {
     "name": "stderr",
     "output_type": "stream",
     "text": [
      "\u001b[34m\u001b[1mwandb\u001b[0m: Sweep Agent: Waiting for job.\n",
      "\u001b[34m\u001b[1mwandb\u001b[0m: Job received.\n",
      "\u001b[34m\u001b[1mwandb\u001b[0m: Agent Starting Run: 0tg85ed6 with config:\n",
      "\u001b[34m\u001b[1mwandb\u001b[0m: \tactivation_function: tanh\n",
      "\u001b[34m\u001b[1mwandb\u001b[0m: \tbatch_size: 32\n",
      "\u001b[34m\u001b[1mwandb\u001b[0m: \tepochs: 20\n",
      "\u001b[34m\u001b[1mwandb\u001b[0m: \tinput_dim: 4\n",
      "\u001b[34m\u001b[1mwandb\u001b[0m: \tlearning_rate: 0.01\n",
      "\u001b[34m\u001b[1mwandb\u001b[0m: \tloss_function: mean_absolute_error\n"
     ]
    },
    {
     "data": {
      "text/html": [
       "Tracking run with wandb version 0.18.7"
      ],
      "text/plain": [
       "<IPython.core.display.HTML object>"
      ]
     },
     "metadata": {},
     "output_type": "display_data"
    },
    {
     "data": {
      "text/html": [
       "Run data is saved locally in <code>/home/walt/FociNet/wandb/run-20241124_003817-0tg85ed6</code>"
      ],
      "text/plain": [
       "<IPython.core.display.HTML object>"
      ]
     },
     "metadata": {},
     "output_type": "display_data"
    },
    {
     "data": {
      "text/html": [
       "Syncing run <strong><a href='https://wandb.ai/walt_/dose-prediction/runs/0tg85ed6' target=\"_blank\">helpful-sweep-15</a></strong> to <a href='https://wandb.ai/walt_/dose-prediction' target=\"_blank\">Weights & Biases</a> (<a href='https://wandb.me/developer-guide' target=\"_blank\">docs</a>)<br/>Sweep page: <a href='https://wandb.ai/walt_/dose-prediction/sweeps/uui2wa8p' target=\"_blank\">https://wandb.ai/walt_/dose-prediction/sweeps/uui2wa8p</a>"
      ],
      "text/plain": [
       "<IPython.core.display.HTML object>"
      ]
     },
     "metadata": {},
     "output_type": "display_data"
    },
    {
     "data": {
      "text/html": [
       " View project at <a href='https://wandb.ai/walt_/dose-prediction' target=\"_blank\">https://wandb.ai/walt_/dose-prediction</a>"
      ],
      "text/plain": [
       "<IPython.core.display.HTML object>"
      ]
     },
     "metadata": {},
     "output_type": "display_data"
    },
    {
     "data": {
      "text/html": [
       " View sweep at <a href='https://wandb.ai/walt_/dose-prediction/sweeps/uui2wa8p' target=\"_blank\">https://wandb.ai/walt_/dose-prediction/sweeps/uui2wa8p</a>"
      ],
      "text/plain": [
       "<IPython.core.display.HTML object>"
      ]
     },
     "metadata": {},
     "output_type": "display_data"
    },
    {
     "data": {
      "text/html": [
       " View run at <a href='https://wandb.ai/walt_/dose-prediction/runs/0tg85ed6' target=\"_blank\">https://wandb.ai/walt_/dose-prediction/runs/0tg85ed6</a>"
      ],
      "text/plain": [
       "<IPython.core.display.HTML object>"
      ]
     },
     "metadata": {},
     "output_type": "display_data"
    },
    {
     "name": "stdout",
     "output_type": "stream",
     "text": [
      "Epoch 1/20\n",
      "306/306 - 2s - 7ms/step - loss: 0.2960 - mae: 0.2960 - val_loss: 0.2650 - val_mae: 0.2650\n",
      "Epoch 2/20\n",
      "306/306 - 1s - 3ms/step - loss: 0.2749 - mae: 0.2749 - val_loss: 0.2679 - val_mae: 0.2679\n",
      "Epoch 3/20\n",
      "306/306 - 1s - 3ms/step - loss: 0.2456 - mae: 0.2456 - val_loss: 0.2076 - val_mae: 0.2076\n",
      "Epoch 4/20\n",
      "306/306 - 1s - 3ms/step - loss: 0.2048 - mae: 0.2048 - val_loss: 0.2110 - val_mae: 0.2110\n",
      "Epoch 5/20\n",
      "306/306 - 1s - 2ms/step - loss: 0.1996 - mae: 0.1996 - val_loss: 0.2066 - val_mae: 0.2066\n",
      "Epoch 6/20\n",
      "306/306 - 1s - 2ms/step - loss: 0.1999 - mae: 0.1999 - val_loss: 0.1980 - val_mae: 0.1980\n",
      "Epoch 7/20\n",
      "306/306 - 1s - 2ms/step - loss: 0.1928 - mae: 0.1928 - val_loss: 0.2356 - val_mae: 0.2356\n",
      "Epoch 8/20\n",
      "306/306 - 1s - 2ms/step - loss: 0.1949 - mae: 0.1949 - val_loss: 0.1986 - val_mae: 0.1986\n",
      "Epoch 9/20\n",
      "306/306 - 1s - 3ms/step - loss: 0.1934 - mae: 0.1934 - val_loss: 0.1963 - val_mae: 0.1963\n",
      "Epoch 10/20\n",
      "306/306 - 1s - 3ms/step - loss: 0.1901 - mae: 0.1901 - val_loss: 0.1995 - val_mae: 0.1995\n",
      "Epoch 11/20\n",
      "306/306 - 1s - 3ms/step - loss: 0.1855 - mae: 0.1855 - val_loss: 0.1957 - val_mae: 0.1957\n",
      "Epoch 12/20\n",
      "306/306 - 1s - 2ms/step - loss: 0.1917 - mae: 0.1917 - val_loss: 0.1948 - val_mae: 0.1948\n",
      "Epoch 13/20\n",
      "306/306 - 1s - 2ms/step - loss: 0.1933 - mae: 0.1933 - val_loss: 0.1964 - val_mae: 0.1964\n",
      "Epoch 14/20\n",
      "306/306 - 1s - 2ms/step - loss: 0.2035 - mae: 0.2035 - val_loss: 0.2186 - val_mae: 0.2186\n",
      "Epoch 15/20\n",
      "306/306 - 1s - 3ms/step - loss: 0.2044 - mae: 0.2044 - val_loss: 0.1997 - val_mae: 0.1997\n",
      "Epoch 16/20\n",
      "306/306 - 1s - 3ms/step - loss: 0.1905 - mae: 0.1905 - val_loss: 0.1907 - val_mae: 0.1907\n",
      "Epoch 17/20\n",
      "306/306 - 1s - 2ms/step - loss: 0.1882 - mae: 0.1882 - val_loss: 0.1873 - val_mae: 0.1873\n",
      "Epoch 18/20\n",
      "306/306 - 1s - 2ms/step - loss: 0.1843 - mae: 0.1843 - val_loss: 0.1900 - val_mae: 0.1900\n",
      "Epoch 19/20\n",
      "306/306 - 1s - 2ms/step - loss: 0.1877 - mae: 0.1877 - val_loss: 0.1904 - val_mae: 0.1904\n",
      "Epoch 20/20\n",
      "306/306 - 1s - 2ms/step - loss: 0.1969 - mae: 0.1969 - val_loss: 0.1875 - val_mae: 0.1875\n",
      "\u001b[1m44/44\u001b[0m \u001b[32m━━━━━━━━━━━━━━━━━━━━\u001b[0m\u001b[37m\u001b[0m \u001b[1m0s\u001b[0m 4ms/step\n"
     ]
    },
    {
     "data": {
      "text/html": [
       "\n",
       "    <style>\n",
       "        .wandb-row {\n",
       "            display: flex;\n",
       "            flex-direction: row;\n",
       "            flex-wrap: wrap;\n",
       "            justify-content: flex-start;\n",
       "            width: 100%;\n",
       "        }\n",
       "        .wandb-col {\n",
       "            display: flex;\n",
       "            flex-direction: column;\n",
       "            flex-basis: 100%;\n",
       "            flex: 1;\n",
       "            padding: 10px;\n",
       "        }\n",
       "    </style>\n",
       "<div class=\"wandb-row\"><div class=\"wandb-col\"><h3>Run history:</h3><br/><table class=\"wandb\"><tr><td>Max Absolute Error (Test)</td><td>▁</td></tr><tr><td>Mean Absolute Error (Test)</td><td>▁</td></tr><tr><td>R²</td><td>▁</td></tr><tr><td>Test Loss</td><td>▁</td></tr><tr><td>Test MAE</td><td>▁</td></tr><tr><td>epoch</td><td>▁▁▂▂▂▃▃▄▄▄▅▅▅▆▆▇▇▇██</td></tr><tr><td>epoch/epoch</td><td>▁▁▂▂▂▃▃▄▄▄▅▅▅▆▆▇▇▇██</td></tr><tr><td>epoch/learning_rate</td><td>▁▁▁▁▁▁▁▁▁▁▁▁▁▁▁▁▁▁▁▁</td></tr><tr><td>epoch/loss</td><td>█▇▅▂▂▂▂▂▂▁▁▁▂▂▂▁▁▁▁▂</td></tr><tr><td>epoch/mae</td><td>█▇▅▂▂▂▂▂▂▁▁▁▂▂▂▁▁▁▁▂</td></tr><tr><td>epoch/val_loss</td><td>██▃▃▃▂▅▂▂▂▂▂▂▄▂▁▁▁▁▁</td></tr><tr><td>epoch/val_mae</td><td>██▃▃▃▂▅▂▂▂▂▂▂▄▂▁▁▁▁▁</td></tr><tr><td>train_loss</td><td>█▇▅▂▂▂▂▂▂▁▁▁▂▂▂▁▁▁▁▂</td></tr><tr><td>train_mae</td><td>█▇▅▂▂▂▂▂▂▁▁▁▂▂▂▁▁▁▁▂</td></tr><tr><td>val_loss</td><td>██▃▃▃▂▅▂▂▂▂▂▂▄▂▁▁▁▁▁</td></tr><tr><td>val_mae</td><td>██▃▃▃▂▅▂▂▂▂▂▂▄▂▁▁▁▁▁</td></tr></table><br/></div><div class=\"wandb-col\"><h3>Run summary:</h3><br/><table class=\"wandb\"><tr><td>Max Absolute Error (Test)</td><td>0.99957</td></tr><tr><td>Mean Absolute Error (Test)</td><td>0.17672</td></tr><tr><td>R²</td><td>0.35994</td></tr><tr><td>Test Loss</td><td>0.17672</td></tr><tr><td>Test MAE</td><td>0.17672</td></tr><tr><td>epoch</td><td>19</td></tr><tr><td>epoch/epoch</td><td>19</td></tr><tr><td>epoch/learning_rate</td><td>0.01</td></tr><tr><td>epoch/loss</td><td>0.19695</td></tr><tr><td>epoch/mae</td><td>0.19695</td></tr><tr><td>epoch/val_loss</td><td>0.18747</td></tr><tr><td>epoch/val_mae</td><td>0.18747</td></tr><tr><td>train_loss</td><td>0.19695</td></tr><tr><td>train_mae</td><td>0.19695</td></tr><tr><td>val_loss</td><td>0.18747</td></tr><tr><td>val_mae</td><td>0.18747</td></tr></table><br/></div></div>"
      ],
      "text/plain": [
       "<IPython.core.display.HTML object>"
      ]
     },
     "metadata": {},
     "output_type": "display_data"
    },
    {
     "data": {
      "text/html": [
       " View run <strong style=\"color:#cdcd00\">helpful-sweep-15</strong> at: <a href='https://wandb.ai/walt_/dose-prediction/runs/0tg85ed6' target=\"_blank\">https://wandb.ai/walt_/dose-prediction/runs/0tg85ed6</a><br/> View project at: <a href='https://wandb.ai/walt_/dose-prediction' target=\"_blank\">https://wandb.ai/walt_/dose-prediction</a><br/>Synced 5 W&B file(s), 0 media file(s), 40 artifact file(s) and 0 other file(s)"
      ],
      "text/plain": [
       "<IPython.core.display.HTML object>"
      ]
     },
     "metadata": {},
     "output_type": "display_data"
    },
    {
     "data": {
      "text/html": [
       "Find logs at: <code>./wandb/run-20241124_003817-0tg85ed6/logs</code>"
      ],
      "text/plain": [
       "<IPython.core.display.HTML object>"
      ]
     },
     "metadata": {},
     "output_type": "display_data"
    },
    {
     "name": "stderr",
     "output_type": "stream",
     "text": [
      "\u001b[34m\u001b[1mwandb\u001b[0m: Sweep Agent: Waiting for job.\n",
      "\u001b[34m\u001b[1mwandb\u001b[0m: Job received.\n",
      "\u001b[34m\u001b[1mwandb\u001b[0m: Agent Starting Run: 2zekhlac with config:\n",
      "\u001b[34m\u001b[1mwandb\u001b[0m: \tactivation_function: tanh\n",
      "\u001b[34m\u001b[1mwandb\u001b[0m: \tbatch_size: 32\n",
      "\u001b[34m\u001b[1mwandb\u001b[0m: \tepochs: 25\n",
      "\u001b[34m\u001b[1mwandb\u001b[0m: \tinput_dim: 4\n",
      "\u001b[34m\u001b[1mwandb\u001b[0m: \tlearning_rate: 0.001\n",
      "\u001b[34m\u001b[1mwandb\u001b[0m: \tloss_function: mean_absolute_error\n"
     ]
    },
    {
     "data": {
      "text/html": [
       "Tracking run with wandb version 0.18.7"
      ],
      "text/plain": [
       "<IPython.core.display.HTML object>"
      ]
     },
     "metadata": {},
     "output_type": "display_data"
    },
    {
     "data": {
      "text/html": [
       "Run data is saved locally in <code>/home/walt/FociNet/wandb/run-20241124_003857-2zekhlac</code>"
      ],
      "text/plain": [
       "<IPython.core.display.HTML object>"
      ]
     },
     "metadata": {},
     "output_type": "display_data"
    },
    {
     "data": {
      "text/html": [
       "Syncing run <strong><a href='https://wandb.ai/walt_/dose-prediction/runs/2zekhlac' target=\"_blank\">glad-sweep-16</a></strong> to <a href='https://wandb.ai/walt_/dose-prediction' target=\"_blank\">Weights & Biases</a> (<a href='https://wandb.me/developer-guide' target=\"_blank\">docs</a>)<br/>Sweep page: <a href='https://wandb.ai/walt_/dose-prediction/sweeps/uui2wa8p' target=\"_blank\">https://wandb.ai/walt_/dose-prediction/sweeps/uui2wa8p</a>"
      ],
      "text/plain": [
       "<IPython.core.display.HTML object>"
      ]
     },
     "metadata": {},
     "output_type": "display_data"
    },
    {
     "data": {
      "text/html": [
       " View project at <a href='https://wandb.ai/walt_/dose-prediction' target=\"_blank\">https://wandb.ai/walt_/dose-prediction</a>"
      ],
      "text/plain": [
       "<IPython.core.display.HTML object>"
      ]
     },
     "metadata": {},
     "output_type": "display_data"
    },
    {
     "data": {
      "text/html": [
       " View sweep at <a href='https://wandb.ai/walt_/dose-prediction/sweeps/uui2wa8p' target=\"_blank\">https://wandb.ai/walt_/dose-prediction/sweeps/uui2wa8p</a>"
      ],
      "text/plain": [
       "<IPython.core.display.HTML object>"
      ]
     },
     "metadata": {},
     "output_type": "display_data"
    },
    {
     "data": {
      "text/html": [
       " View run at <a href='https://wandb.ai/walt_/dose-prediction/runs/2zekhlac' target=\"_blank\">https://wandb.ai/walt_/dose-prediction/runs/2zekhlac</a>"
      ],
      "text/plain": [
       "<IPython.core.display.HTML object>"
      ]
     },
     "metadata": {},
     "output_type": "display_data"
    },
    {
     "name": "stdout",
     "output_type": "stream",
     "text": [
      "Epoch 1/25\n",
      "306/306 - 3s - 10ms/step - loss: 0.3060 - mae: 0.3060 - val_loss: 0.2905 - val_mae: 0.2905\n",
      "Epoch 2/25\n",
      "306/306 - 1s - 3ms/step - loss: 0.2821 - mae: 0.2821 - val_loss: 0.2810 - val_mae: 0.2810\n",
      "Epoch 3/25\n",
      "306/306 - 1s - 2ms/step - loss: 0.2748 - mae: 0.2748 - val_loss: 0.2680 - val_mae: 0.2680\n",
      "Epoch 4/25\n",
      "306/306 - 1s - 3ms/step - loss: 0.2702 - mae: 0.2702 - val_loss: 0.2761 - val_mae: 0.2761\n",
      "Epoch 5/25\n",
      "306/306 - 1s - 2ms/step - loss: 0.2652 - mae: 0.2652 - val_loss: 0.2661 - val_mae: 0.2661\n",
      "Epoch 6/25\n",
      "306/306 - 1s - 3ms/step - loss: 0.2641 - mae: 0.2641 - val_loss: 0.2584 - val_mae: 0.2584\n",
      "Epoch 7/25\n",
      "306/306 - 1s - 2ms/step - loss: 0.2631 - mae: 0.2631 - val_loss: 0.2754 - val_mae: 0.2754\n",
      "Epoch 8/25\n",
      "306/306 - 1s - 2ms/step - loss: 0.2626 - mae: 0.2626 - val_loss: 0.2562 - val_mae: 0.2562\n",
      "Epoch 9/25\n",
      "306/306 - 1s - 3ms/step - loss: 0.2605 - mae: 0.2605 - val_loss: 0.2588 - val_mae: 0.2588\n",
      "Epoch 10/25\n",
      "306/306 - 1s - 2ms/step - loss: 0.2614 - mae: 0.2614 - val_loss: 0.2591 - val_mae: 0.2591\n",
      "Epoch 11/25\n",
      "306/306 - 1s - 2ms/step - loss: 0.2592 - mae: 0.2592 - val_loss: 0.2554 - val_mae: 0.2554\n",
      "Epoch 12/25\n",
      "306/306 - 1s - 3ms/step - loss: 0.2598 - mae: 0.2598 - val_loss: 0.2566 - val_mae: 0.2566\n",
      "Epoch 13/25\n",
      "306/306 - 1s - 2ms/step - loss: 0.2590 - mae: 0.2590 - val_loss: 0.2641 - val_mae: 0.2641\n",
      "Epoch 14/25\n",
      "306/306 - 1s - 2ms/step - loss: 0.2578 - mae: 0.2578 - val_loss: 0.2573 - val_mae: 0.2573\n",
      "Epoch 15/25\n",
      "306/306 - 1s - 2ms/step - loss: 0.2572 - mae: 0.2572 - val_loss: 0.2521 - val_mae: 0.2521\n",
      "Epoch 16/25\n",
      "306/306 - 1s - 2ms/step - loss: 0.2519 - mae: 0.2519 - val_loss: 0.2550 - val_mae: 0.2550\n",
      "Epoch 17/25\n",
      "306/306 - 1s - 2ms/step - loss: 0.2451 - mae: 0.2451 - val_loss: 0.2356 - val_mae: 0.2356\n",
      "Epoch 18/25\n",
      "306/306 - 1s - 2ms/step - loss: 0.2335 - mae: 0.2335 - val_loss: 0.2298 - val_mae: 0.2298\n",
      "Epoch 19/25\n",
      "306/306 - 1s - 2ms/step - loss: 0.2268 - mae: 0.2268 - val_loss: 0.2274 - val_mae: 0.2274\n",
      "Epoch 20/25\n",
      "306/306 - 1s - 2ms/step - loss: 0.2231 - mae: 0.2231 - val_loss: 0.2254 - val_mae: 0.2254\n",
      "Epoch 21/25\n",
      "306/306 - 1s - 2ms/step - loss: 0.2195 - mae: 0.2195 - val_loss: 0.2219 - val_mae: 0.2219\n",
      "Epoch 22/25\n",
      "306/306 - 1s - 2ms/step - loss: 0.2165 - mae: 0.2165 - val_loss: 0.2209 - val_mae: 0.2209\n",
      "Epoch 23/25\n",
      "306/306 - 1s - 2ms/step - loss: 0.2156 - mae: 0.2156 - val_loss: 0.2211 - val_mae: 0.2211\n",
      "Epoch 24/25\n",
      "306/306 - 1s - 2ms/step - loss: 0.2131 - mae: 0.2131 - val_loss: 0.2129 - val_mae: 0.2129\n",
      "Epoch 25/25\n",
      "306/306 - 1s - 2ms/step - loss: 0.2104 - mae: 0.2104 - val_loss: 0.2121 - val_mae: 0.2121\n",
      "\u001b[1m44/44\u001b[0m \u001b[32m━━━━━━━━━━━━━━━━━━━━\u001b[0m\u001b[37m\u001b[0m \u001b[1m0s\u001b[0m 4ms/step\n"
     ]
    },
    {
     "data": {
      "text/html": [
       "\n",
       "    <style>\n",
       "        .wandb-row {\n",
       "            display: flex;\n",
       "            flex-direction: row;\n",
       "            flex-wrap: wrap;\n",
       "            justify-content: flex-start;\n",
       "            width: 100%;\n",
       "        }\n",
       "        .wandb-col {\n",
       "            display: flex;\n",
       "            flex-direction: column;\n",
       "            flex-basis: 100%;\n",
       "            flex: 1;\n",
       "            padding: 10px;\n",
       "        }\n",
       "    </style>\n",
       "<div class=\"wandb-row\"><div class=\"wandb-col\"><h3>Run history:</h3><br/><table class=\"wandb\"><tr><td>Max Absolute Error (Test)</td><td>▁</td></tr><tr><td>Mean Absolute Error (Test)</td><td>▁</td></tr><tr><td>R²</td><td>▁</td></tr><tr><td>Test Loss</td><td>▁</td></tr><tr><td>Test MAE</td><td>▁</td></tr><tr><td>epoch</td><td>▁▁▂▂▂▂▃▃▃▄▄▄▅▅▅▅▆▆▆▇▇▇▇██</td></tr><tr><td>epoch/epoch</td><td>▁▁▂▂▂▂▃▃▃▄▄▄▅▅▅▅▆▆▆▇▇▇▇██</td></tr><tr><td>epoch/learning_rate</td><td>▁▁▁▁▁▁▁▁▁▁▁▁▁▁▁▁▁▁▁▁▁▁▁▁▁</td></tr><tr><td>epoch/loss</td><td>█▆▆▅▅▅▅▅▅▅▅▅▅▄▄▄▄▃▂▂▂▁▁▁▁</td></tr><tr><td>epoch/mae</td><td>█▆▆▅▅▅▅▅▅▅▅▅▅▄▄▄▄▃▂▂▂▁▁▁▁</td></tr><tr><td>epoch/val_loss</td><td>█▇▆▇▆▅▇▅▅▅▅▅▆▅▅▅▃▃▂▂▂▂▂▁▁</td></tr><tr><td>epoch/val_mae</td><td>█▇▆▇▆▅▇▅▅▅▅▅▆▅▅▅▃▃▂▂▂▂▂▁▁</td></tr><tr><td>train_loss</td><td>█▆▆▅▅▅▅▅▅▅▅▅▅▄▄▄▄▃▂▂▂▁▁▁▁</td></tr><tr><td>train_mae</td><td>█▆▆▅▅▅▅▅▅▅▅▅▅▄▄▄▄▃▂▂▂▁▁▁▁</td></tr><tr><td>val_loss</td><td>█▇▆▇▆▅▇▅▅▅▅▅▆▅▅▅▃▃▂▂▂▂▂▁▁</td></tr><tr><td>val_mae</td><td>█▇▆▇▆▅▇▅▅▅▅▅▆▅▅▅▃▃▂▂▂▂▂▁▁</td></tr></table><br/></div><div class=\"wandb-col\"><h3>Run summary:</h3><br/><table class=\"wandb\"><tr><td>Max Absolute Error (Test)</td><td>1.13674</td></tr><tr><td>Mean Absolute Error (Test)</td><td>0.20711</td></tr><tr><td>R²</td><td>0.41874</td></tr><tr><td>Test Loss</td><td>0.20711</td></tr><tr><td>Test MAE</td><td>0.20711</td></tr><tr><td>epoch</td><td>24</td></tr><tr><td>epoch/epoch</td><td>24</td></tr><tr><td>epoch/learning_rate</td><td>0.001</td></tr><tr><td>epoch/loss</td><td>0.21041</td></tr><tr><td>epoch/mae</td><td>0.21041</td></tr><tr><td>epoch/val_loss</td><td>0.21205</td></tr><tr><td>epoch/val_mae</td><td>0.21205</td></tr><tr><td>train_loss</td><td>0.21041</td></tr><tr><td>train_mae</td><td>0.21041</td></tr><tr><td>val_loss</td><td>0.21205</td></tr><tr><td>val_mae</td><td>0.21205</td></tr></table><br/></div></div>"
      ],
      "text/plain": [
       "<IPython.core.display.HTML object>"
      ]
     },
     "metadata": {},
     "output_type": "display_data"
    },
    {
     "data": {
      "text/html": [
       " View run <strong style=\"color:#cdcd00\">glad-sweep-16</strong> at: <a href='https://wandb.ai/walt_/dose-prediction/runs/2zekhlac' target=\"_blank\">https://wandb.ai/walt_/dose-prediction/runs/2zekhlac</a><br/> View project at: <a href='https://wandb.ai/walt_/dose-prediction' target=\"_blank\">https://wandb.ai/walt_/dose-prediction</a><br/>Synced 5 W&B file(s), 0 media file(s), 50 artifact file(s) and 0 other file(s)"
      ],
      "text/plain": [
       "<IPython.core.display.HTML object>"
      ]
     },
     "metadata": {},
     "output_type": "display_data"
    },
    {
     "data": {
      "text/html": [
       "Find logs at: <code>./wandb/run-20241124_003857-2zekhlac/logs</code>"
      ],
      "text/plain": [
       "<IPython.core.display.HTML object>"
      ]
     },
     "metadata": {},
     "output_type": "display_data"
    },
    {
     "name": "stderr",
     "output_type": "stream",
     "text": [
      "\u001b[34m\u001b[1mwandb\u001b[0m: Agent Starting Run: gvp5cdej with config:\n",
      "\u001b[34m\u001b[1mwandb\u001b[0m: \tactivation_function: tanh\n",
      "\u001b[34m\u001b[1mwandb\u001b[0m: \tbatch_size: 32\n",
      "\u001b[34m\u001b[1mwandb\u001b[0m: \tepochs: 25\n",
      "\u001b[34m\u001b[1mwandb\u001b[0m: \tinput_dim: 4\n",
      "\u001b[34m\u001b[1mwandb\u001b[0m: \tlearning_rate: 0.005\n",
      "\u001b[34m\u001b[1mwandb\u001b[0m: \tloss_function: mean_absolute_error\n"
     ]
    },
    {
     "data": {
      "text/html": [
       "Tracking run with wandb version 0.18.7"
      ],
      "text/plain": [
       "<IPython.core.display.HTML object>"
      ]
     },
     "metadata": {},
     "output_type": "display_data"
    },
    {
     "data": {
      "text/html": [
       "Run data is saved locally in <code>/home/walt/FociNet/wandb/run-20241124_003938-gvp5cdej</code>"
      ],
      "text/plain": [
       "<IPython.core.display.HTML object>"
      ]
     },
     "metadata": {},
     "output_type": "display_data"
    },
    {
     "data": {
      "text/html": [
       "Syncing run <strong><a href='https://wandb.ai/walt_/dose-prediction/runs/gvp5cdej' target=\"_blank\">efficient-sweep-17</a></strong> to <a href='https://wandb.ai/walt_/dose-prediction' target=\"_blank\">Weights & Biases</a> (<a href='https://wandb.me/developer-guide' target=\"_blank\">docs</a>)<br/>Sweep page: <a href='https://wandb.ai/walt_/dose-prediction/sweeps/uui2wa8p' target=\"_blank\">https://wandb.ai/walt_/dose-prediction/sweeps/uui2wa8p</a>"
      ],
      "text/plain": [
       "<IPython.core.display.HTML object>"
      ]
     },
     "metadata": {},
     "output_type": "display_data"
    },
    {
     "data": {
      "text/html": [
       " View project at <a href='https://wandb.ai/walt_/dose-prediction' target=\"_blank\">https://wandb.ai/walt_/dose-prediction</a>"
      ],
      "text/plain": [
       "<IPython.core.display.HTML object>"
      ]
     },
     "metadata": {},
     "output_type": "display_data"
    },
    {
     "data": {
      "text/html": [
       " View sweep at <a href='https://wandb.ai/walt_/dose-prediction/sweeps/uui2wa8p' target=\"_blank\">https://wandb.ai/walt_/dose-prediction/sweeps/uui2wa8p</a>"
      ],
      "text/plain": [
       "<IPython.core.display.HTML object>"
      ]
     },
     "metadata": {},
     "output_type": "display_data"
    },
    {
     "data": {
      "text/html": [
       " View run at <a href='https://wandb.ai/walt_/dose-prediction/runs/gvp5cdej' target=\"_blank\">https://wandb.ai/walt_/dose-prediction/runs/gvp5cdej</a>"
      ],
      "text/plain": [
       "<IPython.core.display.HTML object>"
      ]
     },
     "metadata": {},
     "output_type": "display_data"
    },
    {
     "name": "stdout",
     "output_type": "stream",
     "text": [
      "Epoch 1/25\n",
      "306/306 - 3s - 9ms/step - loss: 0.2963 - mae: 0.2963 - val_loss: 0.2707 - val_mae: 0.2707\n",
      "Epoch 2/25\n",
      "306/306 - 1s - 3ms/step - loss: 0.2702 - mae: 0.2702 - val_loss: 0.2643 - val_mae: 0.2643\n",
      "Epoch 3/25\n",
      "306/306 - 1s - 3ms/step - loss: 0.2573 - mae: 0.2573 - val_loss: 0.2366 - val_mae: 0.2366\n",
      "Epoch 4/25\n",
      "306/306 - 1s - 2ms/step - loss: 0.2208 - mae: 0.2208 - val_loss: 0.2128 - val_mae: 0.2128\n",
      "Epoch 5/25\n",
      "306/306 - 1s - 2ms/step - loss: 0.2075 - mae: 0.2075 - val_loss: 0.2063 - val_mae: 0.2063\n",
      "Epoch 6/25\n",
      "306/306 - 1s - 2ms/step - loss: 0.1977 - mae: 0.1977 - val_loss: 0.2014 - val_mae: 0.2014\n",
      "Epoch 7/25\n",
      "306/306 - 1s - 3ms/step - loss: 0.1986 - mae: 0.1986 - val_loss: 0.1966 - val_mae: 0.1966\n",
      "Epoch 8/25\n",
      "306/306 - 1s - 2ms/step - loss: 0.1925 - mae: 0.1925 - val_loss: 0.2003 - val_mae: 0.2003\n",
      "Epoch 9/25\n",
      "306/306 - 1s - 3ms/step - loss: 0.1924 - mae: 0.1924 - val_loss: 0.2018 - val_mae: 0.2018\n",
      "Epoch 10/25\n",
      "306/306 - 1s - 3ms/step - loss: 0.1888 - mae: 0.1888 - val_loss: 0.1910 - val_mae: 0.1910\n",
      "Epoch 11/25\n",
      "306/306 - 1s - 3ms/step - loss: 0.1885 - mae: 0.1885 - val_loss: 0.1943 - val_mae: 0.1943\n",
      "Epoch 12/25\n",
      "306/306 - 1s - 3ms/step - loss: 0.1880 - mae: 0.1880 - val_loss: 0.1931 - val_mae: 0.1931\n",
      "Epoch 13/25\n",
      "306/306 - 1s - 3ms/step - loss: 0.1869 - mae: 0.1869 - val_loss: 0.2330 - val_mae: 0.2330\n",
      "Epoch 14/25\n",
      "306/306 - 1s - 3ms/step - loss: 0.1851 - mae: 0.1851 - val_loss: 0.1909 - val_mae: 0.1909\n",
      "Epoch 15/25\n",
      "306/306 - 1s - 3ms/step - loss: 0.1852 - mae: 0.1852 - val_loss: 0.1902 - val_mae: 0.1902\n",
      "Epoch 16/25\n",
      "306/306 - 1s - 3ms/step - loss: 0.1908 - mae: 0.1908 - val_loss: 0.1899 - val_mae: 0.1899\n",
      "Epoch 17/25\n",
      "306/306 - 1s - 3ms/step - loss: 0.1874 - mae: 0.1874 - val_loss: 0.1880 - val_mae: 0.1880\n",
      "Epoch 18/25\n",
      "306/306 - 1s - 3ms/step - loss: 0.1839 - mae: 0.1839 - val_loss: 0.1901 - val_mae: 0.1901\n",
      "Epoch 19/25\n",
      "306/306 - 1s - 3ms/step - loss: 0.1847 - mae: 0.1847 - val_loss: 0.1890 - val_mae: 0.1890\n",
      "Epoch 20/25\n",
      "306/306 - 1s - 3ms/step - loss: 0.1828 - mae: 0.1828 - val_loss: 0.1929 - val_mae: 0.1929\n",
      "Epoch 21/25\n",
      "306/306 - 2s - 6ms/step - loss: 0.1833 - mae: 0.1833 - val_loss: 0.1952 - val_mae: 0.1952\n",
      "Epoch 22/25\n",
      "306/306 - 1s - 3ms/step - loss: 0.1825 - mae: 0.1825 - val_loss: 0.1879 - val_mae: 0.1879\n",
      "Epoch 23/25\n",
      "306/306 - 1s - 3ms/step - loss: 0.1812 - mae: 0.1812 - val_loss: 0.1848 - val_mae: 0.1848\n",
      "Epoch 24/25\n",
      "306/306 - 1s - 3ms/step - loss: 0.1863 - mae: 0.1863 - val_loss: 0.1847 - val_mae: 0.1847\n",
      "Epoch 25/25\n",
      "306/306 - 2s - 6ms/step - loss: 0.1847 - mae: 0.1847 - val_loss: 0.1956 - val_mae: 0.1956\n",
      "\u001b[1m44/44\u001b[0m \u001b[32m━━━━━━━━━━━━━━━━━━━━\u001b[0m\u001b[37m\u001b[0m \u001b[1m0s\u001b[0m 4ms/step\n"
     ]
    },
    {
     "data": {
      "text/html": [
       "\n",
       "    <style>\n",
       "        .wandb-row {\n",
       "            display: flex;\n",
       "            flex-direction: row;\n",
       "            flex-wrap: wrap;\n",
       "            justify-content: flex-start;\n",
       "            width: 100%;\n",
       "        }\n",
       "        .wandb-col {\n",
       "            display: flex;\n",
       "            flex-direction: column;\n",
       "            flex-basis: 100%;\n",
       "            flex: 1;\n",
       "            padding: 10px;\n",
       "        }\n",
       "    </style>\n",
       "<div class=\"wandb-row\"><div class=\"wandb-col\"><h3>Run history:</h3><br/><table class=\"wandb\"><tr><td>Max Absolute Error (Test)</td><td>▁</td></tr><tr><td>Mean Absolute Error (Test)</td><td>▁</td></tr><tr><td>R²</td><td>▁</td></tr><tr><td>Test Loss</td><td>▁</td></tr><tr><td>Test MAE</td><td>▁</td></tr><tr><td>epoch</td><td>▁▁▂▂▂▂▃▃▃▄▄▄▅▅▅▅▆▆▆▇▇▇▇██</td></tr><tr><td>epoch/epoch</td><td>▁▁▂▂▂▂▃▃▃▄▄▄▅▅▅▅▆▆▆▇▇▇▇██</td></tr><tr><td>epoch/learning_rate</td><td>▁▁▁▁▁▁▁▁▁▁▁▁▁▁▁▁▁▁▁▁▁▁▁▁▁</td></tr><tr><td>epoch/loss</td><td>█▆▆▃▃▂▂▂▂▁▁▁▁▁▁▂▁▁▁▁▁▁▁▁▁</td></tr><tr><td>epoch/mae</td><td>█▆▆▃▃▂▂▂▂▁▁▁▁▁▁▂▁▁▁▁▁▁▁▁▁</td></tr><tr><td>epoch/val_loss</td><td>█▇▅▃▃▂▂▂▂▂▂▂▅▂▁▁▁▁▁▂▂▁▁▁▂</td></tr><tr><td>epoch/val_mae</td><td>█▇▅▃▃▂▂▂▂▂▂▂▅▂▁▁▁▁▁▂▂▁▁▁▂</td></tr><tr><td>train_loss</td><td>█▆▆▃▃▂▂▂▂▁▁▁▁▁▁▂▁▁▁▁▁▁▁▁▁</td></tr><tr><td>train_mae</td><td>█▆▆▃▃▂▂▂▂▁▁▁▁▁▁▂▁▁▁▁▁▁▁▁▁</td></tr><tr><td>val_loss</td><td>█▇▅▃▃▂▂▂▂▂▂▂▅▂▁▁▁▁▁▂▂▁▁▁▂</td></tr><tr><td>val_mae</td><td>█▇▅▃▃▂▂▂▂▂▂▂▅▂▁▁▁▁▁▂▂▁▁▁▂</td></tr></table><br/></div><div class=\"wandb-col\"><h3>Run summary:</h3><br/><table class=\"wandb\"><tr><td>Max Absolute Error (Test)</td><td>1.05261</td></tr><tr><td>Mean Absolute Error (Test)</td><td>0.18491</td></tr><tr><td>R²</td><td>0.32873</td></tr><tr><td>Test Loss</td><td>0.18491</td></tr><tr><td>Test MAE</td><td>0.18491</td></tr><tr><td>epoch</td><td>24</td></tr><tr><td>epoch/epoch</td><td>24</td></tr><tr><td>epoch/learning_rate</td><td>0.005</td></tr><tr><td>epoch/loss</td><td>0.18471</td></tr><tr><td>epoch/mae</td><td>0.18471</td></tr><tr><td>epoch/val_loss</td><td>0.19561</td></tr><tr><td>epoch/val_mae</td><td>0.19561</td></tr><tr><td>train_loss</td><td>0.18471</td></tr><tr><td>train_mae</td><td>0.18471</td></tr><tr><td>val_loss</td><td>0.19561</td></tr><tr><td>val_mae</td><td>0.19561</td></tr></table><br/></div></div>"
      ],
      "text/plain": [
       "<IPython.core.display.HTML object>"
      ]
     },
     "metadata": {},
     "output_type": "display_data"
    },
    {
     "data": {
      "text/html": [
       " View run <strong style=\"color:#cdcd00\">efficient-sweep-17</strong> at: <a href='https://wandb.ai/walt_/dose-prediction/runs/gvp5cdej' target=\"_blank\">https://wandb.ai/walt_/dose-prediction/runs/gvp5cdej</a><br/> View project at: <a href='https://wandb.ai/walt_/dose-prediction' target=\"_blank\">https://wandb.ai/walt_/dose-prediction</a><br/>Synced 5 W&B file(s), 0 media file(s), 50 artifact file(s) and 0 other file(s)"
      ],
      "text/plain": [
       "<IPython.core.display.HTML object>"
      ]
     },
     "metadata": {},
     "output_type": "display_data"
    },
    {
     "data": {
      "text/html": [
       "Find logs at: <code>./wandb/run-20241124_003938-gvp5cdej/logs</code>"
      ],
      "text/plain": [
       "<IPython.core.display.HTML object>"
      ]
     },
     "metadata": {},
     "output_type": "display_data"
    },
    {
     "name": "stderr",
     "output_type": "stream",
     "text": [
      "\u001b[34m\u001b[1mwandb\u001b[0m: Agent Starting Run: 9rcbzg4k with config:\n",
      "\u001b[34m\u001b[1mwandb\u001b[0m: \tactivation_function: tanh\n",
      "\u001b[34m\u001b[1mwandb\u001b[0m: \tbatch_size: 32\n",
      "\u001b[34m\u001b[1mwandb\u001b[0m: \tepochs: 25\n",
      "\u001b[34m\u001b[1mwandb\u001b[0m: \tinput_dim: 4\n",
      "\u001b[34m\u001b[1mwandb\u001b[0m: \tlearning_rate: 0.01\n",
      "\u001b[34m\u001b[1mwandb\u001b[0m: \tloss_function: mean_absolute_error\n"
     ]
    },
    {
     "data": {
      "text/html": [
       "Tracking run with wandb version 0.18.7"
      ],
      "text/plain": [
       "<IPython.core.display.HTML object>"
      ]
     },
     "metadata": {},
     "output_type": "display_data"
    },
    {
     "data": {
      "text/html": [
       "Run data is saved locally in <code>/home/walt/FociNet/wandb/run-20241124_004024-9rcbzg4k</code>"
      ],
      "text/plain": [
       "<IPython.core.display.HTML object>"
      ]
     },
     "metadata": {},
     "output_type": "display_data"
    },
    {
     "data": {
      "text/html": [
       "Syncing run <strong><a href='https://wandb.ai/walt_/dose-prediction/runs/9rcbzg4k' target=\"_blank\">playful-sweep-18</a></strong> to <a href='https://wandb.ai/walt_/dose-prediction' target=\"_blank\">Weights & Biases</a> (<a href='https://wandb.me/developer-guide' target=\"_blank\">docs</a>)<br/>Sweep page: <a href='https://wandb.ai/walt_/dose-prediction/sweeps/uui2wa8p' target=\"_blank\">https://wandb.ai/walt_/dose-prediction/sweeps/uui2wa8p</a>"
      ],
      "text/plain": [
       "<IPython.core.display.HTML object>"
      ]
     },
     "metadata": {},
     "output_type": "display_data"
    },
    {
     "data": {
      "text/html": [
       " View project at <a href='https://wandb.ai/walt_/dose-prediction' target=\"_blank\">https://wandb.ai/walt_/dose-prediction</a>"
      ],
      "text/plain": [
       "<IPython.core.display.HTML object>"
      ]
     },
     "metadata": {},
     "output_type": "display_data"
    },
    {
     "data": {
      "text/html": [
       " View sweep at <a href='https://wandb.ai/walt_/dose-prediction/sweeps/uui2wa8p' target=\"_blank\">https://wandb.ai/walt_/dose-prediction/sweeps/uui2wa8p</a>"
      ],
      "text/plain": [
       "<IPython.core.display.HTML object>"
      ]
     },
     "metadata": {},
     "output_type": "display_data"
    },
    {
     "data": {
      "text/html": [
       " View run at <a href='https://wandb.ai/walt_/dose-prediction/runs/9rcbzg4k' target=\"_blank\">https://wandb.ai/walt_/dose-prediction/runs/9rcbzg4k</a>"
      ],
      "text/plain": [
       "<IPython.core.display.HTML object>"
      ]
     },
     "metadata": {},
     "output_type": "display_data"
    },
    {
     "name": "stdout",
     "output_type": "stream",
     "text": [
      "Epoch 1/25\n",
      "306/306 - 2s - 7ms/step - loss: 0.2940 - mae: 0.2940 - val_loss: 0.2857 - val_mae: 0.2857\n",
      "Epoch 2/25\n",
      "306/306 - 1s - 2ms/step - loss: 0.2734 - mae: 0.2734 - val_loss: 0.2625 - val_mae: 0.2625\n",
      "Epoch 3/25\n",
      "306/306 - 1s - 3ms/step - loss: 0.2626 - mae: 0.2626 - val_loss: 0.2207 - val_mae: 0.2207\n",
      "Epoch 4/25\n",
      "306/306 - 1s - 3ms/step - loss: 0.2098 - mae: 0.2098 - val_loss: 0.2089 - val_mae: 0.2089\n",
      "Epoch 5/25\n",
      "306/306 - 1s - 3ms/step - loss: 0.1999 - mae: 0.1999 - val_loss: 0.2078 - val_mae: 0.2078\n",
      "Epoch 6/25\n",
      "306/306 - 1s - 3ms/step - loss: 0.1945 - mae: 0.1945 - val_loss: 0.1978 - val_mae: 0.1978\n",
      "Epoch 7/25\n",
      "306/306 - 1s - 3ms/step - loss: 0.1902 - mae: 0.1902 - val_loss: 0.1919 - val_mae: 0.1919\n",
      "Epoch 8/25\n",
      "306/306 - 1s - 2ms/step - loss: 0.1944 - mae: 0.1944 - val_loss: 0.2150 - val_mae: 0.2150\n",
      "Epoch 9/25\n",
      "306/306 - 1s - 3ms/step - loss: 0.1958 - mae: 0.1958 - val_loss: 0.2053 - val_mae: 0.2053\n",
      "Epoch 10/25\n",
      "306/306 - 1s - 2ms/step - loss: 0.1915 - mae: 0.1915 - val_loss: 0.1957 - val_mae: 0.1957\n",
      "Epoch 11/25\n",
      "306/306 - 1s - 3ms/step - loss: 0.1933 - mae: 0.1933 - val_loss: 0.1968 - val_mae: 0.1968\n",
      "Epoch 12/25\n",
      "306/306 - 1s - 3ms/step - loss: 0.1870 - mae: 0.1870 - val_loss: 0.1937 - val_mae: 0.1937\n",
      "Epoch 13/25\n",
      "306/306 - 1s - 3ms/step - loss: 0.1864 - mae: 0.1864 - val_loss: 0.1890 - val_mae: 0.1890\n",
      "Epoch 14/25\n",
      "306/306 - 1s - 3ms/step - loss: 0.1865 - mae: 0.1865 - val_loss: 0.2110 - val_mae: 0.2110\n",
      "Epoch 15/25\n",
      "306/306 - 1s - 3ms/step - loss: 0.1951 - mae: 0.1951 - val_loss: 0.2398 - val_mae: 0.2398\n",
      "Epoch 16/25\n",
      "306/306 - 1s - 3ms/step - loss: 0.1840 - mae: 0.1840 - val_loss: 0.1891 - val_mae: 0.1891\n",
      "Epoch 17/25\n",
      "306/306 - 1s - 3ms/step - loss: 0.1956 - mae: 0.1956 - val_loss: 0.1903 - val_mae: 0.1903\n",
      "Epoch 18/25\n",
      "306/306 - 1s - 3ms/step - loss: 0.1827 - mae: 0.1827 - val_loss: 0.2625 - val_mae: 0.2625\n",
      "Epoch 19/25\n",
      "306/306 - 1s - 2ms/step - loss: 0.1923 - mae: 0.1923 - val_loss: 0.1876 - val_mae: 0.1876\n",
      "Epoch 20/25\n",
      "306/306 - 1s - 3ms/step - loss: 0.1808 - mae: 0.1808 - val_loss: 0.2072 - val_mae: 0.2072\n",
      "Epoch 21/25\n",
      "306/306 - 1s - 3ms/step - loss: 0.1876 - mae: 0.1876 - val_loss: 0.1961 - val_mae: 0.1961\n",
      "Epoch 22/25\n",
      "306/306 - 1s - 2ms/step - loss: 0.1828 - mae: 0.1828 - val_loss: 0.2099 - val_mae: 0.2099\n",
      "Epoch 23/25\n",
      "306/306 - 1s - 2ms/step - loss: 0.1836 - mae: 0.1836 - val_loss: 0.1849 - val_mae: 0.1849\n",
      "Epoch 24/25\n",
      "306/306 - 1s - 2ms/step - loss: 0.1835 - mae: 0.1835 - val_loss: 0.1832 - val_mae: 0.1832\n",
      "Epoch 25/25\n",
      "306/306 - 1s - 2ms/step - loss: 0.1840 - mae: 0.1840 - val_loss: 0.1900 - val_mae: 0.1900\n",
      "\u001b[1m44/44\u001b[0m \u001b[32m━━━━━━━━━━━━━━━━━━━━\u001b[0m\u001b[37m\u001b[0m \u001b[1m0s\u001b[0m 4ms/step\n"
     ]
    },
    {
     "data": {
      "text/html": [
       "\n",
       "    <style>\n",
       "        .wandb-row {\n",
       "            display: flex;\n",
       "            flex-direction: row;\n",
       "            flex-wrap: wrap;\n",
       "            justify-content: flex-start;\n",
       "            width: 100%;\n",
       "        }\n",
       "        .wandb-col {\n",
       "            display: flex;\n",
       "            flex-direction: column;\n",
       "            flex-basis: 100%;\n",
       "            flex: 1;\n",
       "            padding: 10px;\n",
       "        }\n",
       "    </style>\n",
       "<div class=\"wandb-row\"><div class=\"wandb-col\"><h3>Run history:</h3><br/><table class=\"wandb\"><tr><td>Max Absolute Error (Test)</td><td>▁</td></tr><tr><td>Mean Absolute Error (Test)</td><td>▁</td></tr><tr><td>R²</td><td>▁</td></tr><tr><td>Test Loss</td><td>▁</td></tr><tr><td>Test MAE</td><td>▁</td></tr><tr><td>epoch</td><td>▁▁▂▂▂▂▃▃▃▄▄▄▅▅▅▅▆▆▆▇▇▇▇██</td></tr><tr><td>epoch/epoch</td><td>▁▁▂▂▂▂▃▃▃▄▄▄▅▅▅▅▆▆▆▇▇▇▇██</td></tr><tr><td>epoch/learning_rate</td><td>▁▁▁▁▁▁▁▁▁▁▁▁▁▁▁▁▁▁▁▁▁▁▁▁▁</td></tr><tr><td>epoch/loss</td><td>█▇▆▃▂▂▂▂▂▂▂▁▁▁▂▁▂▁▂▁▁▁▁▁▁</td></tr><tr><td>epoch/mae</td><td>█▇▆▃▂▂▂▂▂▂▂▁▁▁▂▁▂▁▂▁▁▁▁▁▁</td></tr><tr><td>epoch/val_loss</td><td>█▆▄▃▃▂▂▃▃▂▂▂▁▃▅▁▁▆▁▃▂▃▁▁▁</td></tr><tr><td>epoch/val_mae</td><td>█▆▄▃▃▂▂▃▃▂▂▂▁▃▅▁▁▆▁▃▂▃▁▁▁</td></tr><tr><td>train_loss</td><td>█▇▆▃▂▂▂▂▂▂▂▁▁▁▂▁▂▁▂▁▁▁▁▁▁</td></tr><tr><td>train_mae</td><td>█▇▆▃▂▂▂▂▂▂▂▁▁▁▂▁▂▁▂▁▁▁▁▁▁</td></tr><tr><td>val_loss</td><td>█▆▄▃▃▂▂▃▃▂▂▂▁▃▅▁▁▆▁▃▂▃▁▁▁</td></tr><tr><td>val_mae</td><td>█▆▄▃▃▂▂▃▃▂▂▂▁▃▅▁▁▆▁▃▂▃▁▁▁</td></tr></table><br/></div><div class=\"wandb-col\"><h3>Run summary:</h3><br/><table class=\"wandb\"><tr><td>Max Absolute Error (Test)</td><td>1.0264</td></tr><tr><td>Mean Absolute Error (Test)</td><td>0.17466</td></tr><tr><td>R²</td><td>0.36382</td></tr><tr><td>Test Loss</td><td>0.17466</td></tr><tr><td>Test MAE</td><td>0.17466</td></tr><tr><td>epoch</td><td>24</td></tr><tr><td>epoch/epoch</td><td>24</td></tr><tr><td>epoch/learning_rate</td><td>0.01</td></tr><tr><td>epoch/loss</td><td>0.18403</td></tr><tr><td>epoch/mae</td><td>0.18403</td></tr><tr><td>epoch/val_loss</td><td>0.19</td></tr><tr><td>epoch/val_mae</td><td>0.19</td></tr><tr><td>train_loss</td><td>0.18403</td></tr><tr><td>train_mae</td><td>0.18403</td></tr><tr><td>val_loss</td><td>0.19</td></tr><tr><td>val_mae</td><td>0.19</td></tr></table><br/></div></div>"
      ],
      "text/plain": [
       "<IPython.core.display.HTML object>"
      ]
     },
     "metadata": {},
     "output_type": "display_data"
    },
    {
     "data": {
      "text/html": [
       " View run <strong style=\"color:#cdcd00\">playful-sweep-18</strong> at: <a href='https://wandb.ai/walt_/dose-prediction/runs/9rcbzg4k' target=\"_blank\">https://wandb.ai/walt_/dose-prediction/runs/9rcbzg4k</a><br/> View project at: <a href='https://wandb.ai/walt_/dose-prediction' target=\"_blank\">https://wandb.ai/walt_/dose-prediction</a><br/>Synced 5 W&B file(s), 0 media file(s), 50 artifact file(s) and 0 other file(s)"
      ],
      "text/plain": [
       "<IPython.core.display.HTML object>"
      ]
     },
     "metadata": {},
     "output_type": "display_data"
    },
    {
     "data": {
      "text/html": [
       "Find logs at: <code>./wandb/run-20241124_004024-9rcbzg4k/logs</code>"
      ],
      "text/plain": [
       "<IPython.core.display.HTML object>"
      ]
     },
     "metadata": {},
     "output_type": "display_data"
    },
    {
     "name": "stderr",
     "output_type": "stream",
     "text": [
      "\u001b[34m\u001b[1mwandb\u001b[0m: Agent Starting Run: jo22955s with config:\n",
      "\u001b[34m\u001b[1mwandb\u001b[0m: \tactivation_function: tanh\n",
      "\u001b[34m\u001b[1mwandb\u001b[0m: \tbatch_size: 32\n",
      "\u001b[34m\u001b[1mwandb\u001b[0m: \tepochs: 30\n",
      "\u001b[34m\u001b[1mwandb\u001b[0m: \tinput_dim: 4\n",
      "\u001b[34m\u001b[1mwandb\u001b[0m: \tlearning_rate: 0.001\n",
      "\u001b[34m\u001b[1mwandb\u001b[0m: \tloss_function: mean_absolute_error\n"
     ]
    },
    {
     "data": {
      "text/html": [
       "Tracking run with wandb version 0.18.7"
      ],
      "text/plain": [
       "<IPython.core.display.HTML object>"
      ]
     },
     "metadata": {},
     "output_type": "display_data"
    },
    {
     "data": {
      "text/html": [
       "Run data is saved locally in <code>/home/walt/FociNet/wandb/run-20241124_004105-jo22955s</code>"
      ],
      "text/plain": [
       "<IPython.core.display.HTML object>"
      ]
     },
     "metadata": {},
     "output_type": "display_data"
    },
    {
     "data": {
      "text/html": [
       "Syncing run <strong><a href='https://wandb.ai/walt_/dose-prediction/runs/jo22955s' target=\"_blank\">restful-sweep-19</a></strong> to <a href='https://wandb.ai/walt_/dose-prediction' target=\"_blank\">Weights & Biases</a> (<a href='https://wandb.me/developer-guide' target=\"_blank\">docs</a>)<br/>Sweep page: <a href='https://wandb.ai/walt_/dose-prediction/sweeps/uui2wa8p' target=\"_blank\">https://wandb.ai/walt_/dose-prediction/sweeps/uui2wa8p</a>"
      ],
      "text/plain": [
       "<IPython.core.display.HTML object>"
      ]
     },
     "metadata": {},
     "output_type": "display_data"
    },
    {
     "data": {
      "text/html": [
       " View project at <a href='https://wandb.ai/walt_/dose-prediction' target=\"_blank\">https://wandb.ai/walt_/dose-prediction</a>"
      ],
      "text/plain": [
       "<IPython.core.display.HTML object>"
      ]
     },
     "metadata": {},
     "output_type": "display_data"
    },
    {
     "data": {
      "text/html": [
       " View sweep at <a href='https://wandb.ai/walt_/dose-prediction/sweeps/uui2wa8p' target=\"_blank\">https://wandb.ai/walt_/dose-prediction/sweeps/uui2wa8p</a>"
      ],
      "text/plain": [
       "<IPython.core.display.HTML object>"
      ]
     },
     "metadata": {},
     "output_type": "display_data"
    },
    {
     "data": {
      "text/html": [
       " View run at <a href='https://wandb.ai/walt_/dose-prediction/runs/jo22955s' target=\"_blank\">https://wandb.ai/walt_/dose-prediction/runs/jo22955s</a>"
      ],
      "text/plain": [
       "<IPython.core.display.HTML object>"
      ]
     },
     "metadata": {},
     "output_type": "display_data"
    },
    {
     "name": "stdout",
     "output_type": "stream",
     "text": [
      "Epoch 1/30\n",
      "306/306 - 2s - 7ms/step - loss: 0.3057 - mae: 0.3057 - val_loss: 0.2816 - val_mae: 0.2816\n",
      "Epoch 2/30\n",
      "306/306 - 1s - 3ms/step - loss: 0.2823 - mae: 0.2823 - val_loss: 0.2728 - val_mae: 0.2728\n",
      "Epoch 3/30\n",
      "306/306 - 1s - 3ms/step - loss: 0.2746 - mae: 0.2746 - val_loss: 0.2662 - val_mae: 0.2662\n",
      "Epoch 4/30\n",
      "306/306 - 1s - 3ms/step - loss: 0.2692 - mae: 0.2692 - val_loss: 0.2632 - val_mae: 0.2632\n",
      "Epoch 5/30\n",
      "306/306 - 1s - 3ms/step - loss: 0.2664 - mae: 0.2664 - val_loss: 0.2646 - val_mae: 0.2646\n",
      "Epoch 6/30\n",
      "306/306 - 1s - 4ms/step - loss: 0.2633 - mae: 0.2633 - val_loss: 0.2569 - val_mae: 0.2569\n",
      "Epoch 7/30\n",
      "306/306 - 1s - 3ms/step - loss: 0.2626 - mae: 0.2626 - val_loss: 0.2632 - val_mae: 0.2632\n",
      "Epoch 8/30\n",
      "306/306 - 1s - 3ms/step - loss: 0.2622 - mae: 0.2622 - val_loss: 0.2565 - val_mae: 0.2565\n",
      "Epoch 9/30\n",
      "306/306 - 1s - 2ms/step - loss: 0.2603 - mae: 0.2603 - val_loss: 0.2658 - val_mae: 0.2658\n",
      "Epoch 10/30\n",
      "306/306 - 1s - 2ms/step - loss: 0.2625 - mae: 0.2625 - val_loss: 0.2632 - val_mae: 0.2632\n",
      "Epoch 11/30\n",
      "306/306 - 1s - 2ms/step - loss: 0.2612 - mae: 0.2612 - val_loss: 0.2578 - val_mae: 0.2578\n",
      "Epoch 12/30\n",
      "306/306 - 1s - 2ms/step - loss: 0.2596 - mae: 0.2596 - val_loss: 0.2556 - val_mae: 0.2556\n",
      "Epoch 13/30\n",
      "306/306 - 1s - 3ms/step - loss: 0.2584 - mae: 0.2584 - val_loss: 0.2631 - val_mae: 0.2631\n",
      "Epoch 14/30\n",
      "306/306 - 1s - 3ms/step - loss: 0.2578 - mae: 0.2578 - val_loss: 0.2536 - val_mae: 0.2536\n",
      "Epoch 15/30\n",
      "306/306 - 1s - 2ms/step - loss: 0.2572 - mae: 0.2572 - val_loss: 0.2561 - val_mae: 0.2561\n",
      "Epoch 16/30\n",
      "306/306 - 1s - 3ms/step - loss: 0.2514 - mae: 0.2514 - val_loss: 0.2508 - val_mae: 0.2508\n",
      "Epoch 17/30\n",
      "306/306 - 1s - 3ms/step - loss: 0.2455 - mae: 0.2455 - val_loss: 0.2388 - val_mae: 0.2388\n",
      "Epoch 18/30\n",
      "306/306 - 1s - 3ms/step - loss: 0.2351 - mae: 0.2351 - val_loss: 0.2302 - val_mae: 0.2302\n",
      "Epoch 19/30\n",
      "306/306 - 1s - 3ms/step - loss: 0.2277 - mae: 0.2277 - val_loss: 0.2263 - val_mae: 0.2263\n",
      "Epoch 20/30\n",
      "306/306 - 1s - 2ms/step - loss: 0.2223 - mae: 0.2223 - val_loss: 0.2212 - val_mae: 0.2212\n",
      "Epoch 21/30\n",
      "306/306 - 1s - 3ms/step - loss: 0.2181 - mae: 0.2181 - val_loss: 0.2198 - val_mae: 0.2198\n",
      "Epoch 22/30\n",
      "306/306 - 1s - 3ms/step - loss: 0.2151 - mae: 0.2151 - val_loss: 0.2163 - val_mae: 0.2163\n",
      "Epoch 23/30\n",
      "306/306 - 1s - 3ms/step - loss: 0.2124 - mae: 0.2124 - val_loss: 0.2128 - val_mae: 0.2128\n",
      "Epoch 24/30\n",
      "306/306 - 1s - 3ms/step - loss: 0.2104 - mae: 0.2104 - val_loss: 0.2145 - val_mae: 0.2145\n",
      "Epoch 25/30\n",
      "306/306 - 1s - 2ms/step - loss: 0.2089 - mae: 0.2089 - val_loss: 0.2199 - val_mae: 0.2199\n",
      "Epoch 26/30\n",
      "306/306 - 1s - 2ms/step - loss: 0.2058 - mae: 0.2058 - val_loss: 0.2088 - val_mae: 0.2088\n",
      "Epoch 27/30\n",
      "306/306 - 1s - 3ms/step - loss: 0.2041 - mae: 0.2041 - val_loss: 0.2108 - val_mae: 0.2108\n",
      "Epoch 28/30\n",
      "306/306 - 1s - 3ms/step - loss: 0.2024 - mae: 0.2024 - val_loss: 0.2066 - val_mae: 0.2066\n",
      "Epoch 29/30\n",
      "306/306 - 1s - 3ms/step - loss: 0.2016 - mae: 0.2016 - val_loss: 0.2073 - val_mae: 0.2073\n",
      "Epoch 30/30\n",
      "306/306 - 1s - 2ms/step - loss: 0.1997 - mae: 0.1997 - val_loss: 0.2016 - val_mae: 0.2016\n",
      "\u001b[1m44/44\u001b[0m \u001b[32m━━━━━━━━━━━━━━━━━━━━\u001b[0m\u001b[37m\u001b[0m \u001b[1m0s\u001b[0m 4ms/step\n"
     ]
    },
    {
     "data": {
      "text/html": [
       "\n",
       "    <style>\n",
       "        .wandb-row {\n",
       "            display: flex;\n",
       "            flex-direction: row;\n",
       "            flex-wrap: wrap;\n",
       "            justify-content: flex-start;\n",
       "            width: 100%;\n",
       "        }\n",
       "        .wandb-col {\n",
       "            display: flex;\n",
       "            flex-direction: column;\n",
       "            flex-basis: 100%;\n",
       "            flex: 1;\n",
       "            padding: 10px;\n",
       "        }\n",
       "    </style>\n",
       "<div class=\"wandb-row\"><div class=\"wandb-col\"><h3>Run history:</h3><br/><table class=\"wandb\"><tr><td>Max Absolute Error (Test)</td><td>▁</td></tr><tr><td>Mean Absolute Error (Test)</td><td>▁</td></tr><tr><td>R²</td><td>▁</td></tr><tr><td>Test Loss</td><td>▁</td></tr><tr><td>Test MAE</td><td>▁</td></tr><tr><td>epoch</td><td>▁▁▁▂▂▂▂▃▃▃▃▄▄▄▄▅▅▅▅▆▆▆▆▇▇▇▇███</td></tr><tr><td>epoch/epoch</td><td>▁▁▁▂▂▂▂▃▃▃▃▄▄▄▄▅▅▅▅▆▆▆▆▇▇▇▇███</td></tr><tr><td>epoch/learning_rate</td><td>▁▁▁▁▁▁▁▁▁▁▁▁▁▁▁▁▁▁▁▁▁▁▁▁▁▁▁▁▁▁</td></tr><tr><td>epoch/loss</td><td>█▆▆▆▅▅▅▅▅▅▅▅▅▅▅▄▄▃▃▂▂▂▂▂▂▁▁▁▁▁</td></tr><tr><td>epoch/mae</td><td>█▆▆▆▅▅▅▅▅▅▅▅▅▅▅▄▄▃▃▂▂▂▂▂▂▁▁▁▁▁</td></tr><tr><td>epoch/val_loss</td><td>█▇▇▆▇▆▆▆▇▆▆▆▆▆▆▅▄▃▃▃▃▂▂▂▃▂▂▁▁▁</td></tr><tr><td>epoch/val_mae</td><td>█▇▇▆▇▆▆▆▇▆▆▆▆▆▆▅▄▃▃▃▃▂▂▂▃▂▂▁▁▁</td></tr><tr><td>train_loss</td><td>█▆▆▆▅▅▅▅▅▅▅▅▅▅▅▄▄▃▃▂▂▂▂▂▂▁▁▁▁▁</td></tr><tr><td>train_mae</td><td>█▆▆▆▅▅▅▅▅▅▅▅▅▅▅▄▄▃▃▂▂▂▂▂▂▁▁▁▁▁</td></tr><tr><td>val_loss</td><td>█▇▇▆▇▆▆▆▇▆▆▆▆▆▆▅▄▃▃▃▃▂▂▂▃▂▂▁▁▁</td></tr><tr><td>val_mae</td><td>█▇▇▆▇▆▆▆▇▆▆▆▆▆▆▅▄▃▃▃▃▂▂▂▃▂▂▁▁▁</td></tr></table><br/></div><div class=\"wandb-col\"><h3>Run summary:</h3><br/><table class=\"wandb\"><tr><td>Max Absolute Error (Test)</td><td>1.04375</td></tr><tr><td>Mean Absolute Error (Test)</td><td>0.19248</td></tr><tr><td>R²</td><td>0.44346</td></tr><tr><td>Test Loss</td><td>0.19248</td></tr><tr><td>Test MAE</td><td>0.19248</td></tr><tr><td>epoch</td><td>29</td></tr><tr><td>epoch/epoch</td><td>29</td></tr><tr><td>epoch/learning_rate</td><td>0.001</td></tr><tr><td>epoch/loss</td><td>0.19972</td></tr><tr><td>epoch/mae</td><td>0.19972</td></tr><tr><td>epoch/val_loss</td><td>0.20163</td></tr><tr><td>epoch/val_mae</td><td>0.20163</td></tr><tr><td>train_loss</td><td>0.19972</td></tr><tr><td>train_mae</td><td>0.19972</td></tr><tr><td>val_loss</td><td>0.20163</td></tr><tr><td>val_mae</td><td>0.20163</td></tr></table><br/></div></div>"
      ],
      "text/plain": [
       "<IPython.core.display.HTML object>"
      ]
     },
     "metadata": {},
     "output_type": "display_data"
    },
    {
     "data": {
      "text/html": [
       " View run <strong style=\"color:#cdcd00\">restful-sweep-19</strong> at: <a href='https://wandb.ai/walt_/dose-prediction/runs/jo22955s' target=\"_blank\">https://wandb.ai/walt_/dose-prediction/runs/jo22955s</a><br/> View project at: <a href='https://wandb.ai/walt_/dose-prediction' target=\"_blank\">https://wandb.ai/walt_/dose-prediction</a><br/>Synced 5 W&B file(s), 0 media file(s), 60 artifact file(s) and 0 other file(s)"
      ],
      "text/plain": [
       "<IPython.core.display.HTML object>"
      ]
     },
     "metadata": {},
     "output_type": "display_data"
    },
    {
     "data": {
      "text/html": [
       "Find logs at: <code>./wandb/run-20241124_004105-jo22955s/logs</code>"
      ],
      "text/plain": [
       "<IPython.core.display.HTML object>"
      ]
     },
     "metadata": {},
     "output_type": "display_data"
    },
    {
     "name": "stderr",
     "output_type": "stream",
     "text": [
      "\u001b[34m\u001b[1mwandb\u001b[0m: Agent Starting Run: rmh0a6mj with config:\n",
      "\u001b[34m\u001b[1mwandb\u001b[0m: \tactivation_function: tanh\n",
      "\u001b[34m\u001b[1mwandb\u001b[0m: \tbatch_size: 32\n",
      "\u001b[34m\u001b[1mwandb\u001b[0m: \tepochs: 30\n",
      "\u001b[34m\u001b[1mwandb\u001b[0m: \tinput_dim: 4\n",
      "\u001b[34m\u001b[1mwandb\u001b[0m: \tlearning_rate: 0.005\n",
      "\u001b[34m\u001b[1mwandb\u001b[0m: \tloss_function: mean_absolute_error\n"
     ]
    },
    {
     "data": {
      "text/html": [
       "Tracking run with wandb version 0.18.7"
      ],
      "text/plain": [
       "<IPython.core.display.HTML object>"
      ]
     },
     "metadata": {},
     "output_type": "display_data"
    },
    {
     "data": {
      "text/html": [
       "Run data is saved locally in <code>/home/walt/FociNet/wandb/run-20241124_004151-rmh0a6mj</code>"
      ],
      "text/plain": [
       "<IPython.core.display.HTML object>"
      ]
     },
     "metadata": {},
     "output_type": "display_data"
    },
    {
     "data": {
      "text/html": [
       "Syncing run <strong><a href='https://wandb.ai/walt_/dose-prediction/runs/rmh0a6mj' target=\"_blank\">classic-sweep-20</a></strong> to <a href='https://wandb.ai/walt_/dose-prediction' target=\"_blank\">Weights & Biases</a> (<a href='https://wandb.me/developer-guide' target=\"_blank\">docs</a>)<br/>Sweep page: <a href='https://wandb.ai/walt_/dose-prediction/sweeps/uui2wa8p' target=\"_blank\">https://wandb.ai/walt_/dose-prediction/sweeps/uui2wa8p</a>"
      ],
      "text/plain": [
       "<IPython.core.display.HTML object>"
      ]
     },
     "metadata": {},
     "output_type": "display_data"
    },
    {
     "data": {
      "text/html": [
       " View project at <a href='https://wandb.ai/walt_/dose-prediction' target=\"_blank\">https://wandb.ai/walt_/dose-prediction</a>"
      ],
      "text/plain": [
       "<IPython.core.display.HTML object>"
      ]
     },
     "metadata": {},
     "output_type": "display_data"
    },
    {
     "data": {
      "text/html": [
       " View sweep at <a href='https://wandb.ai/walt_/dose-prediction/sweeps/uui2wa8p' target=\"_blank\">https://wandb.ai/walt_/dose-prediction/sweeps/uui2wa8p</a>"
      ],
      "text/plain": [
       "<IPython.core.display.HTML object>"
      ]
     },
     "metadata": {},
     "output_type": "display_data"
    },
    {
     "data": {
      "text/html": [
       " View run at <a href='https://wandb.ai/walt_/dose-prediction/runs/rmh0a6mj' target=\"_blank\">https://wandb.ai/walt_/dose-prediction/runs/rmh0a6mj</a>"
      ],
      "text/plain": [
       "<IPython.core.display.HTML object>"
      ]
     },
     "metadata": {},
     "output_type": "display_data"
    },
    {
     "name": "stdout",
     "output_type": "stream",
     "text": [
      "Epoch 1/30\n",
      "306/306 - 2s - 7ms/step - loss: 0.2890 - mae: 0.2890 - val_loss: 0.2896 - val_mae: 0.2896\n",
      "Epoch 2/30\n",
      "306/306 - 1s - 3ms/step - loss: 0.2742 - mae: 0.2742 - val_loss: 0.2642 - val_mae: 0.2642\n",
      "Epoch 3/30\n",
      "306/306 - 1s - 3ms/step - loss: 0.2737 - mae: 0.2737 - val_loss: 0.2652 - val_mae: 0.2652\n",
      "Epoch 4/30\n",
      "306/306 - 1s - 3ms/step - loss: 0.2674 - mae: 0.2674 - val_loss: 0.2628 - val_mae: 0.2628\n",
      "Epoch 5/30\n",
      "306/306 - 1s - 3ms/step - loss: 0.2609 - mae: 0.2609 - val_loss: 0.2567 - val_mae: 0.2567\n",
      "Epoch 6/30\n",
      "306/306 - 1s - 3ms/step - loss: 0.2288 - mae: 0.2288 - val_loss: 0.2148 - val_mae: 0.2148\n",
      "Epoch 7/30\n",
      "306/306 - 1s - 4ms/step - loss: 0.2079 - mae: 0.2079 - val_loss: 0.2028 - val_mae: 0.2028\n",
      "Epoch 8/30\n",
      "306/306 - 1s - 4ms/step - loss: 0.2014 - mae: 0.2014 - val_loss: 0.2145 - val_mae: 0.2145\n",
      "Epoch 9/30\n",
      "306/306 - 1s - 3ms/step - loss: 0.1979 - mae: 0.1979 - val_loss: 0.1961 - val_mae: 0.1961\n",
      "Epoch 10/30\n",
      "306/306 - 1s - 2ms/step - loss: 0.1987 - mae: 0.1987 - val_loss: 0.2017 - val_mae: 0.2017\n",
      "Epoch 11/30\n",
      "306/306 - 1s - 3ms/step - loss: 0.1928 - mae: 0.1928 - val_loss: 0.1944 - val_mae: 0.1944\n",
      "Epoch 12/30\n",
      "306/306 - 1s - 3ms/step - loss: 0.1912 - mae: 0.1912 - val_loss: 0.1946 - val_mae: 0.1946\n",
      "Epoch 13/30\n",
      "306/306 - 1s - 3ms/step - loss: 0.1878 - mae: 0.1878 - val_loss: 0.1918 - val_mae: 0.1918\n",
      "Epoch 14/30\n",
      "306/306 - 1s - 3ms/step - loss: 0.1877 - mae: 0.1877 - val_loss: 0.1904 - val_mae: 0.1904\n",
      "Epoch 15/30\n",
      "306/306 - 1s - 3ms/step - loss: 0.1892 - mae: 0.1892 - val_loss: 0.1907 - val_mae: 0.1907\n",
      "Epoch 16/30\n",
      "306/306 - 1s - 3ms/step - loss: 0.1874 - mae: 0.1874 - val_loss: 0.1980 - val_mae: 0.1980\n",
      "Epoch 17/30\n",
      "306/306 - 1s - 3ms/step - loss: 0.1856 - mae: 0.1856 - val_loss: 0.1895 - val_mae: 0.1895\n",
      "Epoch 18/30\n",
      "306/306 - 1s - 2ms/step - loss: 0.1854 - mae: 0.1854 - val_loss: 0.2038 - val_mae: 0.2038\n",
      "Epoch 19/30\n",
      "306/306 - 1s - 3ms/step - loss: 0.1876 - mae: 0.1876 - val_loss: 0.1915 - val_mae: 0.1915\n",
      "Epoch 20/30\n"
     ]
    },
    {
     "name": "stderr",
     "output_type": "stream",
     "text": [
      "\u001b[34m\u001b[1mwandb\u001b[0m: \u001b[33mWARNING\u001b[0m A graphql request initiated by the public wandb API timed out (timeout=19 sec). Create a new API with an integer timeout larger than 19, e.g., `api = wandb.Api(timeout=29)` to increase the graphql timeout.\n"
     ]
    },
    {
     "name": "stdout",
     "output_type": "stream",
     "text": [
      "306/306 - 21s - 69ms/step - loss: 0.1846 - mae: 0.1846 - val_loss: 0.2027 - val_mae: 0.2027\n",
      "Epoch 21/30\n",
      "306/306 - 1s - 3ms/step - loss: 0.1828 - mae: 0.1828 - val_loss: 0.1985 - val_mae: 0.1985\n",
      "Epoch 22/30\n",
      "306/306 - 1s - 2ms/step - loss: 0.1857 - mae: 0.1857 - val_loss: 0.1883 - val_mae: 0.1883\n",
      "Epoch 23/30\n",
      "306/306 - 1s - 3ms/step - loss: 0.1823 - mae: 0.1823 - val_loss: 0.1914 - val_mae: 0.1914\n",
      "Epoch 24/30\n",
      "306/306 - 1s - 3ms/step - loss: 0.1834 - mae: 0.1834 - val_loss: 0.1875 - val_mae: 0.1875\n",
      "Epoch 25/30\n",
      "306/306 - 1s - 3ms/step - loss: 0.1836 - mae: 0.1836 - val_loss: 0.1870 - val_mae: 0.1870\n",
      "Epoch 26/30\n",
      "306/306 - 1s - 3ms/step - loss: 0.1830 - mae: 0.1830 - val_loss: 0.1868 - val_mae: 0.1868\n",
      "Epoch 27/30\n",
      "306/306 - 1s - 2ms/step - loss: 0.1820 - mae: 0.1820 - val_loss: 0.1898 - val_mae: 0.1898\n",
      "Epoch 28/30\n",
      "306/306 - 1s - 2ms/step - loss: 0.1790 - mae: 0.1790 - val_loss: 0.1867 - val_mae: 0.1867\n",
      "Epoch 29/30\n",
      "306/306 - 1s - 3ms/step - loss: 0.1840 - mae: 0.1840 - val_loss: 0.2012 - val_mae: 0.2012\n",
      "Epoch 30/30\n",
      "306/306 - 1s - 3ms/step - loss: 0.1842 - mae: 0.1842 - val_loss: 0.1889 - val_mae: 0.1889\n",
      "\u001b[1m44/44\u001b[0m \u001b[32m━━━━━━━━━━━━━━━━━━━━\u001b[0m\u001b[37m\u001b[0m \u001b[1m0s\u001b[0m 4ms/step\n"
     ]
    },
    {
     "data": {
      "text/html": [
       "\n",
       "    <style>\n",
       "        .wandb-row {\n",
       "            display: flex;\n",
       "            flex-direction: row;\n",
       "            flex-wrap: wrap;\n",
       "            justify-content: flex-start;\n",
       "            width: 100%;\n",
       "        }\n",
       "        .wandb-col {\n",
       "            display: flex;\n",
       "            flex-direction: column;\n",
       "            flex-basis: 100%;\n",
       "            flex: 1;\n",
       "            padding: 10px;\n",
       "        }\n",
       "    </style>\n",
       "<div class=\"wandb-row\"><div class=\"wandb-col\"><h3>Run history:</h3><br/><table class=\"wandb\"><tr><td>Max Absolute Error (Test)</td><td>▁</td></tr><tr><td>Mean Absolute Error (Test)</td><td>▁</td></tr><tr><td>R²</td><td>▁</td></tr><tr><td>Test Loss</td><td>▁</td></tr><tr><td>Test MAE</td><td>▁</td></tr><tr><td>epoch</td><td>▁▁▁▂▂▂▂▃▃▃▃▄▄▄▄▅▅▅▅▆▆▆▆▇▇▇▇███</td></tr><tr><td>epoch/epoch</td><td>▁▁▁▂▂▂▂▃▃▃▃▄▄▄▄▅▅▅▅▆▆▆▆▇▇▇▇███</td></tr><tr><td>epoch/learning_rate</td><td>▁▁▁▁▁▁▁▁▁▁▁▁▁▁▁▁▁▁▁▁▁▁▁▁▁▁▁▁▁▁</td></tr><tr><td>epoch/loss</td><td>█▇▇▇▆▄▃▂▂▂▂▂▂▂▂▂▁▁▂▁▁▁▁▁▁▁▁▁▁▁</td></tr><tr><td>epoch/mae</td><td>█▇▇▇▆▄▃▂▂▂▂▂▂▂▂▂▁▁▂▁▁▁▁▁▁▁▁▁▁▁</td></tr><tr><td>epoch/val_loss</td><td>█▆▆▆▆▃▂▃▂▂▂▂▁▁▁▂▁▂▁▂▂▁▁▁▁▁▁▁▂▁</td></tr><tr><td>epoch/val_mae</td><td>█▆▆▆▆▃▂▃▂▂▂▂▁▁▁▂▁▂▁▂▂▁▁▁▁▁▁▁▂▁</td></tr><tr><td>train_loss</td><td>█▇▇▇▆▄▃▂▂▂▂▂▂▂▂▂▁▁▂▁▁▁▁▁▁▁▁▁▁▁</td></tr><tr><td>train_mae</td><td>█▇▇▇▆▄▃▂▂▂▂▂▂▂▂▂▁▁▂▁▁▁▁▁▁▁▁▁▁▁</td></tr><tr><td>val_loss</td><td>█▆▆▆▆▃▂▃▂▂▂▂▁▁▁▂▁▂▁▂▂▁▁▁▁▁▁▁▂▁</td></tr><tr><td>val_mae</td><td>█▆▆▆▆▃▂▃▂▂▂▂▁▁▁▂▁▂▁▂▂▁▁▁▁▁▁▁▂▁</td></tr></table><br/></div><div class=\"wandb-col\"><h3>Run summary:</h3><br/><table class=\"wandb\"><tr><td>Max Absolute Error (Test)</td><td>1.03193</td></tr><tr><td>Mean Absolute Error (Test)</td><td>0.1815</td></tr><tr><td>R²</td><td>0.33694</td></tr><tr><td>Test Loss</td><td>0.1815</td></tr><tr><td>Test MAE</td><td>0.1815</td></tr><tr><td>epoch</td><td>29</td></tr><tr><td>epoch/epoch</td><td>29</td></tr><tr><td>epoch/learning_rate</td><td>0.005</td></tr><tr><td>epoch/loss</td><td>0.18417</td></tr><tr><td>epoch/mae</td><td>0.18417</td></tr><tr><td>epoch/val_loss</td><td>0.18893</td></tr><tr><td>epoch/val_mae</td><td>0.18893</td></tr><tr><td>train_loss</td><td>0.18417</td></tr><tr><td>train_mae</td><td>0.18417</td></tr><tr><td>val_loss</td><td>0.18893</td></tr><tr><td>val_mae</td><td>0.18893</td></tr></table><br/></div></div>"
      ],
      "text/plain": [
       "<IPython.core.display.HTML object>"
      ]
     },
     "metadata": {},
     "output_type": "display_data"
    },
    {
     "data": {
      "text/html": [
       " View run <strong style=\"color:#cdcd00\">classic-sweep-20</strong> at: <a href='https://wandb.ai/walt_/dose-prediction/runs/rmh0a6mj' target=\"_blank\">https://wandb.ai/walt_/dose-prediction/runs/rmh0a6mj</a><br/> View project at: <a href='https://wandb.ai/walt_/dose-prediction' target=\"_blank\">https://wandb.ai/walt_/dose-prediction</a><br/>Synced 5 W&B file(s), 0 media file(s), 60 artifact file(s) and 0 other file(s)"
      ],
      "text/plain": [
       "<IPython.core.display.HTML object>"
      ]
     },
     "metadata": {},
     "output_type": "display_data"
    },
    {
     "data": {
      "text/html": [
       "Find logs at: <code>./wandb/run-20241124_004151-rmh0a6mj/logs</code>"
      ],
      "text/plain": [
       "<IPython.core.display.HTML object>"
      ]
     },
     "metadata": {},
     "output_type": "display_data"
    },
    {
     "name": "stderr",
     "output_type": "stream",
     "text": [
      "\u001b[34m\u001b[1mwandb\u001b[0m: Agent Starting Run: dg8lh82f with config:\n",
      "\u001b[34m\u001b[1mwandb\u001b[0m: \tactivation_function: tanh\n",
      "\u001b[34m\u001b[1mwandb\u001b[0m: \tbatch_size: 32\n",
      "\u001b[34m\u001b[1mwandb\u001b[0m: \tepochs: 30\n",
      "\u001b[34m\u001b[1mwandb\u001b[0m: \tinput_dim: 4\n",
      "\u001b[34m\u001b[1mwandb\u001b[0m: \tlearning_rate: 0.01\n",
      "\u001b[34m\u001b[1mwandb\u001b[0m: \tloss_function: mean_absolute_error\n"
     ]
    },
    {
     "data": {
      "text/html": [
       "Tracking run with wandb version 0.18.7"
      ],
      "text/plain": [
       "<IPython.core.display.HTML object>"
      ]
     },
     "metadata": {},
     "output_type": "display_data"
    },
    {
     "data": {
      "text/html": [
       "Run data is saved locally in <code>/home/walt/FociNet/wandb/run-20241124_004247-dg8lh82f</code>"
      ],
      "text/plain": [
       "<IPython.core.display.HTML object>"
      ]
     },
     "metadata": {},
     "output_type": "display_data"
    },
    {
     "data": {
      "text/html": [
       "Syncing run <strong><a href='https://wandb.ai/walt_/dose-prediction/runs/dg8lh82f' target=\"_blank\">wobbly-sweep-21</a></strong> to <a href='https://wandb.ai/walt_/dose-prediction' target=\"_blank\">Weights & Biases</a> (<a href='https://wandb.me/developer-guide' target=\"_blank\">docs</a>)<br/>Sweep page: <a href='https://wandb.ai/walt_/dose-prediction/sweeps/uui2wa8p' target=\"_blank\">https://wandb.ai/walt_/dose-prediction/sweeps/uui2wa8p</a>"
      ],
      "text/plain": [
       "<IPython.core.display.HTML object>"
      ]
     },
     "metadata": {},
     "output_type": "display_data"
    },
    {
     "data": {
      "text/html": [
       " View project at <a href='https://wandb.ai/walt_/dose-prediction' target=\"_blank\">https://wandb.ai/walt_/dose-prediction</a>"
      ],
      "text/plain": [
       "<IPython.core.display.HTML object>"
      ]
     },
     "metadata": {},
     "output_type": "display_data"
    },
    {
     "data": {
      "text/html": [
       " View sweep at <a href='https://wandb.ai/walt_/dose-prediction/sweeps/uui2wa8p' target=\"_blank\">https://wandb.ai/walt_/dose-prediction/sweeps/uui2wa8p</a>"
      ],
      "text/plain": [
       "<IPython.core.display.HTML object>"
      ]
     },
     "metadata": {},
     "output_type": "display_data"
    },
    {
     "data": {
      "text/html": [
       " View run at <a href='https://wandb.ai/walt_/dose-prediction/runs/dg8lh82f' target=\"_blank\">https://wandb.ai/walt_/dose-prediction/runs/dg8lh82f</a>"
      ],
      "text/plain": [
       "<IPython.core.display.HTML object>"
      ]
     },
     "metadata": {},
     "output_type": "display_data"
    },
    {
     "name": "stdout",
     "output_type": "stream",
     "text": [
      "Epoch 1/30\n",
      "306/306 - 2s - 7ms/step - loss: 0.2953 - mae: 0.2953 - val_loss: 0.2672 - val_mae: 0.2672\n",
      "Epoch 2/30\n",
      "306/306 - 1s - 2ms/step - loss: 0.2526 - mae: 0.2526 - val_loss: 0.2336 - val_mae: 0.2336\n",
      "Epoch 3/30\n",
      "306/306 - 1s - 2ms/step - loss: 0.2162 - mae: 0.2162 - val_loss: 0.2087 - val_mae: 0.2087\n",
      "Epoch 4/30\n",
      "306/306 - 1s - 2ms/step - loss: 0.2045 - mae: 0.2045 - val_loss: 0.2157 - val_mae: 0.2157\n",
      "Epoch 5/30\n",
      "306/306 - 1s - 2ms/step - loss: 0.1993 - mae: 0.1993 - val_loss: 0.2086 - val_mae: 0.2086\n",
      "Epoch 6/30\n",
      "306/306 - 1s - 3ms/step - loss: 0.2001 - mae: 0.2001 - val_loss: 0.2173 - val_mae: 0.2173\n",
      "Epoch 7/30\n",
      "306/306 - 1s - 2ms/step - loss: 0.1987 - mae: 0.1987 - val_loss: 0.1941 - val_mae: 0.1941\n",
      "Epoch 8/30\n",
      "306/306 - 1s - 2ms/step - loss: 0.1937 - mae: 0.1937 - val_loss: 0.1907 - val_mae: 0.1907\n",
      "Epoch 9/30\n",
      "306/306 - 1s - 4ms/step - loss: 0.1892 - mae: 0.1892 - val_loss: 0.1907 - val_mae: 0.1907\n",
      "Epoch 10/30\n",
      "306/306 - 1s - 2ms/step - loss: 0.1886 - mae: 0.1886 - val_loss: 0.1995 - val_mae: 0.1995\n",
      "Epoch 11/30\n",
      "306/306 - 1s - 3ms/step - loss: 0.1901 - mae: 0.1901 - val_loss: 0.1913 - val_mae: 0.1913\n",
      "Epoch 12/30\n",
      "306/306 - 1s - 3ms/step - loss: 0.1880 - mae: 0.1880 - val_loss: 0.2005 - val_mae: 0.2005\n",
      "Epoch 13/30\n",
      "306/306 - 1s - 2ms/step - loss: 0.1951 - mae: 0.1951 - val_loss: 0.1920 - val_mae: 0.1920\n",
      "Epoch 14/30\n",
      "306/306 - 1s - 3ms/step - loss: 0.1952 - mae: 0.1952 - val_loss: 0.1892 - val_mae: 0.1892\n",
      "Epoch 15/30\n",
      "306/306 - 1s - 3ms/step - loss: 0.1849 - mae: 0.1849 - val_loss: 0.1912 - val_mae: 0.1912\n",
      "Epoch 16/30\n",
      "306/306 - 1s - 2ms/step - loss: 0.1873 - mae: 0.1873 - val_loss: 0.1892 - val_mae: 0.1892\n",
      "Epoch 17/30\n",
      "306/306 - 1s - 3ms/step - loss: 0.1849 - mae: 0.1849 - val_loss: 0.1883 - val_mae: 0.1883\n",
      "Epoch 18/30\n",
      "306/306 - 1s - 2ms/step - loss: 0.1835 - mae: 0.1835 - val_loss: 0.2240 - val_mae: 0.2240\n",
      "Epoch 19/30\n",
      "306/306 - 1s - 2ms/step - loss: 0.1933 - mae: 0.1933 - val_loss: 0.1893 - val_mae: 0.1893\n",
      "Epoch 20/30\n",
      "306/306 - 1s - 2ms/step - loss: 0.1871 - mae: 0.1871 - val_loss: 0.1922 - val_mae: 0.1922\n",
      "Epoch 21/30\n",
      "306/306 - 1s - 3ms/step - loss: 0.1820 - mae: 0.1820 - val_loss: 0.1872 - val_mae: 0.1872\n",
      "Epoch 22/30\n",
      "306/306 - 1s - 2ms/step - loss: 0.1833 - mae: 0.1833 - val_loss: 0.1851 - val_mae: 0.1851\n",
      "Epoch 23/30\n",
      "306/306 - 1s - 2ms/step - loss: 0.1836 - mae: 0.1836 - val_loss: 0.1893 - val_mae: 0.1893\n",
      "Epoch 24/30\n",
      "306/306 - 1s - 2ms/step - loss: 0.1901 - mae: 0.1901 - val_loss: 0.1912 - val_mae: 0.1912\n",
      "Epoch 25/30\n",
      "306/306 - 1s - 2ms/step - loss: 0.1839 - mae: 0.1839 - val_loss: 0.1917 - val_mae: 0.1917\n",
      "Epoch 26/30\n",
      "306/306 - 1s - 2ms/step - loss: 0.1835 - mae: 0.1835 - val_loss: 0.1856 - val_mae: 0.1856\n",
      "Epoch 27/30\n",
      "306/306 - 1s - 3ms/step - loss: 0.1877 - mae: 0.1877 - val_loss: 0.1981 - val_mae: 0.1981\n",
      "Epoch 28/30\n",
      "306/306 - 1s - 3ms/step - loss: 0.1809 - mae: 0.1809 - val_loss: 0.1849 - val_mae: 0.1849\n",
      "Epoch 29/30\n",
      "306/306 - 1s - 3ms/step - loss: 0.1924 - mae: 0.1924 - val_loss: 0.1967 - val_mae: 0.1967\n",
      "Epoch 30/30\n",
      "306/306 - 1s - 3ms/step - loss: 0.1872 - mae: 0.1872 - val_loss: 0.2000 - val_mae: 0.2000\n",
      "\u001b[1m44/44\u001b[0m \u001b[32m━━━━━━━━━━━━━━━━━━━━\u001b[0m\u001b[37m\u001b[0m \u001b[1m0s\u001b[0m 5ms/step\n"
     ]
    },
    {
     "data": {
      "text/html": [
       "\n",
       "    <style>\n",
       "        .wandb-row {\n",
       "            display: flex;\n",
       "            flex-direction: row;\n",
       "            flex-wrap: wrap;\n",
       "            justify-content: flex-start;\n",
       "            width: 100%;\n",
       "        }\n",
       "        .wandb-col {\n",
       "            display: flex;\n",
       "            flex-direction: column;\n",
       "            flex-basis: 100%;\n",
       "            flex: 1;\n",
       "            padding: 10px;\n",
       "        }\n",
       "    </style>\n",
       "<div class=\"wandb-row\"><div class=\"wandb-col\"><h3>Run history:</h3><br/><table class=\"wandb\"><tr><td>Max Absolute Error (Test)</td><td>▁</td></tr><tr><td>Mean Absolute Error (Test)</td><td>▁</td></tr><tr><td>R²</td><td>▁</td></tr><tr><td>Test Loss</td><td>▁</td></tr><tr><td>Test MAE</td><td>▁</td></tr><tr><td>epoch</td><td>▁▁▁▂▂▂▂▃▃▃▃▄▄▄▄▅▅▅▅▆▆▆▆▇▇▇▇███</td></tr><tr><td>epoch/epoch</td><td>▁▁▁▂▂▂▂▃▃▃▃▄▄▄▄▅▅▅▅▆▆▆▆▇▇▇▇███</td></tr><tr><td>epoch/learning_rate</td><td>▁▁▁▁▁▁▁▁▁▁▁▁▁▁▁▁▁▁▁▁▁▁▁▁▁▁▁▁▁▁</td></tr><tr><td>epoch/loss</td><td>█▅▃▂▂▂▂▂▂▁▂▁▂▂▁▁▁▁▂▁▁▁▁▂▁▁▁▁▂▁</td></tr><tr><td>epoch/mae</td><td>█▅▃▂▂▂▂▂▂▁▂▁▂▂▁▁▁▁▂▁▁▁▁▂▁▁▁▁▂▁</td></tr><tr><td>epoch/val_loss</td><td>█▅▃▄▃▄▂▁▁▂▂▂▂▁▂▁▁▄▁▂▁▁▁▂▂▁▂▁▂▂</td></tr><tr><td>epoch/val_mae</td><td>█▅▃▄▃▄▂▁▁▂▂▂▂▁▂▁▁▄▁▂▁▁▁▂▂▁▂▁▂▂</td></tr><tr><td>train_loss</td><td>█▅▃▂▂▂▂▂▂▁▂▁▂▂▁▁▁▁▂▁▁▁▁▂▁▁▁▁▂▁</td></tr><tr><td>train_mae</td><td>█▅▃▂▂▂▂▂▂▁▂▁▂▂▁▁▁▁▂▁▁▁▁▂▁▁▁▁▂▁</td></tr><tr><td>val_loss</td><td>█▅▃▄▃▄▂▁▁▂▂▂▂▁▂▁▁▄▁▂▁▁▁▂▂▁▂▁▂▂</td></tr><tr><td>val_mae</td><td>█▅▃▄▃▄▂▁▁▂▂▂▂▁▂▁▁▄▁▂▁▁▁▂▂▁▂▁▂▂</td></tr></table><br/></div><div class=\"wandb-col\"><h3>Run summary:</h3><br/><table class=\"wandb\"><tr><td>Max Absolute Error (Test)</td><td>0.99586</td></tr><tr><td>Mean Absolute Error (Test)</td><td>0.19867</td></tr><tr><td>R²</td><td>0.30262</td></tr><tr><td>Test Loss</td><td>0.19867</td></tr><tr><td>Test MAE</td><td>0.19867</td></tr><tr><td>epoch</td><td>29</td></tr><tr><td>epoch/epoch</td><td>29</td></tr><tr><td>epoch/learning_rate</td><td>0.01</td></tr><tr><td>epoch/loss</td><td>0.18717</td></tr><tr><td>epoch/mae</td><td>0.18717</td></tr><tr><td>epoch/val_loss</td><td>0.20004</td></tr><tr><td>epoch/val_mae</td><td>0.20004</td></tr><tr><td>train_loss</td><td>0.18717</td></tr><tr><td>train_mae</td><td>0.18717</td></tr><tr><td>val_loss</td><td>0.20004</td></tr><tr><td>val_mae</td><td>0.20004</td></tr></table><br/></div></div>"
      ],
      "text/plain": [
       "<IPython.core.display.HTML object>"
      ]
     },
     "metadata": {},
     "output_type": "display_data"
    },
    {
     "data": {
      "text/html": [
       " View run <strong style=\"color:#cdcd00\">wobbly-sweep-21</strong> at: <a href='https://wandb.ai/walt_/dose-prediction/runs/dg8lh82f' target=\"_blank\">https://wandb.ai/walt_/dose-prediction/runs/dg8lh82f</a><br/> View project at: <a href='https://wandb.ai/walt_/dose-prediction' target=\"_blank\">https://wandb.ai/walt_/dose-prediction</a><br/>Synced 5 W&B file(s), 0 media file(s), 60 artifact file(s) and 0 other file(s)"
      ],
      "text/plain": [
       "<IPython.core.display.HTML object>"
      ]
     },
     "metadata": {},
     "output_type": "display_data"
    },
    {
     "data": {
      "text/html": [
       "Find logs at: <code>./wandb/run-20241124_004247-dg8lh82f/logs</code>"
      ],
      "text/plain": [
       "<IPython.core.display.HTML object>"
      ]
     },
     "metadata": {},
     "output_type": "display_data"
    },
    {
     "name": "stderr",
     "output_type": "stream",
     "text": [
      "\u001b[34m\u001b[1mwandb\u001b[0m: Sweep Agent: Waiting for job.\n",
      "\u001b[34m\u001b[1mwandb\u001b[0m: Job received.\n",
      "\u001b[34m\u001b[1mwandb\u001b[0m: Agent Starting Run: xul41ofq with config:\n",
      "\u001b[34m\u001b[1mwandb\u001b[0m: \tactivation_function: tanh\n",
      "\u001b[34m\u001b[1mwandb\u001b[0m: \tbatch_size: 32\n",
      "\u001b[34m\u001b[1mwandb\u001b[0m: \tepochs: 35\n",
      "\u001b[34m\u001b[1mwandb\u001b[0m: \tinput_dim: 4\n",
      "\u001b[34m\u001b[1mwandb\u001b[0m: \tlearning_rate: 0.001\n",
      "\u001b[34m\u001b[1mwandb\u001b[0m: \tloss_function: mean_absolute_error\n"
     ]
    },
    {
     "data": {
      "text/html": [
       "Tracking run with wandb version 0.18.7"
      ],
      "text/plain": [
       "<IPython.core.display.HTML object>"
      ]
     },
     "metadata": {},
     "output_type": "display_data"
    },
    {
     "data": {
      "text/html": [
       "Run data is saved locally in <code>/home/walt/FociNet/wandb/run-20241124_004343-xul41ofq</code>"
      ],
      "text/plain": [
       "<IPython.core.display.HTML object>"
      ]
     },
     "metadata": {},
     "output_type": "display_data"
    },
    {
     "data": {
      "text/html": [
       "Syncing run <strong><a href='https://wandb.ai/walt_/dose-prediction/runs/xul41ofq' target=\"_blank\">vivid-sweep-22</a></strong> to <a href='https://wandb.ai/walt_/dose-prediction' target=\"_blank\">Weights & Biases</a> (<a href='https://wandb.me/developer-guide' target=\"_blank\">docs</a>)<br/>Sweep page: <a href='https://wandb.ai/walt_/dose-prediction/sweeps/uui2wa8p' target=\"_blank\">https://wandb.ai/walt_/dose-prediction/sweeps/uui2wa8p</a>"
      ],
      "text/plain": [
       "<IPython.core.display.HTML object>"
      ]
     },
     "metadata": {},
     "output_type": "display_data"
    },
    {
     "data": {
      "text/html": [
       " View project at <a href='https://wandb.ai/walt_/dose-prediction' target=\"_blank\">https://wandb.ai/walt_/dose-prediction</a>"
      ],
      "text/plain": [
       "<IPython.core.display.HTML object>"
      ]
     },
     "metadata": {},
     "output_type": "display_data"
    },
    {
     "data": {
      "text/html": [
       " View sweep at <a href='https://wandb.ai/walt_/dose-prediction/sweeps/uui2wa8p' target=\"_blank\">https://wandb.ai/walt_/dose-prediction/sweeps/uui2wa8p</a>"
      ],
      "text/plain": [
       "<IPython.core.display.HTML object>"
      ]
     },
     "metadata": {},
     "output_type": "display_data"
    },
    {
     "data": {
      "text/html": [
       " View run at <a href='https://wandb.ai/walt_/dose-prediction/runs/xul41ofq' target=\"_blank\">https://wandb.ai/walt_/dose-prediction/runs/xul41ofq</a>"
      ],
      "text/plain": [
       "<IPython.core.display.HTML object>"
      ]
     },
     "metadata": {},
     "output_type": "display_data"
    },
    {
     "name": "stdout",
     "output_type": "stream",
     "text": [
      "Epoch 1/35\n",
      "306/306 - 2s - 7ms/step - loss: 0.2954 - mae: 0.2954 - val_loss: 0.2772 - val_mae: 0.2772\n",
      "Epoch 2/35\n",
      "306/306 - 1s - 3ms/step - loss: 0.2797 - mae: 0.2797 - val_loss: 0.2696 - val_mae: 0.2696\n",
      "Epoch 3/35\n",
      "306/306 - 1s - 3ms/step - loss: 0.2745 - mae: 0.2745 - val_loss: 0.2640 - val_mae: 0.2640\n",
      "Epoch 4/35\n",
      "306/306 - 1s - 3ms/step - loss: 0.2694 - mae: 0.2694 - val_loss: 0.2604 - val_mae: 0.2604\n",
      "Epoch 5/35\n",
      "306/306 - 1s - 3ms/step - loss: 0.2647 - mae: 0.2647 - val_loss: 0.2578 - val_mae: 0.2578\n",
      "Epoch 6/35\n",
      "306/306 - 1s - 3ms/step - loss: 0.2618 - mae: 0.2618 - val_loss: 0.2570 - val_mae: 0.2570\n",
      "Epoch 7/35\n",
      "306/306 - 1s - 3ms/step - loss: 0.2633 - mae: 0.2633 - val_loss: 0.2573 - val_mae: 0.2573\n",
      "Epoch 8/35\n",
      "306/306 - 1s - 3ms/step - loss: 0.2603 - mae: 0.2603 - val_loss: 0.2575 - val_mae: 0.2575\n",
      "Epoch 9/35\n",
      "306/306 - 1s - 2ms/step - loss: 0.2587 - mae: 0.2587 - val_loss: 0.2587 - val_mae: 0.2587\n",
      "Epoch 10/35\n",
      "306/306 - 1s - 3ms/step - loss: 0.2591 - mae: 0.2591 - val_loss: 0.2616 - val_mae: 0.2616\n",
      "Epoch 11/35\n",
      "306/306 - 1s - 3ms/step - loss: 0.2591 - mae: 0.2591 - val_loss: 0.2662 - val_mae: 0.2662\n",
      "Epoch 12/35\n",
      "306/306 - 1s - 3ms/step - loss: 0.2560 - mae: 0.2560 - val_loss: 0.2537 - val_mae: 0.2537\n",
      "Epoch 13/35\n",
      "306/306 - 1s - 3ms/step - loss: 0.2535 - mae: 0.2535 - val_loss: 0.2466 - val_mae: 0.2466\n",
      "Epoch 14/35\n",
      "306/306 - 1s - 3ms/step - loss: 0.2464 - mae: 0.2464 - val_loss: 0.2437 - val_mae: 0.2437\n",
      "Epoch 15/35\n",
      "306/306 - 1s - 4ms/step - loss: 0.2391 - mae: 0.2391 - val_loss: 0.2378 - val_mae: 0.2378\n",
      "Epoch 16/35\n",
      "306/306 - 1s - 4ms/step - loss: 0.2332 - mae: 0.2332 - val_loss: 0.2326 - val_mae: 0.2326\n",
      "Epoch 17/35\n",
      "306/306 - 1s - 3ms/step - loss: 0.2278 - mae: 0.2278 - val_loss: 0.2266 - val_mae: 0.2266\n",
      "Epoch 18/35\n",
      "306/306 - 1s - 3ms/step - loss: 0.2246 - mae: 0.2246 - val_loss: 0.2259 - val_mae: 0.2259\n",
      "Epoch 19/35\n",
      "306/306 - 1s - 3ms/step - loss: 0.2214 - mae: 0.2214 - val_loss: 0.2235 - val_mae: 0.2235\n",
      "Epoch 20/35\n",
      "306/306 - 1s - 3ms/step - loss: 0.2184 - mae: 0.2184 - val_loss: 0.2196 - val_mae: 0.2196\n",
      "Epoch 21/35\n",
      "306/306 - 1s - 3ms/step - loss: 0.2156 - mae: 0.2156 - val_loss: 0.2172 - val_mae: 0.2172\n",
      "Epoch 22/35\n",
      "306/306 - 1s - 3ms/step - loss: 0.2136 - mae: 0.2136 - val_loss: 0.2242 - val_mae: 0.2242\n",
      "Epoch 23/35\n",
      "306/306 - 1s - 3ms/step - loss: 0.2113 - mae: 0.2113 - val_loss: 0.2132 - val_mae: 0.2132\n",
      "Epoch 24/35\n",
      "306/306 - 1s - 3ms/step - loss: 0.2086 - mae: 0.2086 - val_loss: 0.2128 - val_mae: 0.2128\n",
      "Epoch 25/35\n",
      "306/306 - 1s - 3ms/step - loss: 0.2078 - mae: 0.2078 - val_loss: 0.2132 - val_mae: 0.2132\n",
      "Epoch 26/35\n",
      "306/306 - 1s - 3ms/step - loss: 0.2047 - mae: 0.2047 - val_loss: 0.2120 - val_mae: 0.2120\n",
      "Epoch 27/35\n",
      "306/306 - 1s - 4ms/step - loss: 0.2028 - mae: 0.2028 - val_loss: 0.2080 - val_mae: 0.2080\n",
      "Epoch 28/35\n",
      "306/306 - 1s - 3ms/step - loss: 0.2010 - mae: 0.2010 - val_loss: 0.2057 - val_mae: 0.2057\n",
      "Epoch 29/35\n",
      "306/306 - 1s - 3ms/step - loss: 0.1997 - mae: 0.1997 - val_loss: 0.2017 - val_mae: 0.2017\n",
      "Epoch 30/35\n",
      "306/306 - 1s - 2ms/step - loss: 0.1977 - mae: 0.1977 - val_loss: 0.2008 - val_mae: 0.2008\n",
      "Epoch 31/35\n",
      "306/306 - 1s - 4ms/step - loss: 0.1960 - mae: 0.1960 - val_loss: 0.2007 - val_mae: 0.2007\n",
      "Epoch 32/35\n",
      "306/306 - 1s - 2ms/step - loss: 0.1961 - mae: 0.1961 - val_loss: 0.1993 - val_mae: 0.1993\n",
      "Epoch 33/35\n",
      "306/306 - 1s - 3ms/step - loss: 0.1949 - mae: 0.1949 - val_loss: 0.1989 - val_mae: 0.1989\n",
      "Epoch 34/35\n",
      "306/306 - 1s - 3ms/step - loss: 0.1938 - mae: 0.1938 - val_loss: 0.2012 - val_mae: 0.2012\n",
      "Epoch 35/35\n",
      "306/306 - 1s - 3ms/step - loss: 0.1934 - mae: 0.1934 - val_loss: 0.1966 - val_mae: 0.1966\n",
      "\u001b[1m44/44\u001b[0m \u001b[32m━━━━━━━━━━━━━━━━━━━━\u001b[0m\u001b[37m\u001b[0m \u001b[1m0s\u001b[0m 4ms/step\n"
     ]
    },
    {
     "data": {
      "text/html": [
       "\n",
       "    <style>\n",
       "        .wandb-row {\n",
       "            display: flex;\n",
       "            flex-direction: row;\n",
       "            flex-wrap: wrap;\n",
       "            justify-content: flex-start;\n",
       "            width: 100%;\n",
       "        }\n",
       "        .wandb-col {\n",
       "            display: flex;\n",
       "            flex-direction: column;\n",
       "            flex-basis: 100%;\n",
       "            flex: 1;\n",
       "            padding: 10px;\n",
       "        }\n",
       "    </style>\n",
       "<div class=\"wandb-row\"><div class=\"wandb-col\"><h3>Run history:</h3><br/><table class=\"wandb\"><tr><td>Max Absolute Error (Test)</td><td>▁</td></tr><tr><td>Mean Absolute Error (Test)</td><td>▁</td></tr><tr><td>R²</td><td>▁</td></tr><tr><td>Test Loss</td><td>▁</td></tr><tr><td>Test MAE</td><td>▁</td></tr><tr><td>epoch</td><td>▁▁▁▂▂▂▂▂▃▃▃▃▃▄▄▄▄▅▅▅▅▅▆▆▆▆▆▇▇▇▇▇███</td></tr><tr><td>epoch/epoch</td><td>▁▁▁▂▂▂▂▂▃▃▃▃▃▄▄▄▄▅▅▅▅▅▆▆▆▆▆▇▇▇▇▇███</td></tr><tr><td>epoch/learning_rate</td><td>▁▁▁▁▁▁▁▁▁▁▁▁▁▁▁▁▁▁▁▁▁▁▁▁▁▁▁▁▁▁▁▁▁▁▁</td></tr><tr><td>epoch/loss</td><td>█▇▇▆▆▆▆▆▅▆▆▅▅▅▄▄▃▃▃▃▃▂▂▂▂▂▂▂▁▁▁▁▁▁▁</td></tr><tr><td>epoch/mae</td><td>█▇▇▆▆▆▆▆▅▆▆▅▅▅▄▄▃▃▃▃▃▂▂▂▂▂▂▂▁▁▁▁▁▁▁</td></tr><tr><td>epoch/val_loss</td><td>█▇▇▇▆▆▆▆▆▇▇▆▅▅▅▄▄▄▃▃▃▃▂▂▂▂▂▂▁▁▁▁▁▁▁</td></tr><tr><td>epoch/val_mae</td><td>█▇▇▇▆▆▆▆▆▇▇▆▅▅▅▄▄▄▃▃▃▃▂▂▂▂▂▂▁▁▁▁▁▁▁</td></tr><tr><td>train_loss</td><td>█▇▇▆▆▆▆▆▅▆▆▅▅▅▄▄▃▃▃▃▃▂▂▂▂▂▂▂▁▁▁▁▁▁▁</td></tr><tr><td>train_mae</td><td>█▇▇▆▆▆▆▆▅▆▆▅▅▅▄▄▃▃▃▃▃▂▂▂▂▂▂▂▁▁▁▁▁▁▁</td></tr><tr><td>val_loss</td><td>█▇▇▇▆▆▆▆▆▇▇▆▅▅▅▄▄▄▃▃▃▃▂▂▂▂▂▂▁▁▁▁▁▁▁</td></tr><tr><td>val_mae</td><td>█▇▇▇▆▆▆▆▆▇▇▆▅▅▅▄▄▄▃▃▃▃▂▂▂▂▂▂▁▁▁▁▁▁▁</td></tr></table><br/></div><div class=\"wandb-col\"><h3>Run summary:</h3><br/><table class=\"wandb\"><tr><td>Max Absolute Error (Test)</td><td>1.0655</td></tr><tr><td>Mean Absolute Error (Test)</td><td>0.18656</td></tr><tr><td>R²</td><td>0.44523</td></tr><tr><td>Test Loss</td><td>0.18656</td></tr><tr><td>Test MAE</td><td>0.18656</td></tr><tr><td>epoch</td><td>34</td></tr><tr><td>epoch/epoch</td><td>34</td></tr><tr><td>epoch/learning_rate</td><td>0.001</td></tr><tr><td>epoch/loss</td><td>0.19343</td></tr><tr><td>epoch/mae</td><td>0.19343</td></tr><tr><td>epoch/val_loss</td><td>0.19658</td></tr><tr><td>epoch/val_mae</td><td>0.19658</td></tr><tr><td>train_loss</td><td>0.19343</td></tr><tr><td>train_mae</td><td>0.19343</td></tr><tr><td>val_loss</td><td>0.19658</td></tr><tr><td>val_mae</td><td>0.19658</td></tr></table><br/></div></div>"
      ],
      "text/plain": [
       "<IPython.core.display.HTML object>"
      ]
     },
     "metadata": {},
     "output_type": "display_data"
    },
    {
     "data": {
      "text/html": [
       " View run <strong style=\"color:#cdcd00\">vivid-sweep-22</strong> at: <a href='https://wandb.ai/walt_/dose-prediction/runs/xul41ofq' target=\"_blank\">https://wandb.ai/walt_/dose-prediction/runs/xul41ofq</a><br/> View project at: <a href='https://wandb.ai/walt_/dose-prediction' target=\"_blank\">https://wandb.ai/walt_/dose-prediction</a><br/>Synced 5 W&B file(s), 0 media file(s), 70 artifact file(s) and 0 other file(s)"
      ],
      "text/plain": [
       "<IPython.core.display.HTML object>"
      ]
     },
     "metadata": {},
     "output_type": "display_data"
    },
    {
     "data": {
      "text/html": [
       "Find logs at: <code>./wandb/run-20241124_004343-xul41ofq/logs</code>"
      ],
      "text/plain": [
       "<IPython.core.display.HTML object>"
      ]
     },
     "metadata": {},
     "output_type": "display_data"
    },
    {
     "name": "stderr",
     "output_type": "stream",
     "text": [
      "\u001b[34m\u001b[1mwandb\u001b[0m: Agent Starting Run: yh0rdqn8 with config:\n",
      "\u001b[34m\u001b[1mwandb\u001b[0m: \tactivation_function: tanh\n",
      "\u001b[34m\u001b[1mwandb\u001b[0m: \tbatch_size: 32\n",
      "\u001b[34m\u001b[1mwandb\u001b[0m: \tepochs: 35\n",
      "\u001b[34m\u001b[1mwandb\u001b[0m: \tinput_dim: 4\n",
      "\u001b[34m\u001b[1mwandb\u001b[0m: \tlearning_rate: 0.005\n",
      "\u001b[34m\u001b[1mwandb\u001b[0m: \tloss_function: mean_absolute_error\n"
     ]
    },
    {
     "data": {
      "text/html": [
       "Tracking run with wandb version 0.18.7"
      ],
      "text/plain": [
       "<IPython.core.display.HTML object>"
      ]
     },
     "metadata": {},
     "output_type": "display_data"
    },
    {
     "data": {
      "text/html": [
       "Run data is saved locally in <code>/home/walt/FociNet/wandb/run-20241124_004434-yh0rdqn8</code>"
      ],
      "text/plain": [
       "<IPython.core.display.HTML object>"
      ]
     },
     "metadata": {},
     "output_type": "display_data"
    },
    {
     "data": {
      "text/html": [
       "Syncing run <strong><a href='https://wandb.ai/walt_/dose-prediction/runs/yh0rdqn8' target=\"_blank\">eternal-sweep-23</a></strong> to <a href='https://wandb.ai/walt_/dose-prediction' target=\"_blank\">Weights & Biases</a> (<a href='https://wandb.me/developer-guide' target=\"_blank\">docs</a>)<br/>Sweep page: <a href='https://wandb.ai/walt_/dose-prediction/sweeps/uui2wa8p' target=\"_blank\">https://wandb.ai/walt_/dose-prediction/sweeps/uui2wa8p</a>"
      ],
      "text/plain": [
       "<IPython.core.display.HTML object>"
      ]
     },
     "metadata": {},
     "output_type": "display_data"
    },
    {
     "data": {
      "text/html": [
       " View project at <a href='https://wandb.ai/walt_/dose-prediction' target=\"_blank\">https://wandb.ai/walt_/dose-prediction</a>"
      ],
      "text/plain": [
       "<IPython.core.display.HTML object>"
      ]
     },
     "metadata": {},
     "output_type": "display_data"
    },
    {
     "data": {
      "text/html": [
       " View sweep at <a href='https://wandb.ai/walt_/dose-prediction/sweeps/uui2wa8p' target=\"_blank\">https://wandb.ai/walt_/dose-prediction/sweeps/uui2wa8p</a>"
      ],
      "text/plain": [
       "<IPython.core.display.HTML object>"
      ]
     },
     "metadata": {},
     "output_type": "display_data"
    },
    {
     "data": {
      "text/html": [
       " View run at <a href='https://wandb.ai/walt_/dose-prediction/runs/yh0rdqn8' target=\"_blank\">https://wandb.ai/walt_/dose-prediction/runs/yh0rdqn8</a>"
      ],
      "text/plain": [
       "<IPython.core.display.HTML object>"
      ]
     },
     "metadata": {},
     "output_type": "display_data"
    },
    {
     "name": "stdout",
     "output_type": "stream",
     "text": [
      "Epoch 1/35\n",
      "306/306 - 2s - 7ms/step - loss: 0.2943 - mae: 0.2943 - val_loss: 0.2655 - val_mae: 0.2655\n",
      "Epoch 2/35\n",
      "306/306 - 1s - 3ms/step - loss: 0.2748 - mae: 0.2748 - val_loss: 0.2683 - val_mae: 0.2683\n",
      "Epoch 3/35\n",
      "306/306 - 1s - 2ms/step - loss: 0.2665 - mae: 0.2665 - val_loss: 0.2573 - val_mae: 0.2573\n",
      "Epoch 4/35\n",
      "306/306 - 1s - 2ms/step - loss: 0.2654 - mae: 0.2654 - val_loss: 0.2556 - val_mae: 0.2556\n",
      "Epoch 5/35\n",
      "306/306 - 1s - 3ms/step - loss: 0.2465 - mae: 0.2465 - val_loss: 0.2305 - val_mae: 0.2305\n",
      "Epoch 6/35\n",
      "306/306 - 1s - 2ms/step - loss: 0.2137 - mae: 0.2137 - val_loss: 0.2111 - val_mae: 0.2111\n",
      "Epoch 7/35\n",
      "306/306 - 1s - 2ms/step - loss: 0.2040 - mae: 0.2040 - val_loss: 0.2015 - val_mae: 0.2015\n",
      "Epoch 8/35\n",
      "306/306 - 1s - 2ms/step - loss: 0.1992 - mae: 0.1992 - val_loss: 0.2003 - val_mae: 0.2003\n",
      "Epoch 9/35\n",
      "306/306 - 1s - 2ms/step - loss: 0.1998 - mae: 0.1998 - val_loss: 0.1963 - val_mae: 0.1963\n",
      "Epoch 10/35\n",
      "306/306 - 1s - 2ms/step - loss: 0.1953 - mae: 0.1953 - val_loss: 0.2108 - val_mae: 0.2108\n",
      "Epoch 11/35\n",
      "306/306 - 1s - 2ms/step - loss: 0.1940 - mae: 0.1940 - val_loss: 0.2131 - val_mae: 0.2131\n",
      "Epoch 12/35\n",
      "306/306 - 1s - 2ms/step - loss: 0.1931 - mae: 0.1931 - val_loss: 0.2008 - val_mae: 0.2008\n",
      "Epoch 13/35\n",
      "306/306 - 1s - 2ms/step - loss: 0.1899 - mae: 0.1899 - val_loss: 0.1918 - val_mae: 0.1918\n",
      "Epoch 14/35\n",
      "306/306 - 1s - 2ms/step - loss: 0.1902 - mae: 0.1902 - val_loss: 0.1987 - val_mae: 0.1987\n",
      "Epoch 15/35\n",
      "306/306 - 1s - 3ms/step - loss: 0.1899 - mae: 0.1899 - val_loss: 0.2055 - val_mae: 0.2055\n",
      "Epoch 16/35\n",
      "306/306 - 1s - 2ms/step - loss: 0.1901 - mae: 0.1901 - val_loss: 0.1918 - val_mae: 0.1918\n",
      "Epoch 17/35\n",
      "306/306 - 1s - 3ms/step - loss: 0.1887 - mae: 0.1887 - val_loss: 0.1934 - val_mae: 0.1934\n",
      "Epoch 18/35\n",
      "306/306 - 1s - 2ms/step - loss: 0.1885 - mae: 0.1885 - val_loss: 0.1910 - val_mae: 0.1910\n",
      "Epoch 19/35\n",
      "306/306 - 1s - 2ms/step - loss: 0.1873 - mae: 0.1873 - val_loss: 0.2018 - val_mae: 0.2018\n",
      "Epoch 20/35\n",
      "306/306 - 1s - 2ms/step - loss: 0.1853 - mae: 0.1853 - val_loss: 0.1934 - val_mae: 0.1934\n",
      "Epoch 21/35\n",
      "306/306 - 1s - 2ms/step - loss: 0.1845 - mae: 0.1845 - val_loss: 0.1895 - val_mae: 0.1895\n",
      "Epoch 22/35\n",
      "306/306 - 1s - 2ms/step - loss: 0.1833 - mae: 0.1833 - val_loss: 0.1902 - val_mae: 0.1902\n",
      "Epoch 23/35\n",
      "306/306 - 1s - 2ms/step - loss: 0.1838 - mae: 0.1838 - val_loss: 0.1894 - val_mae: 0.1894\n",
      "Epoch 24/35\n",
      "306/306 - 1s - 3ms/step - loss: 0.1833 - mae: 0.1833 - val_loss: 0.1894 - val_mae: 0.1894\n",
      "Epoch 25/35\n",
      "306/306 - 1s - 3ms/step - loss: 0.1880 - mae: 0.1880 - val_loss: 0.2013 - val_mae: 0.2013\n",
      "Epoch 26/35\n",
      "306/306 - 1s - 2ms/step - loss: 0.1851 - mae: 0.1851 - val_loss: 0.1864 - val_mae: 0.1864\n",
      "Epoch 27/35\n",
      "306/306 - 1s - 3ms/step - loss: 0.1831 - mae: 0.1831 - val_loss: 0.1882 - val_mae: 0.1882\n",
      "Epoch 28/35\n",
      "306/306 - 1s - 3ms/step - loss: 0.1804 - mae: 0.1804 - val_loss: 0.1862 - val_mae: 0.1862\n",
      "Epoch 29/35\n",
      "306/306 - 1s - 3ms/step - loss: 0.1830 - mae: 0.1830 - val_loss: 0.1862 - val_mae: 0.1862\n",
      "Epoch 30/35\n",
      "306/306 - 1s - 3ms/step - loss: 0.1788 - mae: 0.1788 - val_loss: 0.1853 - val_mae: 0.1853\n",
      "Epoch 31/35\n",
      "306/306 - 1s - 3ms/step - loss: 0.1793 - mae: 0.1793 - val_loss: 0.1886 - val_mae: 0.1886\n",
      "Epoch 32/35\n",
      "306/306 - 1s - 3ms/step - loss: 0.1861 - mae: 0.1861 - val_loss: 0.1899 - val_mae: 0.1899\n",
      "Epoch 33/35\n",
      "306/306 - 1s - 3ms/step - loss: 0.1808 - mae: 0.1808 - val_loss: 0.1860 - val_mae: 0.1860\n",
      "Epoch 34/35\n",
      "306/306 - 1s - 3ms/step - loss: 0.1779 - mae: 0.1779 - val_loss: 0.1844 - val_mae: 0.1844\n",
      "Epoch 35/35\n"
     ]
    }
   ],
   "source": [
    "# Import required libraries\n",
    "import wandb\n",
    "from wandb.integration.keras import WandbMetricsLogger, WandbModelCheckpoint\n",
    "import tensorflow as tf\n",
    "from tensorflow.keras import layers, models\n",
    "from tensorflow.keras.optimizers import Adam\n",
    "from sklearn.metrics import r2_score, mean_absolute_error\n",
    "\n",
    "# Sweep Configuration for activation functions and loss functions\n",
    "sweep_config = {\n",
    "    'method': 'grid',  # Options: 'grid', 'random', 'bayes'\n",
    "    'metric': {\n",
    "        'name': 'val_mae',  # Metric to optimize\n",
    "        'goal': 'minimize'\n",
    "    },\n",
    "    'parameters': {\n",
    "        'learning_rate': {\n",
    "            'values': [0.001, 0.005, 0.01]\n",
    "        },\n",
    "        'batch_size': {\n",
    "            'values': [16, 32]\n",
    "        },\n",
    "        'epochs': {\n",
    "            'values': [20, 25, 30, 35]\n",
    "        },\n",
    "        'input_dim': {\n",
    "            'values': [4]  # Fixed as features are static\n",
    "        },\n",
    "        'activation_function': {\n",
    "            'values': ['tanh' ]  # Activation functions to sweep\n",
    "        },\n",
    "        'loss_function': {\n",
    "            'values': ['mean_absolute_error']  # Loss functions to sweep\n",
    "        }\n",
    "    }\n",
    "}\n",
    "\n",
    "\n",
    "# Define GRNN-like network using Keras\n",
    "def grnn(input_dim, learning_rate, activation_function, loss_function):\n",
    "    \"\"\"\n",
    "    Build a GRNN-like network using Keras.\n",
    "\n",
    "    Parameters:\n",
    "    - input_dim: Number of input features\n",
    "    - learning_rate: Learning rate for the optimizer\n",
    "    - activation_function: Activation function for the layers\n",
    "    - loss_function: Loss function to use for training\n",
    "\n",
    "    Returns:\n",
    "    - Compiled Keras model\n",
    "    \"\"\"\n",
    "    inputs = layers.Input(shape=(input_dim,))\n",
    "    pattern_layer = layers.Dense(64, activation=activation_function)(inputs)\n",
    "    summation_layer = layers.Dense(32, activation=activation_function)(pattern_layer)\n",
    "    outputs = layers.Dense(1, activation='linear')(summation_layer)\n",
    "    model = models.Model(inputs, outputs)\n",
    "    model.compile(\n",
    "        optimizer=Adam(learning_rate=learning_rate),\n",
    "        loss=loss_function,\n",
    "        metrics=['mae']\n",
    "    )\n",
    "    return model\n",
    "\n",
    "\n",
    "def train():\n",
    "    # Initialize wandb for this sweep run\n",
    "    with wandb.init() as run:\n",
    "        config = run.config\n",
    "\n",
    "        # Build and compile the model dynamically\n",
    "        model = grnn(\n",
    "            input_dim=config.input_dim,\n",
    "            learning_rate=config.learning_rate,\n",
    "            activation_function=config.activation_function,\n",
    "            loss_function=config.loss_function\n",
    "        )\n",
    "\n",
    "        # Train the model\n",
    "        history = model.fit(\n",
    "            X_train, y_train,\n",
    "            validation_data=(X_val, y_val),\n",
    "            epochs=config.epochs,\n",
    "            batch_size=config.batch_size,\n",
    "            verbose=2,\n",
    "            callbacks=[\n",
    "                WandbMetricsLogger(log_freq=\"epoch\"),\n",
    "                WandbModelCheckpoint(filepath=\"model-checkpoints/sweep_model.epoch{epoch:02d}.keras\")\n",
    "            ]\n",
    "        )\n",
    "\n",
    "        # Log training and validation metrics for each epoch\n",
    "        for epoch in range(config.epochs):\n",
    "            wandb.log({\n",
    "                \"epoch\": epoch,\n",
    "                \"train_loss\": history.history['loss'][epoch],\n",
    "                \"val_loss\": history.history['val_loss'][epoch],\n",
    "                \"val_mae\": history.history['val_mae'][epoch],\n",
    "                \"train_mae\": history.history['mae'][epoch]\n",
    "            })\n",
    "\n",
    "        # Evaluate the model on the test set\n",
    "        test_loss, test_mae = model.evaluate(X_test, y_test, verbose=0)\n",
    "        wandb.log({\"Test Loss\": test_loss, \"Test MAE\": test_mae})\n",
    "\n",
    "        # Predict using the model\n",
    "        predicted_doses = model.predict(X_test).flatten()\n",
    "\n",
    "        # Calculate R² and log additional metrics\n",
    "        r2 = r2_score(y_test, predicted_doses)\n",
    "        absolute_errors = np.abs(y_test - predicted_doses)\n",
    "        wandb.log({\n",
    "            \"R²\": r2,\n",
    "            \"Mean Absolute Error (Test)\": np.mean(absolute_errors),\n",
    "            \"Max Absolute Error (Test)\": np.max(absolute_errors)\n",
    "        })\n",
    "\n",
    "\n",
    "# Initialize the sweep and run the agent\n",
    "sweep_id = wandb.sweep(sweep_config, project=\"dose-prediction\")\n",
    "wandb.agent(sweep_id, train)  # Adjust count as needed\n"
   ]
  },
  {
   "cell_type": "code",
   "execution_count": null,
   "id": "a7ccd3ed",
   "metadata": {},
   "outputs": [],
   "source": [
    "# Finish the W&B run\n",
    "wandb.finish()"
   ]
  }
 ],
 "metadata": {
  "kernelspec": {
   "display_name": ".venv",
   "language": "python",
   "name": "python3"
  },
  "language_info": {
   "codemirror_mode": {
    "name": "ipython",
    "version": 3
   },
   "file_extension": ".py",
   "mimetype": "text/x-python",
   "name": "python",
   "nbconvert_exporter": "python",
   "pygments_lexer": "ipython3",
   "version": "3.10.12"
  }
 },
 "nbformat": 4,
 "nbformat_minor": 5
}
