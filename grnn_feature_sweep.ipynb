{
 "cells": [
  {
   "cell_type": "code",
   "execution_count": 1,
   "id": "de1cb82a-e22a-44d0-b3d5-54a31d18a475",
   "metadata": {},
   "outputs": [
    {
     "name": "stderr",
     "output_type": "stream",
     "text": [
      "2024-11-24 15:13:38.699765: E external/local_xla/xla/stream_executor/cuda/cuda_fft.cc:477] Unable to register cuFFT factory: Attempting to register factory for plugin cuFFT when one has already been registered\n",
      "WARNING: All log messages before absl::InitializeLog() is called are written to STDERR\n",
      "E0000 00:00:1732490018.719670 1697596 cuda_dnn.cc:8310] Unable to register cuDNN factory: Attempting to register factory for plugin cuDNN when one has already been registered\n",
      "E0000 00:00:1732490018.726170 1697596 cuda_blas.cc:1418] Unable to register cuBLAS factory: Attempting to register factory for plugin cuBLAS when one has already been registered\n",
      "2024-11-24 15:13:38.749599: I tensorflow/core/platform/cpu_feature_guard.cc:210] This TensorFlow binary is optimized to use available CPU instructions in performance-critical operations.\n",
      "To enable the following instructions: AVX2 FMA, in other operations, rebuild TensorFlow with the appropriate compiler flags.\n"
     ]
    },
    {
     "name": "stdout",
     "output_type": "stream",
     "text": [
      "Number of outliers to remove: 27\n",
      "Original metadata size: 77177\n",
      "Filtered metadata size: 77150\n"
     ]
    }
   ],
   "source": [
    "import os\n",
    "import tensorflow as tf\n",
    "import numpy as np\n",
    "import pandas as pd\n",
    "import cv2\n",
    "import matplotlib.pyplot as plt\n",
    "\n",
    "\n",
    "# # Define the directory containing the images\n",
    "# #test_image = \"BPS-Microscopy/DAPI_MASK_images\"\n",
    "image_dir = \"BPS-Microscopy/train\"\n",
    "\n",
    "# Load the metadata from the Excel file\n",
    "# metadata_path = 'BPS-Microscopy/DAPI_MASK_images/meta_DAPI_MASK.csv'\n",
    "metadata_path = 'BPS-Microscopy/train/meta.csv'\n",
    "metadata = pd.read_csv(metadata_path)\n",
    "\n",
    "# Display the first few rows of the metadata\n",
    "# print(metadata.head())\n",
    "\n",
    "# Add the full path to the filenames in the metadata\n",
    "metadata['filepath'] = metadata['filename'].apply(lambda x: os.path.join(image_dir, x))\n",
    "\n",
    "# Filter only tif\n",
    "metadata = metadata[metadata['filename'].str.endswith('.tif')]\n",
    "\n",
    "# Display the first few rows of the updated metadata\n",
    "# metadata.head()\n",
    "\n",
    "\n",
    "# Load the list of outlier file paths\n",
    "outliers_file = \"outliers_list.txt\"  # Path to the saved outliers list\n",
    "with open(outliers_file, \"r\") as f:\n",
    "    outlier_filepaths = set(line.strip() for line in f)\n",
    "\n",
    "print(f\"Number of outliers to remove: {len(outlier_filepaths)}\")\n",
    "\n",
    "# Remove outliers from the metadata\n",
    "filtered_metadata = metadata[~metadata['filepath'].isin(outlier_filepaths)]\n",
    "\n",
    "# Print results\n",
    "print(f\"Original metadata size: {len(metadata)}\")\n",
    "print(f\"Filtered metadata size: {len(filtered_metadata)}\")\n",
    "\n",
    "metadata = filtered_metadata"
   ]
  },
  {
   "cell_type": "code",
   "execution_count": 2,
   "id": "5bd765e6",
   "metadata": {},
   "outputs": [
    {
     "name": "stdout",
     "output_type": "stream",
     "text": [
      "Loading processed datasets and metadata...\n",
      "Feature shape (X_train): (9766, 7)\n",
      "Feature shape (X_val): (2790, 7)\n",
      "Feature shape (X_test): (1396, 7)\n",
      "Filtering Criteria - hr_post_exposure: 4, particle_type: X-ray\n",
      "Train size: 9766, Validation size: 2790, Test size: 1396\n"
     ]
    }
   ],
   "source": [
    "from phasepack.phasecong import phasecong\n",
    "from skimage.measure import shannon_entropy\n",
    "from skimage.filters import sobel, laplace\n",
    "from skimage.feature import graycomatrix, graycoprops\n",
    "from skimage import io\n",
    "from sklearn.preprocessing import MinMaxScaler\n",
    "import numpy as np\n",
    "import pickle\n",
    "\n",
    "def extract_features(image, config):\n",
    "    \"\"\"\n",
    "    Dynamically extracts features based on the configuration.\n",
    "    Features:\n",
    "    - Mean Phase Congruency (MPC)\n",
    "    - Entropy of Phase Congruency (EPC)\n",
    "    - Entropy of the Image (EDIS)\n",
    "    - Mean Gradient Magnitude of the Image (MGDIS)\n",
    "    - Texture Features (GLCM Contrast, Homogeneity)\n",
    "    - Edge Sharpness (Variance of Laplacian)\n",
    "\n",
    "    Parameters:\n",
    "    - image: np.array, input grayscale image\n",
    "    - config: dict, configuration for which features to extract\n",
    "\n",
    "    Returns:\n",
    "    - features: list of feature values\n",
    "    \"\"\"\n",
    "    features = []\n",
    "\n",
    "    # Compute Phase Congruency features if enabled\n",
    "    if config.get(\"include_mpc\", True):\n",
    "        pc_image, *_ = phasecong(image)\n",
    "        mpc = np.mean(pc_image)\n",
    "        epc = shannon_entropy(pc_image)\n",
    "        features.extend([mpc, epc])\n",
    "\n",
    "    # Compute Image Entropy if enabled\n",
    "    if config.get(\"include_edis\", True):\n",
    "        edis = shannon_entropy(image)\n",
    "        features.append(edis)\n",
    "\n",
    "    # Compute Mean Gradient Magnitude if enabled\n",
    "    if config.get(\"include_mgdis\", True):\n",
    "        gradient_image = sobel(image)\n",
    "        mgdis = np.mean(gradient_image)\n",
    "        features.append(mgdis)\n",
    "\n",
    "    # Compute Texture Features (GLCM) if enabled\n",
    "    if config.get(\"include_texture\", True):\n",
    "        glcm = graycomatrix(image.astype(np.uint8), distances=[1], angles=[0], levels=256, symmetric=True, normed=True)\n",
    "        contrast = graycoprops(glcm, 'contrast')[0, 0]\n",
    "        homogeneity = graycoprops(glcm, 'homogeneity')[0, 0]\n",
    "        features.extend([contrast, homogeneity])\n",
    "\n",
    "    # Compute Edge Sharpness (Variance of Laplacian) if enabled\n",
    "    if config.get(\"include_sharpness\", True):\n",
    "        laplacian_var = np.var(laplace(image))\n",
    "        features.append(laplacian_var)\n",
    "\n",
    "    return features\n",
    "\n",
    "\n",
    "def prepare_feature_dataset(metadata, config):\n",
    "    \"\"\"\n",
    "    Extract features and labels for a given dataset dynamically based on config.\n",
    "    \"\"\"\n",
    "    features = []\n",
    "    labels = []\n",
    "    for _, row in metadata.iterrows():\n",
    "        image_path = row['filepath']  # Replace with the correct column name for image paths\n",
    "        try:\n",
    "            # Load the image\n",
    "            image = io.imread(image_path, as_gray=True)\n",
    "\n",
    "            # # Clip pixel values between 400 and 4000\n",
    "            # image = np.clip(image, 400, 4000)\n",
    "\n",
    "            # Extract features dynamically\n",
    "            feature = extract_features(image, config)\n",
    "            features.append(feature)\n",
    "\n",
    "            # Append the label\n",
    "            labels.append(row['dose_Gy'])  # Replace 'dose' with your target column name\n",
    "        except Exception as e:\n",
    "            print(f\"Error processing image {image_path}: {e}\")\n",
    "    return np.array(features), np.array(labels)\n",
    "\n",
    "\n",
    "def load_or_prepare_features(metadata, hr_post_exposure, particle_type, config):\n",
    "    filtered_metadata = metadata[\n",
    "        (metadata['hr_post_exposure'] == hr_post_exposure) &\n",
    "        (metadata['particle_type'] == particle_type)\n",
    "    ]\n",
    "    processed_dir = \"processed_features\"\n",
    "\n",
    "    # Define filenames dynamically based on filtering criteria\n",
    "    train_path = os.path.join(processed_dir, f\"train_hr{hr_post_exposure}_particle{particle_type}.pkl\")\n",
    "    val_path = os.path.join(processed_dir, f\"val_hr{hr_post_exposure}_particle{particle_type}.pkl\")\n",
    "    test_path = os.path.join(processed_dir, f\"test_hr{hr_post_exposure}_particle{particle_type}.pkl\")\n",
    "\n",
    "    if os.path.exists(train_path) and os.path.exists(val_path) and os.path.exists(test_path):\n",
    "        print(\"Loading processed datasets and metadata...\")\n",
    "        with open(train_path, \"rb\") as f:\n",
    "            X_train, y_train, train_metadata = pickle.load(f)\n",
    "        with open(val_path, \"rb\") as f:\n",
    "            X_val, y_val, val_metadata = pickle.load(f)\n",
    "        with open(test_path, \"rb\") as f:\n",
    "            X_test, y_test, test_metadata = pickle.load(f)\n",
    "        print(f\"Feature shape (X_train): {X_train.shape}\")\n",
    "        print(f\"Feature shape (X_val): {X_val.shape}\")\n",
    "        print(f\"Feature shape (X_test): {X_test.shape}\")\n",
    "    else:\n",
    "        print(\"Processed datasets not found. Calculating features...\")\n",
    "\n",
    "        # Shuffle and split metadata\n",
    "        shuffled_metadata = filtered_metadata.sample(frac=1, random_state=42).reset_index(drop=True)\n",
    "        train_size = int(len(shuffled_metadata) * 0.7)\n",
    "        val_size = int(len(shuffled_metadata) * 0.2)\n",
    "\n",
    "        train_metadata = shuffled_metadata[:train_size]\n",
    "        val_metadata = shuffled_metadata[train_size:train_size + val_size]\n",
    "        test_metadata = shuffled_metadata[train_size + val_size:]\n",
    "\n",
    "        # Extract features and labels dynamically\n",
    "        X_train, y_train = prepare_feature_dataset(train_metadata, config)\n",
    "        X_val, y_val = prepare_feature_dataset(val_metadata, config)\n",
    "        X_test, y_test = prepare_feature_dataset(test_metadata, config)\n",
    "\n",
    "        # Normalize features\n",
    "        scaler = MinMaxScaler()\n",
    "        X_train = scaler.fit_transform(X_train)\n",
    "        X_val = scaler.transform(X_val)\n",
    "        X_test = scaler.transform(X_test)\n",
    "\n",
    "        # Save datasets with metadata\n",
    "        os.makedirs(processed_dir, exist_ok=True)\n",
    "        with open(train_path, \"wb\") as f:\n",
    "            pickle.dump((X_train, y_train, train_metadata), f)\n",
    "        with open(val_path, \"wb\") as f:\n",
    "            pickle.dump((X_val, y_val, val_metadata), f)\n",
    "        with open(test_path, \"wb\") as f:\n",
    "            pickle.dump((X_test, y_test, test_metadata), f)\n",
    "\n",
    "\n",
    "        print(f\"Feature shape (X_train): {X_train.shape}\")\n",
    "        print(f\"Feature shape (X_val): {X_val.shape}\")\n",
    "        print(f\"Feature shape (X_test): {X_test.shape}\")\n",
    "\n",
    "\n",
    "\n",
    "    return X_train, y_train, X_val, y_val, X_test, y_test, train_metadata, val_metadata, test_metadata\n",
    "\n",
    "\n",
    "# Define filtering criteria and feature configuration\n",
    "hr_post_exposure = 4\n",
    "particle_type = 'X-ray'\n",
    "\n",
    "feature_config = {\n",
    "    \"include_mpc\": True,\n",
    "    \"include_edis\": True,\n",
    "    \"include_mgdis\": True,\n",
    "    \"include_texture\": True,\n",
    "    \"include_sharpness\": True,  # Example of excluding sharpness\n",
    "}\n",
    "\n",
    "# Pass criteria and config explicitly to the function\n",
    "X_train, y_train, X_val, y_val, X_test, y_test, train_metadata, val_metadata, test_metadata = load_or_prepare_features(\n",
    "    metadata, hr_post_exposure, particle_type, feature_config\n",
    ")\n",
    "\n",
    "print(f\"Filtering Criteria - hr_post_exposure: {hr_post_exposure}, particle_type: {particle_type}\")\n",
    "print(f\"Train size: {len(X_train)}, Validation size: {len(X_val)}, Test size: {len(X_test)}\")\n"
   ]
  },
  {
   "cell_type": "code",
   "execution_count": 3,
   "id": "1a2d2af1",
   "metadata": {},
   "outputs": [
    {
     "data": {
      "image/png": "[encoded data removed]",
      "text/plain": [
       "<Figure size 1800x600 with 3 Axes>"
      ]
     },
     "metadata": {},
     "output_type": "display_data"
    }
   ],
   "source": [
    "# Check set split\n",
    "\n",
    "# Function to add total count annotations for each group\n",
    "def annotate_group_totals(ax, data):\n",
    "    for i, patch in enumerate(ax.patches):\n",
    "        if i % len(data.columns) == 0:  # Add annotation only for the first bar of each group\n",
    "            x = patch.get_x() + patch.get_width() / 2\n",
    "            total = data.iloc[i // len(data.columns)].sum()\n",
    "            ax.annotate(f'{int(total)}', (x, total + 5), ha='center', va='bottom', fontsize=10, color='black')\n",
    "\n",
    "# Function to create legend labels with counts\n",
    "def create_legend_labels(data):\n",
    "    labels = []\n",
    "    for dose in data.columns:\n",
    "        count = data[dose].sum()\n",
    "        labels.append(f\"Dose {dose} Gy ({int(count)})\")\n",
    "    return labels\n",
    "\n",
    "# Plot all sets: training, validation, and test\n",
    "plt.figure(figsize=(18, 6))\n",
    "\n",
    "# Training set plot\n",
    "plt.subplot(1, 3, 1)\n",
    "train_counts = train_metadata.groupby(['particle_type', 'dose_Gy']).size().unstack().fillna(0)\n",
    "train_ax = train_counts.plot(kind='bar', stacked=True, ax=plt.gca(), legend=False)\n",
    "annotate_group_totals(train_ax, train_counts)\n",
    "plt.title('Training Set Distribution')\n",
    "plt.xlabel('Particle Type')\n",
    "plt.ylabel('Count')\n",
    "\n",
    "# Add legend with counts for training set\n",
    "train_labels = create_legend_labels(train_counts)\n",
    "plt.legend(train_labels, title=\"Dose (Gy)\", bbox_to_anchor=(1.0, 1.0), loc='upper left')\n",
    "\n",
    "# Validation set plot\n",
    "plt.subplot(1, 3, 2)\n",
    "val_counts = val_metadata.groupby(['particle_type', 'dose_Gy']).size().unstack().fillna(0)\n",
    "val_ax = val_counts.plot(kind='bar', stacked=True, ax=plt.gca(), legend=False)\n",
    "annotate_group_totals(val_ax, val_counts)\n",
    "plt.title('Validation Set Distribution')\n",
    "plt.xlabel('Particle Type')\n",
    "plt.ylabel('Count')\n",
    "\n",
    "# Add legend with counts for validation set\n",
    "val_labels = create_legend_labels(val_counts)\n",
    "plt.legend(val_labels, title=\"Dose (Gy)\", bbox_to_anchor=(1.0, 1.0), loc='upper left')\n",
    "\n",
    "# Test set plot\n",
    "plt.subplot(1, 3, 3)\n",
    "test_counts = test_metadata.groupby(['particle_type', 'dose_Gy']).size().unstack().fillna(0)\n",
    "test_ax = test_counts.plot(kind='bar', stacked=True, ax=plt.gca(), legend=False)\n",
    "annotate_group_totals(test_ax, test_counts)\n",
    "plt.title('Test Set Distribution')\n",
    "plt.xlabel('Particle Type')\n",
    "plt.ylabel('Count')\n",
    "\n",
    "# Add legend with counts for test set\n",
    "test_labels = create_legend_labels(test_counts)\n",
    "plt.legend(test_labels, title=\"Dose (Gy)\", bbox_to_anchor=(1.0, 1.0), loc='upper left')\n",
    "\n",
    "# Adjust layout\n",
    "plt.tight_layout()\n",
    "plt.show()\n"
   ]
  },
  {
   "cell_type": "code",
   "execution_count": 4,
   "id": "b7b2c661",
   "metadata": {},
   "outputs": [
    {
     "name": "stderr",
     "output_type": "stream",
     "text": [
      "\u001b[34m\u001b[1mwandb\u001b[0m: Using wandb-core as the SDK backend.  Please refer to https://wandb.me/wandb-core for more information.\n",
      "\u001b[34m\u001b[1mwandb\u001b[0m: \u001b[33mWARNING\u001b[0m Malformed sweep config detected! This may cause your sweep to behave in unexpected ways.\n",
      "\u001b[34m\u001b[1mwandb\u001b[0m: \u001b[33mWARNING\u001b[0m To avoid this, please fix the sweep config schema violations below:\n",
      "\u001b[34m\u001b[1mwandb\u001b[0m: \u001b[33mWARNING\u001b[0m   Violation 1. Additional properties are not allowed ('tags' was unexpected)\n"
     ]
    },
    {
     "name": "stdout",
     "output_type": "stream",
     "text": [
      "Create sweep with ID: ijck5aqp\n",
      "Sweep URL: https://wandb.ai/walt_/dose-prediction/sweeps/ijck5aqp\n"
     ]
    },
    {
     "name": "stderr",
     "output_type": "stream",
     "text": [
      "\u001b[34m\u001b[1mwandb\u001b[0m: Agent Starting Run: n4k7daac with config:\n",
      "\u001b[34m\u001b[1mwandb\u001b[0m: \tactivation_function: tanh\n",
      "\u001b[34m\u001b[1mwandb\u001b[0m: \tbatch_size: 16\n",
      "\u001b[34m\u001b[1mwandb\u001b[0m: \tepochs: 15\n",
      "\u001b[34m\u001b[1mwandb\u001b[0m: \tinclude_edis: False\n",
      "\u001b[34m\u001b[1mwandb\u001b[0m: \tinclude_mgdis: True\n",
      "\u001b[34m\u001b[1mwandb\u001b[0m: \tinclude_mpc: True\n",
      "\u001b[34m\u001b[1mwandb\u001b[0m: \tinclude_sharpness: True\n",
      "\u001b[34m\u001b[1mwandb\u001b[0m: \tinclude_texture: True\n",
      "\u001b[34m\u001b[1mwandb\u001b[0m: \tlearning_rate: 0.005\n",
      "\u001b[34m\u001b[1mwandb\u001b[0m: \tloss_function: mean_absolute_error\n",
      "\u001b[34m\u001b[1mwandb\u001b[0m: Currently logged in as: \u001b[33mwalt_\u001b[0m. Use \u001b[1m`wandb login --relogin`\u001b[0m to force relogin\n"
     ]
    },
    {
     "data": {
      "text/html": [
       "Tracking run with wandb version 0.18.7"
      ],
      "text/plain": [
       "<IPython.core.display.HTML object>"
      ]
     },
     "metadata": {},
     "output_type": "display_data"
    },
    {
     "data": {
      "text/html": [
       "Run data is saved locally in <code>/home/walt/FociNet/wandb/run-20241124_151343-n4k7daac</code>"
      ],
      "text/plain": [
       "<IPython.core.display.HTML object>"
      ]
     },
     "metadata": {},
     "output_type": "display_data"
    },
    {
     "data": {
      "text/html": [
       "Syncing run <strong><a href='https://wandb.ai/walt_/dose-prediction/runs/n4k7daac' target=\"_blank\">valiant-sweep-1</a></strong> to <a href='https://wandb.ai/walt_/dose-prediction' target=\"_blank\">Weights & Biases</a> (<a href='https://wandb.me/developer-guide' target=\"_blank\">docs</a>)<br/>Sweep page: <a href='https://wandb.ai/walt_/dose-prediction/sweeps/ijck5aqp' target=\"_blank\">https://wandb.ai/walt_/dose-prediction/sweeps/ijck5aqp</a>"
      ],
      "text/plain": [
       "<IPython.core.display.HTML object>"
      ]
     },
     "metadata": {},
     "output_type": "display_data"
    },
    {
     "data": {
      "text/html": [
       " View project at <a href='https://wandb.ai/walt_/dose-prediction' target=\"_blank\">https://wandb.ai/walt_/dose-prediction</a>"
      ],
      "text/plain": [
       "<IPython.core.display.HTML object>"
      ]
     },
     "metadata": {},
     "output_type": "display_data"
    },
    {
     "data": {
      "text/html": [
       " View sweep at <a href='https://wandb.ai/walt_/dose-prediction/sweeps/ijck5aqp' target=\"_blank\">https://wandb.ai/walt_/dose-prediction/sweeps/ijck5aqp</a>"
      ],
      "text/plain": [
       "<IPython.core.display.HTML object>"
      ]
     },
     "metadata": {},
     "output_type": "display_data"
    },
    {
     "data": {
      "text/html": [
       " View run at <a href='https://wandb.ai/walt_/dose-prediction/runs/n4k7daac' target=\"_blank\">https://wandb.ai/walt_/dose-prediction/runs/n4k7daac</a>"
      ],
      "text/plain": [
       "<IPython.core.display.HTML object>"
      ]
     },
     "metadata": {},
     "output_type": "display_data"
    },
    {
     "name": "stdout",
     "output_type": "stream",
     "text": [
      "Active Feature Config: {'activation_function': 'tanh', 'batch_size': 16, 'epochs': 15, 'include_edis': False, 'include_mgdis': True, 'include_mpc': True, 'include_sharpness': True, 'include_texture': True, 'learning_rate': 0.005, 'loss_function': 'mean_absolute_error'}\n",
      "Subset X_train shape: (9766, 6)\n",
      "Subset X_val shape: (2790, 6)\n",
      "Subset X_test shape: (1396, 6)\n",
      "Calculated input_dim: 6\n"
     ]
    },
    {
     "name": "stderr",
     "output_type": "stream",
     "text": [
      "I0000 00:00:1732490024.099095 1697708 gpu_device.cc:2022] Created device /job:localhost/replica:0/task:0/device:GPU:0 with 21770 MB memory:  -> device: 0, name: NVIDIA GeForce RTX 3090, pci bus id: 0000:33:00.0, compute capability: 8.6\n"
     ]
    },
    {
     "name": "stdout",
     "output_type": "stream",
     "text": [
      "Epoch 1/15\n"
     ]
    },
    {
     "name": "stderr",
     "output_type": "stream",
     "text": [
      "WARNING: All log messages before absl::InitializeLog() is called are written to STDERR\n",
      "I0000 00:00:1732490025.968909 1697781 service.cc:148] XLA service 0x7f1708003e90 initialized for platform CUDA (this does not guarantee that XLA will be used). Devices:\n",
      "I0000 00:00:1732490025.968997 1697781 service.cc:156]   StreamExecutor device (0): NVIDIA GeForce RTX 3090, Compute Capability 8.6\n",
      "2024-11-24 15:13:45.987449: I tensorflow/compiler/mlir/tensorflow/utils/dump_mlir_util.cc:268] disabling MLIR crash reproducer, set env var `MLIR_CRASH_REPRODUCER_DIRECTORY` to enable.\n",
      "I0000 00:00:1732490026.051521 1697781 cuda_dnn.cc:529] Loaded cuDNN version 90501\n",
      "I0000 00:00:1732490026.738442 1697781 device_compiler.h:188] Compiled cluster using XLA!  This line is logged at most once for the lifetime of the process.\n"
     ]
    },
    {
     "name": "stdout",
     "output_type": "stream",
     "text": [
      "611/611 - 4s - 6ms/step - loss: 0.2901 - mae: 0.2901 - val_loss: 0.2680 - val_mae: 0.2680\n",
      "Epoch 2/15\n",
      "611/611 - 1s - 2ms/step - loss: 0.2427 - mae: 0.2427 - val_loss: 0.2281 - val_mae: 0.2281\n",
      "Epoch 3/15\n",
      "611/611 - 1s - 2ms/step - loss: 0.2140 - mae: 0.2140 - val_loss: 0.2002 - val_mae: 0.2002\n",
      "Epoch 4/15\n",
      "611/611 - 1s - 2ms/step - loss: 0.1985 - mae: 0.1985 - val_loss: 0.1889 - val_mae: 0.1889\n",
      "Epoch 5/15\n",
      "611/611 - 1s - 2ms/step - loss: 0.1953 - mae: 0.1953 - val_loss: 0.2049 - val_mae: 0.2049\n",
      "Epoch 6/15\n",
      "611/611 - 1s - 2ms/step - loss: 0.1929 - mae: 0.1929 - val_loss: 0.1858 - val_mae: 0.1858\n",
      "Epoch 7/15\n",
      "611/611 - 1s - 2ms/step - loss: 0.1868 - mae: 0.1868 - val_loss: 0.1870 - val_mae: 0.1870\n",
      "Epoch 8/15\n",
      "611/611 - 1s - 2ms/step - loss: 0.1844 - mae: 0.1844 - val_loss: 0.1846 - val_mae: 0.1846\n",
      "Epoch 9/15\n",
      "611/611 - 1s - 2ms/step - loss: 0.1863 - mae: 0.1863 - val_loss: 0.1823 - val_mae: 0.1823\n",
      "Epoch 10/15\n",
      "611/611 - 1s - 2ms/step - loss: 0.1837 - mae: 0.1837 - val_loss: 0.1914 - val_mae: 0.1914\n",
      "Epoch 11/15\n",
      "611/611 - 1s - 2ms/step - loss: 0.1814 - mae: 0.1814 - val_loss: 0.1894 - val_mae: 0.1894\n",
      "Epoch 12/15\n",
      "611/611 - 1s - 2ms/step - loss: 0.1805 - mae: 0.1805 - val_loss: 0.1795 - val_mae: 0.1795\n",
      "Epoch 13/15\n",
      "611/611 - 1s - 2ms/step - loss: 0.1851 - mae: 0.1851 - val_loss: 0.1878 - val_mae: 0.1878\n",
      "Epoch 14/15\n",
      "611/611 - 1s - 2ms/step - loss: 0.1835 - mae: 0.1835 - val_loss: 0.1830 - val_mae: 0.1830\n",
      "Epoch 15/15\n",
      "611/611 - 1s - 2ms/step - loss: 0.1846 - mae: 0.1846 - val_loss: 0.1788 - val_mae: 0.1788\n",
      "\u001b[1m44/44\u001b[0m \u001b[32m━━━━━━━━━━━━━━━━━━━━\u001b[0m\u001b[37m\u001b[0m \u001b[1m0s\u001b[0m 5ms/step\n"
     ]
    },
    {
     "data": {
      "text/html": [
       "\n",
       "    <style>\n",
       "        .wandb-row {\n",
       "            display: flex;\n",
       "            flex-direction: row;\n",
       "            flex-wrap: wrap;\n",
       "            justify-content: flex-start;\n",
       "            width: 100%;\n",
       "        }\n",
       "        .wandb-col {\n",
       "            display: flex;\n",
       "            flex-direction: column;\n",
       "            flex-basis: 100%;\n",
       "            flex: 1;\n",
       "            padding: 10px;\n",
       "        }\n",
       "    </style>\n",
       "<div class=\"wandb-row\"><div class=\"wandb-col\"><h3>Run history:</h3><br/><table class=\"wandb\"><tr><td>Max Absolute Error (Test)</td><td>▁</td></tr><tr><td>Mean Absolute Error (Test)</td><td>▁</td></tr><tr><td>R²</td><td>▁</td></tr><tr><td>Test Loss</td><td>▁</td></tr><tr><td>Test MAE</td><td>▁</td></tr><tr><td>epoch</td><td>▁▁▂▃▃▃▄▅▅▅▆▇▇▇█</td></tr><tr><td>epoch/epoch</td><td>▁▁▂▃▃▃▄▅▅▅▆▇▇▇█</td></tr><tr><td>epoch/learning_rate</td><td>▁▁▁▁▁▁▁▁▁▁▁▁▁▁▁</td></tr><tr><td>epoch/loss</td><td>█▅▃▂▂▂▁▁▁▁▁▁▁▁▁</td></tr><tr><td>epoch/mae</td><td>█▅▃▂▂▂▁▁▁▁▁▁▁▁▁</td></tr><tr><td>epoch/val_loss</td><td>█▅▃▂▃▂▂▁▁▂▂▁▂▁▁</td></tr><tr><td>epoch/val_mae</td><td>█▅▃▂▃▂▂▁▁▂▂▁▂▁▁</td></tr><tr><td>train_loss</td><td>█▅▃▂▂▂▁▁▁▁▁▁▁▁▁</td></tr><tr><td>train_mae</td><td>█▅▃▂▂▂▁▁▁▁▁▁▁▁▁</td></tr><tr><td>val_loss</td><td>█▅▃▂▃▂▂▁▁▂▂▁▂▁▁</td></tr><tr><td>val_mae</td><td>█▅▃▂▃▂▂▁▁▂▂▁▂▁▁</td></tr></table><br/></div><div class=\"wandb-col\"><h3>Run summary:</h3><br/><table class=\"wandb\"><tr><td>Max Absolute Error (Test)</td><td>1.04854</td></tr><tr><td>Mean Absolute Error (Test)</td><td>0.16438</td></tr><tr><td>R²</td><td>0.41701</td></tr><tr><td>Test Loss</td><td>0.16438</td></tr><tr><td>Test MAE</td><td>0.16438</td></tr><tr><td>epoch</td><td>14</td></tr><tr><td>epoch/epoch</td><td>14</td></tr><tr><td>epoch/learning_rate</td><td>0.005</td></tr><tr><td>epoch/loss</td><td>0.18457</td></tr><tr><td>epoch/mae</td><td>0.18457</td></tr><tr><td>epoch/val_loss</td><td>0.17879</td></tr><tr><td>epoch/val_mae</td><td>0.17879</td></tr><tr><td>train_loss</td><td>0.18457</td></tr><tr><td>train_mae</td><td>0.18457</td></tr><tr><td>val_loss</td><td>0.17879</td></tr><tr><td>val_mae</td><td>0.17879</td></tr></table><br/></div></div>"
      ],
      "text/plain": [
       "<IPython.core.display.HTML object>"
      ]
     },
     "metadata": {},
     "output_type": "display_data"
    },
    {
     "data": {
      "text/html": [
       " View run <strong style=\"color:#cdcd00\">valiant-sweep-1</strong> at: <a href='https://wandb.ai/walt_/dose-prediction/runs/n4k7daac' target=\"_blank\">https://wandb.ai/walt_/dose-prediction/runs/n4k7daac</a><br/> View project at: <a href='https://wandb.ai/walt_/dose-prediction' target=\"_blank\">https://wandb.ai/walt_/dose-prediction</a><br/>Synced 5 W&B file(s), 0 media file(s), 0 artifact file(s) and 0 other file(s)"
      ],
      "text/plain": [
       "<IPython.core.display.HTML object>"
      ]
     },
     "metadata": {},
     "output_type": "display_data"
    },
    {
     "data": {
      "text/html": [
       "Find logs at: <code>./wandb/run-20241124_151343-n4k7daac/logs</code>"
      ],
      "text/plain": [
       "<IPython.core.display.HTML object>"
      ]
     },
     "metadata": {},
     "output_type": "display_data"
    },
    {
     "name": "stderr",
     "output_type": "stream",
     "text": [
      "\u001b[34m\u001b[1mwandb\u001b[0m: Agent Starting Run: o3nh1oma with config:\n",
      "\u001b[34m\u001b[1mwandb\u001b[0m: \tactivation_function: tanh\n",
      "\u001b[34m\u001b[1mwandb\u001b[0m: \tbatch_size: 16\n",
      "\u001b[34m\u001b[1mwandb\u001b[0m: \tepochs: 15\n",
      "\u001b[34m\u001b[1mwandb\u001b[0m: \tinclude_edis: False\n",
      "\u001b[34m\u001b[1mwandb\u001b[0m: \tinclude_mgdis: True\n",
      "\u001b[34m\u001b[1mwandb\u001b[0m: \tinclude_mpc: True\n",
      "\u001b[34m\u001b[1mwandb\u001b[0m: \tinclude_sharpness: True\n",
      "\u001b[34m\u001b[1mwandb\u001b[0m: \tinclude_texture: False\n",
      "\u001b[34m\u001b[1mwandb\u001b[0m: \tlearning_rate: 0.005\n",
      "\u001b[34m\u001b[1mwandb\u001b[0m: \tloss_function: mean_absolute_error\n"
     ]
    },
    {
     "data": {
      "text/html": [
       "Tracking run with wandb version 0.18.7"
      ],
      "text/plain": [
       "<IPython.core.display.HTML object>"
      ]
     },
     "metadata": {},
     "output_type": "display_data"
    },
    {
     "data": {
      "text/html": [
       "Run data is saved locally in <code>/home/walt/FociNet/wandb/run-20241124_151414-o3nh1oma</code>"
      ],
      "text/plain": [
       "<IPython.core.display.HTML object>"
      ]
     },
     "metadata": {},
     "output_type": "display_data"
    },
    {
     "data": {
      "text/html": [
       "Syncing run <strong><a href='https://wandb.ai/walt_/dose-prediction/runs/o3nh1oma' target=\"_blank\">rosy-sweep-2</a></strong> to <a href='https://wandb.ai/walt_/dose-prediction' target=\"_blank\">Weights & Biases</a> (<a href='https://wandb.me/developer-guide' target=\"_blank\">docs</a>)<br/>Sweep page: <a href='https://wandb.ai/walt_/dose-prediction/sweeps/ijck5aqp' target=\"_blank\">https://wandb.ai/walt_/dose-prediction/sweeps/ijck5aqp</a>"
      ],
      "text/plain": [
       "<IPython.core.display.HTML object>"
      ]
     },
     "metadata": {},
     "output_type": "display_data"
    },
    {
     "data": {
      "text/html": [
       " View project at <a href='https://wandb.ai/walt_/dose-prediction' target=\"_blank\">https://wandb.ai/walt_/dose-prediction</a>"
      ],
      "text/plain": [
       "<IPython.core.display.HTML object>"
      ]
     },
     "metadata": {},
     "output_type": "display_data"
    },
    {
     "data": {
      "text/html": [
       " View sweep at <a href='https://wandb.ai/walt_/dose-prediction/sweeps/ijck5aqp' target=\"_blank\">https://wandb.ai/walt_/dose-prediction/sweeps/ijck5aqp</a>"
      ],
      "text/plain": [
       "<IPython.core.display.HTML object>"
      ]
     },
     "metadata": {},
     "output_type": "display_data"
    },
    {
     "data": {
      "text/html": [
       " View run at <a href='https://wandb.ai/walt_/dose-prediction/runs/o3nh1oma' target=\"_blank\">https://wandb.ai/walt_/dose-prediction/runs/o3nh1oma</a>"
      ],
      "text/plain": [
       "<IPython.core.display.HTML object>"
      ]
     },
     "metadata": {},
     "output_type": "display_data"
    },
    {
     "name": "stdout",
     "output_type": "stream",
     "text": [
      "Active Feature Config: {'activation_function': 'tanh', 'batch_size': 16, 'epochs': 15, 'include_edis': False, 'include_mgdis': True, 'include_mpc': True, 'include_sharpness': True, 'include_texture': False, 'learning_rate': 0.005, 'loss_function': 'mean_absolute_error'}\n",
      "Subset X_train shape: (9766, 4)\n",
      "Subset X_val shape: (2790, 4)\n",
      "Subset X_test shape: (1396, 4)\n",
      "Calculated input_dim: 4\n",
      "Epoch 1/15\n",
      "611/611 - 3s - 5ms/step - loss: 0.2891 - mae: 0.2891 - val_loss: 0.2836 - val_mae: 0.2836\n",
      "Epoch 2/15\n",
      "611/611 - 1s - 2ms/step - loss: 0.2723 - mae: 0.2723 - val_loss: 0.2504 - val_mae: 0.2504\n",
      "Epoch 3/15\n",
      "611/611 - 1s - 2ms/step - loss: 0.2276 - mae: 0.2276 - val_loss: 0.2093 - val_mae: 0.2093\n",
      "Epoch 4/15\n",
      "611/611 - 1s - 2ms/step - loss: 0.2075 - mae: 0.2075 - val_loss: 0.2157 - val_mae: 0.2157\n",
      "Epoch 5/15\n",
      "611/611 - 1s - 2ms/step - loss: 0.2034 - mae: 0.2034 - val_loss: 0.1971 - val_mae: 0.1971\n",
      "Epoch 6/15\n",
      "611/611 - 1s - 2ms/step - loss: 0.1973 - mae: 0.1973 - val_loss: 0.2005 - val_mae: 0.2005\n",
      "Epoch 7/15\n",
      "611/611 - 1s - 2ms/step - loss: 0.1945 - mae: 0.1945 - val_loss: 0.1987 - val_mae: 0.1987\n",
      "Epoch 8/15\n",
      "611/611 - 1s - 2ms/step - loss: 0.1927 - mae: 0.1927 - val_loss: 0.1929 - val_mae: 0.1929\n",
      "Epoch 9/15\n",
      "611/611 - 1s - 2ms/step - loss: 0.1910 - mae: 0.1910 - val_loss: 0.1903 - val_mae: 0.1903\n",
      "Epoch 10/15\n",
      "611/611 - 1s - 2ms/step - loss: 0.1898 - mae: 0.1898 - val_loss: 0.2000 - val_mae: 0.2000\n",
      "Epoch 11/15\n",
      "611/611 - 1s - 2ms/step - loss: 0.1887 - mae: 0.1887 - val_loss: 0.1879 - val_mae: 0.1879\n",
      "Epoch 12/15\n",
      "611/611 - 1s - 2ms/step - loss: 0.1863 - mae: 0.1863 - val_loss: 0.2082 - val_mae: 0.2082\n",
      "Epoch 13/15\n",
      "611/611 - 1s - 2ms/step - loss: 0.1885 - mae: 0.1885 - val_loss: 0.1874 - val_mae: 0.1874\n",
      "Epoch 14/15\n",
      "611/611 - 1s - 2ms/step - loss: 0.1866 - mae: 0.1866 - val_loss: 0.1983 - val_mae: 0.1983\n",
      "Epoch 15/15\n",
      "611/611 - 1s - 2ms/step - loss: 0.1836 - mae: 0.1836 - val_loss: 0.1921 - val_mae: 0.1921\n",
      "\u001b[1m44/44\u001b[0m \u001b[32m━━━━━━━━━━━━━━━━━━━━\u001b[0m\u001b[37m\u001b[0m \u001b[1m0s\u001b[0m 4ms/step\n"
     ]
    },
    {
     "data": {
      "text/html": [
       "\n",
       "    <style>\n",
       "        .wandb-row {\n",
       "            display: flex;\n",
       "            flex-direction: row;\n",
       "            flex-wrap: wrap;\n",
       "            justify-content: flex-start;\n",
       "            width: 100%;\n",
       "        }\n",
       "        .wandb-col {\n",
       "            display: flex;\n",
       "            flex-direction: column;\n",
       "            flex-basis: 100%;\n",
       "            flex: 1;\n",
       "            padding: 10px;\n",
       "        }\n",
       "    </style>\n",
       "<div class=\"wandb-row\"><div class=\"wandb-col\"><h3>Run history:</h3><br/><table class=\"wandb\"><tr><td>Max Absolute Error (Test)</td><td>▁</td></tr><tr><td>Mean Absolute Error (Test)</td><td>▁</td></tr><tr><td>R²</td><td>▁</td></tr><tr><td>Test Loss</td><td>▁</td></tr><tr><td>Test MAE</td><td>▁</td></tr><tr><td>epoch</td><td>▁▁▂▃▃▃▄▅▅▅▆▇▇▇█</td></tr><tr><td>epoch/epoch</td><td>▁▁▂▃▃▃▄▅▅▅▆▇▇▇█</td></tr><tr><td>epoch/learning_rate</td><td>▁▁▁▁▁▁▁▁▁▁▁▁▁▁▁</td></tr><tr><td>epoch/loss</td><td>█▇▄▃▂▂▂▂▁▁▁▁▁▁▁</td></tr><tr><td>epoch/mae</td><td>█▇▄▃▂▂▂▂▁▁▁▁▁▁▁</td></tr><tr><td>epoch/val_loss</td><td>█▆▃▃▂▂▂▁▁▂▁▃▁▂▁</td></tr><tr><td>epoch/val_mae</td><td>█▆▃▃▂▂▂▁▁▂▁▃▁▂▁</td></tr><tr><td>train_loss</td><td>█▇▄▃▂▂▂▂▁▁▁▁▁▁▁</td></tr><tr><td>train_mae</td><td>█▇▄▃▂▂▂▂▁▁▁▁▁▁▁</td></tr><tr><td>val_loss</td><td>█▆▃▃▂▂▂▁▁▂▁▃▁▂▁</td></tr><tr><td>val_mae</td><td>█▆▃▃▂▂▂▁▁▂▁▃▁▂▁</td></tr></table><br/></div><div class=\"wandb-col\"><h3>Run summary:</h3><br/><table class=\"wandb\"><tr><td>Max Absolute Error (Test)</td><td>1.01484</td></tr><tr><td>Mean Absolute Error (Test)</td><td>0.17478</td></tr><tr><td>R²</td><td>0.38353</td></tr><tr><td>Test Loss</td><td>0.17478</td></tr><tr><td>Test MAE</td><td>0.17478</td></tr><tr><td>epoch</td><td>14</td></tr><tr><td>epoch/epoch</td><td>14</td></tr><tr><td>epoch/learning_rate</td><td>0.005</td></tr><tr><td>epoch/loss</td><td>0.18362</td></tr><tr><td>epoch/mae</td><td>0.18362</td></tr><tr><td>epoch/val_loss</td><td>0.19207</td></tr><tr><td>epoch/val_mae</td><td>0.19207</td></tr><tr><td>train_loss</td><td>0.18362</td></tr><tr><td>train_mae</td><td>0.18362</td></tr><tr><td>val_loss</td><td>0.19207</td></tr><tr><td>val_mae</td><td>0.19207</td></tr></table><br/></div></div>"
      ],
      "text/plain": [
       "<IPython.core.display.HTML object>"
      ]
     },
     "metadata": {},
     "output_type": "display_data"
    },
    {
     "data": {
      "text/html": [
       " View run <strong style=\"color:#cdcd00\">rosy-sweep-2</strong> at: <a href='https://wandb.ai/walt_/dose-prediction/runs/o3nh1oma' target=\"_blank\">https://wandb.ai/walt_/dose-prediction/runs/o3nh1oma</a><br/> View project at: <a href='https://wandb.ai/walt_/dose-prediction' target=\"_blank\">https://wandb.ai/walt_/dose-prediction</a><br/>Synced 5 W&B file(s), 0 media file(s), 0 artifact file(s) and 0 other file(s)"
      ],
      "text/plain": [
       "<IPython.core.display.HTML object>"
      ]
     },
     "metadata": {},
     "output_type": "display_data"
    },
    {
     "data": {
      "text/html": [
       "Find logs at: <code>./wandb/run-20241124_151414-o3nh1oma/logs</code>"
      ],
      "text/plain": [
       "<IPython.core.display.HTML object>"
      ]
     },
     "metadata": {},
     "output_type": "display_data"
    },
    {
     "name": "stderr",
     "output_type": "stream",
     "text": [
      "\u001b[34m\u001b[1mwandb\u001b[0m: Agent Starting Run: bkc0kye3 with config:\n",
      "\u001b[34m\u001b[1mwandb\u001b[0m: \tactivation_function: tanh\n",
      "\u001b[34m\u001b[1mwandb\u001b[0m: \tbatch_size: 16\n",
      "\u001b[34m\u001b[1mwandb\u001b[0m: \tepochs: 15\n",
      "\u001b[34m\u001b[1mwandb\u001b[0m: \tinclude_edis: False\n",
      "\u001b[34m\u001b[1mwandb\u001b[0m: \tinclude_mgdis: True\n",
      "\u001b[34m\u001b[1mwandb\u001b[0m: \tinclude_mpc: True\n",
      "\u001b[34m\u001b[1mwandb\u001b[0m: \tinclude_sharpness: False\n",
      "\u001b[34m\u001b[1mwandb\u001b[0m: \tinclude_texture: True\n",
      "\u001b[34m\u001b[1mwandb\u001b[0m: \tlearning_rate: 0.005\n",
      "\u001b[34m\u001b[1mwandb\u001b[0m: \tloss_function: mean_absolute_error\n"
     ]
    },
    {
     "data": {
      "text/html": [
       "Tracking run with wandb version 0.18.7"
      ],
      "text/plain": [
       "<IPython.core.display.HTML object>"
      ]
     },
     "metadata": {},
     "output_type": "display_data"
    },
    {
     "data": {
      "text/html": [
       "Run data is saved locally in <code>/home/walt/FociNet/wandb/run-20241124_151439-bkc0kye3</code>"
      ],
      "text/plain": [
       "<IPython.core.display.HTML object>"
      ]
     },
     "metadata": {},
     "output_type": "display_data"
    },
    {
     "data": {
      "text/html": [
       "Syncing run <strong><a href='https://wandb.ai/walt_/dose-prediction/runs/bkc0kye3' target=\"_blank\">expert-sweep-3</a></strong> to <a href='https://wandb.ai/walt_/dose-prediction' target=\"_blank\">Weights & Biases</a> (<a href='https://wandb.me/developer-guide' target=\"_blank\">docs</a>)<br/>Sweep page: <a href='https://wandb.ai/walt_/dose-prediction/sweeps/ijck5aqp' target=\"_blank\">https://wandb.ai/walt_/dose-prediction/sweeps/ijck5aqp</a>"
      ],
      "text/plain": [
       "<IPython.core.display.HTML object>"
      ]
     },
     "metadata": {},
     "output_type": "display_data"
    },
    {
     "data": {
      "text/html": [
       " View project at <a href='https://wandb.ai/walt_/dose-prediction' target=\"_blank\">https://wandb.ai/walt_/dose-prediction</a>"
      ],
      "text/plain": [
       "<IPython.core.display.HTML object>"
      ]
     },
     "metadata": {},
     "output_type": "display_data"
    },
    {
     "data": {
      "text/html": [
       " View sweep at <a href='https://wandb.ai/walt_/dose-prediction/sweeps/ijck5aqp' target=\"_blank\">https://wandb.ai/walt_/dose-prediction/sweeps/ijck5aqp</a>"
      ],
      "text/plain": [
       "<IPython.core.display.HTML object>"
      ]
     },
     "metadata": {},
     "output_type": "display_data"
    },
    {
     "data": {
      "text/html": [
       " View run at <a href='https://wandb.ai/walt_/dose-prediction/runs/bkc0kye3' target=\"_blank\">https://wandb.ai/walt_/dose-prediction/runs/bkc0kye3</a>"
      ],
      "text/plain": [
       "<IPython.core.display.HTML object>"
      ]
     },
     "metadata": {},
     "output_type": "display_data"
    },
    {
     "name": "stdout",
     "output_type": "stream",
     "text": [
      "Active Feature Config: {'activation_function': 'tanh', 'batch_size': 16, 'epochs': 15, 'include_edis': False, 'include_mgdis': True, 'include_mpc': True, 'include_sharpness': False, 'include_texture': True, 'learning_rate': 0.005, 'loss_function': 'mean_absolute_error'}\n",
      "Subset X_train shape: (9766, 5)\n",
      "Subset X_val shape: (2790, 5)\n",
      "Subset X_test shape: (1396, 5)\n",
      "Calculated input_dim: 5\n",
      "Epoch 1/15\n",
      "611/611 - 3s - 5ms/step - loss: 0.2910 - mae: 0.2910 - val_loss: 0.2759 - val_mae: 0.2759\n",
      "Epoch 2/15\n",
      "611/611 - 1s - 2ms/step - loss: 0.2731 - mae: 0.2731 - val_loss: 0.2591 - val_mae: 0.2591\n",
      "Epoch 3/15\n",
      "611/611 - 1s - 2ms/step - loss: 0.2616 - mae: 0.2616 - val_loss: 0.2282 - val_mae: 0.2282\n",
      "Epoch 4/15\n",
      "611/611 - 1s - 2ms/step - loss: 0.2118 - mae: 0.2118 - val_loss: 0.2035 - val_mae: 0.2035\n",
      "Epoch 5/15\n",
      "611/611 - 1s - 2ms/step - loss: 0.1994 - mae: 0.1994 - val_loss: 0.1923 - val_mae: 0.1923\n",
      "Epoch 6/15\n",
      "611/611 - 1s - 2ms/step - loss: 0.1930 - mae: 0.1930 - val_loss: 0.1910 - val_mae: 0.1910\n",
      "Epoch 7/15\n",
      "611/611 - 1s - 2ms/step - loss: 0.1916 - mae: 0.1916 - val_loss: 0.1883 - val_mae: 0.1883\n",
      "Epoch 8/15\n",
      "611/611 - 1s - 2ms/step - loss: 0.1904 - mae: 0.1904 - val_loss: 0.1876 - val_mae: 0.1876\n",
      "Epoch 9/15\n",
      "611/611 - 1s - 2ms/step - loss: 0.1884 - mae: 0.1884 - val_loss: 0.2001 - val_mae: 0.2001\n",
      "Epoch 10/15\n",
      "611/611 - 1s - 2ms/step - loss: 0.1872 - mae: 0.1872 - val_loss: 0.1999 - val_mae: 0.1999\n",
      "Epoch 11/15\n",
      "611/611 - 1s - 2ms/step - loss: 0.1836 - mae: 0.1836 - val_loss: 0.1800 - val_mae: 0.1800\n",
      "Epoch 12/15\n",
      "611/611 - 1s - 2ms/step - loss: 0.1829 - mae: 0.1829 - val_loss: 0.1764 - val_mae: 0.1764\n",
      "Epoch 13/15\n",
      "611/611 - 1s - 2ms/step - loss: 0.1815 - mae: 0.1815 - val_loss: 0.1808 - val_mae: 0.1808\n",
      "Epoch 14/15\n",
      "611/611 - 1s - 2ms/step - loss: 0.1832 - mae: 0.1832 - val_loss: 0.1776 - val_mae: 0.1776\n",
      "Epoch 15/15\n",
      "611/611 - 1s - 2ms/step - loss: 0.1821 - mae: 0.1821 - val_loss: 0.1807 - val_mae: 0.1807\n",
      "\u001b[1m44/44\u001b[0m \u001b[32m━━━━━━━━━━━━━━━━━━━━\u001b[0m\u001b[37m\u001b[0m \u001b[1m0s\u001b[0m 4ms/step\n"
     ]
    },
    {
     "data": {
      "text/html": [
       "\n",
       "    <style>\n",
       "        .wandb-row {\n",
       "            display: flex;\n",
       "            flex-direction: row;\n",
       "            flex-wrap: wrap;\n",
       "            justify-content: flex-start;\n",
       "            width: 100%;\n",
       "        }\n",
       "        .wandb-col {\n",
       "            display: flex;\n",
       "            flex-direction: column;\n",
       "            flex-basis: 100%;\n",
       "            flex: 1;\n",
       "            padding: 10px;\n",
       "        }\n",
       "    </style>\n",
       "<div class=\"wandb-row\"><div class=\"wandb-col\"><h3>Run history:</h3><br/><table class=\"wandb\"><tr><td>Max Absolute Error (Test)</td><td>▁</td></tr><tr><td>Mean Absolute Error (Test)</td><td>▁</td></tr><tr><td>R²</td><td>▁</td></tr><tr><td>Test Loss</td><td>▁</td></tr><tr><td>Test MAE</td><td>▁</td></tr><tr><td>epoch</td><td>▁▁▂▃▃▃▄▅▅▅▆▇▇▇█</td></tr><tr><td>epoch/epoch</td><td>▁▁▂▃▃▃▄▅▅▅▆▇▇▇█</td></tr><tr><td>epoch/learning_rate</td><td>▁▁▁▁▁▁▁▁▁▁▁▁▁▁▁</td></tr><tr><td>epoch/loss</td><td>█▇▆▃▂▂▂▂▁▁▁▁▁▁▁</td></tr><tr><td>epoch/mae</td><td>█▇▆▃▂▂▂▂▁▁▁▁▁▁▁</td></tr><tr><td>epoch/val_loss</td><td>█▇▅▃▂▂▂▂▃▃▁▁▁▁▁</td></tr><tr><td>epoch/val_mae</td><td>█▇▅▃▂▂▂▂▃▃▁▁▁▁▁</td></tr><tr><td>train_loss</td><td>█▇▆▃▂▂▂▂▁▁▁▁▁▁▁</td></tr><tr><td>train_mae</td><td>█▇▆▃▂▂▂▂▁▁▁▁▁▁▁</td></tr><tr><td>val_loss</td><td>█▇▅▃▂▂▂▂▃▃▁▁▁▁▁</td></tr><tr><td>val_mae</td><td>█▇▅▃▂▂▂▂▃▃▁▁▁▁▁</td></tr></table><br/></div><div class=\"wandb-col\"><h3>Run summary:</h3><br/><table class=\"wandb\"><tr><td>Max Absolute Error (Test)</td><td>1.02405</td></tr><tr><td>Mean Absolute Error (Test)</td><td>0.17093</td></tr><tr><td>R²</td><td>0.40604</td></tr><tr><td>Test Loss</td><td>0.17093</td></tr><tr><td>Test MAE</td><td>0.17093</td></tr><tr><td>epoch</td><td>14</td></tr><tr><td>epoch/epoch</td><td>14</td></tr><tr><td>epoch/learning_rate</td><td>0.005</td></tr><tr><td>epoch/loss</td><td>0.18213</td></tr><tr><td>epoch/mae</td><td>0.18213</td></tr><tr><td>epoch/val_loss</td><td>0.18074</td></tr><tr><td>epoch/val_mae</td><td>0.18074</td></tr><tr><td>train_loss</td><td>0.18213</td></tr><tr><td>train_mae</td><td>0.18213</td></tr><tr><td>val_loss</td><td>0.18074</td></tr><tr><td>val_mae</td><td>0.18074</td></tr></table><br/></div></div>"
      ],
      "text/plain": [
       "<IPython.core.display.HTML object>"
      ]
     },
     "metadata": {},
     "output_type": "display_data"
    },
    {
     "data": {
      "text/html": [
       " View run <strong style=\"color:#cdcd00\">expert-sweep-3</strong> at: <a href='https://wandb.ai/walt_/dose-prediction/runs/bkc0kye3' target=\"_blank\">https://wandb.ai/walt_/dose-prediction/runs/bkc0kye3</a><br/> View project at: <a href='https://wandb.ai/walt_/dose-prediction' target=\"_blank\">https://wandb.ai/walt_/dose-prediction</a><br/>Synced 5 W&B file(s), 0 media file(s), 0 artifact file(s) and 0 other file(s)"
      ],
      "text/plain": [
       "<IPython.core.display.HTML object>"
      ]
     },
     "metadata": {},
     "output_type": "display_data"
    },
    {
     "data": {
      "text/html": [
       "Find logs at: <code>./wandb/run-20241124_151439-bkc0kye3/logs</code>"
      ],
      "text/plain": [
       "<IPython.core.display.HTML object>"
      ]
     },
     "metadata": {},
     "output_type": "display_data"
    },
    {
     "name": "stderr",
     "output_type": "stream",
     "text": [
      "\u001b[34m\u001b[1mwandb\u001b[0m: Agent Starting Run: wpfl9185 with config:\n",
      "\u001b[34m\u001b[1mwandb\u001b[0m: \tactivation_function: tanh\n",
      "\u001b[34m\u001b[1mwandb\u001b[0m: \tbatch_size: 16\n",
      "\u001b[34m\u001b[1mwandb\u001b[0m: \tepochs: 15\n",
      "\u001b[34m\u001b[1mwandb\u001b[0m: \tinclude_edis: False\n",
      "\u001b[34m\u001b[1mwandb\u001b[0m: \tinclude_mgdis: True\n",
      "\u001b[34m\u001b[1mwandb\u001b[0m: \tinclude_mpc: True\n",
      "\u001b[34m\u001b[1mwandb\u001b[0m: \tinclude_sharpness: False\n",
      "\u001b[34m\u001b[1mwandb\u001b[0m: \tinclude_texture: False\n",
      "\u001b[34m\u001b[1mwandb\u001b[0m: \tlearning_rate: 0.005\n",
      "\u001b[34m\u001b[1mwandb\u001b[0m: \tloss_function: mean_absolute_error\n"
     ]
    },
    {
     "data": {
      "text/html": [
       "Tracking run with wandb version 0.18.7"
      ],
      "text/plain": [
       "<IPython.core.display.HTML object>"
      ]
     },
     "metadata": {},
     "output_type": "display_data"
    },
    {
     "data": {
      "text/html": [
       "Run data is saved locally in <code>/home/walt/FociNet/wandb/run-20241124_151505-wpfl9185</code>"
      ],
      "text/plain": [
       "<IPython.core.display.HTML object>"
      ]
     },
     "metadata": {},
     "output_type": "display_data"
    },
    {
     "data": {
      "text/html": [
       "Syncing run <strong><a href='https://wandb.ai/walt_/dose-prediction/runs/wpfl9185' target=\"_blank\">zesty-sweep-4</a></strong> to <a href='https://wandb.ai/walt_/dose-prediction' target=\"_blank\">Weights & Biases</a> (<a href='https://wandb.me/developer-guide' target=\"_blank\">docs</a>)<br/>Sweep page: <a href='https://wandb.ai/walt_/dose-prediction/sweeps/ijck5aqp' target=\"_blank\">https://wandb.ai/walt_/dose-prediction/sweeps/ijck5aqp</a>"
      ],
      "text/plain": [
       "<IPython.core.display.HTML object>"
      ]
     },
     "metadata": {},
     "output_type": "display_data"
    },
    {
     "data": {
      "text/html": [
       " View project at <a href='https://wandb.ai/walt_/dose-prediction' target=\"_blank\">https://wandb.ai/walt_/dose-prediction</a>"
      ],
      "text/plain": [
       "<IPython.core.display.HTML object>"
      ]
     },
     "metadata": {},
     "output_type": "display_data"
    },
    {
     "data": {
      "text/html": [
       " View sweep at <a href='https://wandb.ai/walt_/dose-prediction/sweeps/ijck5aqp' target=\"_blank\">https://wandb.ai/walt_/dose-prediction/sweeps/ijck5aqp</a>"
      ],
      "text/plain": [
       "<IPython.core.display.HTML object>"
      ]
     },
     "metadata": {},
     "output_type": "display_data"
    },
    {
     "data": {
      "text/html": [
       " View run at <a href='https://wandb.ai/walt_/dose-prediction/runs/wpfl9185' target=\"_blank\">https://wandb.ai/walt_/dose-prediction/runs/wpfl9185</a>"
      ],
      "text/plain": [
       "<IPython.core.display.HTML object>"
      ]
     },
     "metadata": {},
     "output_type": "display_data"
    },
    {
     "name": "stdout",
     "output_type": "stream",
     "text": [
      "Active Feature Config: {'activation_function': 'tanh', 'batch_size': 16, 'epochs': 15, 'include_edis': False, 'include_mgdis': True, 'include_mpc': True, 'include_sharpness': False, 'include_texture': False, 'learning_rate': 0.005, 'loss_function': 'mean_absolute_error'}\n",
      "Subset X_train shape: (9766, 3)\n",
      "Subset X_val shape: (2790, 3)\n",
      "Subset X_test shape: (1396, 3)\n",
      "Calculated input_dim: 3\n",
      "Epoch 1/15\n",
      "611/611 - 3s - 5ms/step - loss: 0.3034 - mae: 0.3034 - val_loss: 0.2903 - val_mae: 0.2903\n",
      "Epoch 2/15\n",
      "611/611 - 1s - 2ms/step - loss: 0.2895 - mae: 0.2895 - val_loss: 0.2542 - val_mae: 0.2542\n",
      "Epoch 3/15\n",
      "611/611 - 1s - 2ms/step - loss: 0.2504 - mae: 0.2504 - val_loss: 0.2448 - val_mae: 0.2448\n",
      "Epoch 4/15\n",
      "611/611 - 1s - 2ms/step - loss: 0.2426 - mae: 0.2426 - val_loss: 0.2331 - val_mae: 0.2331\n",
      "Epoch 5/15\n",
      "611/611 - 1s - 2ms/step - loss: 0.2372 - mae: 0.2372 - val_loss: 0.2289 - val_mae: 0.2289\n",
      "Epoch 6/15\n",
      "611/611 - 1s - 2ms/step - loss: 0.2343 - mae: 0.2343 - val_loss: 0.2303 - val_mae: 0.2303\n",
      "Epoch 7/15\n",
      "611/611 - 1s - 2ms/step - loss: 0.2329 - mae: 0.2329 - val_loss: 0.2282 - val_mae: 0.2282\n",
      "Epoch 8/15\n",
      "611/611 - 1s - 2ms/step - loss: 0.2296 - mae: 0.2296 - val_loss: 0.2265 - val_mae: 0.2265\n",
      "Epoch 9/15\n",
      "611/611 - 1s - 2ms/step - loss: 0.2300 - mae: 0.2300 - val_loss: 0.2395 - val_mae: 0.2395\n",
      "Epoch 10/15\n",
      "611/611 - 1s - 2ms/step - loss: 0.2292 - mae: 0.2292 - val_loss: 0.2267 - val_mae: 0.2267\n",
      "Epoch 11/15\n",
      "611/611 - 1s - 2ms/step - loss: 0.2298 - mae: 0.2298 - val_loss: 0.2455 - val_mae: 0.2455\n",
      "Epoch 12/15\n",
      "611/611 - 1s - 2ms/step - loss: 0.2291 - mae: 0.2291 - val_loss: 0.2333 - val_mae: 0.2333\n",
      "Epoch 13/15\n",
      "611/611 - 1s - 2ms/step - loss: 0.2290 - mae: 0.2290 - val_loss: 0.2259 - val_mae: 0.2259\n",
      "Epoch 14/15\n",
      "611/611 - 1s - 2ms/step - loss: 0.2287 - mae: 0.2287 - val_loss: 0.2258 - val_mae: 0.2258\n",
      "Epoch 15/15\n",
      "611/611 - 1s - 2ms/step - loss: 0.2261 - mae: 0.2261 - val_loss: 0.2292 - val_mae: 0.2292\n",
      "\u001b[1m44/44\u001b[0m \u001b[32m━━━━━━━━━━━━━━━━━━━━\u001b[0m\u001b[37m\u001b[0m \u001b[1m0s\u001b[0m 4ms/step\n"
     ]
    },
    {
     "data": {
      "text/html": [
       "\n",
       "    <style>\n",
       "        .wandb-row {\n",
       "            display: flex;\n",
       "            flex-direction: row;\n",
       "            flex-wrap: wrap;\n",
       "            justify-content: flex-start;\n",
       "            width: 100%;\n",
       "        }\n",
       "        .wandb-col {\n",
       "            display: flex;\n",
       "            flex-direction: column;\n",
       "            flex-basis: 100%;\n",
       "            flex: 1;\n",
       "            padding: 10px;\n",
       "        }\n",
       "    </style>\n",
       "<div class=\"wandb-row\"><div class=\"wandb-col\"><h3>Run history:</h3><br/><table class=\"wandb\"><tr><td>Max Absolute Error (Test)</td><td>▁</td></tr><tr><td>Mean Absolute Error (Test)</td><td>▁</td></tr><tr><td>R²</td><td>▁</td></tr><tr><td>Test Loss</td><td>▁</td></tr><tr><td>Test MAE</td><td>▁</td></tr><tr><td>epoch</td><td>▁▁▂▃▃▃▄▅▅▅▆▇▇▇█</td></tr><tr><td>epoch/epoch</td><td>▁▁▂▃▃▃▄▅▅▅▆▇▇▇█</td></tr><tr><td>epoch/learning_rate</td><td>▁▁▁▁▁▁▁▁▁▁▁▁▁▁▁</td></tr><tr><td>epoch/loss</td><td>█▇▃▂▂▂▂▁▁▁▁▁▁▁▁</td></tr><tr><td>epoch/mae</td><td>█▇▃▂▂▂▂▁▁▁▁▁▁▁▁</td></tr><tr><td>epoch/val_loss</td><td>█▄▃▂▁▁▁▁▂▁▃▂▁▁▁</td></tr><tr><td>epoch/val_mae</td><td>█▄▃▂▁▁▁▁▂▁▃▂▁▁▁</td></tr><tr><td>train_loss</td><td>█▇▃▂▂▂▂▁▁▁▁▁▁▁▁</td></tr><tr><td>train_mae</td><td>█▇▃▂▂▂▂▁▁▁▁▁▁▁▁</td></tr><tr><td>val_loss</td><td>█▄▃▂▁▁▁▁▂▁▃▂▁▁▁</td></tr><tr><td>val_mae</td><td>█▄▃▂▁▁▁▁▂▁▃▂▁▁▁</td></tr></table><br/></div><div class=\"wandb-col\"><h3>Run summary:</h3><br/><table class=\"wandb\"><tr><td>Max Absolute Error (Test)</td><td>1.02171</td></tr><tr><td>Mean Absolute Error (Test)</td><td>0.22963</td></tr><tr><td>R²</td><td>0.0913</td></tr><tr><td>Test Loss</td><td>0.22963</td></tr><tr><td>Test MAE</td><td>0.22963</td></tr><tr><td>epoch</td><td>14</td></tr><tr><td>epoch/epoch</td><td>14</td></tr><tr><td>epoch/learning_rate</td><td>0.005</td></tr><tr><td>epoch/loss</td><td>0.22613</td></tr><tr><td>epoch/mae</td><td>0.22613</td></tr><tr><td>epoch/val_loss</td><td>0.22922</td></tr><tr><td>epoch/val_mae</td><td>0.22922</td></tr><tr><td>train_loss</td><td>0.22613</td></tr><tr><td>train_mae</td><td>0.22613</td></tr><tr><td>val_loss</td><td>0.22922</td></tr><tr><td>val_mae</td><td>0.22922</td></tr></table><br/></div></div>"
      ],
      "text/plain": [
       "<IPython.core.display.HTML object>"
      ]
     },
     "metadata": {},
     "output_type": "display_data"
    },
    {
     "data": {
      "text/html": [
       " View run <strong style=\"color:#cdcd00\">zesty-sweep-4</strong> at: <a href='https://wandb.ai/walt_/dose-prediction/runs/wpfl9185' target=\"_blank\">https://wandb.ai/walt_/dose-prediction/runs/wpfl9185</a><br/> View project at: <a href='https://wandb.ai/walt_/dose-prediction' target=\"_blank\">https://wandb.ai/walt_/dose-prediction</a><br/>Synced 5 W&B file(s), 0 media file(s), 0 artifact file(s) and 0 other file(s)"
      ],
      "text/plain": [
       "<IPython.core.display.HTML object>"
      ]
     },
     "metadata": {},
     "output_type": "display_data"
    },
    {
     "data": {
      "text/html": [
       "Find logs at: <code>./wandb/run-20241124_151505-wpfl9185/logs</code>"
      ],
      "text/plain": [
       "<IPython.core.display.HTML object>"
      ]
     },
     "metadata": {},
     "output_type": "display_data"
    },
    {
     "name": "stderr",
     "output_type": "stream",
     "text": [
      "\u001b[34m\u001b[1mwandb\u001b[0m: Agent Starting Run: kecley05 with config:\n",
      "\u001b[34m\u001b[1mwandb\u001b[0m: \tactivation_function: tanh\n",
      "\u001b[34m\u001b[1mwandb\u001b[0m: \tbatch_size: 16\n",
      "\u001b[34m\u001b[1mwandb\u001b[0m: \tepochs: 15\n",
      "\u001b[34m\u001b[1mwandb\u001b[0m: \tinclude_edis: False\n",
      "\u001b[34m\u001b[1mwandb\u001b[0m: \tinclude_mgdis: True\n",
      "\u001b[34m\u001b[1mwandb\u001b[0m: \tinclude_mpc: False\n",
      "\u001b[34m\u001b[1mwandb\u001b[0m: \tinclude_sharpness: True\n",
      "\u001b[34m\u001b[1mwandb\u001b[0m: \tinclude_texture: True\n",
      "\u001b[34m\u001b[1mwandb\u001b[0m: \tlearning_rate: 0.005\n",
      "\u001b[34m\u001b[1mwandb\u001b[0m: \tloss_function: mean_absolute_error\n"
     ]
    },
    {
     "data": {
      "text/html": [
       "Tracking run with wandb version 0.18.7"
      ],
      "text/plain": [
       "<IPython.core.display.HTML object>"
      ]
     },
     "metadata": {},
     "output_type": "display_data"
    },
    {
     "data": {
      "text/html": [
       "Run data is saved locally in <code>/home/walt/FociNet/wandb/run-20241124_151530-kecley05</code>"
      ],
      "text/plain": [
       "<IPython.core.display.HTML object>"
      ]
     },
     "metadata": {},
     "output_type": "display_data"
    },
    {
     "data": {
      "text/html": [
       "Syncing run <strong><a href='https://wandb.ai/walt_/dose-prediction/runs/kecley05' target=\"_blank\">driven-sweep-5</a></strong> to <a href='https://wandb.ai/walt_/dose-prediction' target=\"_blank\">Weights & Biases</a> (<a href='https://wandb.me/developer-guide' target=\"_blank\">docs</a>)<br/>Sweep page: <a href='https://wandb.ai/walt_/dose-prediction/sweeps/ijck5aqp' target=\"_blank\">https://wandb.ai/walt_/dose-prediction/sweeps/ijck5aqp</a>"
      ],
      "text/plain": [
       "<IPython.core.display.HTML object>"
      ]
     },
     "metadata": {},
     "output_type": "display_data"
    },
    {
     "data": {
      "text/html": [
       " View project at <a href='https://wandb.ai/walt_/dose-prediction' target=\"_blank\">https://wandb.ai/walt_/dose-prediction</a>"
      ],
      "text/plain": [
       "<IPython.core.display.HTML object>"
      ]
     },
     "metadata": {},
     "output_type": "display_data"
    },
    {
     "data": {
      "text/html": [
       " View sweep at <a href='https://wandb.ai/walt_/dose-prediction/sweeps/ijck5aqp' target=\"_blank\">https://wandb.ai/walt_/dose-prediction/sweeps/ijck5aqp</a>"
      ],
      "text/plain": [
       "<IPython.core.display.HTML object>"
      ]
     },
     "metadata": {},
     "output_type": "display_data"
    },
    {
     "data": {
      "text/html": [
       " View run at <a href='https://wandb.ai/walt_/dose-prediction/runs/kecley05' target=\"_blank\">https://wandb.ai/walt_/dose-prediction/runs/kecley05</a>"
      ],
      "text/plain": [
       "<IPython.core.display.HTML object>"
      ]
     },
     "metadata": {},
     "output_type": "display_data"
    },
    {
     "name": "stdout",
     "output_type": "stream",
     "text": [
      "Active Feature Config: {'activation_function': 'tanh', 'batch_size': 16, 'epochs': 15, 'include_edis': False, 'include_mgdis': True, 'include_mpc': False, 'include_sharpness': True, 'include_texture': True, 'learning_rate': 0.005, 'loss_function': 'mean_absolute_error'}\n",
      "Subset X_train shape: (9766, 4)\n",
      "Subset X_val shape: (2790, 4)\n",
      "Subset X_test shape: (1396, 4)\n",
      "Calculated input_dim: 4\n",
      "Epoch 1/15\n",
      "611/611 - 3s - 5ms/step - loss: 0.2963 - mae: 0.2963 - val_loss: 0.2903 - val_mae: 0.2903\n",
      "Epoch 2/15\n",
      "611/611 - 1s - 2ms/step - loss: 0.2552 - mae: 0.2552 - val_loss: 0.2206 - val_mae: 0.2206\n",
      "Epoch 3/15\n",
      "611/611 - 1s - 2ms/step - loss: 0.2178 - mae: 0.2178 - val_loss: 0.2081 - val_mae: 0.2081\n",
      "Epoch 4/15\n",
      "611/611 - 1s - 2ms/step - loss: 0.2090 - mae: 0.2090 - val_loss: 0.2122 - val_mae: 0.2122\n",
      "Epoch 5/15\n",
      "611/611 - 1s - 2ms/step - loss: 0.2014 - mae: 0.2014 - val_loss: 0.2063 - val_mae: 0.2063\n",
      "Epoch 6/15\n",
      "611/611 - 1s - 2ms/step - loss: 0.1959 - mae: 0.1959 - val_loss: 0.2014 - val_mae: 0.2014\n",
      "Epoch 7/15\n",
      "611/611 - 1s - 2ms/step - loss: 0.1937 - mae: 0.1937 - val_loss: 0.1915 - val_mae: 0.1915\n",
      "Epoch 8/15\n",
      "611/611 - 1s - 2ms/step - loss: 0.1928 - mae: 0.1928 - val_loss: 0.1929 - val_mae: 0.1929\n",
      "Epoch 9/15\n",
      "611/611 - 1s - 2ms/step - loss: 0.1900 - mae: 0.1900 - val_loss: 0.1917 - val_mae: 0.1917\n",
      "Epoch 10/15\n",
      "611/611 - 1s - 2ms/step - loss: 0.1877 - mae: 0.1877 - val_loss: 0.1930 - val_mae: 0.1930\n",
      "Epoch 11/15\n",
      "611/611 - 1s - 2ms/step - loss: 0.1873 - mae: 0.1873 - val_loss: 0.1870 - val_mae: 0.1870\n",
      "Epoch 12/15\n",
      "611/611 - 1s - 2ms/step - loss: 0.1869 - mae: 0.1869 - val_loss: 0.1964 - val_mae: 0.1964\n",
      "Epoch 13/15\n",
      "611/611 - 1s - 2ms/step - loss: 0.1867 - mae: 0.1867 - val_loss: 0.1868 - val_mae: 0.1868\n",
      "Epoch 14/15\n",
      "611/611 - 1s - 2ms/step - loss: 0.1843 - mae: 0.1843 - val_loss: 0.1898 - val_mae: 0.1898\n",
      "Epoch 15/15\n",
      "611/611 - 1s - 2ms/step - loss: 0.1845 - mae: 0.1845 - val_loss: 0.1898 - val_mae: 0.1898\n",
      "\u001b[1m44/44\u001b[0m \u001b[32m━━━━━━━━━━━━━━━━━━━━\u001b[0m\u001b[37m\u001b[0m \u001b[1m0s\u001b[0m 4ms/step\n"
     ]
    },
    {
     "data": {
      "text/html": [
       "\n",
       "    <style>\n",
       "        .wandb-row {\n",
       "            display: flex;\n",
       "            flex-direction: row;\n",
       "            flex-wrap: wrap;\n",
       "            justify-content: flex-start;\n",
       "            width: 100%;\n",
       "        }\n",
       "        .wandb-col {\n",
       "            display: flex;\n",
       "            flex-direction: column;\n",
       "            flex-basis: 100%;\n",
       "            flex: 1;\n",
       "            padding: 10px;\n",
       "        }\n",
       "    </style>\n",
       "<div class=\"wandb-row\"><div class=\"wandb-col\"><h3>Run history:</h3><br/><table class=\"wandb\"><tr><td>Max Absolute Error (Test)</td><td>▁</td></tr><tr><td>Mean Absolute Error (Test)</td><td>▁</td></tr><tr><td>R²</td><td>▁</td></tr><tr><td>Test Loss</td><td>▁</td></tr><tr><td>Test MAE</td><td>▁</td></tr><tr><td>epoch</td><td>▁▁▂▃▃▃▄▅▅▅▆▇▇▇█</td></tr><tr><td>epoch/epoch</td><td>▁▁▂▃▃▃▄▅▅▅▆▇▇▇█</td></tr><tr><td>epoch/learning_rate</td><td>▁▁▁▁▁▁▁▁▁▁▁▁▁▁▁</td></tr><tr><td>epoch/loss</td><td>█▅▃▃▂▂▂▂▁▁▁▁▁▁▁</td></tr><tr><td>epoch/mae</td><td>█▅▃▃▂▂▂▂▁▁▁▁▁▁▁</td></tr><tr><td>epoch/val_loss</td><td>█▃▂▃▂▂▁▁▁▁▁▂▁▁▁</td></tr><tr><td>epoch/val_mae</td><td>█▃▂▃▂▂▁▁▁▁▁▂▁▁▁</td></tr><tr><td>train_loss</td><td>█▅▃▃▂▂▂▂▁▁▁▁▁▁▁</td></tr><tr><td>train_mae</td><td>█▅▃▃▂▂▂▂▁▁▁▁▁▁▁</td></tr><tr><td>val_loss</td><td>█▃▂▃▂▂▁▁▁▁▁▂▁▁▁</td></tr><tr><td>val_mae</td><td>█▃▂▃▂▂▁▁▁▁▁▂▁▁▁</td></tr></table><br/></div><div class=\"wandb-col\"><h3>Run summary:</h3><br/><table class=\"wandb\"><tr><td>Max Absolute Error (Test)</td><td>1.01575</td></tr><tr><td>Mean Absolute Error (Test)</td><td>0.18455</td></tr><tr><td>R²</td><td>0.32257</td></tr><tr><td>Test Loss</td><td>0.18455</td></tr><tr><td>Test MAE</td><td>0.18455</td></tr><tr><td>epoch</td><td>14</td></tr><tr><td>epoch/epoch</td><td>14</td></tr><tr><td>epoch/learning_rate</td><td>0.005</td></tr><tr><td>epoch/loss</td><td>0.18455</td></tr><tr><td>epoch/mae</td><td>0.18455</td></tr><tr><td>epoch/val_loss</td><td>0.18983</td></tr><tr><td>epoch/val_mae</td><td>0.18983</td></tr><tr><td>train_loss</td><td>0.18455</td></tr><tr><td>train_mae</td><td>0.18455</td></tr><tr><td>val_loss</td><td>0.18983</td></tr><tr><td>val_mae</td><td>0.18983</td></tr></table><br/></div></div>"
      ],
      "text/plain": [
       "<IPython.core.display.HTML object>"
      ]
     },
     "metadata": {},
     "output_type": "display_data"
    },
    {
     "data": {
      "text/html": [
       " View run <strong style=\"color:#cdcd00\">driven-sweep-5</strong> at: <a href='https://wandb.ai/walt_/dose-prediction/runs/kecley05' target=\"_blank\">https://wandb.ai/walt_/dose-prediction/runs/kecley05</a><br/> View project at: <a href='https://wandb.ai/walt_/dose-prediction' target=\"_blank\">https://wandb.ai/walt_/dose-prediction</a><br/>Synced 5 W&B file(s), 0 media file(s), 0 artifact file(s) and 0 other file(s)"
      ],
      "text/plain": [
       "<IPython.core.display.HTML object>"
      ]
     },
     "metadata": {},
     "output_type": "display_data"
    },
    {
     "data": {
      "text/html": [
       "Find logs at: <code>./wandb/run-20241124_151530-kecley05/logs</code>"
      ],
      "text/plain": [
       "<IPython.core.display.HTML object>"
      ]
     },
     "metadata": {},
     "output_type": "display_data"
    },
    {
     "name": "stderr",
     "output_type": "stream",
     "text": [
      "\u001b[34m\u001b[1mwandb\u001b[0m: Agent Starting Run: zykelgto with config:\n",
      "\u001b[34m\u001b[1mwandb\u001b[0m: \tactivation_function: tanh\n",
      "\u001b[34m\u001b[1mwandb\u001b[0m: \tbatch_size: 16\n",
      "\u001b[34m\u001b[1mwandb\u001b[0m: \tepochs: 15\n",
      "\u001b[34m\u001b[1mwandb\u001b[0m: \tinclude_edis: False\n",
      "\u001b[34m\u001b[1mwandb\u001b[0m: \tinclude_mgdis: True\n",
      "\u001b[34m\u001b[1mwandb\u001b[0m: \tinclude_mpc: False\n",
      "\u001b[34m\u001b[1mwandb\u001b[0m: \tinclude_sharpness: True\n",
      "\u001b[34m\u001b[1mwandb\u001b[0m: \tinclude_texture: False\n",
      "\u001b[34m\u001b[1mwandb\u001b[0m: \tlearning_rate: 0.005\n",
      "\u001b[34m\u001b[1mwandb\u001b[0m: \tloss_function: mean_absolute_error\n"
     ]
    },
    {
     "data": {
      "text/html": [
       "Tracking run with wandb version 0.18.7"
      ],
      "text/plain": [
       "<IPython.core.display.HTML object>"
      ]
     },
     "metadata": {},
     "output_type": "display_data"
    },
    {
     "data": {
      "text/html": [
       "Run data is saved locally in <code>/home/walt/FociNet/wandb/run-20241124_151556-zykelgto</code>"
      ],
      "text/plain": [
       "<IPython.core.display.HTML object>"
      ]
     },
     "metadata": {},
     "output_type": "display_data"
    },
    {
     "data": {
      "text/html": [
       "Syncing run <strong><a href='https://wandb.ai/walt_/dose-prediction/runs/zykelgto' target=\"_blank\">fresh-sweep-6</a></strong> to <a href='https://wandb.ai/walt_/dose-prediction' target=\"_blank\">Weights & Biases</a> (<a href='https://wandb.me/developer-guide' target=\"_blank\">docs</a>)<br/>Sweep page: <a href='https://wandb.ai/walt_/dose-prediction/sweeps/ijck5aqp' target=\"_blank\">https://wandb.ai/walt_/dose-prediction/sweeps/ijck5aqp</a>"
      ],
      "text/plain": [
       "<IPython.core.display.HTML object>"
      ]
     },
     "metadata": {},
     "output_type": "display_data"
    },
    {
     "data": {
      "text/html": [
       " View project at <a href='https://wandb.ai/walt_/dose-prediction' target=\"_blank\">https://wandb.ai/walt_/dose-prediction</a>"
      ],
      "text/plain": [
       "<IPython.core.display.HTML object>"
      ]
     },
     "metadata": {},
     "output_type": "display_data"
    },
    {
     "data": {
      "text/html": [
       " View sweep at <a href='https://wandb.ai/walt_/dose-prediction/sweeps/ijck5aqp' target=\"_blank\">https://wandb.ai/walt_/dose-prediction/sweeps/ijck5aqp</a>"
      ],
      "text/plain": [
       "<IPython.core.display.HTML object>"
      ]
     },
     "metadata": {},
     "output_type": "display_data"
    },
    {
     "data": {
      "text/html": [
       " View run at <a href='https://wandb.ai/walt_/dose-prediction/runs/zykelgto' target=\"_blank\">https://wandb.ai/walt_/dose-prediction/runs/zykelgto</a>"
      ],
      "text/plain": [
       "<IPython.core.display.HTML object>"
      ]
     },
     "metadata": {},
     "output_type": "display_data"
    },
    {
     "name": "stdout",
     "output_type": "stream",
     "text": [
      "Active Feature Config: {'activation_function': 'tanh', 'batch_size': 16, 'epochs': 15, 'include_edis': False, 'include_mgdis': True, 'include_mpc': False, 'include_sharpness': True, 'include_texture': False, 'learning_rate': 0.005, 'loss_function': 'mean_absolute_error'}\n",
      "Subset X_train shape: (9766, 2)\n",
      "Subset X_val shape: (2790, 2)\n",
      "Subset X_test shape: (1396, 2)\n",
      "Calculated input_dim: 2\n",
      "Epoch 1/15\n",
      "611/611 - 3s - 5ms/step - loss: 0.3002 - mae: 0.3002 - val_loss: 0.3008 - val_mae: 0.3008\n",
      "Epoch 2/15\n",
      "611/611 - 2s - 3ms/step - loss: 0.2837 - mae: 0.2837 - val_loss: 0.2544 - val_mae: 0.2544\n",
      "Epoch 3/15\n",
      "611/611 - 2s - 3ms/step - loss: 0.2527 - mae: 0.2527 - val_loss: 0.2427 - val_mae: 0.2427\n",
      "Epoch 4/15\n",
      "611/611 - 2s - 3ms/step - loss: 0.2445 - mae: 0.2445 - val_loss: 0.2387 - val_mae: 0.2387\n",
      "Epoch 5/15\n",
      "611/611 - 2s - 3ms/step - loss: 0.2416 - mae: 0.2416 - val_loss: 0.2378 - val_mae: 0.2378\n",
      "Epoch 6/15\n",
      "611/611 - 2s - 3ms/step - loss: 0.2389 - mae: 0.2389 - val_loss: 0.2321 - val_mae: 0.2321\n",
      "Epoch 7/15\n",
      "611/611 - 1s - 2ms/step - loss: 0.2370 - mae: 0.2370 - val_loss: 0.2377 - val_mae: 0.2377\n",
      "Epoch 8/15\n",
      "611/611 - 2s - 3ms/step - loss: 0.2353 - mae: 0.2353 - val_loss: 0.2321 - val_mae: 0.2321\n",
      "Epoch 9/15\n",
      "611/611 - 1s - 2ms/step - loss: 0.2362 - mae: 0.2362 - val_loss: 0.2343 - val_mae: 0.2343\n",
      "Epoch 10/15\n",
      "611/611 - 1s - 2ms/step - loss: 0.2348 - mae: 0.2348 - val_loss: 0.2415 - val_mae: 0.2415\n",
      "Epoch 11/15\n",
      "611/611 - 1s - 2ms/step - loss: 0.2339 - mae: 0.2339 - val_loss: 0.2355 - val_mae: 0.2355\n",
      "Epoch 12/15\n",
      "611/611 - 1s - 2ms/step - loss: 0.2356 - mae: 0.2356 - val_loss: 0.2278 - val_mae: 0.2278\n",
      "Epoch 13/15\n",
      "611/611 - 1s - 2ms/step - loss: 0.2345 - mae: 0.2345 - val_loss: 0.2303 - val_mae: 0.2303\n",
      "Epoch 14/15\n",
      "611/611 - 1s - 2ms/step - loss: 0.2332 - mae: 0.2332 - val_loss: 0.2326 - val_mae: 0.2326\n",
      "Epoch 15/15\n",
      "611/611 - 1s - 2ms/step - loss: 0.2324 - mae: 0.2324 - val_loss: 0.2279 - val_mae: 0.2279\n",
      "\u001b[1m44/44\u001b[0m \u001b[32m━━━━━━━━━━━━━━━━━━━━\u001b[0m\u001b[37m\u001b[0m \u001b[1m0s\u001b[0m 4ms/step\n"
     ]
    },
    {
     "data": {
      "text/html": [
       "\n",
       "    <style>\n",
       "        .wandb-row {\n",
       "            display: flex;\n",
       "            flex-direction: row;\n",
       "            flex-wrap: wrap;\n",
       "            justify-content: flex-start;\n",
       "            width: 100%;\n",
       "        }\n",
       "        .wandb-col {\n",
       "            display: flex;\n",
       "            flex-direction: column;\n",
       "            flex-basis: 100%;\n",
       "            flex: 1;\n",
       "            padding: 10px;\n",
       "        }\n",
       "    </style>\n",
       "<div class=\"wandb-row\"><div class=\"wandb-col\"><h3>Run history:</h3><br/><table class=\"wandb\"><tr><td>Max Absolute Error (Test)</td><td>▁</td></tr><tr><td>Mean Absolute Error (Test)</td><td>▁</td></tr><tr><td>R²</td><td>▁</td></tr><tr><td>Test Loss</td><td>▁</td></tr><tr><td>Test MAE</td><td>▁</td></tr><tr><td>epoch</td><td>▁▁▂▃▃▃▄▅▅▅▆▇▇▇█</td></tr><tr><td>epoch/epoch</td><td>▁▁▂▃▃▃▄▅▅▅▆▇▇▇█</td></tr><tr><td>epoch/learning_rate</td><td>▁▁▁▁▁▁▁▁▁▁▁▁▁▁▁</td></tr><tr><td>epoch/loss</td><td>█▆▃▂▂▂▁▁▁▁▁▁▁▁▁</td></tr><tr><td>epoch/mae</td><td>█▆▃▂▂▂▁▁▁▁▁▁▁▁▁</td></tr><tr><td>epoch/val_loss</td><td>█▄▂▂▂▁▂▁▂▂▂▁▁▁▁</td></tr><tr><td>epoch/val_mae</td><td>█▄▂▂▂▁▂▁▂▂▂▁▁▁▁</td></tr><tr><td>train_loss</td><td>█▆▃▂▂▂▁▁▁▁▁▁▁▁▁</td></tr><tr><td>train_mae</td><td>█▆▃▂▂▂▁▁▁▁▁▁▁▁▁</td></tr><tr><td>val_loss</td><td>█▄▂▂▂▁▂▁▂▂▂▁▁▁▁</td></tr><tr><td>val_mae</td><td>█▄▂▂▂▁▂▁▂▂▂▁▁▁▁</td></tr></table><br/></div><div class=\"wandb-col\"><h3>Run summary:</h3><br/><table class=\"wandb\"><tr><td>Max Absolute Error (Test)</td><td>1.0099</td></tr><tr><td>Mean Absolute Error (Test)</td><td>0.22512</td></tr><tr><td>R²</td><td>0.12676</td></tr><tr><td>Test Loss</td><td>0.22512</td></tr><tr><td>Test MAE</td><td>0.22512</td></tr><tr><td>epoch</td><td>14</td></tr><tr><td>epoch/epoch</td><td>14</td></tr><tr><td>epoch/learning_rate</td><td>0.005</td></tr><tr><td>epoch/loss</td><td>0.2324</td></tr><tr><td>epoch/mae</td><td>0.2324</td></tr><tr><td>epoch/val_loss</td><td>0.22789</td></tr><tr><td>epoch/val_mae</td><td>0.22789</td></tr><tr><td>train_loss</td><td>0.2324</td></tr><tr><td>train_mae</td><td>0.2324</td></tr><tr><td>val_loss</td><td>0.22789</td></tr><tr><td>val_mae</td><td>0.22789</td></tr></table><br/></div></div>"
      ],
      "text/plain": [
       "<IPython.core.display.HTML object>"
      ]
     },
     "metadata": {},
     "output_type": "display_data"
    },
    {
     "data": {
      "text/html": [
       " View run <strong style=\"color:#cdcd00\">fresh-sweep-6</strong> at: <a href='https://wandb.ai/walt_/dose-prediction/runs/zykelgto' target=\"_blank\">https://wandb.ai/walt_/dose-prediction/runs/zykelgto</a><br/> View project at: <a href='https://wandb.ai/walt_/dose-prediction' target=\"_blank\">https://wandb.ai/walt_/dose-prediction</a><br/>Synced 5 W&B file(s), 0 media file(s), 0 artifact file(s) and 0 other file(s)"
      ],
      "text/plain": [
       "<IPython.core.display.HTML object>"
      ]
     },
     "metadata": {},
     "output_type": "display_data"
    },
    {
     "data": {
      "text/html": [
       "Find logs at: <code>./wandb/run-20241124_151556-zykelgto/logs</code>"
      ],
      "text/plain": [
       "<IPython.core.display.HTML object>"
      ]
     },
     "metadata": {},
     "output_type": "display_data"
    },
    {
     "name": "stderr",
     "output_type": "stream",
     "text": [
      "\u001b[34m\u001b[1mwandb\u001b[0m: Agent Starting Run: mablcl01 with config:\n",
      "\u001b[34m\u001b[1mwandb\u001b[0m: \tactivation_function: tanh\n",
      "\u001b[34m\u001b[1mwandb\u001b[0m: \tbatch_size: 16\n",
      "\u001b[34m\u001b[1mwandb\u001b[0m: \tepochs: 15\n",
      "\u001b[34m\u001b[1mwandb\u001b[0m: \tinclude_edis: False\n",
      "\u001b[34m\u001b[1mwandb\u001b[0m: \tinclude_mgdis: True\n",
      "\u001b[34m\u001b[1mwandb\u001b[0m: \tinclude_mpc: False\n",
      "\u001b[34m\u001b[1mwandb\u001b[0m: \tinclude_sharpness: False\n",
      "\u001b[34m\u001b[1mwandb\u001b[0m: \tinclude_texture: True\n",
      "\u001b[34m\u001b[1mwandb\u001b[0m: \tlearning_rate: 0.005\n",
      "\u001b[34m\u001b[1mwandb\u001b[0m: \tloss_function: mean_absolute_error\n"
     ]
    },
    {
     "data": {
      "text/html": [
       "Tracking run with wandb version 0.18.7"
      ],
      "text/plain": [
       "<IPython.core.display.HTML object>"
      ]
     },
     "metadata": {},
     "output_type": "display_data"
    },
    {
     "data": {
      "text/html": [
       "Run data is saved locally in <code>/home/walt/FociNet/wandb/run-20241124_151626-mablcl01</code>"
      ],
      "text/plain": [
       "<IPython.core.display.HTML object>"
      ]
     },
     "metadata": {},
     "output_type": "display_data"
    },
    {
     "data": {
      "text/html": [
       "Syncing run <strong><a href='https://wandb.ai/walt_/dose-prediction/runs/mablcl01' target=\"_blank\">swift-sweep-7</a></strong> to <a href='https://wandb.ai/walt_/dose-prediction' target=\"_blank\">Weights & Biases</a> (<a href='https://wandb.me/developer-guide' target=\"_blank\">docs</a>)<br/>Sweep page: <a href='https://wandb.ai/walt_/dose-prediction/sweeps/ijck5aqp' target=\"_blank\">https://wandb.ai/walt_/dose-prediction/sweeps/ijck5aqp</a>"
      ],
      "text/plain": [
       "<IPython.core.display.HTML object>"
      ]
     },
     "metadata": {},
     "output_type": "display_data"
    },
    {
     "data": {
      "text/html": [
       " View project at <a href='https://wandb.ai/walt_/dose-prediction' target=\"_blank\">https://wandb.ai/walt_/dose-prediction</a>"
      ],
      "text/plain": [
       "<IPython.core.display.HTML object>"
      ]
     },
     "metadata": {},
     "output_type": "display_data"
    },
    {
     "data": {
      "text/html": [
       " View sweep at <a href='https://wandb.ai/walt_/dose-prediction/sweeps/ijck5aqp' target=\"_blank\">https://wandb.ai/walt_/dose-prediction/sweeps/ijck5aqp</a>"
      ],
      "text/plain": [
       "<IPython.core.display.HTML object>"
      ]
     },
     "metadata": {},
     "output_type": "display_data"
    },
    {
     "data": {
      "text/html": [
       " View run at <a href='https://wandb.ai/walt_/dose-prediction/runs/mablcl01' target=\"_blank\">https://wandb.ai/walt_/dose-prediction/runs/mablcl01</a>"
      ],
      "text/plain": [
       "<IPython.core.display.HTML object>"
      ]
     },
     "metadata": {},
     "output_type": "display_data"
    },
    {
     "name": "stdout",
     "output_type": "stream",
     "text": [
      "Active Feature Config: {'activation_function': 'tanh', 'batch_size': 16, 'epochs': 15, 'include_edis': False, 'include_mgdis': True, 'include_mpc': False, 'include_sharpness': False, 'include_texture': True, 'learning_rate': 0.005, 'loss_function': 'mean_absolute_error'}\n",
      "Subset X_train shape: (9766, 3)\n",
      "Subset X_val shape: (2790, 3)\n",
      "Subset X_test shape: (1396, 3)\n",
      "Calculated input_dim: 3\n",
      "Epoch 1/15\n",
      "611/611 - 3s - 4ms/step - loss: 0.3046 - mae: 0.3046 - val_loss: 0.3199 - val_mae: 0.3199\n",
      "Epoch 2/15\n",
      "611/611 - 1s - 2ms/step - loss: 0.2946 - mae: 0.2946 - val_loss: 0.2940 - val_mae: 0.2940\n",
      "Epoch 3/15\n",
      "611/611 - 1s - 2ms/step - loss: 0.2946 - mae: 0.2946 - val_loss: 0.2919 - val_mae: 0.2919\n",
      "Epoch 4/15\n",
      "611/611 - 1s - 2ms/step - loss: 0.2839 - mae: 0.2839 - val_loss: 0.2480 - val_mae: 0.2480\n",
      "Epoch 5/15\n",
      "611/611 - 1s - 2ms/step - loss: 0.2437 - mae: 0.2437 - val_loss: 0.2355 - val_mae: 0.2355\n",
      "Epoch 6/15\n",
      "611/611 - 1s - 2ms/step - loss: 0.2352 - mae: 0.2352 - val_loss: 0.2299 - val_mae: 0.2299\n",
      "Epoch 7/15\n",
      "611/611 - 1s - 2ms/step - loss: 0.2356 - mae: 0.2356 - val_loss: 0.2292 - val_mae: 0.2292\n",
      "Epoch 8/15\n",
      "611/611 - 1s - 2ms/step - loss: 0.2348 - mae: 0.2348 - val_loss: 0.2267 - val_mae: 0.2267\n",
      "Epoch 9/15\n",
      "611/611 - 1s - 2ms/step - loss: 0.2344 - mae: 0.2344 - val_loss: 0.2277 - val_mae: 0.2277\n",
      "Epoch 10/15\n",
      "611/611 - 1s - 2ms/step - loss: 0.2316 - mae: 0.2316 - val_loss: 0.2249 - val_mae: 0.2249\n",
      "Epoch 11/15\n",
      "611/611 - 1s - 2ms/step - loss: 0.2342 - mae: 0.2342 - val_loss: 0.2319 - val_mae: 0.2319\n",
      "Epoch 12/15\n",
      "611/611 - 1s - 2ms/step - loss: 0.2313 - mae: 0.2313 - val_loss: 0.2247 - val_mae: 0.2247\n",
      "Epoch 13/15\n",
      "611/611 - 1s - 2ms/step - loss: 0.2287 - mae: 0.2287 - val_loss: 0.2222 - val_mae: 0.2222\n",
      "Epoch 14/15\n",
      "611/611 - 1s - 2ms/step - loss: 0.2296 - mae: 0.2296 - val_loss: 0.2290 - val_mae: 0.2290\n",
      "Epoch 15/15\n",
      "611/611 - 1s - 2ms/step - loss: 0.2274 - mae: 0.2274 - val_loss: 0.2280 - val_mae: 0.2280\n",
      "\u001b[1m44/44\u001b[0m \u001b[32m━━━━━━━━━━━━━━━━━━━━\u001b[0m\u001b[37m\u001b[0m \u001b[1m0s\u001b[0m 4ms/step\n"
     ]
    },
    {
     "data": {
      "text/html": [
       "\n",
       "    <style>\n",
       "        .wandb-row {\n",
       "            display: flex;\n",
       "            flex-direction: row;\n",
       "            flex-wrap: wrap;\n",
       "            justify-content: flex-start;\n",
       "            width: 100%;\n",
       "        }\n",
       "        .wandb-col {\n",
       "            display: flex;\n",
       "            flex-direction: column;\n",
       "            flex-basis: 100%;\n",
       "            flex: 1;\n",
       "            padding: 10px;\n",
       "        }\n",
       "    </style>\n",
       "<div class=\"wandb-row\"><div class=\"wandb-col\"><h3>Run history:</h3><br/><table class=\"wandb\"><tr><td>Max Absolute Error (Test)</td><td>▁</td></tr><tr><td>Mean Absolute Error (Test)</td><td>▁</td></tr><tr><td>R²</td><td>▁</td></tr><tr><td>Test Loss</td><td>▁</td></tr><tr><td>Test MAE</td><td>▁</td></tr><tr><td>epoch</td><td>▁▁▂▃▃▃▄▅▅▅▆▇▇▇█</td></tr><tr><td>epoch/epoch</td><td>▁▁▂▃▃▃▄▅▅▅▆▇▇▇█</td></tr><tr><td>epoch/learning_rate</td><td>▁▁▁▁▁▁▁▁▁▁▁▁▁▁▁</td></tr><tr><td>epoch/loss</td><td>█▇▇▆▂▂▂▂▂▁▂▁▁▁▁</td></tr><tr><td>epoch/mae</td><td>█▇▇▆▂▂▂▂▂▁▂▁▁▁▁</td></tr><tr><td>epoch/val_loss</td><td>█▆▆▃▂▂▂▁▁▁▂▁▁▁▁</td></tr><tr><td>epoch/val_mae</td><td>█▆▆▃▂▂▂▁▁▁▂▁▁▁▁</td></tr><tr><td>train_loss</td><td>█▇▇▆▂▂▂▂▂▁▂▁▁▁▁</td></tr><tr><td>train_mae</td><td>█▇▇▆▂▂▂▂▂▁▂▁▁▁▁</td></tr><tr><td>val_loss</td><td>█▆▆▃▂▂▂▁▁▁▂▁▁▁▁</td></tr><tr><td>val_mae</td><td>█▆▆▃▂▂▂▁▁▁▂▁▁▁▁</td></tr></table><br/></div><div class=\"wandb-col\"><h3>Run summary:</h3><br/><table class=\"wandb\"><tr><td>Max Absolute Error (Test)</td><td>0.99595</td></tr><tr><td>Mean Absolute Error (Test)</td><td>0.22225</td></tr><tr><td>R²</td><td>0.10425</td></tr><tr><td>Test Loss</td><td>0.22225</td></tr><tr><td>Test MAE</td><td>0.22225</td></tr><tr><td>epoch</td><td>14</td></tr><tr><td>epoch/epoch</td><td>14</td></tr><tr><td>epoch/learning_rate</td><td>0.005</td></tr><tr><td>epoch/loss</td><td>0.22739</td></tr><tr><td>epoch/mae</td><td>0.22739</td></tr><tr><td>epoch/val_loss</td><td>0.22796</td></tr><tr><td>epoch/val_mae</td><td>0.22796</td></tr><tr><td>train_loss</td><td>0.22739</td></tr><tr><td>train_mae</td><td>0.22739</td></tr><tr><td>val_loss</td><td>0.22796</td></tr><tr><td>val_mae</td><td>0.22796</td></tr></table><br/></div></div>"
      ],
      "text/plain": [
       "<IPython.core.display.HTML object>"
      ]
     },
     "metadata": {},
     "output_type": "display_data"
    },
    {
     "data": {
      "text/html": [
       " View run <strong style=\"color:#cdcd00\">swift-sweep-7</strong> at: <a href='https://wandb.ai/walt_/dose-prediction/runs/mablcl01' target=\"_blank\">https://wandb.ai/walt_/dose-prediction/runs/mablcl01</a><br/> View project at: <a href='https://wandb.ai/walt_/dose-prediction' target=\"_blank\">https://wandb.ai/walt_/dose-prediction</a><br/>Synced 5 W&B file(s), 0 media file(s), 0 artifact file(s) and 0 other file(s)"
      ],
      "text/plain": [
       "<IPython.core.display.HTML object>"
      ]
     },
     "metadata": {},
     "output_type": "display_data"
    },
    {
     "data": {
      "text/html": [
       "Find logs at: <code>./wandb/run-20241124_151626-mablcl01/logs</code>"
      ],
      "text/plain": [
       "<IPython.core.display.HTML object>"
      ]
     },
     "metadata": {},
     "output_type": "display_data"
    },
    {
     "name": "stderr",
     "output_type": "stream",
     "text": [
      "\u001b[34m\u001b[1mwandb\u001b[0m: Agent Starting Run: 037j003l with config:\n",
      "\u001b[34m\u001b[1mwandb\u001b[0m: \tactivation_function: tanh\n",
      "\u001b[34m\u001b[1mwandb\u001b[0m: \tbatch_size: 16\n",
      "\u001b[34m\u001b[1mwandb\u001b[0m: \tepochs: 15\n",
      "\u001b[34m\u001b[1mwandb\u001b[0m: \tinclude_edis: False\n",
      "\u001b[34m\u001b[1mwandb\u001b[0m: \tinclude_mgdis: True\n",
      "\u001b[34m\u001b[1mwandb\u001b[0m: \tinclude_mpc: False\n",
      "\u001b[34m\u001b[1mwandb\u001b[0m: \tinclude_sharpness: False\n",
      "\u001b[34m\u001b[1mwandb\u001b[0m: \tinclude_texture: False\n",
      "\u001b[34m\u001b[1mwandb\u001b[0m: \tlearning_rate: 0.005\n",
      "\u001b[34m\u001b[1mwandb\u001b[0m: \tloss_function: mean_absolute_error\n"
     ]
    },
    {
     "data": {
      "text/html": [
       "Tracking run with wandb version 0.18.7"
      ],
      "text/plain": [
       "<IPython.core.display.HTML object>"
      ]
     },
     "metadata": {},
     "output_type": "display_data"
    },
    {
     "data": {
      "text/html": [
       "Run data is saved locally in <code>/home/walt/FociNet/wandb/run-20241124_151652-037j003l</code>"
      ],
      "text/plain": [
       "<IPython.core.display.HTML object>"
      ]
     },
     "metadata": {},
     "output_type": "display_data"
    },
    {
     "data": {
      "text/html": [
       "Syncing run <strong><a href='https://wandb.ai/walt_/dose-prediction/runs/037j003l' target=\"_blank\">vivid-sweep-8</a></strong> to <a href='https://wandb.ai/walt_/dose-prediction' target=\"_blank\">Weights & Biases</a> (<a href='https://wandb.me/developer-guide' target=\"_blank\">docs</a>)<br/>Sweep page: <a href='https://wandb.ai/walt_/dose-prediction/sweeps/ijck5aqp' target=\"_blank\">https://wandb.ai/walt_/dose-prediction/sweeps/ijck5aqp</a>"
      ],
      "text/plain": [
       "<IPython.core.display.HTML object>"
      ]
     },
     "metadata": {},
     "output_type": "display_data"
    },
    {
     "data": {
      "text/html": [
       " View project at <a href='https://wandb.ai/walt_/dose-prediction' target=\"_blank\">https://wandb.ai/walt_/dose-prediction</a>"
      ],
      "text/plain": [
       "<IPython.core.display.HTML object>"
      ]
     },
     "metadata": {},
     "output_type": "display_data"
    },
    {
     "data": {
      "text/html": [
       " View sweep at <a href='https://wandb.ai/walt_/dose-prediction/sweeps/ijck5aqp' target=\"_blank\">https://wandb.ai/walt_/dose-prediction/sweeps/ijck5aqp</a>"
      ],
      "text/plain": [
       "<IPython.core.display.HTML object>"
      ]
     },
     "metadata": {},
     "output_type": "display_data"
    },
    {
     "data": {
      "text/html": [
       " View run at <a href='https://wandb.ai/walt_/dose-prediction/runs/037j003l' target=\"_blank\">https://wandb.ai/walt_/dose-prediction/runs/037j003l</a>"
      ],
      "text/plain": [
       "<IPython.core.display.HTML object>"
      ]
     },
     "metadata": {},
     "output_type": "display_data"
    },
    {
     "name": "stdout",
     "output_type": "stream",
     "text": [
      "Active Feature Config: {'activation_function': 'tanh', 'batch_size': 16, 'epochs': 15, 'include_edis': False, 'include_mgdis': True, 'include_mpc': False, 'include_sharpness': False, 'include_texture': False, 'learning_rate': 0.005, 'loss_function': 'mean_absolute_error'}\n",
      "Subset X_train shape: (9766, 1)\n",
      "Subset X_val shape: (2790, 1)\n",
      "Subset X_test shape: (1396, 1)\n",
      "Calculated input_dim: 1\n",
      "Epoch 1/15\n",
      "611/611 - 3s - 5ms/step - loss: 0.2977 - mae: 0.2977 - val_loss: 0.2937 - val_mae: 0.2937\n",
      "Epoch 2/15\n",
      "611/611 - 1s - 2ms/step - loss: 0.2965 - mae: 0.2965 - val_loss: 0.2906 - val_mae: 0.2906\n",
      "Epoch 3/15\n",
      "611/611 - 1s - 2ms/step - loss: 0.2958 - mae: 0.2958 - val_loss: 0.2995 - val_mae: 0.2995\n",
      "Epoch 4/15\n",
      "611/611 - 1s - 2ms/step - loss: 0.2956 - mae: 0.2956 - val_loss: 0.2925 - val_mae: 0.2925\n",
      "Epoch 5/15\n",
      "611/611 - 1s - 2ms/step - loss: 0.2725 - mae: 0.2725 - val_loss: 0.2550 - val_mae: 0.2550\n",
      "Epoch 6/15\n",
      "611/611 - 1s - 2ms/step - loss: 0.2454 - mae: 0.2454 - val_loss: 0.2399 - val_mae: 0.2399\n",
      "Epoch 7/15\n",
      "611/611 - 1s - 2ms/step - loss: 0.2409 - mae: 0.2409 - val_loss: 0.2380 - val_mae: 0.2380\n",
      "Epoch 8/15\n",
      "611/611 - 1s - 2ms/step - loss: 0.2392 - mae: 0.2392 - val_loss: 0.2342 - val_mae: 0.2342\n",
      "Epoch 9/15\n",
      "611/611 - 1s - 2ms/step - loss: 0.2383 - mae: 0.2383 - val_loss: 0.2340 - val_mae: 0.2340\n",
      "Epoch 10/15\n",
      "611/611 - 1s - 2ms/step - loss: 0.2347 - mae: 0.2347 - val_loss: 0.2543 - val_mae: 0.2543\n",
      "Epoch 11/15\n",
      "611/611 - 1s - 2ms/step - loss: 0.2382 - mae: 0.2382 - val_loss: 0.2321 - val_mae: 0.2321\n",
      "Epoch 12/15\n",
      "611/611 - 1s - 2ms/step - loss: 0.2379 - mae: 0.2379 - val_loss: 0.2324 - val_mae: 0.2324\n",
      "Epoch 13/15\n",
      "611/611 - 1s - 2ms/step - loss: 0.2373 - mae: 0.2373 - val_loss: 0.2406 - val_mae: 0.2406\n",
      "Epoch 14/15\n",
      "611/611 - 1s - 2ms/step - loss: 0.2377 - mae: 0.2377 - val_loss: 0.2321 - val_mae: 0.2321\n",
      "Epoch 15/15\n",
      "611/611 - 1s - 2ms/step - loss: 0.2377 - mae: 0.2377 - val_loss: 0.2507 - val_mae: 0.2507\n",
      "\u001b[1m44/44\u001b[0m \u001b[32m━━━━━━━━━━━━━━━━━━━━\u001b[0m\u001b[37m\u001b[0m \u001b[1m0s\u001b[0m 5ms/step\n"
     ]
    },
    {
     "data": {
      "text/html": [
       "\n",
       "    <style>\n",
       "        .wandb-row {\n",
       "            display: flex;\n",
       "            flex-direction: row;\n",
       "            flex-wrap: wrap;\n",
       "            justify-content: flex-start;\n",
       "            width: 100%;\n",
       "        }\n",
       "        .wandb-col {\n",
       "            display: flex;\n",
       "            flex-direction: column;\n",
       "            flex-basis: 100%;\n",
       "            flex: 1;\n",
       "            padding: 10px;\n",
       "        }\n",
       "    </style>\n",
       "<div class=\"wandb-row\"><div class=\"wandb-col\"><h3>Run history:</h3><br/><table class=\"wandb\"><tr><td>Max Absolute Error (Test)</td><td>▁</td></tr><tr><td>Mean Absolute Error (Test)</td><td>▁</td></tr><tr><td>R²</td><td>▁</td></tr><tr><td>Test Loss</td><td>▁</td></tr><tr><td>Test MAE</td><td>▁</td></tr><tr><td>epoch</td><td>▁▁▂▃▃▃▄▅▅▅▆▇▇▇█</td></tr><tr><td>epoch/epoch</td><td>▁▁▂▃▃▃▄▅▅▅▆▇▇▇█</td></tr><tr><td>epoch/learning_rate</td><td>▁▁▁▁▁▁▁▁▁▁▁▁▁▁▁</td></tr><tr><td>epoch/loss</td><td>████▅▂▂▁▁▁▁▁▁▁▁</td></tr><tr><td>epoch/mae</td><td>████▅▂▂▁▁▁▁▁▁▁▁</td></tr><tr><td>epoch/val_loss</td><td>▇▇█▇▃▂▂▁▁▃▁▁▂▁▃</td></tr><tr><td>epoch/val_mae</td><td>▇▇█▇▃▂▂▁▁▃▁▁▂▁▃</td></tr><tr><td>train_loss</td><td>████▅▂▂▁▁▁▁▁▁▁▁</td></tr><tr><td>train_mae</td><td>████▅▂▂▁▁▁▁▁▁▁▁</td></tr><tr><td>val_loss</td><td>▇▇█▇▃▂▂▁▁▃▁▁▂▁▃</td></tr><tr><td>val_mae</td><td>▇▇█▇▃▂▂▁▁▃▁▁▂▁▃</td></tr></table><br/></div><div class=\"wandb-col\"><h3>Run summary:</h3><br/><table class=\"wandb\"><tr><td>Max Absolute Error (Test)</td><td>0.95815</td></tr><tr><td>Mean Absolute Error (Test)</td><td>0.25176</td></tr><tr><td>R²</td><td>0.13303</td></tr><tr><td>Test Loss</td><td>0.25176</td></tr><tr><td>Test MAE</td><td>0.25176</td></tr><tr><td>epoch</td><td>14</td></tr><tr><td>epoch/epoch</td><td>14</td></tr><tr><td>epoch/learning_rate</td><td>0.005</td></tr><tr><td>epoch/loss</td><td>0.23774</td></tr><tr><td>epoch/mae</td><td>0.23774</td></tr><tr><td>epoch/val_loss</td><td>0.25072</td></tr><tr><td>epoch/val_mae</td><td>0.25072</td></tr><tr><td>train_loss</td><td>0.23774</td></tr><tr><td>train_mae</td><td>0.23774</td></tr><tr><td>val_loss</td><td>0.25072</td></tr><tr><td>val_mae</td><td>0.25072</td></tr></table><br/></div></div>"
      ],
      "text/plain": [
       "<IPython.core.display.HTML object>"
      ]
     },
     "metadata": {},
     "output_type": "display_data"
    },
    {
     "data": {
      "text/html": [
       " View run <strong style=\"color:#cdcd00\">vivid-sweep-8</strong> at: <a href='https://wandb.ai/walt_/dose-prediction/runs/037j003l' target=\"_blank\">https://wandb.ai/walt_/dose-prediction/runs/037j003l</a><br/> View project at: <a href='https://wandb.ai/walt_/dose-prediction' target=\"_blank\">https://wandb.ai/walt_/dose-prediction</a><br/>Synced 5 W&B file(s), 0 media file(s), 0 artifact file(s) and 0 other file(s)"
      ],
      "text/plain": [
       "<IPython.core.display.HTML object>"
      ]
     },
     "metadata": {},
     "output_type": "display_data"
    },
    {
     "data": {
      "text/html": [
       "Find logs at: <code>./wandb/run-20241124_151652-037j003l/logs</code>"
      ],
      "text/plain": [
       "<IPython.core.display.HTML object>"
      ]
     },
     "metadata": {},
     "output_type": "display_data"
    },
    {
     "name": "stderr",
     "output_type": "stream",
     "text": [
      "\u001b[34m\u001b[1mwandb\u001b[0m: Agent Starting Run: negrhnz2 with config:\n",
      "\u001b[34m\u001b[1mwandb\u001b[0m: \tactivation_function: tanh\n",
      "\u001b[34m\u001b[1mwandb\u001b[0m: \tbatch_size: 16\n",
      "\u001b[34m\u001b[1mwandb\u001b[0m: \tepochs: 15\n",
      "\u001b[34m\u001b[1mwandb\u001b[0m: \tinclude_edis: False\n",
      "\u001b[34m\u001b[1mwandb\u001b[0m: \tinclude_mgdis: False\n",
      "\u001b[34m\u001b[1mwandb\u001b[0m: \tinclude_mpc: True\n",
      "\u001b[34m\u001b[1mwandb\u001b[0m: \tinclude_sharpness: True\n",
      "\u001b[34m\u001b[1mwandb\u001b[0m: \tinclude_texture: True\n",
      "\u001b[34m\u001b[1mwandb\u001b[0m: \tlearning_rate: 0.005\n",
      "\u001b[34m\u001b[1mwandb\u001b[0m: \tloss_function: mean_absolute_error\n"
     ]
    },
    {
     "data": {
      "text/html": [
       "Tracking run with wandb version 0.18.7"
      ],
      "text/plain": [
       "<IPython.core.display.HTML object>"
      ]
     },
     "metadata": {},
     "output_type": "display_data"
    },
    {
     "data": {
      "text/html": [
       "Run data is saved locally in <code>/home/walt/FociNet/wandb/run-20241124_151717-negrhnz2</code>"
      ],
      "text/plain": [
       "<IPython.core.display.HTML object>"
      ]
     },
     "metadata": {},
     "output_type": "display_data"
    },
    {
     "data": {
      "text/html": [
       "Syncing run <strong><a href='https://wandb.ai/walt_/dose-prediction/runs/negrhnz2' target=\"_blank\">likely-sweep-9</a></strong> to <a href='https://wandb.ai/walt_/dose-prediction' target=\"_blank\">Weights & Biases</a> (<a href='https://wandb.me/developer-guide' target=\"_blank\">docs</a>)<br/>Sweep page: <a href='https://wandb.ai/walt_/dose-prediction/sweeps/ijck5aqp' target=\"_blank\">https://wandb.ai/walt_/dose-prediction/sweeps/ijck5aqp</a>"
      ],
      "text/plain": [
       "<IPython.core.display.HTML object>"
      ]
     },
     "metadata": {},
     "output_type": "display_data"
    },
    {
     "data": {
      "text/html": [
       " View project at <a href='https://wandb.ai/walt_/dose-prediction' target=\"_blank\">https://wandb.ai/walt_/dose-prediction</a>"
      ],
      "text/plain": [
       "<IPython.core.display.HTML object>"
      ]
     },
     "metadata": {},
     "output_type": "display_data"
    },
    {
     "data": {
      "text/html": [
       " View sweep at <a href='https://wandb.ai/walt_/dose-prediction/sweeps/ijck5aqp' target=\"_blank\">https://wandb.ai/walt_/dose-prediction/sweeps/ijck5aqp</a>"
      ],
      "text/plain": [
       "<IPython.core.display.HTML object>"
      ]
     },
     "metadata": {},
     "output_type": "display_data"
    },
    {
     "data": {
      "text/html": [
       " View run at <a href='https://wandb.ai/walt_/dose-prediction/runs/negrhnz2' target=\"_blank\">https://wandb.ai/walt_/dose-prediction/runs/negrhnz2</a>"
      ],
      "text/plain": [
       "<IPython.core.display.HTML object>"
      ]
     },
     "metadata": {},
     "output_type": "display_data"
    },
    {
     "name": "stdout",
     "output_type": "stream",
     "text": [
      "Active Feature Config: {'activation_function': 'tanh', 'batch_size': 16, 'epochs': 15, 'include_edis': False, 'include_mgdis': False, 'include_mpc': True, 'include_sharpness': True, 'include_texture': True, 'learning_rate': 0.005, 'loss_function': 'mean_absolute_error'}\n",
      "Subset X_train shape: (9766, 5)\n",
      "Subset X_val shape: (2790, 5)\n",
      "Subset X_test shape: (1396, 5)\n",
      "Calculated input_dim: 5\n",
      "Epoch 1/15\n",
      "611/611 - 3s - 5ms/step - loss: 0.2953 - mae: 0.2953 - val_loss: 0.2690 - val_mae: 0.2690\n",
      "Epoch 2/15\n",
      "611/611 - 2s - 3ms/step - loss: 0.2485 - mae: 0.2485 - val_loss: 0.2155 - val_mae: 0.2155\n",
      "Epoch 3/15\n",
      "611/611 - 1s - 2ms/step - loss: 0.2146 - mae: 0.2146 - val_loss: 0.2341 - val_mae: 0.2341\n",
      "Epoch 4/15\n",
      "611/611 - 1s - 2ms/step - loss: 0.2038 - mae: 0.2038 - val_loss: 0.1966 - val_mae: 0.1966\n",
      "Epoch 5/15\n",
      "611/611 - 1s - 2ms/step - loss: 0.1968 - mae: 0.1968 - val_loss: 0.2217 - val_mae: 0.2217\n",
      "Epoch 6/15\n",
      "611/611 - 1s - 2ms/step - loss: 0.1930 - mae: 0.1930 - val_loss: 0.1913 - val_mae: 0.1913\n",
      "Epoch 7/15\n",
      "611/611 - 1s - 2ms/step - loss: 0.1912 - mae: 0.1912 - val_loss: 0.2133 - val_mae: 0.2133\n",
      "Epoch 8/15\n",
      "611/611 - 1s - 2ms/step - loss: 0.1885 - mae: 0.1885 - val_loss: 0.1886 - val_mae: 0.1886\n",
      "Epoch 9/15\n",
      "611/611 - 1s - 2ms/step - loss: 0.1856 - mae: 0.1856 - val_loss: 0.1827 - val_mae: 0.1827\n",
      "Epoch 10/15\n",
      "611/611 - 1s - 2ms/step - loss: 0.1870 - mae: 0.1870 - val_loss: 0.2131 - val_mae: 0.2131\n",
      "Epoch 11/15\n",
      "611/611 - 1s - 2ms/step - loss: 0.1861 - mae: 0.1861 - val_loss: 0.1934 - val_mae: 0.1934\n",
      "Epoch 12/15\n",
      "611/611 - 1s - 2ms/step - loss: 0.1820 - mae: 0.1820 - val_loss: 0.1801 - val_mae: 0.1801\n",
      "Epoch 13/15\n",
      "611/611 - 1s - 2ms/step - loss: 0.1804 - mae: 0.1804 - val_loss: 0.1861 - val_mae: 0.1861\n",
      "Epoch 14/15\n",
      "611/611 - 1s - 2ms/step - loss: 0.1803 - mae: 0.1803 - val_loss: 0.1825 - val_mae: 0.1825\n",
      "Epoch 15/15\n",
      "611/611 - 1s - 2ms/step - loss: 0.1816 - mae: 0.1816 - val_loss: 0.1819 - val_mae: 0.1819\n",
      "\u001b[1m44/44\u001b[0m \u001b[32m━━━━━━━━━━━━━━━━━━━━\u001b[0m\u001b[37m\u001b[0m \u001b[1m0s\u001b[0m 4ms/step\n"
     ]
    },
    {
     "data": {
      "text/html": [
       "\n",
       "    <style>\n",
       "        .wandb-row {\n",
       "            display: flex;\n",
       "            flex-direction: row;\n",
       "            flex-wrap: wrap;\n",
       "            justify-content: flex-start;\n",
       "            width: 100%;\n",
       "        }\n",
       "        .wandb-col {\n",
       "            display: flex;\n",
       "            flex-direction: column;\n",
       "            flex-basis: 100%;\n",
       "            flex: 1;\n",
       "            padding: 10px;\n",
       "        }\n",
       "    </style>\n",
       "<div class=\"wandb-row\"><div class=\"wandb-col\"><h3>Run history:</h3><br/><table class=\"wandb\"><tr><td>Max Absolute Error (Test)</td><td>▁</td></tr><tr><td>Mean Absolute Error (Test)</td><td>▁</td></tr><tr><td>R²</td><td>▁</td></tr><tr><td>Test Loss</td><td>▁</td></tr><tr><td>Test MAE</td><td>▁</td></tr><tr><td>epoch</td><td>▁▁▂▃▃▃▄▅▅▅▆▇▇▇█</td></tr><tr><td>epoch/epoch</td><td>▁▁▂▃▃▃▄▅▅▅▆▇▇▇█</td></tr><tr><td>epoch/learning_rate</td><td>▁▁▁▁▁▁▁▁▁▁▁▁▁▁▁</td></tr><tr><td>epoch/loss</td><td>█▅▃▂▂▂▂▁▁▁▁▁▁▁▁</td></tr><tr><td>epoch/mae</td><td>█▅▃▂▂▂▂▁▁▁▁▁▁▁▁</td></tr><tr><td>epoch/val_loss</td><td>█▄▅▂▄▂▄▂▁▄▂▁▁▁▁</td></tr><tr><td>epoch/val_mae</td><td>█▄▅▂▄▂▄▂▁▄▂▁▁▁▁</td></tr><tr><td>train_loss</td><td>█▅▃▂▂▂▂▁▁▁▁▁▁▁▁</td></tr><tr><td>train_mae</td><td>█▅▃▂▂▂▂▁▁▁▁▁▁▁▁</td></tr><tr><td>val_loss</td><td>█▄▅▂▄▂▄▂▁▄▂▁▁▁▁</td></tr><tr><td>val_mae</td><td>█▄▅▂▄▂▄▂▁▄▂▁▁▁▁</td></tr></table><br/></div><div class=\"wandb-col\"><h3>Run summary:</h3><br/><table class=\"wandb\"><tr><td>Max Absolute Error (Test)</td><td>1.01895</td></tr><tr><td>Mean Absolute Error (Test)</td><td>0.1728</td></tr><tr><td>R²</td><td>0.37843</td></tr><tr><td>Test Loss</td><td>0.1728</td></tr><tr><td>Test MAE</td><td>0.1728</td></tr><tr><td>epoch</td><td>14</td></tr><tr><td>epoch/epoch</td><td>14</td></tr><tr><td>epoch/learning_rate</td><td>0.005</td></tr><tr><td>epoch/loss</td><td>0.18155</td></tr><tr><td>epoch/mae</td><td>0.18155</td></tr><tr><td>epoch/val_loss</td><td>0.1819</td></tr><tr><td>epoch/val_mae</td><td>0.1819</td></tr><tr><td>train_loss</td><td>0.18155</td></tr><tr><td>train_mae</td><td>0.18155</td></tr><tr><td>val_loss</td><td>0.1819</td></tr><tr><td>val_mae</td><td>0.1819</td></tr></table><br/></div></div>"
      ],
      "text/plain": [
       "<IPython.core.display.HTML object>"
      ]
     },
     "metadata": {},
     "output_type": "display_data"
    },
    {
     "data": {
      "text/html": [
       " View run <strong style=\"color:#cdcd00\">likely-sweep-9</strong> at: <a href='https://wandb.ai/walt_/dose-prediction/runs/negrhnz2' target=\"_blank\">https://wandb.ai/walt_/dose-prediction/runs/negrhnz2</a><br/> View project at: <a href='https://wandb.ai/walt_/dose-prediction' target=\"_blank\">https://wandb.ai/walt_/dose-prediction</a><br/>Synced 5 W&B file(s), 0 media file(s), 0 artifact file(s) and 0 other file(s)"
      ],
      "text/plain": [
       "<IPython.core.display.HTML object>"
      ]
     },
     "metadata": {},
     "output_type": "display_data"
    },
    {
     "data": {
      "text/html": [
       "Find logs at: <code>./wandb/run-20241124_151717-negrhnz2/logs</code>"
      ],
      "text/plain": [
       "<IPython.core.display.HTML object>"
      ]
     },
     "metadata": {},
     "output_type": "display_data"
    },
    {
     "name": "stderr",
     "output_type": "stream",
     "text": [
      "\u001b[34m\u001b[1mwandb\u001b[0m: Agent Starting Run: rz3qwp5r with config:\n",
      "\u001b[34m\u001b[1mwandb\u001b[0m: \tactivation_function: tanh\n",
      "\u001b[34m\u001b[1mwandb\u001b[0m: \tbatch_size: 16\n",
      "\u001b[34m\u001b[1mwandb\u001b[0m: \tepochs: 15\n",
      "\u001b[34m\u001b[1mwandb\u001b[0m: \tinclude_edis: False\n",
      "\u001b[34m\u001b[1mwandb\u001b[0m: \tinclude_mgdis: False\n",
      "\u001b[34m\u001b[1mwandb\u001b[0m: \tinclude_mpc: True\n",
      "\u001b[34m\u001b[1mwandb\u001b[0m: \tinclude_sharpness: True\n",
      "\u001b[34m\u001b[1mwandb\u001b[0m: \tinclude_texture: False\n",
      "\u001b[34m\u001b[1mwandb\u001b[0m: \tlearning_rate: 0.005\n",
      "\u001b[34m\u001b[1mwandb\u001b[0m: \tloss_function: mean_absolute_error\n"
     ]
    },
    {
     "data": {
      "text/html": [
       "Tracking run with wandb version 0.18.7"
      ],
      "text/plain": [
       "<IPython.core.display.HTML object>"
      ]
     },
     "metadata": {},
     "output_type": "display_data"
    },
    {
     "data": {
      "text/html": [
       "Run data is saved locally in <code>/home/walt/FociNet/wandb/run-20241124_151742-rz3qwp5r</code>"
      ],
      "text/plain": [
       "<IPython.core.display.HTML object>"
      ]
     },
     "metadata": {},
     "output_type": "display_data"
    },
    {
     "data": {
      "text/html": [
       "Syncing run <strong><a href='https://wandb.ai/walt_/dose-prediction/runs/rz3qwp5r' target=\"_blank\">vital-sweep-10</a></strong> to <a href='https://wandb.ai/walt_/dose-prediction' target=\"_blank\">Weights & Biases</a> (<a href='https://wandb.me/developer-guide' target=\"_blank\">docs</a>)<br/>Sweep page: <a href='https://wandb.ai/walt_/dose-prediction/sweeps/ijck5aqp' target=\"_blank\">https://wandb.ai/walt_/dose-prediction/sweeps/ijck5aqp</a>"
      ],
      "text/plain": [
       "<IPython.core.display.HTML object>"
      ]
     },
     "metadata": {},
     "output_type": "display_data"
    },
    {
     "data": {
      "text/html": [
       " View project at <a href='https://wandb.ai/walt_/dose-prediction' target=\"_blank\">https://wandb.ai/walt_/dose-prediction</a>"
      ],
      "text/plain": [
       "<IPython.core.display.HTML object>"
      ]
     },
     "metadata": {},
     "output_type": "display_data"
    },
    {
     "data": {
      "text/html": [
       " View sweep at <a href='https://wandb.ai/walt_/dose-prediction/sweeps/ijck5aqp' target=\"_blank\">https://wandb.ai/walt_/dose-prediction/sweeps/ijck5aqp</a>"
      ],
      "text/plain": [
       "<IPython.core.display.HTML object>"
      ]
     },
     "metadata": {},
     "output_type": "display_data"
    },
    {
     "data": {
      "text/html": [
       " View run at <a href='https://wandb.ai/walt_/dose-prediction/runs/rz3qwp5r' target=\"_blank\">https://wandb.ai/walt_/dose-prediction/runs/rz3qwp5r</a>"
      ],
      "text/plain": [
       "<IPython.core.display.HTML object>"
      ]
     },
     "metadata": {},
     "output_type": "display_data"
    },
    {
     "name": "stdout",
     "output_type": "stream",
     "text": [
      "Active Feature Config: {'activation_function': 'tanh', 'batch_size': 16, 'epochs': 15, 'include_edis': False, 'include_mgdis': False, 'include_mpc': True, 'include_sharpness': True, 'include_texture': False, 'learning_rate': 0.005, 'loss_function': 'mean_absolute_error'}\n",
      "Subset X_train shape: (9766, 3)\n",
      "Subset X_val shape: (2790, 3)\n",
      "Subset X_test shape: (1396, 3)\n",
      "Calculated input_dim: 3\n",
      "Epoch 1/15\n",
      "611/611 - 3s - 5ms/step - loss: 0.3010 - mae: 0.3010 - val_loss: 0.2956 - val_mae: 0.2956\n",
      "Epoch 2/15\n",
      "611/611 - 1s - 2ms/step - loss: 0.2839 - mae: 0.2839 - val_loss: 0.2489 - val_mae: 0.2489\n",
      "Epoch 3/15\n",
      "611/611 - 1s - 2ms/step - loss: 0.2457 - mae: 0.2457 - val_loss: 0.2405 - val_mae: 0.2405\n",
      "Epoch 4/15\n",
      "611/611 - 1s - 2ms/step - loss: 0.2398 - mae: 0.2398 - val_loss: 0.2319 - val_mae: 0.2319\n",
      "Epoch 5/15\n",
      "611/611 - 1s - 2ms/step - loss: 0.2352 - mae: 0.2352 - val_loss: 0.2306 - val_mae: 0.2306\n",
      "Epoch 6/15\n",
      "611/611 - 1s - 2ms/step - loss: 0.2351 - mae: 0.2351 - val_loss: 0.2339 - val_mae: 0.2339\n",
      "Epoch 7/15\n",
      "611/611 - 1s - 2ms/step - loss: 0.2355 - mae: 0.2355 - val_loss: 0.2457 - val_mae: 0.2457\n",
      "Epoch 8/15\n",
      "611/611 - 1s - 2ms/step - loss: 0.2339 - mae: 0.2339 - val_loss: 0.2277 - val_mae: 0.2277\n",
      "Epoch 9/15\n",
      "611/611 - 1s - 2ms/step - loss: 0.2310 - mae: 0.2310 - val_loss: 0.2277 - val_mae: 0.2277\n",
      "Epoch 10/15\n",
      "611/611 - 1s - 2ms/step - loss: 0.2309 - mae: 0.2309 - val_loss: 0.2262 - val_mae: 0.2262\n",
      "Epoch 11/15\n",
      "611/611 - 1s - 2ms/step - loss: 0.2302 - mae: 0.2302 - val_loss: 0.2231 - val_mae: 0.2231\n",
      "Epoch 12/15\n",
      "611/611 - 1s - 2ms/step - loss: 0.2286 - mae: 0.2286 - val_loss: 0.2262 - val_mae: 0.2262\n",
      "Epoch 13/15\n",
      "611/611 - 1s - 2ms/step - loss: 0.2288 - mae: 0.2288 - val_loss: 0.2305 - val_mae: 0.2305\n",
      "Epoch 14/15\n",
      "611/611 - 1s - 2ms/step - loss: 0.2291 - mae: 0.2291 - val_loss: 0.2218 - val_mae: 0.2218\n",
      "Epoch 15/15\n",
      "611/611 - 1s - 2ms/step - loss: 0.2290 - mae: 0.2290 - val_loss: 0.2259 - val_mae: 0.2259\n",
      "\u001b[1m44/44\u001b[0m \u001b[32m━━━━━━━━━━━━━━━━━━━━\u001b[0m\u001b[37m\u001b[0m \u001b[1m0s\u001b[0m 4ms/step\n"
     ]
    },
    {
     "data": {
      "text/html": [
       "\n",
       "    <style>\n",
       "        .wandb-row {\n",
       "            display: flex;\n",
       "            flex-direction: row;\n",
       "            flex-wrap: wrap;\n",
       "            justify-content: flex-start;\n",
       "            width: 100%;\n",
       "        }\n",
       "        .wandb-col {\n",
       "            display: flex;\n",
       "            flex-direction: column;\n",
       "            flex-basis: 100%;\n",
       "            flex: 1;\n",
       "            padding: 10px;\n",
       "        }\n",
       "    </style>\n",
       "<div class=\"wandb-row\"><div class=\"wandb-col\"><h3>Run history:</h3><br/><table class=\"wandb\"><tr><td>Max Absolute Error (Test)</td><td>▁</td></tr><tr><td>Mean Absolute Error (Test)</td><td>▁</td></tr><tr><td>R²</td><td>▁</td></tr><tr><td>Test Loss</td><td>▁</td></tr><tr><td>Test MAE</td><td>▁</td></tr><tr><td>epoch</td><td>▁▁▂▃▃▃▄▅▅▅▆▇▇▇█</td></tr><tr><td>epoch/epoch</td><td>▁▁▂▃▃▃▄▅▅▅▆▇▇▇█</td></tr><tr><td>epoch/learning_rate</td><td>▁▁▁▁▁▁▁▁▁▁▁▁▁▁▁</td></tr><tr><td>epoch/loss</td><td>█▆▃▂▂▂▂▂▁▁▁▁▁▁▁</td></tr><tr><td>epoch/mae</td><td>█▆▃▂▂▂▂▂▁▁▁▁▁▁▁</td></tr><tr><td>epoch/val_loss</td><td>█▄▃▂▂▂▃▂▂▁▁▁▂▁▁</td></tr><tr><td>epoch/val_mae</td><td>█▄▃▂▂▂▃▂▂▁▁▁▂▁▁</td></tr><tr><td>train_loss</td><td>█▆▃▂▂▂▂▂▁▁▁▁▁▁▁</td></tr><tr><td>train_mae</td><td>█▆▃▂▂▂▂▂▁▁▁▁▁▁▁</td></tr><tr><td>val_loss</td><td>█▄▃▂▂▂▃▂▂▁▁▁▂▁▁</td></tr><tr><td>val_mae</td><td>█▄▃▂▂▂▃▂▂▁▁▁▂▁▁</td></tr></table><br/></div><div class=\"wandb-col\"><h3>Run summary:</h3><br/><table class=\"wandb\"><tr><td>Max Absolute Error (Test)</td><td>0.99937</td></tr><tr><td>Mean Absolute Error (Test)</td><td>0.22553</td></tr><tr><td>R²</td><td>0.11506</td></tr><tr><td>Test Loss</td><td>0.22553</td></tr><tr><td>Test MAE</td><td>0.22553</td></tr><tr><td>epoch</td><td>14</td></tr><tr><td>epoch/epoch</td><td>14</td></tr><tr><td>epoch/learning_rate</td><td>0.005</td></tr><tr><td>epoch/loss</td><td>0.22904</td></tr><tr><td>epoch/mae</td><td>0.22904</td></tr><tr><td>epoch/val_loss</td><td>0.22585</td></tr><tr><td>epoch/val_mae</td><td>0.22585</td></tr><tr><td>train_loss</td><td>0.22904</td></tr><tr><td>train_mae</td><td>0.22904</td></tr><tr><td>val_loss</td><td>0.22585</td></tr><tr><td>val_mae</td><td>0.22585</td></tr></table><br/></div></div>"
      ],
      "text/plain": [
       "<IPython.core.display.HTML object>"
      ]
     },
     "metadata": {},
     "output_type": "display_data"
    },
    {
     "data": {
      "text/html": [
       " View run <strong style=\"color:#cdcd00\">vital-sweep-10</strong> at: <a href='https://wandb.ai/walt_/dose-prediction/runs/rz3qwp5r' target=\"_blank\">https://wandb.ai/walt_/dose-prediction/runs/rz3qwp5r</a><br/> View project at: <a href='https://wandb.ai/walt_/dose-prediction' target=\"_blank\">https://wandb.ai/walt_/dose-prediction</a><br/>Synced 5 W&B file(s), 0 media file(s), 0 artifact file(s) and 0 other file(s)"
      ],
      "text/plain": [
       "<IPython.core.display.HTML object>"
      ]
     },
     "metadata": {},
     "output_type": "display_data"
    },
    {
     "data": {
      "text/html": [
       "Find logs at: <code>./wandb/run-20241124_151742-rz3qwp5r/logs</code>"
      ],
      "text/plain": [
       "<IPython.core.display.HTML object>"
      ]
     },
     "metadata": {},
     "output_type": "display_data"
    },
    {
     "name": "stderr",
     "output_type": "stream",
     "text": [
      "\u001b[34m\u001b[1mwandb\u001b[0m: Agent Starting Run: ygd6q2nv with config:\n",
      "\u001b[34m\u001b[1mwandb\u001b[0m: \tactivation_function: tanh\n",
      "\u001b[34m\u001b[1mwandb\u001b[0m: \tbatch_size: 16\n",
      "\u001b[34m\u001b[1mwandb\u001b[0m: \tepochs: 15\n",
      "\u001b[34m\u001b[1mwandb\u001b[0m: \tinclude_edis: False\n",
      "\u001b[34m\u001b[1mwandb\u001b[0m: \tinclude_mgdis: False\n",
      "\u001b[34m\u001b[1mwandb\u001b[0m: \tinclude_mpc: True\n",
      "\u001b[34m\u001b[1mwandb\u001b[0m: \tinclude_sharpness: False\n",
      "\u001b[34m\u001b[1mwandb\u001b[0m: \tinclude_texture: True\n",
      "\u001b[34m\u001b[1mwandb\u001b[0m: \tlearning_rate: 0.005\n",
      "\u001b[34m\u001b[1mwandb\u001b[0m: \tloss_function: mean_absolute_error\n"
     ]
    },
    {
     "data": {
      "text/html": [
       "Tracking run with wandb version 0.18.7"
      ],
      "text/plain": [
       "<IPython.core.display.HTML object>"
      ]
     },
     "metadata": {},
     "output_type": "display_data"
    },
    {
     "data": {
      "text/html": [
       "Run data is saved locally in <code>/home/walt/FociNet/wandb/run-20241124_151808-ygd6q2nv</code>"
      ],
      "text/plain": [
       "<IPython.core.display.HTML object>"
      ]
     },
     "metadata": {},
     "output_type": "display_data"
    },
    {
     "data": {
      "text/html": [
       "Syncing run <strong><a href='https://wandb.ai/walt_/dose-prediction/runs/ygd6q2nv' target=\"_blank\">cerulean-sweep-11</a></strong> to <a href='https://wandb.ai/walt_/dose-prediction' target=\"_blank\">Weights & Biases</a> (<a href='https://wandb.me/developer-guide' target=\"_blank\">docs</a>)<br/>Sweep page: <a href='https://wandb.ai/walt_/dose-prediction/sweeps/ijck5aqp' target=\"_blank\">https://wandb.ai/walt_/dose-prediction/sweeps/ijck5aqp</a>"
      ],
      "text/plain": [
       "<IPython.core.display.HTML object>"
      ]
     },
     "metadata": {},
     "output_type": "display_data"
    },
    {
     "data": {
      "text/html": [
       " View project at <a href='https://wandb.ai/walt_/dose-prediction' target=\"_blank\">https://wandb.ai/walt_/dose-prediction</a>"
      ],
      "text/plain": [
       "<IPython.core.display.HTML object>"
      ]
     },
     "metadata": {},
     "output_type": "display_data"
    },
    {
     "data": {
      "text/html": [
       " View sweep at <a href='https://wandb.ai/walt_/dose-prediction/sweeps/ijck5aqp' target=\"_blank\">https://wandb.ai/walt_/dose-prediction/sweeps/ijck5aqp</a>"
      ],
      "text/plain": [
       "<IPython.core.display.HTML object>"
      ]
     },
     "metadata": {},
     "output_type": "display_data"
    },
    {
     "data": {
      "text/html": [
       " View run at <a href='https://wandb.ai/walt_/dose-prediction/runs/ygd6q2nv' target=\"_blank\">https://wandb.ai/walt_/dose-prediction/runs/ygd6q2nv</a>"
      ],
      "text/plain": [
       "<IPython.core.display.HTML object>"
      ]
     },
     "metadata": {},
     "output_type": "display_data"
    },
    {
     "name": "stdout",
     "output_type": "stream",
     "text": [
      "Active Feature Config: {'activation_function': 'tanh', 'batch_size': 16, 'epochs': 15, 'include_edis': False, 'include_mgdis': False, 'include_mpc': True, 'include_sharpness': False, 'include_texture': True, 'learning_rate': 0.005, 'loss_function': 'mean_absolute_error'}\n",
      "Subset X_train shape: (9766, 4)\n",
      "Subset X_val shape: (2790, 4)\n",
      "Subset X_test shape: (1396, 4)\n",
      "Calculated input_dim: 4\n",
      "Epoch 1/15\n",
      "611/611 - 3s - 4ms/step - loss: 0.2896 - mae: 0.2896 - val_loss: 0.2630 - val_mae: 0.2630\n",
      "Epoch 2/15\n",
      "611/611 - 1s - 2ms/step - loss: 0.2627 - mae: 0.2627 - val_loss: 0.2343 - val_mae: 0.2343\n",
      "Epoch 3/15\n",
      "611/611 - 1s - 2ms/step - loss: 0.2163 - mae: 0.2163 - val_loss: 0.2140 - val_mae: 0.2140\n",
      "Epoch 4/15\n",
      "611/611 - 1s - 2ms/step - loss: 0.2057 - mae: 0.2057 - val_loss: 0.2213 - val_mae: 0.2213\n",
      "Epoch 5/15\n",
      "611/611 - 1s - 2ms/step - loss: 0.1991 - mae: 0.1991 - val_loss: 0.1973 - val_mae: 0.1973\n",
      "Epoch 6/15\n",
      "611/611 - 1s - 2ms/step - loss: 0.1934 - mae: 0.1934 - val_loss: 0.1951 - val_mae: 0.1951\n",
      "Epoch 7/15\n",
      "611/611 - 1s - 2ms/step - loss: 0.1933 - mae: 0.1933 - val_loss: 0.1950 - val_mae: 0.1950\n",
      "Epoch 8/15\n",
      "611/611 - 1s - 2ms/step - loss: 0.1916 - mae: 0.1916 - val_loss: 0.1958 - val_mae: 0.1958\n",
      "Epoch 9/15\n",
      "611/611 - 1s - 2ms/step - loss: 0.1915 - mae: 0.1915 - val_loss: 0.1914 - val_mae: 0.1914\n",
      "Epoch 10/15\n",
      "611/611 - 1s - 2ms/step - loss: 0.1899 - mae: 0.1899 - val_loss: 0.1890 - val_mae: 0.1890\n",
      "Epoch 11/15\n",
      "611/611 - 1s - 2ms/step - loss: 0.1905 - mae: 0.1905 - val_loss: 0.1895 - val_mae: 0.1895\n",
      "Epoch 12/15\n",
      "611/611 - 1s - 2ms/step - loss: 0.1872 - mae: 0.1872 - val_loss: 0.1912 - val_mae: 0.1912\n",
      "Epoch 13/15\n",
      "611/611 - 1s - 2ms/step - loss: 0.1878 - mae: 0.1878 - val_loss: 0.1918 - val_mae: 0.1918\n",
      "Epoch 14/15\n",
      "611/611 - 1s - 2ms/step - loss: 0.1843 - mae: 0.1843 - val_loss: 0.1868 - val_mae: 0.1868\n",
      "Epoch 15/15\n",
      "611/611 - 1s - 2ms/step - loss: 0.1846 - mae: 0.1846 - val_loss: 0.1951 - val_mae: 0.1951\n",
      "\u001b[1m44/44\u001b[0m \u001b[32m━━━━━━━━━━━━━━━━━━━━\u001b[0m\u001b[37m\u001b[0m \u001b[1m0s\u001b[0m 4ms/step\n"
     ]
    },
    {
     "data": {
      "text/html": [
       "\n",
       "    <style>\n",
       "        .wandb-row {\n",
       "            display: flex;\n",
       "            flex-direction: row;\n",
       "            flex-wrap: wrap;\n",
       "            justify-content: flex-start;\n",
       "            width: 100%;\n",
       "        }\n",
       "        .wandb-col {\n",
       "            display: flex;\n",
       "            flex-direction: column;\n",
       "            flex-basis: 100%;\n",
       "            flex: 1;\n",
       "            padding: 10px;\n",
       "        }\n",
       "    </style>\n",
       "<div class=\"wandb-row\"><div class=\"wandb-col\"><h3>Run history:</h3><br/><table class=\"wandb\"><tr><td>Max Absolute Error (Test)</td><td>▁</td></tr><tr><td>Mean Absolute Error (Test)</td><td>▁</td></tr><tr><td>R²</td><td>▁</td></tr><tr><td>Test Loss</td><td>▁</td></tr><tr><td>Test MAE</td><td>▁</td></tr><tr><td>epoch</td><td>▁▁▂▃▃▃▄▅▅▅▆▇▇▇█</td></tr><tr><td>epoch/epoch</td><td>▁▁▂▃▃▃▄▅▅▅▆▇▇▇█</td></tr><tr><td>epoch/learning_rate</td><td>▁▁▁▁▁▁▁▁▁▁▁▁▁▁▁</td></tr><tr><td>epoch/loss</td><td>█▆▃▂▂▂▂▁▁▁▁▁▁▁▁</td></tr><tr><td>epoch/mae</td><td>█▆▃▂▂▂▂▁▁▁▁▁▁▁▁</td></tr><tr><td>epoch/val_loss</td><td>█▅▃▄▂▂▂▂▁▁▁▁▁▁▂</td></tr><tr><td>epoch/val_mae</td><td>█▅▃▄▂▂▂▂▁▁▁▁▁▁▂</td></tr><tr><td>train_loss</td><td>█▆▃▂▂▂▂▁▁▁▁▁▁▁▁</td></tr><tr><td>train_mae</td><td>█▆▃▂▂▂▂▁▁▁▁▁▁▁▁</td></tr><tr><td>val_loss</td><td>█▅▃▄▂▂▂▂▁▁▁▁▁▁▂</td></tr><tr><td>val_mae</td><td>█▅▃▄▂▂▂▂▁▁▁▁▁▁▂</td></tr></table><br/></div><div class=\"wandb-col\"><h3>Run summary:</h3><br/><table class=\"wandb\"><tr><td>Max Absolute Error (Test)</td><td>1.00191</td></tr><tr><td>Mean Absolute Error (Test)</td><td>0.18116</td></tr><tr><td>R²</td><td>0.33424</td></tr><tr><td>Test Loss</td><td>0.18116</td></tr><tr><td>Test MAE</td><td>0.18116</td></tr><tr><td>epoch</td><td>14</td></tr><tr><td>epoch/epoch</td><td>14</td></tr><tr><td>epoch/learning_rate</td><td>0.005</td></tr><tr><td>epoch/loss</td><td>0.18458</td></tr><tr><td>epoch/mae</td><td>0.18458</td></tr><tr><td>epoch/val_loss</td><td>0.19506</td></tr><tr><td>epoch/val_mae</td><td>0.19506</td></tr><tr><td>train_loss</td><td>0.18458</td></tr><tr><td>train_mae</td><td>0.18458</td></tr><tr><td>val_loss</td><td>0.19506</td></tr><tr><td>val_mae</td><td>0.19506</td></tr></table><br/></div></div>"
      ],
      "text/plain": [
       "<IPython.core.display.HTML object>"
      ]
     },
     "metadata": {},
     "output_type": "display_data"
    },
    {
     "data": {
      "text/html": [
       " View run <strong style=\"color:#cdcd00\">cerulean-sweep-11</strong> at: <a href='https://wandb.ai/walt_/dose-prediction/runs/ygd6q2nv' target=\"_blank\">https://wandb.ai/walt_/dose-prediction/runs/ygd6q2nv</a><br/> View project at: <a href='https://wandb.ai/walt_/dose-prediction' target=\"_blank\">https://wandb.ai/walt_/dose-prediction</a><br/>Synced 5 W&B file(s), 0 media file(s), 0 artifact file(s) and 0 other file(s)"
      ],
      "text/plain": [
       "<IPython.core.display.HTML object>"
      ]
     },
     "metadata": {},
     "output_type": "display_data"
    },
    {
     "data": {
      "text/html": [
       "Find logs at: <code>./wandb/run-20241124_151808-ygd6q2nv/logs</code>"
      ],
      "text/plain": [
       "<IPython.core.display.HTML object>"
      ]
     },
     "metadata": {},
     "output_type": "display_data"
    },
    {
     "name": "stderr",
     "output_type": "stream",
     "text": [
      "\u001b[34m\u001b[1mwandb\u001b[0m: Agent Starting Run: qkfg2fcm with config:\n",
      "\u001b[34m\u001b[1mwandb\u001b[0m: \tactivation_function: tanh\n",
      "\u001b[34m\u001b[1mwandb\u001b[0m: \tbatch_size: 16\n",
      "\u001b[34m\u001b[1mwandb\u001b[0m: \tepochs: 15\n",
      "\u001b[34m\u001b[1mwandb\u001b[0m: \tinclude_edis: False\n",
      "\u001b[34m\u001b[1mwandb\u001b[0m: \tinclude_mgdis: False\n",
      "\u001b[34m\u001b[1mwandb\u001b[0m: \tinclude_mpc: True\n",
      "\u001b[34m\u001b[1mwandb\u001b[0m: \tinclude_sharpness: False\n",
      "\u001b[34m\u001b[1mwandb\u001b[0m: \tinclude_texture: False\n",
      "\u001b[34m\u001b[1mwandb\u001b[0m: \tlearning_rate: 0.005\n",
      "\u001b[34m\u001b[1mwandb\u001b[0m: \tloss_function: mean_absolute_error\n"
     ]
    },
    {
     "data": {
      "text/html": [
       "Tracking run with wandb version 0.18.7"
      ],
      "text/plain": [
       "<IPython.core.display.HTML object>"
      ]
     },
     "metadata": {},
     "output_type": "display_data"
    },
    {
     "data": {
      "text/html": [
       "Run data is saved locally in <code>/home/walt/FociNet/wandb/run-20241124_151834-qkfg2fcm</code>"
      ],
      "text/plain": [
       "<IPython.core.display.HTML object>"
      ]
     },
     "metadata": {},
     "output_type": "display_data"
    },
    {
     "data": {
      "text/html": [
       "Syncing run <strong><a href='https://wandb.ai/walt_/dose-prediction/runs/qkfg2fcm' target=\"_blank\">stoic-sweep-12</a></strong> to <a href='https://wandb.ai/walt_/dose-prediction' target=\"_blank\">Weights & Biases</a> (<a href='https://wandb.me/developer-guide' target=\"_blank\">docs</a>)<br/>Sweep page: <a href='https://wandb.ai/walt_/dose-prediction/sweeps/ijck5aqp' target=\"_blank\">https://wandb.ai/walt_/dose-prediction/sweeps/ijck5aqp</a>"
      ],
      "text/plain": [
       "<IPython.core.display.HTML object>"
      ]
     },
     "metadata": {},
     "output_type": "display_data"
    },
    {
     "data": {
      "text/html": [
       " View project at <a href='https://wandb.ai/walt_/dose-prediction' target=\"_blank\">https://wandb.ai/walt_/dose-prediction</a>"
      ],
      "text/plain": [
       "<IPython.core.display.HTML object>"
      ]
     },
     "metadata": {},
     "output_type": "display_data"
    },
    {
     "data": {
      "text/html": [
       " View sweep at <a href='https://wandb.ai/walt_/dose-prediction/sweeps/ijck5aqp' target=\"_blank\">https://wandb.ai/walt_/dose-prediction/sweeps/ijck5aqp</a>"
      ],
      "text/plain": [
       "<IPython.core.display.HTML object>"
      ]
     },
     "metadata": {},
     "output_type": "display_data"
    },
    {
     "data": {
      "text/html": [
       " View run at <a href='https://wandb.ai/walt_/dose-prediction/runs/qkfg2fcm' target=\"_blank\">https://wandb.ai/walt_/dose-prediction/runs/qkfg2fcm</a>"
      ],
      "text/plain": [
       "<IPython.core.display.HTML object>"
      ]
     },
     "metadata": {},
     "output_type": "display_data"
    },
    {
     "name": "stdout",
     "output_type": "stream",
     "text": [
      "Active Feature Config: {'activation_function': 'tanh', 'batch_size': 16, 'epochs': 15, 'include_edis': False, 'include_mgdis': False, 'include_mpc': True, 'include_sharpness': False, 'include_texture': False, 'learning_rate': 0.005, 'loss_function': 'mean_absolute_error'}\n",
      "Subset X_train shape: (9766, 2)\n",
      "Subset X_val shape: (2790, 2)\n",
      "Subset X_test shape: (1396, 2)\n",
      "Calculated input_dim: 2\n",
      "Epoch 1/15\n",
      "611/611 - 3s - 5ms/step - loss: 0.3003 - mae: 0.3003 - val_loss: 0.2988 - val_mae: 0.2988\n",
      "Epoch 2/15\n",
      "611/611 - 1s - 2ms/step - loss: 0.2958 - mae: 0.2958 - val_loss: 0.2881 - val_mae: 0.2881\n",
      "Epoch 3/15\n",
      "611/611 - 1s - 2ms/step - loss: 0.2937 - mae: 0.2937 - val_loss: 0.2934 - val_mae: 0.2934\n",
      "Epoch 4/15\n",
      "611/611 - 1s - 2ms/step - loss: 0.2627 - mae: 0.2627 - val_loss: 0.2442 - val_mae: 0.2442\n",
      "Epoch 5/15\n",
      "611/611 - 1s - 2ms/step - loss: 0.2436 - mae: 0.2436 - val_loss: 0.2412 - val_mae: 0.2412\n",
      "Epoch 6/15\n",
      "611/611 - 1s - 2ms/step - loss: 0.2400 - mae: 0.2400 - val_loss: 0.2375 - val_mae: 0.2375\n",
      "Epoch 7/15\n",
      "611/611 - 1s - 2ms/step - loss: 0.2416 - mae: 0.2416 - val_loss: 0.2357 - val_mae: 0.2357\n",
      "Epoch 8/15\n",
      "611/611 - 1s - 2ms/step - loss: 0.2348 - mae: 0.2348 - val_loss: 0.2333 - val_mae: 0.2333\n",
      "Epoch 9/15\n",
      "611/611 - 1s - 2ms/step - loss: 0.2361 - mae: 0.2361 - val_loss: 0.2294 - val_mae: 0.2294\n",
      "Epoch 10/15\n",
      "611/611 - 1s - 2ms/step - loss: 0.2344 - mae: 0.2344 - val_loss: 0.2300 - val_mae: 0.2300\n",
      "Epoch 11/15\n",
      "611/611 - 1s - 2ms/step - loss: 0.2347 - mae: 0.2347 - val_loss: 0.2279 - val_mae: 0.2279\n",
      "Epoch 12/15\n",
      "611/611 - 1s - 2ms/step - loss: 0.2332 - mae: 0.2332 - val_loss: 0.2354 - val_mae: 0.2354\n",
      "Epoch 13/15\n",
      "611/611 - 1s - 2ms/step - loss: 0.2309 - mae: 0.2309 - val_loss: 0.2306 - val_mae: 0.2306\n",
      "Epoch 14/15\n",
      "611/611 - 1s - 2ms/step - loss: 0.2326 - mae: 0.2326 - val_loss: 0.2288 - val_mae: 0.2288\n",
      "Epoch 15/15\n",
      "611/611 - 1s - 2ms/step - loss: 0.2307 - mae: 0.2307 - val_loss: 0.2358 - val_mae: 0.2358\n",
      "\u001b[1m44/44\u001b[0m \u001b[32m━━━━━━━━━━━━━━━━━━━━\u001b[0m\u001b[37m\u001b[0m \u001b[1m0s\u001b[0m 4ms/step\n"
     ]
    },
    {
     "data": {
      "text/html": [
       "\n",
       "    <style>\n",
       "        .wandb-row {\n",
       "            display: flex;\n",
       "            flex-direction: row;\n",
       "            flex-wrap: wrap;\n",
       "            justify-content: flex-start;\n",
       "            width: 100%;\n",
       "        }\n",
       "        .wandb-col {\n",
       "            display: flex;\n",
       "            flex-direction: column;\n",
       "            flex-basis: 100%;\n",
       "            flex: 1;\n",
       "            padding: 10px;\n",
       "        }\n",
       "    </style>\n",
       "<div class=\"wandb-row\"><div class=\"wandb-col\"><h3>Run history:</h3><br/><table class=\"wandb\"><tr><td>Max Absolute Error (Test)</td><td>▁</td></tr><tr><td>Mean Absolute Error (Test)</td><td>▁</td></tr><tr><td>R²</td><td>▁</td></tr><tr><td>Test Loss</td><td>▁</td></tr><tr><td>Test MAE</td><td>▁</td></tr><tr><td>epoch</td><td>▁▁▂▃▃▃▄▅▅▅▆▇▇▇█</td></tr><tr><td>epoch/epoch</td><td>▁▁▂▃▃▃▄▅▅▅▆▇▇▇█</td></tr><tr><td>epoch/learning_rate</td><td>▁▁▁▁▁▁▁▁▁▁▁▁▁▁▁</td></tr><tr><td>epoch/loss</td><td>██▇▄▂▂▂▁▂▁▁▁▁▁▁</td></tr><tr><td>epoch/mae</td><td>██▇▄▂▂▂▁▂▁▁▁▁▁▁</td></tr><tr><td>epoch/val_loss</td><td>█▇▇▃▂▂▂▂▁▁▁▂▁▁▂</td></tr><tr><td>epoch/val_mae</td><td>█▇▇▃▂▂▂▂▁▁▁▂▁▁▂</td></tr><tr><td>train_loss</td><td>██▇▄▂▂▂▁▂▁▁▁▁▁▁</td></tr><tr><td>train_mae</td><td>██▇▄▂▂▂▁▂▁▁▁▁▁▁</td></tr><tr><td>val_loss</td><td>█▇▇▃▂▂▂▂▁▁▁▂▁▁▂</td></tr><tr><td>val_mae</td><td>█▇▇▃▂▂▂▂▁▁▁▂▁▁▂</td></tr></table><br/></div><div class=\"wandb-col\"><h3>Run summary:</h3><br/><table class=\"wandb\"><tr><td>Max Absolute Error (Test)</td><td>1.01318</td></tr><tr><td>Mean Absolute Error (Test)</td><td>0.23889</td></tr><tr><td>R²</td><td>0.11371</td></tr><tr><td>Test Loss</td><td>0.23889</td></tr><tr><td>Test MAE</td><td>0.23889</td></tr><tr><td>epoch</td><td>14</td></tr><tr><td>epoch/epoch</td><td>14</td></tr><tr><td>epoch/learning_rate</td><td>0.005</td></tr><tr><td>epoch/loss</td><td>0.2307</td></tr><tr><td>epoch/mae</td><td>0.2307</td></tr><tr><td>epoch/val_loss</td><td>0.23578</td></tr><tr><td>epoch/val_mae</td><td>0.23578</td></tr><tr><td>train_loss</td><td>0.2307</td></tr><tr><td>train_mae</td><td>0.2307</td></tr><tr><td>val_loss</td><td>0.23578</td></tr><tr><td>val_mae</td><td>0.23578</td></tr></table><br/></div></div>"
      ],
      "text/plain": [
       "<IPython.core.display.HTML object>"
      ]
     },
     "metadata": {},
     "output_type": "display_data"
    },
    {
     "data": {
      "text/html": [
       " View run <strong style=\"color:#cdcd00\">stoic-sweep-12</strong> at: <a href='https://wandb.ai/walt_/dose-prediction/runs/qkfg2fcm' target=\"_blank\">https://wandb.ai/walt_/dose-prediction/runs/qkfg2fcm</a><br/> View project at: <a href='https://wandb.ai/walt_/dose-prediction' target=\"_blank\">https://wandb.ai/walt_/dose-prediction</a><br/>Synced 5 W&B file(s), 0 media file(s), 0 artifact file(s) and 0 other file(s)"
      ],
      "text/plain": [
       "<IPython.core.display.HTML object>"
      ]
     },
     "metadata": {},
     "output_type": "display_data"
    },
    {
     "data": {
      "text/html": [
       "Find logs at: <code>./wandb/run-20241124_151834-qkfg2fcm/logs</code>"
      ],
      "text/plain": [
       "<IPython.core.display.HTML object>"
      ]
     },
     "metadata": {},
     "output_type": "display_data"
    },
    {
     "name": "stderr",
     "output_type": "stream",
     "text": [
      "\u001b[34m\u001b[1mwandb\u001b[0m: Agent Starting Run: y6ygk0ac with config:\n",
      "\u001b[34m\u001b[1mwandb\u001b[0m: \tactivation_function: tanh\n",
      "\u001b[34m\u001b[1mwandb\u001b[0m: \tbatch_size: 16\n",
      "\u001b[34m\u001b[1mwandb\u001b[0m: \tepochs: 15\n",
      "\u001b[34m\u001b[1mwandb\u001b[0m: \tinclude_edis: False\n",
      "\u001b[34m\u001b[1mwandb\u001b[0m: \tinclude_mgdis: False\n",
      "\u001b[34m\u001b[1mwandb\u001b[0m: \tinclude_mpc: False\n",
      "\u001b[34m\u001b[1mwandb\u001b[0m: \tinclude_sharpness: True\n",
      "\u001b[34m\u001b[1mwandb\u001b[0m: \tinclude_texture: True\n",
      "\u001b[34m\u001b[1mwandb\u001b[0m: \tlearning_rate: 0.005\n",
      "\u001b[34m\u001b[1mwandb\u001b[0m: \tloss_function: mean_absolute_error\n"
     ]
    },
    {
     "data": {
      "text/html": [
       "Tracking run with wandb version 0.18.7"
      ],
      "text/plain": [
       "<IPython.core.display.HTML object>"
      ]
     },
     "metadata": {},
     "output_type": "display_data"
    },
    {
     "data": {
      "text/html": [
       "Run data is saved locally in <code>/home/walt/FociNet/wandb/run-20241124_151859-y6ygk0ac</code>"
      ],
      "text/plain": [
       "<IPython.core.display.HTML object>"
      ]
     },
     "metadata": {},
     "output_type": "display_data"
    },
    {
     "data": {
      "text/html": [
       "Syncing run <strong><a href='https://wandb.ai/walt_/dose-prediction/runs/y6ygk0ac' target=\"_blank\">devoted-sweep-13</a></strong> to <a href='https://wandb.ai/walt_/dose-prediction' target=\"_blank\">Weights & Biases</a> (<a href='https://wandb.me/developer-guide' target=\"_blank\">docs</a>)<br/>Sweep page: <a href='https://wandb.ai/walt_/dose-prediction/sweeps/ijck5aqp' target=\"_blank\">https://wandb.ai/walt_/dose-prediction/sweeps/ijck5aqp</a>"
      ],
      "text/plain": [
       "<IPython.core.display.HTML object>"
      ]
     },
     "metadata": {},
     "output_type": "display_data"
    },
    {
     "data": {
      "text/html": [
       " View project at <a href='https://wandb.ai/walt_/dose-prediction' target=\"_blank\">https://wandb.ai/walt_/dose-prediction</a>"
      ],
      "text/plain": [
       "<IPython.core.display.HTML object>"
      ]
     },
     "metadata": {},
     "output_type": "display_data"
    },
    {
     "data": {
      "text/html": [
       " View sweep at <a href='https://wandb.ai/walt_/dose-prediction/sweeps/ijck5aqp' target=\"_blank\">https://wandb.ai/walt_/dose-prediction/sweeps/ijck5aqp</a>"
      ],
      "text/plain": [
       "<IPython.core.display.HTML object>"
      ]
     },
     "metadata": {},
     "output_type": "display_data"
    },
    {
     "data": {
      "text/html": [
       " View run at <a href='https://wandb.ai/walt_/dose-prediction/runs/y6ygk0ac' target=\"_blank\">https://wandb.ai/walt_/dose-prediction/runs/y6ygk0ac</a>"
      ],
      "text/plain": [
       "<IPython.core.display.HTML object>"
      ]
     },
     "metadata": {},
     "output_type": "display_data"
    },
    {
     "name": "stdout",
     "output_type": "stream",
     "text": [
      "Active Feature Config: {'activation_function': 'tanh', 'batch_size': 16, 'epochs': 15, 'include_edis': False, 'include_mgdis': False, 'include_mpc': False, 'include_sharpness': True, 'include_texture': True, 'learning_rate': 0.005, 'loss_function': 'mean_absolute_error'}\n",
      "Subset X_train shape: (9766, 3)\n",
      "Subset X_val shape: (2790, 3)\n",
      "Subset X_test shape: (1396, 3)\n",
      "Calculated input_dim: 3\n",
      "Epoch 1/15\n",
      "611/611 - 3s - 5ms/step - loss: 0.2982 - mae: 0.2982 - val_loss: 0.2773 - val_mae: 0.2773\n",
      "Epoch 2/15\n",
      "611/611 - 1s - 2ms/step - loss: 0.2593 - mae: 0.2593 - val_loss: 0.2567 - val_mae: 0.2567\n",
      "Epoch 3/15\n",
      "611/611 - 1s - 2ms/step - loss: 0.2426 - mae: 0.2426 - val_loss: 0.2345 - val_mae: 0.2345\n",
      "Epoch 4/15\n",
      "611/611 - 1s - 2ms/step - loss: 0.2385 - mae: 0.2385 - val_loss: 0.2325 - val_mae: 0.2325\n",
      "Epoch 5/15\n",
      "611/611 - 1s - 2ms/step - loss: 0.2357 - mae: 0.2357 - val_loss: 0.2341 - val_mae: 0.2341\n",
      "Epoch 6/15\n",
      "611/611 - 1s - 2ms/step - loss: 0.2330 - mae: 0.2330 - val_loss: 0.2470 - val_mae: 0.2470\n",
      "Epoch 7/15\n",
      "611/611 - 1s - 2ms/step - loss: 0.2344 - mae: 0.2344 - val_loss: 0.2431 - val_mae: 0.2431\n",
      "Epoch 8/15\n",
      "611/611 - 1s - 2ms/step - loss: 0.2340 - mae: 0.2340 - val_loss: 0.2356 - val_mae: 0.2356\n",
      "Epoch 9/15\n",
      "611/611 - 1s - 2ms/step - loss: 0.2311 - mae: 0.2311 - val_loss: 0.2574 - val_mae: 0.2574\n",
      "Epoch 10/15\n",
      "611/611 - 1s - 2ms/step - loss: 0.2322 - mae: 0.2322 - val_loss: 0.2278 - val_mae: 0.2278\n",
      "Epoch 11/15\n",
      "611/611 - 1s - 2ms/step - loss: 0.2292 - mae: 0.2292 - val_loss: 0.2254 - val_mae: 0.2254\n",
      "Epoch 12/15\n",
      "611/611 - 1s - 2ms/step - loss: 0.2294 - mae: 0.2294 - val_loss: 0.2307 - val_mae: 0.2307\n",
      "Epoch 13/15\n",
      "611/611 - 1s - 2ms/step - loss: 0.2297 - mae: 0.2297 - val_loss: 0.2258 - val_mae: 0.2258\n",
      "Epoch 14/15\n",
      "611/611 - 1s - 2ms/step - loss: 0.2294 - mae: 0.2294 - val_loss: 0.2223 - val_mae: 0.2223\n",
      "Epoch 15/15\n",
      "611/611 - 1s - 2ms/step - loss: 0.2316 - mae: 0.2316 - val_loss: 0.2211 - val_mae: 0.2211\n",
      "\u001b[1m44/44\u001b[0m \u001b[32m━━━━━━━━━━━━━━━━━━━━\u001b[0m\u001b[37m\u001b[0m \u001b[1m0s\u001b[0m 4ms/step\n"
     ]
    },
    {
     "data": {
      "text/html": [
       "\n",
       "    <style>\n",
       "        .wandb-row {\n",
       "            display: flex;\n",
       "            flex-direction: row;\n",
       "            flex-wrap: wrap;\n",
       "            justify-content: flex-start;\n",
       "            width: 100%;\n",
       "        }\n",
       "        .wandb-col {\n",
       "            display: flex;\n",
       "            flex-direction: column;\n",
       "            flex-basis: 100%;\n",
       "            flex: 1;\n",
       "            padding: 10px;\n",
       "        }\n",
       "    </style>\n",
       "<div class=\"wandb-row\"><div class=\"wandb-col\"><h3>Run history:</h3><br/><table class=\"wandb\"><tr><td>Max Absolute Error (Test)</td><td>▁</td></tr><tr><td>Mean Absolute Error (Test)</td><td>▁</td></tr><tr><td>R²</td><td>▁</td></tr><tr><td>Test Loss</td><td>▁</td></tr><tr><td>Test MAE</td><td>▁</td></tr><tr><td>epoch</td><td>▁▁▂▃▃▃▄▅▅▅▆▇▇▇█</td></tr><tr><td>epoch/epoch</td><td>▁▁▂▃▃▃▄▅▅▅▆▇▇▇█</td></tr><tr><td>epoch/learning_rate</td><td>▁▁▁▁▁▁▁▁▁▁▁▁▁▁▁</td></tr><tr><td>epoch/loss</td><td>█▄▂▂▂▁▂▁▁▁▁▁▁▁▁</td></tr><tr><td>epoch/mae</td><td>█▄▂▂▂▁▂▁▁▁▁▁▁▁▁</td></tr><tr><td>epoch/val_loss</td><td>█▅▃▂▃▄▄▃▆▂▂▂▂▁▁</td></tr><tr><td>epoch/val_mae</td><td>█▅▃▂▃▄▄▃▆▂▂▂▂▁▁</td></tr><tr><td>train_loss</td><td>█▄▂▂▂▁▂▁▁▁▁▁▁▁▁</td></tr><tr><td>train_mae</td><td>█▄▂▂▂▁▂▁▁▁▁▁▁▁▁</td></tr><tr><td>val_loss</td><td>█▅▃▂▃▄▄▃▆▂▂▂▂▁▁</td></tr><tr><td>val_mae</td><td>█▅▃▂▃▄▄▃▆▂▂▂▂▁▁</td></tr></table><br/></div><div class=\"wandb-col\"><h3>Run summary:</h3><br/><table class=\"wandb\"><tr><td>Max Absolute Error (Test)</td><td>1.00185</td></tr><tr><td>Mean Absolute Error (Test)</td><td>0.21977</td></tr><tr><td>R²</td><td>0.13482</td></tr><tr><td>Test Loss</td><td>0.21977</td></tr><tr><td>Test MAE</td><td>0.21977</td></tr><tr><td>epoch</td><td>14</td></tr><tr><td>epoch/epoch</td><td>14</td></tr><tr><td>epoch/learning_rate</td><td>0.005</td></tr><tr><td>epoch/loss</td><td>0.23158</td></tr><tr><td>epoch/mae</td><td>0.23158</td></tr><tr><td>epoch/val_loss</td><td>0.22112</td></tr><tr><td>epoch/val_mae</td><td>0.22112</td></tr><tr><td>train_loss</td><td>0.23158</td></tr><tr><td>train_mae</td><td>0.23158</td></tr><tr><td>val_loss</td><td>0.22112</td></tr><tr><td>val_mae</td><td>0.22112</td></tr></table><br/></div></div>"
      ],
      "text/plain": [
       "<IPython.core.display.HTML object>"
      ]
     },
     "metadata": {},
     "output_type": "display_data"
    },
    {
     "data": {
      "text/html": [
       " View run <strong style=\"color:#cdcd00\">devoted-sweep-13</strong> at: <a href='https://wandb.ai/walt_/dose-prediction/runs/y6ygk0ac' target=\"_blank\">https://wandb.ai/walt_/dose-prediction/runs/y6ygk0ac</a><br/> View project at: <a href='https://wandb.ai/walt_/dose-prediction' target=\"_blank\">https://wandb.ai/walt_/dose-prediction</a><br/>Synced 5 W&B file(s), 0 media file(s), 0 artifact file(s) and 0 other file(s)"
      ],
      "text/plain": [
       "<IPython.core.display.HTML object>"
      ]
     },
     "metadata": {},
     "output_type": "display_data"
    },
    {
     "data": {
      "text/html": [
       "Find logs at: <code>./wandb/run-20241124_151859-y6ygk0ac/logs</code>"
      ],
      "text/plain": [
       "<IPython.core.display.HTML object>"
      ]
     },
     "metadata": {},
     "output_type": "display_data"
    },
    {
     "name": "stderr",
     "output_type": "stream",
     "text": [
      "\u001b[34m\u001b[1mwandb\u001b[0m: Agent Starting Run: 9swr6sns with config:\n",
      "\u001b[34m\u001b[1mwandb\u001b[0m: \tactivation_function: tanh\n",
      "\u001b[34m\u001b[1mwandb\u001b[0m: \tbatch_size: 16\n",
      "\u001b[34m\u001b[1mwandb\u001b[0m: \tepochs: 15\n",
      "\u001b[34m\u001b[1mwandb\u001b[0m: \tinclude_edis: False\n",
      "\u001b[34m\u001b[1mwandb\u001b[0m: \tinclude_mgdis: False\n",
      "\u001b[34m\u001b[1mwandb\u001b[0m: \tinclude_mpc: False\n",
      "\u001b[34m\u001b[1mwandb\u001b[0m: \tinclude_sharpness: True\n",
      "\u001b[34m\u001b[1mwandb\u001b[0m: \tinclude_texture: False\n",
      "\u001b[34m\u001b[1mwandb\u001b[0m: \tlearning_rate: 0.005\n",
      "\u001b[34m\u001b[1mwandb\u001b[0m: \tloss_function: mean_absolute_error\n"
     ]
    },
    {
     "data": {
      "text/html": [
       "Tracking run with wandb version 0.18.7"
      ],
      "text/plain": [
       "<IPython.core.display.HTML object>"
      ]
     },
     "metadata": {},
     "output_type": "display_data"
    },
    {
     "data": {
      "text/html": [
       "Run data is saved locally in <code>/home/walt/FociNet/wandb/run-20241124_151925-9swr6sns</code>"
      ],
      "text/plain": [
       "<IPython.core.display.HTML object>"
      ]
     },
     "metadata": {},
     "output_type": "display_data"
    },
    {
     "data": {
      "text/html": [
       "Syncing run <strong><a href='https://wandb.ai/walt_/dose-prediction/runs/9swr6sns' target=\"_blank\">stellar-sweep-14</a></strong> to <a href='https://wandb.ai/walt_/dose-prediction' target=\"_blank\">Weights & Biases</a> (<a href='https://wandb.me/developer-guide' target=\"_blank\">docs</a>)<br/>Sweep page: <a href='https://wandb.ai/walt_/dose-prediction/sweeps/ijck5aqp' target=\"_blank\">https://wandb.ai/walt_/dose-prediction/sweeps/ijck5aqp</a>"
      ],
      "text/plain": [
       "<IPython.core.display.HTML object>"
      ]
     },
     "metadata": {},
     "output_type": "display_data"
    },
    {
     "data": {
      "text/html": [
       " View project at <a href='https://wandb.ai/walt_/dose-prediction' target=\"_blank\">https://wandb.ai/walt_/dose-prediction</a>"
      ],
      "text/plain": [
       "<IPython.core.display.HTML object>"
      ]
     },
     "metadata": {},
     "output_type": "display_data"
    },
    {
     "data": {
      "text/html": [
       " View sweep at <a href='https://wandb.ai/walt_/dose-prediction/sweeps/ijck5aqp' target=\"_blank\">https://wandb.ai/walt_/dose-prediction/sweeps/ijck5aqp</a>"
      ],
      "text/plain": [
       "<IPython.core.display.HTML object>"
      ]
     },
     "metadata": {},
     "output_type": "display_data"
    },
    {
     "data": {
      "text/html": [
       " View run at <a href='https://wandb.ai/walt_/dose-prediction/runs/9swr6sns' target=\"_blank\">https://wandb.ai/walt_/dose-prediction/runs/9swr6sns</a>"
      ],
      "text/plain": [
       "<IPython.core.display.HTML object>"
      ]
     },
     "metadata": {},
     "output_type": "display_data"
    },
    {
     "name": "stdout",
     "output_type": "stream",
     "text": [
      "Active Feature Config: {'activation_function': 'tanh', 'batch_size': 16, 'epochs': 15, 'include_edis': False, 'include_mgdis': False, 'include_mpc': False, 'include_sharpness': True, 'include_texture': False, 'learning_rate': 0.005, 'loss_function': 'mean_absolute_error'}\n",
      "Subset X_train shape: (9766, 1)\n",
      "Subset X_val shape: (2790, 1)\n",
      "Subset X_test shape: (1396, 1)\n",
      "Calculated input_dim: 1\n",
      "Epoch 1/15\n",
      "611/611 - 3s - 5ms/step - loss: 0.2990 - mae: 0.2990 - val_loss: 0.3078 - val_mae: 0.3078\n",
      "Epoch 2/15\n",
      "611/611 - 1s - 2ms/step - loss: 0.2968 - mae: 0.2968 - val_loss: 0.2901 - val_mae: 0.2901\n",
      "Epoch 3/15\n",
      "611/611 - 1s - 2ms/step - loss: 0.2963 - mae: 0.2963 - val_loss: 0.2945 - val_mae: 0.2945\n",
      "Epoch 4/15\n",
      "611/611 - 1s - 2ms/step - loss: 0.2941 - mae: 0.2941 - val_loss: 0.2935 - val_mae: 0.2935\n",
      "Epoch 5/15\n",
      "611/611 - 1s - 2ms/step - loss: 0.2558 - mae: 0.2558 - val_loss: 0.2436 - val_mae: 0.2436\n",
      "Epoch 6/15\n",
      "611/611 - 1s - 2ms/step - loss: 0.2420 - mae: 0.2420 - val_loss: 0.2390 - val_mae: 0.2390\n",
      "Epoch 7/15\n",
      "611/611 - 1s - 2ms/step - loss: 0.2405 - mae: 0.2405 - val_loss: 0.2360 - val_mae: 0.2360\n",
      "Epoch 8/15\n",
      "611/611 - 1s - 2ms/step - loss: 0.2397 - mae: 0.2397 - val_loss: 0.2362 - val_mae: 0.2362\n",
      "Epoch 9/15\n",
      "611/611 - 1s - 2ms/step - loss: 0.2364 - mae: 0.2364 - val_loss: 0.2390 - val_mae: 0.2390\n",
      "Epoch 10/15\n",
      "611/611 - 1s - 2ms/step - loss: 0.2371 - mae: 0.2371 - val_loss: 0.2386 - val_mae: 0.2386\n",
      "Epoch 11/15\n",
      "611/611 - 1s - 2ms/step - loss: 0.2389 - mae: 0.2389 - val_loss: 0.2364 - val_mae: 0.2364\n",
      "Epoch 12/15\n",
      "611/611 - 1s - 2ms/step - loss: 0.2364 - mae: 0.2364 - val_loss: 0.2344 - val_mae: 0.2344\n",
      "Epoch 13/15\n",
      "611/611 - 1s - 2ms/step - loss: 0.2352 - mae: 0.2352 - val_loss: 0.2419 - val_mae: 0.2419\n",
      "Epoch 14/15\n",
      "611/611 - 1s - 2ms/step - loss: 0.2378 - mae: 0.2378 - val_loss: 0.2325 - val_mae: 0.2325\n",
      "Epoch 15/15\n",
      "611/611 - 1s - 2ms/step - loss: 0.2356 - mae: 0.2356 - val_loss: 0.2358 - val_mae: 0.2358\n",
      "\u001b[1m44/44\u001b[0m \u001b[32m━━━━━━━━━━━━━━━━━━━━\u001b[0m\u001b[37m\u001b[0m \u001b[1m0s\u001b[0m 4ms/step\n"
     ]
    },
    {
     "data": {
      "text/html": [
       "\n",
       "    <style>\n",
       "        .wandb-row {\n",
       "            display: flex;\n",
       "            flex-direction: row;\n",
       "            flex-wrap: wrap;\n",
       "            justify-content: flex-start;\n",
       "            width: 100%;\n",
       "        }\n",
       "        .wandb-col {\n",
       "            display: flex;\n",
       "            flex-direction: column;\n",
       "            flex-basis: 100%;\n",
       "            flex: 1;\n",
       "            padding: 10px;\n",
       "        }\n",
       "    </style>\n",
       "<div class=\"wandb-row\"><div class=\"wandb-col\"><h3>Run history:</h3><br/><table class=\"wandb\"><tr><td>Max Absolute Error (Test)</td><td>▁</td></tr><tr><td>Mean Absolute Error (Test)</td><td>▁</td></tr><tr><td>R²</td><td>▁</td></tr><tr><td>Test Loss</td><td>▁</td></tr><tr><td>Test MAE</td><td>▁</td></tr><tr><td>epoch</td><td>▁▁▂▃▃▃▄▅▅▅▆▇▇▇█</td></tr><tr><td>epoch/epoch</td><td>▁▁▂▃▃▃▄▅▅▅▆▇▇▇█</td></tr><tr><td>epoch/learning_rate</td><td>▁▁▁▁▁▁▁▁▁▁▁▁▁▁▁</td></tr><tr><td>epoch/loss</td><td>███▇▃▂▂▁▁▁▁▁▁▁▁</td></tr><tr><td>epoch/mae</td><td>███▇▃▂▂▁▁▁▁▁▁▁▁</td></tr><tr><td>epoch/val_loss</td><td>█▆▇▇▂▂▁▁▂▂▁▁▂▁▁</td></tr><tr><td>epoch/val_mae</td><td>█▆▇▇▂▂▁▁▂▂▁▁▂▁▁</td></tr><tr><td>train_loss</td><td>███▇▃▂▂▁▁▁▁▁▁▁▁</td></tr><tr><td>train_mae</td><td>███▇▃▂▂▁▁▁▁▁▁▁▁</td></tr><tr><td>val_loss</td><td>█▆▇▇▂▂▁▁▂▂▁▁▂▁▁</td></tr><tr><td>val_mae</td><td>█▆▇▇▂▂▁▁▂▂▁▁▂▁▁</td></tr></table><br/></div><div class=\"wandb-col\"><h3>Run summary:</h3><br/><table class=\"wandb\"><tr><td>Max Absolute Error (Test)</td><td>0.98421</td></tr><tr><td>Mean Absolute Error (Test)</td><td>0.24271</td></tr><tr><td>R²</td><td>0.09989</td></tr><tr><td>Test Loss</td><td>0.24271</td></tr><tr><td>Test MAE</td><td>0.24271</td></tr><tr><td>epoch</td><td>14</td></tr><tr><td>epoch/epoch</td><td>14</td></tr><tr><td>epoch/learning_rate</td><td>0.005</td></tr><tr><td>epoch/loss</td><td>0.23564</td></tr><tr><td>epoch/mae</td><td>0.23564</td></tr><tr><td>epoch/val_loss</td><td>0.23577</td></tr><tr><td>epoch/val_mae</td><td>0.23577</td></tr><tr><td>train_loss</td><td>0.23564</td></tr><tr><td>train_mae</td><td>0.23564</td></tr><tr><td>val_loss</td><td>0.23577</td></tr><tr><td>val_mae</td><td>0.23577</td></tr></table><br/></div></div>"
      ],
      "text/plain": [
       "<IPython.core.display.HTML object>"
      ]
     },
     "metadata": {},
     "output_type": "display_data"
    },
    {
     "data": {
      "text/html": [
       " View run <strong style=\"color:#cdcd00\">stellar-sweep-14</strong> at: <a href='https://wandb.ai/walt_/dose-prediction/runs/9swr6sns' target=\"_blank\">https://wandb.ai/walt_/dose-prediction/runs/9swr6sns</a><br/> View project at: <a href='https://wandb.ai/walt_/dose-prediction' target=\"_blank\">https://wandb.ai/walt_/dose-prediction</a><br/>Synced 5 W&B file(s), 0 media file(s), 0 artifact file(s) and 0 other file(s)"
      ],
      "text/plain": [
       "<IPython.core.display.HTML object>"
      ]
     },
     "metadata": {},
     "output_type": "display_data"
    },
    {
     "data": {
      "text/html": [
       "Find logs at: <code>./wandb/run-20241124_151925-9swr6sns/logs</code>"
      ],
      "text/plain": [
       "<IPython.core.display.HTML object>"
      ]
     },
     "metadata": {},
     "output_type": "display_data"
    },
    {
     "name": "stderr",
     "output_type": "stream",
     "text": [
      "\u001b[34m\u001b[1mwandb\u001b[0m: Agent Starting Run: 16ouogvy with config:\n",
      "\u001b[34m\u001b[1mwandb\u001b[0m: \tactivation_function: tanh\n",
      "\u001b[34m\u001b[1mwandb\u001b[0m: \tbatch_size: 16\n",
      "\u001b[34m\u001b[1mwandb\u001b[0m: \tepochs: 15\n",
      "\u001b[34m\u001b[1mwandb\u001b[0m: \tinclude_edis: False\n",
      "\u001b[34m\u001b[1mwandb\u001b[0m: \tinclude_mgdis: False\n",
      "\u001b[34m\u001b[1mwandb\u001b[0m: \tinclude_mpc: False\n",
      "\u001b[34m\u001b[1mwandb\u001b[0m: \tinclude_sharpness: False\n",
      "\u001b[34m\u001b[1mwandb\u001b[0m: \tinclude_texture: True\n",
      "\u001b[34m\u001b[1mwandb\u001b[0m: \tlearning_rate: 0.005\n",
      "\u001b[34m\u001b[1mwandb\u001b[0m: \tloss_function: mean_absolute_error\n"
     ]
    },
    {
     "data": {
      "text/html": [
       "Tracking run with wandb version 0.18.7"
      ],
      "text/plain": [
       "<IPython.core.display.HTML object>"
      ]
     },
     "metadata": {},
     "output_type": "display_data"
    },
    {
     "data": {
      "text/html": [
       "Run data is saved locally in <code>/home/walt/FociNet/wandb/run-20241124_151950-16ouogvy</code>"
      ],
      "text/plain": [
       "<IPython.core.display.HTML object>"
      ]
     },
     "metadata": {},
     "output_type": "display_data"
    },
    {
     "data": {
      "text/html": [
       "Syncing run <strong><a href='https://wandb.ai/walt_/dose-prediction/runs/16ouogvy' target=\"_blank\">royal-sweep-15</a></strong> to <a href='https://wandb.ai/walt_/dose-prediction' target=\"_blank\">Weights & Biases</a> (<a href='https://wandb.me/developer-guide' target=\"_blank\">docs</a>)<br/>Sweep page: <a href='https://wandb.ai/walt_/dose-prediction/sweeps/ijck5aqp' target=\"_blank\">https://wandb.ai/walt_/dose-prediction/sweeps/ijck5aqp</a>"
      ],
      "text/plain": [
       "<IPython.core.display.HTML object>"
      ]
     },
     "metadata": {},
     "output_type": "display_data"
    },
    {
     "data": {
      "text/html": [
       " View project at <a href='https://wandb.ai/walt_/dose-prediction' target=\"_blank\">https://wandb.ai/walt_/dose-prediction</a>"
      ],
      "text/plain": [
       "<IPython.core.display.HTML object>"
      ]
     },
     "metadata": {},
     "output_type": "display_data"
    },
    {
     "data": {
      "text/html": [
       " View sweep at <a href='https://wandb.ai/walt_/dose-prediction/sweeps/ijck5aqp' target=\"_blank\">https://wandb.ai/walt_/dose-prediction/sweeps/ijck5aqp</a>"
      ],
      "text/plain": [
       "<IPython.core.display.HTML object>"
      ]
     },
     "metadata": {},
     "output_type": "display_data"
    },
    {
     "data": {
      "text/html": [
       " View run at <a href='https://wandb.ai/walt_/dose-prediction/runs/16ouogvy' target=\"_blank\">https://wandb.ai/walt_/dose-prediction/runs/16ouogvy</a>"
      ],
      "text/plain": [
       "<IPython.core.display.HTML object>"
      ]
     },
     "metadata": {},
     "output_type": "display_data"
    },
    {
     "name": "stdout",
     "output_type": "stream",
     "text": [
      "Active Feature Config: {'activation_function': 'tanh', 'batch_size': 16, 'epochs': 15, 'include_edis': False, 'include_mgdis': False, 'include_mpc': False, 'include_sharpness': False, 'include_texture': True, 'learning_rate': 0.005, 'loss_function': 'mean_absolute_error'}\n",
      "Subset X_train shape: (9766, 2)\n",
      "Subset X_val shape: (2790, 2)\n",
      "Subset X_test shape: (1396, 2)\n",
      "Calculated input_dim: 2\n",
      "Epoch 1/15\n",
      "611/611 - 4s - 6ms/step - loss: 0.3002 - mae: 0.3002 - val_loss: 0.2924 - val_mae: 0.2924\n",
      "Epoch 2/15\n",
      "611/611 - 2s - 3ms/step - loss: 0.2952 - mae: 0.2952 - val_loss: 0.3043 - val_mae: 0.3043\n",
      "Epoch 3/15\n",
      "611/611 - 1s - 2ms/step - loss: 0.2941 - mae: 0.2941 - val_loss: 0.2865 - val_mae: 0.2865\n",
      "Epoch 4/15\n",
      "611/611 - 1s - 2ms/step - loss: 0.2923 - mae: 0.2923 - val_loss: 0.2833 - val_mae: 0.2833\n",
      "Epoch 5/15\n",
      "611/611 - 2s - 3ms/step - loss: 0.2611 - mae: 0.2611 - val_loss: 0.2398 - val_mae: 0.2398\n",
      "Epoch 6/15\n",
      "611/611 - 1s - 2ms/step - loss: 0.2438 - mae: 0.2438 - val_loss: 0.2343 - val_mae: 0.2343\n",
      "Epoch 7/15\n",
      "611/611 - 1s - 2ms/step - loss: 0.2379 - mae: 0.2379 - val_loss: 0.2332 - val_mae: 0.2332\n",
      "Epoch 8/15\n",
      "611/611 - 1s - 2ms/step - loss: 0.2354 - mae: 0.2354 - val_loss: 0.2489 - val_mae: 0.2489\n",
      "Epoch 9/15\n",
      "611/611 - 1s - 2ms/step - loss: 0.2376 - mae: 0.2376 - val_loss: 0.2388 - val_mae: 0.2388\n",
      "Epoch 10/15\n",
      "611/611 - 1s - 2ms/step - loss: 0.2361 - mae: 0.2361 - val_loss: 0.2362 - val_mae: 0.2362\n",
      "Epoch 11/15\n",
      "611/611 - 1s - 2ms/step - loss: 0.2333 - mae: 0.2333 - val_loss: 0.2473 - val_mae: 0.2473\n",
      "Epoch 12/15\n",
      "611/611 - 1s - 2ms/step - loss: 0.2345 - mae: 0.2345 - val_loss: 0.2533 - val_mae: 0.2533\n",
      "Epoch 13/15\n",
      "611/611 - 1s - 2ms/step - loss: 0.2344 - mae: 0.2344 - val_loss: 0.2269 - val_mae: 0.2269\n",
      "Epoch 14/15\n",
      "611/611 - 1s - 2ms/step - loss: 0.2312 - mae: 0.2312 - val_loss: 0.2293 - val_mae: 0.2293\n",
      "Epoch 15/15\n",
      "611/611 - 1s - 2ms/step - loss: 0.2335 - mae: 0.2335 - val_loss: 0.2287 - val_mae: 0.2287\n",
      "\u001b[1m44/44\u001b[0m \u001b[32m━━━━━━━━━━━━━━━━━━━━\u001b[0m\u001b[37m\u001b[0m \u001b[1m0s\u001b[0m 4ms/step\n"
     ]
    },
    {
     "data": {
      "text/html": [
       "\n",
       "    <style>\n",
       "        .wandb-row {\n",
       "            display: flex;\n",
       "            flex-direction: row;\n",
       "            flex-wrap: wrap;\n",
       "            justify-content: flex-start;\n",
       "            width: 100%;\n",
       "        }\n",
       "        .wandb-col {\n",
       "            display: flex;\n",
       "            flex-direction: column;\n",
       "            flex-basis: 100%;\n",
       "            flex: 1;\n",
       "            padding: 10px;\n",
       "        }\n",
       "    </style>\n",
       "<div class=\"wandb-row\"><div class=\"wandb-col\"><h3>Run history:</h3><br/><table class=\"wandb\"><tr><td>Max Absolute Error (Test)</td><td>▁</td></tr><tr><td>Mean Absolute Error (Test)</td><td>▁</td></tr><tr><td>R²</td><td>▁</td></tr><tr><td>Test Loss</td><td>▁</td></tr><tr><td>Test MAE</td><td>▁</td></tr><tr><td>epoch</td><td>▁▁▂▃▃▃▄▅▅▅▆▇▇▇█</td></tr><tr><td>epoch/epoch</td><td>▁▁▂▃▃▃▄▅▅▅▆▇▇▇█</td></tr><tr><td>epoch/learning_rate</td><td>▁▁▁▁▁▁▁▁▁▁▁▁▁▁▁</td></tr><tr><td>epoch/loss</td><td>█▇▇▇▄▂▂▁▂▁▁▁▁▁▁</td></tr><tr><td>epoch/mae</td><td>█▇▇▇▄▂▂▁▂▁▁▁▁▁▁</td></tr><tr><td>epoch/val_loss</td><td>▇█▆▆▂▂▂▃▂▂▃▃▁▁▁</td></tr><tr><td>epoch/val_mae</td><td>▇█▆▆▂▂▂▃▂▂▃▃▁▁▁</td></tr><tr><td>train_loss</td><td>█▇▇▇▄▂▂▁▂▁▁▁▁▁▁</td></tr><tr><td>train_mae</td><td>█▇▇▇▄▂▂▁▂▁▁▁▁▁▁</td></tr><tr><td>val_loss</td><td>▇█▆▆▂▂▂▃▂▂▃▃▁▁▁</td></tr><tr><td>val_mae</td><td>▇█▆▆▂▂▂▃▂▂▃▃▁▁▁</td></tr></table><br/></div><div class=\"wandb-col\"><h3>Run summary:</h3><br/><table class=\"wandb\"><tr><td>Max Absolute Error (Test)</td><td>0.99278</td></tr><tr><td>Mean Absolute Error (Test)</td><td>0.22726</td></tr><tr><td>R²</td><td>0.12834</td></tr><tr><td>Test Loss</td><td>0.22726</td></tr><tr><td>Test MAE</td><td>0.22726</td></tr><tr><td>epoch</td><td>14</td></tr><tr><td>epoch/epoch</td><td>14</td></tr><tr><td>epoch/learning_rate</td><td>0.005</td></tr><tr><td>epoch/loss</td><td>0.23353</td></tr><tr><td>epoch/mae</td><td>0.23353</td></tr><tr><td>epoch/val_loss</td><td>0.22873</td></tr><tr><td>epoch/val_mae</td><td>0.22873</td></tr><tr><td>train_loss</td><td>0.23353</td></tr><tr><td>train_mae</td><td>0.23353</td></tr><tr><td>val_loss</td><td>0.22873</td></tr><tr><td>val_mae</td><td>0.22873</td></tr></table><br/></div></div>"
      ],
      "text/plain": [
       "<IPython.core.display.HTML object>"
      ]
     },
     "metadata": {},
     "output_type": "display_data"
    },
    {
     "data": {
      "text/html": [
       " View run <strong style=\"color:#cdcd00\">royal-sweep-15</strong> at: <a href='https://wandb.ai/walt_/dose-prediction/runs/16ouogvy' target=\"_blank\">https://wandb.ai/walt_/dose-prediction/runs/16ouogvy</a><br/> View project at: <a href='https://wandb.ai/walt_/dose-prediction' target=\"_blank\">https://wandb.ai/walt_/dose-prediction</a><br/>Synced 5 W&B file(s), 0 media file(s), 0 artifact file(s) and 0 other file(s)"
      ],
      "text/plain": [
       "<IPython.core.display.HTML object>"
      ]
     },
     "metadata": {},
     "output_type": "display_data"
    },
    {
     "data": {
      "text/html": [
       "Find logs at: <code>./wandb/run-20241124_151950-16ouogvy/logs</code>"
      ],
      "text/plain": [
       "<IPython.core.display.HTML object>"
      ]
     },
     "metadata": {},
     "output_type": "display_data"
    },
    {
     "name": "stderr",
     "output_type": "stream",
     "text": [
      "\u001b[34m\u001b[1mwandb\u001b[0m: Agent Starting Run: 5imgswkw with config:\n",
      "\u001b[34m\u001b[1mwandb\u001b[0m: \tactivation_function: tanh\n",
      "\u001b[34m\u001b[1mwandb\u001b[0m: \tbatch_size: 16\n",
      "\u001b[34m\u001b[1mwandb\u001b[0m: \tepochs: 15\n",
      "\u001b[34m\u001b[1mwandb\u001b[0m: \tinclude_edis: False\n",
      "\u001b[34m\u001b[1mwandb\u001b[0m: \tinclude_mgdis: False\n",
      "\u001b[34m\u001b[1mwandb\u001b[0m: \tinclude_mpc: False\n",
      "\u001b[34m\u001b[1mwandb\u001b[0m: \tinclude_sharpness: False\n",
      "\u001b[34m\u001b[1mwandb\u001b[0m: \tinclude_texture: False\n",
      "\u001b[34m\u001b[1mwandb\u001b[0m: \tlearning_rate: 0.005\n",
      "\u001b[34m\u001b[1mwandb\u001b[0m: \tloss_function: mean_absolute_error\n"
     ]
    },
    {
     "data": {
      "text/html": [
       "Tracking run with wandb version 0.18.7"
      ],
      "text/plain": [
       "<IPython.core.display.HTML object>"
      ]
     },
     "metadata": {},
     "output_type": "display_data"
    },
    {
     "data": {
      "text/html": [
       "Run data is saved locally in <code>/home/walt/FociNet/wandb/run-20241124_152021-5imgswkw</code>"
      ],
      "text/plain": [
       "<IPython.core.display.HTML object>"
      ]
     },
     "metadata": {},
     "output_type": "display_data"
    },
    {
     "data": {
      "text/html": [
       "Syncing run <strong><a href='https://wandb.ai/walt_/dose-prediction/runs/5imgswkw' target=\"_blank\">magic-sweep-16</a></strong> to <a href='https://wandb.ai/walt_/dose-prediction' target=\"_blank\">Weights & Biases</a> (<a href='https://wandb.me/developer-guide' target=\"_blank\">docs</a>)<br/>Sweep page: <a href='https://wandb.ai/walt_/dose-prediction/sweeps/ijck5aqp' target=\"_blank\">https://wandb.ai/walt_/dose-prediction/sweeps/ijck5aqp</a>"
      ],
      "text/plain": [
       "<IPython.core.display.HTML object>"
      ]
     },
     "metadata": {},
     "output_type": "display_data"
    },
    {
     "data": {
      "text/html": [
       " View project at <a href='https://wandb.ai/walt_/dose-prediction' target=\"_blank\">https://wandb.ai/walt_/dose-prediction</a>"
      ],
      "text/plain": [
       "<IPython.core.display.HTML object>"
      ]
     },
     "metadata": {},
     "output_type": "display_data"
    },
    {
     "data": {
      "text/html": [
       " View sweep at <a href='https://wandb.ai/walt_/dose-prediction/sweeps/ijck5aqp' target=\"_blank\">https://wandb.ai/walt_/dose-prediction/sweeps/ijck5aqp</a>"
      ],
      "text/plain": [
       "<IPython.core.display.HTML object>"
      ]
     },
     "metadata": {},
     "output_type": "display_data"
    },
    {
     "data": {
      "text/html": [
       " View run at <a href='https://wandb.ai/walt_/dose-prediction/runs/5imgswkw' target=\"_blank\">https://wandb.ai/walt_/dose-prediction/runs/5imgswkw</a>"
      ],
      "text/plain": [
       "<IPython.core.display.HTML object>"
      ]
     },
     "metadata": {},
     "output_type": "display_data"
    },
    {
     "name": "stdout",
     "output_type": "stream",
     "text": [
      "Active Feature Config: {'activation_function': 'tanh', 'batch_size': 16, 'epochs': 15, 'include_edis': False, 'include_mgdis': False, 'include_mpc': False, 'include_sharpness': False, 'include_texture': False, 'learning_rate': 0.005, 'loss_function': 'mean_absolute_error'}\n",
      "Subset X_train shape: (9766, 0)\n",
      "Subset X_val shape: (2790, 0)\n",
      "Subset X_test shape: (1396, 0)\n",
      "Calculated input_dim: 0\n",
      "Epoch 1/15\n",
      "611/611 - 3s - 5ms/step - loss: 0.3218 - mae: 0.3218 - val_loss: 0.3248 - val_mae: 0.3248\n",
      "Epoch 2/15\n",
      "611/611 - 1s - 2ms/step - loss: 0.3199 - mae: 0.3199 - val_loss: 0.3242 - val_mae: 0.3242\n",
      "Epoch 3/15\n",
      "611/611 - 1s - 2ms/step - loss: 0.3195 - mae: 0.3195 - val_loss: 0.3233 - val_mae: 0.3233\n",
      "Epoch 4/15\n",
      "611/611 - 1s - 2ms/step - loss: 0.3194 - mae: 0.3194 - val_loss: 0.3235 - val_mae: 0.3235\n",
      "Epoch 5/15\n",
      "611/611 - 1s - 2ms/step - loss: 0.3192 - mae: 0.3192 - val_loss: 0.3233 - val_mae: 0.3233\n",
      "Epoch 6/15\n",
      "611/611 - 1s - 2ms/step - loss: 0.3191 - mae: 0.3191 - val_loss: 0.3234 - val_mae: 0.3234\n",
      "Epoch 7/15\n",
      "611/611 - 1s - 2ms/step - loss: 0.3193 - mae: 0.3193 - val_loss: 0.3232 - val_mae: 0.3232\n",
      "Epoch 8/15\n",
      "611/611 - 1s - 2ms/step - loss: 0.3192 - mae: 0.3192 - val_loss: 0.3234 - val_mae: 0.3234\n",
      "Epoch 9/15\n",
      "611/611 - 1s - 2ms/step - loss: 0.3194 - mae: 0.3194 - val_loss: 0.3240 - val_mae: 0.3240\n",
      "Epoch 10/15\n",
      "611/611 - 1s - 2ms/step - loss: 0.3192 - mae: 0.3192 - val_loss: 0.3246 - val_mae: 0.3246\n",
      "Epoch 11/15\n",
      "611/611 - 1s - 2ms/step - loss: 0.3193 - mae: 0.3193 - val_loss: 0.3237 - val_mae: 0.3237\n",
      "Epoch 12/15\n",
      "611/611 - 1s - 2ms/step - loss: 0.3194 - mae: 0.3194 - val_loss: 0.3235 - val_mae: 0.3235\n",
      "Epoch 13/15\n",
      "611/611 - 1s - 2ms/step - loss: 0.3191 - mae: 0.3191 - val_loss: 0.3237 - val_mae: 0.3237\n",
      "Epoch 14/15\n",
      "611/611 - 1s - 2ms/step - loss: 0.3191 - mae: 0.3191 - val_loss: 0.3244 - val_mae: 0.3244\n",
      "Epoch 15/15\n",
      "611/611 - 1s - 2ms/step - loss: 0.3192 - mae: 0.3192 - val_loss: 0.3239 - val_mae: 0.3239\n",
      "\u001b[1m44/44\u001b[0m \u001b[32m━━━━━━━━━━━━━━━━━━━━\u001b[0m\u001b[37m\u001b[0m \u001b[1m0s\u001b[0m 4ms/step\n"
     ]
    },
    {
     "data": {
      "text/html": [
       "\n",
       "    <style>\n",
       "        .wandb-row {\n",
       "            display: flex;\n",
       "            flex-direction: row;\n",
       "            flex-wrap: wrap;\n",
       "            justify-content: flex-start;\n",
       "            width: 100%;\n",
       "        }\n",
       "        .wandb-col {\n",
       "            display: flex;\n",
       "            flex-direction: column;\n",
       "            flex-basis: 100%;\n",
       "            flex: 1;\n",
       "            padding: 10px;\n",
       "        }\n",
       "    </style>\n",
       "<div class=\"wandb-row\"><div class=\"wandb-col\"><h3>Run history:</h3><br/><table class=\"wandb\"><tr><td>Max Absolute Error (Test)</td><td>▁</td></tr><tr><td>Mean Absolute Error (Test)</td><td>▁</td></tr><tr><td>R²</td><td>▁</td></tr><tr><td>Test Loss</td><td>▁</td></tr><tr><td>Test MAE</td><td>▁</td></tr><tr><td>epoch</td><td>▁▁▂▃▃▃▄▅▅▅▆▇▇▇█</td></tr><tr><td>epoch/epoch</td><td>▁▁▂▃▃▃▄▅▅▅▆▇▇▇█</td></tr><tr><td>epoch/learning_rate</td><td>▁▁▁▁▁▁▁▁▁▁▁▁▁▁▁</td></tr><tr><td>epoch/loss</td><td>█▃▂▂▁▁▁▁▂▁▁▂▁▁▁</td></tr><tr><td>epoch/mae</td><td>█▃▂▂▁▁▁▁▂▁▁▂▁▁▁</td></tr><tr><td>epoch/val_loss</td><td>█▅▂▂▁▂▁▂▅▇▃▂▃▆▄</td></tr><tr><td>epoch/val_mae</td><td>█▅▂▂▁▂▁▂▅▇▃▂▃▆▄</td></tr><tr><td>train_loss</td><td>█▃▂▂▁▁▁▁▂▁▁▂▁▁▁</td></tr><tr><td>train_mae</td><td>█▃▂▂▁▁▁▁▂▁▁▂▁▁▁</td></tr><tr><td>val_loss</td><td>█▅▂▂▁▂▁▂▅▇▃▂▃▆▄</td></tr><tr><td>val_mae</td><td>█▅▂▂▁▂▁▂▅▇▃▂▃▆▄</td></tr></table><br/></div><div class=\"wandb-col\"><h3>Run summary:</h3><br/><table class=\"wandb\"><tr><td>Max Absolute Error (Test)</td><td>0.90228</td></tr><tr><td>Mean Absolute Error (Test)</td><td>0.326</td></tr><tr><td>R²</td><td>-0.32764</td></tr><tr><td>Test Loss</td><td>0.326</td></tr><tr><td>Test MAE</td><td>0.326</td></tr><tr><td>epoch</td><td>14</td></tr><tr><td>epoch/epoch</td><td>14</td></tr><tr><td>epoch/learning_rate</td><td>0.005</td></tr><tr><td>epoch/loss</td><td>0.31915</td></tr><tr><td>epoch/mae</td><td>0.31915</td></tr><tr><td>epoch/val_loss</td><td>0.32392</td></tr><tr><td>epoch/val_mae</td><td>0.32392</td></tr><tr><td>train_loss</td><td>0.31915</td></tr><tr><td>train_mae</td><td>0.31915</td></tr><tr><td>val_loss</td><td>0.32392</td></tr><tr><td>val_mae</td><td>0.32392</td></tr></table><br/></div></div>"
      ],
      "text/plain": [
       "<IPython.core.display.HTML object>"
      ]
     },
     "metadata": {},
     "output_type": "display_data"
    },
    {
     "data": {
      "text/html": [
       " View run <strong style=\"color:#cdcd00\">magic-sweep-16</strong> at: <a href='https://wandb.ai/walt_/dose-prediction/runs/5imgswkw' target=\"_blank\">https://wandb.ai/walt_/dose-prediction/runs/5imgswkw</a><br/> View project at: <a href='https://wandb.ai/walt_/dose-prediction' target=\"_blank\">https://wandb.ai/walt_/dose-prediction</a><br/>Synced 5 W&B file(s), 0 media file(s), 0 artifact file(s) and 0 other file(s)"
      ],
      "text/plain": [
       "<IPython.core.display.HTML object>"
      ]
     },
     "metadata": {},
     "output_type": "display_data"
    },
    {
     "data": {
      "text/html": [
       "Find logs at: <code>./wandb/run-20241124_152021-5imgswkw/logs</code>"
      ],
      "text/plain": [
       "<IPython.core.display.HTML object>"
      ]
     },
     "metadata": {},
     "output_type": "display_data"
    },
    {
     "name": "stderr",
     "output_type": "stream",
     "text": [
      "\u001b[34m\u001b[1mwandb\u001b[0m: Agent Starting Run: qzf4rv2w with config:\n",
      "\u001b[34m\u001b[1mwandb\u001b[0m: \tactivation_function: tanh\n",
      "\u001b[34m\u001b[1mwandb\u001b[0m: \tbatch_size: 16\n",
      "\u001b[34m\u001b[1mwandb\u001b[0m: \tepochs: 20\n",
      "\u001b[34m\u001b[1mwandb\u001b[0m: \tinclude_edis: False\n",
      "\u001b[34m\u001b[1mwandb\u001b[0m: \tinclude_mgdis: True\n",
      "\u001b[34m\u001b[1mwandb\u001b[0m: \tinclude_mpc: True\n",
      "\u001b[34m\u001b[1mwandb\u001b[0m: \tinclude_sharpness: True\n",
      "\u001b[34m\u001b[1mwandb\u001b[0m: \tinclude_texture: True\n",
      "\u001b[34m\u001b[1mwandb\u001b[0m: \tlearning_rate: 0.005\n",
      "\u001b[34m\u001b[1mwandb\u001b[0m: \tloss_function: mean_absolute_error\n"
     ]
    },
    {
     "data": {
      "text/html": [
       "Tracking run with wandb version 0.18.7"
      ],
      "text/plain": [
       "<IPython.core.display.HTML object>"
      ]
     },
     "metadata": {},
     "output_type": "display_data"
    },
    {
     "data": {
      "text/html": [
       "Run data is saved locally in <code>/home/walt/FociNet/wandb/run-20241124_152046-qzf4rv2w</code>"
      ],
      "text/plain": [
       "<IPython.core.display.HTML object>"
      ]
     },
     "metadata": {},
     "output_type": "display_data"
    },
    {
     "data": {
      "text/html": [
       "Syncing run <strong><a href='https://wandb.ai/walt_/dose-prediction/runs/qzf4rv2w' target=\"_blank\">lyric-sweep-17</a></strong> to <a href='https://wandb.ai/walt_/dose-prediction' target=\"_blank\">Weights & Biases</a> (<a href='https://wandb.me/developer-guide' target=\"_blank\">docs</a>)<br/>Sweep page: <a href='https://wandb.ai/walt_/dose-prediction/sweeps/ijck5aqp' target=\"_blank\">https://wandb.ai/walt_/dose-prediction/sweeps/ijck5aqp</a>"
      ],
      "text/plain": [
       "<IPython.core.display.HTML object>"
      ]
     },
     "metadata": {},
     "output_type": "display_data"
    },
    {
     "data": {
      "text/html": [
       " View project at <a href='https://wandb.ai/walt_/dose-prediction' target=\"_blank\">https://wandb.ai/walt_/dose-prediction</a>"
      ],
      "text/plain": [
       "<IPython.core.display.HTML object>"
      ]
     },
     "metadata": {},
     "output_type": "display_data"
    },
    {
     "data": {
      "text/html": [
       " View sweep at <a href='https://wandb.ai/walt_/dose-prediction/sweeps/ijck5aqp' target=\"_blank\">https://wandb.ai/walt_/dose-prediction/sweeps/ijck5aqp</a>"
      ],
      "text/plain": [
       "<IPython.core.display.HTML object>"
      ]
     },
     "metadata": {},
     "output_type": "display_data"
    },
    {
     "data": {
      "text/html": [
       " View run at <a href='https://wandb.ai/walt_/dose-prediction/runs/qzf4rv2w' target=\"_blank\">https://wandb.ai/walt_/dose-prediction/runs/qzf4rv2w</a>"
      ],
      "text/plain": [
       "<IPython.core.display.HTML object>"
      ]
     },
     "metadata": {},
     "output_type": "display_data"
    },
    {
     "name": "stdout",
     "output_type": "stream",
     "text": [
      "Active Feature Config: {'activation_function': 'tanh', 'batch_size': 16, 'epochs': 20, 'include_edis': False, 'include_mgdis': True, 'include_mpc': True, 'include_sharpness': True, 'include_texture': True, 'learning_rate': 0.005, 'loss_function': 'mean_absolute_error'}\n",
      "Subset X_train shape: (9766, 6)\n",
      "Subset X_val shape: (2790, 6)\n",
      "Subset X_test shape: (1396, 6)\n",
      "Calculated input_dim: 6\n",
      "Epoch 1/20\n",
      "611/611 - 3s - 4ms/step - loss: 0.2933 - mae: 0.2933 - val_loss: 0.2829 - val_mae: 0.2829\n",
      "Epoch 2/20\n",
      "611/611 - 1s - 2ms/step - loss: 0.2768 - mae: 0.2768 - val_loss: 0.2827 - val_mae: 0.2827\n",
      "Epoch 3/20\n",
      "611/611 - 1s - 2ms/step - loss: 0.2324 - mae: 0.2324 - val_loss: 0.1996 - val_mae: 0.1996\n",
      "Epoch 4/20\n",
      "611/611 - 1s - 2ms/step - loss: 0.1995 - mae: 0.1995 - val_loss: 0.2271 - val_mae: 0.2271\n",
      "Epoch 5/20\n",
      "611/611 - 1s - 2ms/step - loss: 0.1960 - mae: 0.1960 - val_loss: 0.1923 - val_mae: 0.1923\n",
      "Epoch 6/20\n",
      "611/611 - 1s - 2ms/step - loss: 0.1914 - mae: 0.1914 - val_loss: 0.1839 - val_mae: 0.1839\n",
      "Epoch 7/20\n",
      "611/611 - 1s - 2ms/step - loss: 0.1895 - mae: 0.1895 - val_loss: 0.1837 - val_mae: 0.1837\n",
      "Epoch 8/20\n",
      "611/611 - 1s - 2ms/step - loss: 0.1882 - mae: 0.1882 - val_loss: 0.1835 - val_mae: 0.1835\n",
      "Epoch 9/20\n",
      "611/611 - 1s - 2ms/step - loss: 0.1864 - mae: 0.1864 - val_loss: 0.1832 - val_mae: 0.1832\n",
      "Epoch 10/20\n",
      "611/611 - 1s - 2ms/step - loss: 0.1836 - mae: 0.1836 - val_loss: 0.1884 - val_mae: 0.1884\n",
      "Epoch 11/20\n",
      "611/611 - 1s - 2ms/step - loss: 0.1844 - mae: 0.1844 - val_loss: 0.1961 - val_mae: 0.1961\n",
      "Epoch 12/20\n",
      "611/611 - 1s - 2ms/step - loss: 0.1891 - mae: 0.1891 - val_loss: 0.1922 - val_mae: 0.1922\n",
      "Epoch 13/20\n",
      "611/611 - 1s - 2ms/step - loss: 0.1826 - mae: 0.1826 - val_loss: 0.1894 - val_mae: 0.1894\n",
      "Epoch 14/20\n",
      "611/611 - 1s - 2ms/step - loss: 0.1822 - mae: 0.1822 - val_loss: 0.1827 - val_mae: 0.1827\n",
      "Epoch 15/20\n",
      "611/611 - 1s - 2ms/step - loss: 0.1834 - mae: 0.1834 - val_loss: 0.1783 - val_mae: 0.1783\n",
      "Epoch 16/20\n",
      "611/611 - 1s - 2ms/step - loss: 0.1852 - mae: 0.1852 - val_loss: 0.1793 - val_mae: 0.1793\n",
      "Epoch 17/20\n",
      "611/611 - 1s - 2ms/step - loss: 0.1828 - mae: 0.1828 - val_loss: 0.1851 - val_mae: 0.1851\n",
      "Epoch 18/20\n",
      "611/611 - 1s - 2ms/step - loss: 0.1823 - mae: 0.1823 - val_loss: 0.1864 - val_mae: 0.1864\n",
      "Epoch 19/20\n",
      "611/611 - 1s - 2ms/step - loss: 0.1781 - mae: 0.1781 - val_loss: 0.1739 - val_mae: 0.1739\n",
      "Epoch 20/20\n",
      "611/611 - 1s - 2ms/step - loss: 0.1773 - mae: 0.1773 - val_loss: 0.1739 - val_mae: 0.1739\n",
      "\u001b[1m44/44\u001b[0m \u001b[32m━━━━━━━━━━━━━━━━━━━━\u001b[0m\u001b[37m\u001b[0m \u001b[1m0s\u001b[0m 4ms/step\n"
     ]
    },
    {
     "data": {
      "text/html": [
       "\n",
       "    <style>\n",
       "        .wandb-row {\n",
       "            display: flex;\n",
       "            flex-direction: row;\n",
       "            flex-wrap: wrap;\n",
       "            justify-content: flex-start;\n",
       "            width: 100%;\n",
       "        }\n",
       "        .wandb-col {\n",
       "            display: flex;\n",
       "            flex-direction: column;\n",
       "            flex-basis: 100%;\n",
       "            flex: 1;\n",
       "            padding: 10px;\n",
       "        }\n",
       "    </style>\n",
       "<div class=\"wandb-row\"><div class=\"wandb-col\"><h3>Run history:</h3><br/><table class=\"wandb\"><tr><td>Max Absolute Error (Test)</td><td>▁</td></tr><tr><td>Mean Absolute Error (Test)</td><td>▁</td></tr><tr><td>R²</td><td>▁</td></tr><tr><td>Test Loss</td><td>▁</td></tr><tr><td>Test MAE</td><td>▁</td></tr><tr><td>epoch</td><td>▁▁▂▂▂▃▃▄▄▄▅▅▅▆▆▇▇▇██</td></tr><tr><td>epoch/epoch</td><td>▁▁▂▂▂▃▃▄▄▄▅▅▅▆▆▇▇▇██</td></tr><tr><td>epoch/learning_rate</td><td>▁▁▁▁▁▁▁▁▁▁▁▁▁▁▁▁▁▁▁▁</td></tr><tr><td>epoch/loss</td><td>█▇▄▂▂▂▂▂▂▁▁▂▁▁▁▁▁▁▁▁</td></tr><tr><td>epoch/mae</td><td>█▇▄▂▂▂▂▂▂▁▁▂▁▁▁▁▁▁▁▁</td></tr><tr><td>epoch/val_loss</td><td>██▃▄▂▂▂▂▂▂▂▂▂▂▁▁▂▂▁▁</td></tr><tr><td>epoch/val_mae</td><td>██▃▄▂▂▂▂▂▂▂▂▂▂▁▁▂▂▁▁</td></tr><tr><td>train_loss</td><td>█▇▄▂▂▂▂▂▂▁▁▂▁▁▁▁▁▁▁▁</td></tr><tr><td>train_mae</td><td>█▇▄▂▂▂▂▂▂▁▁▂▁▁▁▁▁▁▁▁</td></tr><tr><td>val_loss</td><td>██▃▄▂▂▂▂▂▂▂▂▂▂▁▁▂▂▁▁</td></tr><tr><td>val_mae</td><td>██▃▄▂▂▂▂▂▂▂▂▂▂▁▁▂▂▁▁</td></tr></table><br/></div><div class=\"wandb-col\"><h3>Run summary:</h3><br/><table class=\"wandb\"><tr><td>Max Absolute Error (Test)</td><td>1.01255</td></tr><tr><td>Mean Absolute Error (Test)</td><td>0.15969</td></tr><tr><td>R²</td><td>0.40061</td></tr><tr><td>Test Loss</td><td>0.15969</td></tr><tr><td>Test MAE</td><td>0.15969</td></tr><tr><td>epoch</td><td>19</td></tr><tr><td>epoch/epoch</td><td>19</td></tr><tr><td>epoch/learning_rate</td><td>0.005</td></tr><tr><td>epoch/loss</td><td>0.17726</td></tr><tr><td>epoch/mae</td><td>0.17726</td></tr><tr><td>epoch/val_loss</td><td>0.17392</td></tr><tr><td>epoch/val_mae</td><td>0.17392</td></tr><tr><td>train_loss</td><td>0.17726</td></tr><tr><td>train_mae</td><td>0.17726</td></tr><tr><td>val_loss</td><td>0.17392</td></tr><tr><td>val_mae</td><td>0.17392</td></tr></table><br/></div></div>"
      ],
      "text/plain": [
       "<IPython.core.display.HTML object>"
      ]
     },
     "metadata": {},
     "output_type": "display_data"
    },
    {
     "data": {
      "text/html": [
       " View run <strong style=\"color:#cdcd00\">lyric-sweep-17</strong> at: <a href='https://wandb.ai/walt_/dose-prediction/runs/qzf4rv2w' target=\"_blank\">https://wandb.ai/walt_/dose-prediction/runs/qzf4rv2w</a><br/> View project at: <a href='https://wandb.ai/walt_/dose-prediction' target=\"_blank\">https://wandb.ai/walt_/dose-prediction</a><br/>Synced 5 W&B file(s), 0 media file(s), 0 artifact file(s) and 0 other file(s)"
      ],
      "text/plain": [
       "<IPython.core.display.HTML object>"
      ]
     },
     "metadata": {},
     "output_type": "display_data"
    },
    {
     "data": {
      "text/html": [
       "Find logs at: <code>./wandb/run-20241124_152046-qzf4rv2w/logs</code>"
      ],
      "text/plain": [
       "<IPython.core.display.HTML object>"
      ]
     },
     "metadata": {},
     "output_type": "display_data"
    },
    {
     "name": "stderr",
     "output_type": "stream",
     "text": [
      "\u001b[34m\u001b[1mwandb\u001b[0m: Sweep Agent: Waiting for job.\n",
      "\u001b[34m\u001b[1mwandb\u001b[0m: Job received.\n",
      "\u001b[34m\u001b[1mwandb\u001b[0m: Agent Starting Run: 87t2wxo3 with config:\n",
      "\u001b[34m\u001b[1mwandb\u001b[0m: \tactivation_function: tanh\n",
      "\u001b[34m\u001b[1mwandb\u001b[0m: \tbatch_size: 16\n",
      "\u001b[34m\u001b[1mwandb\u001b[0m: \tepochs: 20\n",
      "\u001b[34m\u001b[1mwandb\u001b[0m: \tinclude_edis: False\n",
      "\u001b[34m\u001b[1mwandb\u001b[0m: \tinclude_mgdis: True\n",
      "\u001b[34m\u001b[1mwandb\u001b[0m: \tinclude_mpc: True\n",
      "\u001b[34m\u001b[1mwandb\u001b[0m: \tinclude_sharpness: True\n",
      "\u001b[34m\u001b[1mwandb\u001b[0m: \tinclude_texture: False\n",
      "\u001b[34m\u001b[1mwandb\u001b[0m: \tlearning_rate: 0.005\n",
      "\u001b[34m\u001b[1mwandb\u001b[0m: \tloss_function: mean_absolute_error\n"
     ]
    },
    {
     "data": {
      "text/html": [
       "Tracking run with wandb version 0.18.7"
      ],
      "text/plain": [
       "<IPython.core.display.HTML object>"
      ]
     },
     "metadata": {},
     "output_type": "display_data"
    },
    {
     "data": {
      "text/html": [
       "Run data is saved locally in <code>/home/walt/FociNet/wandb/run-20241124_152127-87t2wxo3</code>"
      ],
      "text/plain": [
       "<IPython.core.display.HTML object>"
      ]
     },
     "metadata": {},
     "output_type": "display_data"
    },
    {
     "data": {
      "text/html": [
       "Syncing run <strong><a href='https://wandb.ai/walt_/dose-prediction/runs/87t2wxo3' target=\"_blank\">different-sweep-18</a></strong> to <a href='https://wandb.ai/walt_/dose-prediction' target=\"_blank\">Weights & Biases</a> (<a href='https://wandb.me/developer-guide' target=\"_blank\">docs</a>)<br/>Sweep page: <a href='https://wandb.ai/walt_/dose-prediction/sweeps/ijck5aqp' target=\"_blank\">https://wandb.ai/walt_/dose-prediction/sweeps/ijck5aqp</a>"
      ],
      "text/plain": [
       "<IPython.core.display.HTML object>"
      ]
     },
     "metadata": {},
     "output_type": "display_data"
    },
    {
     "data": {
      "text/html": [
       " View project at <a href='https://wandb.ai/walt_/dose-prediction' target=\"_blank\">https://wandb.ai/walt_/dose-prediction</a>"
      ],
      "text/plain": [
       "<IPython.core.display.HTML object>"
      ]
     },
     "metadata": {},
     "output_type": "display_data"
    },
    {
     "data": {
      "text/html": [
       " View sweep at <a href='https://wandb.ai/walt_/dose-prediction/sweeps/ijck5aqp' target=\"_blank\">https://wandb.ai/walt_/dose-prediction/sweeps/ijck5aqp</a>"
      ],
      "text/plain": [
       "<IPython.core.display.HTML object>"
      ]
     },
     "metadata": {},
     "output_type": "display_data"
    },
    {
     "data": {
      "text/html": [
       " View run at <a href='https://wandb.ai/walt_/dose-prediction/runs/87t2wxo3' target=\"_blank\">https://wandb.ai/walt_/dose-prediction/runs/87t2wxo3</a>"
      ],
      "text/plain": [
       "<IPython.core.display.HTML object>"
      ]
     },
     "metadata": {},
     "output_type": "display_data"
    },
    {
     "name": "stdout",
     "output_type": "stream",
     "text": [
      "Active Feature Config: {'activation_function': 'tanh', 'batch_size': 16, 'epochs': 20, 'include_edis': False, 'include_mgdis': True, 'include_mpc': True, 'include_sharpness': True, 'include_texture': False, 'learning_rate': 0.005, 'loss_function': 'mean_absolute_error'}\n",
      "Subset X_train shape: (9766, 4)\n",
      "Subset X_val shape: (2790, 4)\n",
      "Subset X_test shape: (1396, 4)\n",
      "Calculated input_dim: 4\n",
      "Epoch 1/20\n",
      "611/611 - 3s - 5ms/step - loss: 0.2934 - mae: 0.2934 - val_loss: 0.2666 - val_mae: 0.2666\n",
      "Epoch 2/20\n",
      "611/611 - 1s - 2ms/step - loss: 0.2625 - mae: 0.2625 - val_loss: 0.2323 - val_mae: 0.2323\n",
      "Epoch 3/20\n",
      "611/611 - 1s - 2ms/step - loss: 0.2203 - mae: 0.2203 - val_loss: 0.2110 - val_mae: 0.2110\n",
      "Epoch 4/20\n",
      "611/611 - 1s - 2ms/step - loss: 0.2079 - mae: 0.2079 - val_loss: 0.2055 - val_mae: 0.2055\n",
      "Epoch 5/20\n",
      "611/611 - 1s - 2ms/step - loss: 0.2010 - mae: 0.2010 - val_loss: 0.2039 - val_mae: 0.2039\n",
      "Epoch 6/20\n",
      "611/611 - 1s - 2ms/step - loss: 0.1986 - mae: 0.1986 - val_loss: 0.2142 - val_mae: 0.2142\n",
      "Epoch 7/20\n",
      "611/611 - 1s - 2ms/step - loss: 0.1948 - mae: 0.1948 - val_loss: 0.1989 - val_mae: 0.1989\n",
      "Epoch 8/20\n",
      "611/611 - 1s - 2ms/step - loss: 0.1907 - mae: 0.1907 - val_loss: 0.2056 - val_mae: 0.2056\n",
      "Epoch 9/20\n",
      "611/611 - 1s - 2ms/step - loss: 0.1938 - mae: 0.1938 - val_loss: 0.1955 - val_mae: 0.1955\n",
      "Epoch 10/20\n",
      "611/611 - 1s - 2ms/step - loss: 0.1900 - mae: 0.1900 - val_loss: 0.1891 - val_mae: 0.1891\n",
      "Epoch 11/20\n",
      "611/611 - 1s - 2ms/step - loss: 0.1891 - mae: 0.1891 - val_loss: 0.1993 - val_mae: 0.1993\n",
      "Epoch 12/20\n",
      "611/611 - 1s - 2ms/step - loss: 0.1878 - mae: 0.1878 - val_loss: 0.1899 - val_mae: 0.1899\n",
      "Epoch 13/20\n",
      "611/611 - 1s - 2ms/step - loss: 0.1880 - mae: 0.1880 - val_loss: 0.1918 - val_mae: 0.1918\n",
      "Epoch 14/20\n",
      "611/611 - 1s - 2ms/step - loss: 0.1873 - mae: 0.1873 - val_loss: 0.1886 - val_mae: 0.1886\n",
      "Epoch 15/20\n",
      "611/611 - 1s - 2ms/step - loss: 0.1830 - mae: 0.1830 - val_loss: 0.1876 - val_mae: 0.1876\n",
      "Epoch 16/20\n",
      "611/611 - 1s - 2ms/step - loss: 0.1849 - mae: 0.1849 - val_loss: 0.1878 - val_mae: 0.1878\n",
      "Epoch 17/20\n",
      "611/611 - 1s - 2ms/step - loss: 0.1853 - mae: 0.1853 - val_loss: 0.1941 - val_mae: 0.1941\n",
      "Epoch 18/20\n",
      "611/611 - 1s - 2ms/step - loss: 0.1863 - mae: 0.1863 - val_loss: 0.1883 - val_mae: 0.1883\n",
      "Epoch 19/20\n",
      "611/611 - 1s - 2ms/step - loss: 0.1859 - mae: 0.1859 - val_loss: 0.1894 - val_mae: 0.1894\n",
      "Epoch 20/20\n",
      "611/611 - 1s - 2ms/step - loss: 0.1814 - mae: 0.1814 - val_loss: 0.1857 - val_mae: 0.1857\n",
      "\u001b[1m44/44\u001b[0m \u001b[32m━━━━━━━━━━━━━━━━━━━━\u001b[0m\u001b[37m\u001b[0m \u001b[1m0s\u001b[0m 4ms/step\n"
     ]
    },
    {
     "data": {
      "text/html": [
       "\n",
       "    <style>\n",
       "        .wandb-row {\n",
       "            display: flex;\n",
       "            flex-direction: row;\n",
       "            flex-wrap: wrap;\n",
       "            justify-content: flex-start;\n",
       "            width: 100%;\n",
       "        }\n",
       "        .wandb-col {\n",
       "            display: flex;\n",
       "            flex-direction: column;\n",
       "            flex-basis: 100%;\n",
       "            flex: 1;\n",
       "            padding: 10px;\n",
       "        }\n",
       "    </style>\n",
       "<div class=\"wandb-row\"><div class=\"wandb-col\"><h3>Run history:</h3><br/><table class=\"wandb\"><tr><td>Max Absolute Error (Test)</td><td>▁</td></tr><tr><td>Mean Absolute Error (Test)</td><td>▁</td></tr><tr><td>R²</td><td>▁</td></tr><tr><td>Test Loss</td><td>▁</td></tr><tr><td>Test MAE</td><td>▁</td></tr><tr><td>epoch</td><td>▁▁▂▂▂▃▃▄▄▄▅▅▅▆▆▇▇▇██</td></tr><tr><td>epoch/epoch</td><td>▁▁▂▂▂▃▃▄▄▄▅▅▅▆▆▇▇▇██</td></tr><tr><td>epoch/learning_rate</td><td>▁▁▁▁▁▁▁▁▁▁▁▁▁▁▁▁▁▁▁▁</td></tr><tr><td>epoch/loss</td><td>█▆▃▃▂▂▂▂▂▂▁▁▁▁▁▁▁▁▁▁</td></tr><tr><td>epoch/mae</td><td>█▆▃▃▂▂▂▂▂▂▁▁▁▁▁▁▁▁▁▁</td></tr><tr><td>epoch/val_loss</td><td>█▅▃▃▃▃▂▃▂▁▂▁▂▁▁▁▂▁▁▁</td></tr><tr><td>epoch/val_mae</td><td>█▅▃▃▃▃▂▃▂▁▂▁▂▁▁▁▂▁▁▁</td></tr><tr><td>train_loss</td><td>█▆▃▃▂▂▂▂▂▂▁▁▁▁▁▁▁▁▁▁</td></tr><tr><td>train_mae</td><td>█▆▃▃▂▂▂▂▂▂▁▁▁▁▁▁▁▁▁▁</td></tr><tr><td>val_loss</td><td>█▅▃▃▃▃▂▃▂▁▂▁▂▁▁▁▂▁▁▁</td></tr><tr><td>val_mae</td><td>█▅▃▃▃▃▂▃▂▁▂▁▂▁▁▁▂▁▁▁</td></tr></table><br/></div><div class=\"wandb-col\"><h3>Run summary:</h3><br/><table class=\"wandb\"><tr><td>Max Absolute Error (Test)</td><td>1.00348</td></tr><tr><td>Mean Absolute Error (Test)</td><td>0.17032</td></tr><tr><td>R²</td><td>0.37095</td></tr><tr><td>Test Loss</td><td>0.17032</td></tr><tr><td>Test MAE</td><td>0.17032</td></tr><tr><td>epoch</td><td>19</td></tr><tr><td>epoch/epoch</td><td>19</td></tr><tr><td>epoch/learning_rate</td><td>0.005</td></tr><tr><td>epoch/loss</td><td>0.18144</td></tr><tr><td>epoch/mae</td><td>0.18144</td></tr><tr><td>epoch/val_loss</td><td>0.18571</td></tr><tr><td>epoch/val_mae</td><td>0.18571</td></tr><tr><td>train_loss</td><td>0.18144</td></tr><tr><td>train_mae</td><td>0.18144</td></tr><tr><td>val_loss</td><td>0.18571</td></tr><tr><td>val_mae</td><td>0.18571</td></tr></table><br/></div></div>"
      ],
      "text/plain": [
       "<IPython.core.display.HTML object>"
      ]
     },
     "metadata": {},
     "output_type": "display_data"
    },
    {
     "data": {
      "text/html": [
       " View run <strong style=\"color:#cdcd00\">different-sweep-18</strong> at: <a href='https://wandb.ai/walt_/dose-prediction/runs/87t2wxo3' target=\"_blank\">https://wandb.ai/walt_/dose-prediction/runs/87t2wxo3</a><br/> View project at: <a href='https://wandb.ai/walt_/dose-prediction' target=\"_blank\">https://wandb.ai/walt_/dose-prediction</a><br/>Synced 5 W&B file(s), 0 media file(s), 0 artifact file(s) and 0 other file(s)"
      ],
      "text/plain": [
       "<IPython.core.display.HTML object>"
      ]
     },
     "metadata": {},
     "output_type": "display_data"
    },
    {
     "data": {
      "text/html": [
       "Find logs at: <code>./wandb/run-20241124_152127-87t2wxo3/logs</code>"
      ],
      "text/plain": [
       "<IPython.core.display.HTML object>"
      ]
     },
     "metadata": {},
     "output_type": "display_data"
    },
    {
     "name": "stderr",
     "output_type": "stream",
     "text": [
      "\u001b[34m\u001b[1mwandb\u001b[0m: Agent Starting Run: 3tmj5lx9 with config:\n",
      "\u001b[34m\u001b[1mwandb\u001b[0m: \tactivation_function: tanh\n",
      "\u001b[34m\u001b[1mwandb\u001b[0m: \tbatch_size: 16\n",
      "\u001b[34m\u001b[1mwandb\u001b[0m: \tepochs: 20\n",
      "\u001b[34m\u001b[1mwandb\u001b[0m: \tinclude_edis: False\n",
      "\u001b[34m\u001b[1mwandb\u001b[0m: \tinclude_mgdis: True\n",
      "\u001b[34m\u001b[1mwandb\u001b[0m: \tinclude_mpc: True\n",
      "\u001b[34m\u001b[1mwandb\u001b[0m: \tinclude_sharpness: False\n",
      "\u001b[34m\u001b[1mwandb\u001b[0m: \tinclude_texture: True\n",
      "\u001b[34m\u001b[1mwandb\u001b[0m: \tlearning_rate: 0.005\n",
      "\u001b[34m\u001b[1mwandb\u001b[0m: \tloss_function: mean_absolute_error\n"
     ]
    },
    {
     "data": {
      "text/html": [
       "Tracking run with wandb version 0.18.7"
      ],
      "text/plain": [
       "<IPython.core.display.HTML object>"
      ]
     },
     "metadata": {},
     "output_type": "display_data"
    },
    {
     "data": {
      "text/html": [
       "Run data is saved locally in <code>/home/walt/FociNet/wandb/run-20241124_152202-3tmj5lx9</code>"
      ],
      "text/plain": [
       "<IPython.core.display.HTML object>"
      ]
     },
     "metadata": {},
     "output_type": "display_data"
    },
    {
     "data": {
      "text/html": [
       "Syncing run <strong><a href='https://wandb.ai/walt_/dose-prediction/runs/3tmj5lx9' target=\"_blank\">valiant-sweep-19</a></strong> to <a href='https://wandb.ai/walt_/dose-prediction' target=\"_blank\">Weights & Biases</a> (<a href='https://wandb.me/developer-guide' target=\"_blank\">docs</a>)<br/>Sweep page: <a href='https://wandb.ai/walt_/dose-prediction/sweeps/ijck5aqp' target=\"_blank\">https://wandb.ai/walt_/dose-prediction/sweeps/ijck5aqp</a>"
      ],
      "text/plain": [
       "<IPython.core.display.HTML object>"
      ]
     },
     "metadata": {},
     "output_type": "display_data"
    },
    {
     "data": {
      "text/html": [
       " View project at <a href='https://wandb.ai/walt_/dose-prediction' target=\"_blank\">https://wandb.ai/walt_/dose-prediction</a>"
      ],
      "text/plain": [
       "<IPython.core.display.HTML object>"
      ]
     },
     "metadata": {},
     "output_type": "display_data"
    },
    {
     "data": {
      "text/html": [
       " View sweep at <a href='https://wandb.ai/walt_/dose-prediction/sweeps/ijck5aqp' target=\"_blank\">https://wandb.ai/walt_/dose-prediction/sweeps/ijck5aqp</a>"
      ],
      "text/plain": [
       "<IPython.core.display.HTML object>"
      ]
     },
     "metadata": {},
     "output_type": "display_data"
    },
    {
     "data": {
      "text/html": [
       " View run at <a href='https://wandb.ai/walt_/dose-prediction/runs/3tmj5lx9' target=\"_blank\">https://wandb.ai/walt_/dose-prediction/runs/3tmj5lx9</a>"
      ],
      "text/plain": [
       "<IPython.core.display.HTML object>"
      ]
     },
     "metadata": {},
     "output_type": "display_data"
    },
    {
     "name": "stdout",
     "output_type": "stream",
     "text": [
      "Active Feature Config: {'activation_function': 'tanh', 'batch_size': 16, 'epochs': 20, 'include_edis': False, 'include_mgdis': True, 'include_mpc': True, 'include_sharpness': False, 'include_texture': True, 'learning_rate': 0.005, 'loss_function': 'mean_absolute_error'}\n",
      "Subset X_train shape: (9766, 5)\n",
      "Subset X_val shape: (2790, 5)\n",
      "Subset X_test shape: (1396, 5)\n",
      "Calculated input_dim: 5\n",
      "Epoch 1/20\n",
      "611/611 - 3s - 4ms/step - loss: 0.2896 - mae: 0.2896 - val_loss: 0.2655 - val_mae: 0.2655\n",
      "Epoch 2/20\n",
      "611/611 - 1s - 2ms/step - loss: 0.2735 - mae: 0.2735 - val_loss: 0.2708 - val_mae: 0.2708\n",
      "Epoch 3/20\n",
      "611/611 - 1s - 2ms/step - loss: 0.2237 - mae: 0.2237 - val_loss: 0.1984 - val_mae: 0.1984\n",
      "Epoch 4/20\n",
      "611/611 - 1s - 2ms/step - loss: 0.1992 - mae: 0.1992 - val_loss: 0.2047 - val_mae: 0.2047\n",
      "Epoch 5/20\n",
      "611/611 - 1s - 2ms/step - loss: 0.1940 - mae: 0.1940 - val_loss: 0.1891 - val_mae: 0.1891\n",
      "Epoch 6/20\n",
      "611/611 - 1s - 2ms/step - loss: 0.1914 - mae: 0.1914 - val_loss: 0.1902 - val_mae: 0.1902\n",
      "Epoch 7/20\n",
      "611/611 - 1s - 2ms/step - loss: 0.1888 - mae: 0.1888 - val_loss: 0.1942 - val_mae: 0.1942\n",
      "Epoch 8/20\n",
      "611/611 - 1s - 2ms/step - loss: 0.1897 - mae: 0.1897 - val_loss: 0.1884 - val_mae: 0.1884\n",
      "Epoch 9/20\n",
      "611/611 - 1s - 2ms/step - loss: 0.1825 - mae: 0.1825 - val_loss: 0.1828 - val_mae: 0.1828\n",
      "Epoch 10/20\n",
      "611/611 - 1s - 2ms/step - loss: 0.1828 - mae: 0.1828 - val_loss: 0.1779 - val_mae: 0.1779\n",
      "Epoch 11/20\n",
      "611/611 - 1s - 2ms/step - loss: 0.1817 - mae: 0.1817 - val_loss: 0.1808 - val_mae: 0.1808\n",
      "Epoch 12/20\n",
      "611/611 - 1s - 2ms/step - loss: 0.1828 - mae: 0.1828 - val_loss: 0.1799 - val_mae: 0.1799\n",
      "Epoch 13/20\n",
      "611/611 - 1s - 2ms/step - loss: 0.1812 - mae: 0.1812 - val_loss: 0.1998 - val_mae: 0.1998\n",
      "Epoch 14/20\n",
      "611/611 - 1s - 2ms/step - loss: 0.1803 - mae: 0.1803 - val_loss: 0.1807 - val_mae: 0.1807\n",
      "Epoch 15/20\n",
      "611/611 - 1s - 2ms/step - loss: 0.1856 - mae: 0.1856 - val_loss: 0.1935 - val_mae: 0.1935\n",
      "Epoch 16/20\n",
      "611/611 - 1s - 2ms/step - loss: 0.1812 - mae: 0.1812 - val_loss: 0.2063 - val_mae: 0.2063\n",
      "Epoch 17/20\n",
      "611/611 - 1s - 2ms/step - loss: 0.1823 - mae: 0.1823 - val_loss: 0.1758 - val_mae: 0.1758\n",
      "Epoch 18/20\n",
      "611/611 - 1s - 2ms/step - loss: 0.1794 - mae: 0.1794 - val_loss: 0.1973 - val_mae: 0.1973\n",
      "Epoch 19/20\n",
      "611/611 - 1s - 2ms/step - loss: 0.1780 - mae: 0.1780 - val_loss: 0.1759 - val_mae: 0.1759\n",
      "Epoch 20/20\n",
      "611/611 - 1s - 2ms/step - loss: 0.1811 - mae: 0.1811 - val_loss: 0.1781 - val_mae: 0.1781\n",
      "\u001b[1m44/44\u001b[0m \u001b[32m━━━━━━━━━━━━━━━━━━━━\u001b[0m\u001b[37m\u001b[0m \u001b[1m0s\u001b[0m 4ms/step\n"
     ]
    },
    {
     "data": {
      "text/html": [
       "\n",
       "    <style>\n",
       "        .wandb-row {\n",
       "            display: flex;\n",
       "            flex-direction: row;\n",
       "            flex-wrap: wrap;\n",
       "            justify-content: flex-start;\n",
       "            width: 100%;\n",
       "        }\n",
       "        .wandb-col {\n",
       "            display: flex;\n",
       "            flex-direction: column;\n",
       "            flex-basis: 100%;\n",
       "            flex: 1;\n",
       "            padding: 10px;\n",
       "        }\n",
       "    </style>\n",
       "<div class=\"wandb-row\"><div class=\"wandb-col\"><h3>Run history:</h3><br/><table class=\"wandb\"><tr><td>Max Absolute Error (Test)</td><td>▁</td></tr><tr><td>Mean Absolute Error (Test)</td><td>▁</td></tr><tr><td>R²</td><td>▁</td></tr><tr><td>Test Loss</td><td>▁</td></tr><tr><td>Test MAE</td><td>▁</td></tr><tr><td>epoch</td><td>▁▁▂▂▂▃▃▄▄▄▅▅▅▆▆▇▇▇██</td></tr><tr><td>epoch/epoch</td><td>▁▁▂▂▂▃▃▄▄▄▅▅▅▆▆▇▇▇██</td></tr><tr><td>epoch/learning_rate</td><td>▁▁▁▁▁▁▁▁▁▁▁▁▁▁▁▁▁▁▁▁</td></tr><tr><td>epoch/loss</td><td>█▇▄▂▂▂▂▂▁▁▁▁▁▁▁▁▁▁▁▁</td></tr><tr><td>epoch/mae</td><td>█▇▄▂▂▂▂▂▁▁▁▁▁▁▁▁▁▁▁▁</td></tr><tr><td>epoch/val_loss</td><td>██▃▃▂▂▂▂▂▁▁▁▃▁▂▃▁▃▁▁</td></tr><tr><td>epoch/val_mae</td><td>██▃▃▂▂▂▂▂▁▁▁▃▁▂▃▁▃▁▁</td></tr><tr><td>train_loss</td><td>█▇▄▂▂▂▂▂▁▁▁▁▁▁▁▁▁▁▁▁</td></tr><tr><td>train_mae</td><td>█▇▄▂▂▂▂▂▁▁▁▁▁▁▁▁▁▁▁▁</td></tr><tr><td>val_loss</td><td>██▃▃▂▂▂▂▂▁▁▁▃▁▂▃▁▃▁▁</td></tr><tr><td>val_mae</td><td>██▃▃▂▂▂▂▂▁▁▁▃▁▂▃▁▃▁▁</td></tr></table><br/></div><div class=\"wandb-col\"><h3>Run summary:</h3><br/><table class=\"wandb\"><tr><td>Max Absolute Error (Test)</td><td>0.9992</td></tr><tr><td>Mean Absolute Error (Test)</td><td>0.17019</td></tr><tr><td>R²</td><td>0.3645</td></tr><tr><td>Test Loss</td><td>0.17019</td></tr><tr><td>Test MAE</td><td>0.17019</td></tr><tr><td>epoch</td><td>19</td></tr><tr><td>epoch/epoch</td><td>19</td></tr><tr><td>epoch/learning_rate</td><td>0.005</td></tr><tr><td>epoch/loss</td><td>0.1811</td></tr><tr><td>epoch/mae</td><td>0.1811</td></tr><tr><td>epoch/val_loss</td><td>0.17807</td></tr><tr><td>epoch/val_mae</td><td>0.17807</td></tr><tr><td>train_loss</td><td>0.1811</td></tr><tr><td>train_mae</td><td>0.1811</td></tr><tr><td>val_loss</td><td>0.17807</td></tr><tr><td>val_mae</td><td>0.17807</td></tr></table><br/></div></div>"
      ],
      "text/plain": [
       "<IPython.core.display.HTML object>"
      ]
     },
     "metadata": {},
     "output_type": "display_data"
    },
    {
     "data": {
      "text/html": [
       " View run <strong style=\"color:#cdcd00\">valiant-sweep-19</strong> at: <a href='https://wandb.ai/walt_/dose-prediction/runs/3tmj5lx9' target=\"_blank\">https://wandb.ai/walt_/dose-prediction/runs/3tmj5lx9</a><br/> View project at: <a href='https://wandb.ai/walt_/dose-prediction' target=\"_blank\">https://wandb.ai/walt_/dose-prediction</a><br/>Synced 5 W&B file(s), 0 media file(s), 0 artifact file(s) and 0 other file(s)"
      ],
      "text/plain": [
       "<IPython.core.display.HTML object>"
      ]
     },
     "metadata": {},
     "output_type": "display_data"
    },
    {
     "data": {
      "text/html": [
       "Find logs at: <code>./wandb/run-20241124_152202-3tmj5lx9/logs</code>"
      ],
      "text/plain": [
       "<IPython.core.display.HTML object>"
      ]
     },
     "metadata": {},
     "output_type": "display_data"
    },
    {
     "name": "stderr",
     "output_type": "stream",
     "text": [
      "\u001b[34m\u001b[1mwandb\u001b[0m: Agent Starting Run: 4imgk0j8 with config:\n",
      "\u001b[34m\u001b[1mwandb\u001b[0m: \tactivation_function: tanh\n",
      "\u001b[34m\u001b[1mwandb\u001b[0m: \tbatch_size: 16\n",
      "\u001b[34m\u001b[1mwandb\u001b[0m: \tepochs: 20\n",
      "\u001b[34m\u001b[1mwandb\u001b[0m: \tinclude_edis: False\n",
      "\u001b[34m\u001b[1mwandb\u001b[0m: \tinclude_mgdis: True\n",
      "\u001b[34m\u001b[1mwandb\u001b[0m: \tinclude_mpc: True\n",
      "\u001b[34m\u001b[1mwandb\u001b[0m: \tinclude_sharpness: False\n",
      "\u001b[34m\u001b[1mwandb\u001b[0m: \tinclude_texture: False\n",
      "\u001b[34m\u001b[1mwandb\u001b[0m: \tlearning_rate: 0.005\n",
      "\u001b[34m\u001b[1mwandb\u001b[0m: \tloss_function: mean_absolute_error\n"
     ]
    },
    {
     "data": {
      "text/html": [
       "Tracking run with wandb version 0.18.7"
      ],
      "text/plain": [
       "<IPython.core.display.HTML object>"
      ]
     },
     "metadata": {},
     "output_type": "display_data"
    },
    {
     "data": {
      "text/html": [
       "Run data is saved locally in <code>/home/walt/FociNet/wandb/run-20241124_152238-4imgk0j8</code>"
      ],
      "text/plain": [
       "<IPython.core.display.HTML object>"
      ]
     },
     "metadata": {},
     "output_type": "display_data"
    },
    {
     "data": {
      "text/html": [
       "Syncing run <strong><a href='https://wandb.ai/walt_/dose-prediction/runs/4imgk0j8' target=\"_blank\">dauntless-sweep-20</a></strong> to <a href='https://wandb.ai/walt_/dose-prediction' target=\"_blank\">Weights & Biases</a> (<a href='https://wandb.me/developer-guide' target=\"_blank\">docs</a>)<br/>Sweep page: <a href='https://wandb.ai/walt_/dose-prediction/sweeps/ijck5aqp' target=\"_blank\">https://wandb.ai/walt_/dose-prediction/sweeps/ijck5aqp</a>"
      ],
      "text/plain": [
       "<IPython.core.display.HTML object>"
      ]
     },
     "metadata": {},
     "output_type": "display_data"
    },
    {
     "data": {
      "text/html": [
       " View project at <a href='https://wandb.ai/walt_/dose-prediction' target=\"_blank\">https://wandb.ai/walt_/dose-prediction</a>"
      ],
      "text/plain": [
       "<IPython.core.display.HTML object>"
      ]
     },
     "metadata": {},
     "output_type": "display_data"
    },
    {
     "data": {
      "text/html": [
       " View sweep at <a href='https://wandb.ai/walt_/dose-prediction/sweeps/ijck5aqp' target=\"_blank\">https://wandb.ai/walt_/dose-prediction/sweeps/ijck5aqp</a>"
      ],
      "text/plain": [
       "<IPython.core.display.HTML object>"
      ]
     },
     "metadata": {},
     "output_type": "display_data"
    },
    {
     "data": {
      "text/html": [
       " View run at <a href='https://wandb.ai/walt_/dose-prediction/runs/4imgk0j8' target=\"_blank\">https://wandb.ai/walt_/dose-prediction/runs/4imgk0j8</a>"
      ],
      "text/plain": [
       "<IPython.core.display.HTML object>"
      ]
     },
     "metadata": {},
     "output_type": "display_data"
    },
    {
     "name": "stdout",
     "output_type": "stream",
     "text": [
      "Active Feature Config: {'activation_function': 'tanh', 'batch_size': 16, 'epochs': 20, 'include_edis': False, 'include_mgdis': True, 'include_mpc': True, 'include_sharpness': False, 'include_texture': False, 'learning_rate': 0.005, 'loss_function': 'mean_absolute_error'}\n",
      "Subset X_train shape: (9766, 3)\n",
      "Subset X_val shape: (2790, 3)\n",
      "Subset X_test shape: (1396, 3)\n",
      "Calculated input_dim: 3\n",
      "Epoch 1/20\n",
      "611/611 - 3s - 5ms/step - loss: 0.3000 - mae: 0.3000 - val_loss: 0.2998 - val_mae: 0.2998\n",
      "Epoch 2/20\n",
      "611/611 - 1s - 2ms/step - loss: 0.2950 - mae: 0.2950 - val_loss: 0.2920 - val_mae: 0.2920\n",
      "Epoch 3/20\n",
      "611/611 - 1s - 2ms/step - loss: 0.2946 - mae: 0.2946 - val_loss: 0.2873 - val_mae: 0.2873\n",
      "Epoch 4/20\n",
      "611/611 - 1s - 2ms/step - loss: 0.2916 - mae: 0.2916 - val_loss: 0.2987 - val_mae: 0.2987\n",
      "Epoch 5/20\n",
      "611/611 - 1s - 2ms/step - loss: 0.2814 - mae: 0.2814 - val_loss: 0.2412 - val_mae: 0.2412\n",
      "Epoch 6/20\n",
      "611/611 - 1s - 2ms/step - loss: 0.2426 - mae: 0.2426 - val_loss: 0.2311 - val_mae: 0.2311\n",
      "Epoch 7/20\n",
      "611/611 - 1s - 2ms/step - loss: 0.2372 - mae: 0.2372 - val_loss: 0.2318 - val_mae: 0.2318\n",
      "Epoch 8/20\n",
      "611/611 - 1s - 2ms/step - loss: 0.2353 - mae: 0.2353 - val_loss: 0.2430 - val_mae: 0.2430\n",
      "Epoch 9/20\n",
      "611/611 - 1s - 2ms/step - loss: 0.2350 - mae: 0.2350 - val_loss: 0.2370 - val_mae: 0.2370\n",
      "Epoch 10/20\n",
      "611/611 - 1s - 2ms/step - loss: 0.2317 - mae: 0.2317 - val_loss: 0.2367 - val_mae: 0.2367\n",
      "Epoch 11/20\n",
      "611/611 - 1s - 2ms/step - loss: 0.2317 - mae: 0.2317 - val_loss: 0.2272 - val_mae: 0.2272\n",
      "Epoch 12/20\n",
      "611/611 - 1s - 2ms/step - loss: 0.2298 - mae: 0.2298 - val_loss: 0.2299 - val_mae: 0.2299\n",
      "Epoch 13/20\n",
      "611/611 - 1s - 2ms/step - loss: 0.2294 - mae: 0.2294 - val_loss: 0.2252 - val_mae: 0.2252\n",
      "Epoch 14/20\n",
      "611/611 - 1s - 2ms/step - loss: 0.2286 - mae: 0.2286 - val_loss: 0.2252 - val_mae: 0.2252\n",
      "Epoch 15/20\n",
      "611/611 - 1s - 2ms/step - loss: 0.2319 - mae: 0.2319 - val_loss: 0.2219 - val_mae: 0.2219\n",
      "Epoch 16/20\n",
      "611/611 - 1s - 2ms/step - loss: 0.2304 - mae: 0.2304 - val_loss: 0.2327 - val_mae: 0.2327\n",
      "Epoch 17/20\n",
      "611/611 - 1s - 2ms/step - loss: 0.2282 - mae: 0.2282 - val_loss: 0.2222 - val_mae: 0.2222\n",
      "Epoch 18/20\n",
      "611/611 - 1s - 2ms/step - loss: 0.2260 - mae: 0.2260 - val_loss: 0.2221 - val_mae: 0.2221\n",
      "Epoch 19/20\n",
      "611/611 - 1s - 2ms/step - loss: 0.2261 - mae: 0.2261 - val_loss: 0.2255 - val_mae: 0.2255\n",
      "Epoch 20/20\n",
      "611/611 - 1s - 2ms/step - loss: 0.2252 - mae: 0.2252 - val_loss: 0.2223 - val_mae: 0.2223\n",
      "\u001b[1m44/44\u001b[0m \u001b[32m━━━━━━━━━━━━━━━━━━━━\u001b[0m\u001b[37m\u001b[0m \u001b[1m0s\u001b[0m 4ms/step\n"
     ]
    },
    {
     "data": {
      "text/html": [
       "\n",
       "    <style>\n",
       "        .wandb-row {\n",
       "            display: flex;\n",
       "            flex-direction: row;\n",
       "            flex-wrap: wrap;\n",
       "            justify-content: flex-start;\n",
       "            width: 100%;\n",
       "        }\n",
       "        .wandb-col {\n",
       "            display: flex;\n",
       "            flex-direction: column;\n",
       "            flex-basis: 100%;\n",
       "            flex: 1;\n",
       "            padding: 10px;\n",
       "        }\n",
       "    </style>\n",
       "<div class=\"wandb-row\"><div class=\"wandb-col\"><h3>Run history:</h3><br/><table class=\"wandb\"><tr><td>Max Absolute Error (Test)</td><td>▁</td></tr><tr><td>Mean Absolute Error (Test)</td><td>▁</td></tr><tr><td>R²</td><td>▁</td></tr><tr><td>Test Loss</td><td>▁</td></tr><tr><td>Test MAE</td><td>▁</td></tr><tr><td>epoch</td><td>▁▁▂▂▂▃▃▄▄▄▅▅▅▆▆▇▇▇██</td></tr><tr><td>epoch/epoch</td><td>▁▁▂▂▂▃▃▄▄▄▅▅▅▆▆▇▇▇██</td></tr><tr><td>epoch/learning_rate</td><td>▁▁▁▁▁▁▁▁▁▁▁▁▁▁▁▁▁▁▁▁</td></tr><tr><td>epoch/loss</td><td>██▇▇▆▃▂▂▂▂▂▁▁▁▂▁▁▁▁▁</td></tr><tr><td>epoch/mae</td><td>██▇▇▆▃▂▂▂▂▂▁▁▁▂▁▁▁▁▁</td></tr><tr><td>epoch/val_loss</td><td>█▇▇█▃▂▂▃▂▂▁▂▁▁▁▂▁▁▁▁</td></tr><tr><td>epoch/val_mae</td><td>█▇▇█▃▂▂▃▂▂▁▂▁▁▁▂▁▁▁▁</td></tr><tr><td>train_loss</td><td>██▇▇▆▃▂▂▂▂▂▁▁▁▂▁▁▁▁▁</td></tr><tr><td>train_mae</td><td>██▇▇▆▃▂▂▂▂▂▁▁▁▂▁▁▁▁▁</td></tr><tr><td>val_loss</td><td>█▇▇█▃▂▂▃▂▂▁▂▁▁▁▂▁▁▁▁</td></tr><tr><td>val_mae</td><td>█▇▇█▃▂▂▃▂▂▁▂▁▁▁▂▁▁▁▁</td></tr></table><br/></div><div class=\"wandb-col\"><h3>Run summary:</h3><br/><table class=\"wandb\"><tr><td>Max Absolute Error (Test)</td><td>1.0065</td></tr><tr><td>Mean Absolute Error (Test)</td><td>0.21957</td></tr><tr><td>R²</td><td>0.12136</td></tr><tr><td>Test Loss</td><td>0.21957</td></tr><tr><td>Test MAE</td><td>0.21957</td></tr><tr><td>epoch</td><td>19</td></tr><tr><td>epoch/epoch</td><td>19</td></tr><tr><td>epoch/learning_rate</td><td>0.005</td></tr><tr><td>epoch/loss</td><td>0.22518</td></tr><tr><td>epoch/mae</td><td>0.22518</td></tr><tr><td>epoch/val_loss</td><td>0.22235</td></tr><tr><td>epoch/val_mae</td><td>0.22235</td></tr><tr><td>train_loss</td><td>0.22518</td></tr><tr><td>train_mae</td><td>0.22518</td></tr><tr><td>val_loss</td><td>0.22235</td></tr><tr><td>val_mae</td><td>0.22235</td></tr></table><br/></div></div>"
      ],
      "text/plain": [
       "<IPython.core.display.HTML object>"
      ]
     },
     "metadata": {},
     "output_type": "display_data"
    },
    {
     "data": {
      "text/html": [
       " View run <strong style=\"color:#cdcd00\">dauntless-sweep-20</strong> at: <a href='https://wandb.ai/walt_/dose-prediction/runs/4imgk0j8' target=\"_blank\">https://wandb.ai/walt_/dose-prediction/runs/4imgk0j8</a><br/> View project at: <a href='https://wandb.ai/walt_/dose-prediction' target=\"_blank\">https://wandb.ai/walt_/dose-prediction</a><br/>Synced 5 W&B file(s), 0 media file(s), 0 artifact file(s) and 0 other file(s)"
      ],
      "text/plain": [
       "<IPython.core.display.HTML object>"
      ]
     },
     "metadata": {},
     "output_type": "display_data"
    },
    {
     "data": {
      "text/html": [
       "Find logs at: <code>./wandb/run-20241124_152238-4imgk0j8/logs</code>"
      ],
      "text/plain": [
       "<IPython.core.display.HTML object>"
      ]
     },
     "metadata": {},
     "output_type": "display_data"
    },
    {
     "name": "stderr",
     "output_type": "stream",
     "text": [
      "\u001b[34m\u001b[1mwandb\u001b[0m: Agent Starting Run: adgjh3y7 with config:\n",
      "\u001b[34m\u001b[1mwandb\u001b[0m: \tactivation_function: tanh\n",
      "\u001b[34m\u001b[1mwandb\u001b[0m: \tbatch_size: 16\n",
      "\u001b[34m\u001b[1mwandb\u001b[0m: \tepochs: 20\n",
      "\u001b[34m\u001b[1mwandb\u001b[0m: \tinclude_edis: False\n",
      "\u001b[34m\u001b[1mwandb\u001b[0m: \tinclude_mgdis: True\n",
      "\u001b[34m\u001b[1mwandb\u001b[0m: \tinclude_mpc: False\n",
      "\u001b[34m\u001b[1mwandb\u001b[0m: \tinclude_sharpness: True\n",
      "\u001b[34m\u001b[1mwandb\u001b[0m: \tinclude_texture: True\n",
      "\u001b[34m\u001b[1mwandb\u001b[0m: \tlearning_rate: 0.005\n",
      "\u001b[34m\u001b[1mwandb\u001b[0m: \tloss_function: mean_absolute_error\n"
     ]
    },
    {
     "data": {
      "text/html": [
       "Tracking run with wandb version 0.18.7"
      ],
      "text/plain": [
       "<IPython.core.display.HTML object>"
      ]
     },
     "metadata": {},
     "output_type": "display_data"
    },
    {
     "data": {
      "text/html": [
       "Run data is saved locally in <code>/home/walt/FociNet/wandb/run-20241124_152314-adgjh3y7</code>"
      ],
      "text/plain": [
       "<IPython.core.display.HTML object>"
      ]
     },
     "metadata": {},
     "output_type": "display_data"
    },
    {
     "data": {
      "text/html": [
       "Syncing run <strong><a href='https://wandb.ai/walt_/dose-prediction/runs/adgjh3y7' target=\"_blank\">peach-sweep-21</a></strong> to <a href='https://wandb.ai/walt_/dose-prediction' target=\"_blank\">Weights & Biases</a> (<a href='https://wandb.me/developer-guide' target=\"_blank\">docs</a>)<br/>Sweep page: <a href='https://wandb.ai/walt_/dose-prediction/sweeps/ijck5aqp' target=\"_blank\">https://wandb.ai/walt_/dose-prediction/sweeps/ijck5aqp</a>"
      ],
      "text/plain": [
       "<IPython.core.display.HTML object>"
      ]
     },
     "metadata": {},
     "output_type": "display_data"
    },
    {
     "data": {
      "text/html": [
       " View project at <a href='https://wandb.ai/walt_/dose-prediction' target=\"_blank\">https://wandb.ai/walt_/dose-prediction</a>"
      ],
      "text/plain": [
       "<IPython.core.display.HTML object>"
      ]
     },
     "metadata": {},
     "output_type": "display_data"
    },
    {
     "data": {
      "text/html": [
       " View sweep at <a href='https://wandb.ai/walt_/dose-prediction/sweeps/ijck5aqp' target=\"_blank\">https://wandb.ai/walt_/dose-prediction/sweeps/ijck5aqp</a>"
      ],
      "text/plain": [
       "<IPython.core.display.HTML object>"
      ]
     },
     "metadata": {},
     "output_type": "display_data"
    },
    {
     "data": {
      "text/html": [
       " View run at <a href='https://wandb.ai/walt_/dose-prediction/runs/adgjh3y7' target=\"_blank\">https://wandb.ai/walt_/dose-prediction/runs/adgjh3y7</a>"
      ],
      "text/plain": [
       "<IPython.core.display.HTML object>"
      ]
     },
     "metadata": {},
     "output_type": "display_data"
    },
    {
     "name": "stdout",
     "output_type": "stream",
     "text": [
      "Active Feature Config: {'activation_function': 'tanh', 'batch_size': 16, 'epochs': 20, 'include_edis': False, 'include_mgdis': True, 'include_mpc': False, 'include_sharpness': True, 'include_texture': True, 'learning_rate': 0.005, 'loss_function': 'mean_absolute_error'}\n",
      "Subset X_train shape: (9766, 4)\n",
      "Subset X_val shape: (2790, 4)\n",
      "Subset X_test shape: (1396, 4)\n",
      "Calculated input_dim: 4\n",
      "Epoch 1/20\n",
      "611/611 - 3s - 5ms/step - loss: 0.2898 - mae: 0.2898 - val_loss: 0.2720 - val_mae: 0.2720\n",
      "Epoch 2/20\n",
      "611/611 - 1s - 2ms/step - loss: 0.2708 - mae: 0.2708 - val_loss: 0.2364 - val_mae: 0.2364\n",
      "Epoch 3/20\n",
      "611/611 - 1s - 2ms/step - loss: 0.2248 - mae: 0.2248 - val_loss: 0.2345 - val_mae: 0.2345\n",
      "Epoch 4/20\n",
      "611/611 - 1s - 2ms/step - loss: 0.2066 - mae: 0.2066 - val_loss: 0.2068 - val_mae: 0.2068\n",
      "Epoch 5/20\n",
      "611/611 - 1s - 2ms/step - loss: 0.2000 - mae: 0.2000 - val_loss: 0.2055 - val_mae: 0.2055\n",
      "Epoch 6/20\n",
      "611/611 - 1s - 2ms/step - loss: 0.1979 - mae: 0.1979 - val_loss: 0.1973 - val_mae: 0.1973\n",
      "Epoch 7/20\n",
      "611/611 - 1s - 2ms/step - loss: 0.1961 - mae: 0.1961 - val_loss: 0.1951 - val_mae: 0.1951\n",
      "Epoch 8/20\n",
      "611/611 - 1s - 2ms/step - loss: 0.1893 - mae: 0.1893 - val_loss: 0.1935 - val_mae: 0.1935\n",
      "Epoch 9/20\n",
      "611/611 - 1s - 2ms/step - loss: 0.1915 - mae: 0.1915 - val_loss: 0.1910 - val_mae: 0.1910\n",
      "Epoch 10/20\n",
      "611/611 - 1s - 2ms/step - loss: 0.1868 - mae: 0.1868 - val_loss: 0.1922 - val_mae: 0.1922\n",
      "Epoch 11/20\n",
      "611/611 - 1s - 2ms/step - loss: 0.1870 - mae: 0.1870 - val_loss: 0.1970 - val_mae: 0.1970\n",
      "Epoch 12/20\n",
      "611/611 - 1s - 2ms/step - loss: 0.1896 - mae: 0.1896 - val_loss: 0.1972 - val_mae: 0.1972\n",
      "Epoch 13/20\n",
      "611/611 - 1s - 2ms/step - loss: 0.1851 - mae: 0.1851 - val_loss: 0.1877 - val_mae: 0.1877\n",
      "Epoch 14/20\n",
      "611/611 - 1s - 2ms/step - loss: 0.1887 - mae: 0.1887 - val_loss: 0.1916 - val_mae: 0.1916\n",
      "Epoch 15/20\n",
      "611/611 - 1s - 2ms/step - loss: 0.1838 - mae: 0.1838 - val_loss: 0.1930 - val_mae: 0.1930\n",
      "Epoch 16/20\n",
      "611/611 - 1s - 2ms/step - loss: 0.1848 - mae: 0.1848 - val_loss: 0.1860 - val_mae: 0.1860\n",
      "Epoch 17/20\n",
      "611/611 - 1s - 2ms/step - loss: 0.1856 - mae: 0.1856 - val_loss: 0.1882 - val_mae: 0.1882\n",
      "Epoch 18/20\n",
      "611/611 - 1s - 2ms/step - loss: 0.1855 - mae: 0.1855 - val_loss: 0.1921 - val_mae: 0.1921\n",
      "Epoch 19/20\n",
      "611/611 - 1s - 2ms/step - loss: 0.1838 - mae: 0.1838 - val_loss: 0.1862 - val_mae: 0.1862\n",
      "Epoch 20/20\n",
      "611/611 - 1s - 2ms/step - loss: 0.1844 - mae: 0.1844 - val_loss: 0.1845 - val_mae: 0.1845\n",
      "\u001b[1m44/44\u001b[0m \u001b[32m━━━━━━━━━━━━━━━━━━━━\u001b[0m\u001b[37m\u001b[0m \u001b[1m0s\u001b[0m 4ms/step\n"
     ]
    },
    {
     "data": {
      "text/html": [
       "\n",
       "    <style>\n",
       "        .wandb-row {\n",
       "            display: flex;\n",
       "            flex-direction: row;\n",
       "            flex-wrap: wrap;\n",
       "            justify-content: flex-start;\n",
       "            width: 100%;\n",
       "        }\n",
       "        .wandb-col {\n",
       "            display: flex;\n",
       "            flex-direction: column;\n",
       "            flex-basis: 100%;\n",
       "            flex: 1;\n",
       "            padding: 10px;\n",
       "        }\n",
       "    </style>\n",
       "<div class=\"wandb-row\"><div class=\"wandb-col\"><h3>Run history:</h3><br/><table class=\"wandb\"><tr><td>Max Absolute Error (Test)</td><td>▁</td></tr><tr><td>Mean Absolute Error (Test)</td><td>▁</td></tr><tr><td>R²</td><td>▁</td></tr><tr><td>Test Loss</td><td>▁</td></tr><tr><td>Test MAE</td><td>▁</td></tr><tr><td>epoch</td><td>▁▁▂▂▂▃▃▄▄▄▅▅▅▆▆▇▇▇██</td></tr><tr><td>epoch/epoch</td><td>▁▁▂▂▂▃▃▄▄▄▅▅▅▆▆▇▇▇██</td></tr><tr><td>epoch/learning_rate</td><td>▁▁▁▁▁▁▁▁▁▁▁▁▁▁▁▁▁▁▁▁</td></tr><tr><td>epoch/loss</td><td>█▇▄▃▂▂▂▁▂▁▁▁▁▁▁▁▁▁▁▁</td></tr><tr><td>epoch/mae</td><td>█▇▄▃▂▂▂▁▂▁▁▁▁▁▁▁▁▁▁▁</td></tr><tr><td>epoch/val_loss</td><td>█▅▅▃▃▂▂▂▂▂▂▂▁▂▂▁▁▂▁▁</td></tr><tr><td>epoch/val_mae</td><td>█▅▅▃▃▂▂▂▂▂▂▂▁▂▂▁▁▂▁▁</td></tr><tr><td>train_loss</td><td>█▇▄▃▂▂▂▁▂▁▁▁▁▁▁▁▁▁▁▁</td></tr><tr><td>train_mae</td><td>█▇▄▃▂▂▂▁▂▁▁▁▁▁▁▁▁▁▁▁</td></tr><tr><td>val_loss</td><td>█▅▅▃▃▂▂▂▂▂▂▂▁▂▂▁▁▂▁▁</td></tr><tr><td>val_mae</td><td>█▅▅▃▃▂▂▂▂▂▂▂▁▂▂▁▁▂▁▁</td></tr></table><br/></div><div class=\"wandb-col\"><h3>Run summary:</h3><br/><table class=\"wandb\"><tr><td>Max Absolute Error (Test)</td><td>1.01047</td></tr><tr><td>Mean Absolute Error (Test)</td><td>0.16847</td></tr><tr><td>R²</td><td>0.37979</td></tr><tr><td>Test Loss</td><td>0.16847</td></tr><tr><td>Test MAE</td><td>0.16847</td></tr><tr><td>epoch</td><td>19</td></tr><tr><td>epoch/epoch</td><td>19</td></tr><tr><td>epoch/learning_rate</td><td>0.005</td></tr><tr><td>epoch/loss</td><td>0.18445</td></tr><tr><td>epoch/mae</td><td>0.18445</td></tr><tr><td>epoch/val_loss</td><td>0.18451</td></tr><tr><td>epoch/val_mae</td><td>0.18451</td></tr><tr><td>train_loss</td><td>0.18445</td></tr><tr><td>train_mae</td><td>0.18445</td></tr><tr><td>val_loss</td><td>0.18451</td></tr><tr><td>val_mae</td><td>0.18451</td></tr></table><br/></div></div>"
      ],
      "text/plain": [
       "<IPython.core.display.HTML object>"
      ]
     },
     "metadata": {},
     "output_type": "display_data"
    },
    {
     "data": {
      "text/html": [
       " View run <strong style=\"color:#cdcd00\">peach-sweep-21</strong> at: <a href='https://wandb.ai/walt_/dose-prediction/runs/adgjh3y7' target=\"_blank\">https://wandb.ai/walt_/dose-prediction/runs/adgjh3y7</a><br/> View project at: <a href='https://wandb.ai/walt_/dose-prediction' target=\"_blank\">https://wandb.ai/walt_/dose-prediction</a><br/>Synced 5 W&B file(s), 0 media file(s), 0 artifact file(s) and 0 other file(s)"
      ],
      "text/plain": [
       "<IPython.core.display.HTML object>"
      ]
     },
     "metadata": {},
     "output_type": "display_data"
    },
    {
     "data": {
      "text/html": [
       "Find logs at: <code>./wandb/run-20241124_152314-adgjh3y7/logs</code>"
      ],
      "text/plain": [
       "<IPython.core.display.HTML object>"
      ]
     },
     "metadata": {},
     "output_type": "display_data"
    },
    {
     "name": "stderr",
     "output_type": "stream",
     "text": [
      "\u001b[34m\u001b[1mwandb\u001b[0m: Agent Starting Run: 536dajis with config:\n",
      "\u001b[34m\u001b[1mwandb\u001b[0m: \tactivation_function: tanh\n",
      "\u001b[34m\u001b[1mwandb\u001b[0m: \tbatch_size: 16\n",
      "\u001b[34m\u001b[1mwandb\u001b[0m: \tepochs: 20\n",
      "\u001b[34m\u001b[1mwandb\u001b[0m: \tinclude_edis: False\n",
      "\u001b[34m\u001b[1mwandb\u001b[0m: \tinclude_mgdis: True\n",
      "\u001b[34m\u001b[1mwandb\u001b[0m: \tinclude_mpc: False\n",
      "\u001b[34m\u001b[1mwandb\u001b[0m: \tinclude_sharpness: True\n",
      "\u001b[34m\u001b[1mwandb\u001b[0m: \tinclude_texture: False\n",
      "\u001b[34m\u001b[1mwandb\u001b[0m: \tlearning_rate: 0.005\n",
      "\u001b[34m\u001b[1mwandb\u001b[0m: \tloss_function: mean_absolute_error\n"
     ]
    },
    {
     "data": {
      "text/html": [
       "Tracking run with wandb version 0.18.7"
      ],
      "text/plain": [
       "<IPython.core.display.HTML object>"
      ]
     },
     "metadata": {},
     "output_type": "display_data"
    },
    {
     "data": {
      "text/html": [
       "Run data is saved locally in <code>/home/walt/FociNet/wandb/run-20241124_152349-536dajis</code>"
      ],
      "text/plain": [
       "<IPython.core.display.HTML object>"
      ]
     },
     "metadata": {},
     "output_type": "display_data"
    },
    {
     "data": {
      "text/html": [
       "Syncing run <strong><a href='https://wandb.ai/walt_/dose-prediction/runs/536dajis' target=\"_blank\">fast-sweep-22</a></strong> to <a href='https://wandb.ai/walt_/dose-prediction' target=\"_blank\">Weights & Biases</a> (<a href='https://wandb.me/developer-guide' target=\"_blank\">docs</a>)<br/>Sweep page: <a href='https://wandb.ai/walt_/dose-prediction/sweeps/ijck5aqp' target=\"_blank\">https://wandb.ai/walt_/dose-prediction/sweeps/ijck5aqp</a>"
      ],
      "text/plain": [
       "<IPython.core.display.HTML object>"
      ]
     },
     "metadata": {},
     "output_type": "display_data"
    },
    {
     "data": {
      "text/html": [
       " View project at <a href='https://wandb.ai/walt_/dose-prediction' target=\"_blank\">https://wandb.ai/walt_/dose-prediction</a>"
      ],
      "text/plain": [
       "<IPython.core.display.HTML object>"
      ]
     },
     "metadata": {},
     "output_type": "display_data"
    },
    {
     "data": {
      "text/html": [
       " View sweep at <a href='https://wandb.ai/walt_/dose-prediction/sweeps/ijck5aqp' target=\"_blank\">https://wandb.ai/walt_/dose-prediction/sweeps/ijck5aqp</a>"
      ],
      "text/plain": [
       "<IPython.core.display.HTML object>"
      ]
     },
     "metadata": {},
     "output_type": "display_data"
    },
    {
     "data": {
      "text/html": [
       " View run at <a href='https://wandb.ai/walt_/dose-prediction/runs/536dajis' target=\"_blank\">https://wandb.ai/walt_/dose-prediction/runs/536dajis</a>"
      ],
      "text/plain": [
       "<IPython.core.display.HTML object>"
      ]
     },
     "metadata": {},
     "output_type": "display_data"
    },
    {
     "name": "stdout",
     "output_type": "stream",
     "text": [
      "Active Feature Config: {'activation_function': 'tanh', 'batch_size': 16, 'epochs': 20, 'include_edis': False, 'include_mgdis': True, 'include_mpc': False, 'include_sharpness': True, 'include_texture': False, 'learning_rate': 0.005, 'loss_function': 'mean_absolute_error'}\n",
      "Subset X_train shape: (9766, 2)\n",
      "Subset X_val shape: (2790, 2)\n",
      "Subset X_test shape: (1396, 2)\n",
      "Calculated input_dim: 2\n",
      "Epoch 1/20\n",
      "611/611 - 3s - 4ms/step - loss: 0.3001 - mae: 0.3001 - val_loss: 0.3012 - val_mae: 0.3012\n",
      "Epoch 2/20\n",
      "611/611 - 1s - 2ms/step - loss: 0.2951 - mae: 0.2951 - val_loss: 0.2870 - val_mae: 0.2870\n",
      "Epoch 3/20\n",
      "611/611 - 1s - 2ms/step - loss: 0.2936 - mae: 0.2936 - val_loss: 0.2880 - val_mae: 0.2880\n",
      "Epoch 4/20\n",
      "611/611 - 1s - 2ms/step - loss: 0.2909 - mae: 0.2909 - val_loss: 0.2658 - val_mae: 0.2658\n",
      "Epoch 5/20\n",
      "611/611 - 1s - 2ms/step - loss: 0.2503 - mae: 0.2503 - val_loss: 0.2446 - val_mae: 0.2446\n",
      "Epoch 6/20\n",
      "611/611 - 1s - 2ms/step - loss: 0.2411 - mae: 0.2411 - val_loss: 0.2367 - val_mae: 0.2367\n",
      "Epoch 7/20\n",
      "611/611 - 1s - 2ms/step - loss: 0.2385 - mae: 0.2385 - val_loss: 0.2466 - val_mae: 0.2466\n",
      "Epoch 8/20\n",
      "611/611 - 1s - 2ms/step - loss: 0.2369 - mae: 0.2369 - val_loss: 0.2353 - val_mae: 0.2353\n",
      "Epoch 9/20\n",
      "611/611 - 1s - 2ms/step - loss: 0.2355 - mae: 0.2355 - val_loss: 0.2372 - val_mae: 0.2372\n",
      "Epoch 10/20\n",
      "611/611 - 1s - 2ms/step - loss: 0.2346 - mae: 0.2346 - val_loss: 0.2286 - val_mae: 0.2286\n",
      "Epoch 11/20\n",
      "611/611 - 1s - 2ms/step - loss: 0.2338 - mae: 0.2338 - val_loss: 0.2301 - val_mae: 0.2301\n",
      "Epoch 12/20\n",
      "611/611 - 1s - 2ms/step - loss: 0.2340 - mae: 0.2340 - val_loss: 0.2339 - val_mae: 0.2339\n",
      "Epoch 13/20\n",
      "611/611 - 1s - 2ms/step - loss: 0.2321 - mae: 0.2321 - val_loss: 0.2294 - val_mae: 0.2294\n",
      "Epoch 14/20\n",
      "611/611 - 1s - 2ms/step - loss: 0.2341 - mae: 0.2341 - val_loss: 0.2366 - val_mae: 0.2366\n",
      "Epoch 15/20\n",
      "611/611 - 1s - 2ms/step - loss: 0.2331 - mae: 0.2331 - val_loss: 0.2257 - val_mae: 0.2257\n",
      "Epoch 16/20\n",
      "611/611 - 1s - 2ms/step - loss: 0.2312 - mae: 0.2312 - val_loss: 0.2322 - val_mae: 0.2322\n",
      "Epoch 17/20\n",
      "611/611 - 1s - 2ms/step - loss: 0.2335 - mae: 0.2335 - val_loss: 0.2311 - val_mae: 0.2311\n",
      "Epoch 18/20\n",
      "611/611 - 1s - 2ms/step - loss: 0.2325 - mae: 0.2325 - val_loss: 0.2275 - val_mae: 0.2275\n",
      "Epoch 19/20\n",
      "611/611 - 1s - 2ms/step - loss: 0.2313 - mae: 0.2313 - val_loss: 0.2319 - val_mae: 0.2319\n",
      "Epoch 20/20\n",
      "611/611 - 1s - 2ms/step - loss: 0.2320 - mae: 0.2320 - val_loss: 0.2298 - val_mae: 0.2298\n",
      "\u001b[1m44/44\u001b[0m \u001b[32m━━━━━━━━━━━━━━━━━━━━\u001b[0m\u001b[37m\u001b[0m \u001b[1m0s\u001b[0m 4ms/step\n"
     ]
    },
    {
     "data": {
      "text/html": [
       "\n",
       "    <style>\n",
       "        .wandb-row {\n",
       "            display: flex;\n",
       "            flex-direction: row;\n",
       "            flex-wrap: wrap;\n",
       "            justify-content: flex-start;\n",
       "            width: 100%;\n",
       "        }\n",
       "        .wandb-col {\n",
       "            display: flex;\n",
       "            flex-direction: column;\n",
       "            flex-basis: 100%;\n",
       "            flex: 1;\n",
       "            padding: 10px;\n",
       "        }\n",
       "    </style>\n",
       "<div class=\"wandb-row\"><div class=\"wandb-col\"><h3>Run history:</h3><br/><table class=\"wandb\"><tr><td>Max Absolute Error (Test)</td><td>▁</td></tr><tr><td>Mean Absolute Error (Test)</td><td>▁</td></tr><tr><td>R²</td><td>▁</td></tr><tr><td>Test Loss</td><td>▁</td></tr><tr><td>Test MAE</td><td>▁</td></tr><tr><td>epoch</td><td>▁▁▂▂▂▃▃▄▄▄▅▅▅▆▆▇▇▇██</td></tr><tr><td>epoch/epoch</td><td>▁▁▂▂▂▃▃▄▄▄▅▅▅▆▆▇▇▇██</td></tr><tr><td>epoch/learning_rate</td><td>▁▁▁▁▁▁▁▁▁▁▁▁▁▁▁▁▁▁▁▁</td></tr><tr><td>epoch/loss</td><td>█▇▇▇▃▂▂▂▁▁▁▁▁▁▁▁▁▁▁▁</td></tr><tr><td>epoch/mae</td><td>█▇▇▇▃▂▂▂▁▁▁▁▁▁▁▁▁▁▁▁</td></tr><tr><td>epoch/val_loss</td><td>█▇▇▅▃▂▃▂▂▁▁▂▁▂▁▂▂▁▂▁</td></tr><tr><td>epoch/val_mae</td><td>█▇▇▅▃▂▃▂▂▁▁▂▁▂▁▂▂▁▂▁</td></tr><tr><td>train_loss</td><td>█▇▇▇▃▂▂▂▁▁▁▁▁▁▁▁▁▁▁▁</td></tr><tr><td>train_mae</td><td>█▇▇▇▃▂▂▂▁▁▁▁▁▁▁▁▁▁▁▁</td></tr><tr><td>val_loss</td><td>█▇▇▅▃▂▃▂▂▁▁▂▁▂▁▂▂▁▂▁</td></tr><tr><td>val_mae</td><td>█▇▇▅▃▂▃▂▂▁▁▂▁▂▁▂▂▁▂▁</td></tr></table><br/></div><div class=\"wandb-col\"><h3>Run summary:</h3><br/><table class=\"wandb\"><tr><td>Max Absolute Error (Test)</td><td>0.99623</td></tr><tr><td>Mean Absolute Error (Test)</td><td>0.22712</td></tr><tr><td>R²</td><td>0.11277</td></tr><tr><td>Test Loss</td><td>0.22712</td></tr><tr><td>Test MAE</td><td>0.22712</td></tr><tr><td>epoch</td><td>19</td></tr><tr><td>epoch/epoch</td><td>19</td></tr><tr><td>epoch/learning_rate</td><td>0.005</td></tr><tr><td>epoch/loss</td><td>0.23198</td></tr><tr><td>epoch/mae</td><td>0.23198</td></tr><tr><td>epoch/val_loss</td><td>0.22977</td></tr><tr><td>epoch/val_mae</td><td>0.22977</td></tr><tr><td>train_loss</td><td>0.23198</td></tr><tr><td>train_mae</td><td>0.23198</td></tr><tr><td>val_loss</td><td>0.22977</td></tr><tr><td>val_mae</td><td>0.22977</td></tr></table><br/></div></div>"
      ],
      "text/plain": [
       "<IPython.core.display.HTML object>"
      ]
     },
     "metadata": {},
     "output_type": "display_data"
    },
    {
     "data": {
      "text/html": [
       " View run <strong style=\"color:#cdcd00\">fast-sweep-22</strong> at: <a href='https://wandb.ai/walt_/dose-prediction/runs/536dajis' target=\"_blank\">https://wandb.ai/walt_/dose-prediction/runs/536dajis</a><br/> View project at: <a href='https://wandb.ai/walt_/dose-prediction' target=\"_blank\">https://wandb.ai/walt_/dose-prediction</a><br/>Synced 5 W&B file(s), 0 media file(s), 0 artifact file(s) and 0 other file(s)"
      ],
      "text/plain": [
       "<IPython.core.display.HTML object>"
      ]
     },
     "metadata": {},
     "output_type": "display_data"
    },
    {
     "data": {
      "text/html": [
       "Find logs at: <code>./wandb/run-20241124_152349-536dajis/logs</code>"
      ],
      "text/plain": [
       "<IPython.core.display.HTML object>"
      ]
     },
     "metadata": {},
     "output_type": "display_data"
    },
    {
     "name": "stderr",
     "output_type": "stream",
     "text": [
      "\u001b[34m\u001b[1mwandb\u001b[0m: Agent Starting Run: z1w75bb1 with config:\n",
      "\u001b[34m\u001b[1mwandb\u001b[0m: \tactivation_function: tanh\n",
      "\u001b[34m\u001b[1mwandb\u001b[0m: \tbatch_size: 16\n",
      "\u001b[34m\u001b[1mwandb\u001b[0m: \tepochs: 20\n",
      "\u001b[34m\u001b[1mwandb\u001b[0m: \tinclude_edis: False\n",
      "\u001b[34m\u001b[1mwandb\u001b[0m: \tinclude_mgdis: True\n",
      "\u001b[34m\u001b[1mwandb\u001b[0m: \tinclude_mpc: False\n",
      "\u001b[34m\u001b[1mwandb\u001b[0m: \tinclude_sharpness: False\n",
      "\u001b[34m\u001b[1mwandb\u001b[0m: \tinclude_texture: True\n",
      "\u001b[34m\u001b[1mwandb\u001b[0m: \tlearning_rate: 0.005\n",
      "\u001b[34m\u001b[1mwandb\u001b[0m: \tloss_function: mean_absolute_error\n"
     ]
    },
    {
     "data": {
      "text/html": [
       "Tracking run with wandb version 0.18.7"
      ],
      "text/plain": [
       "<IPython.core.display.HTML object>"
      ]
     },
     "metadata": {},
     "output_type": "display_data"
    },
    {
     "data": {
      "text/html": [
       "Run data is saved locally in <code>/home/walt/FociNet/wandb/run-20241124_152425-z1w75bb1</code>"
      ],
      "text/plain": [
       "<IPython.core.display.HTML object>"
      ]
     },
     "metadata": {},
     "output_type": "display_data"
    },
    {
     "data": {
      "text/html": [
       "Syncing run <strong><a href='https://wandb.ai/walt_/dose-prediction/runs/z1w75bb1' target=\"_blank\">revived-sweep-23</a></strong> to <a href='https://wandb.ai/walt_/dose-prediction' target=\"_blank\">Weights & Biases</a> (<a href='https://wandb.me/developer-guide' target=\"_blank\">docs</a>)<br/>Sweep page: <a href='https://wandb.ai/walt_/dose-prediction/sweeps/ijck5aqp' target=\"_blank\">https://wandb.ai/walt_/dose-prediction/sweeps/ijck5aqp</a>"
      ],
      "text/plain": [
       "<IPython.core.display.HTML object>"
      ]
     },
     "metadata": {},
     "output_type": "display_data"
    },
    {
     "data": {
      "text/html": [
       " View project at <a href='https://wandb.ai/walt_/dose-prediction' target=\"_blank\">https://wandb.ai/walt_/dose-prediction</a>"
      ],
      "text/plain": [
       "<IPython.core.display.HTML object>"
      ]
     },
     "metadata": {},
     "output_type": "display_data"
    },
    {
     "data": {
      "text/html": [
       " View sweep at <a href='https://wandb.ai/walt_/dose-prediction/sweeps/ijck5aqp' target=\"_blank\">https://wandb.ai/walt_/dose-prediction/sweeps/ijck5aqp</a>"
      ],
      "text/plain": [
       "<IPython.core.display.HTML object>"
      ]
     },
     "metadata": {},
     "output_type": "display_data"
    },
    {
     "data": {
      "text/html": [
       " View run at <a href='https://wandb.ai/walt_/dose-prediction/runs/z1w75bb1' target=\"_blank\">https://wandb.ai/walt_/dose-prediction/runs/z1w75bb1</a>"
      ],
      "text/plain": [
       "<IPython.core.display.HTML object>"
      ]
     },
     "metadata": {},
     "output_type": "display_data"
    },
    {
     "name": "stdout",
     "output_type": "stream",
     "text": [
      "Active Feature Config: {'activation_function': 'tanh', 'batch_size': 16, 'epochs': 20, 'include_edis': False, 'include_mgdis': True, 'include_mpc': False, 'include_sharpness': False, 'include_texture': True, 'learning_rate': 0.005, 'loss_function': 'mean_absolute_error'}\n",
      "Subset X_train shape: (9766, 3)\n",
      "Subset X_val shape: (2790, 3)\n",
      "Subset X_test shape: (1396, 3)\n",
      "Calculated input_dim: 3\n",
      "Epoch 1/20\n",
      "611/611 - 3s - 5ms/step - loss: 0.3037 - mae: 0.3037 - val_loss: 0.2988 - val_mae: 0.2988\n",
      "Epoch 2/20\n",
      "611/611 - 1s - 2ms/step - loss: 0.2933 - mae: 0.2933 - val_loss: 0.2776 - val_mae: 0.2776\n",
      "Epoch 3/20\n",
      "611/611 - 1s - 2ms/step - loss: 0.2591 - mae: 0.2591 - val_loss: 0.2468 - val_mae: 0.2468\n",
      "Epoch 4/20\n",
      "611/611 - 1s - 2ms/step - loss: 0.2442 - mae: 0.2442 - val_loss: 0.2366 - val_mae: 0.2366\n",
      "Epoch 5/20\n",
      "611/611 - 1s - 2ms/step - loss: 0.2394 - mae: 0.2394 - val_loss: 0.2460 - val_mae: 0.2460\n",
      "Epoch 6/20\n",
      "611/611 - 1s - 2ms/step - loss: 0.2366 - mae: 0.2366 - val_loss: 0.2326 - val_mae: 0.2326\n",
      "Epoch 7/20\n",
      "611/611 - 1s - 2ms/step - loss: 0.2332 - mae: 0.2332 - val_loss: 0.2296 - val_mae: 0.2296\n",
      "Epoch 8/20\n",
      "611/611 - 1s - 2ms/step - loss: 0.2352 - mae: 0.2352 - val_loss: 0.2314 - val_mae: 0.2314\n",
      "Epoch 9/20\n",
      "611/611 - 1s - 2ms/step - loss: 0.2321 - mae: 0.2321 - val_loss: 0.2381 - val_mae: 0.2381\n",
      "Epoch 10/20\n",
      "611/611 - 1s - 2ms/step - loss: 0.2293 - mae: 0.2293 - val_loss: 0.2240 - val_mae: 0.2240\n",
      "Epoch 11/20\n",
      "611/611 - 1s - 2ms/step - loss: 0.2351 - mae: 0.2351 - val_loss: 0.2350 - val_mae: 0.2350\n",
      "Epoch 12/20\n",
      "611/611 - 1s - 2ms/step - loss: 0.2304 - mae: 0.2304 - val_loss: 0.2380 - val_mae: 0.2380\n",
      "Epoch 13/20\n",
      "611/611 - 1s - 2ms/step - loss: 0.2348 - mae: 0.2348 - val_loss: 0.2412 - val_mae: 0.2412\n",
      "Epoch 14/20\n",
      "611/611 - 1s - 2ms/step - loss: 0.2302 - mae: 0.2302 - val_loss: 0.2270 - val_mae: 0.2270\n",
      "Epoch 15/20\n",
      "611/611 - 1s - 2ms/step - loss: 0.2292 - mae: 0.2292 - val_loss: 0.2223 - val_mae: 0.2223\n",
      "Epoch 16/20\n",
      "611/611 - 2s - 2ms/step - loss: 0.2299 - mae: 0.2299 - val_loss: 0.2253 - val_mae: 0.2253\n",
      "Epoch 17/20\n",
      "611/611 - 2s - 3ms/step - loss: 0.2302 - mae: 0.2302 - val_loss: 0.2267 - val_mae: 0.2267\n",
      "Epoch 18/20\n",
      "611/611 - 2s - 3ms/step - loss: 0.2288 - mae: 0.2288 - val_loss: 0.2264 - val_mae: 0.2264\n",
      "Epoch 19/20\n",
      "611/611 - 2s - 4ms/step - loss: 0.2285 - mae: 0.2285 - val_loss: 0.2316 - val_mae: 0.2316\n",
      "Epoch 20/20\n",
      "611/611 - 2s - 3ms/step - loss: 0.2258 - mae: 0.2258 - val_loss: 0.2320 - val_mae: 0.2320\n",
      "\u001b[1m44/44\u001b[0m \u001b[32m━━━━━━━━━━━━━━━━━━━━\u001b[0m\u001b[37m\u001b[0m \u001b[1m0s\u001b[0m 4ms/step\n"
     ]
    },
    {
     "data": {
      "text/html": [
       "\n",
       "    <style>\n",
       "        .wandb-row {\n",
       "            display: flex;\n",
       "            flex-direction: row;\n",
       "            flex-wrap: wrap;\n",
       "            justify-content: flex-start;\n",
       "            width: 100%;\n",
       "        }\n",
       "        .wandb-col {\n",
       "            display: flex;\n",
       "            flex-direction: column;\n",
       "            flex-basis: 100%;\n",
       "            flex: 1;\n",
       "            padding: 10px;\n",
       "        }\n",
       "    </style>\n",
       "<div class=\"wandb-row\"><div class=\"wandb-col\"><h3>Run history:</h3><br/><table class=\"wandb\"><tr><td>Max Absolute Error (Test)</td><td>▁</td></tr><tr><td>Mean Absolute Error (Test)</td><td>▁</td></tr><tr><td>R²</td><td>▁</td></tr><tr><td>Test Loss</td><td>▁</td></tr><tr><td>Test MAE</td><td>▁</td></tr><tr><td>epoch</td><td>▁▁▂▂▂▃▃▄▄▄▅▅▅▆▆▇▇▇██</td></tr><tr><td>epoch/epoch</td><td>▁▁▂▂▂▃▃▄▄▄▅▅▅▆▆▇▇▇██</td></tr><tr><td>epoch/learning_rate</td><td>▁▁▁▁▁▁▁▁▁▁▁▁▁▁▁▁▁▁▁▁</td></tr><tr><td>epoch/loss</td><td>█▇▄▃▂▂▂▂▂▁▂▁▂▁▁▁▁▁▁▁</td></tr><tr><td>epoch/mae</td><td>█▇▄▃▂▂▂▂▂▁▂▁▂▁▁▁▁▁▁▁</td></tr><tr><td>epoch/val_loss</td><td>█▆▃▂▃▂▂▂▂▁▂▂▃▁▁▁▁▁▂▂</td></tr><tr><td>epoch/val_mae</td><td>█▆▃▂▃▂▂▂▂▁▂▂▃▁▁▁▁▁▂▂</td></tr><tr><td>train_loss</td><td>█▇▄▃▂▂▂▂▂▁▂▁▂▁▁▁▁▁▁▁</td></tr><tr><td>train_mae</td><td>█▇▄▃▂▂▂▂▂▁▂▁▂▁▁▁▁▁▁▁</td></tr><tr><td>val_loss</td><td>█▆▃▂▃▂▂▂▂▁▂▂▃▁▁▁▁▁▂▂</td></tr><tr><td>val_mae</td><td>█▆▃▂▃▂▂▂▂▁▂▂▃▁▁▁▁▁▂▂</td></tr></table><br/></div><div class=\"wandb-col\"><h3>Run summary:</h3><br/><table class=\"wandb\"><tr><td>Max Absolute Error (Test)</td><td>1.00392</td></tr><tr><td>Mean Absolute Error (Test)</td><td>0.22433</td></tr><tr><td>R²</td><td>0.07599</td></tr><tr><td>Test Loss</td><td>0.22433</td></tr><tr><td>Test MAE</td><td>0.22433</td></tr><tr><td>epoch</td><td>19</td></tr><tr><td>epoch/epoch</td><td>19</td></tr><tr><td>epoch/learning_rate</td><td>0.005</td></tr><tr><td>epoch/loss</td><td>0.22582</td></tr><tr><td>epoch/mae</td><td>0.22582</td></tr><tr><td>epoch/val_loss</td><td>0.23195</td></tr><tr><td>epoch/val_mae</td><td>0.23195</td></tr><tr><td>train_loss</td><td>0.22582</td></tr><tr><td>train_mae</td><td>0.22582</td></tr><tr><td>val_loss</td><td>0.23195</td></tr><tr><td>val_mae</td><td>0.23195</td></tr></table><br/></div></div>"
      ],
      "text/plain": [
       "<IPython.core.display.HTML object>"
      ]
     },
     "metadata": {},
     "output_type": "display_data"
    },
    {
     "data": {
      "text/html": [
       " View run <strong style=\"color:#cdcd00\">revived-sweep-23</strong> at: <a href='https://wandb.ai/walt_/dose-prediction/runs/z1w75bb1' target=\"_blank\">https://wandb.ai/walt_/dose-prediction/runs/z1w75bb1</a><br/> View project at: <a href='https://wandb.ai/walt_/dose-prediction' target=\"_blank\">https://wandb.ai/walt_/dose-prediction</a><br/>Synced 5 W&B file(s), 0 media file(s), 0 artifact file(s) and 0 other file(s)"
      ],
      "text/plain": [
       "<IPython.core.display.HTML object>"
      ]
     },
     "metadata": {},
     "output_type": "display_data"
    },
    {
     "data": {
      "text/html": [
       "Find logs at: <code>./wandb/run-20241124_152425-z1w75bb1/logs</code>"
      ],
      "text/plain": [
       "<IPython.core.display.HTML object>"
      ]
     },
     "metadata": {},
     "output_type": "display_data"
    },
    {
     "name": "stderr",
     "output_type": "stream",
     "text": [
      "\u001b[34m\u001b[1mwandb\u001b[0m: Agent Starting Run: 4g2mxp7k with config:\n",
      "\u001b[34m\u001b[1mwandb\u001b[0m: \tactivation_function: tanh\n",
      "\u001b[34m\u001b[1mwandb\u001b[0m: \tbatch_size: 16\n",
      "\u001b[34m\u001b[1mwandb\u001b[0m: \tepochs: 20\n",
      "\u001b[34m\u001b[1mwandb\u001b[0m: \tinclude_edis: False\n",
      "\u001b[34m\u001b[1mwandb\u001b[0m: \tinclude_mgdis: True\n",
      "\u001b[34m\u001b[1mwandb\u001b[0m: \tinclude_mpc: False\n",
      "\u001b[34m\u001b[1mwandb\u001b[0m: \tinclude_sharpness: False\n",
      "\u001b[34m\u001b[1mwandb\u001b[0m: \tinclude_texture: False\n",
      "\u001b[34m\u001b[1mwandb\u001b[0m: \tlearning_rate: 0.005\n",
      "\u001b[34m\u001b[1mwandb\u001b[0m: \tloss_function: mean_absolute_error\n"
     ]
    },
    {
     "data": {
      "text/html": [
       "Tracking run with wandb version 0.18.7"
      ],
      "text/plain": [
       "<IPython.core.display.HTML object>"
      ]
     },
     "metadata": {},
     "output_type": "display_data"
    },
    {
     "data": {
      "text/html": [
       "Run data is saved locally in <code>/home/walt/FociNet/wandb/run-20241124_152501-4g2mxp7k</code>"
      ],
      "text/plain": [
       "<IPython.core.display.HTML object>"
      ]
     },
     "metadata": {},
     "output_type": "display_data"
    },
    {
     "data": {
      "text/html": [
       "Syncing run <strong><a href='https://wandb.ai/walt_/dose-prediction/runs/4g2mxp7k' target=\"_blank\">scarlet-sweep-24</a></strong> to <a href='https://wandb.ai/walt_/dose-prediction' target=\"_blank\">Weights & Biases</a> (<a href='https://wandb.me/developer-guide' target=\"_blank\">docs</a>)<br/>Sweep page: <a href='https://wandb.ai/walt_/dose-prediction/sweeps/ijck5aqp' target=\"_blank\">https://wandb.ai/walt_/dose-prediction/sweeps/ijck5aqp</a>"
      ],
      "text/plain": [
       "<IPython.core.display.HTML object>"
      ]
     },
     "metadata": {},
     "output_type": "display_data"
    },
    {
     "data": {
      "text/html": [
       " View project at <a href='https://wandb.ai/walt_/dose-prediction' target=\"_blank\">https://wandb.ai/walt_/dose-prediction</a>"
      ],
      "text/plain": [
       "<IPython.core.display.HTML object>"
      ]
     },
     "metadata": {},
     "output_type": "display_data"
    },
    {
     "data": {
      "text/html": [
       " View sweep at <a href='https://wandb.ai/walt_/dose-prediction/sweeps/ijck5aqp' target=\"_blank\">https://wandb.ai/walt_/dose-prediction/sweeps/ijck5aqp</a>"
      ],
      "text/plain": [
       "<IPython.core.display.HTML object>"
      ]
     },
     "metadata": {},
     "output_type": "display_data"
    },
    {
     "data": {
      "text/html": [
       " View run at <a href='https://wandb.ai/walt_/dose-prediction/runs/4g2mxp7k' target=\"_blank\">https://wandb.ai/walt_/dose-prediction/runs/4g2mxp7k</a>"
      ],
      "text/plain": [
       "<IPython.core.display.HTML object>"
      ]
     },
     "metadata": {},
     "output_type": "display_data"
    },
    {
     "name": "stdout",
     "output_type": "stream",
     "text": [
      "Active Feature Config: {'activation_function': 'tanh', 'batch_size': 16, 'epochs': 20, 'include_edis': False, 'include_mgdis': True, 'include_mpc': False, 'include_sharpness': False, 'include_texture': False, 'learning_rate': 0.005, 'loss_function': 'mean_absolute_error'}\n",
      "Subset X_train shape: (9766, 1)\n",
      "Subset X_val shape: (2790, 1)\n",
      "Subset X_test shape: (1396, 1)\n",
      "Calculated input_dim: 1\n",
      "Epoch 1/20\n",
      "611/611 - 3s - 5ms/step - loss: 0.2964 - mae: 0.2964 - val_loss: 0.2897 - val_mae: 0.2897\n",
      "Epoch 2/20\n",
      "611/611 - 1s - 2ms/step - loss: 0.2972 - mae: 0.2972 - val_loss: 0.2929 - val_mae: 0.2929\n",
      "Epoch 3/20\n",
      "611/611 - 2s - 3ms/step - loss: 0.2960 - mae: 0.2960 - val_loss: 0.2903 - val_mae: 0.2903\n",
      "Epoch 4/20\n",
      "611/611 - 1s - 2ms/step - loss: 0.2951 - mae: 0.2951 - val_loss: 0.2843 - val_mae: 0.2843\n",
      "Epoch 5/20\n",
      "611/611 - 1s - 2ms/step - loss: 0.2522 - mae: 0.2522 - val_loss: 0.2464 - val_mae: 0.2464\n",
      "Epoch 6/20\n",
      "611/611 - 1s - 2ms/step - loss: 0.2427 - mae: 0.2427 - val_loss: 0.2417 - val_mae: 0.2417\n",
      "Epoch 7/20\n",
      "611/611 - 1s - 2ms/step - loss: 0.2391 - mae: 0.2391 - val_loss: 0.2393 - val_mae: 0.2393\n",
      "Epoch 8/20\n",
      "611/611 - 1s - 2ms/step - loss: 0.2388 - mae: 0.2388 - val_loss: 0.2406 - val_mae: 0.2406\n",
      "Epoch 9/20\n",
      "611/611 - 1s - 2ms/step - loss: 0.2388 - mae: 0.2388 - val_loss: 0.2355 - val_mae: 0.2355\n",
      "Epoch 10/20\n",
      "611/611 - 1s - 2ms/step - loss: 0.2376 - mae: 0.2376 - val_loss: 0.2451 - val_mae: 0.2451\n",
      "Epoch 11/20\n",
      "611/611 - 1s - 2ms/step - loss: 0.2368 - mae: 0.2368 - val_loss: 0.2358 - val_mae: 0.2358\n",
      "Epoch 12/20\n",
      "611/611 - 1s - 2ms/step - loss: 0.2370 - mae: 0.2370 - val_loss: 0.2434 - val_mae: 0.2434\n",
      "Epoch 13/20\n",
      "611/611 - 1s - 2ms/step - loss: 0.2373 - mae: 0.2373 - val_loss: 0.2345 - val_mae: 0.2345\n",
      "Epoch 14/20\n",
      "611/611 - 1s - 2ms/step - loss: 0.2370 - mae: 0.2370 - val_loss: 0.2330 - val_mae: 0.2330\n",
      "Epoch 15/20\n",
      "611/611 - 1s - 2ms/step - loss: 0.2369 - mae: 0.2369 - val_loss: 0.2350 - val_mae: 0.2350\n",
      "Epoch 16/20\n",
      "611/611 - 1s - 2ms/step - loss: 0.2360 - mae: 0.2360 - val_loss: 0.2410 - val_mae: 0.2410\n",
      "Epoch 17/20\n",
      "611/611 - 1s - 2ms/step - loss: 0.2348 - mae: 0.2348 - val_loss: 0.2387 - val_mae: 0.2387\n",
      "Epoch 18/20\n",
      "611/611 - 1s - 2ms/step - loss: 0.2342 - mae: 0.2342 - val_loss: 0.2355 - val_mae: 0.2355\n",
      "Epoch 19/20\n",
      "611/611 - 1s - 2ms/step - loss: 0.2354 - mae: 0.2354 - val_loss: 0.2335 - val_mae: 0.2335\n",
      "Epoch 20/20\n",
      "611/611 - 1s - 2ms/step - loss: 0.2350 - mae: 0.2350 - val_loss: 0.2309 - val_mae: 0.2309\n",
      "\u001b[1m44/44\u001b[0m \u001b[32m━━━━━━━━━━━━━━━━━━━━\u001b[0m\u001b[37m\u001b[0m \u001b[1m0s\u001b[0m 4ms/step\n"
     ]
    },
    {
     "data": {
      "text/html": [
       "\n",
       "    <style>\n",
       "        .wandb-row {\n",
       "            display: flex;\n",
       "            flex-direction: row;\n",
       "            flex-wrap: wrap;\n",
       "            justify-content: flex-start;\n",
       "            width: 100%;\n",
       "        }\n",
       "        .wandb-col {\n",
       "            display: flex;\n",
       "            flex-direction: column;\n",
       "            flex-basis: 100%;\n",
       "            flex: 1;\n",
       "            padding: 10px;\n",
       "        }\n",
       "    </style>\n",
       "<div class=\"wandb-row\"><div class=\"wandb-col\"><h3>Run history:</h3><br/><table class=\"wandb\"><tr><td>Max Absolute Error (Test)</td><td>▁</td></tr><tr><td>Mean Absolute Error (Test)</td><td>▁</td></tr><tr><td>R²</td><td>▁</td></tr><tr><td>Test Loss</td><td>▁</td></tr><tr><td>Test MAE</td><td>▁</td></tr><tr><td>epoch</td><td>▁▁▂▂▂▃▃▄▄▄▅▅▅▆▆▇▇▇██</td></tr><tr><td>epoch/epoch</td><td>▁▁▂▂▂▃▃▄▄▄▅▅▅▆▆▇▇▇██</td></tr><tr><td>epoch/learning_rate</td><td>▁▁▁▁▁▁▁▁▁▁▁▁▁▁▁▁▁▁▁▁</td></tr><tr><td>epoch/loss</td><td>████▃▂▂▂▂▁▁▁▁▁▁▁▁▁▁▁</td></tr><tr><td>epoch/mae</td><td>████▃▂▂▂▂▁▁▁▁▁▁▁▁▁▁▁</td></tr><tr><td>epoch/val_loss</td><td>███▇▃▂▂▂▂▃▂▂▁▁▁▂▂▂▁▁</td></tr><tr><td>epoch/val_mae</td><td>███▇▃▂▂▂▂▃▂▂▁▁▁▂▂▂▁▁</td></tr><tr><td>train_loss</td><td>████▃▂▂▂▂▁▁▁▁▁▁▁▁▁▁▁</td></tr><tr><td>train_mae</td><td>████▃▂▂▂▂▁▁▁▁▁▁▁▁▁▁▁</td></tr><tr><td>val_loss</td><td>███▇▃▂▂▂▂▃▂▂▁▁▁▂▂▂▁▁</td></tr><tr><td>val_mae</td><td>███▇▃▂▂▂▂▃▂▂▁▁▁▂▂▂▁▁</td></tr></table><br/></div><div class=\"wandb-col\"><h3>Run summary:</h3><br/><table class=\"wandb\"><tr><td>Max Absolute Error (Test)</td><td>0.99565</td></tr><tr><td>Mean Absolute Error (Test)</td><td>0.23567</td></tr><tr><td>R²</td><td>0.06903</td></tr><tr><td>Test Loss</td><td>0.23567</td></tr><tr><td>Test MAE</td><td>0.23567</td></tr><tr><td>epoch</td><td>19</td></tr><tr><td>epoch/epoch</td><td>19</td></tr><tr><td>epoch/learning_rate</td><td>0.005</td></tr><tr><td>epoch/loss</td><td>0.23503</td></tr><tr><td>epoch/mae</td><td>0.23503</td></tr><tr><td>epoch/val_loss</td><td>0.23094</td></tr><tr><td>epoch/val_mae</td><td>0.23094</td></tr><tr><td>train_loss</td><td>0.23503</td></tr><tr><td>train_mae</td><td>0.23503</td></tr><tr><td>val_loss</td><td>0.23094</td></tr><tr><td>val_mae</td><td>0.23094</td></tr></table><br/></div></div>"
      ],
      "text/plain": [
       "<IPython.core.display.HTML object>"
      ]
     },
     "metadata": {},
     "output_type": "display_data"
    },
    {
     "data": {
      "text/html": [
       " View run <strong style=\"color:#cdcd00\">scarlet-sweep-24</strong> at: <a href='https://wandb.ai/walt_/dose-prediction/runs/4g2mxp7k' target=\"_blank\">https://wandb.ai/walt_/dose-prediction/runs/4g2mxp7k</a><br/> View project at: <a href='https://wandb.ai/walt_/dose-prediction' target=\"_blank\">https://wandb.ai/walt_/dose-prediction</a><br/>Synced 5 W&B file(s), 0 media file(s), 0 artifact file(s) and 0 other file(s)"
      ],
      "text/plain": [
       "<IPython.core.display.HTML object>"
      ]
     },
     "metadata": {},
     "output_type": "display_data"
    },
    {
     "data": {
      "text/html": [
       "Find logs at: <code>./wandb/run-20241124_152501-4g2mxp7k/logs</code>"
      ],
      "text/plain": [
       "<IPython.core.display.HTML object>"
      ]
     },
     "metadata": {},
     "output_type": "display_data"
    },
    {
     "name": "stderr",
     "output_type": "stream",
     "text": [
      "\u001b[34m\u001b[1mwandb\u001b[0m: Agent Starting Run: v89hcy3y with config:\n",
      "\u001b[34m\u001b[1mwandb\u001b[0m: \tactivation_function: tanh\n",
      "\u001b[34m\u001b[1mwandb\u001b[0m: \tbatch_size: 16\n",
      "\u001b[34m\u001b[1mwandb\u001b[0m: \tepochs: 20\n",
      "\u001b[34m\u001b[1mwandb\u001b[0m: \tinclude_edis: False\n",
      "\u001b[34m\u001b[1mwandb\u001b[0m: \tinclude_mgdis: False\n",
      "\u001b[34m\u001b[1mwandb\u001b[0m: \tinclude_mpc: True\n",
      "\u001b[34m\u001b[1mwandb\u001b[0m: \tinclude_sharpness: True\n",
      "\u001b[34m\u001b[1mwandb\u001b[0m: \tinclude_texture: True\n",
      "\u001b[34m\u001b[1mwandb\u001b[0m: \tlearning_rate: 0.005\n",
      "\u001b[34m\u001b[1mwandb\u001b[0m: \tloss_function: mean_absolute_error\n"
     ]
    },
    {
     "data": {
      "text/html": [
       "Tracking run with wandb version 0.18.7"
      ],
      "text/plain": [
       "<IPython.core.display.HTML object>"
      ]
     },
     "metadata": {},
     "output_type": "display_data"
    },
    {
     "data": {
      "text/html": [
       "Run data is saved locally in <code>/home/walt/FociNet/wandb/run-20241124_152536-v89hcy3y</code>"
      ],
      "text/plain": [
       "<IPython.core.display.HTML object>"
      ]
     },
     "metadata": {},
     "output_type": "display_data"
    },
    {
     "data": {
      "text/html": [
       "Syncing run <strong><a href='https://wandb.ai/walt_/dose-prediction/runs/v89hcy3y' target=\"_blank\">eager-sweep-25</a></strong> to <a href='https://wandb.ai/walt_/dose-prediction' target=\"_blank\">Weights & Biases</a> (<a href='https://wandb.me/developer-guide' target=\"_blank\">docs</a>)<br/>Sweep page: <a href='https://wandb.ai/walt_/dose-prediction/sweeps/ijck5aqp' target=\"_blank\">https://wandb.ai/walt_/dose-prediction/sweeps/ijck5aqp</a>"
      ],
      "text/plain": [
       "<IPython.core.display.HTML object>"
      ]
     },
     "metadata": {},
     "output_type": "display_data"
    },
    {
     "data": {
      "text/html": [
       " View project at <a href='https://wandb.ai/walt_/dose-prediction' target=\"_blank\">https://wandb.ai/walt_/dose-prediction</a>"
      ],
      "text/plain": [
       "<IPython.core.display.HTML object>"
      ]
     },
     "metadata": {},
     "output_type": "display_data"
    },
    {
     "data": {
      "text/html": [
       " View sweep at <a href='https://wandb.ai/walt_/dose-prediction/sweeps/ijck5aqp' target=\"_blank\">https://wandb.ai/walt_/dose-prediction/sweeps/ijck5aqp</a>"
      ],
      "text/plain": [
       "<IPython.core.display.HTML object>"
      ]
     },
     "metadata": {},
     "output_type": "display_data"
    },
    {
     "data": {
      "text/html": [
       " View run at <a href='https://wandb.ai/walt_/dose-prediction/runs/v89hcy3y' target=\"_blank\">https://wandb.ai/walt_/dose-prediction/runs/v89hcy3y</a>"
      ],
      "text/plain": [
       "<IPython.core.display.HTML object>"
      ]
     },
     "metadata": {},
     "output_type": "display_data"
    },
    {
     "name": "stdout",
     "output_type": "stream",
     "text": [
      "Active Feature Config: {'activation_function': 'tanh', 'batch_size': 16, 'epochs': 20, 'include_edis': False, 'include_mgdis': False, 'include_mpc': True, 'include_sharpness': True, 'include_texture': True, 'learning_rate': 0.005, 'loss_function': 'mean_absolute_error'}\n",
      "Subset X_train shape: (9766, 5)\n",
      "Subset X_val shape: (2790, 5)\n",
      "Subset X_test shape: (1396, 5)\n",
      "Calculated input_dim: 5\n",
      "Epoch 1/20\n",
      "611/611 - 3s - 5ms/step - loss: 0.2885 - mae: 0.2885 - val_loss: 0.2718 - val_mae: 0.2718\n",
      "Epoch 2/20\n",
      "611/611 - 1s - 2ms/step - loss: 0.2729 - mae: 0.2729 - val_loss: 0.2580 - val_mae: 0.2580\n",
      "Epoch 3/20\n",
      "611/611 - 1s - 2ms/step - loss: 0.2415 - mae: 0.2415 - val_loss: 0.2102 - val_mae: 0.2102\n",
      "Epoch 4/20\n",
      "611/611 - 2s - 3ms/step - loss: 0.2102 - mae: 0.2102 - val_loss: 0.2079 - val_mae: 0.2079\n",
      "Epoch 5/20\n",
      "611/611 - 2s - 2ms/step - loss: 0.1985 - mae: 0.1985 - val_loss: 0.1961 - val_mae: 0.1961\n",
      "Epoch 6/20\n",
      "611/611 - 2s - 3ms/step - loss: 0.1922 - mae: 0.1922 - val_loss: 0.1865 - val_mae: 0.1865\n",
      "Epoch 7/20\n",
      "611/611 - 1s - 2ms/step - loss: 0.1904 - mae: 0.1904 - val_loss: 0.1871 - val_mae: 0.1871\n",
      "Epoch 8/20\n",
      "611/611 - 1s - 2ms/step - loss: 0.1884 - mae: 0.1884 - val_loss: 0.1868 - val_mae: 0.1868\n",
      "Epoch 9/20\n",
      "611/611 - 1s - 2ms/step - loss: 0.1880 - mae: 0.1880 - val_loss: 0.1867 - val_mae: 0.1867\n",
      "Epoch 10/20\n",
      "611/611 - 1s - 2ms/step - loss: 0.1871 - mae: 0.1871 - val_loss: 0.1804 - val_mae: 0.1804\n",
      "Epoch 11/20\n",
      "611/611 - 1s - 2ms/step - loss: 0.1829 - mae: 0.1829 - val_loss: 0.1967 - val_mae: 0.1967\n",
      "Epoch 12/20\n",
      "611/611 - 1s - 2ms/step - loss: 0.1876 - mae: 0.1876 - val_loss: 0.1893 - val_mae: 0.1893\n",
      "Epoch 13/20\n",
      "611/611 - 1s - 2ms/step - loss: 0.1846 - mae: 0.1846 - val_loss: 0.1807 - val_mae: 0.1807\n",
      "Epoch 14/20\n",
      "611/611 - 1s - 2ms/step - loss: 0.1849 - mae: 0.1849 - val_loss: 0.1838 - val_mae: 0.1838\n",
      "Epoch 15/20\n",
      "611/611 - 1s - 2ms/step - loss: 0.1871 - mae: 0.1871 - val_loss: 0.1836 - val_mae: 0.1836\n",
      "Epoch 16/20\n",
      "611/611 - 1s - 2ms/step - loss: 0.1841 - mae: 0.1841 - val_loss: 0.1838 - val_mae: 0.1838\n",
      "Epoch 17/20\n",
      "611/611 - 1s - 2ms/step - loss: 0.1811 - mae: 0.1811 - val_loss: 0.1870 - val_mae: 0.1870\n",
      "Epoch 18/20\n",
      "611/611 - 1s - 2ms/step - loss: 0.1805 - mae: 0.1805 - val_loss: 0.1908 - val_mae: 0.1908\n",
      "Epoch 19/20\n",
      "611/611 - 1s - 2ms/step - loss: 0.1820 - mae: 0.1820 - val_loss: 0.1770 - val_mae: 0.1770\n",
      "Epoch 20/20\n",
      "611/611 - 1s - 2ms/step - loss: 0.1872 - mae: 0.1872 - val_loss: 0.1778 - val_mae: 0.1778\n",
      "\u001b[1m44/44\u001b[0m \u001b[32m━━━━━━━━━━━━━━━━━━━━\u001b[0m\u001b[37m\u001b[0m \u001b[1m0s\u001b[0m 4ms/step\n"
     ]
    },
    {
     "data": {
      "text/html": [
       "\n",
       "    <style>\n",
       "        .wandb-row {\n",
       "            display: flex;\n",
       "            flex-direction: row;\n",
       "            flex-wrap: wrap;\n",
       "            justify-content: flex-start;\n",
       "            width: 100%;\n",
       "        }\n",
       "        .wandb-col {\n",
       "            display: flex;\n",
       "            flex-direction: column;\n",
       "            flex-basis: 100%;\n",
       "            flex: 1;\n",
       "            padding: 10px;\n",
       "        }\n",
       "    </style>\n",
       "<div class=\"wandb-row\"><div class=\"wandb-col\"><h3>Run history:</h3><br/><table class=\"wandb\"><tr><td>Max Absolute Error (Test)</td><td>▁</td></tr><tr><td>Mean Absolute Error (Test)</td><td>▁</td></tr><tr><td>R²</td><td>▁</td></tr><tr><td>Test Loss</td><td>▁</td></tr><tr><td>Test MAE</td><td>▁</td></tr><tr><td>epoch</td><td>▁▁▂▂▂▃▃▄▄▄▅▅▅▆▆▇▇▇██</td></tr><tr><td>epoch/epoch</td><td>▁▁▂▂▂▃▃▄▄▄▅▅▅▆▆▇▇▇██</td></tr><tr><td>epoch/learning_rate</td><td>▁▁▁▁▁▁▁▁▁▁▁▁▁▁▁▁▁▁▁▁</td></tr><tr><td>epoch/loss</td><td>█▇▅▃▂▂▂▂▁▁▁▁▁▁▁▁▁▁▁▁</td></tr><tr><td>epoch/mae</td><td>█▇▅▃▂▂▂▂▁▁▁▁▁▁▁▁▁▁▁▁</td></tr><tr><td>epoch/val_loss</td><td>█▇▃▃▂▂▂▂▂▁▂▂▁▂▁▂▂▂▁▁</td></tr><tr><td>epoch/val_mae</td><td>█▇▃▃▂▂▂▂▂▁▂▂▁▂▁▂▂▂▁▁</td></tr><tr><td>train_loss</td><td>█▇▅▃▂▂▂▂▁▁▁▁▁▁▁▁▁▁▁▁</td></tr><tr><td>train_mae</td><td>█▇▅▃▂▂▂▂▁▁▁▁▁▁▁▁▁▁▁▁</td></tr><tr><td>val_loss</td><td>█▇▃▃▂▂▂▂▂▁▂▂▁▂▁▂▂▂▁▁</td></tr><tr><td>val_mae</td><td>█▇▃▃▂▂▂▂▂▁▂▂▁▂▁▂▂▂▁▁</td></tr></table><br/></div><div class=\"wandb-col\"><h3>Run summary:</h3><br/><table class=\"wandb\"><tr><td>Max Absolute Error (Test)</td><td>1.01496</td></tr><tr><td>Mean Absolute Error (Test)</td><td>0.16581</td></tr><tr><td>R²</td><td>0.39628</td></tr><tr><td>Test Loss</td><td>0.16581</td></tr><tr><td>Test MAE</td><td>0.16581</td></tr><tr><td>epoch</td><td>19</td></tr><tr><td>epoch/epoch</td><td>19</td></tr><tr><td>epoch/learning_rate</td><td>0.005</td></tr><tr><td>epoch/loss</td><td>0.18721</td></tr><tr><td>epoch/mae</td><td>0.18721</td></tr><tr><td>epoch/val_loss</td><td>0.17782</td></tr><tr><td>epoch/val_mae</td><td>0.17782</td></tr><tr><td>train_loss</td><td>0.18721</td></tr><tr><td>train_mae</td><td>0.18721</td></tr><tr><td>val_loss</td><td>0.17782</td></tr><tr><td>val_mae</td><td>0.17782</td></tr></table><br/></div></div>"
      ],
      "text/plain": [
       "<IPython.core.display.HTML object>"
      ]
     },
     "metadata": {},
     "output_type": "display_data"
    },
    {
     "data": {
      "text/html": [
       " View run <strong style=\"color:#cdcd00\">eager-sweep-25</strong> at: <a href='https://wandb.ai/walt_/dose-prediction/runs/v89hcy3y' target=\"_blank\">https://wandb.ai/walt_/dose-prediction/runs/v89hcy3y</a><br/> View project at: <a href='https://wandb.ai/walt_/dose-prediction' target=\"_blank\">https://wandb.ai/walt_/dose-prediction</a><br/>Synced 5 W&B file(s), 0 media file(s), 0 artifact file(s) and 0 other file(s)"
      ],
      "text/plain": [
       "<IPython.core.display.HTML object>"
      ]
     },
     "metadata": {},
     "output_type": "display_data"
    },
    {
     "data": {
      "text/html": [
       "Find logs at: <code>./wandb/run-20241124_152536-v89hcy3y/logs</code>"
      ],
      "text/plain": [
       "<IPython.core.display.HTML object>"
      ]
     },
     "metadata": {},
     "output_type": "display_data"
    },
    {
     "name": "stderr",
     "output_type": "stream",
     "text": [
      "\u001b[34m\u001b[1mwandb\u001b[0m: Agent Starting Run: 7ptr5onz with config:\n",
      "\u001b[34m\u001b[1mwandb\u001b[0m: \tactivation_function: tanh\n",
      "\u001b[34m\u001b[1mwandb\u001b[0m: \tbatch_size: 16\n",
      "\u001b[34m\u001b[1mwandb\u001b[0m: \tepochs: 20\n",
      "\u001b[34m\u001b[1mwandb\u001b[0m: \tinclude_edis: False\n",
      "\u001b[34m\u001b[1mwandb\u001b[0m: \tinclude_mgdis: False\n",
      "\u001b[34m\u001b[1mwandb\u001b[0m: \tinclude_mpc: True\n",
      "\u001b[34m\u001b[1mwandb\u001b[0m: \tinclude_sharpness: True\n",
      "\u001b[34m\u001b[1mwandb\u001b[0m: \tinclude_texture: False\n",
      "\u001b[34m\u001b[1mwandb\u001b[0m: \tlearning_rate: 0.005\n",
      "\u001b[34m\u001b[1mwandb\u001b[0m: \tloss_function: mean_absolute_error\n"
     ]
    },
    {
     "data": {
      "text/html": [
       "Tracking run with wandb version 0.18.7"
      ],
      "text/plain": [
       "<IPython.core.display.HTML object>"
      ]
     },
     "metadata": {},
     "output_type": "display_data"
    },
    {
     "data": {
      "text/html": [
       "Run data is saved locally in <code>/home/walt/FociNet/wandb/run-20241124_152612-7ptr5onz</code>"
      ],
      "text/plain": [
       "<IPython.core.display.HTML object>"
      ]
     },
     "metadata": {},
     "output_type": "display_data"
    },
    {
     "data": {
      "text/html": [
       "Syncing run <strong><a href='https://wandb.ai/walt_/dose-prediction/runs/7ptr5onz' target=\"_blank\">ruby-sweep-26</a></strong> to <a href='https://wandb.ai/walt_/dose-prediction' target=\"_blank\">Weights & Biases</a> (<a href='https://wandb.me/developer-guide' target=\"_blank\">docs</a>)<br/>Sweep page: <a href='https://wandb.ai/walt_/dose-prediction/sweeps/ijck5aqp' target=\"_blank\">https://wandb.ai/walt_/dose-prediction/sweeps/ijck5aqp</a>"
      ],
      "text/plain": [
       "<IPython.core.display.HTML object>"
      ]
     },
     "metadata": {},
     "output_type": "display_data"
    },
    {
     "data": {
      "text/html": [
       " View project at <a href='https://wandb.ai/walt_/dose-prediction' target=\"_blank\">https://wandb.ai/walt_/dose-prediction</a>"
      ],
      "text/plain": [
       "<IPython.core.display.HTML object>"
      ]
     },
     "metadata": {},
     "output_type": "display_data"
    },
    {
     "data": {
      "text/html": [
       " View sweep at <a href='https://wandb.ai/walt_/dose-prediction/sweeps/ijck5aqp' target=\"_blank\">https://wandb.ai/walt_/dose-prediction/sweeps/ijck5aqp</a>"
      ],
      "text/plain": [
       "<IPython.core.display.HTML object>"
      ]
     },
     "metadata": {},
     "output_type": "display_data"
    },
    {
     "data": {
      "text/html": [
       " View run at <a href='https://wandb.ai/walt_/dose-prediction/runs/7ptr5onz' target=\"_blank\">https://wandb.ai/walt_/dose-prediction/runs/7ptr5onz</a>"
      ],
      "text/plain": [
       "<IPython.core.display.HTML object>"
      ]
     },
     "metadata": {},
     "output_type": "display_data"
    },
    {
     "name": "stdout",
     "output_type": "stream",
     "text": [
      "Active Feature Config: {'activation_function': 'tanh', 'batch_size': 16, 'epochs': 20, 'include_edis': False, 'include_mgdis': False, 'include_mpc': True, 'include_sharpness': True, 'include_texture': False, 'learning_rate': 0.005, 'loss_function': 'mean_absolute_error'}\n",
      "Subset X_train shape: (9766, 3)\n",
      "Subset X_val shape: (2790, 3)\n",
      "Subset X_test shape: (1396, 3)\n",
      "Calculated input_dim: 3\n",
      "Epoch 1/20\n",
      "611/611 - 3s - 5ms/step - loss: 0.3059 - mae: 0.3059 - val_loss: 0.2861 - val_mae: 0.2861\n",
      "Epoch 2/20\n",
      "611/611 - 1s - 2ms/step - loss: 0.2955 - mae: 0.2955 - val_loss: 0.2917 - val_mae: 0.2917\n",
      "Epoch 3/20\n",
      "611/611 - 1s - 2ms/step - loss: 0.2913 - mae: 0.2913 - val_loss: 0.2742 - val_mae: 0.2742\n",
      "Epoch 4/20\n",
      "611/611 - 1s - 2ms/step - loss: 0.2527 - mae: 0.2527 - val_loss: 0.2360 - val_mae: 0.2360\n",
      "Epoch 5/20\n",
      "611/611 - 1s - 2ms/step - loss: 0.2405 - mae: 0.2405 - val_loss: 0.2366 - val_mae: 0.2366\n",
      "Epoch 6/20\n",
      "611/611 - 1s - 2ms/step - loss: 0.2382 - mae: 0.2382 - val_loss: 0.2321 - val_mae: 0.2321\n",
      "Epoch 7/20\n",
      "611/611 - 1s - 2ms/step - loss: 0.2342 - mae: 0.2342 - val_loss: 0.2351 - val_mae: 0.2351\n",
      "Epoch 8/20\n",
      "611/611 - 1s - 2ms/step - loss: 0.2335 - mae: 0.2335 - val_loss: 0.2257 - val_mae: 0.2257\n",
      "Epoch 9/20\n",
      "611/611 - 1s - 2ms/step - loss: 0.2313 - mae: 0.2313 - val_loss: 0.2309 - val_mae: 0.2309\n",
      "Epoch 10/20\n",
      "611/611 - 1s - 2ms/step - loss: 0.2340 - mae: 0.2340 - val_loss: 0.2262 - val_mae: 0.2262\n",
      "Epoch 11/20\n",
      "611/611 - 1s - 2ms/step - loss: 0.2311 - mae: 0.2311 - val_loss: 0.2229 - val_mae: 0.2229\n",
      "Epoch 12/20\n",
      "611/611 - 1s - 2ms/step - loss: 0.2303 - mae: 0.2303 - val_loss: 0.2302 - val_mae: 0.2302\n",
      "Epoch 13/20\n",
      "611/611 - 1s - 2ms/step - loss: 0.2266 - mae: 0.2266 - val_loss: 0.2341 - val_mae: 0.2341\n",
      "Epoch 14/20\n",
      "611/611 - 1s - 2ms/step - loss: 0.2287 - mae: 0.2287 - val_loss: 0.2217 - val_mae: 0.2217\n",
      "Epoch 15/20\n",
      "611/611 - 1s - 2ms/step - loss: 0.2305 - mae: 0.2305 - val_loss: 0.2309 - val_mae: 0.2309\n",
      "Epoch 16/20\n",
      "611/611 - 1s - 2ms/step - loss: 0.2295 - mae: 0.2295 - val_loss: 0.2252 - val_mae: 0.2252\n",
      "Epoch 17/20\n",
      "611/611 - 1s - 2ms/step - loss: 0.2270 - mae: 0.2270 - val_loss: 0.2248 - val_mae: 0.2248\n",
      "Epoch 18/20\n",
      "611/611 - 1s - 2ms/step - loss: 0.2289 - mae: 0.2289 - val_loss: 0.2220 - val_mae: 0.2220\n",
      "Epoch 19/20\n",
      "611/611 - 1s - 2ms/step - loss: 0.2257 - mae: 0.2257 - val_loss: 0.2302 - val_mae: 0.2302\n",
      "Epoch 20/20\n",
      "611/611 - 1s - 2ms/step - loss: 0.2256 - mae: 0.2256 - val_loss: 0.2263 - val_mae: 0.2263\n",
      "\u001b[1m44/44\u001b[0m \u001b[32m━━━━━━━━━━━━━━━━━━━━\u001b[0m\u001b[37m\u001b[0m \u001b[1m0s\u001b[0m 4ms/step\n"
     ]
    },
    {
     "data": {
      "text/html": [
       "\n",
       "    <style>\n",
       "        .wandb-row {\n",
       "            display: flex;\n",
       "            flex-direction: row;\n",
       "            flex-wrap: wrap;\n",
       "            justify-content: flex-start;\n",
       "            width: 100%;\n",
       "        }\n",
       "        .wandb-col {\n",
       "            display: flex;\n",
       "            flex-direction: column;\n",
       "            flex-basis: 100%;\n",
       "            flex: 1;\n",
       "            padding: 10px;\n",
       "        }\n",
       "    </style>\n",
       "<div class=\"wandb-row\"><div class=\"wandb-col\"><h3>Run history:</h3><br/><table class=\"wandb\"><tr><td>Max Absolute Error (Test)</td><td>▁</td></tr><tr><td>Mean Absolute Error (Test)</td><td>▁</td></tr><tr><td>R²</td><td>▁</td></tr><tr><td>Test Loss</td><td>▁</td></tr><tr><td>Test MAE</td><td>▁</td></tr><tr><td>epoch</td><td>▁▁▂▂▂▃▃▄▄▄▅▅▅▆▆▇▇▇██</td></tr><tr><td>epoch/epoch</td><td>▁▁▂▂▂▃▃▄▄▄▅▅▅▆▆▇▇▇██</td></tr><tr><td>epoch/learning_rate</td><td>▁▁▁▁▁▁▁▁▁▁▁▁▁▁▁▁▁▁▁▁</td></tr><tr><td>epoch/loss</td><td>█▇▇▃▂▂▂▂▁▂▁▁▁▁▁▁▁▁▁▁</td></tr><tr><td>epoch/mae</td><td>█▇▇▃▂▂▂▂▁▂▁▁▁▁▁▁▁▁▁▁</td></tr><tr><td>epoch/val_loss</td><td>▇█▆▂▂▂▂▁▂▁▁▂▂▁▂▁▁▁▂▁</td></tr><tr><td>epoch/val_mae</td><td>▇█▆▂▂▂▂▁▂▁▁▂▂▁▂▁▁▁▂▁</td></tr><tr><td>train_loss</td><td>█▇▇▃▂▂▂▂▁▂▁▁▁▁▁▁▁▁▁▁</td></tr><tr><td>train_mae</td><td>█▇▇▃▂▂▂▂▁▂▁▁▁▁▁▁▁▁▁▁</td></tr><tr><td>val_loss</td><td>▇█▆▂▂▂▂▁▂▁▁▂▂▁▂▁▁▁▂▁</td></tr><tr><td>val_mae</td><td>▇█▆▂▂▂▂▁▂▁▁▂▂▁▂▁▁▁▂▁</td></tr></table><br/></div><div class=\"wandb-col\"><h3>Run summary:</h3><br/><table class=\"wandb\"><tr><td>Max Absolute Error (Test)</td><td>1.00395</td></tr><tr><td>Mean Absolute Error (Test)</td><td>0.22353</td></tr><tr><td>R²</td><td>0.09787</td></tr><tr><td>Test Loss</td><td>0.22353</td></tr><tr><td>Test MAE</td><td>0.22353</td></tr><tr><td>epoch</td><td>19</td></tr><tr><td>epoch/epoch</td><td>19</td></tr><tr><td>epoch/learning_rate</td><td>0.005</td></tr><tr><td>epoch/loss</td><td>0.2256</td></tr><tr><td>epoch/mae</td><td>0.2256</td></tr><tr><td>epoch/val_loss</td><td>0.22632</td></tr><tr><td>epoch/val_mae</td><td>0.22632</td></tr><tr><td>train_loss</td><td>0.2256</td></tr><tr><td>train_mae</td><td>0.2256</td></tr><tr><td>val_loss</td><td>0.22632</td></tr><tr><td>val_mae</td><td>0.22632</td></tr></table><br/></div></div>"
      ],
      "text/plain": [
       "<IPython.core.display.HTML object>"
      ]
     },
     "metadata": {},
     "output_type": "display_data"
    },
    {
     "data": {
      "text/html": [
       " View run <strong style=\"color:#cdcd00\">ruby-sweep-26</strong> at: <a href='https://wandb.ai/walt_/dose-prediction/runs/7ptr5onz' target=\"_blank\">https://wandb.ai/walt_/dose-prediction/runs/7ptr5onz</a><br/> View project at: <a href='https://wandb.ai/walt_/dose-prediction' target=\"_blank\">https://wandb.ai/walt_/dose-prediction</a><br/>Synced 5 W&B file(s), 0 media file(s), 0 artifact file(s) and 0 other file(s)"
      ],
      "text/plain": [
       "<IPython.core.display.HTML object>"
      ]
     },
     "metadata": {},
     "output_type": "display_data"
    },
    {
     "data": {
      "text/html": [
       "Find logs at: <code>./wandb/run-20241124_152612-7ptr5onz/logs</code>"
      ],
      "text/plain": [
       "<IPython.core.display.HTML object>"
      ]
     },
     "metadata": {},
     "output_type": "display_data"
    },
    {
     "name": "stderr",
     "output_type": "stream",
     "text": [
      "\u001b[34m\u001b[1mwandb\u001b[0m: Agent Starting Run: eysy6d7c with config:\n",
      "\u001b[34m\u001b[1mwandb\u001b[0m: \tactivation_function: tanh\n",
      "\u001b[34m\u001b[1mwandb\u001b[0m: \tbatch_size: 16\n",
      "\u001b[34m\u001b[1mwandb\u001b[0m: \tepochs: 20\n",
      "\u001b[34m\u001b[1mwandb\u001b[0m: \tinclude_edis: False\n",
      "\u001b[34m\u001b[1mwandb\u001b[0m: \tinclude_mgdis: False\n",
      "\u001b[34m\u001b[1mwandb\u001b[0m: \tinclude_mpc: True\n",
      "\u001b[34m\u001b[1mwandb\u001b[0m: \tinclude_sharpness: False\n",
      "\u001b[34m\u001b[1mwandb\u001b[0m: \tinclude_texture: True\n",
      "\u001b[34m\u001b[1mwandb\u001b[0m: \tlearning_rate: 0.005\n",
      "\u001b[34m\u001b[1mwandb\u001b[0m: \tloss_function: mean_absolute_error\n"
     ]
    },
    {
     "data": {
      "text/html": [
       "Tracking run with wandb version 0.18.7"
      ],
      "text/plain": [
       "<IPython.core.display.HTML object>"
      ]
     },
     "metadata": {},
     "output_type": "display_data"
    },
    {
     "data": {
      "text/html": [
       "Run data is saved locally in <code>/home/walt/FociNet/wandb/run-20241124_152647-eysy6d7c</code>"
      ],
      "text/plain": [
       "<IPython.core.display.HTML object>"
      ]
     },
     "metadata": {},
     "output_type": "display_data"
    },
    {
     "data": {
      "text/html": [
       "Syncing run <strong><a href='https://wandb.ai/walt_/dose-prediction/runs/eysy6d7c' target=\"_blank\">misty-sweep-27</a></strong> to <a href='https://wandb.ai/walt_/dose-prediction' target=\"_blank\">Weights & Biases</a> (<a href='https://wandb.me/developer-guide' target=\"_blank\">docs</a>)<br/>Sweep page: <a href='https://wandb.ai/walt_/dose-prediction/sweeps/ijck5aqp' target=\"_blank\">https://wandb.ai/walt_/dose-prediction/sweeps/ijck5aqp</a>"
      ],
      "text/plain": [
       "<IPython.core.display.HTML object>"
      ]
     },
     "metadata": {},
     "output_type": "display_data"
    },
    {
     "data": {
      "text/html": [
       " View project at <a href='https://wandb.ai/walt_/dose-prediction' target=\"_blank\">https://wandb.ai/walt_/dose-prediction</a>"
      ],
      "text/plain": [
       "<IPython.core.display.HTML object>"
      ]
     },
     "metadata": {},
     "output_type": "display_data"
    },
    {
     "data": {
      "text/html": [
       " View sweep at <a href='https://wandb.ai/walt_/dose-prediction/sweeps/ijck5aqp' target=\"_blank\">https://wandb.ai/walt_/dose-prediction/sweeps/ijck5aqp</a>"
      ],
      "text/plain": [
       "<IPython.core.display.HTML object>"
      ]
     },
     "metadata": {},
     "output_type": "display_data"
    },
    {
     "data": {
      "text/html": [
       " View run at <a href='https://wandb.ai/walt_/dose-prediction/runs/eysy6d7c' target=\"_blank\">https://wandb.ai/walt_/dose-prediction/runs/eysy6d7c</a>"
      ],
      "text/plain": [
       "<IPython.core.display.HTML object>"
      ]
     },
     "metadata": {},
     "output_type": "display_data"
    },
    {
     "name": "stdout",
     "output_type": "stream",
     "text": [
      "Active Feature Config: {'activation_function': 'tanh', 'batch_size': 16, 'epochs': 20, 'include_edis': False, 'include_mgdis': False, 'include_mpc': True, 'include_sharpness': False, 'include_texture': True, 'learning_rate': 0.005, 'loss_function': 'mean_absolute_error'}\n",
      "Subset X_train shape: (9766, 4)\n",
      "Subset X_val shape: (2790, 4)\n",
      "Subset X_test shape: (1396, 4)\n",
      "Calculated input_dim: 4\n",
      "Epoch 1/20\n",
      "611/611 - 3s - 4ms/step - loss: 0.2932 - mae: 0.2932 - val_loss: 0.2697 - val_mae: 0.2697\n",
      "Epoch 2/20\n",
      "611/611 - 1s - 2ms/step - loss: 0.2635 - mae: 0.2635 - val_loss: 0.2240 - val_mae: 0.2240\n",
      "Epoch 3/20\n",
      "611/611 - 1s - 2ms/step - loss: 0.2156 - mae: 0.2156 - val_loss: 0.2101 - val_mae: 0.2101\n",
      "Epoch 4/20\n",
      "611/611 - 1s - 2ms/step - loss: 0.2052 - mae: 0.2052 - val_loss: 0.2016 - val_mae: 0.2016\n",
      "Epoch 5/20\n",
      "611/611 - 1s - 2ms/step - loss: 0.1987 - mae: 0.1987 - val_loss: 0.2153 - val_mae: 0.2153\n",
      "Epoch 6/20\n",
      "611/611 - 1s - 2ms/step - loss: 0.1947 - mae: 0.1947 - val_loss: 0.2057 - val_mae: 0.2057\n",
      "Epoch 7/20\n",
      "611/611 - 1s - 2ms/step - loss: 0.1934 - mae: 0.1934 - val_loss: 0.2171 - val_mae: 0.2171\n",
      "Epoch 8/20\n",
      "611/611 - 1s - 2ms/step - loss: 0.1914 - mae: 0.1914 - val_loss: 0.1985 - val_mae: 0.1985\n",
      "Epoch 9/20\n",
      "611/611 - 1s - 2ms/step - loss: 0.1915 - mae: 0.1915 - val_loss: 0.1947 - val_mae: 0.1947\n",
      "Epoch 10/20\n",
      "611/611 - 1s - 2ms/step - loss: 0.1878 - mae: 0.1878 - val_loss: 0.2067 - val_mae: 0.2067\n",
      "Epoch 11/20\n",
      "611/611 - 1s - 2ms/step - loss: 0.1880 - mae: 0.1880 - val_loss: 0.2075 - val_mae: 0.2075\n",
      "Epoch 12/20\n",
      "611/611 - 1s - 2ms/step - loss: 0.1880 - mae: 0.1880 - val_loss: 0.1930 - val_mae: 0.1930\n",
      "Epoch 13/20\n",
      "611/611 - 1s - 2ms/step - loss: 0.1878 - mae: 0.1878 - val_loss: 0.1949 - val_mae: 0.1949\n",
      "Epoch 14/20\n",
      "611/611 - 1s - 2ms/step - loss: 0.1852 - mae: 0.1852 - val_loss: 0.1873 - val_mae: 0.1873\n",
      "Epoch 15/20\n",
      "611/611 - 1s - 2ms/step - loss: 0.1837 - mae: 0.1837 - val_loss: 0.1926 - val_mae: 0.1926\n",
      "Epoch 16/20\n",
      "611/611 - 1s - 2ms/step - loss: 0.1839 - mae: 0.1839 - val_loss: 0.1853 - val_mae: 0.1853\n",
      "Epoch 17/20\n",
      "611/611 - 1s - 2ms/step - loss: 0.1829 - mae: 0.1829 - val_loss: 0.1931 - val_mae: 0.1931\n",
      "Epoch 18/20\n",
      "611/611 - 1s - 2ms/step - loss: 0.1880 - mae: 0.1880 - val_loss: 0.1882 - val_mae: 0.1882\n",
      "Epoch 19/20\n",
      "611/611 - 1s - 2ms/step - loss: 0.1852 - mae: 0.1852 - val_loss: 0.1940 - val_mae: 0.1940\n",
      "Epoch 20/20\n",
      "611/611 - 1s - 2ms/step - loss: 0.1832 - mae: 0.1832 - val_loss: 0.1872 - val_mae: 0.1872\n",
      "\u001b[1m44/44\u001b[0m \u001b[32m━━━━━━━━━━━━━━━━━━━━\u001b[0m\u001b[37m\u001b[0m \u001b[1m0s\u001b[0m 4ms/step\n"
     ]
    },
    {
     "data": {
      "text/html": [
       "\n",
       "    <style>\n",
       "        .wandb-row {\n",
       "            display: flex;\n",
       "            flex-direction: row;\n",
       "            flex-wrap: wrap;\n",
       "            justify-content: flex-start;\n",
       "            width: 100%;\n",
       "        }\n",
       "        .wandb-col {\n",
       "            display: flex;\n",
       "            flex-direction: column;\n",
       "            flex-basis: 100%;\n",
       "            flex: 1;\n",
       "            padding: 10px;\n",
       "        }\n",
       "    </style>\n",
       "<div class=\"wandb-row\"><div class=\"wandb-col\"><h3>Run history:</h3><br/><table class=\"wandb\"><tr><td>Max Absolute Error (Test)</td><td>▁</td></tr><tr><td>Mean Absolute Error (Test)</td><td>▁</td></tr><tr><td>R²</td><td>▁</td></tr><tr><td>Test Loss</td><td>▁</td></tr><tr><td>Test MAE</td><td>▁</td></tr><tr><td>epoch</td><td>▁▁▂▂▂▃▃▄▄▄▅▅▅▆▆▇▇▇██</td></tr><tr><td>epoch/epoch</td><td>▁▁▂▂▂▃▃▄▄▄▅▅▅▆▆▇▇▇██</td></tr><tr><td>epoch/learning_rate</td><td>▁▁▁▁▁▁▁▁▁▁▁▁▁▁▁▁▁▁▁▁</td></tr><tr><td>epoch/loss</td><td>█▆▃▂▂▂▂▂▂▁▁▁▁▁▁▁▁▁▁▁</td></tr><tr><td>epoch/mae</td><td>█▆▃▂▂▂▂▂▂▁▁▁▁▁▁▁▁▁▁▁</td></tr><tr><td>epoch/val_loss</td><td>█▄▃▂▃▃▄▂▂▃▃▂▂▁▂▁▂▁▂▁</td></tr><tr><td>epoch/val_mae</td><td>█▄▃▂▃▃▄▂▂▃▃▂▂▁▂▁▂▁▂▁</td></tr><tr><td>train_loss</td><td>█▆▃▂▂▂▂▂▂▁▁▁▁▁▁▁▁▁▁▁</td></tr><tr><td>train_mae</td><td>█▆▃▂▂▂▂▂▂▁▁▁▁▁▁▁▁▁▁▁</td></tr><tr><td>val_loss</td><td>█▄▃▂▃▃▄▂▂▃▃▂▂▁▂▁▂▁▂▁</td></tr><tr><td>val_mae</td><td>█▄▃▂▃▃▄▂▂▃▃▂▂▁▂▁▂▁▂▁</td></tr></table><br/></div><div class=\"wandb-col\"><h3>Run summary:</h3><br/><table class=\"wandb\"><tr><td>Max Absolute Error (Test)</td><td>1.00571</td></tr><tr><td>Mean Absolute Error (Test)</td><td>0.17266</td></tr><tr><td>R²</td><td>0.36137</td></tr><tr><td>Test Loss</td><td>0.17266</td></tr><tr><td>Test MAE</td><td>0.17266</td></tr><tr><td>epoch</td><td>19</td></tr><tr><td>epoch/epoch</td><td>19</td></tr><tr><td>epoch/learning_rate</td><td>0.005</td></tr><tr><td>epoch/loss</td><td>0.18319</td></tr><tr><td>epoch/mae</td><td>0.18319</td></tr><tr><td>epoch/val_loss</td><td>0.18721</td></tr><tr><td>epoch/val_mae</td><td>0.18721</td></tr><tr><td>train_loss</td><td>0.18319</td></tr><tr><td>train_mae</td><td>0.18319</td></tr><tr><td>val_loss</td><td>0.18721</td></tr><tr><td>val_mae</td><td>0.18721</td></tr></table><br/></div></div>"
      ],
      "text/plain": [
       "<IPython.core.display.HTML object>"
      ]
     },
     "metadata": {},
     "output_type": "display_data"
    },
    {
     "data": {
      "text/html": [
       " View run <strong style=\"color:#cdcd00\">misty-sweep-27</strong> at: <a href='https://wandb.ai/walt_/dose-prediction/runs/eysy6d7c' target=\"_blank\">https://wandb.ai/walt_/dose-prediction/runs/eysy6d7c</a><br/> View project at: <a href='https://wandb.ai/walt_/dose-prediction' target=\"_blank\">https://wandb.ai/walt_/dose-prediction</a><br/>Synced 5 W&B file(s), 0 media file(s), 0 artifact file(s) and 0 other file(s)"
      ],
      "text/plain": [
       "<IPython.core.display.HTML object>"
      ]
     },
     "metadata": {},
     "output_type": "display_data"
    },
    {
     "data": {
      "text/html": [
       "Find logs at: <code>./wandb/run-20241124_152647-eysy6d7c/logs</code>"
      ],
      "text/plain": [
       "<IPython.core.display.HTML object>"
      ]
     },
     "metadata": {},
     "output_type": "display_data"
    },
    {
     "name": "stderr",
     "output_type": "stream",
     "text": [
      "\u001b[34m\u001b[1mwandb\u001b[0m: Agent Starting Run: 8k2ohbqt with config:\n",
      "\u001b[34m\u001b[1mwandb\u001b[0m: \tactivation_function: tanh\n",
      "\u001b[34m\u001b[1mwandb\u001b[0m: \tbatch_size: 16\n",
      "\u001b[34m\u001b[1mwandb\u001b[0m: \tepochs: 20\n",
      "\u001b[34m\u001b[1mwandb\u001b[0m: \tinclude_edis: False\n",
      "\u001b[34m\u001b[1mwandb\u001b[0m: \tinclude_mgdis: False\n",
      "\u001b[34m\u001b[1mwandb\u001b[0m: \tinclude_mpc: True\n",
      "\u001b[34m\u001b[1mwandb\u001b[0m: \tinclude_sharpness: False\n",
      "\u001b[34m\u001b[1mwandb\u001b[0m: \tinclude_texture: False\n",
      "\u001b[34m\u001b[1mwandb\u001b[0m: \tlearning_rate: 0.005\n",
      "\u001b[34m\u001b[1mwandb\u001b[0m: \tloss_function: mean_absolute_error\n"
     ]
    },
    {
     "data": {
      "text/html": [
       "Tracking run with wandb version 0.18.7"
      ],
      "text/plain": [
       "<IPython.core.display.HTML object>"
      ]
     },
     "metadata": {},
     "output_type": "display_data"
    },
    {
     "data": {
      "text/html": [
       "Run data is saved locally in <code>/home/walt/FociNet/wandb/run-20241124_152723-8k2ohbqt</code>"
      ],
      "text/plain": [
       "<IPython.core.display.HTML object>"
      ]
     },
     "metadata": {},
     "output_type": "display_data"
    },
    {
     "data": {
      "text/html": [
       "Syncing run <strong><a href='https://wandb.ai/walt_/dose-prediction/runs/8k2ohbqt' target=\"_blank\">vibrant-sweep-28</a></strong> to <a href='https://wandb.ai/walt_/dose-prediction' target=\"_blank\">Weights & Biases</a> (<a href='https://wandb.me/developer-guide' target=\"_blank\">docs</a>)<br/>Sweep page: <a href='https://wandb.ai/walt_/dose-prediction/sweeps/ijck5aqp' target=\"_blank\">https://wandb.ai/walt_/dose-prediction/sweeps/ijck5aqp</a>"
      ],
      "text/plain": [
       "<IPython.core.display.HTML object>"
      ]
     },
     "metadata": {},
     "output_type": "display_data"
    },
    {
     "data": {
      "text/html": [
       " View project at <a href='https://wandb.ai/walt_/dose-prediction' target=\"_blank\">https://wandb.ai/walt_/dose-prediction</a>"
      ],
      "text/plain": [
       "<IPython.core.display.HTML object>"
      ]
     },
     "metadata": {},
     "output_type": "display_data"
    },
    {
     "data": {
      "text/html": [
       " View sweep at <a href='https://wandb.ai/walt_/dose-prediction/sweeps/ijck5aqp' target=\"_blank\">https://wandb.ai/walt_/dose-prediction/sweeps/ijck5aqp</a>"
      ],
      "text/plain": [
       "<IPython.core.display.HTML object>"
      ]
     },
     "metadata": {},
     "output_type": "display_data"
    },
    {
     "data": {
      "text/html": [
       " View run at <a href='https://wandb.ai/walt_/dose-prediction/runs/8k2ohbqt' target=\"_blank\">https://wandb.ai/walt_/dose-prediction/runs/8k2ohbqt</a>"
      ],
      "text/plain": [
       "<IPython.core.display.HTML object>"
      ]
     },
     "metadata": {},
     "output_type": "display_data"
    },
    {
     "name": "stdout",
     "output_type": "stream",
     "text": [
      "Active Feature Config: {'activation_function': 'tanh', 'batch_size': 16, 'epochs': 20, 'include_edis': False, 'include_mgdis': False, 'include_mpc': True, 'include_sharpness': False, 'include_texture': False, 'learning_rate': 0.005, 'loss_function': 'mean_absolute_error'}\n",
      "Subset X_train shape: (9766, 2)\n",
      "Subset X_val shape: (2790, 2)\n",
      "Subset X_test shape: (1396, 2)\n",
      "Calculated input_dim: 2\n",
      "Epoch 1/20\n",
      "611/611 - 3s - 4ms/step - loss: 0.3021 - mae: 0.3021 - val_loss: 0.2908 - val_mae: 0.2908\n",
      "Epoch 2/20\n",
      "611/611 - 1s - 2ms/step - loss: 0.2810 - mae: 0.2810 - val_loss: 0.2479 - val_mae: 0.2479\n",
      "Epoch 3/20\n",
      "611/611 - 1s - 2ms/step - loss: 0.2476 - mae: 0.2476 - val_loss: 0.2479 - val_mae: 0.2479\n",
      "Epoch 4/20\n",
      "611/611 - 1s - 2ms/step - loss: 0.2415 - mae: 0.2415 - val_loss: 0.2352 - val_mae: 0.2352\n",
      "Epoch 5/20\n",
      "611/611 - 1s - 2ms/step - loss: 0.2381 - mae: 0.2381 - val_loss: 0.2395 - val_mae: 0.2395\n",
      "Epoch 6/20\n",
      "611/611 - 1s - 2ms/step - loss: 0.2358 - mae: 0.2358 - val_loss: 0.2328 - val_mae: 0.2328\n",
      "Epoch 7/20\n",
      "611/611 - 1s - 2ms/step - loss: 0.2365 - mae: 0.2365 - val_loss: 0.2317 - val_mae: 0.2317\n",
      "Epoch 8/20\n",
      "611/611 - 1s - 2ms/step - loss: 0.2356 - mae: 0.2356 - val_loss: 0.2306 - val_mae: 0.2306\n",
      "Epoch 9/20\n",
      "611/611 - 1s - 2ms/step - loss: 0.2339 - mae: 0.2339 - val_loss: 0.2296 - val_mae: 0.2296\n",
      "Epoch 10/20\n",
      "611/611 - 1s - 2ms/step - loss: 0.2342 - mae: 0.2342 - val_loss: 0.2465 - val_mae: 0.2465\n",
      "Epoch 11/20\n",
      "611/611 - 1s - 2ms/step - loss: 0.2328 - mae: 0.2328 - val_loss: 0.2337 - val_mae: 0.2337\n",
      "Epoch 12/20\n",
      "611/611 - 1s - 2ms/step - loss: 0.2341 - mae: 0.2341 - val_loss: 0.2371 - val_mae: 0.2371\n",
      "Epoch 13/20\n",
      "611/611 - 1s - 2ms/step - loss: 0.2331 - mae: 0.2331 - val_loss: 0.2349 - val_mae: 0.2349\n",
      "Epoch 14/20\n",
      "611/611 - 1s - 2ms/step - loss: 0.2312 - mae: 0.2312 - val_loss: 0.2272 - val_mae: 0.2272\n",
      "Epoch 15/20\n",
      "611/611 - 1s - 2ms/step - loss: 0.2349 - mae: 0.2349 - val_loss: 0.2358 - val_mae: 0.2358\n",
      "Epoch 16/20\n",
      "611/611 - 1s - 2ms/step - loss: 0.2317 - mae: 0.2317 - val_loss: 0.2262 - val_mae: 0.2262\n",
      "Epoch 17/20\n",
      "611/611 - 1s - 2ms/step - loss: 0.2329 - mae: 0.2329 - val_loss: 0.2263 - val_mae: 0.2263\n",
      "Epoch 18/20\n",
      "611/611 - 1s - 2ms/step - loss: 0.2345 - mae: 0.2345 - val_loss: 0.2298 - val_mae: 0.2298\n",
      "Epoch 19/20\n",
      "611/611 - 1s - 2ms/step - loss: 0.2296 - mae: 0.2296 - val_loss: 0.2306 - val_mae: 0.2306\n",
      "Epoch 20/20\n",
      "611/611 - 1s - 2ms/step - loss: 0.2336 - mae: 0.2336 - val_loss: 0.2312 - val_mae: 0.2312\n",
      "\u001b[1m44/44\u001b[0m \u001b[32m━━━━━━━━━━━━━━━━━━━━\u001b[0m\u001b[37m\u001b[0m \u001b[1m0s\u001b[0m 4ms/step\n"
     ]
    },
    {
     "data": {
      "text/html": [
       "\n",
       "    <style>\n",
       "        .wandb-row {\n",
       "            display: flex;\n",
       "            flex-direction: row;\n",
       "            flex-wrap: wrap;\n",
       "            justify-content: flex-start;\n",
       "            width: 100%;\n",
       "        }\n",
       "        .wandb-col {\n",
       "            display: flex;\n",
       "            flex-direction: column;\n",
       "            flex-basis: 100%;\n",
       "            flex: 1;\n",
       "            padding: 10px;\n",
       "        }\n",
       "    </style>\n",
       "<div class=\"wandb-row\"><div class=\"wandb-col\"><h3>Run history:</h3><br/><table class=\"wandb\"><tr><td>Max Absolute Error (Test)</td><td>▁</td></tr><tr><td>Mean Absolute Error (Test)</td><td>▁</td></tr><tr><td>R²</td><td>▁</td></tr><tr><td>Test Loss</td><td>▁</td></tr><tr><td>Test MAE</td><td>▁</td></tr><tr><td>epoch</td><td>▁▁▂▂▂▃▃▄▄▄▅▅▅▆▆▇▇▇██</td></tr><tr><td>epoch/epoch</td><td>▁▁▂▂▂▃▃▄▄▄▅▅▅▆▆▇▇▇██</td></tr><tr><td>epoch/learning_rate</td><td>▁▁▁▁▁▁▁▁▁▁▁▁▁▁▁▁▁▁▁▁</td></tr><tr><td>epoch/loss</td><td>█▆▃▂▂▂▂▂▁▁▁▁▁▁▂▁▁▁▁▁</td></tr><tr><td>epoch/mae</td><td>█▆▃▂▂▂▂▂▁▁▁▁▁▁▂▁▁▁▁▁</td></tr><tr><td>epoch/val_loss</td><td>█▃▃▂▂▂▂▁▁▃▂▂▂▁▂▁▁▁▁▂</td></tr><tr><td>epoch/val_mae</td><td>█▃▃▂▂▂▂▁▁▃▂▂▂▁▂▁▁▁▁▂</td></tr><tr><td>train_loss</td><td>█▆▃▂▂▂▂▂▁▁▁▁▁▁▂▁▁▁▁▁</td></tr><tr><td>train_mae</td><td>█▆▃▂▂▂▂▂▁▁▁▁▁▁▂▁▁▁▁▁</td></tr><tr><td>val_loss</td><td>█▃▃▂▂▂▂▁▁▃▂▂▂▁▂▁▁▁▁▂</td></tr><tr><td>val_mae</td><td>█▃▃▂▂▂▂▁▁▃▂▂▂▁▂▁▁▁▁▂</td></tr></table><br/></div><div class=\"wandb-col\"><h3>Run summary:</h3><br/><table class=\"wandb\"><tr><td>Max Absolute Error (Test)</td><td>1.0028</td></tr><tr><td>Mean Absolute Error (Test)</td><td>0.23441</td></tr><tr><td>R²</td><td>0.07437</td></tr><tr><td>Test Loss</td><td>0.23441</td></tr><tr><td>Test MAE</td><td>0.23441</td></tr><tr><td>epoch</td><td>19</td></tr><tr><td>epoch/epoch</td><td>19</td></tr><tr><td>epoch/learning_rate</td><td>0.005</td></tr><tr><td>epoch/loss</td><td>0.2336</td></tr><tr><td>epoch/mae</td><td>0.2336</td></tr><tr><td>epoch/val_loss</td><td>0.23124</td></tr><tr><td>epoch/val_mae</td><td>0.23124</td></tr><tr><td>train_loss</td><td>0.2336</td></tr><tr><td>train_mae</td><td>0.2336</td></tr><tr><td>val_loss</td><td>0.23124</td></tr><tr><td>val_mae</td><td>0.23124</td></tr></table><br/></div></div>"
      ],
      "text/plain": [
       "<IPython.core.display.HTML object>"
      ]
     },
     "metadata": {},
     "output_type": "display_data"
    },
    {
     "data": {
      "text/html": [
       " View run <strong style=\"color:#cdcd00\">vibrant-sweep-28</strong> at: <a href='https://wandb.ai/walt_/dose-prediction/runs/8k2ohbqt' target=\"_blank\">https://wandb.ai/walt_/dose-prediction/runs/8k2ohbqt</a><br/> View project at: <a href='https://wandb.ai/walt_/dose-prediction' target=\"_blank\">https://wandb.ai/walt_/dose-prediction</a><br/>Synced 5 W&B file(s), 0 media file(s), 0 artifact file(s) and 0 other file(s)"
      ],
      "text/plain": [
       "<IPython.core.display.HTML object>"
      ]
     },
     "metadata": {},
     "output_type": "display_data"
    },
    {
     "data": {
      "text/html": [
       "Find logs at: <code>./wandb/run-20241124_152723-8k2ohbqt/logs</code>"
      ],
      "text/plain": [
       "<IPython.core.display.HTML object>"
      ]
     },
     "metadata": {},
     "output_type": "display_data"
    },
    {
     "name": "stderr",
     "output_type": "stream",
     "text": [
      "\u001b[34m\u001b[1mwandb\u001b[0m: Agent Starting Run: sxhdd768 with config:\n",
      "\u001b[34m\u001b[1mwandb\u001b[0m: \tactivation_function: tanh\n",
      "\u001b[34m\u001b[1mwandb\u001b[0m: \tbatch_size: 16\n",
      "\u001b[34m\u001b[1mwandb\u001b[0m: \tepochs: 20\n",
      "\u001b[34m\u001b[1mwandb\u001b[0m: \tinclude_edis: False\n",
      "\u001b[34m\u001b[1mwandb\u001b[0m: \tinclude_mgdis: False\n",
      "\u001b[34m\u001b[1mwandb\u001b[0m: \tinclude_mpc: False\n",
      "\u001b[34m\u001b[1mwandb\u001b[0m: \tinclude_sharpness: True\n",
      "\u001b[34m\u001b[1mwandb\u001b[0m: \tinclude_texture: True\n",
      "\u001b[34m\u001b[1mwandb\u001b[0m: \tlearning_rate: 0.005\n",
      "\u001b[34m\u001b[1mwandb\u001b[0m: \tloss_function: mean_absolute_error\n"
     ]
    },
    {
     "data": {
      "text/html": [
       "Tracking run with wandb version 0.18.7"
      ],
      "text/plain": [
       "<IPython.core.display.HTML object>"
      ]
     },
     "metadata": {},
     "output_type": "display_data"
    },
    {
     "data": {
      "text/html": [
       "Run data is saved locally in <code>/home/walt/FociNet/wandb/run-20241124_152759-sxhdd768</code>"
      ],
      "text/plain": [
       "<IPython.core.display.HTML object>"
      ]
     },
     "metadata": {},
     "output_type": "display_data"
    },
    {
     "data": {
      "text/html": [
       "Syncing run <strong><a href='https://wandb.ai/walt_/dose-prediction/runs/sxhdd768' target=\"_blank\">fresh-sweep-29</a></strong> to <a href='https://wandb.ai/walt_/dose-prediction' target=\"_blank\">Weights & Biases</a> (<a href='https://wandb.me/developer-guide' target=\"_blank\">docs</a>)<br/>Sweep page: <a href='https://wandb.ai/walt_/dose-prediction/sweeps/ijck5aqp' target=\"_blank\">https://wandb.ai/walt_/dose-prediction/sweeps/ijck5aqp</a>"
      ],
      "text/plain": [
       "<IPython.core.display.HTML object>"
      ]
     },
     "metadata": {},
     "output_type": "display_data"
    },
    {
     "data": {
      "text/html": [
       " View project at <a href='https://wandb.ai/walt_/dose-prediction' target=\"_blank\">https://wandb.ai/walt_/dose-prediction</a>"
      ],
      "text/plain": [
       "<IPython.core.display.HTML object>"
      ]
     },
     "metadata": {},
     "output_type": "display_data"
    },
    {
     "data": {
      "text/html": [
       " View sweep at <a href='https://wandb.ai/walt_/dose-prediction/sweeps/ijck5aqp' target=\"_blank\">https://wandb.ai/walt_/dose-prediction/sweeps/ijck5aqp</a>"
      ],
      "text/plain": [
       "<IPython.core.display.HTML object>"
      ]
     },
     "metadata": {},
     "output_type": "display_data"
    },
    {
     "data": {
      "text/html": [
       " View run at <a href='https://wandb.ai/walt_/dose-prediction/runs/sxhdd768' target=\"_blank\">https://wandb.ai/walt_/dose-prediction/runs/sxhdd768</a>"
      ],
      "text/plain": [
       "<IPython.core.display.HTML object>"
      ]
     },
     "metadata": {},
     "output_type": "display_data"
    },
    {
     "name": "stdout",
     "output_type": "stream",
     "text": [
      "Active Feature Config: {'activation_function': 'tanh', 'batch_size': 16, 'epochs': 20, 'include_edis': False, 'include_mgdis': False, 'include_mpc': False, 'include_sharpness': True, 'include_texture': True, 'learning_rate': 0.005, 'loss_function': 'mean_absolute_error'}\n",
      "Subset X_train shape: (9766, 3)\n",
      "Subset X_val shape: (2790, 3)\n",
      "Subset X_test shape: (1396, 3)\n",
      "Calculated input_dim: 3\n",
      "Epoch 1/20\n",
      "611/611 - 3s - 5ms/step - loss: 0.3006 - mae: 0.3006 - val_loss: 0.2922 - val_mae: 0.2922\n",
      "Epoch 2/20\n",
      "611/611 - 1s - 2ms/step - loss: 0.2939 - mae: 0.2939 - val_loss: 0.3001 - val_mae: 0.3001\n",
      "Epoch 3/20\n",
      "611/611 - 1s - 2ms/step - loss: 0.2946 - mae: 0.2946 - val_loss: 0.2946 - val_mae: 0.2946\n",
      "Epoch 4/20\n",
      "611/611 - 1s - 2ms/step - loss: 0.2932 - mae: 0.2932 - val_loss: 0.2890 - val_mae: 0.2890\n",
      "Epoch 5/20\n",
      "611/611 - 1s - 2ms/step - loss: 0.2637 - mae: 0.2637 - val_loss: 0.2364 - val_mae: 0.2364\n",
      "Epoch 6/20\n",
      "611/611 - 1s - 2ms/step - loss: 0.2385 - mae: 0.2385 - val_loss: 0.2364 - val_mae: 0.2364\n",
      "Epoch 7/20\n",
      "611/611 - 1s - 2ms/step - loss: 0.2364 - mae: 0.2364 - val_loss: 0.2299 - val_mae: 0.2299\n",
      "Epoch 8/20\n",
      "611/611 - 1s - 2ms/step - loss: 0.2329 - mae: 0.2329 - val_loss: 0.2349 - val_mae: 0.2349\n",
      "Epoch 9/20\n",
      "611/611 - 1s - 2ms/step - loss: 0.2307 - mae: 0.2307 - val_loss: 0.2411 - val_mae: 0.2411\n",
      "Epoch 10/20\n",
      "611/611 - 1s - 2ms/step - loss: 0.2335 - mae: 0.2335 - val_loss: 0.2343 - val_mae: 0.2343\n",
      "Epoch 11/20\n",
      "611/611 - 1s - 2ms/step - loss: 0.2306 - mae: 0.2306 - val_loss: 0.2247 - val_mae: 0.2247\n",
      "Epoch 12/20\n",
      "611/611 - 1s - 2ms/step - loss: 0.2332 - mae: 0.2332 - val_loss: 0.2256 - val_mae: 0.2256\n",
      "Epoch 13/20\n",
      "611/611 - 1s - 2ms/step - loss: 0.2297 - mae: 0.2297 - val_loss: 0.2248 - val_mae: 0.2248\n",
      "Epoch 14/20\n",
      "611/611 - 1s - 2ms/step - loss: 0.2276 - mae: 0.2276 - val_loss: 0.2269 - val_mae: 0.2269\n",
      "Epoch 15/20\n",
      "611/611 - 1s - 2ms/step - loss: 0.2271 - mae: 0.2271 - val_loss: 0.2299 - val_mae: 0.2299\n",
      "Epoch 16/20\n",
      "611/611 - 1s - 2ms/step - loss: 0.2279 - mae: 0.2279 - val_loss: 0.2249 - val_mae: 0.2249\n",
      "Epoch 17/20\n",
      "611/611 - 1s - 2ms/step - loss: 0.2276 - mae: 0.2276 - val_loss: 0.2266 - val_mae: 0.2266\n",
      "Epoch 18/20\n",
      "611/611 - 1s - 2ms/step - loss: 0.2286 - mae: 0.2286 - val_loss: 0.2220 - val_mae: 0.2220\n",
      "Epoch 19/20\n",
      "611/611 - 1s - 2ms/step - loss: 0.2297 - mae: 0.2297 - val_loss: 0.2303 - val_mae: 0.2303\n",
      "Epoch 20/20\n",
      "611/611 - 1s - 2ms/step - loss: 0.2299 - mae: 0.2299 - val_loss: 0.2211 - val_mae: 0.2211\n",
      "\u001b[1m44/44\u001b[0m \u001b[32m━━━━━━━━━━━━━━━━━━━━\u001b[0m\u001b[37m\u001b[0m \u001b[1m0s\u001b[0m 4ms/step\n"
     ]
    },
    {
     "data": {
      "text/html": [
       "\n",
       "    <style>\n",
       "        .wandb-row {\n",
       "            display: flex;\n",
       "            flex-direction: row;\n",
       "            flex-wrap: wrap;\n",
       "            justify-content: flex-start;\n",
       "            width: 100%;\n",
       "        }\n",
       "        .wandb-col {\n",
       "            display: flex;\n",
       "            flex-direction: column;\n",
       "            flex-basis: 100%;\n",
       "            flex: 1;\n",
       "            padding: 10px;\n",
       "        }\n",
       "    </style>\n",
       "<div class=\"wandb-row\"><div class=\"wandb-col\"><h3>Run history:</h3><br/><table class=\"wandb\"><tr><td>Max Absolute Error (Test)</td><td>▁</td></tr><tr><td>Mean Absolute Error (Test)</td><td>▁</td></tr><tr><td>R²</td><td>▁</td></tr><tr><td>Test Loss</td><td>▁</td></tr><tr><td>Test MAE</td><td>▁</td></tr><tr><td>epoch</td><td>▁▁▂▂▂▃▃▄▄▄▅▅▅▆▆▇▇▇██</td></tr><tr><td>epoch/epoch</td><td>▁▁▂▂▂▃▃▄▄▄▅▅▅▆▆▇▇▇██</td></tr><tr><td>epoch/learning_rate</td><td>▁▁▁▁▁▁▁▁▁▁▁▁▁▁▁▁▁▁▁▁</td></tr><tr><td>epoch/loss</td><td>█▇▇▇▄▂▂▂▁▂▁▂▁▁▁▁▁▁▁▁</td></tr><tr><td>epoch/mae</td><td>█▇▇▇▄▂▂▂▁▂▁▂▁▁▁▁▁▁▁▁</td></tr><tr><td>epoch/val_loss</td><td>▇██▇▂▂▂▂▃▂▁▁▁▂▂▁▁▁▂▁</td></tr><tr><td>epoch/val_mae</td><td>▇██▇▂▂▂▂▃▂▁▁▁▂▂▁▁▁▂▁</td></tr><tr><td>train_loss</td><td>█▇▇▇▄▂▂▂▁▂▁▂▁▁▁▁▁▁▁▁</td></tr><tr><td>train_mae</td><td>█▇▇▇▄▂▂▂▁▂▁▂▁▁▁▁▁▁▁▁</td></tr><tr><td>val_loss</td><td>▇██▇▂▂▂▂▃▂▁▁▁▂▂▁▁▁▂▁</td></tr><tr><td>val_mae</td><td>▇██▇▂▂▂▂▃▂▁▁▁▂▂▁▁▁▂▁</td></tr></table><br/></div><div class=\"wandb-col\"><h3>Run summary:</h3><br/><table class=\"wandb\"><tr><td>Max Absolute Error (Test)</td><td>1.01113</td></tr><tr><td>Mean Absolute Error (Test)</td><td>0.21991</td></tr><tr><td>R²</td><td>0.12427</td></tr><tr><td>Test Loss</td><td>0.21991</td></tr><tr><td>Test MAE</td><td>0.21991</td></tr><tr><td>epoch</td><td>19</td></tr><tr><td>epoch/epoch</td><td>19</td></tr><tr><td>epoch/learning_rate</td><td>0.005</td></tr><tr><td>epoch/loss</td><td>0.22991</td></tr><tr><td>epoch/mae</td><td>0.22991</td></tr><tr><td>epoch/val_loss</td><td>0.22113</td></tr><tr><td>epoch/val_mae</td><td>0.22113</td></tr><tr><td>train_loss</td><td>0.22991</td></tr><tr><td>train_mae</td><td>0.22991</td></tr><tr><td>val_loss</td><td>0.22113</td></tr><tr><td>val_mae</td><td>0.22113</td></tr></table><br/></div></div>"
      ],
      "text/plain": [
       "<IPython.core.display.HTML object>"
      ]
     },
     "metadata": {},
     "output_type": "display_data"
    },
    {
     "data": {
      "text/html": [
       " View run <strong style=\"color:#cdcd00\">fresh-sweep-29</strong> at: <a href='https://wandb.ai/walt_/dose-prediction/runs/sxhdd768' target=\"_blank\">https://wandb.ai/walt_/dose-prediction/runs/sxhdd768</a><br/> View project at: <a href='https://wandb.ai/walt_/dose-prediction' target=\"_blank\">https://wandb.ai/walt_/dose-prediction</a><br/>Synced 5 W&B file(s), 0 media file(s), 0 artifact file(s) and 0 other file(s)"
      ],
      "text/plain": [
       "<IPython.core.display.HTML object>"
      ]
     },
     "metadata": {},
     "output_type": "display_data"
    },
    {
     "data": {
      "text/html": [
       "Find logs at: <code>./wandb/run-20241124_152759-sxhdd768/logs</code>"
      ],
      "text/plain": [
       "<IPython.core.display.HTML object>"
      ]
     },
     "metadata": {},
     "output_type": "display_data"
    },
    {
     "name": "stderr",
     "output_type": "stream",
     "text": [
      "\u001b[34m\u001b[1mwandb\u001b[0m: Agent Starting Run: di5mtkyf with config:\n",
      "\u001b[34m\u001b[1mwandb\u001b[0m: \tactivation_function: tanh\n",
      "\u001b[34m\u001b[1mwandb\u001b[0m: \tbatch_size: 16\n",
      "\u001b[34m\u001b[1mwandb\u001b[0m: \tepochs: 20\n",
      "\u001b[34m\u001b[1mwandb\u001b[0m: \tinclude_edis: False\n",
      "\u001b[34m\u001b[1mwandb\u001b[0m: \tinclude_mgdis: False\n",
      "\u001b[34m\u001b[1mwandb\u001b[0m: \tinclude_mpc: False\n",
      "\u001b[34m\u001b[1mwandb\u001b[0m: \tinclude_sharpness: True\n",
      "\u001b[34m\u001b[1mwandb\u001b[0m: \tinclude_texture: False\n",
      "\u001b[34m\u001b[1mwandb\u001b[0m: \tlearning_rate: 0.005\n",
      "\u001b[34m\u001b[1mwandb\u001b[0m: \tloss_function: mean_absolute_error\n"
     ]
    },
    {
     "data": {
      "text/html": [
       "Tracking run with wandb version 0.18.7"
      ],
      "text/plain": [
       "<IPython.core.display.HTML object>"
      ]
     },
     "metadata": {},
     "output_type": "display_data"
    },
    {
     "data": {
      "text/html": [
       "Run data is saved locally in <code>/home/walt/FociNet/wandb/run-20241124_152834-di5mtkyf</code>"
      ],
      "text/plain": [
       "<IPython.core.display.HTML object>"
      ]
     },
     "metadata": {},
     "output_type": "display_data"
    },
    {
     "data": {
      "text/html": [
       "Syncing run <strong><a href='https://wandb.ai/walt_/dose-prediction/runs/di5mtkyf' target=\"_blank\">lively-sweep-30</a></strong> to <a href='https://wandb.ai/walt_/dose-prediction' target=\"_blank\">Weights & Biases</a> (<a href='https://wandb.me/developer-guide' target=\"_blank\">docs</a>)<br/>Sweep page: <a href='https://wandb.ai/walt_/dose-prediction/sweeps/ijck5aqp' target=\"_blank\">https://wandb.ai/walt_/dose-prediction/sweeps/ijck5aqp</a>"
      ],
      "text/plain": [
       "<IPython.core.display.HTML object>"
      ]
     },
     "metadata": {},
     "output_type": "display_data"
    },
    {
     "data": {
      "text/html": [
       " View project at <a href='https://wandb.ai/walt_/dose-prediction' target=\"_blank\">https://wandb.ai/walt_/dose-prediction</a>"
      ],
      "text/plain": [
       "<IPython.core.display.HTML object>"
      ]
     },
     "metadata": {},
     "output_type": "display_data"
    },
    {
     "data": {
      "text/html": [
       " View sweep at <a href='https://wandb.ai/walt_/dose-prediction/sweeps/ijck5aqp' target=\"_blank\">https://wandb.ai/walt_/dose-prediction/sweeps/ijck5aqp</a>"
      ],
      "text/plain": [
       "<IPython.core.display.HTML object>"
      ]
     },
     "metadata": {},
     "output_type": "display_data"
    },
    {
     "data": {
      "text/html": [
       " View run at <a href='https://wandb.ai/walt_/dose-prediction/runs/di5mtkyf' target=\"_blank\">https://wandb.ai/walt_/dose-prediction/runs/di5mtkyf</a>"
      ],
      "text/plain": [
       "<IPython.core.display.HTML object>"
      ]
     },
     "metadata": {},
     "output_type": "display_data"
    },
    {
     "name": "stdout",
     "output_type": "stream",
     "text": [
      "Active Feature Config: {'activation_function': 'tanh', 'batch_size': 16, 'epochs': 20, 'include_edis': False, 'include_mgdis': False, 'include_mpc': False, 'include_sharpness': True, 'include_texture': False, 'learning_rate': 0.005, 'loss_function': 'mean_absolute_error'}\n",
      "Subset X_train shape: (9766, 1)\n",
      "Subset X_val shape: (2790, 1)\n",
      "Subset X_test shape: (1396, 1)\n",
      "Calculated input_dim: 1\n",
      "Epoch 1/20\n",
      "611/611 - 3s - 5ms/step - loss: 0.3000 - mae: 0.3000 - val_loss: 0.2970 - val_mae: 0.2970\n",
      "Epoch 2/20\n",
      "611/611 - 1s - 2ms/step - loss: 0.2954 - mae: 0.2954 - val_loss: 0.2908 - val_mae: 0.2908\n",
      "Epoch 3/20\n",
      "611/611 - 1s - 2ms/step - loss: 0.2956 - mae: 0.2956 - val_loss: 0.2905 - val_mae: 0.2905\n",
      "Epoch 4/20\n",
      "611/611 - 1s - 2ms/step - loss: 0.2951 - mae: 0.2951 - val_loss: 0.2977 - val_mae: 0.2977\n",
      "Epoch 5/20\n",
      "611/611 - 1s - 2ms/step - loss: 0.2821 - mae: 0.2821 - val_loss: 0.2594 - val_mae: 0.2594\n",
      "Epoch 6/20\n",
      "611/611 - 1s - 2ms/step - loss: 0.2468 - mae: 0.2468 - val_loss: 0.2431 - val_mae: 0.2431\n",
      "Epoch 7/20\n",
      "611/611 - 1s - 2ms/step - loss: 0.2415 - mae: 0.2415 - val_loss: 0.2414 - val_mae: 0.2414\n",
      "Epoch 8/20\n",
      "611/611 - 1s - 2ms/step - loss: 0.2395 - mae: 0.2395 - val_loss: 0.2400 - val_mae: 0.2400\n",
      "Epoch 9/20\n",
      "611/611 - 1s - 2ms/step - loss: 0.2394 - mae: 0.2394 - val_loss: 0.2423 - val_mae: 0.2423\n",
      "Epoch 10/20\n",
      "611/611 - 1s - 2ms/step - loss: 0.2373 - mae: 0.2373 - val_loss: 0.2365 - val_mae: 0.2365\n",
      "Epoch 11/20\n",
      "611/611 - 1s - 2ms/step - loss: 0.2380 - mae: 0.2380 - val_loss: 0.2360 - val_mae: 0.2360\n",
      "Epoch 12/20\n",
      "611/611 - 1s - 2ms/step - loss: 0.2385 - mae: 0.2385 - val_loss: 0.2328 - val_mae: 0.2328\n",
      "Epoch 13/20\n",
      "611/611 - 1s - 2ms/step - loss: 0.2372 - mae: 0.2372 - val_loss: 0.2593 - val_mae: 0.2593\n",
      "Epoch 14/20\n",
      "611/611 - 1s - 2ms/step - loss: 0.2365 - mae: 0.2365 - val_loss: 0.2325 - val_mae: 0.2325\n",
      "Epoch 15/20\n",
      "611/611 - 1s - 2ms/step - loss: 0.2377 - mae: 0.2377 - val_loss: 0.2330 - val_mae: 0.2330\n",
      "Epoch 16/20\n",
      "611/611 - 1s - 2ms/step - loss: 0.2365 - mae: 0.2365 - val_loss: 0.2318 - val_mae: 0.2318\n",
      "Epoch 17/20\n",
      "611/611 - 1s - 2ms/step - loss: 0.2367 - mae: 0.2367 - val_loss: 0.2338 - val_mae: 0.2338\n",
      "Epoch 18/20\n",
      "611/611 - 1s - 2ms/step - loss: 0.2354 - mae: 0.2354 - val_loss: 0.2362 - val_mae: 0.2362\n",
      "Epoch 19/20\n",
      "611/611 - 1s - 2ms/step - loss: 0.2346 - mae: 0.2346 - val_loss: 0.2425 - val_mae: 0.2425\n",
      "Epoch 20/20\n",
      "611/611 - 1s - 2ms/step - loss: 0.2365 - mae: 0.2365 - val_loss: 0.2368 - val_mae: 0.2368\n",
      "\u001b[1m44/44\u001b[0m \u001b[32m━━━━━━━━━━━━━━━━━━━━\u001b[0m\u001b[37m\u001b[0m \u001b[1m0s\u001b[0m 4ms/step\n"
     ]
    },
    {
     "data": {
      "text/html": [
       "\n",
       "    <style>\n",
       "        .wandb-row {\n",
       "            display: flex;\n",
       "            flex-direction: row;\n",
       "            flex-wrap: wrap;\n",
       "            justify-content: flex-start;\n",
       "            width: 100%;\n",
       "        }\n",
       "        .wandb-col {\n",
       "            display: flex;\n",
       "            flex-direction: column;\n",
       "            flex-basis: 100%;\n",
       "            flex: 1;\n",
       "            padding: 10px;\n",
       "        }\n",
       "    </style>\n",
       "<div class=\"wandb-row\"><div class=\"wandb-col\"><h3>Run history:</h3><br/><table class=\"wandb\"><tr><td>Max Absolute Error (Test)</td><td>▁</td></tr><tr><td>Mean Absolute Error (Test)</td><td>▁</td></tr><tr><td>R²</td><td>▁</td></tr><tr><td>Test Loss</td><td>▁</td></tr><tr><td>Test MAE</td><td>▁</td></tr><tr><td>epoch</td><td>▁▁▂▂▂▃▃▄▄▄▅▅▅▆▆▇▇▇██</td></tr><tr><td>epoch/epoch</td><td>▁▁▂▂▂▃▃▄▄▄▅▅▅▆▆▇▇▇██</td></tr><tr><td>epoch/learning_rate</td><td>▁▁▁▁▁▁▁▁▁▁▁▁▁▁▁▁▁▁▁▁</td></tr><tr><td>epoch/loss</td><td>███▇▆▂▂▂▂▁▁▁▁▁▁▁▁▁▁▁</td></tr><tr><td>epoch/mae</td><td>███▇▆▂▂▂▂▁▁▁▁▁▁▁▁▁▁▁</td></tr><tr><td>epoch/val_loss</td><td>█▇▇█▄▂▂▂▂▁▁▁▄▁▁▁▁▁▂▂</td></tr><tr><td>epoch/val_mae</td><td>█▇▇█▄▂▂▂▂▁▁▁▄▁▁▁▁▁▂▂</td></tr><tr><td>train_loss</td><td>███▇▆▂▂▂▂▁▁▁▁▁▁▁▁▁▁▁</td></tr><tr><td>train_mae</td><td>███▇▆▂▂▂▂▁▁▁▁▁▁▁▁▁▁▁</td></tr><tr><td>val_loss</td><td>█▇▇█▄▂▂▂▂▁▁▁▄▁▁▁▁▁▂▂</td></tr><tr><td>val_mae</td><td>█▇▇█▄▂▂▂▂▁▁▁▄▁▁▁▁▁▂▂</td></tr></table><br/></div><div class=\"wandb-col\"><h3>Run summary:</h3><br/><table class=\"wandb\"><tr><td>Max Absolute Error (Test)</td><td>0.98808</td></tr><tr><td>Mean Absolute Error (Test)</td><td>0.23668</td></tr><tr><td>R²</td><td>0.09236</td></tr><tr><td>Test Loss</td><td>0.23668</td></tr><tr><td>Test MAE</td><td>0.23668</td></tr><tr><td>epoch</td><td>19</td></tr><tr><td>epoch/epoch</td><td>19</td></tr><tr><td>epoch/learning_rate</td><td>0.005</td></tr><tr><td>epoch/loss</td><td>0.2365</td></tr><tr><td>epoch/mae</td><td>0.2365</td></tr><tr><td>epoch/val_loss</td><td>0.2368</td></tr><tr><td>epoch/val_mae</td><td>0.2368</td></tr><tr><td>train_loss</td><td>0.2365</td></tr><tr><td>train_mae</td><td>0.2365</td></tr><tr><td>val_loss</td><td>0.2368</td></tr><tr><td>val_mae</td><td>0.2368</td></tr></table><br/></div></div>"
      ],
      "text/plain": [
       "<IPython.core.display.HTML object>"
      ]
     },
     "metadata": {},
     "output_type": "display_data"
    },
    {
     "data": {
      "text/html": [
       " View run <strong style=\"color:#cdcd00\">lively-sweep-30</strong> at: <a href='https://wandb.ai/walt_/dose-prediction/runs/di5mtkyf' target=\"_blank\">https://wandb.ai/walt_/dose-prediction/runs/di5mtkyf</a><br/> View project at: <a href='https://wandb.ai/walt_/dose-prediction' target=\"_blank\">https://wandb.ai/walt_/dose-prediction</a><br/>Synced 5 W&B file(s), 0 media file(s), 0 artifact file(s) and 0 other file(s)"
      ],
      "text/plain": [
       "<IPython.core.display.HTML object>"
      ]
     },
     "metadata": {},
     "output_type": "display_data"
    },
    {
     "data": {
      "text/html": [
       "Find logs at: <code>./wandb/run-20241124_152834-di5mtkyf/logs</code>"
      ],
      "text/plain": [
       "<IPython.core.display.HTML object>"
      ]
     },
     "metadata": {},
     "output_type": "display_data"
    },
    {
     "name": "stderr",
     "output_type": "stream",
     "text": [
      "\u001b[34m\u001b[1mwandb\u001b[0m: Agent Starting Run: 76xoamtp with config:\n",
      "\u001b[34m\u001b[1mwandb\u001b[0m: \tactivation_function: tanh\n",
      "\u001b[34m\u001b[1mwandb\u001b[0m: \tbatch_size: 16\n",
      "\u001b[34m\u001b[1mwandb\u001b[0m: \tepochs: 20\n",
      "\u001b[34m\u001b[1mwandb\u001b[0m: \tinclude_edis: False\n",
      "\u001b[34m\u001b[1mwandb\u001b[0m: \tinclude_mgdis: False\n",
      "\u001b[34m\u001b[1mwandb\u001b[0m: \tinclude_mpc: False\n",
      "\u001b[34m\u001b[1mwandb\u001b[0m: \tinclude_sharpness: False\n",
      "\u001b[34m\u001b[1mwandb\u001b[0m: \tinclude_texture: True\n",
      "\u001b[34m\u001b[1mwandb\u001b[0m: \tlearning_rate: 0.005\n",
      "\u001b[34m\u001b[1mwandb\u001b[0m: \tloss_function: mean_absolute_error\n"
     ]
    },
    {
     "data": {
      "text/html": [
       "Tracking run with wandb version 0.18.7"
      ],
      "text/plain": [
       "<IPython.core.display.HTML object>"
      ]
     },
     "metadata": {},
     "output_type": "display_data"
    },
    {
     "data": {
      "text/html": [
       "Run data is saved locally in <code>/home/walt/FociNet/wandb/run-20241124_152910-76xoamtp</code>"
      ],
      "text/plain": [
       "<IPython.core.display.HTML object>"
      ]
     },
     "metadata": {},
     "output_type": "display_data"
    },
    {
     "data": {
      "text/html": [
       "Syncing run <strong><a href='https://wandb.ai/walt_/dose-prediction/runs/76xoamtp' target=\"_blank\">fluent-sweep-31</a></strong> to <a href='https://wandb.ai/walt_/dose-prediction' target=\"_blank\">Weights & Biases</a> (<a href='https://wandb.me/developer-guide' target=\"_blank\">docs</a>)<br/>Sweep page: <a href='https://wandb.ai/walt_/dose-prediction/sweeps/ijck5aqp' target=\"_blank\">https://wandb.ai/walt_/dose-prediction/sweeps/ijck5aqp</a>"
      ],
      "text/plain": [
       "<IPython.core.display.HTML object>"
      ]
     },
     "metadata": {},
     "output_type": "display_data"
    },
    {
     "data": {
      "text/html": [
       " View project at <a href='https://wandb.ai/walt_/dose-prediction' target=\"_blank\">https://wandb.ai/walt_/dose-prediction</a>"
      ],
      "text/plain": [
       "<IPython.core.display.HTML object>"
      ]
     },
     "metadata": {},
     "output_type": "display_data"
    },
    {
     "data": {
      "text/html": [
       " View sweep at <a href='https://wandb.ai/walt_/dose-prediction/sweeps/ijck5aqp' target=\"_blank\">https://wandb.ai/walt_/dose-prediction/sweeps/ijck5aqp</a>"
      ],
      "text/plain": [
       "<IPython.core.display.HTML object>"
      ]
     },
     "metadata": {},
     "output_type": "display_data"
    },
    {
     "data": {
      "text/html": [
       " View run at <a href='https://wandb.ai/walt_/dose-prediction/runs/76xoamtp' target=\"_blank\">https://wandb.ai/walt_/dose-prediction/runs/76xoamtp</a>"
      ],
      "text/plain": [
       "<IPython.core.display.HTML object>"
      ]
     },
     "metadata": {},
     "output_type": "display_data"
    },
    {
     "name": "stdout",
     "output_type": "stream",
     "text": [
      "Active Feature Config: {'activation_function': 'tanh', 'batch_size': 16, 'epochs': 20, 'include_edis': False, 'include_mgdis': False, 'include_mpc': False, 'include_sharpness': False, 'include_texture': True, 'learning_rate': 0.005, 'loss_function': 'mean_absolute_error'}\n",
      "Subset X_train shape: (9766, 2)\n",
      "Subset X_val shape: (2790, 2)\n",
      "Subset X_test shape: (1396, 2)\n",
      "Calculated input_dim: 2\n",
      "Epoch 1/20\n",
      "611/611 - 3s - 4ms/step - loss: 0.3019 - mae: 0.3019 - val_loss: 0.2964 - val_mae: 0.2964\n",
      "Epoch 2/20\n",
      "611/611 - 1s - 2ms/step - loss: 0.2923 - mae: 0.2923 - val_loss: 0.2759 - val_mae: 0.2759\n",
      "Epoch 3/20\n",
      "611/611 - 1s - 2ms/step - loss: 0.2549 - mae: 0.2549 - val_loss: 0.2392 - val_mae: 0.2392\n",
      "Epoch 4/20\n",
      "611/611 - 1s - 2ms/step - loss: 0.2425 - mae: 0.2425 - val_loss: 0.2342 - val_mae: 0.2342\n",
      "Epoch 5/20\n",
      "611/611 - 1s - 2ms/step - loss: 0.2384 - mae: 0.2384 - val_loss: 0.2360 - val_mae: 0.2360\n",
      "Epoch 6/20\n",
      "611/611 - 1s - 2ms/step - loss: 0.2355 - mae: 0.2355 - val_loss: 0.2380 - val_mae: 0.2380\n",
      "Epoch 7/20\n",
      "611/611 - 1s - 2ms/step - loss: 0.2367 - mae: 0.2367 - val_loss: 0.2460 - val_mae: 0.2460\n",
      "Epoch 8/20\n",
      "611/611 - 1s - 2ms/step - loss: 0.2349 - mae: 0.2349 - val_loss: 0.2307 - val_mae: 0.2307\n",
      "Epoch 9/20\n",
      "611/611 - 1s - 2ms/step - loss: 0.2341 - mae: 0.2341 - val_loss: 0.2320 - val_mae: 0.2320\n",
      "Epoch 10/20\n",
      "611/611 - 1s - 2ms/step - loss: 0.2327 - mae: 0.2327 - val_loss: 0.2297 - val_mae: 0.2297\n",
      "Epoch 11/20\n",
      "611/611 - 1s - 2ms/step - loss: 0.2330 - mae: 0.2330 - val_loss: 0.2557 - val_mae: 0.2557\n",
      "Epoch 12/20\n",
      "611/611 - 1s - 2ms/step - loss: 0.2336 - mae: 0.2336 - val_loss: 0.2382 - val_mae: 0.2382\n",
      "Epoch 13/20\n",
      "611/611 - 1s - 2ms/step - loss: 0.2297 - mae: 0.2297 - val_loss: 0.2320 - val_mae: 0.2320\n",
      "Epoch 14/20\n",
      "611/611 - 1s - 2ms/step - loss: 0.2314 - mae: 0.2314 - val_loss: 0.2269 - val_mae: 0.2269\n",
      "Epoch 15/20\n",
      "611/611 - 1s - 2ms/step - loss: 0.2353 - mae: 0.2353 - val_loss: 0.2294 - val_mae: 0.2294\n",
      "Epoch 16/20\n",
      "611/611 - 1s - 2ms/step - loss: 0.2318 - mae: 0.2318 - val_loss: 0.2287 - val_mae: 0.2287\n",
      "Epoch 17/20\n",
      "611/611 - 1s - 2ms/step - loss: 0.2318 - mae: 0.2318 - val_loss: 0.2317 - val_mae: 0.2317\n",
      "Epoch 18/20\n",
      "611/611 - 1s - 2ms/step - loss: 0.2280 - mae: 0.2280 - val_loss: 0.2335 - val_mae: 0.2335\n",
      "Epoch 19/20\n",
      "611/611 - 1s - 2ms/step - loss: 0.2330 - mae: 0.2330 - val_loss: 0.2274 - val_mae: 0.2274\n",
      "Epoch 20/20\n",
      "611/611 - 1s - 2ms/step - loss: 0.2307 - mae: 0.2307 - val_loss: 0.2257 - val_mae: 0.2257\n",
      "\u001b[1m44/44\u001b[0m \u001b[32m━━━━━━━━━━━━━━━━━━━━\u001b[0m\u001b[37m\u001b[0m \u001b[1m0s\u001b[0m 4ms/step\n"
     ]
    },
    {
     "data": {
      "text/html": [
       "\n",
       "    <style>\n",
       "        .wandb-row {\n",
       "            display: flex;\n",
       "            flex-direction: row;\n",
       "            flex-wrap: wrap;\n",
       "            justify-content: flex-start;\n",
       "            width: 100%;\n",
       "        }\n",
       "        .wandb-col {\n",
       "            display: flex;\n",
       "            flex-direction: column;\n",
       "            flex-basis: 100%;\n",
       "            flex: 1;\n",
       "            padding: 10px;\n",
       "        }\n",
       "    </style>\n",
       "<div class=\"wandb-row\"><div class=\"wandb-col\"><h3>Run history:</h3><br/><table class=\"wandb\"><tr><td>Max Absolute Error (Test)</td><td>▁</td></tr><tr><td>Mean Absolute Error (Test)</td><td>▁</td></tr><tr><td>R²</td><td>▁</td></tr><tr><td>Test Loss</td><td>▁</td></tr><tr><td>Test MAE</td><td>▁</td></tr><tr><td>epoch</td><td>▁▁▂▂▂▃▃▄▄▄▅▅▅▆▆▇▇▇██</td></tr><tr><td>epoch/epoch</td><td>▁▁▂▂▂▃▃▄▄▄▅▅▅▆▆▇▇▇██</td></tr><tr><td>epoch/learning_rate</td><td>▁▁▁▁▁▁▁▁▁▁▁▁▁▁▁▁▁▁▁▁</td></tr><tr><td>epoch/loss</td><td>█▇▄▂▂▂▂▂▂▁▁▂▁▁▂▁▁▁▁▁</td></tr><tr><td>epoch/mae</td><td>█▇▄▂▂▂▂▂▂▁▁▂▁▁▂▁▁▁▁▁</td></tr><tr><td>epoch/val_loss</td><td>█▆▂▂▂▂▃▁▂▁▄▂▂▁▁▁▂▂▁▁</td></tr><tr><td>epoch/val_mae</td><td>█▆▂▂▂▂▃▁▂▁▄▂▂▁▁▁▂▂▁▁</td></tr><tr><td>train_loss</td><td>█▇▄▂▂▂▂▂▂▁▁▂▁▁▂▁▁▁▁▁</td></tr><tr><td>train_mae</td><td>█▇▄▂▂▂▂▂▂▁▁▂▁▁▂▁▁▁▁▁</td></tr><tr><td>val_loss</td><td>█▆▂▂▂▂▃▁▂▁▄▂▂▁▁▁▂▂▁▁</td></tr><tr><td>val_mae</td><td>█▆▂▂▂▂▃▁▂▁▄▂▂▁▁▁▂▂▁▁</td></tr></table><br/></div><div class=\"wandb-col\"><h3>Run summary:</h3><br/><table class=\"wandb\"><tr><td>Max Absolute Error (Test)</td><td>1.00105</td></tr><tr><td>Mean Absolute Error (Test)</td><td>0.22383</td></tr><tr><td>R²</td><td>0.11596</td></tr><tr><td>Test Loss</td><td>0.22383</td></tr><tr><td>Test MAE</td><td>0.22383</td></tr><tr><td>epoch</td><td>19</td></tr><tr><td>epoch/epoch</td><td>19</td></tr><tr><td>epoch/learning_rate</td><td>0.005</td></tr><tr><td>epoch/loss</td><td>0.2307</td></tr><tr><td>epoch/mae</td><td>0.2307</td></tr><tr><td>epoch/val_loss</td><td>0.22573</td></tr><tr><td>epoch/val_mae</td><td>0.22573</td></tr><tr><td>train_loss</td><td>0.2307</td></tr><tr><td>train_mae</td><td>0.2307</td></tr><tr><td>val_loss</td><td>0.22573</td></tr><tr><td>val_mae</td><td>0.22573</td></tr></table><br/></div></div>"
      ],
      "text/plain": [
       "<IPython.core.display.HTML object>"
      ]
     },
     "metadata": {},
     "output_type": "display_data"
    },
    {
     "data": {
      "text/html": [
       " View run <strong style=\"color:#cdcd00\">fluent-sweep-31</strong> at: <a href='https://wandb.ai/walt_/dose-prediction/runs/76xoamtp' target=\"_blank\">https://wandb.ai/walt_/dose-prediction/runs/76xoamtp</a><br/> View project at: <a href='https://wandb.ai/walt_/dose-prediction' target=\"_blank\">https://wandb.ai/walt_/dose-prediction</a><br/>Synced 5 W&B file(s), 0 media file(s), 0 artifact file(s) and 0 other file(s)"
      ],
      "text/plain": [
       "<IPython.core.display.HTML object>"
      ]
     },
     "metadata": {},
     "output_type": "display_data"
    },
    {
     "data": {
      "text/html": [
       "Find logs at: <code>./wandb/run-20241124_152910-76xoamtp/logs</code>"
      ],
      "text/plain": [
       "<IPython.core.display.HTML object>"
      ]
     },
     "metadata": {},
     "output_type": "display_data"
    },
    {
     "name": "stderr",
     "output_type": "stream",
     "text": [
      "\u001b[34m\u001b[1mwandb\u001b[0m: Agent Starting Run: ia6aeyge with config:\n",
      "\u001b[34m\u001b[1mwandb\u001b[0m: \tactivation_function: tanh\n",
      "\u001b[34m\u001b[1mwandb\u001b[0m: \tbatch_size: 16\n",
      "\u001b[34m\u001b[1mwandb\u001b[0m: \tepochs: 20\n",
      "\u001b[34m\u001b[1mwandb\u001b[0m: \tinclude_edis: False\n",
      "\u001b[34m\u001b[1mwandb\u001b[0m: \tinclude_mgdis: False\n",
      "\u001b[34m\u001b[1mwandb\u001b[0m: \tinclude_mpc: False\n",
      "\u001b[34m\u001b[1mwandb\u001b[0m: \tinclude_sharpness: False\n",
      "\u001b[34m\u001b[1mwandb\u001b[0m: \tinclude_texture: False\n",
      "\u001b[34m\u001b[1mwandb\u001b[0m: \tlearning_rate: 0.005\n",
      "\u001b[34m\u001b[1mwandb\u001b[0m: \tloss_function: mean_absolute_error\n"
     ]
    },
    {
     "data": {
      "text/html": [
       "Tracking run with wandb version 0.18.7"
      ],
      "text/plain": [
       "<IPython.core.display.HTML object>"
      ]
     },
     "metadata": {},
     "output_type": "display_data"
    },
    {
     "data": {
      "text/html": [
       "Run data is saved locally in <code>/home/walt/FociNet/wandb/run-20241124_152946-ia6aeyge</code>"
      ],
      "text/plain": [
       "<IPython.core.display.HTML object>"
      ]
     },
     "metadata": {},
     "output_type": "display_data"
    },
    {
     "data": {
      "text/html": [
       "Syncing run <strong><a href='https://wandb.ai/walt_/dose-prediction/runs/ia6aeyge' target=\"_blank\">fluent-sweep-32</a></strong> to <a href='https://wandb.ai/walt_/dose-prediction' target=\"_blank\">Weights & Biases</a> (<a href='https://wandb.me/developer-guide' target=\"_blank\">docs</a>)<br/>Sweep page: <a href='https://wandb.ai/walt_/dose-prediction/sweeps/ijck5aqp' target=\"_blank\">https://wandb.ai/walt_/dose-prediction/sweeps/ijck5aqp</a>"
      ],
      "text/plain": [
       "<IPython.core.display.HTML object>"
      ]
     },
     "metadata": {},
     "output_type": "display_data"
    },
    {
     "data": {
      "text/html": [
       " View project at <a href='https://wandb.ai/walt_/dose-prediction' target=\"_blank\">https://wandb.ai/walt_/dose-prediction</a>"
      ],
      "text/plain": [
       "<IPython.core.display.HTML object>"
      ]
     },
     "metadata": {},
     "output_type": "display_data"
    },
    {
     "data": {
      "text/html": [
       " View sweep at <a href='https://wandb.ai/walt_/dose-prediction/sweeps/ijck5aqp' target=\"_blank\">https://wandb.ai/walt_/dose-prediction/sweeps/ijck5aqp</a>"
      ],
      "text/plain": [
       "<IPython.core.display.HTML object>"
      ]
     },
     "metadata": {},
     "output_type": "display_data"
    },
    {
     "data": {
      "text/html": [
       " View run at <a href='https://wandb.ai/walt_/dose-prediction/runs/ia6aeyge' target=\"_blank\">https://wandb.ai/walt_/dose-prediction/runs/ia6aeyge</a>"
      ],
      "text/plain": [
       "<IPython.core.display.HTML object>"
      ]
     },
     "metadata": {},
     "output_type": "display_data"
    },
    {
     "name": "stdout",
     "output_type": "stream",
     "text": [
      "Active Feature Config: {'activation_function': 'tanh', 'batch_size': 16, 'epochs': 20, 'include_edis': False, 'include_mgdis': False, 'include_mpc': False, 'include_sharpness': False, 'include_texture': False, 'learning_rate': 0.005, 'loss_function': 'mean_absolute_error'}\n",
      "Subset X_train shape: (9766, 0)\n",
      "Subset X_val shape: (2790, 0)\n",
      "Subset X_test shape: (1396, 0)\n",
      "Calculated input_dim: 0\n",
      "Epoch 1/20\n",
      "611/611 - 3s - 4ms/step - loss: 0.3211 - mae: 0.3211 - val_loss: 0.3247 - val_mae: 0.3247\n",
      "Epoch 2/20\n",
      "611/611 - 1s - 2ms/step - loss: 0.3203 - mae: 0.3203 - val_loss: 0.3237 - val_mae: 0.3237\n",
      "Epoch 3/20\n",
      "611/611 - 1s - 2ms/step - loss: 0.3195 - mae: 0.3195 - val_loss: 0.3238 - val_mae: 0.3238\n",
      "Epoch 4/20\n",
      "611/611 - 1s - 2ms/step - loss: 0.3192 - mae: 0.3192 - val_loss: 0.3237 - val_mae: 0.3237\n",
      "Epoch 5/20\n",
      "611/611 - 1s - 2ms/step - loss: 0.3193 - mae: 0.3193 - val_loss: 0.3239 - val_mae: 0.3239\n",
      "Epoch 6/20\n",
      "611/611 - 1s - 2ms/step - loss: 0.3192 - mae: 0.3192 - val_loss: 0.3247 - val_mae: 0.3247\n",
      "Epoch 7/20\n",
      "611/611 - 1s - 2ms/step - loss: 0.3193 - mae: 0.3193 - val_loss: 0.3236 - val_mae: 0.3236\n",
      "Epoch 8/20\n",
      "611/611 - 1s - 2ms/step - loss: 0.3194 - mae: 0.3194 - val_loss: 0.3238 - val_mae: 0.3238\n",
      "Epoch 9/20\n",
      "611/611 - 1s - 2ms/step - loss: 0.3193 - mae: 0.3193 - val_loss: 0.3238 - val_mae: 0.3238\n",
      "Epoch 10/20\n",
      "611/611 - 1s - 2ms/step - loss: 0.3193 - mae: 0.3193 - val_loss: 0.3232 - val_mae: 0.3232\n",
      "Epoch 11/20\n",
      "611/611 - 1s - 2ms/step - loss: 0.3192 - mae: 0.3192 - val_loss: 0.3247 - val_mae: 0.3247\n",
      "Epoch 12/20\n",
      "611/611 - 1s - 2ms/step - loss: 0.3192 - mae: 0.3192 - val_loss: 0.3249 - val_mae: 0.3249\n",
      "Epoch 13/20\n",
      "611/611 - 1s - 2ms/step - loss: 0.3192 - mae: 0.3192 - val_loss: 0.3240 - val_mae: 0.3240\n",
      "Epoch 14/20\n",
      "611/611 - 1s - 2ms/step - loss: 0.3193 - mae: 0.3193 - val_loss: 0.3248 - val_mae: 0.3248\n",
      "Epoch 15/20\n",
      "611/611 - 1s - 2ms/step - loss: 0.3193 - mae: 0.3193 - val_loss: 0.3240 - val_mae: 0.3240\n",
      "Epoch 16/20\n",
      "611/611 - 1s - 2ms/step - loss: 0.3191 - mae: 0.3191 - val_loss: 0.3233 - val_mae: 0.3233\n",
      "Epoch 17/20\n",
      "611/611 - 1s - 2ms/step - loss: 0.3194 - mae: 0.3194 - val_loss: 0.3328 - val_mae: 0.3328\n",
      "Epoch 18/20\n",
      "611/611 - 1s - 2ms/step - loss: 0.3204 - mae: 0.3204 - val_loss: 0.3235 - val_mae: 0.3235\n",
      "Epoch 19/20\n",
      "611/611 - 1s - 2ms/step - loss: 0.3192 - mae: 0.3192 - val_loss: 0.3242 - val_mae: 0.3242\n",
      "Epoch 20/20\n",
      "611/611 - 1s - 2ms/step - loss: 0.3192 - mae: 0.3192 - val_loss: 0.3233 - val_mae: 0.3233\n",
      "\u001b[1m44/44\u001b[0m \u001b[32m━━━━━━━━━━━━━━━━━━━━\u001b[0m\u001b[37m\u001b[0m \u001b[1m0s\u001b[0m 3ms/step\n"
     ]
    },
    {
     "data": {
      "text/html": [
       "\n",
       "    <style>\n",
       "        .wandb-row {\n",
       "            display: flex;\n",
       "            flex-direction: row;\n",
       "            flex-wrap: wrap;\n",
       "            justify-content: flex-start;\n",
       "            width: 100%;\n",
       "        }\n",
       "        .wandb-col {\n",
       "            display: flex;\n",
       "            flex-direction: column;\n",
       "            flex-basis: 100%;\n",
       "            flex: 1;\n",
       "            padding: 10px;\n",
       "        }\n",
       "    </style>\n",
       "<div class=\"wandb-row\"><div class=\"wandb-col\"><h3>Run history:</h3><br/><table class=\"wandb\"><tr><td>Max Absolute Error (Test)</td><td>▁</td></tr><tr><td>Mean Absolute Error (Test)</td><td>▁</td></tr><tr><td>R²</td><td>▁</td></tr><tr><td>Test Loss</td><td>▁</td></tr><tr><td>Test MAE</td><td>▁</td></tr><tr><td>epoch</td><td>▁▁▂▂▂▃▃▄▄▄▅▅▅▆▆▇▇▇██</td></tr><tr><td>epoch/epoch</td><td>▁▁▂▂▂▃▃▄▄▄▅▅▅▆▆▇▇▇██</td></tr><tr><td>epoch/learning_rate</td><td>▁▁▁▁▁▁▁▁▁▁▁▁▁▁▁▁▁▁▁▁</td></tr><tr><td>epoch/loss</td><td>█▅▂▁▂▁▂▂▂▂▁▁▁▂▂▁▂▅▁▁</td></tr><tr><td>epoch/mae</td><td>█▅▂▁▂▁▂▂▂▂▁▁▁▂▂▁▂▅▁▁</td></tr><tr><td>epoch/val_loss</td><td>▂▁▁▁▁▂▁▁▁▁▂▂▂▂▂▁█▁▂▁</td></tr><tr><td>epoch/val_mae</td><td>▂▁▁▁▁▂▁▁▁▁▂▂▂▂▂▁█▁▂▁</td></tr><tr><td>train_loss</td><td>█▅▂▁▂▁▂▂▂▂▁▁▁▂▂▁▂▅▁▁</td></tr><tr><td>train_mae</td><td>█▅▂▁▂▁▂▂▂▂▁▁▁▂▂▁▂▅▁▁</td></tr><tr><td>val_loss</td><td>▂▁▁▁▁▂▁▁▁▁▂▂▂▂▂▁█▁▂▁</td></tr><tr><td>val_mae</td><td>▂▁▁▁▁▂▁▁▁▁▂▂▂▂▂▁█▁▂▁</td></tr></table><br/></div><div class=\"wandb-col\"><h3>Run summary:</h3><br/><table class=\"wandb\"><tr><td>Max Absolute Error (Test)</td><td>0.89974</td></tr><tr><td>Mean Absolute Error (Test)</td><td>0.32545</td></tr><tr><td>R²</td><td>-0.32116</td></tr><tr><td>Test Loss</td><td>0.32545</td></tr><tr><td>Test MAE</td><td>0.32545</td></tr><tr><td>epoch</td><td>19</td></tr><tr><td>epoch/epoch</td><td>19</td></tr><tr><td>epoch/learning_rate</td><td>0.005</td></tr><tr><td>epoch/loss</td><td>0.31919</td></tr><tr><td>epoch/mae</td><td>0.31919</td></tr><tr><td>epoch/val_loss</td><td>0.32332</td></tr><tr><td>epoch/val_mae</td><td>0.32332</td></tr><tr><td>train_loss</td><td>0.31919</td></tr><tr><td>train_mae</td><td>0.31919</td></tr><tr><td>val_loss</td><td>0.32332</td></tr><tr><td>val_mae</td><td>0.32332</td></tr></table><br/></div></div>"
      ],
      "text/plain": [
       "<IPython.core.display.HTML object>"
      ]
     },
     "metadata": {},
     "output_type": "display_data"
    },
    {
     "data": {
      "text/html": [
       " View run <strong style=\"color:#cdcd00\">fluent-sweep-32</strong> at: <a href='https://wandb.ai/walt_/dose-prediction/runs/ia6aeyge' target=\"_blank\">https://wandb.ai/walt_/dose-prediction/runs/ia6aeyge</a><br/> View project at: <a href='https://wandb.ai/walt_/dose-prediction' target=\"_blank\">https://wandb.ai/walt_/dose-prediction</a><br/>Synced 5 W&B file(s), 0 media file(s), 0 artifact file(s) and 0 other file(s)"
      ],
      "text/plain": [
       "<IPython.core.display.HTML object>"
      ]
     },
     "metadata": {},
     "output_type": "display_data"
    },
    {
     "data": {
      "text/html": [
       "Find logs at: <code>./wandb/run-20241124_152946-ia6aeyge/logs</code>"
      ],
      "text/plain": [
       "<IPython.core.display.HTML object>"
      ]
     },
     "metadata": {},
     "output_type": "display_data"
    },
    {
     "name": "stderr",
     "output_type": "stream",
     "text": [
      "\u001b[34m\u001b[1mwandb\u001b[0m: Agent Starting Run: 6x00vk67 with config:\n",
      "\u001b[34m\u001b[1mwandb\u001b[0m: \tactivation_function: tanh\n",
      "\u001b[34m\u001b[1mwandb\u001b[0m: \tbatch_size: 32\n",
      "\u001b[34m\u001b[1mwandb\u001b[0m: \tepochs: 15\n",
      "\u001b[34m\u001b[1mwandb\u001b[0m: \tinclude_edis: False\n",
      "\u001b[34m\u001b[1mwandb\u001b[0m: \tinclude_mgdis: True\n",
      "\u001b[34m\u001b[1mwandb\u001b[0m: \tinclude_mpc: True\n",
      "\u001b[34m\u001b[1mwandb\u001b[0m: \tinclude_sharpness: True\n",
      "\u001b[34m\u001b[1mwandb\u001b[0m: \tinclude_texture: True\n",
      "\u001b[34m\u001b[1mwandb\u001b[0m: \tlearning_rate: 0.005\n",
      "\u001b[34m\u001b[1mwandb\u001b[0m: \tloss_function: mean_absolute_error\n"
     ]
    },
    {
     "data": {
      "text/html": [
       "Tracking run with wandb version 0.18.7"
      ],
      "text/plain": [
       "<IPython.core.display.HTML object>"
      ]
     },
     "metadata": {},
     "output_type": "display_data"
    },
    {
     "data": {
      "text/html": [
       "Run data is saved locally in <code>/home/walt/FociNet/wandb/run-20241124_153021-6x00vk67</code>"
      ],
      "text/plain": [
       "<IPython.core.display.HTML object>"
      ]
     },
     "metadata": {},
     "output_type": "display_data"
    },
    {
     "data": {
      "text/html": [
       "Syncing run <strong><a href='https://wandb.ai/walt_/dose-prediction/runs/6x00vk67' target=\"_blank\">fancy-sweep-33</a></strong> to <a href='https://wandb.ai/walt_/dose-prediction' target=\"_blank\">Weights & Biases</a> (<a href='https://wandb.me/developer-guide' target=\"_blank\">docs</a>)<br/>Sweep page: <a href='https://wandb.ai/walt_/dose-prediction/sweeps/ijck5aqp' target=\"_blank\">https://wandb.ai/walt_/dose-prediction/sweeps/ijck5aqp</a>"
      ],
      "text/plain": [
       "<IPython.core.display.HTML object>"
      ]
     },
     "metadata": {},
     "output_type": "display_data"
    },
    {
     "data": {
      "text/html": [
       " View project at <a href='https://wandb.ai/walt_/dose-prediction' target=\"_blank\">https://wandb.ai/walt_/dose-prediction</a>"
      ],
      "text/plain": [
       "<IPython.core.display.HTML object>"
      ]
     },
     "metadata": {},
     "output_type": "display_data"
    },
    {
     "data": {
      "text/html": [
       " View sweep at <a href='https://wandb.ai/walt_/dose-prediction/sweeps/ijck5aqp' target=\"_blank\">https://wandb.ai/walt_/dose-prediction/sweeps/ijck5aqp</a>"
      ],
      "text/plain": [
       "<IPython.core.display.HTML object>"
      ]
     },
     "metadata": {},
     "output_type": "display_data"
    },
    {
     "data": {
      "text/html": [
       " View run at <a href='https://wandb.ai/walt_/dose-prediction/runs/6x00vk67' target=\"_blank\">https://wandb.ai/walt_/dose-prediction/runs/6x00vk67</a>"
      ],
      "text/plain": [
       "<IPython.core.display.HTML object>"
      ]
     },
     "metadata": {},
     "output_type": "display_data"
    },
    {
     "name": "stdout",
     "output_type": "stream",
     "text": [
      "Active Feature Config: {'activation_function': 'tanh', 'batch_size': 32, 'epochs': 15, 'include_edis': False, 'include_mgdis': True, 'include_mpc': True, 'include_sharpness': True, 'include_texture': True, 'learning_rate': 0.005, 'loss_function': 'mean_absolute_error'}\n",
      "Subset X_train shape: (9766, 6)\n",
      "Subset X_val shape: (2790, 6)\n",
      "Subset X_test shape: (1396, 6)\n",
      "Calculated input_dim: 6\n",
      "Epoch 1/15\n",
      "306/306 - 3s - 11ms/step - loss: 0.2913 - mae: 0.2913 - val_loss: 0.2957 - val_mae: 0.2957\n",
      "Epoch 2/15\n",
      "306/306 - 1s - 4ms/step - loss: 0.2646 - mae: 0.2646 - val_loss: 0.2563 - val_mae: 0.2563\n",
      "Epoch 3/15\n",
      "306/306 - 1s - 3ms/step - loss: 0.2217 - mae: 0.2217 - val_loss: 0.2191 - val_mae: 0.2191\n",
      "Epoch 4/15\n",
      "306/306 - 1s - 3ms/step - loss: 0.2057 - mae: 0.2057 - val_loss: 0.2330 - val_mae: 0.2330\n",
      "Epoch 5/15\n",
      "306/306 - 1s - 3ms/step - loss: 0.2020 - mae: 0.2020 - val_loss: 0.1998 - val_mae: 0.1998\n",
      "Epoch 6/15\n",
      "306/306 - 1s - 2ms/step - loss: 0.1940 - mae: 0.1940 - val_loss: 0.2063 - val_mae: 0.2063\n",
      "Epoch 7/15\n",
      "306/306 - 1s - 3ms/step - loss: 0.1906 - mae: 0.1906 - val_loss: 0.2032 - val_mae: 0.2032\n",
      "Epoch 8/15\n",
      "306/306 - 1s - 2ms/step - loss: 0.1896 - mae: 0.1896 - val_loss: 0.1900 - val_mae: 0.1900\n",
      "Epoch 9/15\n",
      "306/306 - 1s - 3ms/step - loss: 0.1852 - mae: 0.1852 - val_loss: 0.1893 - val_mae: 0.1893\n",
      "Epoch 10/15\n",
      "306/306 - 1s - 2ms/step - loss: 0.1825 - mae: 0.1825 - val_loss: 0.1921 - val_mae: 0.1921\n",
      "Epoch 11/15\n",
      "306/306 - 1s - 2ms/step - loss: 0.1843 - mae: 0.1843 - val_loss: 0.1836 - val_mae: 0.1836\n",
      "Epoch 12/15\n",
      "306/306 - 1s - 3ms/step - loss: 0.1841 - mae: 0.1841 - val_loss: 0.1835 - val_mae: 0.1835\n",
      "Epoch 13/15\n",
      "306/306 - 1s - 3ms/step - loss: 0.1833 - mae: 0.1833 - val_loss: 0.1832 - val_mae: 0.1832\n",
      "Epoch 14/15\n",
      "306/306 - 1s - 2ms/step - loss: 0.1788 - mae: 0.1788 - val_loss: 0.1809 - val_mae: 0.1809\n",
      "Epoch 15/15\n",
      "306/306 - 1s - 2ms/step - loss: 0.1833 - mae: 0.1833 - val_loss: 0.1970 - val_mae: 0.1970\n",
      "\u001b[1m44/44\u001b[0m \u001b[32m━━━━━━━━━━━━━━━━━━━━\u001b[0m\u001b[37m\u001b[0m \u001b[1m0s\u001b[0m 4ms/step\n"
     ]
    },
    {
     "data": {
      "text/html": [
       "\n",
       "    <style>\n",
       "        .wandb-row {\n",
       "            display: flex;\n",
       "            flex-direction: row;\n",
       "            flex-wrap: wrap;\n",
       "            justify-content: flex-start;\n",
       "            width: 100%;\n",
       "        }\n",
       "        .wandb-col {\n",
       "            display: flex;\n",
       "            flex-direction: column;\n",
       "            flex-basis: 100%;\n",
       "            flex: 1;\n",
       "            padding: 10px;\n",
       "        }\n",
       "    </style>\n",
       "<div class=\"wandb-row\"><div class=\"wandb-col\"><h3>Run history:</h3><br/><table class=\"wandb\"><tr><td>Max Absolute Error (Test)</td><td>▁</td></tr><tr><td>Mean Absolute Error (Test)</td><td>▁</td></tr><tr><td>R²</td><td>▁</td></tr><tr><td>Test Loss</td><td>▁</td></tr><tr><td>Test MAE</td><td>▁</td></tr><tr><td>epoch</td><td>▁▁▂▃▃▃▄▅▅▅▆▇▇▇█</td></tr><tr><td>epoch/epoch</td><td>▁▁▂▃▃▃▄▅▅▅▆▇▇▇█</td></tr><tr><td>epoch/learning_rate</td><td>▁▁▁▁▁▁▁▁▁▁▁▁▁▁▁</td></tr><tr><td>epoch/loss</td><td>█▆▄▃▂▂▂▂▁▁▁▁▁▁▁</td></tr><tr><td>epoch/mae</td><td>█▆▄▃▂▂▂▂▁▁▁▁▁▁▁</td></tr><tr><td>epoch/val_loss</td><td>█▆▃▄▂▃▂▂▂▂▁▁▁▁▂</td></tr><tr><td>epoch/val_mae</td><td>█▆▃▄▂▃▂▂▂▂▁▁▁▁▂</td></tr><tr><td>train_loss</td><td>█▆▄▃▂▂▂▂▁▁▁▁▁▁▁</td></tr><tr><td>train_mae</td><td>█▆▄▃▂▂▂▂▁▁▁▁▁▁▁</td></tr><tr><td>val_loss</td><td>█▆▃▄▂▃▂▂▂▂▁▁▁▁▂</td></tr><tr><td>val_mae</td><td>█▆▃▄▂▃▂▂▂▂▁▁▁▁▂</td></tr></table><br/></div><div class=\"wandb-col\"><h3>Run summary:</h3><br/><table class=\"wandb\"><tr><td>Max Absolute Error (Test)</td><td>1.02991</td></tr><tr><td>Mean Absolute Error (Test)</td><td>0.19514</td></tr><tr><td>R²</td><td>0.29695</td></tr><tr><td>Test Loss</td><td>0.19514</td></tr><tr><td>Test MAE</td><td>0.19514</td></tr><tr><td>epoch</td><td>14</td></tr><tr><td>epoch/epoch</td><td>14</td></tr><tr><td>epoch/learning_rate</td><td>0.005</td></tr><tr><td>epoch/loss</td><td>0.18326</td></tr><tr><td>epoch/mae</td><td>0.18326</td></tr><tr><td>epoch/val_loss</td><td>0.19704</td></tr><tr><td>epoch/val_mae</td><td>0.19704</td></tr><tr><td>train_loss</td><td>0.18326</td></tr><tr><td>train_mae</td><td>0.18326</td></tr><tr><td>val_loss</td><td>0.19704</td></tr><tr><td>val_mae</td><td>0.19704</td></tr></table><br/></div></div>"
      ],
      "text/plain": [
       "<IPython.core.display.HTML object>"
      ]
     },
     "metadata": {},
     "output_type": "display_data"
    },
    {
     "data": {
      "text/html": [
       " View run <strong style=\"color:#cdcd00\">fancy-sweep-33</strong> at: <a href='https://wandb.ai/walt_/dose-prediction/runs/6x00vk67' target=\"_blank\">https://wandb.ai/walt_/dose-prediction/runs/6x00vk67</a><br/> View project at: <a href='https://wandb.ai/walt_/dose-prediction' target=\"_blank\">https://wandb.ai/walt_/dose-prediction</a><br/>Synced 5 W&B file(s), 0 media file(s), 0 artifact file(s) and 0 other file(s)"
      ],
      "text/plain": [
       "<IPython.core.display.HTML object>"
      ]
     },
     "metadata": {},
     "output_type": "display_data"
    },
    {
     "data": {
      "text/html": [
       "Find logs at: <code>./wandb/run-20241124_153021-6x00vk67/logs</code>"
      ],
      "text/plain": [
       "<IPython.core.display.HTML object>"
      ]
     },
     "metadata": {},
     "output_type": "display_data"
    },
    {
     "name": "stderr",
     "output_type": "stream",
     "text": [
      "\u001b[34m\u001b[1mwandb\u001b[0m: Agent Starting Run: dz8uwe6n with config:\n",
      "\u001b[34m\u001b[1mwandb\u001b[0m: \tactivation_function: tanh\n",
      "\u001b[34m\u001b[1mwandb\u001b[0m: \tbatch_size: 32\n",
      "\u001b[34m\u001b[1mwandb\u001b[0m: \tepochs: 15\n",
      "\u001b[34m\u001b[1mwandb\u001b[0m: \tinclude_edis: False\n",
      "\u001b[34m\u001b[1mwandb\u001b[0m: \tinclude_mgdis: True\n",
      "\u001b[34m\u001b[1mwandb\u001b[0m: \tinclude_mpc: True\n",
      "\u001b[34m\u001b[1mwandb\u001b[0m: \tinclude_sharpness: True\n",
      "\u001b[34m\u001b[1mwandb\u001b[0m: \tinclude_texture: False\n",
      "\u001b[34m\u001b[1mwandb\u001b[0m: \tlearning_rate: 0.005\n",
      "\u001b[34m\u001b[1mwandb\u001b[0m: \tloss_function: mean_absolute_error\n"
     ]
    },
    {
     "data": {
      "text/html": [
       "Tracking run with wandb version 0.18.7"
      ],
      "text/plain": [
       "<IPython.core.display.HTML object>"
      ]
     },
     "metadata": {},
     "output_type": "display_data"
    },
    {
     "data": {
      "text/html": [
       "Run data is saved locally in <code>/home/walt/FociNet/wandb/run-20241124_153042-dz8uwe6n</code>"
      ],
      "text/plain": [
       "<IPython.core.display.HTML object>"
      ]
     },
     "metadata": {},
     "output_type": "display_data"
    },
    {
     "data": {
      "text/html": [
       "Syncing run <strong><a href='https://wandb.ai/walt_/dose-prediction/runs/dz8uwe6n' target=\"_blank\">firm-sweep-34</a></strong> to <a href='https://wandb.ai/walt_/dose-prediction' target=\"_blank\">Weights & Biases</a> (<a href='https://wandb.me/developer-guide' target=\"_blank\">docs</a>)<br/>Sweep page: <a href='https://wandb.ai/walt_/dose-prediction/sweeps/ijck5aqp' target=\"_blank\">https://wandb.ai/walt_/dose-prediction/sweeps/ijck5aqp</a>"
      ],
      "text/plain": [
       "<IPython.core.display.HTML object>"
      ]
     },
     "metadata": {},
     "output_type": "display_data"
    },
    {
     "data": {
      "text/html": [
       " View project at <a href='https://wandb.ai/walt_/dose-prediction' target=\"_blank\">https://wandb.ai/walt_/dose-prediction</a>"
      ],
      "text/plain": [
       "<IPython.core.display.HTML object>"
      ]
     },
     "metadata": {},
     "output_type": "display_data"
    },
    {
     "data": {
      "text/html": [
       " View sweep at <a href='https://wandb.ai/walt_/dose-prediction/sweeps/ijck5aqp' target=\"_blank\">https://wandb.ai/walt_/dose-prediction/sweeps/ijck5aqp</a>"
      ],
      "text/plain": [
       "<IPython.core.display.HTML object>"
      ]
     },
     "metadata": {},
     "output_type": "display_data"
    },
    {
     "data": {
      "text/html": [
       " View run at <a href='https://wandb.ai/walt_/dose-prediction/runs/dz8uwe6n' target=\"_blank\">https://wandb.ai/walt_/dose-prediction/runs/dz8uwe6n</a>"
      ],
      "text/plain": [
       "<IPython.core.display.HTML object>"
      ]
     },
     "metadata": {},
     "output_type": "display_data"
    },
    {
     "name": "stdout",
     "output_type": "stream",
     "text": [
      "Active Feature Config: {'activation_function': 'tanh', 'batch_size': 32, 'epochs': 15, 'include_edis': False, 'include_mgdis': True, 'include_mpc': True, 'include_sharpness': True, 'include_texture': False, 'learning_rate': 0.005, 'loss_function': 'mean_absolute_error'}\n",
      "Subset X_train shape: (9766, 4)\n",
      "Subset X_val shape: (2790, 4)\n",
      "Subset X_test shape: (1396, 4)\n",
      "Calculated input_dim: 4\n",
      "Epoch 1/15\n",
      "306/306 - 2s - 8ms/step - loss: 0.2931 - mae: 0.2931 - val_loss: 0.2806 - val_mae: 0.2806\n",
      "Epoch 2/15\n",
      "306/306 - 1s - 2ms/step - loss: 0.2631 - mae: 0.2631 - val_loss: 0.2436 - val_mae: 0.2436\n",
      "Epoch 3/15\n",
      "306/306 - 1s - 3ms/step - loss: 0.2299 - mae: 0.2299 - val_loss: 0.2572 - val_mae: 0.2572\n",
      "Epoch 4/15\n",
      "306/306 - 1s - 3ms/step - loss: 0.2116 - mae: 0.2116 - val_loss: 0.2069 - val_mae: 0.2069\n",
      "Epoch 5/15\n",
      "306/306 - 1s - 3ms/step - loss: 0.2060 - mae: 0.2060 - val_loss: 0.2048 - val_mae: 0.2048\n",
      "Epoch 6/15\n",
      "306/306 - 1s - 3ms/step - loss: 0.2007 - mae: 0.2007 - val_loss: 0.2139 - val_mae: 0.2139\n",
      "Epoch 7/15\n",
      "306/306 - 1s - 3ms/step - loss: 0.1973 - mae: 0.1973 - val_loss: 0.2004 - val_mae: 0.2004\n",
      "Epoch 8/15\n",
      "306/306 - 1s - 2ms/step - loss: 0.1944 - mae: 0.1944 - val_loss: 0.1969 - val_mae: 0.1969\n",
      "Epoch 9/15\n",
      "306/306 - 1s - 2ms/step - loss: 0.1917 - mae: 0.1917 - val_loss: 0.2031 - val_mae: 0.2031\n",
      "Epoch 10/15\n",
      "306/306 - 1s - 2ms/step - loss: 0.1899 - mae: 0.1899 - val_loss: 0.1918 - val_mae: 0.1918\n",
      "Epoch 11/15\n",
      "306/306 - 1s - 2ms/step - loss: 0.1894 - mae: 0.1894 - val_loss: 0.1900 - val_mae: 0.1900\n",
      "Epoch 12/15\n",
      "306/306 - 1s - 2ms/step - loss: 0.1873 - mae: 0.1873 - val_loss: 0.1918 - val_mae: 0.1918\n",
      "Epoch 13/15\n",
      "306/306 - 1s - 3ms/step - loss: 0.1855 - mae: 0.1855 - val_loss: 0.1967 - val_mae: 0.1967\n",
      "Epoch 14/15\n",
      "306/306 - 1s - 2ms/step - loss: 0.1868 - mae: 0.1868 - val_loss: 0.1916 - val_mae: 0.1916\n",
      "Epoch 15/15\n",
      "306/306 - 1s - 2ms/step - loss: 0.1854 - mae: 0.1854 - val_loss: 0.1882 - val_mae: 0.1882\n",
      "\u001b[1m44/44\u001b[0m \u001b[32m━━━━━━━━━━━━━━━━━━━━\u001b[0m\u001b[37m\u001b[0m \u001b[1m0s\u001b[0m 4ms/step\n"
     ]
    },
    {
     "data": {
      "text/html": [
       "\n",
       "    <style>\n",
       "        .wandb-row {\n",
       "            display: flex;\n",
       "            flex-direction: row;\n",
       "            flex-wrap: wrap;\n",
       "            justify-content: flex-start;\n",
       "            width: 100%;\n",
       "        }\n",
       "        .wandb-col {\n",
       "            display: flex;\n",
       "            flex-direction: column;\n",
       "            flex-basis: 100%;\n",
       "            flex: 1;\n",
       "            padding: 10px;\n",
       "        }\n",
       "    </style>\n",
       "<div class=\"wandb-row\"><div class=\"wandb-col\"><h3>Run history:</h3><br/><table class=\"wandb\"><tr><td>Max Absolute Error (Test)</td><td>▁</td></tr><tr><td>Mean Absolute Error (Test)</td><td>▁</td></tr><tr><td>R²</td><td>▁</td></tr><tr><td>Test Loss</td><td>▁</td></tr><tr><td>Test MAE</td><td>▁</td></tr><tr><td>epoch</td><td>▁▁▂▃▃▃▄▅▅▅▆▇▇▇█</td></tr><tr><td>epoch/epoch</td><td>▁▁▂▃▃▃▄▅▅▅▆▇▇▇█</td></tr><tr><td>epoch/learning_rate</td><td>▁▁▁▁▁▁▁▁▁▁▁▁▁▁▁</td></tr><tr><td>epoch/loss</td><td>█▆▄▃▂▂▂▂▁▁▁▁▁▁▁</td></tr><tr><td>epoch/mae</td><td>█▆▄▃▂▂▂▂▁▁▁▁▁▁▁</td></tr><tr><td>epoch/val_loss</td><td>█▅▆▂▂▃▂▂▂▁▁▁▂▁▁</td></tr><tr><td>epoch/val_mae</td><td>█▅▆▂▂▃▂▂▂▁▁▁▂▁▁</td></tr><tr><td>train_loss</td><td>█▆▄▃▂▂▂▂▁▁▁▁▁▁▁</td></tr><tr><td>train_mae</td><td>█▆▄▃▂▂▂▂▁▁▁▁▁▁▁</td></tr><tr><td>val_loss</td><td>█▅▆▂▂▃▂▂▂▁▁▁▂▁▁</td></tr><tr><td>val_mae</td><td>█▅▆▂▂▃▂▂▂▁▁▁▂▁▁</td></tr></table><br/></div><div class=\"wandb-col\"><h3>Run summary:</h3><br/><table class=\"wandb\"><tr><td>Max Absolute Error (Test)</td><td>1.01142</td></tr><tr><td>Mean Absolute Error (Test)</td><td>0.17641</td></tr><tr><td>R²</td><td>0.39433</td></tr><tr><td>Test Loss</td><td>0.17641</td></tr><tr><td>Test MAE</td><td>0.17641</td></tr><tr><td>epoch</td><td>14</td></tr><tr><td>epoch/epoch</td><td>14</td></tr><tr><td>epoch/learning_rate</td><td>0.005</td></tr><tr><td>epoch/loss</td><td>0.18537</td></tr><tr><td>epoch/mae</td><td>0.18537</td></tr><tr><td>epoch/val_loss</td><td>0.18816</td></tr><tr><td>epoch/val_mae</td><td>0.18816</td></tr><tr><td>train_loss</td><td>0.18537</td></tr><tr><td>train_mae</td><td>0.18537</td></tr><tr><td>val_loss</td><td>0.18816</td></tr><tr><td>val_mae</td><td>0.18816</td></tr></table><br/></div></div>"
      ],
      "text/plain": [
       "<IPython.core.display.HTML object>"
      ]
     },
     "metadata": {},
     "output_type": "display_data"
    },
    {
     "data": {
      "text/html": [
       " View run <strong style=\"color:#cdcd00\">firm-sweep-34</strong> at: <a href='https://wandb.ai/walt_/dose-prediction/runs/dz8uwe6n' target=\"_blank\">https://wandb.ai/walt_/dose-prediction/runs/dz8uwe6n</a><br/> View project at: <a href='https://wandb.ai/walt_/dose-prediction' target=\"_blank\">https://wandb.ai/walt_/dose-prediction</a><br/>Synced 5 W&B file(s), 0 media file(s), 0 artifact file(s) and 0 other file(s)"
      ],
      "text/plain": [
       "<IPython.core.display.HTML object>"
      ]
     },
     "metadata": {},
     "output_type": "display_data"
    },
    {
     "data": {
      "text/html": [
       "Find logs at: <code>./wandb/run-20241124_153042-dz8uwe6n/logs</code>"
      ],
      "text/plain": [
       "<IPython.core.display.HTML object>"
      ]
     },
     "metadata": {},
     "output_type": "display_data"
    },
    {
     "name": "stderr",
     "output_type": "stream",
     "text": [
      "\u001b[34m\u001b[1mwandb\u001b[0m: Agent Starting Run: wsk4sm2t with config:\n",
      "\u001b[34m\u001b[1mwandb\u001b[0m: \tactivation_function: tanh\n",
      "\u001b[34m\u001b[1mwandb\u001b[0m: \tbatch_size: 32\n",
      "\u001b[34m\u001b[1mwandb\u001b[0m: \tepochs: 15\n",
      "\u001b[34m\u001b[1mwandb\u001b[0m: \tinclude_edis: False\n",
      "\u001b[34m\u001b[1mwandb\u001b[0m: \tinclude_mgdis: True\n",
      "\u001b[34m\u001b[1mwandb\u001b[0m: \tinclude_mpc: True\n",
      "\u001b[34m\u001b[1mwandb\u001b[0m: \tinclude_sharpness: False\n",
      "\u001b[34m\u001b[1mwandb\u001b[0m: \tinclude_texture: True\n",
      "\u001b[34m\u001b[1mwandb\u001b[0m: \tlearning_rate: 0.005\n",
      "\u001b[34m\u001b[1mwandb\u001b[0m: \tloss_function: mean_absolute_error\n"
     ]
    },
    {
     "data": {
      "text/html": [
       "Tracking run with wandb version 0.18.7"
      ],
      "text/plain": [
       "<IPython.core.display.HTML object>"
      ]
     },
     "metadata": {},
     "output_type": "display_data"
    },
    {
     "data": {
      "text/html": [
       "Run data is saved locally in <code>/home/walt/FociNet/wandb/run-20241124_153102-wsk4sm2t</code>"
      ],
      "text/plain": [
       "<IPython.core.display.HTML object>"
      ]
     },
     "metadata": {},
     "output_type": "display_data"
    },
    {
     "data": {
      "text/html": [
       "Syncing run <strong><a href='https://wandb.ai/walt_/dose-prediction/runs/wsk4sm2t' target=\"_blank\">summer-sweep-35</a></strong> to <a href='https://wandb.ai/walt_/dose-prediction' target=\"_blank\">Weights & Biases</a> (<a href='https://wandb.me/developer-guide' target=\"_blank\">docs</a>)<br/>Sweep page: <a href='https://wandb.ai/walt_/dose-prediction/sweeps/ijck5aqp' target=\"_blank\">https://wandb.ai/walt_/dose-prediction/sweeps/ijck5aqp</a>"
      ],
      "text/plain": [
       "<IPython.core.display.HTML object>"
      ]
     },
     "metadata": {},
     "output_type": "display_data"
    },
    {
     "data": {
      "text/html": [
       " View project at <a href='https://wandb.ai/walt_/dose-prediction' target=\"_blank\">https://wandb.ai/walt_/dose-prediction</a>"
      ],
      "text/plain": [
       "<IPython.core.display.HTML object>"
      ]
     },
     "metadata": {},
     "output_type": "display_data"
    },
    {
     "data": {
      "text/html": [
       " View sweep at <a href='https://wandb.ai/walt_/dose-prediction/sweeps/ijck5aqp' target=\"_blank\">https://wandb.ai/walt_/dose-prediction/sweeps/ijck5aqp</a>"
      ],
      "text/plain": [
       "<IPython.core.display.HTML object>"
      ]
     },
     "metadata": {},
     "output_type": "display_data"
    },
    {
     "data": {
      "text/html": [
       " View run at <a href='https://wandb.ai/walt_/dose-prediction/runs/wsk4sm2t' target=\"_blank\">https://wandb.ai/walt_/dose-prediction/runs/wsk4sm2t</a>"
      ],
      "text/plain": [
       "<IPython.core.display.HTML object>"
      ]
     },
     "metadata": {},
     "output_type": "display_data"
    },
    {
     "name": "stdout",
     "output_type": "stream",
     "text": [
      "Active Feature Config: {'activation_function': 'tanh', 'batch_size': 32, 'epochs': 15, 'include_edis': False, 'include_mgdis': True, 'include_mpc': True, 'include_sharpness': False, 'include_texture': True, 'learning_rate': 0.005, 'loss_function': 'mean_absolute_error'}\n",
      "Subset X_train shape: (9766, 5)\n",
      "Subset X_val shape: (2790, 5)\n",
      "Subset X_test shape: (1396, 5)\n",
      "Calculated input_dim: 5\n",
      "Epoch 1/15\n",
      "306/306 - 2s - 7ms/step - loss: 0.2992 - mae: 0.2992 - val_loss: 0.2764 - val_mae: 0.2764\n",
      "Epoch 2/15\n",
      "306/306 - 1s - 2ms/step - loss: 0.2773 - mae: 0.2773 - val_loss: 0.2593 - val_mae: 0.2593\n",
      "Epoch 3/15\n",
      "306/306 - 1s - 2ms/step - loss: 0.2502 - mae: 0.2502 - val_loss: 0.2295 - val_mae: 0.2295\n",
      "Epoch 4/15\n",
      "306/306 - 1s - 2ms/step - loss: 0.2198 - mae: 0.2198 - val_loss: 0.2195 - val_mae: 0.2195\n",
      "Epoch 5/15\n",
      "306/306 - 1s - 2ms/step - loss: 0.2073 - mae: 0.2073 - val_loss: 0.2046 - val_mae: 0.2046\n",
      "Epoch 6/15\n",
      "306/306 - 1s - 2ms/step - loss: 0.1994 - mae: 0.1994 - val_loss: 0.2035 - val_mae: 0.2035\n",
      "Epoch 7/15\n",
      "306/306 - 1s - 2ms/step - loss: 0.1963 - mae: 0.1963 - val_loss: 0.1933 - val_mae: 0.1933\n",
      "Epoch 8/15\n",
      "306/306 - 1s - 2ms/step - loss: 0.1917 - mae: 0.1917 - val_loss: 0.1886 - val_mae: 0.1886\n",
      "Epoch 9/15\n",
      "306/306 - 1s - 2ms/step - loss: 0.1895 - mae: 0.1895 - val_loss: 0.1880 - val_mae: 0.1880\n",
      "Epoch 10/15\n",
      "306/306 - 1s - 3ms/step - loss: 0.1897 - mae: 0.1897 - val_loss: 0.1855 - val_mae: 0.1855\n",
      "Epoch 11/15\n",
      "306/306 - 1s - 2ms/step - loss: 0.1870 - mae: 0.1870 - val_loss: 0.1835 - val_mae: 0.1835\n",
      "Epoch 12/15\n",
      "306/306 - 1s - 2ms/step - loss: 0.1847 - mae: 0.1847 - val_loss: 0.2064 - val_mae: 0.2064\n",
      "Epoch 13/15\n",
      "306/306 - 1s - 3ms/step - loss: 0.1835 - mae: 0.1835 - val_loss: 0.1810 - val_mae: 0.1810\n",
      "Epoch 14/15\n",
      "306/306 - 1s - 2ms/step - loss: 0.1809 - mae: 0.1809 - val_loss: 0.1944 - val_mae: 0.1944\n",
      "Epoch 15/15\n",
      "306/306 - 1s - 2ms/step - loss: 0.1823 - mae: 0.1823 - val_loss: 0.1835 - val_mae: 0.1835\n",
      "\u001b[1m44/44\u001b[0m \u001b[32m━━━━━━━━━━━━━━━━━━━━\u001b[0m\u001b[37m\u001b[0m \u001b[1m0s\u001b[0m 4ms/step\n"
     ]
    },
    {
     "data": {
      "text/html": [
       "\n",
       "    <style>\n",
       "        .wandb-row {\n",
       "            display: flex;\n",
       "            flex-direction: row;\n",
       "            flex-wrap: wrap;\n",
       "            justify-content: flex-start;\n",
       "            width: 100%;\n",
       "        }\n",
       "        .wandb-col {\n",
       "            display: flex;\n",
       "            flex-direction: column;\n",
       "            flex-basis: 100%;\n",
       "            flex: 1;\n",
       "            padding: 10px;\n",
       "        }\n",
       "    </style>\n",
       "<div class=\"wandb-row\"><div class=\"wandb-col\"><h3>Run history:</h3><br/><table class=\"wandb\"><tr><td>Max Absolute Error (Test)</td><td>▁</td></tr><tr><td>Mean Absolute Error (Test)</td><td>▁</td></tr><tr><td>R²</td><td>▁</td></tr><tr><td>Test Loss</td><td>▁</td></tr><tr><td>Test MAE</td><td>▁</td></tr><tr><td>epoch</td><td>▁▁▂▃▃▃▄▅▅▅▆▇▇▇█</td></tr><tr><td>epoch/epoch</td><td>▁▁▂▃▃▃▄▅▅▅▆▇▇▇█</td></tr><tr><td>epoch/learning_rate</td><td>▁▁▁▁▁▁▁▁▁▁▁▁▁▁▁</td></tr><tr><td>epoch/loss</td><td>█▇▅▃▃▂▂▂▂▂▁▁▁▁▁</td></tr><tr><td>epoch/mae</td><td>█▇▅▃▃▂▂▂▂▂▁▁▁▁▁</td></tr><tr><td>epoch/val_loss</td><td>█▇▅▄▃▃▂▂▂▁▁▃▁▂▁</td></tr><tr><td>epoch/val_mae</td><td>█▇▅▄▃▃▂▂▂▁▁▃▁▂▁</td></tr><tr><td>train_loss</td><td>█▇▅▃▃▂▂▂▂▂▁▁▁▁▁</td></tr><tr><td>train_mae</td><td>█▇▅▃▃▂▂▂▂▂▁▁▁▁▁</td></tr><tr><td>val_loss</td><td>█▇▅▄▃▃▂▂▂▁▁▃▁▂▁</td></tr><tr><td>val_mae</td><td>█▇▅▄▃▃▂▂▂▁▁▃▁▂▁</td></tr></table><br/></div><div class=\"wandb-col\"><h3>Run summary:</h3><br/><table class=\"wandb\"><tr><td>Max Absolute Error (Test)</td><td>1.01654</td></tr><tr><td>Mean Absolute Error (Test)</td><td>0.17648</td></tr><tr><td>R²</td><td>0.40492</td></tr><tr><td>Test Loss</td><td>0.17648</td></tr><tr><td>Test MAE</td><td>0.17648</td></tr><tr><td>epoch</td><td>14</td></tr><tr><td>epoch/epoch</td><td>14</td></tr><tr><td>epoch/learning_rate</td><td>0.005</td></tr><tr><td>epoch/loss</td><td>0.18231</td></tr><tr><td>epoch/mae</td><td>0.18231</td></tr><tr><td>epoch/val_loss</td><td>0.18353</td></tr><tr><td>epoch/val_mae</td><td>0.18353</td></tr><tr><td>train_loss</td><td>0.18231</td></tr><tr><td>train_mae</td><td>0.18231</td></tr><tr><td>val_loss</td><td>0.18353</td></tr><tr><td>val_mae</td><td>0.18353</td></tr></table><br/></div></div>"
      ],
      "text/plain": [
       "<IPython.core.display.HTML object>"
      ]
     },
     "metadata": {},
     "output_type": "display_data"
    },
    {
     "data": {
      "text/html": [
       " View run <strong style=\"color:#cdcd00\">summer-sweep-35</strong> at: <a href='https://wandb.ai/walt_/dose-prediction/runs/wsk4sm2t' target=\"_blank\">https://wandb.ai/walt_/dose-prediction/runs/wsk4sm2t</a><br/> View project at: <a href='https://wandb.ai/walt_/dose-prediction' target=\"_blank\">https://wandb.ai/walt_/dose-prediction</a><br/>Synced 5 W&B file(s), 0 media file(s), 0 artifact file(s) and 0 other file(s)"
      ],
      "text/plain": [
       "<IPython.core.display.HTML object>"
      ]
     },
     "metadata": {},
     "output_type": "display_data"
    },
    {
     "data": {
      "text/html": [
       "Find logs at: <code>./wandb/run-20241124_153102-wsk4sm2t/logs</code>"
      ],
      "text/plain": [
       "<IPython.core.display.HTML object>"
      ]
     },
     "metadata": {},
     "output_type": "display_data"
    },
    {
     "name": "stderr",
     "output_type": "stream",
     "text": [
      "\u001b[34m\u001b[1mwandb\u001b[0m: Agent Starting Run: 0jts4mwd with config:\n",
      "\u001b[34m\u001b[1mwandb\u001b[0m: \tactivation_function: tanh\n",
      "\u001b[34m\u001b[1mwandb\u001b[0m: \tbatch_size: 32\n",
      "\u001b[34m\u001b[1mwandb\u001b[0m: \tepochs: 15\n",
      "\u001b[34m\u001b[1mwandb\u001b[0m: \tinclude_edis: False\n",
      "\u001b[34m\u001b[1mwandb\u001b[0m: \tinclude_mgdis: True\n",
      "\u001b[34m\u001b[1mwandb\u001b[0m: \tinclude_mpc: True\n",
      "\u001b[34m\u001b[1mwandb\u001b[0m: \tinclude_sharpness: False\n",
      "\u001b[34m\u001b[1mwandb\u001b[0m: \tinclude_texture: False\n",
      "\u001b[34m\u001b[1mwandb\u001b[0m: \tlearning_rate: 0.005\n",
      "\u001b[34m\u001b[1mwandb\u001b[0m: \tloss_function: mean_absolute_error\n"
     ]
    },
    {
     "data": {
      "text/html": [
       "Tracking run with wandb version 0.18.7"
      ],
      "text/plain": [
       "<IPython.core.display.HTML object>"
      ]
     },
     "metadata": {},
     "output_type": "display_data"
    },
    {
     "data": {
      "text/html": [
       "Run data is saved locally in <code>/home/walt/FociNet/wandb/run-20241124_153123-0jts4mwd</code>"
      ],
      "text/plain": [
       "<IPython.core.display.HTML object>"
      ]
     },
     "metadata": {},
     "output_type": "display_data"
    },
    {
     "data": {
      "text/html": [
       "Syncing run <strong><a href='https://wandb.ai/walt_/dose-prediction/runs/0jts4mwd' target=\"_blank\">dazzling-sweep-36</a></strong> to <a href='https://wandb.ai/walt_/dose-prediction' target=\"_blank\">Weights & Biases</a> (<a href='https://wandb.me/developer-guide' target=\"_blank\">docs</a>)<br/>Sweep page: <a href='https://wandb.ai/walt_/dose-prediction/sweeps/ijck5aqp' target=\"_blank\">https://wandb.ai/walt_/dose-prediction/sweeps/ijck5aqp</a>"
      ],
      "text/plain": [
       "<IPython.core.display.HTML object>"
      ]
     },
     "metadata": {},
     "output_type": "display_data"
    },
    {
     "data": {
      "text/html": [
       " View project at <a href='https://wandb.ai/walt_/dose-prediction' target=\"_blank\">https://wandb.ai/walt_/dose-prediction</a>"
      ],
      "text/plain": [
       "<IPython.core.display.HTML object>"
      ]
     },
     "metadata": {},
     "output_type": "display_data"
    },
    {
     "data": {
      "text/html": [
       " View sweep at <a href='https://wandb.ai/walt_/dose-prediction/sweeps/ijck5aqp' target=\"_blank\">https://wandb.ai/walt_/dose-prediction/sweeps/ijck5aqp</a>"
      ],
      "text/plain": [
       "<IPython.core.display.HTML object>"
      ]
     },
     "metadata": {},
     "output_type": "display_data"
    },
    {
     "data": {
      "text/html": [
       " View run at <a href='https://wandb.ai/walt_/dose-prediction/runs/0jts4mwd' target=\"_blank\">https://wandb.ai/walt_/dose-prediction/runs/0jts4mwd</a>"
      ],
      "text/plain": [
       "<IPython.core.display.HTML object>"
      ]
     },
     "metadata": {},
     "output_type": "display_data"
    },
    {
     "name": "stdout",
     "output_type": "stream",
     "text": [
      "Active Feature Config: {'activation_function': 'tanh', 'batch_size': 32, 'epochs': 15, 'include_edis': False, 'include_mgdis': True, 'include_mpc': True, 'include_sharpness': False, 'include_texture': False, 'learning_rate': 0.005, 'loss_function': 'mean_absolute_error'}\n",
      "Subset X_train shape: (9766, 3)\n",
      "Subset X_val shape: (2790, 3)\n",
      "Subset X_test shape: (1396, 3)\n",
      "Calculated input_dim: 3\n",
      "Epoch 1/15\n",
      "306/306 - 2s - 8ms/step - loss: 0.3028 - mae: 0.3028 - val_loss: 0.2906 - val_mae: 0.2906\n",
      "Epoch 2/15\n",
      "306/306 - 1s - 3ms/step - loss: 0.2930 - mae: 0.2930 - val_loss: 0.2869 - val_mae: 0.2869\n",
      "Epoch 3/15\n",
      "306/306 - 1s - 2ms/step - loss: 0.2935 - mae: 0.2935 - val_loss: 0.2865 - val_mae: 0.2865\n",
      "Epoch 4/15\n",
      "306/306 - 1s - 2ms/step - loss: 0.2945 - mae: 0.2945 - val_loss: 0.2948 - val_mae: 0.2948\n",
      "Epoch 5/15\n",
      "306/306 - 1s - 2ms/step - loss: 0.2915 - mae: 0.2915 - val_loss: 0.2962 - val_mae: 0.2962\n",
      "Epoch 6/15\n",
      "306/306 - 1s - 2ms/step - loss: 0.2819 - mae: 0.2819 - val_loss: 0.2544 - val_mae: 0.2544\n",
      "Epoch 7/15\n",
      "306/306 - 1s - 2ms/step - loss: 0.2465 - mae: 0.2465 - val_loss: 0.2398 - val_mae: 0.2398\n",
      "Epoch 8/15\n",
      "306/306 - 1s - 2ms/step - loss: 0.2390 - mae: 0.2390 - val_loss: 0.2427 - val_mae: 0.2427\n",
      "Epoch 9/15\n",
      "306/306 - 1s - 2ms/step - loss: 0.2360 - mae: 0.2360 - val_loss: 0.2319 - val_mae: 0.2319\n",
      "Epoch 10/15\n",
      "306/306 - 1s - 2ms/step - loss: 0.2340 - mae: 0.2340 - val_loss: 0.2347 - val_mae: 0.2347\n",
      "Epoch 11/15\n",
      "306/306 - 1s - 2ms/step - loss: 0.2339 - mae: 0.2339 - val_loss: 0.2295 - val_mae: 0.2295\n",
      "Epoch 12/15\n",
      "306/306 - 1s - 2ms/step - loss: 0.2312 - mae: 0.2312 - val_loss: 0.2437 - val_mae: 0.2437\n",
      "Epoch 13/15\n",
      "306/306 - 1s - 2ms/step - loss: 0.2311 - mae: 0.2311 - val_loss: 0.2308 - val_mae: 0.2308\n",
      "Epoch 14/15\n",
      "306/306 - 1s - 3ms/step - loss: 0.2300 - mae: 0.2300 - val_loss: 0.2342 - val_mae: 0.2342\n",
      "Epoch 15/15\n",
      "306/306 - 1s - 2ms/step - loss: 0.2339 - mae: 0.2339 - val_loss: 0.2255 - val_mae: 0.2255\n",
      "\u001b[1m44/44\u001b[0m \u001b[32m━━━━━━━━━━━━━━━━━━━━\u001b[0m\u001b[37m\u001b[0m \u001b[1m0s\u001b[0m 4ms/step\n"
     ]
    },
    {
     "data": {
      "text/html": [
       "\n",
       "    <style>\n",
       "        .wandb-row {\n",
       "            display: flex;\n",
       "            flex-direction: row;\n",
       "            flex-wrap: wrap;\n",
       "            justify-content: flex-start;\n",
       "            width: 100%;\n",
       "        }\n",
       "        .wandb-col {\n",
       "            display: flex;\n",
       "            flex-direction: column;\n",
       "            flex-basis: 100%;\n",
       "            flex: 1;\n",
       "            padding: 10px;\n",
       "        }\n",
       "    </style>\n",
       "<div class=\"wandb-row\"><div class=\"wandb-col\"><h3>Run history:</h3><br/><table class=\"wandb\"><tr><td>Max Absolute Error (Test)</td><td>▁</td></tr><tr><td>Mean Absolute Error (Test)</td><td>▁</td></tr><tr><td>R²</td><td>▁</td></tr><tr><td>Test Loss</td><td>▁</td></tr><tr><td>Test MAE</td><td>▁</td></tr><tr><td>epoch</td><td>▁▁▂▃▃▃▄▅▅▅▆▇▇▇█</td></tr><tr><td>epoch/epoch</td><td>▁▁▂▃▃▃▄▅▅▅▆▇▇▇█</td></tr><tr><td>epoch/learning_rate</td><td>▁▁▁▁▁▁▁▁▁▁▁▁▁▁▁</td></tr><tr><td>epoch/loss</td><td>█▇▇▇▇▆▃▂▂▁▁▁▁▁▁</td></tr><tr><td>epoch/mae</td><td>█▇▇▇▇▆▃▂▂▁▁▁▁▁▁</td></tr><tr><td>epoch/val_loss</td><td>▇▇▇██▄▂▃▂▂▁▃▂▂▁</td></tr><tr><td>epoch/val_mae</td><td>▇▇▇██▄▂▃▂▂▁▃▂▂▁</td></tr><tr><td>train_loss</td><td>█▇▇▇▇▆▃▂▂▁▁▁▁▁▁</td></tr><tr><td>train_mae</td><td>█▇▇▇▇▆▃▂▂▁▁▁▁▁▁</td></tr><tr><td>val_loss</td><td>▇▇▇██▄▂▃▂▂▁▃▂▂▁</td></tr><tr><td>val_mae</td><td>▇▇▇██▄▂▃▂▂▁▃▂▂▁</td></tr></table><br/></div><div class=\"wandb-col\"><h3>Run summary:</h3><br/><table class=\"wandb\"><tr><td>Max Absolute Error (Test)</td><td>0.99981</td></tr><tr><td>Mean Absolute Error (Test)</td><td>0.22301</td></tr><tr><td>R²</td><td>0.16011</td></tr><tr><td>Test Loss</td><td>0.22301</td></tr><tr><td>Test MAE</td><td>0.22301</td></tr><tr><td>epoch</td><td>14</td></tr><tr><td>epoch/epoch</td><td>14</td></tr><tr><td>epoch/learning_rate</td><td>0.005</td></tr><tr><td>epoch/loss</td><td>0.2339</td></tr><tr><td>epoch/mae</td><td>0.2339</td></tr><tr><td>epoch/val_loss</td><td>0.22548</td></tr><tr><td>epoch/val_mae</td><td>0.22548</td></tr><tr><td>train_loss</td><td>0.2339</td></tr><tr><td>train_mae</td><td>0.2339</td></tr><tr><td>val_loss</td><td>0.22548</td></tr><tr><td>val_mae</td><td>0.22548</td></tr></table><br/></div></div>"
      ],
      "text/plain": [
       "<IPython.core.display.HTML object>"
      ]
     },
     "metadata": {},
     "output_type": "display_data"
    },
    {
     "data": {
      "text/html": [
       " View run <strong style=\"color:#cdcd00\">dazzling-sweep-36</strong> at: <a href='https://wandb.ai/walt_/dose-prediction/runs/0jts4mwd' target=\"_blank\">https://wandb.ai/walt_/dose-prediction/runs/0jts4mwd</a><br/> View project at: <a href='https://wandb.ai/walt_/dose-prediction' target=\"_blank\">https://wandb.ai/walt_/dose-prediction</a><br/>Synced 5 W&B file(s), 0 media file(s), 0 artifact file(s) and 0 other file(s)"
      ],
      "text/plain": [
       "<IPython.core.display.HTML object>"
      ]
     },
     "metadata": {},
     "output_type": "display_data"
    },
    {
     "data": {
      "text/html": [
       "Find logs at: <code>./wandb/run-20241124_153123-0jts4mwd/logs</code>"
      ],
      "text/plain": [
       "<IPython.core.display.HTML object>"
      ]
     },
     "metadata": {},
     "output_type": "display_data"
    },
    {
     "name": "stderr",
     "output_type": "stream",
     "text": [
      "\u001b[34m\u001b[1mwandb\u001b[0m: Sweep Agent: Waiting for job.\n",
      "\u001b[34m\u001b[1mwandb\u001b[0m: Job received.\n",
      "\u001b[34m\u001b[1mwandb\u001b[0m: Agent Starting Run: l12ofe33 with config:\n",
      "\u001b[34m\u001b[1mwandb\u001b[0m: \tactivation_function: tanh\n",
      "\u001b[34m\u001b[1mwandb\u001b[0m: \tbatch_size: 32\n",
      "\u001b[34m\u001b[1mwandb\u001b[0m: \tepochs: 15\n",
      "\u001b[34m\u001b[1mwandb\u001b[0m: \tinclude_edis: False\n",
      "\u001b[34m\u001b[1mwandb\u001b[0m: \tinclude_mgdis: True\n",
      "\u001b[34m\u001b[1mwandb\u001b[0m: \tinclude_mpc: False\n",
      "\u001b[34m\u001b[1mwandb\u001b[0m: \tinclude_sharpness: True\n",
      "\u001b[34m\u001b[1mwandb\u001b[0m: \tinclude_texture: True\n",
      "\u001b[34m\u001b[1mwandb\u001b[0m: \tlearning_rate: 0.005\n",
      "\u001b[34m\u001b[1mwandb\u001b[0m: \tloss_function: mean_absolute_error\n"
     ]
    },
    {
     "data": {
      "text/html": [
       "Tracking run with wandb version 0.18.7"
      ],
      "text/plain": [
       "<IPython.core.display.HTML object>"
      ]
     },
     "metadata": {},
     "output_type": "display_data"
    },
    {
     "data": {
      "text/html": [
       "Run data is saved locally in <code>/home/walt/FociNet/wandb/run-20241124_153148-l12ofe33</code>"
      ],
      "text/plain": [
       "<IPython.core.display.HTML object>"
      ]
     },
     "metadata": {},
     "output_type": "display_data"
    },
    {
     "data": {
      "text/html": [
       "Syncing run <strong><a href='https://wandb.ai/walt_/dose-prediction/runs/l12ofe33' target=\"_blank\">fearless-sweep-37</a></strong> to <a href='https://wandb.ai/walt_/dose-prediction' target=\"_blank\">Weights & Biases</a> (<a href='https://wandb.me/developer-guide' target=\"_blank\">docs</a>)<br/>Sweep page: <a href='https://wandb.ai/walt_/dose-prediction/sweeps/ijck5aqp' target=\"_blank\">https://wandb.ai/walt_/dose-prediction/sweeps/ijck5aqp</a>"
      ],
      "text/plain": [
       "<IPython.core.display.HTML object>"
      ]
     },
     "metadata": {},
     "output_type": "display_data"
    },
    {
     "data": {
      "text/html": [
       " View project at <a href='https://wandb.ai/walt_/dose-prediction' target=\"_blank\">https://wandb.ai/walt_/dose-prediction</a>"
      ],
      "text/plain": [
       "<IPython.core.display.HTML object>"
      ]
     },
     "metadata": {},
     "output_type": "display_data"
    },
    {
     "data": {
      "text/html": [
       " View sweep at <a href='https://wandb.ai/walt_/dose-prediction/sweeps/ijck5aqp' target=\"_blank\">https://wandb.ai/walt_/dose-prediction/sweeps/ijck5aqp</a>"
      ],
      "text/plain": [
       "<IPython.core.display.HTML object>"
      ]
     },
     "metadata": {},
     "output_type": "display_data"
    },
    {
     "data": {
      "text/html": [
       " View run at <a href='https://wandb.ai/walt_/dose-prediction/runs/l12ofe33' target=\"_blank\">https://wandb.ai/walt_/dose-prediction/runs/l12ofe33</a>"
      ],
      "text/plain": [
       "<IPython.core.display.HTML object>"
      ]
     },
     "metadata": {},
     "output_type": "display_data"
    },
    {
     "name": "stdout",
     "output_type": "stream",
     "text": [
      "Active Feature Config: {'activation_function': 'tanh', 'batch_size': 32, 'epochs': 15, 'include_edis': False, 'include_mgdis': True, 'include_mpc': False, 'include_sharpness': True, 'include_texture': True, 'learning_rate': 0.005, 'loss_function': 'mean_absolute_error'}\n",
      "Subset X_train shape: (9766, 4)\n",
      "Subset X_val shape: (2790, 4)\n",
      "Subset X_test shape: (1396, 4)\n",
      "Calculated input_dim: 4\n",
      "Epoch 1/15\n",
      "306/306 - 3s - 9ms/step - loss: 0.2933 - mae: 0.2933 - val_loss: 0.2715 - val_mae: 0.2715\n",
      "Epoch 2/15\n",
      "306/306 - 1s - 2ms/step - loss: 0.2738 - mae: 0.2738 - val_loss: 0.2604 - val_mae: 0.2604\n",
      "Epoch 3/15\n",
      "306/306 - 1s - 3ms/step - loss: 0.2702 - mae: 0.2702 - val_loss: 0.2669 - val_mae: 0.2669\n",
      "Epoch 4/15\n",
      "306/306 - 1s - 3ms/step - loss: 0.2621 - mae: 0.2621 - val_loss: 0.2624 - val_mae: 0.2624\n",
      "Epoch 5/15\n",
      "306/306 - 1s - 3ms/step - loss: 0.2554 - mae: 0.2554 - val_loss: 0.2326 - val_mae: 0.2326\n",
      "Epoch 6/15\n",
      "306/306 - 1s - 2ms/step - loss: 0.2196 - mae: 0.2196 - val_loss: 0.2128 - val_mae: 0.2128\n",
      "Epoch 7/15\n",
      "306/306 - 1s - 2ms/step - loss: 0.2088 - mae: 0.2088 - val_loss: 0.2169 - val_mae: 0.2169\n",
      "Epoch 8/15\n",
      "306/306 - 1s - 2ms/step - loss: 0.2033 - mae: 0.2033 - val_loss: 0.2217 - val_mae: 0.2217\n",
      "Epoch 9/15\n",
      "306/306 - 1s - 3ms/step - loss: 0.1961 - mae: 0.1961 - val_loss: 0.2047 - val_mae: 0.2047\n",
      "Epoch 10/15\n",
      "306/306 - 1s - 2ms/step - loss: 0.1971 - mae: 0.1971 - val_loss: 0.1965 - val_mae: 0.1965\n",
      "Epoch 11/15\n",
      "306/306 - 1s - 3ms/step - loss: 0.1946 - mae: 0.1946 - val_loss: 0.1997 - val_mae: 0.1997\n",
      "Epoch 12/15\n",
      "306/306 - 1s - 3ms/step - loss: 0.1918 - mae: 0.1918 - val_loss: 0.1975 - val_mae: 0.1975\n",
      "Epoch 13/15\n",
      "306/306 - 1s - 3ms/step - loss: 0.1882 - mae: 0.1882 - val_loss: 0.1932 - val_mae: 0.1932\n",
      "Epoch 14/15\n",
      "306/306 - 1s - 3ms/step - loss: 0.1878 - mae: 0.1878 - val_loss: 0.1996 - val_mae: 0.1996\n",
      "Epoch 15/15\n",
      "306/306 - 1s - 3ms/step - loss: 0.1874 - mae: 0.1874 - val_loss: 0.1899 - val_mae: 0.1899\n",
      "\u001b[1m44/44\u001b[0m \u001b[32m━━━━━━━━━━━━━━━━━━━━\u001b[0m\u001b[37m\u001b[0m \u001b[1m0s\u001b[0m 4ms/step\n"
     ]
    },
    {
     "data": {
      "text/html": [
       "\n",
       "    <style>\n",
       "        .wandb-row {\n",
       "            display: flex;\n",
       "            flex-direction: row;\n",
       "            flex-wrap: wrap;\n",
       "            justify-content: flex-start;\n",
       "            width: 100%;\n",
       "        }\n",
       "        .wandb-col {\n",
       "            display: flex;\n",
       "            flex-direction: column;\n",
       "            flex-basis: 100%;\n",
       "            flex: 1;\n",
       "            padding: 10px;\n",
       "        }\n",
       "    </style>\n",
       "<div class=\"wandb-row\"><div class=\"wandb-col\"><h3>Run history:</h3><br/><table class=\"wandb\"><tr><td>Max Absolute Error (Test)</td><td>▁</td></tr><tr><td>Mean Absolute Error (Test)</td><td>▁</td></tr><tr><td>R²</td><td>▁</td></tr><tr><td>Test Loss</td><td>▁</td></tr><tr><td>Test MAE</td><td>▁</td></tr><tr><td>epoch</td><td>▁▁▂▃▃▃▄▅▅▅▆▇▇▇█</td></tr><tr><td>epoch/epoch</td><td>▁▁▂▃▃▃▄▅▅▅▆▇▇▇█</td></tr><tr><td>epoch/learning_rate</td><td>▁▁▁▁▁▁▁▁▁▁▁▁▁▁▁</td></tr><tr><td>epoch/loss</td><td>█▇▆▆▆▃▂▂▂▂▁▁▁▁▁</td></tr><tr><td>epoch/mae</td><td>█▇▆▆▆▃▂▂▂▂▁▁▁▁▁</td></tr><tr><td>epoch/val_loss</td><td>█▇█▇▅▃▃▄▂▂▂▂▁▂▁</td></tr><tr><td>epoch/val_mae</td><td>█▇█▇▅▃▃▄▂▂▂▂▁▂▁</td></tr><tr><td>train_loss</td><td>█▇▆▆▆▃▂▂▂▂▁▁▁▁▁</td></tr><tr><td>train_mae</td><td>█▇▆▆▆▃▂▂▂▂▁▁▁▁▁</td></tr><tr><td>val_loss</td><td>█▇█▇▅▃▃▄▂▂▂▂▁▂▁</td></tr><tr><td>val_mae</td><td>█▇█▇▅▃▃▄▂▂▂▂▁▂▁</td></tr></table><br/></div><div class=\"wandb-col\"><h3>Run summary:</h3><br/><table class=\"wandb\"><tr><td>Max Absolute Error (Test)</td><td>1.02414</td></tr><tr><td>Mean Absolute Error (Test)</td><td>0.17764</td></tr><tr><td>R²</td><td>0.4033</td></tr><tr><td>Test Loss</td><td>0.17764</td></tr><tr><td>Test MAE</td><td>0.17764</td></tr><tr><td>epoch</td><td>14</td></tr><tr><td>epoch/epoch</td><td>14</td></tr><tr><td>epoch/learning_rate</td><td>0.005</td></tr><tr><td>epoch/loss</td><td>0.18735</td></tr><tr><td>epoch/mae</td><td>0.18735</td></tr><tr><td>epoch/val_loss</td><td>0.18988</td></tr><tr><td>epoch/val_mae</td><td>0.18988</td></tr><tr><td>train_loss</td><td>0.18735</td></tr><tr><td>train_mae</td><td>0.18735</td></tr><tr><td>val_loss</td><td>0.18988</td></tr><tr><td>val_mae</td><td>0.18988</td></tr></table><br/></div></div>"
      ],
      "text/plain": [
       "<IPython.core.display.HTML object>"
      ]
     },
     "metadata": {},
     "output_type": "display_data"
    },
    {
     "data": {
      "text/html": [
       " View run <strong style=\"color:#cdcd00\">fearless-sweep-37</strong> at: <a href='https://wandb.ai/walt_/dose-prediction/runs/l12ofe33' target=\"_blank\">https://wandb.ai/walt_/dose-prediction/runs/l12ofe33</a><br/> View project at: <a href='https://wandb.ai/walt_/dose-prediction' target=\"_blank\">https://wandb.ai/walt_/dose-prediction</a><br/>Synced 5 W&B file(s), 0 media file(s), 0 artifact file(s) and 0 other file(s)"
      ],
      "text/plain": [
       "<IPython.core.display.HTML object>"
      ]
     },
     "metadata": {},
     "output_type": "display_data"
    },
    {
     "data": {
      "text/html": [
       "Find logs at: <code>./wandb/run-20241124_153148-l12ofe33/logs</code>"
      ],
      "text/plain": [
       "<IPython.core.display.HTML object>"
      ]
     },
     "metadata": {},
     "output_type": "display_data"
    },
    {
     "name": "stderr",
     "output_type": "stream",
     "text": [
      "\u001b[34m\u001b[1mwandb\u001b[0m: Agent Starting Run: 6kqnl63l with config:\n",
      "\u001b[34m\u001b[1mwandb\u001b[0m: \tactivation_function: tanh\n",
      "\u001b[34m\u001b[1mwandb\u001b[0m: \tbatch_size: 32\n",
      "\u001b[34m\u001b[1mwandb\u001b[0m: \tepochs: 15\n",
      "\u001b[34m\u001b[1mwandb\u001b[0m: \tinclude_edis: False\n",
      "\u001b[34m\u001b[1mwandb\u001b[0m: \tinclude_mgdis: True\n",
      "\u001b[34m\u001b[1mwandb\u001b[0m: \tinclude_mpc: False\n",
      "\u001b[34m\u001b[1mwandb\u001b[0m: \tinclude_sharpness: True\n",
      "\u001b[34m\u001b[1mwandb\u001b[0m: \tinclude_texture: False\n",
      "\u001b[34m\u001b[1mwandb\u001b[0m: \tlearning_rate: 0.005\n",
      "\u001b[34m\u001b[1mwandb\u001b[0m: \tloss_function: mean_absolute_error\n"
     ]
    },
    {
     "data": {
      "text/html": [
       "Tracking run with wandb version 0.18.7"
      ],
      "text/plain": [
       "<IPython.core.display.HTML object>"
      ]
     },
     "metadata": {},
     "output_type": "display_data"
    },
    {
     "data": {
      "text/html": [
       "Run data is saved locally in <code>/home/walt/FociNet/wandb/run-20241124_153209-6kqnl63l</code>"
      ],
      "text/plain": [
       "<IPython.core.display.HTML object>"
      ]
     },
     "metadata": {},
     "output_type": "display_data"
    },
    {
     "data": {
      "text/html": [
       "Syncing run <strong><a href='https://wandb.ai/walt_/dose-prediction/runs/6kqnl63l' target=\"_blank\">easy-sweep-38</a></strong> to <a href='https://wandb.ai/walt_/dose-prediction' target=\"_blank\">Weights & Biases</a> (<a href='https://wandb.me/developer-guide' target=\"_blank\">docs</a>)<br/>Sweep page: <a href='https://wandb.ai/walt_/dose-prediction/sweeps/ijck5aqp' target=\"_blank\">https://wandb.ai/walt_/dose-prediction/sweeps/ijck5aqp</a>"
      ],
      "text/plain": [
       "<IPython.core.display.HTML object>"
      ]
     },
     "metadata": {},
     "output_type": "display_data"
    },
    {
     "data": {
      "text/html": [
       " View project at <a href='https://wandb.ai/walt_/dose-prediction' target=\"_blank\">https://wandb.ai/walt_/dose-prediction</a>"
      ],
      "text/plain": [
       "<IPython.core.display.HTML object>"
      ]
     },
     "metadata": {},
     "output_type": "display_data"
    },
    {
     "data": {
      "text/html": [
       " View sweep at <a href='https://wandb.ai/walt_/dose-prediction/sweeps/ijck5aqp' target=\"_blank\">https://wandb.ai/walt_/dose-prediction/sweeps/ijck5aqp</a>"
      ],
      "text/plain": [
       "<IPython.core.display.HTML object>"
      ]
     },
     "metadata": {},
     "output_type": "display_data"
    },
    {
     "data": {
      "text/html": [
       " View run at <a href='https://wandb.ai/walt_/dose-prediction/runs/6kqnl63l' target=\"_blank\">https://wandb.ai/walt_/dose-prediction/runs/6kqnl63l</a>"
      ],
      "text/plain": [
       "<IPython.core.display.HTML object>"
      ]
     },
     "metadata": {},
     "output_type": "display_data"
    },
    {
     "name": "stdout",
     "output_type": "stream",
     "text": [
      "Active Feature Config: {'activation_function': 'tanh', 'batch_size': 32, 'epochs': 15, 'include_edis': False, 'include_mgdis': True, 'include_mpc': False, 'include_sharpness': True, 'include_texture': False, 'learning_rate': 0.005, 'loss_function': 'mean_absolute_error'}\n",
      "Subset X_train shape: (9766, 2)\n",
      "Subset X_val shape: (2790, 2)\n",
      "Subset X_test shape: (1396, 2)\n",
      "Calculated input_dim: 2\n",
      "Epoch 1/15\n",
      "306/306 - 2s - 8ms/step - loss: 0.3037 - mae: 0.3037 - val_loss: 0.2900 - val_mae: 0.2900\n",
      "Epoch 2/15\n",
      "306/306 - 1s - 3ms/step - loss: 0.2940 - mae: 0.2940 - val_loss: 0.2884 - val_mae: 0.2884\n",
      "Epoch 3/15\n",
      "306/306 - 1s - 2ms/step - loss: 0.2917 - mae: 0.2917 - val_loss: 0.2940 - val_mae: 0.2940\n",
      "Epoch 4/15\n",
      "306/306 - 1s - 3ms/step - loss: 0.2917 - mae: 0.2917 - val_loss: 0.2778 - val_mae: 0.2778\n",
      "Epoch 5/15\n",
      "306/306 - 1s - 3ms/step - loss: 0.2571 - mae: 0.2571 - val_loss: 0.2457 - val_mae: 0.2457\n",
      "Epoch 6/15\n",
      "306/306 - 1s - 2ms/step - loss: 0.2433 - mae: 0.2433 - val_loss: 0.2457 - val_mae: 0.2457\n",
      "Epoch 7/15\n",
      "306/306 - 1s - 2ms/step - loss: 0.2416 - mae: 0.2416 - val_loss: 0.2344 - val_mae: 0.2344\n",
      "Epoch 8/15\n",
      "306/306 - 1s - 2ms/step - loss: 0.2386 - mae: 0.2386 - val_loss: 0.2345 - val_mae: 0.2345\n",
      "Epoch 9/15\n",
      "306/306 - 1s - 3ms/step - loss: 0.2363 - mae: 0.2363 - val_loss: 0.2355 - val_mae: 0.2355\n",
      "Epoch 10/15\n",
      "306/306 - 1s - 3ms/step - loss: 0.2345 - mae: 0.2345 - val_loss: 0.2318 - val_mae: 0.2318\n",
      "Epoch 11/15\n",
      "306/306 - 1s - 3ms/step - loss: 0.2375 - mae: 0.2375 - val_loss: 0.2344 - val_mae: 0.2344\n",
      "Epoch 12/15\n",
      "306/306 - 1s - 3ms/step - loss: 0.2331 - mae: 0.2331 - val_loss: 0.2306 - val_mae: 0.2306\n",
      "Epoch 13/15\n",
      "306/306 - 1s - 3ms/step - loss: 0.2326 - mae: 0.2326 - val_loss: 0.2333 - val_mae: 0.2333\n",
      "Epoch 14/15\n",
      "306/306 - 1s - 3ms/step - loss: 0.2326 - mae: 0.2326 - val_loss: 0.2312 - val_mae: 0.2312\n",
      "Epoch 15/15\n",
      "306/306 - 1s - 2ms/step - loss: 0.2325 - mae: 0.2325 - val_loss: 0.2473 - val_mae: 0.2473\n",
      "\u001b[1m44/44\u001b[0m \u001b[32m━━━━━━━━━━━━━━━━━━━━\u001b[0m\u001b[37m\u001b[0m \u001b[1m0s\u001b[0m 4ms/step\n"
     ]
    },
    {
     "data": {
      "text/html": [
       "\n",
       "    <style>\n",
       "        .wandb-row {\n",
       "            display: flex;\n",
       "            flex-direction: row;\n",
       "            flex-wrap: wrap;\n",
       "            justify-content: flex-start;\n",
       "            width: 100%;\n",
       "        }\n",
       "        .wandb-col {\n",
       "            display: flex;\n",
       "            flex-direction: column;\n",
       "            flex-basis: 100%;\n",
       "            flex: 1;\n",
       "            padding: 10px;\n",
       "        }\n",
       "    </style>\n",
       "<div class=\"wandb-row\"><div class=\"wandb-col\"><h3>Run history:</h3><br/><table class=\"wandb\"><tr><td>Max Absolute Error (Test)</td><td>▁</td></tr><tr><td>Mean Absolute Error (Test)</td><td>▁</td></tr><tr><td>R²</td><td>▁</td></tr><tr><td>Test Loss</td><td>▁</td></tr><tr><td>Test MAE</td><td>▁</td></tr><tr><td>epoch</td><td>▁▁▂▃▃▃▄▅▅▅▆▇▇▇█</td></tr><tr><td>epoch/epoch</td><td>▁▁▂▃▃▃▄▅▅▅▆▇▇▇█</td></tr><tr><td>epoch/learning_rate</td><td>▁▁▁▁▁▁▁▁▁▁▁▁▁▁▁</td></tr><tr><td>epoch/loss</td><td>█▇▇▇▃▂▂▂▁▁▁▁▁▁▁</td></tr><tr><td>epoch/mae</td><td>█▇▇▇▃▂▂▂▁▁▁▁▁▁▁</td></tr><tr><td>epoch/val_loss</td><td>█▇█▆▃▃▁▁▂▁▁▁▁▁▃</td></tr><tr><td>epoch/val_mae</td><td>█▇█▆▃▃▁▁▂▁▁▁▁▁▃</td></tr><tr><td>train_loss</td><td>█▇▇▇▃▂▂▂▁▁▁▁▁▁▁</td></tr><tr><td>train_mae</td><td>█▇▇▇▃▂▂▂▁▁▁▁▁▁▁</td></tr><tr><td>val_loss</td><td>█▇█▆▃▃▁▁▂▁▁▁▁▁▃</td></tr><tr><td>val_mae</td><td>█▇█▆▃▃▁▁▂▁▁▁▁▁▃</td></tr></table><br/></div><div class=\"wandb-col\"><h3>Run summary:</h3><br/><table class=\"wandb\"><tr><td>Max Absolute Error (Test)</td><td>1.00355</td></tr><tr><td>Mean Absolute Error (Test)</td><td>0.24781</td></tr><tr><td>R²</td><td>0.0343</td></tr><tr><td>Test Loss</td><td>0.24781</td></tr><tr><td>Test MAE</td><td>0.24781</td></tr><tr><td>epoch</td><td>14</td></tr><tr><td>epoch/epoch</td><td>14</td></tr><tr><td>epoch/learning_rate</td><td>0.005</td></tr><tr><td>epoch/loss</td><td>0.23249</td></tr><tr><td>epoch/mae</td><td>0.23249</td></tr><tr><td>epoch/val_loss</td><td>0.24726</td></tr><tr><td>epoch/val_mae</td><td>0.24726</td></tr><tr><td>train_loss</td><td>0.23249</td></tr><tr><td>train_mae</td><td>0.23249</td></tr><tr><td>val_loss</td><td>0.24726</td></tr><tr><td>val_mae</td><td>0.24726</td></tr></table><br/></div></div>"
      ],
      "text/plain": [
       "<IPython.core.display.HTML object>"
      ]
     },
     "metadata": {},
     "output_type": "display_data"
    },
    {
     "data": {
      "text/html": [
       " View run <strong style=\"color:#cdcd00\">easy-sweep-38</strong> at: <a href='https://wandb.ai/walt_/dose-prediction/runs/6kqnl63l' target=\"_blank\">https://wandb.ai/walt_/dose-prediction/runs/6kqnl63l</a><br/> View project at: <a href='https://wandb.ai/walt_/dose-prediction' target=\"_blank\">https://wandb.ai/walt_/dose-prediction</a><br/>Synced 5 W&B file(s), 0 media file(s), 0 artifact file(s) and 0 other file(s)"
      ],
      "text/plain": [
       "<IPython.core.display.HTML object>"
      ]
     },
     "metadata": {},
     "output_type": "display_data"
    },
    {
     "data": {
      "text/html": [
       "Find logs at: <code>./wandb/run-20241124_153209-6kqnl63l/logs</code>"
      ],
      "text/plain": [
       "<IPython.core.display.HTML object>"
      ]
     },
     "metadata": {},
     "output_type": "display_data"
    },
    {
     "name": "stderr",
     "output_type": "stream",
     "text": [
      "\u001b[34m\u001b[1mwandb\u001b[0m: Agent Starting Run: acqspf3s with config:\n",
      "\u001b[34m\u001b[1mwandb\u001b[0m: \tactivation_function: tanh\n",
      "\u001b[34m\u001b[1mwandb\u001b[0m: \tbatch_size: 32\n",
      "\u001b[34m\u001b[1mwandb\u001b[0m: \tepochs: 15\n",
      "\u001b[34m\u001b[1mwandb\u001b[0m: \tinclude_edis: False\n",
      "\u001b[34m\u001b[1mwandb\u001b[0m: \tinclude_mgdis: True\n",
      "\u001b[34m\u001b[1mwandb\u001b[0m: \tinclude_mpc: False\n",
      "\u001b[34m\u001b[1mwandb\u001b[0m: \tinclude_sharpness: False\n",
      "\u001b[34m\u001b[1mwandb\u001b[0m: \tinclude_texture: True\n",
      "\u001b[34m\u001b[1mwandb\u001b[0m: \tlearning_rate: 0.005\n",
      "\u001b[34m\u001b[1mwandb\u001b[0m: \tloss_function: mean_absolute_error\n"
     ]
    },
    {
     "data": {
      "text/html": [
       "Tracking run with wandb version 0.18.7"
      ],
      "text/plain": [
       "<IPython.core.display.HTML object>"
      ]
     },
     "metadata": {},
     "output_type": "display_data"
    },
    {
     "data": {
      "text/html": [
       "Run data is saved locally in <code>/home/walt/FociNet/wandb/run-20241124_153229-acqspf3s</code>"
      ],
      "text/plain": [
       "<IPython.core.display.HTML object>"
      ]
     },
     "metadata": {},
     "output_type": "display_data"
    },
    {
     "data": {
      "text/html": [
       "Syncing run <strong><a href='https://wandb.ai/walt_/dose-prediction/runs/acqspf3s' target=\"_blank\">dashing-sweep-39</a></strong> to <a href='https://wandb.ai/walt_/dose-prediction' target=\"_blank\">Weights & Biases</a> (<a href='https://wandb.me/developer-guide' target=\"_blank\">docs</a>)<br/>Sweep page: <a href='https://wandb.ai/walt_/dose-prediction/sweeps/ijck5aqp' target=\"_blank\">https://wandb.ai/walt_/dose-prediction/sweeps/ijck5aqp</a>"
      ],
      "text/plain": [
       "<IPython.core.display.HTML object>"
      ]
     },
     "metadata": {},
     "output_type": "display_data"
    },
    {
     "data": {
      "text/html": [
       " View project at <a href='https://wandb.ai/walt_/dose-prediction' target=\"_blank\">https://wandb.ai/walt_/dose-prediction</a>"
      ],
      "text/plain": [
       "<IPython.core.display.HTML object>"
      ]
     },
     "metadata": {},
     "output_type": "display_data"
    },
    {
     "data": {
      "text/html": [
       " View sweep at <a href='https://wandb.ai/walt_/dose-prediction/sweeps/ijck5aqp' target=\"_blank\">https://wandb.ai/walt_/dose-prediction/sweeps/ijck5aqp</a>"
      ],
      "text/plain": [
       "<IPython.core.display.HTML object>"
      ]
     },
     "metadata": {},
     "output_type": "display_data"
    },
    {
     "data": {
      "text/html": [
       " View run at <a href='https://wandb.ai/walt_/dose-prediction/runs/acqspf3s' target=\"_blank\">https://wandb.ai/walt_/dose-prediction/runs/acqspf3s</a>"
      ],
      "text/plain": [
       "<IPython.core.display.HTML object>"
      ]
     },
     "metadata": {},
     "output_type": "display_data"
    },
    {
     "name": "stdout",
     "output_type": "stream",
     "text": [
      "Active Feature Config: {'activation_function': 'tanh', 'batch_size': 32, 'epochs': 15, 'include_edis': False, 'include_mgdis': True, 'include_mpc': False, 'include_sharpness': False, 'include_texture': True, 'learning_rate': 0.005, 'loss_function': 'mean_absolute_error'}\n",
      "Subset X_train shape: (9766, 3)\n",
      "Subset X_val shape: (2790, 3)\n",
      "Subset X_test shape: (1396, 3)\n",
      "Calculated input_dim: 3\n",
      "Epoch 1/15\n",
      "306/306 - 2s - 7ms/step - loss: 0.3035 - mae: 0.3035 - val_loss: 0.2972 - val_mae: 0.2972\n",
      "Epoch 2/15\n",
      "306/306 - 1s - 3ms/step - loss: 0.2879 - mae: 0.2879 - val_loss: 0.2721 - val_mae: 0.2721\n",
      "Epoch 3/15\n",
      "306/306 - 1s - 2ms/step - loss: 0.2623 - mae: 0.2623 - val_loss: 0.2670 - val_mae: 0.2670\n",
      "Epoch 4/15\n",
      "306/306 - 1s - 2ms/step - loss: 0.2490 - mae: 0.2490 - val_loss: 0.2446 - val_mae: 0.2446\n",
      "Epoch 5/15\n",
      "306/306 - 1s - 2ms/step - loss: 0.2421 - mae: 0.2421 - val_loss: 0.2385 - val_mae: 0.2385\n",
      "Epoch 6/15\n",
      "306/306 - 1s - 2ms/step - loss: 0.2394 - mae: 0.2394 - val_loss: 0.2347 - val_mae: 0.2347\n",
      "Epoch 7/15\n",
      "306/306 - 1s - 2ms/step - loss: 0.2359 - mae: 0.2359 - val_loss: 0.2382 - val_mae: 0.2382\n",
      "Epoch 8/15\n",
      "306/306 - 1s - 2ms/step - loss: 0.2328 - mae: 0.2328 - val_loss: 0.2292 - val_mae: 0.2292\n",
      "Epoch 9/15\n",
      "306/306 - 1s - 3ms/step - loss: 0.2311 - mae: 0.2311 - val_loss: 0.2329 - val_mae: 0.2329\n",
      "Epoch 10/15\n",
      "306/306 - 1s - 2ms/step - loss: 0.2307 - mae: 0.2307 - val_loss: 0.2279 - val_mae: 0.2279\n",
      "Epoch 11/15\n",
      "306/306 - 1s - 2ms/step - loss: 0.2306 - mae: 0.2306 - val_loss: 0.2261 - val_mae: 0.2261\n",
      "Epoch 12/15\n",
      "306/306 - 1s - 2ms/step - loss: 0.2300 - mae: 0.2300 - val_loss: 0.2258 - val_mae: 0.2258\n",
      "Epoch 13/15\n",
      "306/306 - 1s - 2ms/step - loss: 0.2298 - mae: 0.2298 - val_loss: 0.2267 - val_mae: 0.2267\n",
      "Epoch 14/15\n",
      "306/306 - 1s - 2ms/step - loss: 0.2294 - mae: 0.2294 - val_loss: 0.2300 - val_mae: 0.2300\n",
      "Epoch 15/15\n",
      "306/306 - 1s - 2ms/step - loss: 0.2271 - mae: 0.2271 - val_loss: 0.2234 - val_mae: 0.2234\n",
      "\u001b[1m44/44\u001b[0m \u001b[32m━━━━━━━━━━━━━━━━━━━━\u001b[0m\u001b[37m\u001b[0m \u001b[1m0s\u001b[0m 4ms/step\n"
     ]
    },
    {
     "data": {
      "text/html": [
       "\n",
       "    <style>\n",
       "        .wandb-row {\n",
       "            display: flex;\n",
       "            flex-direction: row;\n",
       "            flex-wrap: wrap;\n",
       "            justify-content: flex-start;\n",
       "            width: 100%;\n",
       "        }\n",
       "        .wandb-col {\n",
       "            display: flex;\n",
       "            flex-direction: column;\n",
       "            flex-basis: 100%;\n",
       "            flex: 1;\n",
       "            padding: 10px;\n",
       "        }\n",
       "    </style>\n",
       "<div class=\"wandb-row\"><div class=\"wandb-col\"><h3>Run history:</h3><br/><table class=\"wandb\"><tr><td>Max Absolute Error (Test)</td><td>▁</td></tr><tr><td>Mean Absolute Error (Test)</td><td>▁</td></tr><tr><td>R²</td><td>▁</td></tr><tr><td>Test Loss</td><td>▁</td></tr><tr><td>Test MAE</td><td>▁</td></tr><tr><td>epoch</td><td>▁▁▂▃▃▃▄▅▅▅▆▇▇▇█</td></tr><tr><td>epoch/epoch</td><td>▁▁▂▃▃▃▄▅▅▅▆▇▇▇█</td></tr><tr><td>epoch/learning_rate</td><td>▁▁▁▁▁▁▁▁▁▁▁▁▁▁▁</td></tr><tr><td>epoch/loss</td><td>█▇▄▃▂▂▂▂▁▁▁▁▁▁▁</td></tr><tr><td>epoch/mae</td><td>█▇▄▃▂▂▂▂▁▁▁▁▁▁▁</td></tr><tr><td>epoch/val_loss</td><td>█▆▅▃▂▂▂▂▂▁▁▁▁▂▁</td></tr><tr><td>epoch/val_mae</td><td>█▆▅▃▂▂▂▂▂▁▁▁▁▂▁</td></tr><tr><td>train_loss</td><td>█▇▄▃▂▂▂▂▁▁▁▁▁▁▁</td></tr><tr><td>train_mae</td><td>█▇▄▃▂▂▂▂▁▁▁▁▁▁▁</td></tr><tr><td>val_loss</td><td>█▆▅▃▂▂▂▂▂▁▁▁▁▂▁</td></tr><tr><td>val_mae</td><td>█▆▅▃▂▂▂▂▂▁▁▁▁▂▁</td></tr></table><br/></div><div class=\"wandb-col\"><h3>Run summary:</h3><br/><table class=\"wandb\"><tr><td>Max Absolute Error (Test)</td><td>1.00307</td></tr><tr><td>Mean Absolute Error (Test)</td><td>0.22</td></tr><tr><td>R²</td><td>0.16815</td></tr><tr><td>Test Loss</td><td>0.22</td></tr><tr><td>Test MAE</td><td>0.22</td></tr><tr><td>epoch</td><td>14</td></tr><tr><td>epoch/epoch</td><td>14</td></tr><tr><td>epoch/learning_rate</td><td>0.005</td></tr><tr><td>epoch/loss</td><td>0.22712</td></tr><tr><td>epoch/mae</td><td>0.22712</td></tr><tr><td>epoch/val_loss</td><td>0.22339</td></tr><tr><td>epoch/val_mae</td><td>0.22339</td></tr><tr><td>train_loss</td><td>0.22712</td></tr><tr><td>train_mae</td><td>0.22712</td></tr><tr><td>val_loss</td><td>0.22339</td></tr><tr><td>val_mae</td><td>0.22339</td></tr></table><br/></div></div>"
      ],
      "text/plain": [
       "<IPython.core.display.HTML object>"
      ]
     },
     "metadata": {},
     "output_type": "display_data"
    },
    {
     "data": {
      "text/html": [
       " View run <strong style=\"color:#cdcd00\">dashing-sweep-39</strong> at: <a href='https://wandb.ai/walt_/dose-prediction/runs/acqspf3s' target=\"_blank\">https://wandb.ai/walt_/dose-prediction/runs/acqspf3s</a><br/> View project at: <a href='https://wandb.ai/walt_/dose-prediction' target=\"_blank\">https://wandb.ai/walt_/dose-prediction</a><br/>Synced 5 W&B file(s), 0 media file(s), 0 artifact file(s) and 0 other file(s)"
      ],
      "text/plain": [
       "<IPython.core.display.HTML object>"
      ]
     },
     "metadata": {},
     "output_type": "display_data"
    },
    {
     "data": {
      "text/html": [
       "Find logs at: <code>./wandb/run-20241124_153229-acqspf3s/logs</code>"
      ],
      "text/plain": [
       "<IPython.core.display.HTML object>"
      ]
     },
     "metadata": {},
     "output_type": "display_data"
    },
    {
     "name": "stderr",
     "output_type": "stream",
     "text": [
      "\u001b[34m\u001b[1mwandb\u001b[0m: Agent Starting Run: ddh4dqjm with config:\n",
      "\u001b[34m\u001b[1mwandb\u001b[0m: \tactivation_function: tanh\n",
      "\u001b[34m\u001b[1mwandb\u001b[0m: \tbatch_size: 32\n",
      "\u001b[34m\u001b[1mwandb\u001b[0m: \tepochs: 15\n",
      "\u001b[34m\u001b[1mwandb\u001b[0m: \tinclude_edis: False\n",
      "\u001b[34m\u001b[1mwandb\u001b[0m: \tinclude_mgdis: True\n",
      "\u001b[34m\u001b[1mwandb\u001b[0m: \tinclude_mpc: False\n",
      "\u001b[34m\u001b[1mwandb\u001b[0m: \tinclude_sharpness: False\n",
      "\u001b[34m\u001b[1mwandb\u001b[0m: \tinclude_texture: False\n",
      "\u001b[34m\u001b[1mwandb\u001b[0m: \tlearning_rate: 0.005\n",
      "\u001b[34m\u001b[1mwandb\u001b[0m: \tloss_function: mean_absolute_error\n"
     ]
    },
    {
     "data": {
      "text/html": [
       "Tracking run with wandb version 0.18.7"
      ],
      "text/plain": [
       "<IPython.core.display.HTML object>"
      ]
     },
     "metadata": {},
     "output_type": "display_data"
    },
    {
     "data": {
      "text/html": [
       "Run data is saved locally in <code>/home/walt/FociNet/wandb/run-20241124_153250-ddh4dqjm</code>"
      ],
      "text/plain": [
       "<IPython.core.display.HTML object>"
      ]
     },
     "metadata": {},
     "output_type": "display_data"
    },
    {
     "data": {
      "text/html": [
       "Syncing run <strong><a href='https://wandb.ai/walt_/dose-prediction/runs/ddh4dqjm' target=\"_blank\">azure-sweep-40</a></strong> to <a href='https://wandb.ai/walt_/dose-prediction' target=\"_blank\">Weights & Biases</a> (<a href='https://wandb.me/developer-guide' target=\"_blank\">docs</a>)<br/>Sweep page: <a href='https://wandb.ai/walt_/dose-prediction/sweeps/ijck5aqp' target=\"_blank\">https://wandb.ai/walt_/dose-prediction/sweeps/ijck5aqp</a>"
      ],
      "text/plain": [
       "<IPython.core.display.HTML object>"
      ]
     },
     "metadata": {},
     "output_type": "display_data"
    },
    {
     "data": {
      "text/html": [
       " View project at <a href='https://wandb.ai/walt_/dose-prediction' target=\"_blank\">https://wandb.ai/walt_/dose-prediction</a>"
      ],
      "text/plain": [
       "<IPython.core.display.HTML object>"
      ]
     },
     "metadata": {},
     "output_type": "display_data"
    },
    {
     "data": {
      "text/html": [
       " View sweep at <a href='https://wandb.ai/walt_/dose-prediction/sweeps/ijck5aqp' target=\"_blank\">https://wandb.ai/walt_/dose-prediction/sweeps/ijck5aqp</a>"
      ],
      "text/plain": [
       "<IPython.core.display.HTML object>"
      ]
     },
     "metadata": {},
     "output_type": "display_data"
    },
    {
     "data": {
      "text/html": [
       " View run at <a href='https://wandb.ai/walt_/dose-prediction/runs/ddh4dqjm' target=\"_blank\">https://wandb.ai/walt_/dose-prediction/runs/ddh4dqjm</a>"
      ],
      "text/plain": [
       "<IPython.core.display.HTML object>"
      ]
     },
     "metadata": {},
     "output_type": "display_data"
    },
    {
     "name": "stdout",
     "output_type": "stream",
     "text": [
      "Active Feature Config: {'activation_function': 'tanh', 'batch_size': 32, 'epochs': 15, 'include_edis': False, 'include_mgdis': True, 'include_mpc': False, 'include_sharpness': False, 'include_texture': False, 'learning_rate': 0.005, 'loss_function': 'mean_absolute_error'}\n",
      "Subset X_train shape: (9766, 1)\n",
      "Subset X_val shape: (2790, 1)\n",
      "Subset X_test shape: (1396, 1)\n",
      "Calculated input_dim: 1\n",
      "Epoch 1/15\n",
      "306/306 - 3s - 8ms/step - loss: 0.2980 - mae: 0.2980 - val_loss: 0.2949 - val_mae: 0.2949\n",
      "Epoch 2/15\n",
      "306/306 - 1s - 2ms/step - loss: 0.2950 - mae: 0.2950 - val_loss: 0.2902 - val_mae: 0.2902\n",
      "Epoch 3/15\n",
      "306/306 - 1s - 2ms/step - loss: 0.2948 - mae: 0.2948 - val_loss: 0.2957 - val_mae: 0.2957\n",
      "Epoch 4/15\n",
      "306/306 - 1s - 2ms/step - loss: 0.2952 - mae: 0.2952 - val_loss: 0.2939 - val_mae: 0.2939\n",
      "Epoch 5/15\n",
      "306/306 - 1s - 2ms/step - loss: 0.2951 - mae: 0.2951 - val_loss: 0.3068 - val_mae: 0.3068\n",
      "Epoch 6/15\n",
      "306/306 - 1s - 2ms/step - loss: 0.2953 - mae: 0.2953 - val_loss: 0.2924 - val_mae: 0.2924\n",
      "Epoch 7/15\n",
      "306/306 - 1s - 2ms/step - loss: 0.2954 - mae: 0.2954 - val_loss: 0.2923 - val_mae: 0.2923\n",
      "Epoch 8/15\n",
      "306/306 - 1s - 2ms/step - loss: 0.2920 - mae: 0.2920 - val_loss: 0.2635 - val_mae: 0.2635\n",
      "Epoch 9/15\n",
      "306/306 - 1s - 2ms/step - loss: 0.2485 - mae: 0.2485 - val_loss: 0.2661 - val_mae: 0.2661\n",
      "Epoch 10/15\n",
      "306/306 - 1s - 2ms/step - loss: 0.2420 - mae: 0.2420 - val_loss: 0.2361 - val_mae: 0.2361\n",
      "Epoch 11/15\n",
      "306/306 - 1s - 2ms/step - loss: 0.2388 - mae: 0.2388 - val_loss: 0.2343 - val_mae: 0.2343\n",
      "Epoch 12/15\n",
      "306/306 - 1s - 2ms/step - loss: 0.2365 - mae: 0.2365 - val_loss: 0.2413 - val_mae: 0.2413\n",
      "Epoch 13/15\n",
      "306/306 - 1s - 2ms/step - loss: 0.2382 - mae: 0.2382 - val_loss: 0.2351 - val_mae: 0.2351\n",
      "Epoch 14/15\n",
      "306/306 - 1s - 2ms/step - loss: 0.2392 - mae: 0.2392 - val_loss: 0.2355 - val_mae: 0.2355\n",
      "Epoch 15/15\n",
      "306/306 - 1s - 2ms/step - loss: 0.2367 - mae: 0.2367 - val_loss: 0.2367 - val_mae: 0.2367\n",
      "\u001b[1m44/44\u001b[0m \u001b[32m━━━━━━━━━━━━━━━━━━━━\u001b[0m\u001b[37m\u001b[0m \u001b[1m0s\u001b[0m 4ms/step\n"
     ]
    },
    {
     "data": {
      "text/html": [
       "\n",
       "    <style>\n",
       "        .wandb-row {\n",
       "            display: flex;\n",
       "            flex-direction: row;\n",
       "            flex-wrap: wrap;\n",
       "            justify-content: flex-start;\n",
       "            width: 100%;\n",
       "        }\n",
       "        .wandb-col {\n",
       "            display: flex;\n",
       "            flex-direction: column;\n",
       "            flex-basis: 100%;\n",
       "            flex: 1;\n",
       "            padding: 10px;\n",
       "        }\n",
       "    </style>\n",
       "<div class=\"wandb-row\"><div class=\"wandb-col\"><h3>Run history:</h3><br/><table class=\"wandb\"><tr><td>Max Absolute Error (Test)</td><td>▁</td></tr><tr><td>Mean Absolute Error (Test)</td><td>▁</td></tr><tr><td>R²</td><td>▁</td></tr><tr><td>Test Loss</td><td>▁</td></tr><tr><td>Test MAE</td><td>▁</td></tr><tr><td>epoch</td><td>▁▁▂▃▃▃▄▅▅▅▆▇▇▇█</td></tr><tr><td>epoch/epoch</td><td>▁▁▂▃▃▃▄▅▅▅▆▇▇▇█</td></tr><tr><td>epoch/learning_rate</td><td>▁▁▁▁▁▁▁▁▁▁▁▁▁▁▁</td></tr><tr><td>epoch/loss</td><td>███████▇▂▂▁▁▁▁▁</td></tr><tr><td>epoch/mae</td><td>███████▇▂▂▁▁▁▁▁</td></tr><tr><td>epoch/val_loss</td><td>▇▆▇▇█▇▇▄▄▁▁▂▁▁▁</td></tr><tr><td>epoch/val_mae</td><td>▇▆▇▇█▇▇▄▄▁▁▂▁▁▁</td></tr><tr><td>train_loss</td><td>███████▇▂▂▁▁▁▁▁</td></tr><tr><td>train_mae</td><td>███████▇▂▂▁▁▁▁▁</td></tr><tr><td>val_loss</td><td>▇▆▇▇█▇▇▄▄▁▁▂▁▁▁</td></tr><tr><td>val_mae</td><td>▇▆▇▇█▇▇▄▄▁▁▂▁▁▁</td></tr></table><br/></div><div class=\"wandb-col\"><h3>Run summary:</h3><br/><table class=\"wandb\"><tr><td>Max Absolute Error (Test)</td><td>0.97856</td></tr><tr><td>Mean Absolute Error (Test)</td><td>0.24134</td></tr><tr><td>R²</td><td>0.12045</td></tr><tr><td>Test Loss</td><td>0.24134</td></tr><tr><td>Test MAE</td><td>0.24134</td></tr><tr><td>epoch</td><td>14</td></tr><tr><td>epoch/epoch</td><td>14</td></tr><tr><td>epoch/learning_rate</td><td>0.005</td></tr><tr><td>epoch/loss</td><td>0.23672</td></tr><tr><td>epoch/mae</td><td>0.23672</td></tr><tr><td>epoch/val_loss</td><td>0.23666</td></tr><tr><td>epoch/val_mae</td><td>0.23666</td></tr><tr><td>train_loss</td><td>0.23672</td></tr><tr><td>train_mae</td><td>0.23672</td></tr><tr><td>val_loss</td><td>0.23666</td></tr><tr><td>val_mae</td><td>0.23666</td></tr></table><br/></div></div>"
      ],
      "text/plain": [
       "<IPython.core.display.HTML object>"
      ]
     },
     "metadata": {},
     "output_type": "display_data"
    },
    {
     "data": {
      "text/html": [
       " View run <strong style=\"color:#cdcd00\">azure-sweep-40</strong> at: <a href='https://wandb.ai/walt_/dose-prediction/runs/ddh4dqjm' target=\"_blank\">https://wandb.ai/walt_/dose-prediction/runs/ddh4dqjm</a><br/> View project at: <a href='https://wandb.ai/walt_/dose-prediction' target=\"_blank\">https://wandb.ai/walt_/dose-prediction</a><br/>Synced 5 W&B file(s), 0 media file(s), 0 artifact file(s) and 0 other file(s)"
      ],
      "text/plain": [
       "<IPython.core.display.HTML object>"
      ]
     },
     "metadata": {},
     "output_type": "display_data"
    },
    {
     "data": {
      "text/html": [
       "Find logs at: <code>./wandb/run-20241124_153250-ddh4dqjm/logs</code>"
      ],
      "text/plain": [
       "<IPython.core.display.HTML object>"
      ]
     },
     "metadata": {},
     "output_type": "display_data"
    },
    {
     "name": "stderr",
     "output_type": "stream",
     "text": [
      "\u001b[34m\u001b[1mwandb\u001b[0m: Agent Starting Run: 39ktx208 with config:\n",
      "\u001b[34m\u001b[1mwandb\u001b[0m: \tactivation_function: tanh\n",
      "\u001b[34m\u001b[1mwandb\u001b[0m: \tbatch_size: 32\n",
      "\u001b[34m\u001b[1mwandb\u001b[0m: \tepochs: 15\n",
      "\u001b[34m\u001b[1mwandb\u001b[0m: \tinclude_edis: False\n",
      "\u001b[34m\u001b[1mwandb\u001b[0m: \tinclude_mgdis: False\n",
      "\u001b[34m\u001b[1mwandb\u001b[0m: \tinclude_mpc: True\n",
      "\u001b[34m\u001b[1mwandb\u001b[0m: \tinclude_sharpness: True\n",
      "\u001b[34m\u001b[1mwandb\u001b[0m: \tinclude_texture: True\n",
      "\u001b[34m\u001b[1mwandb\u001b[0m: \tlearning_rate: 0.005\n",
      "\u001b[34m\u001b[1mwandb\u001b[0m: \tloss_function: mean_absolute_error\n"
     ]
    },
    {
     "data": {
      "text/html": [
       "Tracking run with wandb version 0.18.7"
      ],
      "text/plain": [
       "<IPython.core.display.HTML object>"
      ]
     },
     "metadata": {},
     "output_type": "display_data"
    },
    {
     "data": {
      "text/html": [
       "Run data is saved locally in <code>/home/walt/FociNet/wandb/run-20241124_153310-39ktx208</code>"
      ],
      "text/plain": [
       "<IPython.core.display.HTML object>"
      ]
     },
     "metadata": {},
     "output_type": "display_data"
    },
    {
     "data": {
      "text/html": [
       "Syncing run <strong><a href='https://wandb.ai/walt_/dose-prediction/runs/39ktx208' target=\"_blank\">fallen-sweep-41</a></strong> to <a href='https://wandb.ai/walt_/dose-prediction' target=\"_blank\">Weights & Biases</a> (<a href='https://wandb.me/developer-guide' target=\"_blank\">docs</a>)<br/>Sweep page: <a href='https://wandb.ai/walt_/dose-prediction/sweeps/ijck5aqp' target=\"_blank\">https://wandb.ai/walt_/dose-prediction/sweeps/ijck5aqp</a>"
      ],
      "text/plain": [
       "<IPython.core.display.HTML object>"
      ]
     },
     "metadata": {},
     "output_type": "display_data"
    },
    {
     "data": {
      "text/html": [
       " View project at <a href='https://wandb.ai/walt_/dose-prediction' target=\"_blank\">https://wandb.ai/walt_/dose-prediction</a>"
      ],
      "text/plain": [
       "<IPython.core.display.HTML object>"
      ]
     },
     "metadata": {},
     "output_type": "display_data"
    },
    {
     "data": {
      "text/html": [
       " View sweep at <a href='https://wandb.ai/walt_/dose-prediction/sweeps/ijck5aqp' target=\"_blank\">https://wandb.ai/walt_/dose-prediction/sweeps/ijck5aqp</a>"
      ],
      "text/plain": [
       "<IPython.core.display.HTML object>"
      ]
     },
     "metadata": {},
     "output_type": "display_data"
    },
    {
     "data": {
      "text/html": [
       " View run at <a href='https://wandb.ai/walt_/dose-prediction/runs/39ktx208' target=\"_blank\">https://wandb.ai/walt_/dose-prediction/runs/39ktx208</a>"
      ],
      "text/plain": [
       "<IPython.core.display.HTML object>"
      ]
     },
     "metadata": {},
     "output_type": "display_data"
    },
    {
     "name": "stdout",
     "output_type": "stream",
     "text": [
      "Active Feature Config: {'activation_function': 'tanh', 'batch_size': 32, 'epochs': 15, 'include_edis': False, 'include_mgdis': False, 'include_mpc': True, 'include_sharpness': True, 'include_texture': True, 'learning_rate': 0.005, 'loss_function': 'mean_absolute_error'}\n",
      "Subset X_train shape: (9766, 5)\n",
      "Subset X_val shape: (2790, 5)\n",
      "Subset X_test shape: (1396, 5)\n",
      "Calculated input_dim: 5\n",
      "Epoch 1/15\n",
      "306/306 - 3s - 8ms/step - loss: 0.2898 - mae: 0.2898 - val_loss: 0.2736 - val_mae: 0.2736\n",
      "Epoch 2/15\n",
      "306/306 - 1s - 3ms/step - loss: 0.2612 - mae: 0.2612 - val_loss: 0.2319 - val_mae: 0.2319\n",
      "Epoch 3/15\n",
      "306/306 - 1s - 2ms/step - loss: 0.2229 - mae: 0.2229 - val_loss: 0.2257 - val_mae: 0.2257\n",
      "Epoch 4/15\n",
      "306/306 - 1s - 2ms/step - loss: 0.2094 - mae: 0.2094 - val_loss: 0.2109 - val_mae: 0.2109\n",
      "Epoch 5/15\n",
      "306/306 - 1s - 2ms/step - loss: 0.2041 - mae: 0.2041 - val_loss: 0.2138 - val_mae: 0.2138\n",
      "Epoch 6/15\n",
      "306/306 - 1s - 2ms/step - loss: 0.1984 - mae: 0.1984 - val_loss: 0.2049 - val_mae: 0.2049\n",
      "Epoch 7/15\n",
      "306/306 - 1s - 2ms/step - loss: 0.1921 - mae: 0.1921 - val_loss: 0.1913 - val_mae: 0.1913\n",
      "Epoch 8/15\n",
      "306/306 - 1s - 2ms/step - loss: 0.1905 - mae: 0.1905 - val_loss: 0.2017 - val_mae: 0.2017\n",
      "Epoch 9/15\n",
      "306/306 - 1s - 2ms/step - loss: 0.1882 - mae: 0.1882 - val_loss: 0.1885 - val_mae: 0.1885\n",
      "Epoch 10/15\n",
      "306/306 - 1s - 2ms/step - loss: 0.1896 - mae: 0.1896 - val_loss: 0.2165 - val_mae: 0.2165\n",
      "Epoch 11/15\n",
      "306/306 - 1s - 3ms/step - loss: 0.1854 - mae: 0.1854 - val_loss: 0.1870 - val_mae: 0.1870\n",
      "Epoch 12/15\n",
      "306/306 - 1s - 3ms/step - loss: 0.1871 - mae: 0.1871 - val_loss: 0.1836 - val_mae: 0.1836\n",
      "Epoch 13/15\n",
      "306/306 - 1s - 2ms/step - loss: 0.1833 - mae: 0.1833 - val_loss: 0.1867 - val_mae: 0.1867\n",
      "Epoch 14/15\n",
      "306/306 - 1s - 2ms/step - loss: 0.1845 - mae: 0.1845 - val_loss: 0.1956 - val_mae: 0.1956\n",
      "Epoch 15/15\n",
      "306/306 - 1s - 2ms/step - loss: 0.1856 - mae: 0.1856 - val_loss: 0.1918 - val_mae: 0.1918\n",
      "\u001b[1m44/44\u001b[0m \u001b[32m━━━━━━━━━━━━━━━━━━━━\u001b[0m\u001b[37m\u001b[0m \u001b[1m0s\u001b[0m 4ms/step\n"
     ]
    },
    {
     "data": {
      "text/html": [
       "\n",
       "    <style>\n",
       "        .wandb-row {\n",
       "            display: flex;\n",
       "            flex-direction: row;\n",
       "            flex-wrap: wrap;\n",
       "            justify-content: flex-start;\n",
       "            width: 100%;\n",
       "        }\n",
       "        .wandb-col {\n",
       "            display: flex;\n",
       "            flex-direction: column;\n",
       "            flex-basis: 100%;\n",
       "            flex: 1;\n",
       "            padding: 10px;\n",
       "        }\n",
       "    </style>\n",
       "<div class=\"wandb-row\"><div class=\"wandb-col\"><h3>Run history:</h3><br/><table class=\"wandb\"><tr><td>Max Absolute Error (Test)</td><td>▁</td></tr><tr><td>Mean Absolute Error (Test)</td><td>▁</td></tr><tr><td>R²</td><td>▁</td></tr><tr><td>Test Loss</td><td>▁</td></tr><tr><td>Test MAE</td><td>▁</td></tr><tr><td>epoch</td><td>▁▁▂▃▃▃▄▅▅▅▆▇▇▇█</td></tr><tr><td>epoch/epoch</td><td>▁▁▂▃▃▃▄▅▅▅▆▇▇▇█</td></tr><tr><td>epoch/learning_rate</td><td>▁▁▁▁▁▁▁▁▁▁▁▁▁▁▁</td></tr><tr><td>epoch/loss</td><td>█▆▄▃▂▂▂▁▁▁▁▁▁▁▁</td></tr><tr><td>epoch/mae</td><td>█▆▄▃▂▂▂▁▁▁▁▁▁▁▁</td></tr><tr><td>epoch/val_loss</td><td>█▅▄▃▃▃▂▂▁▄▁▁▁▂▂</td></tr><tr><td>epoch/val_mae</td><td>█▅▄▃▃▃▂▂▁▄▁▁▁▂▂</td></tr><tr><td>train_loss</td><td>█▆▄▃▂▂▂▁▁▁▁▁▁▁▁</td></tr><tr><td>train_mae</td><td>█▆▄▃▂▂▂▁▁▁▁▁▁▁▁</td></tr><tr><td>val_loss</td><td>█▅▄▃▃▃▂▂▁▄▁▁▁▂▂</td></tr><tr><td>val_mae</td><td>█▅▄▃▃▃▂▂▁▄▁▁▁▂▂</td></tr></table><br/></div><div class=\"wandb-col\"><h3>Run summary:</h3><br/><table class=\"wandb\"><tr><td>Max Absolute Error (Test)</td><td>1.01452</td></tr><tr><td>Mean Absolute Error (Test)</td><td>0.17952</td></tr><tr><td>R²</td><td>0.38153</td></tr><tr><td>Test Loss</td><td>0.17952</td></tr><tr><td>Test MAE</td><td>0.17952</td></tr><tr><td>epoch</td><td>14</td></tr><tr><td>epoch/epoch</td><td>14</td></tr><tr><td>epoch/learning_rate</td><td>0.005</td></tr><tr><td>epoch/loss</td><td>0.18557</td></tr><tr><td>epoch/mae</td><td>0.18557</td></tr><tr><td>epoch/val_loss</td><td>0.19179</td></tr><tr><td>epoch/val_mae</td><td>0.19179</td></tr><tr><td>train_loss</td><td>0.18557</td></tr><tr><td>train_mae</td><td>0.18557</td></tr><tr><td>val_loss</td><td>0.19179</td></tr><tr><td>val_mae</td><td>0.19179</td></tr></table><br/></div></div>"
      ],
      "text/plain": [
       "<IPython.core.display.HTML object>"
      ]
     },
     "metadata": {},
     "output_type": "display_data"
    },
    {
     "data": {
      "text/html": [
       " View run <strong style=\"color:#cdcd00\">fallen-sweep-41</strong> at: <a href='https://wandb.ai/walt_/dose-prediction/runs/39ktx208' target=\"_blank\">https://wandb.ai/walt_/dose-prediction/runs/39ktx208</a><br/> View project at: <a href='https://wandb.ai/walt_/dose-prediction' target=\"_blank\">https://wandb.ai/walt_/dose-prediction</a><br/>Synced 5 W&B file(s), 0 media file(s), 0 artifact file(s) and 0 other file(s)"
      ],
      "text/plain": [
       "<IPython.core.display.HTML object>"
      ]
     },
     "metadata": {},
     "output_type": "display_data"
    },
    {
     "data": {
      "text/html": [
       "Find logs at: <code>./wandb/run-20241124_153310-39ktx208/logs</code>"
      ],
      "text/plain": [
       "<IPython.core.display.HTML object>"
      ]
     },
     "metadata": {},
     "output_type": "display_data"
    },
    {
     "name": "stderr",
     "output_type": "stream",
     "text": [
      "\u001b[34m\u001b[1mwandb\u001b[0m: Agent Starting Run: 1tg46fwj with config:\n",
      "\u001b[34m\u001b[1mwandb\u001b[0m: \tactivation_function: tanh\n",
      "\u001b[34m\u001b[1mwandb\u001b[0m: \tbatch_size: 32\n",
      "\u001b[34m\u001b[1mwandb\u001b[0m: \tepochs: 15\n",
      "\u001b[34m\u001b[1mwandb\u001b[0m: \tinclude_edis: False\n",
      "\u001b[34m\u001b[1mwandb\u001b[0m: \tinclude_mgdis: False\n",
      "\u001b[34m\u001b[1mwandb\u001b[0m: \tinclude_mpc: True\n",
      "\u001b[34m\u001b[1mwandb\u001b[0m: \tinclude_sharpness: True\n",
      "\u001b[34m\u001b[1mwandb\u001b[0m: \tinclude_texture: False\n",
      "\u001b[34m\u001b[1mwandb\u001b[0m: \tlearning_rate: 0.005\n",
      "\u001b[34m\u001b[1mwandb\u001b[0m: \tloss_function: mean_absolute_error\n"
     ]
    },
    {
     "data": {
      "text/html": [
       "Tracking run with wandb version 0.18.7"
      ],
      "text/plain": [
       "<IPython.core.display.HTML object>"
      ]
     },
     "metadata": {},
     "output_type": "display_data"
    },
    {
     "data": {
      "text/html": [
       "Run data is saved locally in <code>/home/walt/FociNet/wandb/run-20241124_153331-1tg46fwj</code>"
      ],
      "text/plain": [
       "<IPython.core.display.HTML object>"
      ]
     },
     "metadata": {},
     "output_type": "display_data"
    },
    {
     "data": {
      "text/html": [
       "Syncing run <strong><a href='https://wandb.ai/walt_/dose-prediction/runs/1tg46fwj' target=\"_blank\">atomic-sweep-42</a></strong> to <a href='https://wandb.ai/walt_/dose-prediction' target=\"_blank\">Weights & Biases</a> (<a href='https://wandb.me/developer-guide' target=\"_blank\">docs</a>)<br/>Sweep page: <a href='https://wandb.ai/walt_/dose-prediction/sweeps/ijck5aqp' target=\"_blank\">https://wandb.ai/walt_/dose-prediction/sweeps/ijck5aqp</a>"
      ],
      "text/plain": [
       "<IPython.core.display.HTML object>"
      ]
     },
     "metadata": {},
     "output_type": "display_data"
    },
    {
     "data": {
      "text/html": [
       " View project at <a href='https://wandb.ai/walt_/dose-prediction' target=\"_blank\">https://wandb.ai/walt_/dose-prediction</a>"
      ],
      "text/plain": [
       "<IPython.core.display.HTML object>"
      ]
     },
     "metadata": {},
     "output_type": "display_data"
    },
    {
     "data": {
      "text/html": [
       " View sweep at <a href='https://wandb.ai/walt_/dose-prediction/sweeps/ijck5aqp' target=\"_blank\">https://wandb.ai/walt_/dose-prediction/sweeps/ijck5aqp</a>"
      ],
      "text/plain": [
       "<IPython.core.display.HTML object>"
      ]
     },
     "metadata": {},
     "output_type": "display_data"
    },
    {
     "data": {
      "text/html": [
       " View run at <a href='https://wandb.ai/walt_/dose-prediction/runs/1tg46fwj' target=\"_blank\">https://wandb.ai/walt_/dose-prediction/runs/1tg46fwj</a>"
      ],
      "text/plain": [
       "<IPython.core.display.HTML object>"
      ]
     },
     "metadata": {},
     "output_type": "display_data"
    },
    {
     "name": "stdout",
     "output_type": "stream",
     "text": [
      "Active Feature Config: {'activation_function': 'tanh', 'batch_size': 32, 'epochs': 15, 'include_edis': False, 'include_mgdis': False, 'include_mpc': True, 'include_sharpness': True, 'include_texture': False, 'learning_rate': 0.005, 'loss_function': 'mean_absolute_error'}\n",
      "Subset X_train shape: (9766, 3)\n",
      "Subset X_val shape: (2790, 3)\n",
      "Subset X_test shape: (1396, 3)\n",
      "Calculated input_dim: 3\n",
      "Epoch 1/15\n",
      "306/306 - 2s - 7ms/step - loss: 0.3072 - mae: 0.3072 - val_loss: 0.2852 - val_mae: 0.2852\n",
      "Epoch 2/15\n",
      "306/306 - 1s - 2ms/step - loss: 0.2894 - mae: 0.2894 - val_loss: 0.2757 - val_mae: 0.2757\n",
      "Epoch 3/15\n",
      "306/306 - 1s - 2ms/step - loss: 0.2623 - mae: 0.2623 - val_loss: 0.2520 - val_mae: 0.2520\n",
      "Epoch 4/15\n",
      "306/306 - 1s - 2ms/step - loss: 0.2475 - mae: 0.2475 - val_loss: 0.2536 - val_mae: 0.2536\n",
      "Epoch 5/15\n",
      "306/306 - 1s - 2ms/step - loss: 0.2423 - mae: 0.2423 - val_loss: 0.2360 - val_mae: 0.2360\n",
      "Epoch 6/15\n",
      "306/306 - 1s - 2ms/step - loss: 0.2392 - mae: 0.2392 - val_loss: 0.2362 - val_mae: 0.2362\n",
      "Epoch 7/15\n",
      "306/306 - 1s - 2ms/step - loss: 0.2374 - mae: 0.2374 - val_loss: 0.2340 - val_mae: 0.2340\n",
      "Epoch 8/15\n",
      "306/306 - 1s - 2ms/step - loss: 0.2331 - mae: 0.2331 - val_loss: 0.2296 - val_mae: 0.2296\n",
      "Epoch 9/15\n",
      "306/306 - 1s - 2ms/step - loss: 0.2319 - mae: 0.2319 - val_loss: 0.2290 - val_mae: 0.2290\n",
      "Epoch 10/15\n",
      "306/306 - 1s - 2ms/step - loss: 0.2329 - mae: 0.2329 - val_loss: 0.2285 - val_mae: 0.2285\n",
      "Epoch 11/15\n",
      "306/306 - 1s - 2ms/step - loss: 0.2302 - mae: 0.2302 - val_loss: 0.2306 - val_mae: 0.2306\n",
      "Epoch 12/15\n",
      "306/306 - 1s - 2ms/step - loss: 0.2317 - mae: 0.2317 - val_loss: 0.2269 - val_mae: 0.2269\n",
      "Epoch 13/15\n",
      "306/306 - 1s - 2ms/step - loss: 0.2302 - mae: 0.2302 - val_loss: 0.2248 - val_mae: 0.2248\n",
      "Epoch 14/15\n",
      "306/306 - 1s - 2ms/step - loss: 0.2317 - mae: 0.2317 - val_loss: 0.2282 - val_mae: 0.2282\n",
      "Epoch 15/15\n",
      "306/306 - 1s - 2ms/step - loss: 0.2303 - mae: 0.2303 - val_loss: 0.2255 - val_mae: 0.2255\n",
      "\u001b[1m44/44\u001b[0m \u001b[32m━━━━━━━━━━━━━━━━━━━━\u001b[0m\u001b[37m\u001b[0m \u001b[1m0s\u001b[0m 4ms/step\n"
     ]
    },
    {
     "data": {
      "text/html": [
       "\n",
       "    <style>\n",
       "        .wandb-row {\n",
       "            display: flex;\n",
       "            flex-direction: row;\n",
       "            flex-wrap: wrap;\n",
       "            justify-content: flex-start;\n",
       "            width: 100%;\n",
       "        }\n",
       "        .wandb-col {\n",
       "            display: flex;\n",
       "            flex-direction: column;\n",
       "            flex-basis: 100%;\n",
       "            flex: 1;\n",
       "            padding: 10px;\n",
       "        }\n",
       "    </style>\n",
       "<div class=\"wandb-row\"><div class=\"wandb-col\"><h3>Run history:</h3><br/><table class=\"wandb\"><tr><td>Max Absolute Error (Test)</td><td>▁</td></tr><tr><td>Mean Absolute Error (Test)</td><td>▁</td></tr><tr><td>R²</td><td>▁</td></tr><tr><td>Test Loss</td><td>▁</td></tr><tr><td>Test MAE</td><td>▁</td></tr><tr><td>epoch</td><td>▁▁▂▃▃▃▄▅▅▅▆▇▇▇█</td></tr><tr><td>epoch/epoch</td><td>▁▁▂▃▃▃▄▅▅▅▆▇▇▇█</td></tr><tr><td>epoch/learning_rate</td><td>▁▁▁▁▁▁▁▁▁▁▁▁▁▁▁</td></tr><tr><td>epoch/loss</td><td>█▆▄▃▂▂▂▁▁▁▁▁▁▁▁</td></tr><tr><td>epoch/mae</td><td>█▆▄▃▂▂▂▁▁▁▁▁▁▁▁</td></tr><tr><td>epoch/val_loss</td><td>█▇▄▄▂▂▂▂▁▁▂▁▁▁▁</td></tr><tr><td>epoch/val_mae</td><td>█▇▄▄▂▂▂▂▁▁▂▁▁▁▁</td></tr><tr><td>train_loss</td><td>█▆▄▃▂▂▂▁▁▁▁▁▁▁▁</td></tr><tr><td>train_mae</td><td>█▆▄▃▂▂▂▁▁▁▁▁▁▁▁</td></tr><tr><td>val_loss</td><td>█▇▄▄▂▂▂▂▁▁▂▁▁▁▁</td></tr><tr><td>val_mae</td><td>█▇▄▄▂▂▂▂▁▁▂▁▁▁▁</td></tr></table><br/></div><div class=\"wandb-col\"><h3>Run summary:</h3><br/><table class=\"wandb\"><tr><td>Max Absolute Error (Test)</td><td>1.02043</td></tr><tr><td>Mean Absolute Error (Test)</td><td>0.2234</td></tr><tr><td>R²</td><td>0.13768</td></tr><tr><td>Test Loss</td><td>0.2234</td></tr><tr><td>Test MAE</td><td>0.2234</td></tr><tr><td>epoch</td><td>14</td></tr><tr><td>epoch/epoch</td><td>14</td></tr><tr><td>epoch/learning_rate</td><td>0.005</td></tr><tr><td>epoch/loss</td><td>0.2303</td></tr><tr><td>epoch/mae</td><td>0.2303</td></tr><tr><td>epoch/val_loss</td><td>0.22548</td></tr><tr><td>epoch/val_mae</td><td>0.22548</td></tr><tr><td>train_loss</td><td>0.2303</td></tr><tr><td>train_mae</td><td>0.2303</td></tr><tr><td>val_loss</td><td>0.22548</td></tr><tr><td>val_mae</td><td>0.22548</td></tr></table><br/></div></div>"
      ],
      "text/plain": [
       "<IPython.core.display.HTML object>"
      ]
     },
     "metadata": {},
     "output_type": "display_data"
    },
    {
     "data": {
      "text/html": [
       " View run <strong style=\"color:#cdcd00\">atomic-sweep-42</strong> at: <a href='https://wandb.ai/walt_/dose-prediction/runs/1tg46fwj' target=\"_blank\">https://wandb.ai/walt_/dose-prediction/runs/1tg46fwj</a><br/> View project at: <a href='https://wandb.ai/walt_/dose-prediction' target=\"_blank\">https://wandb.ai/walt_/dose-prediction</a><br/>Synced 5 W&B file(s), 0 media file(s), 0 artifact file(s) and 0 other file(s)"
      ],
      "text/plain": [
       "<IPython.core.display.HTML object>"
      ]
     },
     "metadata": {},
     "output_type": "display_data"
    },
    {
     "data": {
      "text/html": [
       "Find logs at: <code>./wandb/run-20241124_153331-1tg46fwj/logs</code>"
      ],
      "text/plain": [
       "<IPython.core.display.HTML object>"
      ]
     },
     "metadata": {},
     "output_type": "display_data"
    },
    {
     "name": "stderr",
     "output_type": "stream",
     "text": [
      "\u001b[34m\u001b[1mwandb\u001b[0m: Agent Starting Run: oc1r936d with config:\n",
      "\u001b[34m\u001b[1mwandb\u001b[0m: \tactivation_function: tanh\n",
      "\u001b[34m\u001b[1mwandb\u001b[0m: \tbatch_size: 32\n",
      "\u001b[34m\u001b[1mwandb\u001b[0m: \tepochs: 15\n",
      "\u001b[34m\u001b[1mwandb\u001b[0m: \tinclude_edis: False\n",
      "\u001b[34m\u001b[1mwandb\u001b[0m: \tinclude_mgdis: False\n",
      "\u001b[34m\u001b[1mwandb\u001b[0m: \tinclude_mpc: True\n",
      "\u001b[34m\u001b[1mwandb\u001b[0m: \tinclude_sharpness: False\n",
      "\u001b[34m\u001b[1mwandb\u001b[0m: \tinclude_texture: True\n",
      "\u001b[34m\u001b[1mwandb\u001b[0m: \tlearning_rate: 0.005\n",
      "\u001b[34m\u001b[1mwandb\u001b[0m: \tloss_function: mean_absolute_error\n"
     ]
    },
    {
     "data": {
      "text/html": [
       "Tracking run with wandb version 0.18.7"
      ],
      "text/plain": [
       "<IPython.core.display.HTML object>"
      ]
     },
     "metadata": {},
     "output_type": "display_data"
    },
    {
     "data": {
      "text/html": [
       "Run data is saved locally in <code>/home/walt/FociNet/wandb/run-20241124_153346-oc1r936d</code>"
      ],
      "text/plain": [
       "<IPython.core.display.HTML object>"
      ]
     },
     "metadata": {},
     "output_type": "display_data"
    },
    {
     "data": {
      "text/html": [
       "Syncing run <strong><a href='https://wandb.ai/walt_/dose-prediction/runs/oc1r936d' target=\"_blank\">honest-sweep-43</a></strong> to <a href='https://wandb.ai/walt_/dose-prediction' target=\"_blank\">Weights & Biases</a> (<a href='https://wandb.me/developer-guide' target=\"_blank\">docs</a>)<br/>Sweep page: <a href='https://wandb.ai/walt_/dose-prediction/sweeps/ijck5aqp' target=\"_blank\">https://wandb.ai/walt_/dose-prediction/sweeps/ijck5aqp</a>"
      ],
      "text/plain": [
       "<IPython.core.display.HTML object>"
      ]
     },
     "metadata": {},
     "output_type": "display_data"
    },
    {
     "data": {
      "text/html": [
       " View project at <a href='https://wandb.ai/walt_/dose-prediction' target=\"_blank\">https://wandb.ai/walt_/dose-prediction</a>"
      ],
      "text/plain": [
       "<IPython.core.display.HTML object>"
      ]
     },
     "metadata": {},
     "output_type": "display_data"
    },
    {
     "data": {
      "text/html": [
       " View sweep at <a href='https://wandb.ai/walt_/dose-prediction/sweeps/ijck5aqp' target=\"_blank\">https://wandb.ai/walt_/dose-prediction/sweeps/ijck5aqp</a>"
      ],
      "text/plain": [
       "<IPython.core.display.HTML object>"
      ]
     },
     "metadata": {},
     "output_type": "display_data"
    },
    {
     "data": {
      "text/html": [
       " View run at <a href='https://wandb.ai/walt_/dose-prediction/runs/oc1r936d' target=\"_blank\">https://wandb.ai/walt_/dose-prediction/runs/oc1r936d</a>"
      ],
      "text/plain": [
       "<IPython.core.display.HTML object>"
      ]
     },
     "metadata": {},
     "output_type": "display_data"
    },
    {
     "name": "stdout",
     "output_type": "stream",
     "text": [
      "Active Feature Config: {'activation_function': 'tanh', 'batch_size': 32, 'epochs': 15, 'include_edis': False, 'include_mgdis': False, 'include_mpc': True, 'include_sharpness': False, 'include_texture': True, 'learning_rate': 0.005, 'loss_function': 'mean_absolute_error'}\n",
      "Subset X_train shape: (9766, 4)\n",
      "Subset X_val shape: (2790, 4)\n",
      "Subset X_test shape: (1396, 4)\n",
      "Calculated input_dim: 4\n",
      "Epoch 1/15\n",
      "306/306 - 2s - 7ms/step - loss: 0.2927 - mae: 0.2927 - val_loss: 0.2797 - val_mae: 0.2797\n",
      "Epoch 2/15\n",
      "306/306 - 1s - 2ms/step - loss: 0.2726 - mae: 0.2726 - val_loss: 0.2609 - val_mae: 0.2609\n",
      "Epoch 3/15\n",
      "306/306 - 1s - 2ms/step - loss: 0.2658 - mae: 0.2658 - val_loss: 0.2676 - val_mae: 0.2676\n",
      "Epoch 4/15\n",
      "306/306 - 1s - 2ms/step - loss: 0.2647 - mae: 0.2647 - val_loss: 0.2584 - val_mae: 0.2584\n",
      "Epoch 5/15\n",
      "306/306 - 1s - 2ms/step - loss: 0.2613 - mae: 0.2613 - val_loss: 0.2605 - val_mae: 0.2605\n",
      "Epoch 6/15\n",
      "306/306 - 1s - 2ms/step - loss: 0.2605 - mae: 0.2605 - val_loss: 0.2523 - val_mae: 0.2523\n",
      "Epoch 7/15\n",
      "306/306 - 1s - 2ms/step - loss: 0.2280 - mae: 0.2280 - val_loss: 0.2273 - val_mae: 0.2273\n",
      "Epoch 8/15\n",
      "306/306 - 1s - 2ms/step - loss: 0.2078 - mae: 0.2078 - val_loss: 0.2083 - val_mae: 0.2083\n",
      "Epoch 9/15\n",
      "306/306 - 1s - 2ms/step - loss: 0.2006 - mae: 0.2006 - val_loss: 0.2089 - val_mae: 0.2089\n",
      "Epoch 10/15\n",
      "306/306 - 1s - 2ms/step - loss: 0.1981 - mae: 0.1981 - val_loss: 0.2057 - val_mae: 0.2057\n",
      "Epoch 11/15\n",
      "306/306 - 1s - 2ms/step - loss: 0.1933 - mae: 0.1933 - val_loss: 0.2013 - val_mae: 0.2013\n",
      "Epoch 12/15\n",
      "306/306 - 1s - 2ms/step - loss: 0.1922 - mae: 0.1922 - val_loss: 0.1929 - val_mae: 0.1929\n",
      "Epoch 13/15\n",
      "306/306 - 1s - 2ms/step - loss: 0.1920 - mae: 0.1920 - val_loss: 0.1997 - val_mae: 0.1997\n",
      "Epoch 14/15\n",
      "306/306 - 1s - 2ms/step - loss: 0.1874 - mae: 0.1874 - val_loss: 0.1948 - val_mae: 0.1948\n",
      "Epoch 15/15\n",
      "306/306 - 1s - 2ms/step - loss: 0.1882 - mae: 0.1882 - val_loss: 0.1950 - val_mae: 0.1950\n",
      "\u001b[1m44/44\u001b[0m \u001b[32m━━━━━━━━━━━━━━━━━━━━\u001b[0m\u001b[37m\u001b[0m \u001b[1m0s\u001b[0m 4ms/step\n"
     ]
    },
    {
     "data": {
      "text/html": [
       "\n",
       "    <style>\n",
       "        .wandb-row {\n",
       "            display: flex;\n",
       "            flex-direction: row;\n",
       "            flex-wrap: wrap;\n",
       "            justify-content: flex-start;\n",
       "            width: 100%;\n",
       "        }\n",
       "        .wandb-col {\n",
       "            display: flex;\n",
       "            flex-direction: column;\n",
       "            flex-basis: 100%;\n",
       "            flex: 1;\n",
       "            padding: 10px;\n",
       "        }\n",
       "    </style>\n",
       "<div class=\"wandb-row\"><div class=\"wandb-col\"><h3>Run history:</h3><br/><table class=\"wandb\"><tr><td>Max Absolute Error (Test)</td><td>▁</td></tr><tr><td>Mean Absolute Error (Test)</td><td>▁</td></tr><tr><td>R²</td><td>▁</td></tr><tr><td>Test Loss</td><td>▁</td></tr><tr><td>Test MAE</td><td>▁</td></tr><tr><td>epoch</td><td>▁▁▂▃▃▃▄▅▅▅▆▇▇▇█</td></tr><tr><td>epoch/epoch</td><td>▁▁▂▃▃▃▄▅▅▅▆▇▇▇█</td></tr><tr><td>epoch/learning_rate</td><td>▁▁▁▁▁▁▁▁▁▁▁▁▁▁▁</td></tr><tr><td>epoch/loss</td><td>█▇▆▆▆▆▄▂▂▂▁▁▁▁▁</td></tr><tr><td>epoch/mae</td><td>█▇▆▆▆▆▄▂▂▂▁▁▁▁▁</td></tr><tr><td>epoch/val_loss</td><td>█▆▇▆▆▆▄▂▂▂▂▁▂▁▁</td></tr><tr><td>epoch/val_mae</td><td>█▆▇▆▆▆▄▂▂▂▂▁▂▁▁</td></tr><tr><td>train_loss</td><td>█▇▆▆▆▆▄▂▂▂▁▁▁▁▁</td></tr><tr><td>train_mae</td><td>█▇▆▆▆▆▄▂▂▂▁▁▁▁▁</td></tr><tr><td>val_loss</td><td>█▆▇▆▆▆▄▂▂▂▂▁▂▁▁</td></tr><tr><td>val_mae</td><td>█▆▇▆▆▆▄▂▂▂▂▁▂▁▁</td></tr></table><br/></div><div class=\"wandb-col\"><h3>Run summary:</h3><br/><table class=\"wandb\"><tr><td>Max Absolute Error (Test)</td><td>1.01097</td></tr><tr><td>Mean Absolute Error (Test)</td><td>0.17986</td></tr><tr><td>R²</td><td>0.39838</td></tr><tr><td>Test Loss</td><td>0.17986</td></tr><tr><td>Test MAE</td><td>0.17986</td></tr><tr><td>epoch</td><td>14</td></tr><tr><td>epoch/epoch</td><td>14</td></tr><tr><td>epoch/learning_rate</td><td>0.005</td></tr><tr><td>epoch/loss</td><td>0.18823</td></tr><tr><td>epoch/mae</td><td>0.18823</td></tr><tr><td>epoch/val_loss</td><td>0.19505</td></tr><tr><td>epoch/val_mae</td><td>0.19505</td></tr><tr><td>train_loss</td><td>0.18823</td></tr><tr><td>train_mae</td><td>0.18823</td></tr><tr><td>val_loss</td><td>0.19505</td></tr><tr><td>val_mae</td><td>0.19505</td></tr></table><br/></div></div>"
      ],
      "text/plain": [
       "<IPython.core.display.HTML object>"
      ]
     },
     "metadata": {},
     "output_type": "display_data"
    },
    {
     "data": {
      "text/html": [
       " View run <strong style=\"color:#cdcd00\">honest-sweep-43</strong> at: <a href='https://wandb.ai/walt_/dose-prediction/runs/oc1r936d' target=\"_blank\">https://wandb.ai/walt_/dose-prediction/runs/oc1r936d</a><br/> View project at: <a href='https://wandb.ai/walt_/dose-prediction' target=\"_blank\">https://wandb.ai/walt_/dose-prediction</a><br/>Synced 5 W&B file(s), 0 media file(s), 0 artifact file(s) and 0 other file(s)"
      ],
      "text/plain": [
       "<IPython.core.display.HTML object>"
      ]
     },
     "metadata": {},
     "output_type": "display_data"
    },
    {
     "data": {
      "text/html": [
       "Find logs at: <code>./wandb/run-20241124_153346-oc1r936d/logs</code>"
      ],
      "text/plain": [
       "<IPython.core.display.HTML object>"
      ]
     },
     "metadata": {},
     "output_type": "display_data"
    },
    {
     "name": "stderr",
     "output_type": "stream",
     "text": [
      "\u001b[34m\u001b[1mwandb\u001b[0m: Agent Starting Run: h3pt8jy6 with config:\n",
      "\u001b[34m\u001b[1mwandb\u001b[0m: \tactivation_function: tanh\n",
      "\u001b[34m\u001b[1mwandb\u001b[0m: \tbatch_size: 32\n",
      "\u001b[34m\u001b[1mwandb\u001b[0m: \tepochs: 15\n",
      "\u001b[34m\u001b[1mwandb\u001b[0m: \tinclude_edis: False\n",
      "\u001b[34m\u001b[1mwandb\u001b[0m: \tinclude_mgdis: False\n",
      "\u001b[34m\u001b[1mwandb\u001b[0m: \tinclude_mpc: True\n",
      "\u001b[34m\u001b[1mwandb\u001b[0m: \tinclude_sharpness: False\n",
      "\u001b[34m\u001b[1mwandb\u001b[0m: \tinclude_texture: False\n",
      "\u001b[34m\u001b[1mwandb\u001b[0m: \tlearning_rate: 0.005\n",
      "\u001b[34m\u001b[1mwandb\u001b[0m: \tloss_function: mean_absolute_error\n"
     ]
    },
    {
     "data": {
      "text/html": [
       "Tracking run with wandb version 0.18.7"
      ],
      "text/plain": [
       "<IPython.core.display.HTML object>"
      ]
     },
     "metadata": {},
     "output_type": "display_data"
    },
    {
     "data": {
      "text/html": [
       "Run data is saved locally in <code>/home/walt/FociNet/wandb/run-20241124_153401-h3pt8jy6</code>"
      ],
      "text/plain": [
       "<IPython.core.display.HTML object>"
      ]
     },
     "metadata": {},
     "output_type": "display_data"
    },
    {
     "data": {
      "text/html": [
       "Syncing run <strong><a href='https://wandb.ai/walt_/dose-prediction/runs/h3pt8jy6' target=\"_blank\">wandering-sweep-44</a></strong> to <a href='https://wandb.ai/walt_/dose-prediction' target=\"_blank\">Weights & Biases</a> (<a href='https://wandb.me/developer-guide' target=\"_blank\">docs</a>)<br/>Sweep page: <a href='https://wandb.ai/walt_/dose-prediction/sweeps/ijck5aqp' target=\"_blank\">https://wandb.ai/walt_/dose-prediction/sweeps/ijck5aqp</a>"
      ],
      "text/plain": [
       "<IPython.core.display.HTML object>"
      ]
     },
     "metadata": {},
     "output_type": "display_data"
    },
    {
     "data": {
      "text/html": [
       " View project at <a href='https://wandb.ai/walt_/dose-prediction' target=\"_blank\">https://wandb.ai/walt_/dose-prediction</a>"
      ],
      "text/plain": [
       "<IPython.core.display.HTML object>"
      ]
     },
     "metadata": {},
     "output_type": "display_data"
    },
    {
     "data": {
      "text/html": [
       " View sweep at <a href='https://wandb.ai/walt_/dose-prediction/sweeps/ijck5aqp' target=\"_blank\">https://wandb.ai/walt_/dose-prediction/sweeps/ijck5aqp</a>"
      ],
      "text/plain": [
       "<IPython.core.display.HTML object>"
      ]
     },
     "metadata": {},
     "output_type": "display_data"
    },
    {
     "data": {
      "text/html": [
       " View run at <a href='https://wandb.ai/walt_/dose-prediction/runs/h3pt8jy6' target=\"_blank\">https://wandb.ai/walt_/dose-prediction/runs/h3pt8jy6</a>"
      ],
      "text/plain": [
       "<IPython.core.display.HTML object>"
      ]
     },
     "metadata": {},
     "output_type": "display_data"
    },
    {
     "name": "stdout",
     "output_type": "stream",
     "text": [
      "Active Feature Config: {'activation_function': 'tanh', 'batch_size': 32, 'epochs': 15, 'include_edis': False, 'include_mgdis': False, 'include_mpc': True, 'include_sharpness': False, 'include_texture': False, 'learning_rate': 0.005, 'loss_function': 'mean_absolute_error'}\n",
      "Subset X_train shape: (9766, 2)\n",
      "Subset X_val shape: (2790, 2)\n",
      "Subset X_test shape: (1396, 2)\n",
      "Calculated input_dim: 2\n",
      "Epoch 1/15\n",
      "306/306 - 2s - 7ms/step - loss: 0.2988 - mae: 0.2988 - val_loss: 0.2886 - val_mae: 0.2886\n",
      "Epoch 2/15\n",
      "306/306 - 1s - 2ms/step - loss: 0.2911 - mae: 0.2911 - val_loss: 0.2795 - val_mae: 0.2795\n",
      "Epoch 3/15\n",
      "306/306 - 1s - 2ms/step - loss: 0.2641 - mae: 0.2641 - val_loss: 0.2448 - val_mae: 0.2448\n",
      "Epoch 4/15\n",
      "306/306 - 1s - 2ms/step - loss: 0.2458 - mae: 0.2458 - val_loss: 0.2445 - val_mae: 0.2445\n",
      "Epoch 5/15\n",
      "306/306 - 1s - 2ms/step - loss: 0.2416 - mae: 0.2416 - val_loss: 0.2418 - val_mae: 0.2418\n",
      "Epoch 6/15\n",
      "306/306 - 1s - 2ms/step - loss: 0.2367 - mae: 0.2367 - val_loss: 0.2355 - val_mae: 0.2355\n",
      "Epoch 7/15\n",
      "306/306 - 1s - 2ms/step - loss: 0.2370 - mae: 0.2370 - val_loss: 0.2451 - val_mae: 0.2451\n",
      "Epoch 8/15\n",
      "306/306 - 1s - 2ms/step - loss: 0.2359 - mae: 0.2359 - val_loss: 0.2379 - val_mae: 0.2379\n",
      "Epoch 9/15\n",
      "306/306 - 1s - 2ms/step - loss: 0.2346 - mae: 0.2346 - val_loss: 0.2339 - val_mae: 0.2339\n",
      "Epoch 10/15\n",
      "306/306 - 1s - 2ms/step - loss: 0.2357 - mae: 0.2357 - val_loss: 0.2302 - val_mae: 0.2302\n",
      "Epoch 11/15\n",
      "306/306 - 1s - 2ms/step - loss: 0.2332 - mae: 0.2332 - val_loss: 0.2322 - val_mae: 0.2322\n",
      "Epoch 12/15\n",
      "306/306 - 1s - 2ms/step - loss: 0.2331 - mae: 0.2331 - val_loss: 0.2320 - val_mae: 0.2320\n",
      "Epoch 13/15\n",
      "306/306 - 1s - 2ms/step - loss: 0.2334 - mae: 0.2334 - val_loss: 0.2290 - val_mae: 0.2290\n",
      "Epoch 14/15\n",
      "306/306 - 1s - 2ms/step - loss: 0.2327 - mae: 0.2327 - val_loss: 0.2358 - val_mae: 0.2358\n",
      "Epoch 15/15\n",
      "306/306 - 1s - 2ms/step - loss: 0.2326 - mae: 0.2326 - val_loss: 0.2273 - val_mae: 0.2273\n",
      "\u001b[1m44/44\u001b[0m \u001b[32m━━━━━━━━━━━━━━━━━━━━\u001b[0m\u001b[37m\u001b[0m \u001b[1m0s\u001b[0m 4ms/step\n"
     ]
    },
    {
     "data": {
      "text/html": [
       "\n",
       "    <style>\n",
       "        .wandb-row {\n",
       "            display: flex;\n",
       "            flex-direction: row;\n",
       "            flex-wrap: wrap;\n",
       "            justify-content: flex-start;\n",
       "            width: 100%;\n",
       "        }\n",
       "        .wandb-col {\n",
       "            display: flex;\n",
       "            flex-direction: column;\n",
       "            flex-basis: 100%;\n",
       "            flex: 1;\n",
       "            padding: 10px;\n",
       "        }\n",
       "    </style>\n",
       "<div class=\"wandb-row\"><div class=\"wandb-col\"><h3>Run history:</h3><br/><table class=\"wandb\"><tr><td>Max Absolute Error (Test)</td><td>▁</td></tr><tr><td>Mean Absolute Error (Test)</td><td>▁</td></tr><tr><td>R²</td><td>▁</td></tr><tr><td>Test Loss</td><td>▁</td></tr><tr><td>Test MAE</td><td>▁</td></tr><tr><td>epoch</td><td>▁▁▂▃▃▃▄▅▅▅▆▇▇▇█</td></tr><tr><td>epoch/epoch</td><td>▁▁▂▃▃▃▄▅▅▅▆▇▇▇█</td></tr><tr><td>epoch/learning_rate</td><td>▁▁▁▁▁▁▁▁▁▁▁▁▁▁▁</td></tr><tr><td>epoch/loss</td><td>█▇▄▂▂▁▁▁▁▁▁▁▁▁▁</td></tr><tr><td>epoch/mae</td><td>█▇▄▂▂▁▁▁▁▁▁▁▁▁▁</td></tr><tr><td>epoch/val_loss</td><td>█▇▃▃▃▂▃▂▂▁▂▂▁▂▁</td></tr><tr><td>epoch/val_mae</td><td>█▇▃▃▃▂▃▂▂▁▂▂▁▂▁</td></tr><tr><td>train_loss</td><td>█▇▄▂▂▁▁▁▁▁▁▁▁▁▁</td></tr><tr><td>train_mae</td><td>█▇▄▂▂▁▁▁▁▁▁▁▁▁▁</td></tr><tr><td>val_loss</td><td>█▇▃▃▃▂▃▂▂▁▂▂▁▂▁</td></tr><tr><td>val_mae</td><td>█▇▃▃▃▂▃▂▂▁▂▂▁▂▁</td></tr></table><br/></div><div class=\"wandb-col\"><h3>Run summary:</h3><br/><table class=\"wandb\"><tr><td>Max Absolute Error (Test)</td><td>1.00293</td></tr><tr><td>Mean Absolute Error (Test)</td><td>0.22597</td></tr><tr><td>R²</td><td>0.14478</td></tr><tr><td>Test Loss</td><td>0.22597</td></tr><tr><td>Test MAE</td><td>0.22597</td></tr><tr><td>epoch</td><td>14</td></tr><tr><td>epoch/epoch</td><td>14</td></tr><tr><td>epoch/learning_rate</td><td>0.005</td></tr><tr><td>epoch/loss</td><td>0.23264</td></tr><tr><td>epoch/mae</td><td>0.23264</td></tr><tr><td>epoch/val_loss</td><td>0.22729</td></tr><tr><td>epoch/val_mae</td><td>0.22729</td></tr><tr><td>train_loss</td><td>0.23264</td></tr><tr><td>train_mae</td><td>0.23264</td></tr><tr><td>val_loss</td><td>0.22729</td></tr><tr><td>val_mae</td><td>0.22729</td></tr></table><br/></div></div>"
      ],
      "text/plain": [
       "<IPython.core.display.HTML object>"
      ]
     },
     "metadata": {},
     "output_type": "display_data"
    },
    {
     "data": {
      "text/html": [
       " View run <strong style=\"color:#cdcd00\">wandering-sweep-44</strong> at: <a href='https://wandb.ai/walt_/dose-prediction/runs/h3pt8jy6' target=\"_blank\">https://wandb.ai/walt_/dose-prediction/runs/h3pt8jy6</a><br/> View project at: <a href='https://wandb.ai/walt_/dose-prediction' target=\"_blank\">https://wandb.ai/walt_/dose-prediction</a><br/>Synced 5 W&B file(s), 0 media file(s), 0 artifact file(s) and 0 other file(s)"
      ],
      "text/plain": [
       "<IPython.core.display.HTML object>"
      ]
     },
     "metadata": {},
     "output_type": "display_data"
    },
    {
     "data": {
      "text/html": [
       "Find logs at: <code>./wandb/run-20241124_153401-h3pt8jy6/logs</code>"
      ],
      "text/plain": [
       "<IPython.core.display.HTML object>"
      ]
     },
     "metadata": {},
     "output_type": "display_data"
    },
    {
     "name": "stderr",
     "output_type": "stream",
     "text": [
      "\u001b[34m\u001b[1mwandb\u001b[0m: Agent Starting Run: e5urhbus with config:\n",
      "\u001b[34m\u001b[1mwandb\u001b[0m: \tactivation_function: tanh\n",
      "\u001b[34m\u001b[1mwandb\u001b[0m: \tbatch_size: 32\n",
      "\u001b[34m\u001b[1mwandb\u001b[0m: \tepochs: 15\n",
      "\u001b[34m\u001b[1mwandb\u001b[0m: \tinclude_edis: False\n",
      "\u001b[34m\u001b[1mwandb\u001b[0m: \tinclude_mgdis: False\n",
      "\u001b[34m\u001b[1mwandb\u001b[0m: \tinclude_mpc: False\n",
      "\u001b[34m\u001b[1mwandb\u001b[0m: \tinclude_sharpness: True\n",
      "\u001b[34m\u001b[1mwandb\u001b[0m: \tinclude_texture: True\n",
      "\u001b[34m\u001b[1mwandb\u001b[0m: \tlearning_rate: 0.005\n",
      "\u001b[34m\u001b[1mwandb\u001b[0m: \tloss_function: mean_absolute_error\n"
     ]
    },
    {
     "data": {
      "text/html": [
       "Tracking run with wandb version 0.18.7"
      ],
      "text/plain": [
       "<IPython.core.display.HTML object>"
      ]
     },
     "metadata": {},
     "output_type": "display_data"
    },
    {
     "data": {
      "text/html": [
       "Run data is saved locally in <code>/home/walt/FociNet/wandb/run-20241124_153417-e5urhbus</code>"
      ],
      "text/plain": [
       "<IPython.core.display.HTML object>"
      ]
     },
     "metadata": {},
     "output_type": "display_data"
    },
    {
     "data": {
      "text/html": [
       "Syncing run <strong><a href='https://wandb.ai/walt_/dose-prediction/runs/e5urhbus' target=\"_blank\">desert-sweep-45</a></strong> to <a href='https://wandb.ai/walt_/dose-prediction' target=\"_blank\">Weights & Biases</a> (<a href='https://wandb.me/developer-guide' target=\"_blank\">docs</a>)<br/>Sweep page: <a href='https://wandb.ai/walt_/dose-prediction/sweeps/ijck5aqp' target=\"_blank\">https://wandb.ai/walt_/dose-prediction/sweeps/ijck5aqp</a>"
      ],
      "text/plain": [
       "<IPython.core.display.HTML object>"
      ]
     },
     "metadata": {},
     "output_type": "display_data"
    },
    {
     "data": {
      "text/html": [
       " View project at <a href='https://wandb.ai/walt_/dose-prediction' target=\"_blank\">https://wandb.ai/walt_/dose-prediction</a>"
      ],
      "text/plain": [
       "<IPython.core.display.HTML object>"
      ]
     },
     "metadata": {},
     "output_type": "display_data"
    },
    {
     "data": {
      "text/html": [
       " View sweep at <a href='https://wandb.ai/walt_/dose-prediction/sweeps/ijck5aqp' target=\"_blank\">https://wandb.ai/walt_/dose-prediction/sweeps/ijck5aqp</a>"
      ],
      "text/plain": [
       "<IPython.core.display.HTML object>"
      ]
     },
     "metadata": {},
     "output_type": "display_data"
    },
    {
     "data": {
      "text/html": [
       " View run at <a href='https://wandb.ai/walt_/dose-prediction/runs/e5urhbus' target=\"_blank\">https://wandb.ai/walt_/dose-prediction/runs/e5urhbus</a>"
      ],
      "text/plain": [
       "<IPython.core.display.HTML object>"
      ]
     },
     "metadata": {},
     "output_type": "display_data"
    },
    {
     "name": "stdout",
     "output_type": "stream",
     "text": [
      "Active Feature Config: {'activation_function': 'tanh', 'batch_size': 32, 'epochs': 15, 'include_edis': False, 'include_mgdis': False, 'include_mpc': False, 'include_sharpness': True, 'include_texture': True, 'learning_rate': 0.005, 'loss_function': 'mean_absolute_error'}\n",
      "Subset X_train shape: (9766, 3)\n",
      "Subset X_val shape: (2790, 3)\n",
      "Subset X_test shape: (1396, 3)\n",
      "Calculated input_dim: 3\n",
      "Epoch 1/15\n",
      "306/306 - 2s - 7ms/step - loss: 0.3031 - mae: 0.3031 - val_loss: 0.2998 - val_mae: 0.2998\n",
      "Epoch 2/15\n",
      "306/306 - 1s - 3ms/step - loss: 0.2715 - mae: 0.2715 - val_loss: 0.2504 - val_mae: 0.2504\n",
      "Epoch 3/15\n",
      "306/306 - 1s - 2ms/step - loss: 0.2520 - mae: 0.2520 - val_loss: 0.2423 - val_mae: 0.2423\n",
      "Epoch 4/15\n",
      "306/306 - 1s - 2ms/step - loss: 0.2454 - mae: 0.2454 - val_loss: 0.2398 - val_mae: 0.2398\n",
      "Epoch 5/15\n",
      "306/306 - 1s - 2ms/step - loss: 0.2413 - mae: 0.2413 - val_loss: 0.2398 - val_mae: 0.2398\n",
      "Epoch 6/15\n",
      "306/306 - 1s - 2ms/step - loss: 0.2362 - mae: 0.2362 - val_loss: 0.2319 - val_mae: 0.2319\n",
      "Epoch 7/15\n",
      "306/306 - 1s - 2ms/step - loss: 0.2326 - mae: 0.2326 - val_loss: 0.2307 - val_mae: 0.2307\n",
      "Epoch 8/15\n",
      "306/306 - 1s - 3ms/step - loss: 0.2331 - mae: 0.2331 - val_loss: 0.2298 - val_mae: 0.2298\n",
      "Epoch 9/15\n",
      "306/306 - 1s - 2ms/step - loss: 0.2314 - mae: 0.2314 - val_loss: 0.2265 - val_mae: 0.2265\n",
      "Epoch 10/15\n",
      "306/306 - 1s - 2ms/step - loss: 0.2310 - mae: 0.2310 - val_loss: 0.2257 - val_mae: 0.2257\n",
      "Epoch 11/15\n",
      "306/306 - 1s - 2ms/step - loss: 0.2303 - mae: 0.2303 - val_loss: 0.2307 - val_mae: 0.2307\n",
      "Epoch 12/15\n",
      "306/306 - 1s - 2ms/step - loss: 0.2318 - mae: 0.2318 - val_loss: 0.2306 - val_mae: 0.2306\n",
      "Epoch 13/15\n",
      "306/306 - 1s - 3ms/step - loss: 0.2286 - mae: 0.2286 - val_loss: 0.2357 - val_mae: 0.2357\n",
      "Epoch 14/15\n",
      "306/306 - 1s - 3ms/step - loss: 0.2289 - mae: 0.2289 - val_loss: 0.2244 - val_mae: 0.2244\n",
      "Epoch 15/15\n",
      "306/306 - 1s - 2ms/step - loss: 0.2265 - mae: 0.2265 - val_loss: 0.2275 - val_mae: 0.2275\n",
      "\u001b[1m44/44\u001b[0m \u001b[32m━━━━━━━━━━━━━━━━━━━━\u001b[0m\u001b[37m\u001b[0m \u001b[1m0s\u001b[0m 4ms/step\n"
     ]
    },
    {
     "data": {
      "text/html": [
       "\n",
       "    <style>\n",
       "        .wandb-row {\n",
       "            display: flex;\n",
       "            flex-direction: row;\n",
       "            flex-wrap: wrap;\n",
       "            justify-content: flex-start;\n",
       "            width: 100%;\n",
       "        }\n",
       "        .wandb-col {\n",
       "            display: flex;\n",
       "            flex-direction: column;\n",
       "            flex-basis: 100%;\n",
       "            flex: 1;\n",
       "            padding: 10px;\n",
       "        }\n",
       "    </style>\n",
       "<div class=\"wandb-row\"><div class=\"wandb-col\"><h3>Run history:</h3><br/><table class=\"wandb\"><tr><td>Max Absolute Error (Test)</td><td>▁</td></tr><tr><td>Mean Absolute Error (Test)</td><td>▁</td></tr><tr><td>R²</td><td>▁</td></tr><tr><td>Test Loss</td><td>▁</td></tr><tr><td>Test MAE</td><td>▁</td></tr><tr><td>epoch</td><td>▁▁▂▃▃▃▄▅▅▅▆▇▇▇█</td></tr><tr><td>epoch/epoch</td><td>▁▁▂▃▃▃▄▅▅▅▆▇▇▇█</td></tr><tr><td>epoch/learning_rate</td><td>▁▁▁▁▁▁▁▁▁▁▁▁▁▁▁</td></tr><tr><td>epoch/loss</td><td>█▅▃▃▂▂▂▂▁▁▁▁▁▁▁</td></tr><tr><td>epoch/mae</td><td>█▅▃▃▂▂▂▂▁▁▁▁▁▁▁</td></tr><tr><td>epoch/val_loss</td><td>█▃▃▂▂▂▂▂▁▁▂▂▂▁▁</td></tr><tr><td>epoch/val_mae</td><td>█▃▃▂▂▂▂▂▁▁▂▂▂▁▁</td></tr><tr><td>train_loss</td><td>█▅▃▃▂▂▂▂▁▁▁▁▁▁▁</td></tr><tr><td>train_mae</td><td>█▅▃▃▂▂▂▂▁▁▁▁▁▁▁</td></tr><tr><td>val_loss</td><td>█▃▃▂▂▂▂▂▁▁▂▂▂▁▁</td></tr><tr><td>val_mae</td><td>█▃▃▂▂▂▂▂▁▁▂▂▂▁▁</td></tr></table><br/></div><div class=\"wandb-col\"><h3>Run summary:</h3><br/><table class=\"wandb\"><tr><td>Max Absolute Error (Test)</td><td>1.01144</td></tr><tr><td>Mean Absolute Error (Test)</td><td>0.2278</td></tr><tr><td>R²</td><td>0.11696</td></tr><tr><td>Test Loss</td><td>0.2278</td></tr><tr><td>Test MAE</td><td>0.2278</td></tr><tr><td>epoch</td><td>14</td></tr><tr><td>epoch/epoch</td><td>14</td></tr><tr><td>epoch/learning_rate</td><td>0.005</td></tr><tr><td>epoch/loss</td><td>0.2265</td></tr><tr><td>epoch/mae</td><td>0.2265</td></tr><tr><td>epoch/val_loss</td><td>0.22751</td></tr><tr><td>epoch/val_mae</td><td>0.22751</td></tr><tr><td>train_loss</td><td>0.2265</td></tr><tr><td>train_mae</td><td>0.2265</td></tr><tr><td>val_loss</td><td>0.22751</td></tr><tr><td>val_mae</td><td>0.22751</td></tr></table><br/></div></div>"
      ],
      "text/plain": [
       "<IPython.core.display.HTML object>"
      ]
     },
     "metadata": {},
     "output_type": "display_data"
    },
    {
     "data": {
      "text/html": [
       " View run <strong style=\"color:#cdcd00\">desert-sweep-45</strong> at: <a href='https://wandb.ai/walt_/dose-prediction/runs/e5urhbus' target=\"_blank\">https://wandb.ai/walt_/dose-prediction/runs/e5urhbus</a><br/> View project at: <a href='https://wandb.ai/walt_/dose-prediction' target=\"_blank\">https://wandb.ai/walt_/dose-prediction</a><br/>Synced 5 W&B file(s), 0 media file(s), 0 artifact file(s) and 0 other file(s)"
      ],
      "text/plain": [
       "<IPython.core.display.HTML object>"
      ]
     },
     "metadata": {},
     "output_type": "display_data"
    },
    {
     "data": {
      "text/html": [
       "Find logs at: <code>./wandb/run-20241124_153417-e5urhbus/logs</code>"
      ],
      "text/plain": [
       "<IPython.core.display.HTML object>"
      ]
     },
     "metadata": {},
     "output_type": "display_data"
    },
    {
     "name": "stderr",
     "output_type": "stream",
     "text": [
      "\u001b[34m\u001b[1mwandb\u001b[0m: Agent Starting Run: jbqtzyo3 with config:\n",
      "\u001b[34m\u001b[1mwandb\u001b[0m: \tactivation_function: tanh\n",
      "\u001b[34m\u001b[1mwandb\u001b[0m: \tbatch_size: 32\n",
      "\u001b[34m\u001b[1mwandb\u001b[0m: \tepochs: 15\n",
      "\u001b[34m\u001b[1mwandb\u001b[0m: \tinclude_edis: False\n",
      "\u001b[34m\u001b[1mwandb\u001b[0m: \tinclude_mgdis: False\n",
      "\u001b[34m\u001b[1mwandb\u001b[0m: \tinclude_mpc: False\n",
      "\u001b[34m\u001b[1mwandb\u001b[0m: \tinclude_sharpness: True\n",
      "\u001b[34m\u001b[1mwandb\u001b[0m: \tinclude_texture: False\n",
      "\u001b[34m\u001b[1mwandb\u001b[0m: \tlearning_rate: 0.005\n",
      "\u001b[34m\u001b[1mwandb\u001b[0m: \tloss_function: mean_absolute_error\n"
     ]
    },
    {
     "data": {
      "text/html": [
       "Tracking run with wandb version 0.18.7"
      ],
      "text/plain": [
       "<IPython.core.display.HTML object>"
      ]
     },
     "metadata": {},
     "output_type": "display_data"
    },
    {
     "data": {
      "text/html": [
       "Run data is saved locally in <code>/home/walt/FociNet/wandb/run-20241124_153437-jbqtzyo3</code>"
      ],
      "text/plain": [
       "<IPython.core.display.HTML object>"
      ]
     },
     "metadata": {},
     "output_type": "display_data"
    },
    {
     "data": {
      "text/html": [
       "Syncing run <strong><a href='https://wandb.ai/walt_/dose-prediction/runs/jbqtzyo3' target=\"_blank\">rose-sweep-46</a></strong> to <a href='https://wandb.ai/walt_/dose-prediction' target=\"_blank\">Weights & Biases</a> (<a href='https://wandb.me/developer-guide' target=\"_blank\">docs</a>)<br/>Sweep page: <a href='https://wandb.ai/walt_/dose-prediction/sweeps/ijck5aqp' target=\"_blank\">https://wandb.ai/walt_/dose-prediction/sweeps/ijck5aqp</a>"
      ],
      "text/plain": [
       "<IPython.core.display.HTML object>"
      ]
     },
     "metadata": {},
     "output_type": "display_data"
    },
    {
     "data": {
      "text/html": [
       " View project at <a href='https://wandb.ai/walt_/dose-prediction' target=\"_blank\">https://wandb.ai/walt_/dose-prediction</a>"
      ],
      "text/plain": [
       "<IPython.core.display.HTML object>"
      ]
     },
     "metadata": {},
     "output_type": "display_data"
    },
    {
     "data": {
      "text/html": [
       " View sweep at <a href='https://wandb.ai/walt_/dose-prediction/sweeps/ijck5aqp' target=\"_blank\">https://wandb.ai/walt_/dose-prediction/sweeps/ijck5aqp</a>"
      ],
      "text/plain": [
       "<IPython.core.display.HTML object>"
      ]
     },
     "metadata": {},
     "output_type": "display_data"
    },
    {
     "data": {
      "text/html": [
       " View run at <a href='https://wandb.ai/walt_/dose-prediction/runs/jbqtzyo3' target=\"_blank\">https://wandb.ai/walt_/dose-prediction/runs/jbqtzyo3</a>"
      ],
      "text/plain": [
       "<IPython.core.display.HTML object>"
      ]
     },
     "metadata": {},
     "output_type": "display_data"
    },
    {
     "name": "stdout",
     "output_type": "stream",
     "text": [
      "Active Feature Config: {'activation_function': 'tanh', 'batch_size': 32, 'epochs': 15, 'include_edis': False, 'include_mgdis': False, 'include_mpc': False, 'include_sharpness': True, 'include_texture': False, 'learning_rate': 0.005, 'loss_function': 'mean_absolute_error'}\n",
      "Subset X_train shape: (9766, 1)\n",
      "Subset X_val shape: (2790, 1)\n",
      "Subset X_test shape: (1396, 1)\n",
      "Calculated input_dim: 1\n",
      "Epoch 1/15\n",
      "306/306 - 2s - 7ms/step - loss: 0.2971 - mae: 0.2971 - val_loss: 0.2905 - val_mae: 0.2905\n",
      "Epoch 2/15\n",
      "306/306 - 1s - 2ms/step - loss: 0.2951 - mae: 0.2951 - val_loss: 0.2965 - val_mae: 0.2965\n",
      "Epoch 3/15\n",
      "306/306 - 1s - 2ms/step - loss: 0.2951 - mae: 0.2951 - val_loss: 0.2902 - val_mae: 0.2902\n",
      "Epoch 4/15\n",
      "306/306 - 1s - 2ms/step - loss: 0.2950 - mae: 0.2950 - val_loss: 0.2897 - val_mae: 0.2897\n",
      "Epoch 5/15\n",
      "306/306 - 1s - 2ms/step - loss: 0.2953 - mae: 0.2953 - val_loss: 0.2910 - val_mae: 0.2910\n",
      "Epoch 6/15\n",
      "306/306 - 1s - 2ms/step - loss: 0.2948 - mae: 0.2948 - val_loss: 0.2907 - val_mae: 0.2907\n",
      "Epoch 7/15\n",
      "306/306 - 1s - 2ms/step - loss: 0.2948 - mae: 0.2948 - val_loss: 0.2921 - val_mae: 0.2921\n",
      "Epoch 8/15\n",
      "306/306 - 1s - 2ms/step - loss: 0.2701 - mae: 0.2701 - val_loss: 0.2431 - val_mae: 0.2431\n",
      "Epoch 9/15\n",
      "306/306 - 1s - 2ms/step - loss: 0.2477 - mae: 0.2477 - val_loss: 0.2410 - val_mae: 0.2410\n",
      "Epoch 10/15\n",
      "306/306 - 1s - 2ms/step - loss: 0.2400 - mae: 0.2400 - val_loss: 0.2383 - val_mae: 0.2383\n",
      "Epoch 11/15\n",
      "306/306 - 1s - 2ms/step - loss: 0.2401 - mae: 0.2401 - val_loss: 0.2374 - val_mae: 0.2374\n",
      "Epoch 12/15\n",
      "306/306 - 1s - 2ms/step - loss: 0.2385 - mae: 0.2385 - val_loss: 0.2366 - val_mae: 0.2366\n",
      "Epoch 13/15\n",
      "306/306 - 1s - 2ms/step - loss: 0.2376 - mae: 0.2376 - val_loss: 0.2390 - val_mae: 0.2390\n",
      "Epoch 14/15\n",
      "306/306 - 1s - 2ms/step - loss: 0.2368 - mae: 0.2368 - val_loss: 0.2343 - val_mae: 0.2343\n",
      "Epoch 15/15\n",
      "306/306 - 1s - 2ms/step - loss: 0.2359 - mae: 0.2359 - val_loss: 0.2365 - val_mae: 0.2365\n",
      "\u001b[1m44/44\u001b[0m \u001b[32m━━━━━━━━━━━━━━━━━━━━\u001b[0m\u001b[37m\u001b[0m \u001b[1m0s\u001b[0m 4ms/step\n"
     ]
    },
    {
     "data": {
      "text/html": [
       "\n",
       "    <style>\n",
       "        .wandb-row {\n",
       "            display: flex;\n",
       "            flex-direction: row;\n",
       "            flex-wrap: wrap;\n",
       "            justify-content: flex-start;\n",
       "            width: 100%;\n",
       "        }\n",
       "        .wandb-col {\n",
       "            display: flex;\n",
       "            flex-direction: column;\n",
       "            flex-basis: 100%;\n",
       "            flex: 1;\n",
       "            padding: 10px;\n",
       "        }\n",
       "    </style>\n",
       "<div class=\"wandb-row\"><div class=\"wandb-col\"><h3>Run history:</h3><br/><table class=\"wandb\"><tr><td>Max Absolute Error (Test)</td><td>▁</td></tr><tr><td>Mean Absolute Error (Test)</td><td>▁</td></tr><tr><td>R²</td><td>▁</td></tr><tr><td>Test Loss</td><td>▁</td></tr><tr><td>Test MAE</td><td>▁</td></tr><tr><td>epoch</td><td>▁▁▂▃▃▃▄▅▅▅▆▇▇▇█</td></tr><tr><td>epoch/epoch</td><td>▁▁▂▃▃▃▄▅▅▅▆▇▇▇█</td></tr><tr><td>epoch/learning_rate</td><td>▁▁▁▁▁▁▁▁▁▁▁▁▁▁▁</td></tr><tr><td>epoch/loss</td><td>███████▅▂▁▁▁▁▁▁</td></tr><tr><td>epoch/mae</td><td>███████▅▂▁▁▁▁▁▁</td></tr><tr><td>epoch/val_loss</td><td>▇█▇▇▇▇█▂▂▁▁▁▂▁▁</td></tr><tr><td>epoch/val_mae</td><td>▇█▇▇▇▇█▂▂▁▁▁▂▁▁</td></tr><tr><td>train_loss</td><td>███████▅▂▁▁▁▁▁▁</td></tr><tr><td>train_mae</td><td>███████▅▂▁▁▁▁▁▁</td></tr><tr><td>val_loss</td><td>▇█▇▇▇▇█▂▂▁▁▁▂▁▁</td></tr><tr><td>val_mae</td><td>▇█▇▇▇▇█▂▂▁▁▁▂▁▁</td></tr></table><br/></div><div class=\"wandb-col\"><h3>Run summary:</h3><br/><table class=\"wandb\"><tr><td>Max Absolute Error (Test)</td><td>0.99621</td></tr><tr><td>Mean Absolute Error (Test)</td><td>0.23721</td></tr><tr><td>R²</td><td>0.11374</td></tr><tr><td>Test Loss</td><td>0.23721</td></tr><tr><td>Test MAE</td><td>0.23721</td></tr><tr><td>epoch</td><td>14</td></tr><tr><td>epoch/epoch</td><td>14</td></tr><tr><td>epoch/learning_rate</td><td>0.005</td></tr><tr><td>epoch/loss</td><td>0.23589</td></tr><tr><td>epoch/mae</td><td>0.23589</td></tr><tr><td>epoch/val_loss</td><td>0.23652</td></tr><tr><td>epoch/val_mae</td><td>0.23652</td></tr><tr><td>train_loss</td><td>0.23589</td></tr><tr><td>train_mae</td><td>0.23589</td></tr><tr><td>val_loss</td><td>0.23652</td></tr><tr><td>val_mae</td><td>0.23652</td></tr></table><br/></div></div>"
      ],
      "text/plain": [
       "<IPython.core.display.HTML object>"
      ]
     },
     "metadata": {},
     "output_type": "display_data"
    },
    {
     "data": {
      "text/html": [
       " View run <strong style=\"color:#cdcd00\">rose-sweep-46</strong> at: <a href='https://wandb.ai/walt_/dose-prediction/runs/jbqtzyo3' target=\"_blank\">https://wandb.ai/walt_/dose-prediction/runs/jbqtzyo3</a><br/> View project at: <a href='https://wandb.ai/walt_/dose-prediction' target=\"_blank\">https://wandb.ai/walt_/dose-prediction</a><br/>Synced 5 W&B file(s), 0 media file(s), 0 artifact file(s) and 0 other file(s)"
      ],
      "text/plain": [
       "<IPython.core.display.HTML object>"
      ]
     },
     "metadata": {},
     "output_type": "display_data"
    },
    {
     "data": {
      "text/html": [
       "Find logs at: <code>./wandb/run-20241124_153437-jbqtzyo3/logs</code>"
      ],
      "text/plain": [
       "<IPython.core.display.HTML object>"
      ]
     },
     "metadata": {},
     "output_type": "display_data"
    },
    {
     "name": "stderr",
     "output_type": "stream",
     "text": [
      "\u001b[34m\u001b[1mwandb\u001b[0m: Agent Starting Run: x332gki7 with config:\n",
      "\u001b[34m\u001b[1mwandb\u001b[0m: \tactivation_function: tanh\n",
      "\u001b[34m\u001b[1mwandb\u001b[0m: \tbatch_size: 32\n",
      "\u001b[34m\u001b[1mwandb\u001b[0m: \tepochs: 15\n",
      "\u001b[34m\u001b[1mwandb\u001b[0m: \tinclude_edis: False\n",
      "\u001b[34m\u001b[1mwandb\u001b[0m: \tinclude_mgdis: False\n",
      "\u001b[34m\u001b[1mwandb\u001b[0m: \tinclude_mpc: False\n",
      "\u001b[34m\u001b[1mwandb\u001b[0m: \tinclude_sharpness: False\n",
      "\u001b[34m\u001b[1mwandb\u001b[0m: \tinclude_texture: True\n",
      "\u001b[34m\u001b[1mwandb\u001b[0m: \tlearning_rate: 0.005\n",
      "\u001b[34m\u001b[1mwandb\u001b[0m: \tloss_function: mean_absolute_error\n"
     ]
    },
    {
     "data": {
      "text/html": [
       "Tracking run with wandb version 0.18.7"
      ],
      "text/plain": [
       "<IPython.core.display.HTML object>"
      ]
     },
     "metadata": {},
     "output_type": "display_data"
    },
    {
     "data": {
      "text/html": [
       "Run data is saved locally in <code>/home/walt/FociNet/wandb/run-20241124_153453-x332gki7</code>"
      ],
      "text/plain": [
       "<IPython.core.display.HTML object>"
      ]
     },
     "metadata": {},
     "output_type": "display_data"
    },
    {
     "data": {
      "text/html": [
       "Syncing run <strong><a href='https://wandb.ai/walt_/dose-prediction/runs/x332gki7' target=\"_blank\">good-sweep-47</a></strong> to <a href='https://wandb.ai/walt_/dose-prediction' target=\"_blank\">Weights & Biases</a> (<a href='https://wandb.me/developer-guide' target=\"_blank\">docs</a>)<br/>Sweep page: <a href='https://wandb.ai/walt_/dose-prediction/sweeps/ijck5aqp' target=\"_blank\">https://wandb.ai/walt_/dose-prediction/sweeps/ijck5aqp</a>"
      ],
      "text/plain": [
       "<IPython.core.display.HTML object>"
      ]
     },
     "metadata": {},
     "output_type": "display_data"
    },
    {
     "data": {
      "text/html": [
       " View project at <a href='https://wandb.ai/walt_/dose-prediction' target=\"_blank\">https://wandb.ai/walt_/dose-prediction</a>"
      ],
      "text/plain": [
       "<IPython.core.display.HTML object>"
      ]
     },
     "metadata": {},
     "output_type": "display_data"
    },
    {
     "data": {
      "text/html": [
       " View sweep at <a href='https://wandb.ai/walt_/dose-prediction/sweeps/ijck5aqp' target=\"_blank\">https://wandb.ai/walt_/dose-prediction/sweeps/ijck5aqp</a>"
      ],
      "text/plain": [
       "<IPython.core.display.HTML object>"
      ]
     },
     "metadata": {},
     "output_type": "display_data"
    },
    {
     "data": {
      "text/html": [
       " View run at <a href='https://wandb.ai/walt_/dose-prediction/runs/x332gki7' target=\"_blank\">https://wandb.ai/walt_/dose-prediction/runs/x332gki7</a>"
      ],
      "text/plain": [
       "<IPython.core.display.HTML object>"
      ]
     },
     "metadata": {},
     "output_type": "display_data"
    },
    {
     "name": "stdout",
     "output_type": "stream",
     "text": [
      "Active Feature Config: {'activation_function': 'tanh', 'batch_size': 32, 'epochs': 15, 'include_edis': False, 'include_mgdis': False, 'include_mpc': False, 'include_sharpness': False, 'include_texture': True, 'learning_rate': 0.005, 'loss_function': 'mean_absolute_error'}\n",
      "Subset X_train shape: (9766, 2)\n",
      "Subset X_val shape: (2790, 2)\n",
      "Subset X_test shape: (1396, 2)\n",
      "Calculated input_dim: 2\n",
      "Epoch 1/15\n",
      "306/306 - 2s - 7ms/step - loss: 0.3029 - mae: 0.3029 - val_loss: 0.2990 - val_mae: 0.2990\n",
      "Epoch 2/15\n",
      "306/306 - 1s - 2ms/step - loss: 0.2932 - mae: 0.2932 - val_loss: 0.2912 - val_mae: 0.2912\n",
      "Epoch 3/15\n",
      "306/306 - 1s - 2ms/step - loss: 0.2830 - mae: 0.2830 - val_loss: 0.2548 - val_mae: 0.2548\n",
      "Epoch 4/15\n",
      "306/306 - 1s - 2ms/step - loss: 0.2547 - mae: 0.2547 - val_loss: 0.2453 - val_mae: 0.2453\n",
      "Epoch 5/15\n",
      "306/306 - 1s - 2ms/step - loss: 0.2446 - mae: 0.2446 - val_loss: 0.2492 - val_mae: 0.2492\n",
      "Epoch 6/15\n",
      "306/306 - 1s - 2ms/step - loss: 0.2421 - mae: 0.2421 - val_loss: 0.2374 - val_mae: 0.2374\n",
      "Epoch 7/15\n",
      "306/306 - 1s - 2ms/step - loss: 0.2367 - mae: 0.2367 - val_loss: 0.2335 - val_mae: 0.2335\n",
      "Epoch 8/15\n",
      "306/306 - 1s - 2ms/step - loss: 0.2380 - mae: 0.2380 - val_loss: 0.2383 - val_mae: 0.2383\n",
      "Epoch 9/15\n",
      "306/306 - 1s - 2ms/step - loss: 0.2354 - mae: 0.2354 - val_loss: 0.2302 - val_mae: 0.2302\n",
      "Epoch 10/15\n",
      "306/306 - 1s - 2ms/step - loss: 0.2340 - mae: 0.2340 - val_loss: 0.2312 - val_mae: 0.2312\n",
      "Epoch 11/15\n",
      "306/306 - 1s - 2ms/step - loss: 0.2332 - mae: 0.2332 - val_loss: 0.2359 - val_mae: 0.2359\n",
      "Epoch 12/15\n",
      "306/306 - 1s - 2ms/step - loss: 0.2307 - mae: 0.2307 - val_loss: 0.2461 - val_mae: 0.2461\n",
      "Epoch 13/15\n",
      "306/306 - 1s - 2ms/step - loss: 0.2328 - mae: 0.2328 - val_loss: 0.2343 - val_mae: 0.2343\n",
      "Epoch 14/15\n",
      "306/306 - 1s - 2ms/step - loss: 0.2328 - mae: 0.2328 - val_loss: 0.2281 - val_mae: 0.2281\n",
      "Epoch 15/15\n",
      "306/306 - 1s - 2ms/step - loss: 0.2326 - mae: 0.2326 - val_loss: 0.2333 - val_mae: 0.2333\n",
      "\u001b[1m44/44\u001b[0m \u001b[32m━━━━━━━━━━━━━━━━━━━━\u001b[0m\u001b[37m\u001b[0m \u001b[1m0s\u001b[0m 4ms/step\n"
     ]
    },
    {
     "data": {
      "text/html": [
       "\n",
       "    <style>\n",
       "        .wandb-row {\n",
       "            display: flex;\n",
       "            flex-direction: row;\n",
       "            flex-wrap: wrap;\n",
       "            justify-content: flex-start;\n",
       "            width: 100%;\n",
       "        }\n",
       "        .wandb-col {\n",
       "            display: flex;\n",
       "            flex-direction: column;\n",
       "            flex-basis: 100%;\n",
       "            flex: 1;\n",
       "            padding: 10px;\n",
       "        }\n",
       "    </style>\n",
       "<div class=\"wandb-row\"><div class=\"wandb-col\"><h3>Run history:</h3><br/><table class=\"wandb\"><tr><td>Max Absolute Error (Test)</td><td>▁</td></tr><tr><td>Mean Absolute Error (Test)</td><td>▁</td></tr><tr><td>R²</td><td>▁</td></tr><tr><td>Test Loss</td><td>▁</td></tr><tr><td>Test MAE</td><td>▁</td></tr><tr><td>epoch</td><td>▁▁▂▃▃▃▄▅▅▅▆▇▇▇█</td></tr><tr><td>epoch/epoch</td><td>▁▁▂▃▃▃▄▅▅▅▆▇▇▇█</td></tr><tr><td>epoch/learning_rate</td><td>▁▁▁▁▁▁▁▁▁▁▁▁▁▁▁</td></tr><tr><td>epoch/loss</td><td>█▇▆▃▂▂▂▂▁▁▁▁▁▁▁</td></tr><tr><td>epoch/mae</td><td>█▇▆▃▂▂▂▂▁▁▁▁▁▁▁</td></tr><tr><td>epoch/val_loss</td><td>█▇▄▃▃▂▂▂▁▁▂▃▂▁▂</td></tr><tr><td>epoch/val_mae</td><td>█▇▄▃▃▂▂▂▁▁▂▃▂▁▂</td></tr><tr><td>train_loss</td><td>█▇▆▃▂▂▂▂▁▁▁▁▁▁▁</td></tr><tr><td>train_mae</td><td>█▇▆▃▂▂▂▂▁▁▁▁▁▁▁</td></tr><tr><td>val_loss</td><td>█▇▄▃▃▂▂▂▁▁▂▃▂▁▂</td></tr><tr><td>val_mae</td><td>█▇▄▃▃▂▂▂▁▁▂▃▂▁▂</td></tr></table><br/></div><div class=\"wandb-col\"><h3>Run summary:</h3><br/><table class=\"wandb\"><tr><td>Max Absolute Error (Test)</td><td>0.98922</td></tr><tr><td>Mean Absolute Error (Test)</td><td>0.23373</td></tr><tr><td>R²</td><td>0.15178</td></tr><tr><td>Test Loss</td><td>0.23373</td></tr><tr><td>Test MAE</td><td>0.23373</td></tr><tr><td>epoch</td><td>14</td></tr><tr><td>epoch/epoch</td><td>14</td></tr><tr><td>epoch/learning_rate</td><td>0.005</td></tr><tr><td>epoch/loss</td><td>0.23258</td></tr><tr><td>epoch/mae</td><td>0.23258</td></tr><tr><td>epoch/val_loss</td><td>0.23326</td></tr><tr><td>epoch/val_mae</td><td>0.23326</td></tr><tr><td>train_loss</td><td>0.23258</td></tr><tr><td>train_mae</td><td>0.23258</td></tr><tr><td>val_loss</td><td>0.23326</td></tr><tr><td>val_mae</td><td>0.23326</td></tr></table><br/></div></div>"
      ],
      "text/plain": [
       "<IPython.core.display.HTML object>"
      ]
     },
     "metadata": {},
     "output_type": "display_data"
    },
    {
     "data": {
      "text/html": [
       " View run <strong style=\"color:#cdcd00\">good-sweep-47</strong> at: <a href='https://wandb.ai/walt_/dose-prediction/runs/x332gki7' target=\"_blank\">https://wandb.ai/walt_/dose-prediction/runs/x332gki7</a><br/> View project at: <a href='https://wandb.ai/walt_/dose-prediction' target=\"_blank\">https://wandb.ai/walt_/dose-prediction</a><br/>Synced 5 W&B file(s), 0 media file(s), 0 artifact file(s) and 0 other file(s)"
      ],
      "text/plain": [
       "<IPython.core.display.HTML object>"
      ]
     },
     "metadata": {},
     "output_type": "display_data"
    },
    {
     "data": {
      "text/html": [
       "Find logs at: <code>./wandb/run-20241124_153453-x332gki7/logs</code>"
      ],
      "text/plain": [
       "<IPython.core.display.HTML object>"
      ]
     },
     "metadata": {},
     "output_type": "display_data"
    },
    {
     "name": "stderr",
     "output_type": "stream",
     "text": [
      "\u001b[34m\u001b[1mwandb\u001b[0m: Agent Starting Run: 0ewg6e1o with config:\n",
      "\u001b[34m\u001b[1mwandb\u001b[0m: \tactivation_function: tanh\n",
      "\u001b[34m\u001b[1mwandb\u001b[0m: \tbatch_size: 32\n",
      "\u001b[34m\u001b[1mwandb\u001b[0m: \tepochs: 15\n",
      "\u001b[34m\u001b[1mwandb\u001b[0m: \tinclude_edis: False\n",
      "\u001b[34m\u001b[1mwandb\u001b[0m: \tinclude_mgdis: False\n",
      "\u001b[34m\u001b[1mwandb\u001b[0m: \tinclude_mpc: False\n",
      "\u001b[34m\u001b[1mwandb\u001b[0m: \tinclude_sharpness: False\n",
      "\u001b[34m\u001b[1mwandb\u001b[0m: \tinclude_texture: False\n",
      "\u001b[34m\u001b[1mwandb\u001b[0m: \tlearning_rate: 0.005\n",
      "\u001b[34m\u001b[1mwandb\u001b[0m: \tloss_function: mean_absolute_error\n"
     ]
    },
    {
     "data": {
      "text/html": [
       "Tracking run with wandb version 0.18.7"
      ],
      "text/plain": [
       "<IPython.core.display.HTML object>"
      ]
     },
     "metadata": {},
     "output_type": "display_data"
    },
    {
     "data": {
      "text/html": [
       "Run data is saved locally in <code>/home/walt/FociNet/wandb/run-20241124_153508-0ewg6e1o</code>"
      ],
      "text/plain": [
       "<IPython.core.display.HTML object>"
      ]
     },
     "metadata": {},
     "output_type": "display_data"
    },
    {
     "data": {
      "text/html": [
       "Syncing run <strong><a href='https://wandb.ai/walt_/dose-prediction/runs/0ewg6e1o' target=\"_blank\">devoted-sweep-48</a></strong> to <a href='https://wandb.ai/walt_/dose-prediction' target=\"_blank\">Weights & Biases</a> (<a href='https://wandb.me/developer-guide' target=\"_blank\">docs</a>)<br/>Sweep page: <a href='https://wandb.ai/walt_/dose-prediction/sweeps/ijck5aqp' target=\"_blank\">https://wandb.ai/walt_/dose-prediction/sweeps/ijck5aqp</a>"
      ],
      "text/plain": [
       "<IPython.core.display.HTML object>"
      ]
     },
     "metadata": {},
     "output_type": "display_data"
    },
    {
     "data": {
      "text/html": [
       " View project at <a href='https://wandb.ai/walt_/dose-prediction' target=\"_blank\">https://wandb.ai/walt_/dose-prediction</a>"
      ],
      "text/plain": [
       "<IPython.core.display.HTML object>"
      ]
     },
     "metadata": {},
     "output_type": "display_data"
    },
    {
     "data": {
      "text/html": [
       " View sweep at <a href='https://wandb.ai/walt_/dose-prediction/sweeps/ijck5aqp' target=\"_blank\">https://wandb.ai/walt_/dose-prediction/sweeps/ijck5aqp</a>"
      ],
      "text/plain": [
       "<IPython.core.display.HTML object>"
      ]
     },
     "metadata": {},
     "output_type": "display_data"
    },
    {
     "data": {
      "text/html": [
       " View run at <a href='https://wandb.ai/walt_/dose-prediction/runs/0ewg6e1o' target=\"_blank\">https://wandb.ai/walt_/dose-prediction/runs/0ewg6e1o</a>"
      ],
      "text/plain": [
       "<IPython.core.display.HTML object>"
      ]
     },
     "metadata": {},
     "output_type": "display_data"
    },
    {
     "name": "stdout",
     "output_type": "stream",
     "text": [
      "Active Feature Config: {'activation_function': 'tanh', 'batch_size': 32, 'epochs': 15, 'include_edis': False, 'include_mgdis': False, 'include_mpc': False, 'include_sharpness': False, 'include_texture': False, 'learning_rate': 0.005, 'loss_function': 'mean_absolute_error'}\n",
      "Subset X_train shape: (9766, 0)\n",
      "Subset X_val shape: (2790, 0)\n",
      "Subset X_test shape: (1396, 0)\n",
      "Calculated input_dim: 0\n",
      "Epoch 1/15\n",
      "306/306 - 2s - 8ms/step - loss: 0.3225 - mae: 0.3225 - val_loss: 0.3250 - val_mae: 0.3250\n",
      "Epoch 2/15\n",
      "306/306 - 1s - 2ms/step - loss: 0.3201 - mae: 0.3201 - val_loss: 0.3254 - val_mae: 0.3254\n",
      "Epoch 3/15\n",
      "306/306 - 1s - 2ms/step - loss: 0.3199 - mae: 0.3199 - val_loss: 0.3249 - val_mae: 0.3249\n",
      "Epoch 4/15\n",
      "306/306 - 1s - 2ms/step - loss: 0.3198 - mae: 0.3198 - val_loss: 0.3243 - val_mae: 0.3243\n",
      "Epoch 5/15\n",
      "306/306 - 1s - 2ms/step - loss: 0.3196 - mae: 0.3196 - val_loss: 0.3235 - val_mae: 0.3235\n",
      "Epoch 6/15\n",
      "306/306 - 1s - 2ms/step - loss: 0.3193 - mae: 0.3193 - val_loss: 0.3237 - val_mae: 0.3237\n",
      "Epoch 7/15\n",
      "306/306 - 1s - 2ms/step - loss: 0.3192 - mae: 0.3192 - val_loss: 0.3233 - val_mae: 0.3233\n",
      "Epoch 8/15\n",
      "306/306 - 1s - 2ms/step - loss: 0.3194 - mae: 0.3194 - val_loss: 0.3241 - val_mae: 0.3241\n",
      "Epoch 9/15\n",
      "306/306 - 1s - 2ms/step - loss: 0.3191 - mae: 0.3191 - val_loss: 0.3241 - val_mae: 0.3241\n",
      "Epoch 10/15\n",
      "306/306 - 1s - 2ms/step - loss: 0.3192 - mae: 0.3192 - val_loss: 0.3234 - val_mae: 0.3234\n",
      "Epoch 11/15\n",
      "306/306 - 1s - 2ms/step - loss: 0.3190 - mae: 0.3190 - val_loss: 0.3234 - val_mae: 0.3234\n",
      "Epoch 12/15\n",
      "306/306 - 1s - 2ms/step - loss: 0.3190 - mae: 0.3190 - val_loss: 0.3233 - val_mae: 0.3233\n",
      "Epoch 13/15\n",
      "306/306 - 1s - 2ms/step - loss: 0.3191 - mae: 0.3191 - val_loss: 0.3247 - val_mae: 0.3247\n",
      "Epoch 14/15\n",
      "306/306 - 1s - 2ms/step - loss: 0.3191 - mae: 0.3191 - val_loss: 0.3239 - val_mae: 0.3239\n",
      "Epoch 15/15\n",
      "306/306 - 1s - 2ms/step - loss: 0.3191 - mae: 0.3191 - val_loss: 0.3232 - val_mae: 0.3232\n",
      "\u001b[1m44/44\u001b[0m \u001b[32m━━━━━━━━━━━━━━━━━━━━\u001b[0m\u001b[37m\u001b[0m \u001b[1m0s\u001b[0m 3ms/step\n"
     ]
    },
    {
     "data": {
      "text/html": [
       "\n",
       "    <style>\n",
       "        .wandb-row {\n",
       "            display: flex;\n",
       "            flex-direction: row;\n",
       "            flex-wrap: wrap;\n",
       "            justify-content: flex-start;\n",
       "            width: 100%;\n",
       "        }\n",
       "        .wandb-col {\n",
       "            display: flex;\n",
       "            flex-direction: column;\n",
       "            flex-basis: 100%;\n",
       "            flex: 1;\n",
       "            padding: 10px;\n",
       "        }\n",
       "    </style>\n",
       "<div class=\"wandb-row\"><div class=\"wandb-col\"><h3>Run history:</h3><br/><table class=\"wandb\"><tr><td>Max Absolute Error (Test)</td><td>▁</td></tr><tr><td>Mean Absolute Error (Test)</td><td>▁</td></tr><tr><td>R²</td><td>▁</td></tr><tr><td>Test Loss</td><td>▁</td></tr><tr><td>Test MAE</td><td>▁</td></tr><tr><td>epoch</td><td>▁▁▂▃▃▃▄▅▅▅▆▇▇▇█</td></tr><tr><td>epoch/epoch</td><td>▁▁▂▃▃▃▄▅▅▅▆▇▇▇█</td></tr><tr><td>epoch/learning_rate</td><td>▁▁▁▁▁▁▁▁▁▁▁▁▁▁▁</td></tr><tr><td>epoch/loss</td><td>█▃▃▃▂▂▁▂▁▁▁▁▁▁▁</td></tr><tr><td>epoch/mae</td><td>█▃▃▃▂▂▁▂▁▁▁▁▁▁▁</td></tr><tr><td>epoch/val_loss</td><td>▇█▆▅▂▂▁▄▄▂▁▁▆▃▁</td></tr><tr><td>epoch/val_mae</td><td>▇█▆▅▂▂▁▄▄▂▁▁▆▃▁</td></tr><tr><td>train_loss</td><td>█▃▃▃▂▂▁▂▁▁▁▁▁▁▁</td></tr><tr><td>train_mae</td><td>█▃▃▃▂▂▁▂▁▁▁▁▁▁▁</td></tr><tr><td>val_loss</td><td>▇█▆▅▂▂▁▄▄▂▁▁▆▃▁</td></tr><tr><td>val_mae</td><td>▇█▆▅▂▂▁▄▄▂▁▁▆▃▁</td></tr></table><br/></div><div class=\"wandb-col\"><h3>Run summary:</h3><br/><table class=\"wandb\"><tr><td>Max Absolute Error (Test)</td><td>0.89995</td></tr><tr><td>Mean Absolute Error (Test)</td><td>0.32538</td></tr><tr><td>R²</td><td>-0.3217</td></tr><tr><td>Test Loss</td><td>0.32538</td></tr><tr><td>Test MAE</td><td>0.32538</td></tr><tr><td>epoch</td><td>14</td></tr><tr><td>epoch/epoch</td><td>14</td></tr><tr><td>epoch/learning_rate</td><td>0.005</td></tr><tr><td>epoch/loss</td><td>0.31913</td></tr><tr><td>epoch/mae</td><td>0.31913</td></tr><tr><td>epoch/val_loss</td><td>0.32324</td></tr><tr><td>epoch/val_mae</td><td>0.32324</td></tr><tr><td>train_loss</td><td>0.31913</td></tr><tr><td>train_mae</td><td>0.31913</td></tr><tr><td>val_loss</td><td>0.32324</td></tr><tr><td>val_mae</td><td>0.32324</td></tr></table><br/></div></div>"
      ],
      "text/plain": [
       "<IPython.core.display.HTML object>"
      ]
     },
     "metadata": {},
     "output_type": "display_data"
    },
    {
     "data": {
      "text/html": [
       " View run <strong style=\"color:#cdcd00\">devoted-sweep-48</strong> at: <a href='https://wandb.ai/walt_/dose-prediction/runs/0ewg6e1o' target=\"_blank\">https://wandb.ai/walt_/dose-prediction/runs/0ewg6e1o</a><br/> View project at: <a href='https://wandb.ai/walt_/dose-prediction' target=\"_blank\">https://wandb.ai/walt_/dose-prediction</a><br/>Synced 5 W&B file(s), 0 media file(s), 0 artifact file(s) and 0 other file(s)"
      ],
      "text/plain": [
       "<IPython.core.display.HTML object>"
      ]
     },
     "metadata": {},
     "output_type": "display_data"
    },
    {
     "data": {
      "text/html": [
       "Find logs at: <code>./wandb/run-20241124_153508-0ewg6e1o/logs</code>"
      ],
      "text/plain": [
       "<IPython.core.display.HTML object>"
      ]
     },
     "metadata": {},
     "output_type": "display_data"
    },
    {
     "name": "stderr",
     "output_type": "stream",
     "text": [
      "\u001b[34m\u001b[1mwandb\u001b[0m: Agent Starting Run: ftr640ex with config:\n",
      "\u001b[34m\u001b[1mwandb\u001b[0m: \tactivation_function: tanh\n",
      "\u001b[34m\u001b[1mwandb\u001b[0m: \tbatch_size: 32\n",
      "\u001b[34m\u001b[1mwandb\u001b[0m: \tepochs: 20\n",
      "\u001b[34m\u001b[1mwandb\u001b[0m: \tinclude_edis: False\n",
      "\u001b[34m\u001b[1mwandb\u001b[0m: \tinclude_mgdis: True\n",
      "\u001b[34m\u001b[1mwandb\u001b[0m: \tinclude_mpc: True\n",
      "\u001b[34m\u001b[1mwandb\u001b[0m: \tinclude_sharpness: True\n",
      "\u001b[34m\u001b[1mwandb\u001b[0m: \tinclude_texture: True\n",
      "\u001b[34m\u001b[1mwandb\u001b[0m: \tlearning_rate: 0.005\n",
      "\u001b[34m\u001b[1mwandb\u001b[0m: \tloss_function: mean_absolute_error\n"
     ]
    },
    {
     "data": {
      "text/html": [
       "Tracking run with wandb version 0.18.7"
      ],
      "text/plain": [
       "<IPython.core.display.HTML object>"
      ]
     },
     "metadata": {},
     "output_type": "display_data"
    },
    {
     "data": {
      "text/html": [
       "Run data is saved locally in <code>/home/walt/FociNet/wandb/run-20241124_153523-ftr640ex</code>"
      ],
      "text/plain": [
       "<IPython.core.display.HTML object>"
      ]
     },
     "metadata": {},
     "output_type": "display_data"
    },
    {
     "data": {
      "text/html": [
       "Syncing run <strong><a href='https://wandb.ai/walt_/dose-prediction/runs/ftr640ex' target=\"_blank\">icy-sweep-49</a></strong> to <a href='https://wandb.ai/walt_/dose-prediction' target=\"_blank\">Weights & Biases</a> (<a href='https://wandb.me/developer-guide' target=\"_blank\">docs</a>)<br/>Sweep page: <a href='https://wandb.ai/walt_/dose-prediction/sweeps/ijck5aqp' target=\"_blank\">https://wandb.ai/walt_/dose-prediction/sweeps/ijck5aqp</a>"
      ],
      "text/plain": [
       "<IPython.core.display.HTML object>"
      ]
     },
     "metadata": {},
     "output_type": "display_data"
    },
    {
     "data": {
      "text/html": [
       " View project at <a href='https://wandb.ai/walt_/dose-prediction' target=\"_blank\">https://wandb.ai/walt_/dose-prediction</a>"
      ],
      "text/plain": [
       "<IPython.core.display.HTML object>"
      ]
     },
     "metadata": {},
     "output_type": "display_data"
    },
    {
     "data": {
      "text/html": [
       " View sweep at <a href='https://wandb.ai/walt_/dose-prediction/sweeps/ijck5aqp' target=\"_blank\">https://wandb.ai/walt_/dose-prediction/sweeps/ijck5aqp</a>"
      ],
      "text/plain": [
       "<IPython.core.display.HTML object>"
      ]
     },
     "metadata": {},
     "output_type": "display_data"
    },
    {
     "data": {
      "text/html": [
       " View run at <a href='https://wandb.ai/walt_/dose-prediction/runs/ftr640ex' target=\"_blank\">https://wandb.ai/walt_/dose-prediction/runs/ftr640ex</a>"
      ],
      "text/plain": [
       "<IPython.core.display.HTML object>"
      ]
     },
     "metadata": {},
     "output_type": "display_data"
    },
    {
     "name": "stdout",
     "output_type": "stream",
     "text": [
      "Active Feature Config: {'activation_function': 'tanh', 'batch_size': 32, 'epochs': 20, 'include_edis': False, 'include_mgdis': True, 'include_mpc': True, 'include_sharpness': True, 'include_texture': True, 'learning_rate': 0.005, 'loss_function': 'mean_absolute_error'}\n",
      "Subset X_train shape: (9766, 6)\n",
      "Subset X_val shape: (2790, 6)\n",
      "Subset X_test shape: (1396, 6)\n",
      "Calculated input_dim: 6\n",
      "Epoch 1/20\n",
      "306/306 - 2s - 7ms/step - loss: 0.2872 - mae: 0.2872 - val_loss: 0.2646 - val_mae: 0.2646\n",
      "Epoch 2/20\n",
      "306/306 - 1s - 2ms/step - loss: 0.2751 - mae: 0.2751 - val_loss: 0.2602 - val_mae: 0.2602\n",
      "Epoch 3/20\n",
      "306/306 - 1s - 2ms/step - loss: 0.2662 - mae: 0.2662 - val_loss: 0.2541 - val_mae: 0.2541\n",
      "Epoch 4/20\n",
      "306/306 - 1s - 2ms/step - loss: 0.2389 - mae: 0.2389 - val_loss: 0.2185 - val_mae: 0.2185\n",
      "Epoch 5/20\n",
      "306/306 - 1s - 3ms/step - loss: 0.2095 - mae: 0.2095 - val_loss: 0.2051 - val_mae: 0.2051\n",
      "Epoch 6/20\n",
      "306/306 - 1s - 2ms/step - loss: 0.1976 - mae: 0.1976 - val_loss: 0.2022 - val_mae: 0.2022\n",
      "Epoch 7/20\n",
      "306/306 - 1s - 2ms/step - loss: 0.1930 - mae: 0.1930 - val_loss: 0.1891 - val_mae: 0.1891\n",
      "Epoch 8/20\n",
      "306/306 - 1s - 2ms/step - loss: 0.1887 - mae: 0.1887 - val_loss: 0.1888 - val_mae: 0.1888\n",
      "Epoch 9/20\n",
      "306/306 - 1s - 2ms/step - loss: 0.1876 - mae: 0.1876 - val_loss: 0.1923 - val_mae: 0.1923\n",
      "Epoch 10/20\n",
      "306/306 - 1s - 2ms/step - loss: 0.1867 - mae: 0.1867 - val_loss: 0.1838 - val_mae: 0.1838\n",
      "Epoch 11/20\n",
      "306/306 - 1s - 2ms/step - loss: 0.1877 - mae: 0.1877 - val_loss: 0.1843 - val_mae: 0.1843\n",
      "Epoch 12/20\n",
      "306/306 - 1s - 2ms/step - loss: 0.1850 - mae: 0.1850 - val_loss: 0.1821 - val_mae: 0.1821\n",
      "Epoch 13/20\n",
      "306/306 - 1s - 2ms/step - loss: 0.1825 - mae: 0.1825 - val_loss: 0.1825 - val_mae: 0.1825\n",
      "Epoch 14/20\n",
      "306/306 - 1s - 2ms/step - loss: 0.1807 - mae: 0.1807 - val_loss: 0.1907 - val_mae: 0.1907\n",
      "Epoch 15/20\n",
      "306/306 - 1s - 2ms/step - loss: 0.1848 - mae: 0.1848 - val_loss: 0.2262 - val_mae: 0.2262\n",
      "Epoch 16/20\n",
      "306/306 - 1s - 2ms/step - loss: 0.1789 - mae: 0.1789 - val_loss: 0.1800 - val_mae: 0.1800\n",
      "Epoch 17/20\n",
      "306/306 - 1s - 2ms/step - loss: 0.1778 - mae: 0.1778 - val_loss: 0.1761 - val_mae: 0.1761\n",
      "Epoch 18/20\n",
      "306/306 - 1s - 2ms/step - loss: 0.1799 - mae: 0.1799 - val_loss: 0.1754 - val_mae: 0.1754\n",
      "Epoch 19/20\n",
      "306/306 - 1s - 2ms/step - loss: 0.1770 - mae: 0.1770 - val_loss: 0.1756 - val_mae: 0.1756\n",
      "Epoch 20/20\n",
      "306/306 - 1s - 2ms/step - loss: 0.1767 - mae: 0.1767 - val_loss: 0.1763 - val_mae: 0.1763\n",
      "\u001b[1m44/44\u001b[0m \u001b[32m━━━━━━━━━━━━━━━━━━━━\u001b[0m\u001b[37m\u001b[0m \u001b[1m0s\u001b[0m 4ms/step\n"
     ]
    },
    {
     "data": {
      "text/html": [
       "\n",
       "    <style>\n",
       "        .wandb-row {\n",
       "            display: flex;\n",
       "            flex-direction: row;\n",
       "            flex-wrap: wrap;\n",
       "            justify-content: flex-start;\n",
       "            width: 100%;\n",
       "        }\n",
       "        .wandb-col {\n",
       "            display: flex;\n",
       "            flex-direction: column;\n",
       "            flex-basis: 100%;\n",
       "            flex: 1;\n",
       "            padding: 10px;\n",
       "        }\n",
       "    </style>\n",
       "<div class=\"wandb-row\"><div class=\"wandb-col\"><h3>Run history:</h3><br/><table class=\"wandb\"><tr><td>Max Absolute Error (Test)</td><td>▁</td></tr><tr><td>Mean Absolute Error (Test)</td><td>▁</td></tr><tr><td>R²</td><td>▁</td></tr><tr><td>Test Loss</td><td>▁</td></tr><tr><td>Test MAE</td><td>▁</td></tr><tr><td>epoch</td><td>▁▁▂▂▂▃▃▄▄▄▅▅▅▆▆▇▇▇██</td></tr><tr><td>epoch/epoch</td><td>▁▁▂▂▂▃▃▄▄▄▅▅▅▆▆▇▇▇██</td></tr><tr><td>epoch/learning_rate</td><td>▁▁▁▁▁▁▁▁▁▁▁▁▁▁▁▁▁▁▁▁</td></tr><tr><td>epoch/loss</td><td>█▇▇▅▃▂▂▂▂▂▂▂▁▁▂▁▁▁▁▁</td></tr><tr><td>epoch/mae</td><td>█▇▇▅▃▂▂▂▂▂▂▂▁▁▂▁▁▁▁▁</td></tr><tr><td>epoch/val_loss</td><td>██▇▄▃▃▂▂▂▂▂▂▂▂▅▁▁▁▁▁</td></tr><tr><td>epoch/val_mae</td><td>██▇▄▃▃▂▂▂▂▂▂▂▂▅▁▁▁▁▁</td></tr><tr><td>train_loss</td><td>█▇▇▅▃▂▂▂▂▂▂▂▁▁▂▁▁▁▁▁</td></tr><tr><td>train_mae</td><td>█▇▇▅▃▂▂▂▂▂▂▂▁▁▂▁▁▁▁▁</td></tr><tr><td>val_loss</td><td>██▇▄▃▃▂▂▂▂▂▂▂▂▅▁▁▁▁▁</td></tr><tr><td>val_mae</td><td>██▇▄▃▃▂▂▂▂▂▂▂▂▅▁▁▁▁▁</td></tr></table><br/></div><div class=\"wandb-col\"><h3>Run summary:</h3><br/><table class=\"wandb\"><tr><td>Max Absolute Error (Test)</td><td>1.01465</td></tr><tr><td>Mean Absolute Error (Test)</td><td>0.16383</td></tr><tr><td>R²</td><td>0.4191</td></tr><tr><td>Test Loss</td><td>0.16383</td></tr><tr><td>Test MAE</td><td>0.16383</td></tr><tr><td>epoch</td><td>19</td></tr><tr><td>epoch/epoch</td><td>19</td></tr><tr><td>epoch/learning_rate</td><td>0.005</td></tr><tr><td>epoch/loss</td><td>0.17669</td></tr><tr><td>epoch/mae</td><td>0.17669</td></tr><tr><td>epoch/val_loss</td><td>0.17627</td></tr><tr><td>epoch/val_mae</td><td>0.17627</td></tr><tr><td>train_loss</td><td>0.17669</td></tr><tr><td>train_mae</td><td>0.17669</td></tr><tr><td>val_loss</td><td>0.17627</td></tr><tr><td>val_mae</td><td>0.17627</td></tr></table><br/></div></div>"
      ],
      "text/plain": [
       "<IPython.core.display.HTML object>"
      ]
     },
     "metadata": {},
     "output_type": "display_data"
    },
    {
     "data": {
      "text/html": [
       " View run <strong style=\"color:#cdcd00\">icy-sweep-49</strong> at: <a href='https://wandb.ai/walt_/dose-prediction/runs/ftr640ex' target=\"_blank\">https://wandb.ai/walt_/dose-prediction/runs/ftr640ex</a><br/> View project at: <a href='https://wandb.ai/walt_/dose-prediction' target=\"_blank\">https://wandb.ai/walt_/dose-prediction</a><br/>Synced 5 W&B file(s), 0 media file(s), 0 artifact file(s) and 0 other file(s)"
      ],
      "text/plain": [
       "<IPython.core.display.HTML object>"
      ]
     },
     "metadata": {},
     "output_type": "display_data"
    },
    {
     "data": {
      "text/html": [
       "Find logs at: <code>./wandb/run-20241124_153523-ftr640ex/logs</code>"
      ],
      "text/plain": [
       "<IPython.core.display.HTML object>"
      ]
     },
     "metadata": {},
     "output_type": "display_data"
    },
    {
     "name": "stderr",
     "output_type": "stream",
     "text": [
      "\u001b[34m\u001b[1mwandb\u001b[0m: Agent Starting Run: acenk1ay with config:\n",
      "\u001b[34m\u001b[1mwandb\u001b[0m: \tactivation_function: tanh\n",
      "\u001b[34m\u001b[1mwandb\u001b[0m: \tbatch_size: 32\n",
      "\u001b[34m\u001b[1mwandb\u001b[0m: \tepochs: 20\n",
      "\u001b[34m\u001b[1mwandb\u001b[0m: \tinclude_edis: False\n",
      "\u001b[34m\u001b[1mwandb\u001b[0m: \tinclude_mgdis: True\n",
      "\u001b[34m\u001b[1mwandb\u001b[0m: \tinclude_mpc: True\n",
      "\u001b[34m\u001b[1mwandb\u001b[0m: \tinclude_sharpness: True\n",
      "\u001b[34m\u001b[1mwandb\u001b[0m: \tinclude_texture: False\n",
      "\u001b[34m\u001b[1mwandb\u001b[0m: \tlearning_rate: 0.005\n",
      "\u001b[34m\u001b[1mwandb\u001b[0m: \tloss_function: mean_absolute_error\n"
     ]
    },
    {
     "data": {
      "text/html": [
       "Tracking run with wandb version 0.18.7"
      ],
      "text/plain": [
       "<IPython.core.display.HTML object>"
      ]
     },
     "metadata": {},
     "output_type": "display_data"
    },
    {
     "data": {
      "text/html": [
       "Run data is saved locally in <code>/home/walt/FociNet/wandb/run-20241124_153544-acenk1ay</code>"
      ],
      "text/plain": [
       "<IPython.core.display.HTML object>"
      ]
     },
     "metadata": {},
     "output_type": "display_data"
    },
    {
     "data": {
      "text/html": [
       "Syncing run <strong><a href='https://wandb.ai/walt_/dose-prediction/runs/acenk1ay' target=\"_blank\">dandy-sweep-50</a></strong> to <a href='https://wandb.ai/walt_/dose-prediction' target=\"_blank\">Weights & Biases</a> (<a href='https://wandb.me/developer-guide' target=\"_blank\">docs</a>)<br/>Sweep page: <a href='https://wandb.ai/walt_/dose-prediction/sweeps/ijck5aqp' target=\"_blank\">https://wandb.ai/walt_/dose-prediction/sweeps/ijck5aqp</a>"
      ],
      "text/plain": [
       "<IPython.core.display.HTML object>"
      ]
     },
     "metadata": {},
     "output_type": "display_data"
    },
    {
     "data": {
      "text/html": [
       " View project at <a href='https://wandb.ai/walt_/dose-prediction' target=\"_blank\">https://wandb.ai/walt_/dose-prediction</a>"
      ],
      "text/plain": [
       "<IPython.core.display.HTML object>"
      ]
     },
     "metadata": {},
     "output_type": "display_data"
    },
    {
     "data": {
      "text/html": [
       " View sweep at <a href='https://wandb.ai/walt_/dose-prediction/sweeps/ijck5aqp' target=\"_blank\">https://wandb.ai/walt_/dose-prediction/sweeps/ijck5aqp</a>"
      ],
      "text/plain": [
       "<IPython.core.display.HTML object>"
      ]
     },
     "metadata": {},
     "output_type": "display_data"
    },
    {
     "data": {
      "text/html": [
       " View run at <a href='https://wandb.ai/walt_/dose-prediction/runs/acenk1ay' target=\"_blank\">https://wandb.ai/walt_/dose-prediction/runs/acenk1ay</a>"
      ],
      "text/plain": [
       "<IPython.core.display.HTML object>"
      ]
     },
     "metadata": {},
     "output_type": "display_data"
    },
    {
     "name": "stdout",
     "output_type": "stream",
     "text": [
      "Active Feature Config: {'activation_function': 'tanh', 'batch_size': 32, 'epochs': 20, 'include_edis': False, 'include_mgdis': True, 'include_mpc': True, 'include_sharpness': True, 'include_texture': False, 'learning_rate': 0.005, 'loss_function': 'mean_absolute_error'}\n",
      "Subset X_train shape: (9766, 4)\n",
      "Subset X_val shape: (2790, 4)\n",
      "Subset X_test shape: (1396, 4)\n",
      "Calculated input_dim: 4\n",
      "Epoch 1/20\n",
      "306/306 - 2s - 7ms/step - loss: 0.2954 - mae: 0.2954 - val_loss: 0.2700 - val_mae: 0.2700\n",
      "Epoch 2/20\n",
      "306/306 - 1s - 2ms/step - loss: 0.2757 - mae: 0.2757 - val_loss: 0.2700 - val_mae: 0.2700\n",
      "Epoch 3/20\n",
      "306/306 - 1s - 2ms/step - loss: 0.2657 - mae: 0.2657 - val_loss: 0.2557 - val_mae: 0.2557\n",
      "Epoch 4/20\n",
      "306/306 - 1s - 2ms/step - loss: 0.2455 - mae: 0.2455 - val_loss: 0.2682 - val_mae: 0.2682\n",
      "Epoch 5/20\n",
      "306/306 - 1s - 2ms/step - loss: 0.2196 - mae: 0.2196 - val_loss: 0.2104 - val_mae: 0.2104\n",
      "Epoch 6/20\n",
      "306/306 - 1s - 2ms/step - loss: 0.2082 - mae: 0.2082 - val_loss: 0.2113 - val_mae: 0.2113\n",
      "Epoch 7/20\n",
      "306/306 - 1s - 2ms/step - loss: 0.2016 - mae: 0.2016 - val_loss: 0.2270 - val_mae: 0.2270\n",
      "Epoch 8/20\n",
      "306/306 - 1s - 2ms/step - loss: 0.1965 - mae: 0.1965 - val_loss: 0.1955 - val_mae: 0.1955\n",
      "Epoch 9/20\n",
      "306/306 - 1s - 2ms/step - loss: 0.1949 - mae: 0.1949 - val_loss: 0.2118 - val_mae: 0.2118\n",
      "Epoch 10/20\n",
      "306/306 - 1s - 2ms/step - loss: 0.1976 - mae: 0.1976 - val_loss: 0.2100 - val_mae: 0.2100\n",
      "Epoch 11/20\n",
      "306/306 - 1s - 2ms/step - loss: 0.1916 - mae: 0.1916 - val_loss: 0.1939 - val_mae: 0.1939\n",
      "Epoch 12/20\n",
      "306/306 - 1s - 2ms/step - loss: 0.1892 - mae: 0.1892 - val_loss: 0.2051 - val_mae: 0.2051\n",
      "Epoch 13/20\n",
      "306/306 - 1s - 2ms/step - loss: 0.1910 - mae: 0.1910 - val_loss: 0.1929 - val_mae: 0.1929\n",
      "Epoch 14/20\n",
      "306/306 - 1s - 2ms/step - loss: 0.1857 - mae: 0.1857 - val_loss: 0.1933 - val_mae: 0.1933\n",
      "Epoch 15/20\n",
      "306/306 - 1s - 2ms/step - loss: 0.1851 - mae: 0.1851 - val_loss: 0.1904 - val_mae: 0.1904\n",
      "Epoch 16/20\n",
      "306/306 - 1s - 2ms/step - loss: 0.1849 - mae: 0.1849 - val_loss: 0.1884 - val_mae: 0.1884\n",
      "Epoch 17/20\n",
      "306/306 - 1s - 2ms/step - loss: 0.1859 - mae: 0.1859 - val_loss: 0.1890 - val_mae: 0.1890\n",
      "Epoch 18/20\n",
      "306/306 - 1s - 2ms/step - loss: 0.1841 - mae: 0.1841 - val_loss: 0.1934 - val_mae: 0.1934\n",
      "Epoch 19/20\n",
      "306/306 - 1s - 2ms/step - loss: 0.1826 - mae: 0.1826 - val_loss: 0.1940 - val_mae: 0.1940\n",
      "Epoch 20/20\n",
      "306/306 - 1s - 3ms/step - loss: 0.1866 - mae: 0.1866 - val_loss: 0.1876 - val_mae: 0.1876\n",
      "\u001b[1m44/44\u001b[0m \u001b[32m━━━━━━━━━━━━━━━━━━━━\u001b[0m\u001b[37m\u001b[0m \u001b[1m0s\u001b[0m 4ms/step\n"
     ]
    },
    {
     "data": {
      "text/html": [
       "\n",
       "    <style>\n",
       "        .wandb-row {\n",
       "            display: flex;\n",
       "            flex-direction: row;\n",
       "            flex-wrap: wrap;\n",
       "            justify-content: flex-start;\n",
       "            width: 100%;\n",
       "        }\n",
       "        .wandb-col {\n",
       "            display: flex;\n",
       "            flex-direction: column;\n",
       "            flex-basis: 100%;\n",
       "            flex: 1;\n",
       "            padding: 10px;\n",
       "        }\n",
       "    </style>\n",
       "<div class=\"wandb-row\"><div class=\"wandb-col\"><h3>Run history:</h3><br/><table class=\"wandb\"><tr><td>Max Absolute Error (Test)</td><td>▁</td></tr><tr><td>Mean Absolute Error (Test)</td><td>▁</td></tr><tr><td>R²</td><td>▁</td></tr><tr><td>Test Loss</td><td>▁</td></tr><tr><td>Test MAE</td><td>▁</td></tr><tr><td>epoch</td><td>▁▁▂▂▂▃▃▄▄▄▅▅▅▆▆▇▇▇██</td></tr><tr><td>epoch/epoch</td><td>▁▁▂▂▂▃▃▄▄▄▅▅▅▆▆▇▇▇██</td></tr><tr><td>epoch/learning_rate</td><td>▁▁▁▁▁▁▁▁▁▁▁▁▁▁▁▁▁▁▁▁</td></tr><tr><td>epoch/loss</td><td>█▇▆▅▃▃▂▂▂▂▂▁▂▁▁▁▁▁▁▁</td></tr><tr><td>epoch/mae</td><td>█▇▆▅▃▃▂▂▂▂▂▁▂▁▁▁▁▁▁▁</td></tr><tr><td>epoch/val_loss</td><td>██▇█▃▃▄▂▃▃▂▂▁▁▁▁▁▁▂▁</td></tr><tr><td>epoch/val_mae</td><td>██▇█▃▃▄▂▃▃▂▂▁▁▁▁▁▁▂▁</td></tr><tr><td>train_loss</td><td>█▇▆▅▃▃▂▂▂▂▂▁▂▁▁▁▁▁▁▁</td></tr><tr><td>train_mae</td><td>█▇▆▅▃▃▂▂▂▂▂▁▂▁▁▁▁▁▁▁</td></tr><tr><td>val_loss</td><td>██▇█▃▃▄▂▃▃▂▂▁▁▁▁▁▁▂▁</td></tr><tr><td>val_mae</td><td>██▇█▃▃▄▂▃▃▂▂▁▁▁▁▁▁▂▁</td></tr></table><br/></div><div class=\"wandb-col\"><h3>Run summary:</h3><br/><table class=\"wandb\"><tr><td>Max Absolute Error (Test)</td><td>1.01656</td></tr><tr><td>Mean Absolute Error (Test)</td><td>0.17451</td></tr><tr><td>R²</td><td>0.38055</td></tr><tr><td>Test Loss</td><td>0.17451</td></tr><tr><td>Test MAE</td><td>0.17451</td></tr><tr><td>epoch</td><td>19</td></tr><tr><td>epoch/epoch</td><td>19</td></tr><tr><td>epoch/learning_rate</td><td>0.005</td></tr><tr><td>epoch/loss</td><td>0.18662</td></tr><tr><td>epoch/mae</td><td>0.18662</td></tr><tr><td>epoch/val_loss</td><td>0.18762</td></tr><tr><td>epoch/val_mae</td><td>0.18762</td></tr><tr><td>train_loss</td><td>0.18662</td></tr><tr><td>train_mae</td><td>0.18662</td></tr><tr><td>val_loss</td><td>0.18762</td></tr><tr><td>val_mae</td><td>0.18762</td></tr></table><br/></div></div>"
      ],
      "text/plain": [
       "<IPython.core.display.HTML object>"
      ]
     },
     "metadata": {},
     "output_type": "display_data"
    },
    {
     "data": {
      "text/html": [
       " View run <strong style=\"color:#cdcd00\">dandy-sweep-50</strong> at: <a href='https://wandb.ai/walt_/dose-prediction/runs/acenk1ay' target=\"_blank\">https://wandb.ai/walt_/dose-prediction/runs/acenk1ay</a><br/> View project at: <a href='https://wandb.ai/walt_/dose-prediction' target=\"_blank\">https://wandb.ai/walt_/dose-prediction</a><br/>Synced 5 W&B file(s), 0 media file(s), 0 artifact file(s) and 0 other file(s)"
      ],
      "text/plain": [
       "<IPython.core.display.HTML object>"
      ]
     },
     "metadata": {},
     "output_type": "display_data"
    },
    {
     "data": {
      "text/html": [
       "Find logs at: <code>./wandb/run-20241124_153544-acenk1ay/logs</code>"
      ],
      "text/plain": [
       "<IPython.core.display.HTML object>"
      ]
     },
     "metadata": {},
     "output_type": "display_data"
    },
    {
     "name": "stderr",
     "output_type": "stream",
     "text": [
      "\u001b[34m\u001b[1mwandb\u001b[0m: Agent Starting Run: 2c9q57qj with config:\n",
      "\u001b[34m\u001b[1mwandb\u001b[0m: \tactivation_function: tanh\n",
      "\u001b[34m\u001b[1mwandb\u001b[0m: \tbatch_size: 32\n",
      "\u001b[34m\u001b[1mwandb\u001b[0m: \tepochs: 20\n",
      "\u001b[34m\u001b[1mwandb\u001b[0m: \tinclude_edis: False\n",
      "\u001b[34m\u001b[1mwandb\u001b[0m: \tinclude_mgdis: True\n",
      "\u001b[34m\u001b[1mwandb\u001b[0m: \tinclude_mpc: True\n",
      "\u001b[34m\u001b[1mwandb\u001b[0m: \tinclude_sharpness: False\n",
      "\u001b[34m\u001b[1mwandb\u001b[0m: \tinclude_texture: True\n",
      "\u001b[34m\u001b[1mwandb\u001b[0m: \tlearning_rate: 0.005\n",
      "\u001b[34m\u001b[1mwandb\u001b[0m: \tloss_function: mean_absolute_error\n"
     ]
    },
    {
     "data": {
      "text/html": [
       "Tracking run with wandb version 0.18.7"
      ],
      "text/plain": [
       "<IPython.core.display.HTML object>"
      ]
     },
     "metadata": {},
     "output_type": "display_data"
    },
    {
     "data": {
      "text/html": [
       "Run data is saved locally in <code>/home/walt/FociNet/wandb/run-20241124_153604-2c9q57qj</code>"
      ],
      "text/plain": [
       "<IPython.core.display.HTML object>"
      ]
     },
     "metadata": {},
     "output_type": "display_data"
    },
    {
     "data": {
      "text/html": [
       "Syncing run <strong><a href='https://wandb.ai/walt_/dose-prediction/runs/2c9q57qj' target=\"_blank\">playful-sweep-51</a></strong> to <a href='https://wandb.ai/walt_/dose-prediction' target=\"_blank\">Weights & Biases</a> (<a href='https://wandb.me/developer-guide' target=\"_blank\">docs</a>)<br/>Sweep page: <a href='https://wandb.ai/walt_/dose-prediction/sweeps/ijck5aqp' target=\"_blank\">https://wandb.ai/walt_/dose-prediction/sweeps/ijck5aqp</a>"
      ],
      "text/plain": [
       "<IPython.core.display.HTML object>"
      ]
     },
     "metadata": {},
     "output_type": "display_data"
    },
    {
     "data": {
      "text/html": [
       " View project at <a href='https://wandb.ai/walt_/dose-prediction' target=\"_blank\">https://wandb.ai/walt_/dose-prediction</a>"
      ],
      "text/plain": [
       "<IPython.core.display.HTML object>"
      ]
     },
     "metadata": {},
     "output_type": "display_data"
    },
    {
     "data": {
      "text/html": [
       " View sweep at <a href='https://wandb.ai/walt_/dose-prediction/sweeps/ijck5aqp' target=\"_blank\">https://wandb.ai/walt_/dose-prediction/sweeps/ijck5aqp</a>"
      ],
      "text/plain": [
       "<IPython.core.display.HTML object>"
      ]
     },
     "metadata": {},
     "output_type": "display_data"
    },
    {
     "data": {
      "text/html": [
       " View run at <a href='https://wandb.ai/walt_/dose-prediction/runs/2c9q57qj' target=\"_blank\">https://wandb.ai/walt_/dose-prediction/runs/2c9q57qj</a>"
      ],
      "text/plain": [
       "<IPython.core.display.HTML object>"
      ]
     },
     "metadata": {},
     "output_type": "display_data"
    },
    {
     "name": "stdout",
     "output_type": "stream",
     "text": [
      "Active Feature Config: {'activation_function': 'tanh', 'batch_size': 32, 'epochs': 20, 'include_edis': False, 'include_mgdis': True, 'include_mpc': True, 'include_sharpness': False, 'include_texture': True, 'learning_rate': 0.005, 'loss_function': 'mean_absolute_error'}\n",
      "Subset X_train shape: (9766, 5)\n",
      "Subset X_val shape: (2790, 5)\n",
      "Subset X_test shape: (1396, 5)\n",
      "Calculated input_dim: 5\n",
      "Epoch 1/20\n",
      "306/306 - 2s - 8ms/step - loss: 0.2923 - mae: 0.2923 - val_loss: 0.2969 - val_mae: 0.2969\n",
      "Epoch 2/20\n",
      "306/306 - 1s - 2ms/step - loss: 0.2765 - mae: 0.2765 - val_loss: 0.2656 - val_mae: 0.2656\n",
      "Epoch 3/20\n",
      "306/306 - 1s - 2ms/step - loss: 0.2667 - mae: 0.2667 - val_loss: 0.2569 - val_mae: 0.2569\n",
      "Epoch 4/20\n",
      "306/306 - 1s - 2ms/step - loss: 0.2645 - mae: 0.2645 - val_loss: 0.2701 - val_mae: 0.2701\n",
      "Epoch 5/20\n",
      "306/306 - 1s - 2ms/step - loss: 0.2598 - mae: 0.2598 - val_loss: 0.2594 - val_mae: 0.2594\n",
      "Epoch 6/20\n",
      "306/306 - 1s - 2ms/step - loss: 0.2395 - mae: 0.2395 - val_loss: 0.2234 - val_mae: 0.2234\n",
      "Epoch 7/20\n",
      "306/306 - 1s - 2ms/step - loss: 0.2126 - mae: 0.2126 - val_loss: 0.2067 - val_mae: 0.2067\n",
      "Epoch 8/20\n",
      "306/306 - 1s - 3ms/step - loss: 0.2049 - mae: 0.2049 - val_loss: 0.2000 - val_mae: 0.2000\n",
      "Epoch 9/20\n",
      "306/306 - 1s - 2ms/step - loss: 0.1972 - mae: 0.1972 - val_loss: 0.2148 - val_mae: 0.2148\n",
      "Epoch 10/20\n",
      "306/306 - 1s - 2ms/step - loss: 0.1980 - mae: 0.1980 - val_loss: 0.1876 - val_mae: 0.1876\n",
      "Epoch 11/20\n",
      "306/306 - 1s - 2ms/step - loss: 0.1928 - mae: 0.1928 - val_loss: 0.1929 - val_mae: 0.1929\n",
      "Epoch 12/20\n",
      "306/306 - 1s - 3ms/step - loss: 0.1870 - mae: 0.1870 - val_loss: 0.1869 - val_mae: 0.1869\n",
      "Epoch 13/20\n",
      "306/306 - 1s - 3ms/step - loss: 0.1874 - mae: 0.1874 - val_loss: 0.1863 - val_mae: 0.1863\n",
      "Epoch 14/20\n",
      "306/306 - 1s - 2ms/step - loss: 0.1843 - mae: 0.1843 - val_loss: 0.1907 - val_mae: 0.1907\n",
      "Epoch 15/20\n",
      "306/306 - 1s - 2ms/step - loss: 0.1845 - mae: 0.1845 - val_loss: 0.1837 - val_mae: 0.1837\n",
      "Epoch 16/20\n",
      "306/306 - 1s - 2ms/step - loss: 0.1838 - mae: 0.1838 - val_loss: 0.1951 - val_mae: 0.1951\n",
      "Epoch 17/20\n",
      "306/306 - 1s - 2ms/step - loss: 0.1856 - mae: 0.1856 - val_loss: 0.1863 - val_mae: 0.1863\n",
      "Epoch 18/20\n",
      "306/306 - 1s - 2ms/step - loss: 0.1831 - mae: 0.1831 - val_loss: 0.1931 - val_mae: 0.1931\n",
      "Epoch 19/20\n",
      "306/306 - 1s - 2ms/step - loss: 0.1817 - mae: 0.1817 - val_loss: 0.1812 - val_mae: 0.1812\n",
      "Epoch 20/20\n",
      "306/306 - 1s - 2ms/step - loss: 0.1815 - mae: 0.1815 - val_loss: 0.1785 - val_mae: 0.1785\n",
      "\u001b[1m44/44\u001b[0m \u001b[32m━━━━━━━━━━━━━━━━━━━━\u001b[0m\u001b[37m\u001b[0m \u001b[1m0s\u001b[0m 4ms/step\n"
     ]
    },
    {
     "data": {
      "text/html": [
       "\n",
       "    <style>\n",
       "        .wandb-row {\n",
       "            display: flex;\n",
       "            flex-direction: row;\n",
       "            flex-wrap: wrap;\n",
       "            justify-content: flex-start;\n",
       "            width: 100%;\n",
       "        }\n",
       "        .wandb-col {\n",
       "            display: flex;\n",
       "            flex-direction: column;\n",
       "            flex-basis: 100%;\n",
       "            flex: 1;\n",
       "            padding: 10px;\n",
       "        }\n",
       "    </style>\n",
       "<div class=\"wandb-row\"><div class=\"wandb-col\"><h3>Run history:</h3><br/><table class=\"wandb\"><tr><td>Max Absolute Error (Test)</td><td>▁</td></tr><tr><td>Mean Absolute Error (Test)</td><td>▁</td></tr><tr><td>R²</td><td>▁</td></tr><tr><td>Test Loss</td><td>▁</td></tr><tr><td>Test MAE</td><td>▁</td></tr><tr><td>epoch</td><td>▁▁▂▂▂▃▃▄▄▄▅▅▅▆▆▇▇▇██</td></tr><tr><td>epoch/epoch</td><td>▁▁▂▂▂▃▃▄▄▄▅▅▅▆▆▇▇▇██</td></tr><tr><td>epoch/learning_rate</td><td>▁▁▁▁▁▁▁▁▁▁▁▁▁▁▁▁▁▁▁▁</td></tr><tr><td>epoch/loss</td><td>█▇▆▆▆▅▃▂▂▂▂▁▁▁▁▁▁▁▁▁</td></tr><tr><td>epoch/mae</td><td>█▇▆▆▆▅▃▂▂▂▂▁▁▁▁▁▁▁▁▁</td></tr><tr><td>epoch/val_loss</td><td>█▆▆▆▆▄▃▂▃▂▂▁▁▂▁▂▁▂▁▁</td></tr><tr><td>epoch/val_mae</td><td>█▆▆▆▆▄▃▂▃▂▂▁▁▂▁▂▁▂▁▁</td></tr><tr><td>train_loss</td><td>█▇▆▆▆▅▃▂▂▂▂▁▁▁▁▁▁▁▁▁</td></tr><tr><td>train_mae</td><td>█▇▆▆▆▅▃▂▂▂▂▁▁▁▁▁▁▁▁▁</td></tr><tr><td>val_loss</td><td>█▆▆▆▆▄▃▂▃▂▂▁▁▂▁▂▁▂▁▁</td></tr><tr><td>val_mae</td><td>█▆▆▆▆▄▃▂▃▂▂▁▁▂▁▂▁▂▁▁</td></tr></table><br/></div><div class=\"wandb-col\"><h3>Run summary:</h3><br/><table class=\"wandb\"><tr><td>Max Absolute Error (Test)</td><td>1.02984</td></tr><tr><td>Mean Absolute Error (Test)</td><td>0.16695</td></tr><tr><td>R²</td><td>0.41588</td></tr><tr><td>Test Loss</td><td>0.16695</td></tr><tr><td>Test MAE</td><td>0.16695</td></tr><tr><td>epoch</td><td>19</td></tr><tr><td>epoch/epoch</td><td>19</td></tr><tr><td>epoch/learning_rate</td><td>0.005</td></tr><tr><td>epoch/loss</td><td>0.18145</td></tr><tr><td>epoch/mae</td><td>0.18145</td></tr><tr><td>epoch/val_loss</td><td>0.17855</td></tr><tr><td>epoch/val_mae</td><td>0.17855</td></tr><tr><td>train_loss</td><td>0.18145</td></tr><tr><td>train_mae</td><td>0.18145</td></tr><tr><td>val_loss</td><td>0.17855</td></tr><tr><td>val_mae</td><td>0.17855</td></tr></table><br/></div></div>"
      ],
      "text/plain": [
       "<IPython.core.display.HTML object>"
      ]
     },
     "metadata": {},
     "output_type": "display_data"
    },
    {
     "data": {
      "text/html": [
       " View run <strong style=\"color:#cdcd00\">playful-sweep-51</strong> at: <a href='https://wandb.ai/walt_/dose-prediction/runs/2c9q57qj' target=\"_blank\">https://wandb.ai/walt_/dose-prediction/runs/2c9q57qj</a><br/> View project at: <a href='https://wandb.ai/walt_/dose-prediction' target=\"_blank\">https://wandb.ai/walt_/dose-prediction</a><br/>Synced 5 W&B file(s), 0 media file(s), 0 artifact file(s) and 0 other file(s)"
      ],
      "text/plain": [
       "<IPython.core.display.HTML object>"
      ]
     },
     "metadata": {},
     "output_type": "display_data"
    },
    {
     "data": {
      "text/html": [
       "Find logs at: <code>./wandb/run-20241124_153604-2c9q57qj/logs</code>"
      ],
      "text/plain": [
       "<IPython.core.display.HTML object>"
      ]
     },
     "metadata": {},
     "output_type": "display_data"
    },
    {
     "name": "stderr",
     "output_type": "stream",
     "text": [
      "\u001b[34m\u001b[1mwandb\u001b[0m: Agent Starting Run: r7ssjdv2 with config:\n",
      "\u001b[34m\u001b[1mwandb\u001b[0m: \tactivation_function: tanh\n",
      "\u001b[34m\u001b[1mwandb\u001b[0m: \tbatch_size: 32\n",
      "\u001b[34m\u001b[1mwandb\u001b[0m: \tepochs: 20\n",
      "\u001b[34m\u001b[1mwandb\u001b[0m: \tinclude_edis: False\n",
      "\u001b[34m\u001b[1mwandb\u001b[0m: \tinclude_mgdis: True\n",
      "\u001b[34m\u001b[1mwandb\u001b[0m: \tinclude_mpc: True\n",
      "\u001b[34m\u001b[1mwandb\u001b[0m: \tinclude_sharpness: False\n",
      "\u001b[34m\u001b[1mwandb\u001b[0m: \tinclude_texture: False\n",
      "\u001b[34m\u001b[1mwandb\u001b[0m: \tlearning_rate: 0.005\n",
      "\u001b[34m\u001b[1mwandb\u001b[0m: \tloss_function: mean_absolute_error\n"
     ]
    },
    {
     "data": {
      "text/html": [
       "Tracking run with wandb version 0.18.7"
      ],
      "text/plain": [
       "<IPython.core.display.HTML object>"
      ]
     },
     "metadata": {},
     "output_type": "display_data"
    },
    {
     "data": {
      "text/html": [
       "Run data is saved locally in <code>/home/walt/FociNet/wandb/run-20241124_153625-r7ssjdv2</code>"
      ],
      "text/plain": [
       "<IPython.core.display.HTML object>"
      ]
     },
     "metadata": {},
     "output_type": "display_data"
    },
    {
     "data": {
      "text/html": [
       "Syncing run <strong><a href='https://wandb.ai/walt_/dose-prediction/runs/r7ssjdv2' target=\"_blank\">dashing-sweep-52</a></strong> to <a href='https://wandb.ai/walt_/dose-prediction' target=\"_blank\">Weights & Biases</a> (<a href='https://wandb.me/developer-guide' target=\"_blank\">docs</a>)<br/>Sweep page: <a href='https://wandb.ai/walt_/dose-prediction/sweeps/ijck5aqp' target=\"_blank\">https://wandb.ai/walt_/dose-prediction/sweeps/ijck5aqp</a>"
      ],
      "text/plain": [
       "<IPython.core.display.HTML object>"
      ]
     },
     "metadata": {},
     "output_type": "display_data"
    },
    {
     "data": {
      "text/html": [
       " View project at <a href='https://wandb.ai/walt_/dose-prediction' target=\"_blank\">https://wandb.ai/walt_/dose-prediction</a>"
      ],
      "text/plain": [
       "<IPython.core.display.HTML object>"
      ]
     },
     "metadata": {},
     "output_type": "display_data"
    },
    {
     "data": {
      "text/html": [
       " View sweep at <a href='https://wandb.ai/walt_/dose-prediction/sweeps/ijck5aqp' target=\"_blank\">https://wandb.ai/walt_/dose-prediction/sweeps/ijck5aqp</a>"
      ],
      "text/plain": [
       "<IPython.core.display.HTML object>"
      ]
     },
     "metadata": {},
     "output_type": "display_data"
    },
    {
     "data": {
      "text/html": [
       " View run at <a href='https://wandb.ai/walt_/dose-prediction/runs/r7ssjdv2' target=\"_blank\">https://wandb.ai/walt_/dose-prediction/runs/r7ssjdv2</a>"
      ],
      "text/plain": [
       "<IPython.core.display.HTML object>"
      ]
     },
     "metadata": {},
     "output_type": "display_data"
    },
    {
     "name": "stdout",
     "output_type": "stream",
     "text": [
      "Active Feature Config: {'activation_function': 'tanh', 'batch_size': 32, 'epochs': 20, 'include_edis': False, 'include_mgdis': True, 'include_mpc': True, 'include_sharpness': False, 'include_texture': False, 'learning_rate': 0.005, 'loss_function': 'mean_absolute_error'}\n",
      "Subset X_train shape: (9766, 3)\n",
      "Subset X_val shape: (2790, 3)\n",
      "Subset X_test shape: (1396, 3)\n",
      "Calculated input_dim: 3\n",
      "Epoch 1/20\n",
      "306/306 - 2s - 8ms/step - loss: 0.3047 - mae: 0.3047 - val_loss: 0.3039 - val_mae: 0.3039\n",
      "Epoch 2/20\n",
      "306/306 - 1s - 2ms/step - loss: 0.2937 - mae: 0.2937 - val_loss: 0.2912 - val_mae: 0.2912\n",
      "Epoch 3/20\n",
      "306/306 - 1s - 2ms/step - loss: 0.2935 - mae: 0.2935 - val_loss: 0.2847 - val_mae: 0.2847\n",
      "Epoch 4/20\n",
      "306/306 - 1s - 2ms/step - loss: 0.2795 - mae: 0.2795 - val_loss: 0.2563 - val_mae: 0.2563\n",
      "Epoch 5/20\n",
      "306/306 - 1s - 2ms/step - loss: 0.2545 - mae: 0.2545 - val_loss: 0.2560 - val_mae: 0.2560\n",
      "Epoch 6/20\n",
      "306/306 - 1s - 2ms/step - loss: 0.2455 - mae: 0.2455 - val_loss: 0.2392 - val_mae: 0.2392\n",
      "Epoch 7/20\n",
      "306/306 - 1s - 3ms/step - loss: 0.2404 - mae: 0.2404 - val_loss: 0.2477 - val_mae: 0.2477\n",
      "Epoch 8/20\n",
      "306/306 - 1s - 2ms/step - loss: 0.2378 - mae: 0.2378 - val_loss: 0.2337 - val_mae: 0.2337\n",
      "Epoch 9/20\n",
      "306/306 - 1s - 2ms/step - loss: 0.2347 - mae: 0.2347 - val_loss: 0.2317 - val_mae: 0.2317\n",
      "Epoch 10/20\n",
      "306/306 - 1s - 2ms/step - loss: 0.2329 - mae: 0.2329 - val_loss: 0.2360 - val_mae: 0.2360\n",
      "Epoch 11/20\n",
      "306/306 - 1s - 2ms/step - loss: 0.2328 - mae: 0.2328 - val_loss: 0.2308 - val_mae: 0.2308\n",
      "Epoch 12/20\n",
      "306/306 - 1s - 2ms/step - loss: 0.2321 - mae: 0.2321 - val_loss: 0.2285 - val_mae: 0.2285\n",
      "Epoch 13/20\n",
      "306/306 - 1s - 2ms/step - loss: 0.2314 - mae: 0.2314 - val_loss: 0.2349 - val_mae: 0.2349\n",
      "Epoch 14/20\n",
      "306/306 - 1s - 3ms/step - loss: 0.2293 - mae: 0.2293 - val_loss: 0.2332 - val_mae: 0.2332\n",
      "Epoch 15/20\n",
      "306/306 - 1s - 2ms/step - loss: 0.2308 - mae: 0.2308 - val_loss: 0.2316 - val_mae: 0.2316\n",
      "Epoch 16/20\n",
      "306/306 - 1s - 2ms/step - loss: 0.2288 - mae: 0.2288 - val_loss: 0.2288 - val_mae: 0.2288\n",
      "Epoch 17/20\n",
      "306/306 - 1s - 2ms/step - loss: 0.2282 - mae: 0.2282 - val_loss: 0.2241 - val_mae: 0.2241\n",
      "Epoch 18/20\n",
      "306/306 - 1s - 2ms/step - loss: 0.2294 - mae: 0.2294 - val_loss: 0.2261 - val_mae: 0.2261\n",
      "Epoch 19/20\n",
      "306/306 - 1s - 3ms/step - loss: 0.2286 - mae: 0.2286 - val_loss: 0.2362 - val_mae: 0.2362\n",
      "Epoch 20/20\n",
      "306/306 - 1s - 2ms/step - loss: 0.2272 - mae: 0.2272 - val_loss: 0.2261 - val_mae: 0.2261\n",
      "\u001b[1m44/44\u001b[0m \u001b[32m━━━━━━━━━━━━━━━━━━━━\u001b[0m\u001b[37m\u001b[0m \u001b[1m0s\u001b[0m 4ms/step\n"
     ]
    },
    {
     "data": {
      "text/html": [
       "\n",
       "    <style>\n",
       "        .wandb-row {\n",
       "            display: flex;\n",
       "            flex-direction: row;\n",
       "            flex-wrap: wrap;\n",
       "            justify-content: flex-start;\n",
       "            width: 100%;\n",
       "        }\n",
       "        .wandb-col {\n",
       "            display: flex;\n",
       "            flex-direction: column;\n",
       "            flex-basis: 100%;\n",
       "            flex: 1;\n",
       "            padding: 10px;\n",
       "        }\n",
       "    </style>\n",
       "<div class=\"wandb-row\"><div class=\"wandb-col\"><h3>Run history:</h3><br/><table class=\"wandb\"><tr><td>Max Absolute Error (Test)</td><td>▁</td></tr><tr><td>Mean Absolute Error (Test)</td><td>▁</td></tr><tr><td>R²</td><td>▁</td></tr><tr><td>Test Loss</td><td>▁</td></tr><tr><td>Test MAE</td><td>▁</td></tr><tr><td>epoch</td><td>▁▁▂▂▂▃▃▄▄▄▅▅▅▆▆▇▇▇██</td></tr><tr><td>epoch/epoch</td><td>▁▁▂▂▂▃▃▄▄▄▅▅▅▆▆▇▇▇██</td></tr><tr><td>epoch/learning_rate</td><td>▁▁▁▁▁▁▁▁▁▁▁▁▁▁▁▁▁▁▁▁</td></tr><tr><td>epoch/loss</td><td>█▇▇▆▃▃▂▂▂▂▂▁▁▁▁▁▁▁▁▁</td></tr><tr><td>epoch/mae</td><td>█▇▇▆▃▃▂▂▂▂▂▁▁▁▁▁▁▁▁▁</td></tr><tr><td>epoch/val_loss</td><td>█▇▆▄▄▂▃▂▂▂▂▁▂▂▂▁▁▁▂▁</td></tr><tr><td>epoch/val_mae</td><td>█▇▆▄▄▂▃▂▂▂▂▁▂▂▂▁▁▁▂▁</td></tr><tr><td>train_loss</td><td>█▇▇▆▃▃▂▂▂▂▂▁▁▁▁▁▁▁▁▁</td></tr><tr><td>train_mae</td><td>█▇▇▆▃▃▂▂▂▂▂▁▁▁▁▁▁▁▁▁</td></tr><tr><td>val_loss</td><td>█▇▆▄▄▂▃▂▂▂▂▁▂▂▂▁▁▁▂▁</td></tr><tr><td>val_mae</td><td>█▇▆▄▄▂▃▂▂▂▂▁▂▂▂▁▁▁▂▁</td></tr></table><br/></div><div class=\"wandb-col\"><h3>Run summary:</h3><br/><table class=\"wandb\"><tr><td>Max Absolute Error (Test)</td><td>0.98662</td></tr><tr><td>Mean Absolute Error (Test)</td><td>0.22443</td></tr><tr><td>R²</td><td>0.15653</td></tr><tr><td>Test Loss</td><td>0.22443</td></tr><tr><td>Test MAE</td><td>0.22443</td></tr><tr><td>epoch</td><td>19</td></tr><tr><td>epoch/epoch</td><td>19</td></tr><tr><td>epoch/learning_rate</td><td>0.005</td></tr><tr><td>epoch/loss</td><td>0.22718</td></tr><tr><td>epoch/mae</td><td>0.22718</td></tr><tr><td>epoch/val_loss</td><td>0.22614</td></tr><tr><td>epoch/val_mae</td><td>0.22614</td></tr><tr><td>train_loss</td><td>0.22718</td></tr><tr><td>train_mae</td><td>0.22718</td></tr><tr><td>val_loss</td><td>0.22614</td></tr><tr><td>val_mae</td><td>0.22614</td></tr></table><br/></div></div>"
      ],
      "text/plain": [
       "<IPython.core.display.HTML object>"
      ]
     },
     "metadata": {},
     "output_type": "display_data"
    },
    {
     "data": {
      "text/html": [
       " View run <strong style=\"color:#cdcd00\">dashing-sweep-52</strong> at: <a href='https://wandb.ai/walt_/dose-prediction/runs/r7ssjdv2' target=\"_blank\">https://wandb.ai/walt_/dose-prediction/runs/r7ssjdv2</a><br/> View project at: <a href='https://wandb.ai/walt_/dose-prediction' target=\"_blank\">https://wandb.ai/walt_/dose-prediction</a><br/>Synced 5 W&B file(s), 0 media file(s), 0 artifact file(s) and 0 other file(s)"
      ],
      "text/plain": [
       "<IPython.core.display.HTML object>"
      ]
     },
     "metadata": {},
     "output_type": "display_data"
    },
    {
     "data": {
      "text/html": [
       "Find logs at: <code>./wandb/run-20241124_153625-r7ssjdv2/logs</code>"
      ],
      "text/plain": [
       "<IPython.core.display.HTML object>"
      ]
     },
     "metadata": {},
     "output_type": "display_data"
    },
    {
     "name": "stderr",
     "output_type": "stream",
     "text": [
      "\u001b[34m\u001b[1mwandb\u001b[0m: Agent Starting Run: hmwonyxm with config:\n",
      "\u001b[34m\u001b[1mwandb\u001b[0m: \tactivation_function: tanh\n",
      "\u001b[34m\u001b[1mwandb\u001b[0m: \tbatch_size: 32\n",
      "\u001b[34m\u001b[1mwandb\u001b[0m: \tepochs: 20\n",
      "\u001b[34m\u001b[1mwandb\u001b[0m: \tinclude_edis: False\n",
      "\u001b[34m\u001b[1mwandb\u001b[0m: \tinclude_mgdis: True\n",
      "\u001b[34m\u001b[1mwandb\u001b[0m: \tinclude_mpc: False\n",
      "\u001b[34m\u001b[1mwandb\u001b[0m: \tinclude_sharpness: True\n",
      "\u001b[34m\u001b[1mwandb\u001b[0m: \tinclude_texture: True\n",
      "\u001b[34m\u001b[1mwandb\u001b[0m: \tlearning_rate: 0.005\n",
      "\u001b[34m\u001b[1mwandb\u001b[0m: \tloss_function: mean_absolute_error\n"
     ]
    },
    {
     "data": {
      "text/html": [
       "Tracking run with wandb version 0.18.7"
      ],
      "text/plain": [
       "<IPython.core.display.HTML object>"
      ]
     },
     "metadata": {},
     "output_type": "display_data"
    },
    {
     "data": {
      "text/html": [
       "Run data is saved locally in <code>/home/walt/FociNet/wandb/run-20241124_153645-hmwonyxm</code>"
      ],
      "text/plain": [
       "<IPython.core.display.HTML object>"
      ]
     },
     "metadata": {},
     "output_type": "display_data"
    },
    {
     "data": {
      "text/html": [
       "Syncing run <strong><a href='https://wandb.ai/walt_/dose-prediction/runs/hmwonyxm' target=\"_blank\">polar-sweep-53</a></strong> to <a href='https://wandb.ai/walt_/dose-prediction' target=\"_blank\">Weights & Biases</a> (<a href='https://wandb.me/developer-guide' target=\"_blank\">docs</a>)<br/>Sweep page: <a href='https://wandb.ai/walt_/dose-prediction/sweeps/ijck5aqp' target=\"_blank\">https://wandb.ai/walt_/dose-prediction/sweeps/ijck5aqp</a>"
      ],
      "text/plain": [
       "<IPython.core.display.HTML object>"
      ]
     },
     "metadata": {},
     "output_type": "display_data"
    },
    {
     "data": {
      "text/html": [
       " View project at <a href='https://wandb.ai/walt_/dose-prediction' target=\"_blank\">https://wandb.ai/walt_/dose-prediction</a>"
      ],
      "text/plain": [
       "<IPython.core.display.HTML object>"
      ]
     },
     "metadata": {},
     "output_type": "display_data"
    },
    {
     "data": {
      "text/html": [
       " View sweep at <a href='https://wandb.ai/walt_/dose-prediction/sweeps/ijck5aqp' target=\"_blank\">https://wandb.ai/walt_/dose-prediction/sweeps/ijck5aqp</a>"
      ],
      "text/plain": [
       "<IPython.core.display.HTML object>"
      ]
     },
     "metadata": {},
     "output_type": "display_data"
    },
    {
     "data": {
      "text/html": [
       " View run at <a href='https://wandb.ai/walt_/dose-prediction/runs/hmwonyxm' target=\"_blank\">https://wandb.ai/walt_/dose-prediction/runs/hmwonyxm</a>"
      ],
      "text/plain": [
       "<IPython.core.display.HTML object>"
      ]
     },
     "metadata": {},
     "output_type": "display_data"
    },
    {
     "name": "stdout",
     "output_type": "stream",
     "text": [
      "Active Feature Config: {'activation_function': 'tanh', 'batch_size': 32, 'epochs': 20, 'include_edis': False, 'include_mgdis': True, 'include_mpc': False, 'include_sharpness': True, 'include_texture': True, 'learning_rate': 0.005, 'loss_function': 'mean_absolute_error'}\n",
      "Subset X_train shape: (9766, 4)\n",
      "Subset X_val shape: (2790, 4)\n",
      "Subset X_test shape: (1396, 4)\n",
      "Calculated input_dim: 4\n",
      "Epoch 1/20\n",
      "306/306 - 2s - 7ms/step - loss: 0.2991 - mae: 0.2991 - val_loss: 0.2915 - val_mae: 0.2915\n",
      "Epoch 2/20\n",
      "306/306 - 1s - 2ms/step - loss: 0.2764 - mae: 0.2764 - val_loss: 0.2669 - val_mae: 0.2669\n",
      "Epoch 3/20\n",
      "306/306 - 1s - 2ms/step - loss: 0.2681 - mae: 0.2681 - val_loss: 0.2614 - val_mae: 0.2614\n",
      "Epoch 4/20\n",
      "306/306 - 1s - 3ms/step - loss: 0.2661 - mae: 0.2661 - val_loss: 0.2643 - val_mae: 0.2643\n",
      "Epoch 5/20\n",
      "306/306 - 1s - 3ms/step - loss: 0.2502 - mae: 0.2502 - val_loss: 0.2209 - val_mae: 0.2209\n",
      "Epoch 6/20\n",
      "306/306 - 1s - 2ms/step - loss: 0.2119 - mae: 0.2119 - val_loss: 0.2074 - val_mae: 0.2074\n",
      "Epoch 7/20\n",
      "306/306 - 1s - 2ms/step - loss: 0.2049 - mae: 0.2049 - val_loss: 0.2036 - val_mae: 0.2036\n",
      "Epoch 8/20\n",
      "306/306 - 1s - 2ms/step - loss: 0.1988 - mae: 0.1988 - val_loss: 0.1979 - val_mae: 0.1979\n",
      "Epoch 9/20\n",
      "306/306 - 1s - 2ms/step - loss: 0.1975 - mae: 0.1975 - val_loss: 0.2033 - val_mae: 0.2033\n",
      "Epoch 10/20\n",
      "306/306 - 1s - 2ms/step - loss: 0.1936 - mae: 0.1936 - val_loss: 0.1980 - val_mae: 0.1980\n",
      "Epoch 11/20\n",
      "306/306 - 1s - 2ms/step - loss: 0.1924 - mae: 0.1924 - val_loss: 0.1946 - val_mae: 0.1946\n",
      "Epoch 12/20\n",
      "306/306 - 1s - 2ms/step - loss: 0.1909 - mae: 0.1909 - val_loss: 0.1931 - val_mae: 0.1931\n",
      "Epoch 13/20\n",
      "306/306 - 1s - 2ms/step - loss: 0.1896 - mae: 0.1896 - val_loss: 0.1937 - val_mae: 0.1937\n",
      "Epoch 14/20\n",
      "306/306 - 1s - 2ms/step - loss: 0.1902 - mae: 0.1902 - val_loss: 0.1932 - val_mae: 0.1932\n",
      "Epoch 15/20\n",
      "306/306 - 1s - 2ms/step - loss: 0.1860 - mae: 0.1860 - val_loss: 0.1899 - val_mae: 0.1899\n",
      "Epoch 16/20\n",
      "306/306 - 1s - 2ms/step - loss: 0.1865 - mae: 0.1865 - val_loss: 0.1889 - val_mae: 0.1889\n",
      "Epoch 17/20\n",
      "306/306 - 1s - 2ms/step - loss: 0.1872 - mae: 0.1872 - val_loss: 0.1959 - val_mae: 0.1959\n",
      "Epoch 18/20\n",
      "306/306 - 1s - 2ms/step - loss: 0.1843 - mae: 0.1843 - val_loss: 0.1949 - val_mae: 0.1949\n",
      "Epoch 19/20\n",
      "306/306 - 1s - 2ms/step - loss: 0.1878 - mae: 0.1878 - val_loss: 0.1884 - val_mae: 0.1884\n",
      "Epoch 20/20\n",
      "306/306 - 1s - 2ms/step - loss: 0.1841 - mae: 0.1841 - val_loss: 0.1886 - val_mae: 0.1886\n",
      "\u001b[1m44/44\u001b[0m \u001b[32m━━━━━━━━━━━━━━━━━━━━\u001b[0m\u001b[37m\u001b[0m \u001b[1m0s\u001b[0m 4ms/step\n"
     ]
    },
    {
     "data": {
      "text/html": [
       "\n",
       "    <style>\n",
       "        .wandb-row {\n",
       "            display: flex;\n",
       "            flex-direction: row;\n",
       "            flex-wrap: wrap;\n",
       "            justify-content: flex-start;\n",
       "            width: 100%;\n",
       "        }\n",
       "        .wandb-col {\n",
       "            display: flex;\n",
       "            flex-direction: column;\n",
       "            flex-basis: 100%;\n",
       "            flex: 1;\n",
       "            padding: 10px;\n",
       "        }\n",
       "    </style>\n",
       "<div class=\"wandb-row\"><div class=\"wandb-col\"><h3>Run history:</h3><br/><table class=\"wandb\"><tr><td>Max Absolute Error (Test)</td><td>▁</td></tr><tr><td>Mean Absolute Error (Test)</td><td>▁</td></tr><tr><td>R²</td><td>▁</td></tr><tr><td>Test Loss</td><td>▁</td></tr><tr><td>Test MAE</td><td>▁</td></tr><tr><td>epoch</td><td>▁▁▂▂▂▃▃▄▄▄▅▅▅▆▆▇▇▇██</td></tr><tr><td>epoch/epoch</td><td>▁▁▂▂▂▃▃▄▄▄▅▅▅▆▆▇▇▇██</td></tr><tr><td>epoch/learning_rate</td><td>▁▁▁▁▁▁▁▁▁▁▁▁▁▁▁▁▁▁▁▁</td></tr><tr><td>epoch/loss</td><td>█▇▆▆▅▃▂▂▂▂▂▁▁▁▁▁▁▁▁▁</td></tr><tr><td>epoch/mae</td><td>█▇▆▆▅▃▂▂▂▂▂▁▁▁▁▁▁▁▁▁</td></tr><tr><td>epoch/val_loss</td><td>█▆▆▆▃▂▂▂▂▂▁▁▁▁▁▁▂▁▁▁</td></tr><tr><td>epoch/val_mae</td><td>█▆▆▆▃▂▂▂▂▂▁▁▁▁▁▁▂▁▁▁</td></tr><tr><td>train_loss</td><td>█▇▆▆▅▃▂▂▂▂▂▁▁▁▁▁▁▁▁▁</td></tr><tr><td>train_mae</td><td>█▇▆▆▅▃▂▂▂▂▂▁▁▁▁▁▁▁▁▁</td></tr><tr><td>val_loss</td><td>█▆▆▆▃▂▂▂▂▂▁▁▁▁▁▁▂▁▁▁</td></tr><tr><td>val_mae</td><td>█▆▆▆▃▂▂▂▂▂▁▁▁▁▁▁▂▁▁▁</td></tr></table><br/></div><div class=\"wandb-col\"><h3>Run summary:</h3><br/><table class=\"wandb\"><tr><td>Max Absolute Error (Test)</td><td>1.02186</td></tr><tr><td>Mean Absolute Error (Test)</td><td>0.17617</td></tr><tr><td>R²</td><td>0.39936</td></tr><tr><td>Test Loss</td><td>0.17617</td></tr><tr><td>Test MAE</td><td>0.17617</td></tr><tr><td>epoch</td><td>19</td></tr><tr><td>epoch/epoch</td><td>19</td></tr><tr><td>epoch/learning_rate</td><td>0.005</td></tr><tr><td>epoch/loss</td><td>0.18412</td></tr><tr><td>epoch/mae</td><td>0.18412</td></tr><tr><td>epoch/val_loss</td><td>0.18865</td></tr><tr><td>epoch/val_mae</td><td>0.18865</td></tr><tr><td>train_loss</td><td>0.18412</td></tr><tr><td>train_mae</td><td>0.18412</td></tr><tr><td>val_loss</td><td>0.18865</td></tr><tr><td>val_mae</td><td>0.18865</td></tr></table><br/></div></div>"
      ],
      "text/plain": [
       "<IPython.core.display.HTML object>"
      ]
     },
     "metadata": {},
     "output_type": "display_data"
    },
    {
     "data": {
      "text/html": [
       " View run <strong style=\"color:#cdcd00\">polar-sweep-53</strong> at: <a href='https://wandb.ai/walt_/dose-prediction/runs/hmwonyxm' target=\"_blank\">https://wandb.ai/walt_/dose-prediction/runs/hmwonyxm</a><br/> View project at: <a href='https://wandb.ai/walt_/dose-prediction' target=\"_blank\">https://wandb.ai/walt_/dose-prediction</a><br/>Synced 5 W&B file(s), 0 media file(s), 0 artifact file(s) and 0 other file(s)"
      ],
      "text/plain": [
       "<IPython.core.display.HTML object>"
      ]
     },
     "metadata": {},
     "output_type": "display_data"
    },
    {
     "data": {
      "text/html": [
       "Find logs at: <code>./wandb/run-20241124_153645-hmwonyxm/logs</code>"
      ],
      "text/plain": [
       "<IPython.core.display.HTML object>"
      ]
     },
     "metadata": {},
     "output_type": "display_data"
    },
    {
     "name": "stderr",
     "output_type": "stream",
     "text": [
      "\u001b[34m\u001b[1mwandb\u001b[0m: Agent Starting Run: fyxnt2ra with config:\n",
      "\u001b[34m\u001b[1mwandb\u001b[0m: \tactivation_function: tanh\n",
      "\u001b[34m\u001b[1mwandb\u001b[0m: \tbatch_size: 32\n",
      "\u001b[34m\u001b[1mwandb\u001b[0m: \tepochs: 20\n",
      "\u001b[34m\u001b[1mwandb\u001b[0m: \tinclude_edis: False\n",
      "\u001b[34m\u001b[1mwandb\u001b[0m: \tinclude_mgdis: True\n",
      "\u001b[34m\u001b[1mwandb\u001b[0m: \tinclude_mpc: False\n",
      "\u001b[34m\u001b[1mwandb\u001b[0m: \tinclude_sharpness: True\n",
      "\u001b[34m\u001b[1mwandb\u001b[0m: \tinclude_texture: False\n",
      "\u001b[34m\u001b[1mwandb\u001b[0m: \tlearning_rate: 0.005\n",
      "\u001b[34m\u001b[1mwandb\u001b[0m: \tloss_function: mean_absolute_error\n"
     ]
    },
    {
     "data": {
      "text/html": [
       "Tracking run with wandb version 0.18.7"
      ],
      "text/plain": [
       "<IPython.core.display.HTML object>"
      ]
     },
     "metadata": {},
     "output_type": "display_data"
    },
    {
     "data": {
      "text/html": [
       "Run data is saved locally in <code>/home/walt/FociNet/wandb/run-20241124_153705-fyxnt2ra</code>"
      ],
      "text/plain": [
       "<IPython.core.display.HTML object>"
      ]
     },
     "metadata": {},
     "output_type": "display_data"
    },
    {
     "data": {
      "text/html": [
       "Syncing run <strong><a href='https://wandb.ai/walt_/dose-prediction/runs/fyxnt2ra' target=\"_blank\">desert-sweep-54</a></strong> to <a href='https://wandb.ai/walt_/dose-prediction' target=\"_blank\">Weights & Biases</a> (<a href='https://wandb.me/developer-guide' target=\"_blank\">docs</a>)<br/>Sweep page: <a href='https://wandb.ai/walt_/dose-prediction/sweeps/ijck5aqp' target=\"_blank\">https://wandb.ai/walt_/dose-prediction/sweeps/ijck5aqp</a>"
      ],
      "text/plain": [
       "<IPython.core.display.HTML object>"
      ]
     },
     "metadata": {},
     "output_type": "display_data"
    },
    {
     "data": {
      "text/html": [
       " View project at <a href='https://wandb.ai/walt_/dose-prediction' target=\"_blank\">https://wandb.ai/walt_/dose-prediction</a>"
      ],
      "text/plain": [
       "<IPython.core.display.HTML object>"
      ]
     },
     "metadata": {},
     "output_type": "display_data"
    },
    {
     "data": {
      "text/html": [
       " View sweep at <a href='https://wandb.ai/walt_/dose-prediction/sweeps/ijck5aqp' target=\"_blank\">https://wandb.ai/walt_/dose-prediction/sweeps/ijck5aqp</a>"
      ],
      "text/plain": [
       "<IPython.core.display.HTML object>"
      ]
     },
     "metadata": {},
     "output_type": "display_data"
    },
    {
     "data": {
      "text/html": [
       " View run at <a href='https://wandb.ai/walt_/dose-prediction/runs/fyxnt2ra' target=\"_blank\">https://wandb.ai/walt_/dose-prediction/runs/fyxnt2ra</a>"
      ],
      "text/plain": [
       "<IPython.core.display.HTML object>"
      ]
     },
     "metadata": {},
     "output_type": "display_data"
    },
    {
     "name": "stdout",
     "output_type": "stream",
     "text": [
      "Active Feature Config: {'activation_function': 'tanh', 'batch_size': 32, 'epochs': 20, 'include_edis': False, 'include_mgdis': True, 'include_mpc': False, 'include_sharpness': True, 'include_texture': False, 'learning_rate': 0.005, 'loss_function': 'mean_absolute_error'}\n",
      "Subset X_train shape: (9766, 2)\n",
      "Subset X_val shape: (2790, 2)\n",
      "Subset X_test shape: (1396, 2)\n",
      "Calculated input_dim: 2\n",
      "Epoch 1/20\n",
      "306/306 - 2s - 7ms/step - loss: 0.3003 - mae: 0.3003 - val_loss: 0.2862 - val_mae: 0.2862\n",
      "Epoch 2/20\n",
      "306/306 - 1s - 3ms/step - loss: 0.2924 - mae: 0.2924 - val_loss: 0.3035 - val_mae: 0.3035\n",
      "Epoch 3/20\n",
      "306/306 - 1s - 2ms/step - loss: 0.2939 - mae: 0.2939 - val_loss: 0.2857 - val_mae: 0.2857\n",
      "Epoch 4/20\n",
      "306/306 - 1s - 2ms/step - loss: 0.2934 - mae: 0.2934 - val_loss: 0.2965 - val_mae: 0.2965\n",
      "Epoch 5/20\n",
      "306/306 - 1s - 2ms/step - loss: 0.2814 - mae: 0.2814 - val_loss: 0.2576 - val_mae: 0.2576\n",
      "Epoch 6/20\n",
      "306/306 - 1s - 2ms/step - loss: 0.2487 - mae: 0.2487 - val_loss: 0.2436 - val_mae: 0.2436\n",
      "Epoch 7/20\n",
      "306/306 - 1s - 2ms/step - loss: 0.2431 - mae: 0.2431 - val_loss: 0.2400 - val_mae: 0.2400\n",
      "Epoch 8/20\n",
      "306/306 - 1s - 2ms/step - loss: 0.2387 - mae: 0.2387 - val_loss: 0.2521 - val_mae: 0.2521\n",
      "Epoch 9/20\n",
      "306/306 - 1s - 2ms/step - loss: 0.2375 - mae: 0.2375 - val_loss: 0.2392 - val_mae: 0.2392\n",
      "Epoch 10/20\n",
      "306/306 - 1s - 2ms/step - loss: 0.2350 - mae: 0.2350 - val_loss: 0.2331 - val_mae: 0.2331\n",
      "Epoch 11/20\n",
      "306/306 - 1s - 2ms/step - loss: 0.2346 - mae: 0.2346 - val_loss: 0.2344 - val_mae: 0.2344\n",
      "Epoch 12/20\n",
      "306/306 - 1s - 2ms/step - loss: 0.2338 - mae: 0.2338 - val_loss: 0.2296 - val_mae: 0.2296\n",
      "Epoch 13/20\n",
      "306/306 - 1s - 2ms/step - loss: 0.2313 - mae: 0.2313 - val_loss: 0.2307 - val_mae: 0.2307\n",
      "Epoch 14/20\n",
      "306/306 - 1s - 2ms/step - loss: 0.2343 - mae: 0.2343 - val_loss: 0.2356 - val_mae: 0.2356\n",
      "Epoch 15/20\n",
      "306/306 - 1s - 2ms/step - loss: 0.2310 - mae: 0.2310 - val_loss: 0.2287 - val_mae: 0.2287\n",
      "Epoch 16/20\n",
      "306/306 - 1s - 2ms/step - loss: 0.2321 - mae: 0.2321 - val_loss: 0.2355 - val_mae: 0.2355\n",
      "Epoch 17/20\n",
      "306/306 - 1s - 2ms/step - loss: 0.2327 - mae: 0.2327 - val_loss: 0.2299 - val_mae: 0.2299\n",
      "Epoch 18/20\n",
      "306/306 - 1s - 2ms/step - loss: 0.2332 - mae: 0.2332 - val_loss: 0.2280 - val_mae: 0.2280\n",
      "Epoch 19/20\n",
      "306/306 - 1s - 2ms/step - loss: 0.2309 - mae: 0.2309 - val_loss: 0.2328 - val_mae: 0.2328\n",
      "Epoch 20/20\n",
      "306/306 - 1s - 2ms/step - loss: 0.2312 - mae: 0.2312 - val_loss: 0.2289 - val_mae: 0.2289\n",
      "\u001b[1m44/44\u001b[0m \u001b[32m━━━━━━━━━━━━━━━━━━━━\u001b[0m\u001b[37m\u001b[0m \u001b[1m0s\u001b[0m 4ms/step\n"
     ]
    },
    {
     "data": {
      "text/html": [
       "\n",
       "    <style>\n",
       "        .wandb-row {\n",
       "            display: flex;\n",
       "            flex-direction: row;\n",
       "            flex-wrap: wrap;\n",
       "            justify-content: flex-start;\n",
       "            width: 100%;\n",
       "        }\n",
       "        .wandb-col {\n",
       "            display: flex;\n",
       "            flex-direction: column;\n",
       "            flex-basis: 100%;\n",
       "            flex: 1;\n",
       "            padding: 10px;\n",
       "        }\n",
       "    </style>\n",
       "<div class=\"wandb-row\"><div class=\"wandb-col\"><h3>Run history:</h3><br/><table class=\"wandb\"><tr><td>Max Absolute Error (Test)</td><td>▁</td></tr><tr><td>Mean Absolute Error (Test)</td><td>▁</td></tr><tr><td>R²</td><td>▁</td></tr><tr><td>Test Loss</td><td>▁</td></tr><tr><td>Test MAE</td><td>▁</td></tr><tr><td>epoch</td><td>▁▁▂▂▂▃▃▄▄▄▅▅▅▆▆▇▇▇██</td></tr><tr><td>epoch/epoch</td><td>▁▁▂▂▂▃▃▄▄▄▅▅▅▆▆▇▇▇██</td></tr><tr><td>epoch/learning_rate</td><td>▁▁▁▁▁▁▁▁▁▁▁▁▁▁▁▁▁▁▁▁</td></tr><tr><td>epoch/loss</td><td>█▇▇▇▆▃▂▂▂▁▁▁▁▁▁▁▁▁▁▁</td></tr><tr><td>epoch/mae</td><td>█▇▇▇▆▃▂▂▂▁▁▁▁▁▁▁▁▁▁▁</td></tr><tr><td>epoch/val_loss</td><td>▆█▆▇▄▂▂▃▂▁▂▁▁▂▁▂▁▁▁▁</td></tr><tr><td>epoch/val_mae</td><td>▆█▆▇▄▂▂▃▂▁▂▁▁▂▁▂▁▁▁▁</td></tr><tr><td>train_loss</td><td>█▇▇▇▆▃▂▂▂▁▁▁▁▁▁▁▁▁▁▁</td></tr><tr><td>train_mae</td><td>█▇▇▇▆▃▂▂▂▁▁▁▁▁▁▁▁▁▁▁</td></tr><tr><td>val_loss</td><td>▆█▆▇▄▂▂▃▂▁▂▁▁▂▁▂▁▁▁▁</td></tr><tr><td>val_mae</td><td>▆█▆▇▄▂▂▃▂▁▂▁▁▂▁▂▁▁▁▁</td></tr></table><br/></div><div class=\"wandb-col\"><h3>Run summary:</h3><br/><table class=\"wandb\"><tr><td>Max Absolute Error (Test)</td><td>1.00861</td></tr><tr><td>Mean Absolute Error (Test)</td><td>0.22542</td></tr><tr><td>R²</td><td>0.11595</td></tr><tr><td>Test Loss</td><td>0.22542</td></tr><tr><td>Test MAE</td><td>0.22542</td></tr><tr><td>epoch</td><td>19</td></tr><tr><td>epoch/epoch</td><td>19</td></tr><tr><td>epoch/learning_rate</td><td>0.005</td></tr><tr><td>epoch/loss</td><td>0.23117</td></tr><tr><td>epoch/mae</td><td>0.23117</td></tr><tr><td>epoch/val_loss</td><td>0.22894</td></tr><tr><td>epoch/val_mae</td><td>0.22894</td></tr><tr><td>train_loss</td><td>0.23117</td></tr><tr><td>train_mae</td><td>0.23117</td></tr><tr><td>val_loss</td><td>0.22894</td></tr><tr><td>val_mae</td><td>0.22894</td></tr></table><br/></div></div>"
      ],
      "text/plain": [
       "<IPython.core.display.HTML object>"
      ]
     },
     "metadata": {},
     "output_type": "display_data"
    },
    {
     "data": {
      "text/html": [
       " View run <strong style=\"color:#cdcd00\">desert-sweep-54</strong> at: <a href='https://wandb.ai/walt_/dose-prediction/runs/fyxnt2ra' target=\"_blank\">https://wandb.ai/walt_/dose-prediction/runs/fyxnt2ra</a><br/> View project at: <a href='https://wandb.ai/walt_/dose-prediction' target=\"_blank\">https://wandb.ai/walt_/dose-prediction</a><br/>Synced 5 W&B file(s), 0 media file(s), 0 artifact file(s) and 0 other file(s)"
      ],
      "text/plain": [
       "<IPython.core.display.HTML object>"
      ]
     },
     "metadata": {},
     "output_type": "display_data"
    },
    {
     "data": {
      "text/html": [
       "Find logs at: <code>./wandb/run-20241124_153705-fyxnt2ra/logs</code>"
      ],
      "text/plain": [
       "<IPython.core.display.HTML object>"
      ]
     },
     "metadata": {},
     "output_type": "display_data"
    },
    {
     "name": "stderr",
     "output_type": "stream",
     "text": [
      "\u001b[34m\u001b[1mwandb\u001b[0m: Agent Starting Run: krg4t0ug with config:\n",
      "\u001b[34m\u001b[1mwandb\u001b[0m: \tactivation_function: tanh\n",
      "\u001b[34m\u001b[1mwandb\u001b[0m: \tbatch_size: 32\n",
      "\u001b[34m\u001b[1mwandb\u001b[0m: \tepochs: 20\n",
      "\u001b[34m\u001b[1mwandb\u001b[0m: \tinclude_edis: False\n",
      "\u001b[34m\u001b[1mwandb\u001b[0m: \tinclude_mgdis: True\n",
      "\u001b[34m\u001b[1mwandb\u001b[0m: \tinclude_mpc: False\n",
      "\u001b[34m\u001b[1mwandb\u001b[0m: \tinclude_sharpness: False\n",
      "\u001b[34m\u001b[1mwandb\u001b[0m: \tinclude_texture: True\n",
      "\u001b[34m\u001b[1mwandb\u001b[0m: \tlearning_rate: 0.005\n",
      "\u001b[34m\u001b[1mwandb\u001b[0m: \tloss_function: mean_absolute_error\n"
     ]
    },
    {
     "data": {
      "text/html": [
       "Tracking run with wandb version 0.18.7"
      ],
      "text/plain": [
       "<IPython.core.display.HTML object>"
      ]
     },
     "metadata": {},
     "output_type": "display_data"
    },
    {
     "data": {
      "text/html": [
       "Run data is saved locally in <code>/home/walt/FociNet/wandb/run-20241124_153726-krg4t0ug</code>"
      ],
      "text/plain": [
       "<IPython.core.display.HTML object>"
      ]
     },
     "metadata": {},
     "output_type": "display_data"
    },
    {
     "data": {
      "text/html": [
       "Syncing run <strong><a href='https://wandb.ai/walt_/dose-prediction/runs/krg4t0ug' target=\"_blank\">pretty-sweep-55</a></strong> to <a href='https://wandb.ai/walt_/dose-prediction' target=\"_blank\">Weights & Biases</a> (<a href='https://wandb.me/developer-guide' target=\"_blank\">docs</a>)<br/>Sweep page: <a href='https://wandb.ai/walt_/dose-prediction/sweeps/ijck5aqp' target=\"_blank\">https://wandb.ai/walt_/dose-prediction/sweeps/ijck5aqp</a>"
      ],
      "text/plain": [
       "<IPython.core.display.HTML object>"
      ]
     },
     "metadata": {},
     "output_type": "display_data"
    },
    {
     "data": {
      "text/html": [
       " View project at <a href='https://wandb.ai/walt_/dose-prediction' target=\"_blank\">https://wandb.ai/walt_/dose-prediction</a>"
      ],
      "text/plain": [
       "<IPython.core.display.HTML object>"
      ]
     },
     "metadata": {},
     "output_type": "display_data"
    },
    {
     "data": {
      "text/html": [
       " View sweep at <a href='https://wandb.ai/walt_/dose-prediction/sweeps/ijck5aqp' target=\"_blank\">https://wandb.ai/walt_/dose-prediction/sweeps/ijck5aqp</a>"
      ],
      "text/plain": [
       "<IPython.core.display.HTML object>"
      ]
     },
     "metadata": {},
     "output_type": "display_data"
    },
    {
     "data": {
      "text/html": [
       " View run at <a href='https://wandb.ai/walt_/dose-prediction/runs/krg4t0ug' target=\"_blank\">https://wandb.ai/walt_/dose-prediction/runs/krg4t0ug</a>"
      ],
      "text/plain": [
       "<IPython.core.display.HTML object>"
      ]
     },
     "metadata": {},
     "output_type": "display_data"
    },
    {
     "name": "stdout",
     "output_type": "stream",
     "text": [
      "Active Feature Config: {'activation_function': 'tanh', 'batch_size': 32, 'epochs': 20, 'include_edis': False, 'include_mgdis': True, 'include_mpc': False, 'include_sharpness': False, 'include_texture': True, 'learning_rate': 0.005, 'loss_function': 'mean_absolute_error'}\n",
      "Subset X_train shape: (9766, 3)\n",
      "Subset X_val shape: (2790, 3)\n",
      "Subset X_test shape: (1396, 3)\n",
      "Calculated input_dim: 3\n",
      "Epoch 1/20\n",
      "306/306 - 2s - 7ms/step - loss: 0.3012 - mae: 0.3012 - val_loss: 0.2863 - val_mae: 0.2863\n",
      "Epoch 2/20\n",
      "306/306 - 1s - 2ms/step - loss: 0.2894 - mae: 0.2894 - val_loss: 0.2674 - val_mae: 0.2674\n",
      "Epoch 3/20\n",
      "306/306 - 1s - 2ms/step - loss: 0.2522 - mae: 0.2522 - val_loss: 0.2429 - val_mae: 0.2429\n",
      "Epoch 4/20\n",
      "306/306 - 1s - 2ms/step - loss: 0.2436 - mae: 0.2436 - val_loss: 0.2474 - val_mae: 0.2474\n",
      "Epoch 5/20\n",
      "306/306 - 1s - 2ms/step - loss: 0.2394 - mae: 0.2394 - val_loss: 0.2371 - val_mae: 0.2371\n",
      "Epoch 6/20\n",
      "306/306 - 1s - 2ms/step - loss: 0.2353 - mae: 0.2353 - val_loss: 0.2341 - val_mae: 0.2341\n",
      "Epoch 7/20\n",
      "306/306 - 1s - 2ms/step - loss: 0.2339 - mae: 0.2339 - val_loss: 0.2378 - val_mae: 0.2378\n",
      "Epoch 8/20\n",
      "306/306 - 1s - 2ms/step - loss: 0.2335 - mae: 0.2335 - val_loss: 0.2306 - val_mae: 0.2306\n",
      "Epoch 9/20\n",
      "306/306 - 1s - 2ms/step - loss: 0.2320 - mae: 0.2320 - val_loss: 0.2328 - val_mae: 0.2328\n",
      "Epoch 10/20\n",
      "306/306 - 1s - 2ms/step - loss: 0.2340 - mae: 0.2340 - val_loss: 0.2270 - val_mae: 0.2270\n",
      "Epoch 11/20\n",
      "306/306 - 1s - 2ms/step - loss: 0.2310 - mae: 0.2310 - val_loss: 0.2264 - val_mae: 0.2264\n",
      "Epoch 12/20\n",
      "306/306 - 1s - 2ms/step - loss: 0.2320 - mae: 0.2320 - val_loss: 0.2287 - val_mae: 0.2287\n",
      "Epoch 13/20\n",
      "306/306 - 1s - 2ms/step - loss: 0.2298 - mae: 0.2298 - val_loss: 0.2273 - val_mae: 0.2273\n",
      "Epoch 14/20\n",
      "306/306 - 1s - 2ms/step - loss: 0.2293 - mae: 0.2293 - val_loss: 0.2396 - val_mae: 0.2396\n",
      "Epoch 15/20\n",
      "306/306 - 1s - 2ms/step - loss: 0.2274 - mae: 0.2274 - val_loss: 0.2266 - val_mae: 0.2266\n",
      "Epoch 16/20\n",
      "306/306 - 1s - 2ms/step - loss: 0.2283 - mae: 0.2283 - val_loss: 0.2239 - val_mae: 0.2239\n",
      "Epoch 17/20\n",
      "306/306 - 1s - 2ms/step - loss: 0.2269 - mae: 0.2269 - val_loss: 0.2245 - val_mae: 0.2245\n",
      "Epoch 18/20\n",
      "306/306 - 1s - 2ms/step - loss: 0.2272 - mae: 0.2272 - val_loss: 0.2267 - val_mae: 0.2267\n",
      "Epoch 19/20\n",
      "306/306 - 1s - 2ms/step - loss: 0.2250 - mae: 0.2250 - val_loss: 0.2258 - val_mae: 0.2258\n",
      "Epoch 20/20\n",
      "306/306 - 1s - 2ms/step - loss: 0.2257 - mae: 0.2257 - val_loss: 0.2234 - val_mae: 0.2234\n",
      "\u001b[1m44/44\u001b[0m \u001b[32m━━━━━━━━━━━━━━━━━━━━\u001b[0m\u001b[37m\u001b[0m \u001b[1m0s\u001b[0m 4ms/step\n"
     ]
    },
    {
     "data": {
      "text/html": [
       "\n",
       "    <style>\n",
       "        .wandb-row {\n",
       "            display: flex;\n",
       "            flex-direction: row;\n",
       "            flex-wrap: wrap;\n",
       "            justify-content: flex-start;\n",
       "            width: 100%;\n",
       "        }\n",
       "        .wandb-col {\n",
       "            display: flex;\n",
       "            flex-direction: column;\n",
       "            flex-basis: 100%;\n",
       "            flex: 1;\n",
       "            padding: 10px;\n",
       "        }\n",
       "    </style>\n",
       "<div class=\"wandb-row\"><div class=\"wandb-col\"><h3>Run history:</h3><br/><table class=\"wandb\"><tr><td>Max Absolute Error (Test)</td><td>▁</td></tr><tr><td>Mean Absolute Error (Test)</td><td>▁</td></tr><tr><td>R²</td><td>▁</td></tr><tr><td>Test Loss</td><td>▁</td></tr><tr><td>Test MAE</td><td>▁</td></tr><tr><td>epoch</td><td>▁▁▂▂▂▃▃▄▄▄▅▅▅▆▆▇▇▇██</td></tr><tr><td>epoch/epoch</td><td>▁▁▂▂▂▃▃▄▄▄▅▅▅▆▆▇▇▇██</td></tr><tr><td>epoch/learning_rate</td><td>▁▁▁▁▁▁▁▁▁▁▁▁▁▁▁▁▁▁▁▁</td></tr><tr><td>epoch/loss</td><td>█▇▄▃▂▂▂▂▂▂▂▂▁▁▁▁▁▁▁▁</td></tr><tr><td>epoch/mae</td><td>█▇▄▃▂▂▂▂▂▂▂▂▁▁▁▁▁▁▁▁</td></tr><tr><td>epoch/val_loss</td><td>█▆▃▄▃▂▃▂▂▁▁▂▁▃▁▁▁▁▁▁</td></tr><tr><td>epoch/val_mae</td><td>█▆▃▄▃▂▃▂▂▁▁▂▁▃▁▁▁▁▁▁</td></tr><tr><td>train_loss</td><td>█▇▄▃▂▂▂▂▂▂▂▂▁▁▁▁▁▁▁▁</td></tr><tr><td>train_mae</td><td>█▇▄▃▂▂▂▂▂▂▂▂▁▁▁▁▁▁▁▁</td></tr><tr><td>val_loss</td><td>█▆▃▄▃▂▃▂▂▁▁▂▁▃▁▁▁▁▁▁</td></tr><tr><td>val_mae</td><td>█▆▃▄▃▂▃▂▂▁▁▂▁▃▁▁▁▁▁▁</td></tr></table><br/></div><div class=\"wandb-col\"><h3>Run summary:</h3><br/><table class=\"wandb\"><tr><td>Max Absolute Error (Test)</td><td>1.00339</td></tr><tr><td>Mean Absolute Error (Test)</td><td>0.2207</td></tr><tr><td>R²</td><td>0.13367</td></tr><tr><td>Test Loss</td><td>0.2207</td></tr><tr><td>Test MAE</td><td>0.2207</td></tr><tr><td>epoch</td><td>19</td></tr><tr><td>epoch/epoch</td><td>19</td></tr><tr><td>epoch/learning_rate</td><td>0.005</td></tr><tr><td>epoch/loss</td><td>0.22567</td></tr><tr><td>epoch/mae</td><td>0.22567</td></tr><tr><td>epoch/val_loss</td><td>0.22339</td></tr><tr><td>epoch/val_mae</td><td>0.22339</td></tr><tr><td>train_loss</td><td>0.22567</td></tr><tr><td>train_mae</td><td>0.22567</td></tr><tr><td>val_loss</td><td>0.22339</td></tr><tr><td>val_mae</td><td>0.22339</td></tr></table><br/></div></div>"
      ],
      "text/plain": [
       "<IPython.core.display.HTML object>"
      ]
     },
     "metadata": {},
     "output_type": "display_data"
    },
    {
     "data": {
      "text/html": [
       " View run <strong style=\"color:#cdcd00\">pretty-sweep-55</strong> at: <a href='https://wandb.ai/walt_/dose-prediction/runs/krg4t0ug' target=\"_blank\">https://wandb.ai/walt_/dose-prediction/runs/krg4t0ug</a><br/> View project at: <a href='https://wandb.ai/walt_/dose-prediction' target=\"_blank\">https://wandb.ai/walt_/dose-prediction</a><br/>Synced 5 W&B file(s), 0 media file(s), 0 artifact file(s) and 0 other file(s)"
      ],
      "text/plain": [
       "<IPython.core.display.HTML object>"
      ]
     },
     "metadata": {},
     "output_type": "display_data"
    },
    {
     "data": {
      "text/html": [
       "Find logs at: <code>./wandb/run-20241124_153726-krg4t0ug/logs</code>"
      ],
      "text/plain": [
       "<IPython.core.display.HTML object>"
      ]
     },
     "metadata": {},
     "output_type": "display_data"
    },
    {
     "name": "stderr",
     "output_type": "stream",
     "text": [
      "\u001b[34m\u001b[1mwandb\u001b[0m: Agent Starting Run: z6zdiecu with config:\n",
      "\u001b[34m\u001b[1mwandb\u001b[0m: \tactivation_function: tanh\n",
      "\u001b[34m\u001b[1mwandb\u001b[0m: \tbatch_size: 32\n",
      "\u001b[34m\u001b[1mwandb\u001b[0m: \tepochs: 20\n",
      "\u001b[34m\u001b[1mwandb\u001b[0m: \tinclude_edis: False\n",
      "\u001b[34m\u001b[1mwandb\u001b[0m: \tinclude_mgdis: True\n",
      "\u001b[34m\u001b[1mwandb\u001b[0m: \tinclude_mpc: False\n",
      "\u001b[34m\u001b[1mwandb\u001b[0m: \tinclude_sharpness: False\n",
      "\u001b[34m\u001b[1mwandb\u001b[0m: \tinclude_texture: False\n",
      "\u001b[34m\u001b[1mwandb\u001b[0m: \tlearning_rate: 0.005\n",
      "\u001b[34m\u001b[1mwandb\u001b[0m: \tloss_function: mean_absolute_error\n"
     ]
    },
    {
     "data": {
      "text/html": [
       "Tracking run with wandb version 0.18.7"
      ],
      "text/plain": [
       "<IPython.core.display.HTML object>"
      ]
     },
     "metadata": {},
     "output_type": "display_data"
    },
    {
     "data": {
      "text/html": [
       "Run data is saved locally in <code>/home/walt/FociNet/wandb/run-20241124_153746-z6zdiecu</code>"
      ],
      "text/plain": [
       "<IPython.core.display.HTML object>"
      ]
     },
     "metadata": {},
     "output_type": "display_data"
    },
    {
     "data": {
      "text/html": [
       "Syncing run <strong><a href='https://wandb.ai/walt_/dose-prediction/runs/z6zdiecu' target=\"_blank\">laced-sweep-56</a></strong> to <a href='https://wandb.ai/walt_/dose-prediction' target=\"_blank\">Weights & Biases</a> (<a href='https://wandb.me/developer-guide' target=\"_blank\">docs</a>)<br/>Sweep page: <a href='https://wandb.ai/walt_/dose-prediction/sweeps/ijck5aqp' target=\"_blank\">https://wandb.ai/walt_/dose-prediction/sweeps/ijck5aqp</a>"
      ],
      "text/plain": [
       "<IPython.core.display.HTML object>"
      ]
     },
     "metadata": {},
     "output_type": "display_data"
    },
    {
     "data": {
      "text/html": [
       " View project at <a href='https://wandb.ai/walt_/dose-prediction' target=\"_blank\">https://wandb.ai/walt_/dose-prediction</a>"
      ],
      "text/plain": [
       "<IPython.core.display.HTML object>"
      ]
     },
     "metadata": {},
     "output_type": "display_data"
    },
    {
     "data": {
      "text/html": [
       " View sweep at <a href='https://wandb.ai/walt_/dose-prediction/sweeps/ijck5aqp' target=\"_blank\">https://wandb.ai/walt_/dose-prediction/sweeps/ijck5aqp</a>"
      ],
      "text/plain": [
       "<IPython.core.display.HTML object>"
      ]
     },
     "metadata": {},
     "output_type": "display_data"
    },
    {
     "data": {
      "text/html": [
       " View run at <a href='https://wandb.ai/walt_/dose-prediction/runs/z6zdiecu' target=\"_blank\">https://wandb.ai/walt_/dose-prediction/runs/z6zdiecu</a>"
      ],
      "text/plain": [
       "<IPython.core.display.HTML object>"
      ]
     },
     "metadata": {},
     "output_type": "display_data"
    },
    {
     "name": "stdout",
     "output_type": "stream",
     "text": [
      "Active Feature Config: {'activation_function': 'tanh', 'batch_size': 32, 'epochs': 20, 'include_edis': False, 'include_mgdis': True, 'include_mpc': False, 'include_sharpness': False, 'include_texture': False, 'learning_rate': 0.005, 'loss_function': 'mean_absolute_error'}\n",
      "Subset X_train shape: (9766, 1)\n",
      "Subset X_val shape: (2790, 1)\n",
      "Subset X_test shape: (1396, 1)\n",
      "Calculated input_dim: 1\n",
      "Epoch 1/20\n",
      "306/306 - 2s - 7ms/step - loss: 0.2974 - mae: 0.2974 - val_loss: 0.2953 - val_mae: 0.2953\n",
      "Epoch 2/20\n",
      "306/306 - 1s - 2ms/step - loss: 0.2955 - mae: 0.2955 - val_loss: 0.2904 - val_mae: 0.2904\n",
      "Epoch 3/20\n",
      "306/306 - 1s - 2ms/step - loss: 0.2953 - mae: 0.2953 - val_loss: 0.2916 - val_mae: 0.2916\n",
      "Epoch 4/20\n",
      "306/306 - 1s - 2ms/step - loss: 0.2949 - mae: 0.2949 - val_loss: 0.2974 - val_mae: 0.2974\n",
      "Epoch 5/20\n",
      "306/306 - 1s - 2ms/step - loss: 0.2958 - mae: 0.2958 - val_loss: 0.2901 - val_mae: 0.2901\n",
      "Epoch 6/20\n",
      "306/306 - 1s - 2ms/step - loss: 0.2952 - mae: 0.2952 - val_loss: 0.2925 - val_mae: 0.2925\n",
      "Epoch 7/20\n",
      "306/306 - 1s - 2ms/step - loss: 0.2936 - mae: 0.2936 - val_loss: 0.2900 - val_mae: 0.2900\n",
      "Epoch 8/20\n",
      "306/306 - 1s - 2ms/step - loss: 0.2705 - mae: 0.2705 - val_loss: 0.2518 - val_mae: 0.2518\n",
      "Epoch 9/20\n",
      "306/306 - 1s - 2ms/step - loss: 0.2448 - mae: 0.2448 - val_loss: 0.2409 - val_mae: 0.2409\n",
      "Epoch 10/20\n",
      "306/306 - 1s - 2ms/step - loss: 0.2406 - mae: 0.2406 - val_loss: 0.2435 - val_mae: 0.2435\n",
      "Epoch 11/20\n",
      "306/306 - 1s - 2ms/step - loss: 0.2405 - mae: 0.2405 - val_loss: 0.2366 - val_mae: 0.2366\n",
      "Epoch 12/20\n",
      "306/306 - 1s - 2ms/step - loss: 0.2376 - mae: 0.2376 - val_loss: 0.2405 - val_mae: 0.2405\n",
      "Epoch 13/20\n",
      "306/306 - 1s - 2ms/step - loss: 0.2377 - mae: 0.2377 - val_loss: 0.2339 - val_mae: 0.2339\n",
      "Epoch 14/20\n",
      "306/306 - 1s - 2ms/step - loss: 0.2356 - mae: 0.2356 - val_loss: 0.2344 - val_mae: 0.2344\n",
      "Epoch 15/20\n",
      "306/306 - 1s - 2ms/step - loss: 0.2357 - mae: 0.2357 - val_loss: 0.2409 - val_mae: 0.2409\n",
      "Epoch 16/20\n",
      "306/306 - 1s - 2ms/step - loss: 0.2366 - mae: 0.2366 - val_loss: 0.2352 - val_mae: 0.2352\n",
      "Epoch 17/20\n",
      "306/306 - 1s - 2ms/step - loss: 0.2364 - mae: 0.2364 - val_loss: 0.2376 - val_mae: 0.2376\n",
      "Epoch 18/20\n",
      "306/306 - 1s - 2ms/step - loss: 0.2359 - mae: 0.2359 - val_loss: 0.2314 - val_mae: 0.2314\n",
      "Epoch 19/20\n",
      "306/306 - 1s - 2ms/step - loss: 0.2356 - mae: 0.2356 - val_loss: 0.2344 - val_mae: 0.2344\n",
      "Epoch 20/20\n",
      "306/306 - 1s - 2ms/step - loss: 0.2353 - mae: 0.2353 - val_loss: 0.2356 - val_mae: 0.2356\n",
      "\u001b[1m44/44\u001b[0m \u001b[32m━━━━━━━━━━━━━━━━━━━━\u001b[0m\u001b[37m\u001b[0m \u001b[1m0s\u001b[0m 4ms/step\n"
     ]
    },
    {
     "data": {
      "text/html": [
       "\n",
       "    <style>\n",
       "        .wandb-row {\n",
       "            display: flex;\n",
       "            flex-direction: row;\n",
       "            flex-wrap: wrap;\n",
       "            justify-content: flex-start;\n",
       "            width: 100%;\n",
       "        }\n",
       "        .wandb-col {\n",
       "            display: flex;\n",
       "            flex-direction: column;\n",
       "            flex-basis: 100%;\n",
       "            flex: 1;\n",
       "            padding: 10px;\n",
       "        }\n",
       "    </style>\n",
       "<div class=\"wandb-row\"><div class=\"wandb-col\"><h3>Run history:</h3><br/><table class=\"wandb\"><tr><td>Max Absolute Error (Test)</td><td>▁</td></tr><tr><td>Mean Absolute Error (Test)</td><td>▁</td></tr><tr><td>R²</td><td>▁</td></tr><tr><td>Test Loss</td><td>▁</td></tr><tr><td>Test MAE</td><td>▁</td></tr><tr><td>epoch</td><td>▁▁▂▂▂▃▃▄▄▄▅▅▅▆▆▇▇▇██</td></tr><tr><td>epoch/epoch</td><td>▁▁▂▂▂▃▃▄▄▄▅▅▅▆▆▇▇▇██</td></tr><tr><td>epoch/learning_rate</td><td>▁▁▁▁▁▁▁▁▁▁▁▁▁▁▁▁▁▁▁▁</td></tr><tr><td>epoch/loss</td><td>███████▅▂▂▂▁▁▁▁▁▁▁▁▁</td></tr><tr><td>epoch/mae</td><td>███████▅▂▂▂▁▁▁▁▁▁▁▁▁</td></tr><tr><td>epoch/val_loss</td><td>█▇▇█▇▇▇▃▂▂▂▂▁▁▂▁▂▁▁▁</td></tr><tr><td>epoch/val_mae</td><td>█▇▇█▇▇▇▃▂▂▂▂▁▁▂▁▂▁▁▁</td></tr><tr><td>train_loss</td><td>███████▅▂▂▂▁▁▁▁▁▁▁▁▁</td></tr><tr><td>train_mae</td><td>███████▅▂▂▂▁▁▁▁▁▁▁▁▁</td></tr><tr><td>val_loss</td><td>█▇▇█▇▇▇▃▂▂▂▂▁▁▂▁▂▁▁▁</td></tr><tr><td>val_mae</td><td>█▇▇█▇▇▇▃▂▂▂▂▁▁▂▁▂▁▁▁</td></tr></table><br/></div><div class=\"wandb-col\"><h3>Run summary:</h3><br/><table class=\"wandb\"><tr><td>Max Absolute Error (Test)</td><td>1.02173</td></tr><tr><td>Mean Absolute Error (Test)</td><td>0.24197</td></tr><tr><td>R²</td><td>0.05208</td></tr><tr><td>Test Loss</td><td>0.24197</td></tr><tr><td>Test MAE</td><td>0.24197</td></tr><tr><td>epoch</td><td>19</td></tr><tr><td>epoch/epoch</td><td>19</td></tr><tr><td>epoch/learning_rate</td><td>0.005</td></tr><tr><td>epoch/loss</td><td>0.23529</td></tr><tr><td>epoch/mae</td><td>0.23529</td></tr><tr><td>epoch/val_loss</td><td>0.2356</td></tr><tr><td>epoch/val_mae</td><td>0.2356</td></tr><tr><td>train_loss</td><td>0.23529</td></tr><tr><td>train_mae</td><td>0.23529</td></tr><tr><td>val_loss</td><td>0.2356</td></tr><tr><td>val_mae</td><td>0.2356</td></tr></table><br/></div></div>"
      ],
      "text/plain": [
       "<IPython.core.display.HTML object>"
      ]
     },
     "metadata": {},
     "output_type": "display_data"
    },
    {
     "data": {
      "text/html": [
       " View run <strong style=\"color:#cdcd00\">laced-sweep-56</strong> at: <a href='https://wandb.ai/walt_/dose-prediction/runs/z6zdiecu' target=\"_blank\">https://wandb.ai/walt_/dose-prediction/runs/z6zdiecu</a><br/> View project at: <a href='https://wandb.ai/walt_/dose-prediction' target=\"_blank\">https://wandb.ai/walt_/dose-prediction</a><br/>Synced 5 W&B file(s), 0 media file(s), 0 artifact file(s) and 0 other file(s)"
      ],
      "text/plain": [
       "<IPython.core.display.HTML object>"
      ]
     },
     "metadata": {},
     "output_type": "display_data"
    },
    {
     "data": {
      "text/html": [
       "Find logs at: <code>./wandb/run-20241124_153746-z6zdiecu/logs</code>"
      ],
      "text/plain": [
       "<IPython.core.display.HTML object>"
      ]
     },
     "metadata": {},
     "output_type": "display_data"
    },
    {
     "name": "stderr",
     "output_type": "stream",
     "text": [
      "\u001b[34m\u001b[1mwandb\u001b[0m: Agent Starting Run: epzoq7et with config:\n",
      "\u001b[34m\u001b[1mwandb\u001b[0m: \tactivation_function: tanh\n",
      "\u001b[34m\u001b[1mwandb\u001b[0m: \tbatch_size: 32\n",
      "\u001b[34m\u001b[1mwandb\u001b[0m: \tepochs: 20\n",
      "\u001b[34m\u001b[1mwandb\u001b[0m: \tinclude_edis: False\n",
      "\u001b[34m\u001b[1mwandb\u001b[0m: \tinclude_mgdis: False\n",
      "\u001b[34m\u001b[1mwandb\u001b[0m: \tinclude_mpc: True\n",
      "\u001b[34m\u001b[1mwandb\u001b[0m: \tinclude_sharpness: True\n",
      "\u001b[34m\u001b[1mwandb\u001b[0m: \tinclude_texture: True\n",
      "\u001b[34m\u001b[1mwandb\u001b[0m: \tlearning_rate: 0.005\n",
      "\u001b[34m\u001b[1mwandb\u001b[0m: \tloss_function: mean_absolute_error\n"
     ]
    },
    {
     "data": {
      "text/html": [
       "Tracking run with wandb version 0.18.7"
      ],
      "text/plain": [
       "<IPython.core.display.HTML object>"
      ]
     },
     "metadata": {},
     "output_type": "display_data"
    },
    {
     "data": {
      "text/html": [
       "Run data is saved locally in <code>/home/walt/FociNet/wandb/run-20241124_153807-epzoq7et</code>"
      ],
      "text/plain": [
       "<IPython.core.display.HTML object>"
      ]
     },
     "metadata": {},
     "output_type": "display_data"
    },
    {
     "data": {
      "text/html": [
       "Syncing run <strong><a href='https://wandb.ai/walt_/dose-prediction/runs/epzoq7et' target=\"_blank\">curious-sweep-57</a></strong> to <a href='https://wandb.ai/walt_/dose-prediction' target=\"_blank\">Weights & Biases</a> (<a href='https://wandb.me/developer-guide' target=\"_blank\">docs</a>)<br/>Sweep page: <a href='https://wandb.ai/walt_/dose-prediction/sweeps/ijck5aqp' target=\"_blank\">https://wandb.ai/walt_/dose-prediction/sweeps/ijck5aqp</a>"
      ],
      "text/plain": [
       "<IPython.core.display.HTML object>"
      ]
     },
     "metadata": {},
     "output_type": "display_data"
    },
    {
     "data": {
      "text/html": [
       " View project at <a href='https://wandb.ai/walt_/dose-prediction' target=\"_blank\">https://wandb.ai/walt_/dose-prediction</a>"
      ],
      "text/plain": [
       "<IPython.core.display.HTML object>"
      ]
     },
     "metadata": {},
     "output_type": "display_data"
    },
    {
     "data": {
      "text/html": [
       " View sweep at <a href='https://wandb.ai/walt_/dose-prediction/sweeps/ijck5aqp' target=\"_blank\">https://wandb.ai/walt_/dose-prediction/sweeps/ijck5aqp</a>"
      ],
      "text/plain": [
       "<IPython.core.display.HTML object>"
      ]
     },
     "metadata": {},
     "output_type": "display_data"
    },
    {
     "data": {
      "text/html": [
       " View run at <a href='https://wandb.ai/walt_/dose-prediction/runs/epzoq7et' target=\"_blank\">https://wandb.ai/walt_/dose-prediction/runs/epzoq7et</a>"
      ],
      "text/plain": [
       "<IPython.core.display.HTML object>"
      ]
     },
     "metadata": {},
     "output_type": "display_data"
    },
    {
     "name": "stdout",
     "output_type": "stream",
     "text": [
      "Active Feature Config: {'activation_function': 'tanh', 'batch_size': 32, 'epochs': 20, 'include_edis': False, 'include_mgdis': False, 'include_mpc': True, 'include_sharpness': True, 'include_texture': True, 'learning_rate': 0.005, 'loss_function': 'mean_absolute_error'}\n",
      "Subset X_train shape: (9766, 5)\n",
      "Subset X_val shape: (2790, 5)\n",
      "Subset X_test shape: (1396, 5)\n",
      "Calculated input_dim: 5\n",
      "Epoch 1/20\n",
      "306/306 - 2s - 7ms/step - loss: 0.2974 - mae: 0.2974 - val_loss: 0.2731 - val_mae: 0.2731\n",
      "Epoch 2/20\n",
      "306/306 - 1s - 2ms/step - loss: 0.2718 - mae: 0.2718 - val_loss: 0.2724 - val_mae: 0.2724\n",
      "Epoch 3/20\n",
      "306/306 - 1s - 2ms/step - loss: 0.2683 - mae: 0.2683 - val_loss: 0.2517 - val_mae: 0.2517\n",
      "Epoch 4/20\n",
      "306/306 - 1s - 2ms/step - loss: 0.2360 - mae: 0.2360 - val_loss: 0.2352 - val_mae: 0.2352\n",
      "Epoch 5/20\n",
      "306/306 - 1s - 2ms/step - loss: 0.2051 - mae: 0.2051 - val_loss: 0.1988 - val_mae: 0.1988\n",
      "Epoch 6/20\n",
      "306/306 - 1s - 2ms/step - loss: 0.1965 - mae: 0.1965 - val_loss: 0.1973 - val_mae: 0.1973\n",
      "Epoch 7/20\n",
      "306/306 - 1s - 2ms/step - loss: 0.1935 - mae: 0.1935 - val_loss: 0.2021 - val_mae: 0.2021\n",
      "Epoch 8/20\n",
      "306/306 - 1s - 2ms/step - loss: 0.1924 - mae: 0.1924 - val_loss: 0.1957 - val_mae: 0.1957\n",
      "Epoch 9/20\n",
      "306/306 - 1s - 2ms/step - loss: 0.1892 - mae: 0.1892 - val_loss: 0.1839 - val_mae: 0.1839\n",
      "Epoch 10/20\n",
      "306/306 - 1s - 2ms/step - loss: 0.1845 - mae: 0.1845 - val_loss: 0.2034 - val_mae: 0.2034\n",
      "Epoch 11/20\n",
      "306/306 - 1s - 2ms/step - loss: 0.1843 - mae: 0.1843 - val_loss: 0.1931 - val_mae: 0.1931\n",
      "Epoch 12/20\n",
      "306/306 - 1s - 2ms/step - loss: 0.1832 - mae: 0.1832 - val_loss: 0.1839 - val_mae: 0.1839\n",
      "Epoch 13/20\n",
      "306/306 - 1s - 2ms/step - loss: 0.1829 - mae: 0.1829 - val_loss: 0.1915 - val_mae: 0.1915\n",
      "Epoch 14/20\n",
      "306/306 - 1s - 2ms/step - loss: 0.1797 - mae: 0.1797 - val_loss: 0.1861 - val_mae: 0.1861\n",
      "Epoch 15/20\n",
      "306/306 - 1s - 2ms/step - loss: 0.1795 - mae: 0.1795 - val_loss: 0.1843 - val_mae: 0.1843\n",
      "Epoch 16/20\n",
      "306/306 - 1s - 2ms/step - loss: 0.1799 - mae: 0.1799 - val_loss: 0.1979 - val_mae: 0.1979\n",
      "Epoch 17/20\n",
      "306/306 - 1s - 2ms/step - loss: 0.1819 - mae: 0.1819 - val_loss: 0.2020 - val_mae: 0.2020\n",
      "Epoch 18/20\n",
      "306/306 - 1s - 2ms/step - loss: 0.1797 - mae: 0.1797 - val_loss: 0.1846 - val_mae: 0.1846\n",
      "Epoch 19/20\n",
      "306/306 - 1s - 2ms/step - loss: 0.1795 - mae: 0.1795 - val_loss: 0.1841 - val_mae: 0.1841\n",
      "Epoch 20/20\n",
      "306/306 - 1s - 2ms/step - loss: 0.1781 - mae: 0.1781 - val_loss: 0.1794 - val_mae: 0.1794\n",
      "\u001b[1m44/44\u001b[0m \u001b[32m━━━━━━━━━━━━━━━━━━━━\u001b[0m\u001b[37m\u001b[0m \u001b[1m0s\u001b[0m 4ms/step\n"
     ]
    },
    {
     "data": {
      "text/html": [
       "\n",
       "    <style>\n",
       "        .wandb-row {\n",
       "            display: flex;\n",
       "            flex-direction: row;\n",
       "            flex-wrap: wrap;\n",
       "            justify-content: flex-start;\n",
       "            width: 100%;\n",
       "        }\n",
       "        .wandb-col {\n",
       "            display: flex;\n",
       "            flex-direction: column;\n",
       "            flex-basis: 100%;\n",
       "            flex: 1;\n",
       "            padding: 10px;\n",
       "        }\n",
       "    </style>\n",
       "<div class=\"wandb-row\"><div class=\"wandb-col\"><h3>Run history:</h3><br/><table class=\"wandb\"><tr><td>Max Absolute Error (Test)</td><td>▁</td></tr><tr><td>Mean Absolute Error (Test)</td><td>▁</td></tr><tr><td>R²</td><td>▁</td></tr><tr><td>Test Loss</td><td>▁</td></tr><tr><td>Test MAE</td><td>▁</td></tr><tr><td>epoch</td><td>▁▁▂▂▂▃▃▄▄▄▅▅▅▆▆▇▇▇██</td></tr><tr><td>epoch/epoch</td><td>▁▁▂▂▂▃▃▄▄▄▅▅▅▆▆▇▇▇██</td></tr><tr><td>epoch/learning_rate</td><td>▁▁▁▁▁▁▁▁▁▁▁▁▁▁▁▁▁▁▁▁</td></tr><tr><td>epoch/loss</td><td>█▆▆▄▃▂▂▂▂▁▁▁▁▁▁▁▁▁▁▁</td></tr><tr><td>epoch/mae</td><td>█▆▆▄▃▂▂▂▂▁▁▁▁▁▁▁▁▁▁▁</td></tr><tr><td>epoch/val_loss</td><td>██▆▅▂▂▃▂▁▃▂▁▂▂▁▂▃▁▁▁</td></tr><tr><td>epoch/val_mae</td><td>██▆▅▂▂▃▂▁▃▂▁▂▂▁▂▃▁▁▁</td></tr><tr><td>train_loss</td><td>█▆▆▄▃▂▂▂▂▁▁▁▁▁▁▁▁▁▁▁</td></tr><tr><td>train_mae</td><td>█▆▆▄▃▂▂▂▂▁▁▁▁▁▁▁▁▁▁▁</td></tr><tr><td>val_loss</td><td>██▆▅▂▂▃▂▁▃▂▁▂▂▁▂▃▁▁▁</td></tr><tr><td>val_mae</td><td>██▆▅▂▂▃▂▁▃▂▁▂▂▁▂▃▁▁▁</td></tr></table><br/></div><div class=\"wandb-col\"><h3>Run summary:</h3><br/><table class=\"wandb\"><tr><td>Max Absolute Error (Test)</td><td>1.00025</td></tr><tr><td>Mean Absolute Error (Test)</td><td>0.17094</td></tr><tr><td>R²</td><td>0.38191</td></tr><tr><td>Test Loss</td><td>0.17094</td></tr><tr><td>Test MAE</td><td>0.17094</td></tr><tr><td>epoch</td><td>19</td></tr><tr><td>epoch/epoch</td><td>19</td></tr><tr><td>epoch/learning_rate</td><td>0.005</td></tr><tr><td>epoch/loss</td><td>0.17814</td></tr><tr><td>epoch/mae</td><td>0.17814</td></tr><tr><td>epoch/val_loss</td><td>0.17938</td></tr><tr><td>epoch/val_mae</td><td>0.17938</td></tr><tr><td>train_loss</td><td>0.17814</td></tr><tr><td>train_mae</td><td>0.17814</td></tr><tr><td>val_loss</td><td>0.17938</td></tr><tr><td>val_mae</td><td>0.17938</td></tr></table><br/></div></div>"
      ],
      "text/plain": [
       "<IPython.core.display.HTML object>"
      ]
     },
     "metadata": {},
     "output_type": "display_data"
    },
    {
     "data": {
      "text/html": [
       " View run <strong style=\"color:#cdcd00\">curious-sweep-57</strong> at: <a href='https://wandb.ai/walt_/dose-prediction/runs/epzoq7et' target=\"_blank\">https://wandb.ai/walt_/dose-prediction/runs/epzoq7et</a><br/> View project at: <a href='https://wandb.ai/walt_/dose-prediction' target=\"_blank\">https://wandb.ai/walt_/dose-prediction</a><br/>Synced 5 W&B file(s), 0 media file(s), 0 artifact file(s) and 0 other file(s)"
      ],
      "text/plain": [
       "<IPython.core.display.HTML object>"
      ]
     },
     "metadata": {},
     "output_type": "display_data"
    },
    {
     "data": {
      "text/html": [
       "Find logs at: <code>./wandb/run-20241124_153807-epzoq7et/logs</code>"
      ],
      "text/plain": [
       "<IPython.core.display.HTML object>"
      ]
     },
     "metadata": {},
     "output_type": "display_data"
    },
    {
     "name": "stderr",
     "output_type": "stream",
     "text": [
      "\u001b[34m\u001b[1mwandb\u001b[0m: Agent Starting Run: a9v7od2j with config:\n",
      "\u001b[34m\u001b[1mwandb\u001b[0m: \tactivation_function: tanh\n",
      "\u001b[34m\u001b[1mwandb\u001b[0m: \tbatch_size: 32\n",
      "\u001b[34m\u001b[1mwandb\u001b[0m: \tepochs: 20\n",
      "\u001b[34m\u001b[1mwandb\u001b[0m: \tinclude_edis: False\n",
      "\u001b[34m\u001b[1mwandb\u001b[0m: \tinclude_mgdis: False\n",
      "\u001b[34m\u001b[1mwandb\u001b[0m: \tinclude_mpc: True\n",
      "\u001b[34m\u001b[1mwandb\u001b[0m: \tinclude_sharpness: True\n",
      "\u001b[34m\u001b[1mwandb\u001b[0m: \tinclude_texture: False\n",
      "\u001b[34m\u001b[1mwandb\u001b[0m: \tlearning_rate: 0.005\n",
      "\u001b[34m\u001b[1mwandb\u001b[0m: \tloss_function: mean_absolute_error\n"
     ]
    },
    {
     "data": {
      "text/html": [
       "Tracking run with wandb version 0.18.7"
      ],
      "text/plain": [
       "<IPython.core.display.HTML object>"
      ]
     },
     "metadata": {},
     "output_type": "display_data"
    },
    {
     "data": {
      "text/html": [
       "Run data is saved locally in <code>/home/walt/FociNet/wandb/run-20241124_153827-a9v7od2j</code>"
      ],
      "text/plain": [
       "<IPython.core.display.HTML object>"
      ]
     },
     "metadata": {},
     "output_type": "display_data"
    },
    {
     "data": {
      "text/html": [
       "Syncing run <strong><a href='https://wandb.ai/walt_/dose-prediction/runs/a9v7od2j' target=\"_blank\">faithful-sweep-58</a></strong> to <a href='https://wandb.ai/walt_/dose-prediction' target=\"_blank\">Weights & Biases</a> (<a href='https://wandb.me/developer-guide' target=\"_blank\">docs</a>)<br/>Sweep page: <a href='https://wandb.ai/walt_/dose-prediction/sweeps/ijck5aqp' target=\"_blank\">https://wandb.ai/walt_/dose-prediction/sweeps/ijck5aqp</a>"
      ],
      "text/plain": [
       "<IPython.core.display.HTML object>"
      ]
     },
     "metadata": {},
     "output_type": "display_data"
    },
    {
     "data": {
      "text/html": [
       " View project at <a href='https://wandb.ai/walt_/dose-prediction' target=\"_blank\">https://wandb.ai/walt_/dose-prediction</a>"
      ],
      "text/plain": [
       "<IPython.core.display.HTML object>"
      ]
     },
     "metadata": {},
     "output_type": "display_data"
    },
    {
     "data": {
      "text/html": [
       " View sweep at <a href='https://wandb.ai/walt_/dose-prediction/sweeps/ijck5aqp' target=\"_blank\">https://wandb.ai/walt_/dose-prediction/sweeps/ijck5aqp</a>"
      ],
      "text/plain": [
       "<IPython.core.display.HTML object>"
      ]
     },
     "metadata": {},
     "output_type": "display_data"
    },
    {
     "data": {
      "text/html": [
       " View run at <a href='https://wandb.ai/walt_/dose-prediction/runs/a9v7od2j' target=\"_blank\">https://wandb.ai/walt_/dose-prediction/runs/a9v7od2j</a>"
      ],
      "text/plain": [
       "<IPython.core.display.HTML object>"
      ]
     },
     "metadata": {},
     "output_type": "display_data"
    },
    {
     "name": "stdout",
     "output_type": "stream",
     "text": [
      "Active Feature Config: {'activation_function': 'tanh', 'batch_size': 32, 'epochs': 20, 'include_edis': False, 'include_mgdis': False, 'include_mpc': True, 'include_sharpness': True, 'include_texture': False, 'learning_rate': 0.005, 'loss_function': 'mean_absolute_error'}\n",
      "Subset X_train shape: (9766, 3)\n",
      "Subset X_val shape: (2790, 3)\n",
      "Subset X_test shape: (1396, 3)\n",
      "Calculated input_dim: 3\n",
      "Epoch 1/20\n",
      "306/306 - 2s - 7ms/step - loss: 0.2997 - mae: 0.2997 - val_loss: 0.2915 - val_mae: 0.2915\n",
      "Epoch 2/20\n",
      "306/306 - 1s - 2ms/step - loss: 0.2904 - mae: 0.2904 - val_loss: 0.2710 - val_mae: 0.2710\n",
      "Epoch 3/20\n",
      "306/306 - 1s - 2ms/step - loss: 0.2575 - mae: 0.2575 - val_loss: 0.2633 - val_mae: 0.2633\n",
      "Epoch 4/20\n",
      "306/306 - 1s - 2ms/step - loss: 0.2442 - mae: 0.2442 - val_loss: 0.2419 - val_mae: 0.2419\n",
      "Epoch 5/20\n",
      "306/306 - 1s - 2ms/step - loss: 0.2376 - mae: 0.2376 - val_loss: 0.2416 - val_mae: 0.2416\n",
      "Epoch 6/20\n",
      "306/306 - 1s - 2ms/step - loss: 0.2366 - mae: 0.2366 - val_loss: 0.2353 - val_mae: 0.2353\n",
      "Epoch 7/20\n",
      "306/306 - 1s - 2ms/step - loss: 0.2349 - mae: 0.2349 - val_loss: 0.2329 - val_mae: 0.2329\n",
      "Epoch 8/20\n",
      "306/306 - 1s - 2ms/step - loss: 0.2327 - mae: 0.2327 - val_loss: 0.2383 - val_mae: 0.2383\n",
      "Epoch 9/20\n",
      "306/306 - 1s - 2ms/step - loss: 0.2341 - mae: 0.2341 - val_loss: 0.2374 - val_mae: 0.2374\n",
      "Epoch 10/20\n",
      "306/306 - 1s - 2ms/step - loss: 0.2349 - mae: 0.2349 - val_loss: 0.2302 - val_mae: 0.2302\n",
      "Epoch 11/20\n",
      "306/306 - 1s - 2ms/step - loss: 0.2302 - mae: 0.2302 - val_loss: 0.2310 - val_mae: 0.2310\n",
      "Epoch 12/20\n",
      "306/306 - 1s - 2ms/step - loss: 0.2318 - mae: 0.2318 - val_loss: 0.2310 - val_mae: 0.2310\n",
      "Epoch 13/20\n",
      "306/306 - 1s - 2ms/step - loss: 0.2341 - mae: 0.2341 - val_loss: 0.2262 - val_mae: 0.2262\n",
      "Epoch 14/20\n",
      "306/306 - 1s - 3ms/step - loss: 0.2284 - mae: 0.2284 - val_loss: 0.2243 - val_mae: 0.2243\n",
      "Epoch 15/20\n",
      "306/306 - 1s - 2ms/step - loss: 0.2280 - mae: 0.2280 - val_loss: 0.2234 - val_mae: 0.2234\n",
      "Epoch 16/20\n",
      "306/306 - 1s - 3ms/step - loss: 0.2287 - mae: 0.2287 - val_loss: 0.2642 - val_mae: 0.2642\n",
      "Epoch 17/20\n",
      "306/306 - 1s - 3ms/step - loss: 0.2293 - mae: 0.2293 - val_loss: 0.2257 - val_mae: 0.2257\n",
      "Epoch 18/20\n",
      "306/306 - 1s - 4ms/step - loss: 0.2259 - mae: 0.2259 - val_loss: 0.2241 - val_mae: 0.2241\n",
      "Epoch 19/20\n",
      "306/306 - 1s - 3ms/step - loss: 0.2268 - mae: 0.2268 - val_loss: 0.2235 - val_mae: 0.2235\n",
      "Epoch 20/20\n",
      "306/306 - 1s - 2ms/step - loss: 0.2264 - mae: 0.2264 - val_loss: 0.2248 - val_mae: 0.2248\n",
      "\u001b[1m44/44\u001b[0m \u001b[32m━━━━━━━━━━━━━━━━━━━━\u001b[0m\u001b[37m\u001b[0m \u001b[1m0s\u001b[0m 4ms/step\n"
     ]
    },
    {
     "data": {
      "text/html": [
       "\n",
       "    <style>\n",
       "        .wandb-row {\n",
       "            display: flex;\n",
       "            flex-direction: row;\n",
       "            flex-wrap: wrap;\n",
       "            justify-content: flex-start;\n",
       "            width: 100%;\n",
       "        }\n",
       "        .wandb-col {\n",
       "            display: flex;\n",
       "            flex-direction: column;\n",
       "            flex-basis: 100%;\n",
       "            flex: 1;\n",
       "            padding: 10px;\n",
       "        }\n",
       "    </style>\n",
       "<div class=\"wandb-row\"><div class=\"wandb-col\"><h3>Run history:</h3><br/><table class=\"wandb\"><tr><td>Max Absolute Error (Test)</td><td>▁</td></tr><tr><td>Mean Absolute Error (Test)</td><td>▁</td></tr><tr><td>R²</td><td>▁</td></tr><tr><td>Test Loss</td><td>▁</td></tr><tr><td>Test MAE</td><td>▁</td></tr><tr><td>epoch</td><td>▁▁▂▂▂▃▃▄▄▄▅▅▅▆▆▇▇▇██</td></tr><tr><td>epoch/epoch</td><td>▁▁▂▂▂▃▃▄▄▄▅▅▅▆▆▇▇▇██</td></tr><tr><td>epoch/learning_rate</td><td>▁▁▁▁▁▁▁▁▁▁▁▁▁▁▁▁▁▁▁▁</td></tr><tr><td>epoch/loss</td><td>█▇▄▃▂▂▂▂▂▂▁▂▂▁▁▁▁▁▁▁</td></tr><tr><td>epoch/mae</td><td>█▇▄▃▂▂▂▂▂▂▁▂▂▁▁▁▁▁▁▁</td></tr><tr><td>epoch/val_loss</td><td>█▆▅▃▃▂▂▃▂▂▂▂▁▁▁▅▁▁▁▁</td></tr><tr><td>epoch/val_mae</td><td>█▆▅▃▃▂▂▃▂▂▂▂▁▁▁▅▁▁▁▁</td></tr><tr><td>train_loss</td><td>█▇▄▃▂▂▂▂▂▂▁▂▂▁▁▁▁▁▁▁</td></tr><tr><td>train_mae</td><td>█▇▄▃▂▂▂▂▂▂▁▂▂▁▁▁▁▁▁▁</td></tr><tr><td>val_loss</td><td>█▆▅▃▃▂▂▃▂▂▂▂▁▁▁▅▁▁▁▁</td></tr><tr><td>val_mae</td><td>█▆▅▃▃▂▂▃▂▂▂▂▁▁▁▅▁▁▁▁</td></tr></table><br/></div><div class=\"wandb-col\"><h3>Run summary:</h3><br/><table class=\"wandb\"><tr><td>Max Absolute Error (Test)</td><td>1.00347</td></tr><tr><td>Mean Absolute Error (Test)</td><td>0.22414</td></tr><tr><td>R²</td><td>0.11621</td></tr><tr><td>Test Loss</td><td>0.22414</td></tr><tr><td>Test MAE</td><td>0.22414</td></tr><tr><td>epoch</td><td>19</td></tr><tr><td>epoch/epoch</td><td>19</td></tr><tr><td>epoch/learning_rate</td><td>0.005</td></tr><tr><td>epoch/loss</td><td>0.22644</td></tr><tr><td>epoch/mae</td><td>0.22644</td></tr><tr><td>epoch/val_loss</td><td>0.22476</td></tr><tr><td>epoch/val_mae</td><td>0.22476</td></tr><tr><td>train_loss</td><td>0.22644</td></tr><tr><td>train_mae</td><td>0.22644</td></tr><tr><td>val_loss</td><td>0.22476</td></tr><tr><td>val_mae</td><td>0.22476</td></tr></table><br/></div></div>"
      ],
      "text/plain": [
       "<IPython.core.display.HTML object>"
      ]
     },
     "metadata": {},
     "output_type": "display_data"
    },
    {
     "data": {
      "text/html": [
       " View run <strong style=\"color:#cdcd00\">faithful-sweep-58</strong> at: <a href='https://wandb.ai/walt_/dose-prediction/runs/a9v7od2j' target=\"_blank\">https://wandb.ai/walt_/dose-prediction/runs/a9v7od2j</a><br/> View project at: <a href='https://wandb.ai/walt_/dose-prediction' target=\"_blank\">https://wandb.ai/walt_/dose-prediction</a><br/>Synced 5 W&B file(s), 0 media file(s), 0 artifact file(s) and 0 other file(s)"
      ],
      "text/plain": [
       "<IPython.core.display.HTML object>"
      ]
     },
     "metadata": {},
     "output_type": "display_data"
    },
    {
     "data": {
      "text/html": [
       "Find logs at: <code>./wandb/run-20241124_153827-a9v7od2j/logs</code>"
      ],
      "text/plain": [
       "<IPython.core.display.HTML object>"
      ]
     },
     "metadata": {},
     "output_type": "display_data"
    },
    {
     "name": "stderr",
     "output_type": "stream",
     "text": [
      "\u001b[34m\u001b[1mwandb\u001b[0m: Agent Starting Run: taz3z7l9 with config:\n",
      "\u001b[34m\u001b[1mwandb\u001b[0m: \tactivation_function: tanh\n",
      "\u001b[34m\u001b[1mwandb\u001b[0m: \tbatch_size: 32\n",
      "\u001b[34m\u001b[1mwandb\u001b[0m: \tepochs: 20\n",
      "\u001b[34m\u001b[1mwandb\u001b[0m: \tinclude_edis: False\n",
      "\u001b[34m\u001b[1mwandb\u001b[0m: \tinclude_mgdis: False\n",
      "\u001b[34m\u001b[1mwandb\u001b[0m: \tinclude_mpc: True\n",
      "\u001b[34m\u001b[1mwandb\u001b[0m: \tinclude_sharpness: False\n",
      "\u001b[34m\u001b[1mwandb\u001b[0m: \tinclude_texture: True\n",
      "\u001b[34m\u001b[1mwandb\u001b[0m: \tlearning_rate: 0.005\n",
      "\u001b[34m\u001b[1mwandb\u001b[0m: \tloss_function: mean_absolute_error\n"
     ]
    },
    {
     "data": {
      "text/html": [
       "Tracking run with wandb version 0.18.7"
      ],
      "text/plain": [
       "<IPython.core.display.HTML object>"
      ]
     },
     "metadata": {},
     "output_type": "display_data"
    },
    {
     "data": {
      "text/html": [
       "Run data is saved locally in <code>/home/walt/FociNet/wandb/run-20241124_153847-taz3z7l9</code>"
      ],
      "text/plain": [
       "<IPython.core.display.HTML object>"
      ]
     },
     "metadata": {},
     "output_type": "display_data"
    },
    {
     "data": {
      "text/html": [
       "Syncing run <strong><a href='https://wandb.ai/walt_/dose-prediction/runs/taz3z7l9' target=\"_blank\">smart-sweep-59</a></strong> to <a href='https://wandb.ai/walt_/dose-prediction' target=\"_blank\">Weights & Biases</a> (<a href='https://wandb.me/developer-guide' target=\"_blank\">docs</a>)<br/>Sweep page: <a href='https://wandb.ai/walt_/dose-prediction/sweeps/ijck5aqp' target=\"_blank\">https://wandb.ai/walt_/dose-prediction/sweeps/ijck5aqp</a>"
      ],
      "text/plain": [
       "<IPython.core.display.HTML object>"
      ]
     },
     "metadata": {},
     "output_type": "display_data"
    },
    {
     "data": {
      "text/html": [
       " View project at <a href='https://wandb.ai/walt_/dose-prediction' target=\"_blank\">https://wandb.ai/walt_/dose-prediction</a>"
      ],
      "text/plain": [
       "<IPython.core.display.HTML object>"
      ]
     },
     "metadata": {},
     "output_type": "display_data"
    },
    {
     "data": {
      "text/html": [
       " View sweep at <a href='https://wandb.ai/walt_/dose-prediction/sweeps/ijck5aqp' target=\"_blank\">https://wandb.ai/walt_/dose-prediction/sweeps/ijck5aqp</a>"
      ],
      "text/plain": [
       "<IPython.core.display.HTML object>"
      ]
     },
     "metadata": {},
     "output_type": "display_data"
    },
    {
     "data": {
      "text/html": [
       " View run at <a href='https://wandb.ai/walt_/dose-prediction/runs/taz3z7l9' target=\"_blank\">https://wandb.ai/walt_/dose-prediction/runs/taz3z7l9</a>"
      ],
      "text/plain": [
       "<IPython.core.display.HTML object>"
      ]
     },
     "metadata": {},
     "output_type": "display_data"
    },
    {
     "name": "stdout",
     "output_type": "stream",
     "text": [
      "Active Feature Config: {'activation_function': 'tanh', 'batch_size': 32, 'epochs': 20, 'include_edis': False, 'include_mgdis': False, 'include_mpc': True, 'include_sharpness': False, 'include_texture': True, 'learning_rate': 0.005, 'loss_function': 'mean_absolute_error'}\n",
      "Subset X_train shape: (9766, 4)\n",
      "Subset X_val shape: (2790, 4)\n",
      "Subset X_test shape: (1396, 4)\n",
      "Calculated input_dim: 4\n",
      "Epoch 1/20\n",
      "306/306 - 2s - 8ms/step - loss: 0.2947 - mae: 0.2947 - val_loss: 0.2680 - val_mae: 0.2680\n",
      "Epoch 2/20\n",
      "306/306 - 1s - 3ms/step - loss: 0.2767 - mae: 0.2767 - val_loss: 0.2609 - val_mae: 0.2609\n",
      "Epoch 3/20\n",
      "306/306 - 1s - 2ms/step - loss: 0.2454 - mae: 0.2454 - val_loss: 0.2367 - val_mae: 0.2367\n",
      "Epoch 4/20\n",
      "306/306 - 1s - 2ms/step - loss: 0.2153 - mae: 0.2153 - val_loss: 0.2123 - val_mae: 0.2123\n",
      "Epoch 5/20\n",
      "306/306 - 1s - 2ms/step - loss: 0.2077 - mae: 0.2077 - val_loss: 0.2037 - val_mae: 0.2037\n",
      "Epoch 6/20\n",
      "306/306 - 1s - 2ms/step - loss: 0.2011 - mae: 0.2011 - val_loss: 0.2136 - val_mae: 0.2136\n",
      "Epoch 7/20\n",
      "306/306 - 1s - 3ms/step - loss: 0.1975 - mae: 0.1975 - val_loss: 0.1998 - val_mae: 0.1998\n",
      "Epoch 8/20\n",
      "306/306 - 1s - 2ms/step - loss: 0.1937 - mae: 0.1937 - val_loss: 0.1957 - val_mae: 0.1957\n",
      "Epoch 9/20\n",
      "306/306 - 1s - 2ms/step - loss: 0.1927 - mae: 0.1927 - val_loss: 0.1937 - val_mae: 0.1937\n",
      "Epoch 10/20\n",
      "306/306 - 1s - 2ms/step - loss: 0.1927 - mae: 0.1927 - val_loss: 0.1942 - val_mae: 0.1942\n",
      "Epoch 11/20\n",
      "306/306 - 1s - 2ms/step - loss: 0.1913 - mae: 0.1913 - val_loss: 0.1914 - val_mae: 0.1914\n",
      "Epoch 12/20\n",
      "306/306 - 1s - 2ms/step - loss: 0.1904 - mae: 0.1904 - val_loss: 0.1909 - val_mae: 0.1909\n",
      "Epoch 13/20\n",
      "306/306 - 1s - 2ms/step - loss: 0.1864 - mae: 0.1864 - val_loss: 0.1917 - val_mae: 0.1917\n",
      "Epoch 14/20\n",
      "306/306 - 1s - 2ms/step - loss: 0.1866 - mae: 0.1866 - val_loss: 0.1893 - val_mae: 0.1893\n",
      "Epoch 15/20\n",
      "306/306 - 1s - 2ms/step - loss: 0.1851 - mae: 0.1851 - val_loss: 0.1952 - val_mae: 0.1952\n",
      "Epoch 16/20\n",
      "306/306 - 1s - 2ms/step - loss: 0.1849 - mae: 0.1849 - val_loss: 0.2084 - val_mae: 0.2084\n",
      "Epoch 17/20\n",
      "306/306 - 1s - 2ms/step - loss: 0.1872 - mae: 0.1872 - val_loss: 0.1925 - val_mae: 0.1925\n",
      "Epoch 18/20\n",
      "306/306 - 1s - 2ms/step - loss: 0.1861 - mae: 0.1861 - val_loss: 0.1873 - val_mae: 0.1873\n",
      "Epoch 19/20\n",
      "306/306 - 1s - 2ms/step - loss: 0.1867 - mae: 0.1867 - val_loss: 0.1899 - val_mae: 0.1899\n",
      "Epoch 20/20\n",
      "306/306 - 1s - 2ms/step - loss: 0.1845 - mae: 0.1845 - val_loss: 0.1995 - val_mae: 0.1995\n",
      "\u001b[1m44/44\u001b[0m \u001b[32m━━━━━━━━━━━━━━━━━━━━\u001b[0m\u001b[37m\u001b[0m \u001b[1m0s\u001b[0m 4ms/step\n"
     ]
    },
    {
     "data": {
      "text/html": [
       "\n",
       "    <style>\n",
       "        .wandb-row {\n",
       "            display: flex;\n",
       "            flex-direction: row;\n",
       "            flex-wrap: wrap;\n",
       "            justify-content: flex-start;\n",
       "            width: 100%;\n",
       "        }\n",
       "        .wandb-col {\n",
       "            display: flex;\n",
       "            flex-direction: column;\n",
       "            flex-basis: 100%;\n",
       "            flex: 1;\n",
       "            padding: 10px;\n",
       "        }\n",
       "    </style>\n",
       "<div class=\"wandb-row\"><div class=\"wandb-col\"><h3>Run history:</h3><br/><table class=\"wandb\"><tr><td>Max Absolute Error (Test)</td><td>▁</td></tr><tr><td>Mean Absolute Error (Test)</td><td>▁</td></tr><tr><td>R²</td><td>▁</td></tr><tr><td>Test Loss</td><td>▁</td></tr><tr><td>Test MAE</td><td>▁</td></tr><tr><td>epoch</td><td>▁▁▂▂▂▃▃▄▄▄▅▅▅▆▆▇▇▇██</td></tr><tr><td>epoch/epoch</td><td>▁▁▂▂▂▃▃▄▄▄▅▅▅▆▆▇▇▇██</td></tr><tr><td>epoch/learning_rate</td><td>▁▁▁▁▁▁▁▁▁▁▁▁▁▁▁▁▁▁▁▁</td></tr><tr><td>epoch/loss</td><td>█▇▅▃▂▂▂▂▂▂▁▁▁▁▁▁▁▁▁▁</td></tr><tr><td>epoch/mae</td><td>█▇▅▃▂▂▂▂▂▂▁▁▁▁▁▁▁▁▁▁</td></tr><tr><td>epoch/val_loss</td><td>█▇▅▃▂▃▂▂▂▂▁▁▁▁▂▃▁▁▁▂</td></tr><tr><td>epoch/val_mae</td><td>█▇▅▃▂▃▂▂▂▂▁▁▁▁▂▃▁▁▁▂</td></tr><tr><td>train_loss</td><td>█▇▅▃▂▂▂▂▂▂▁▁▁▁▁▁▁▁▁▁</td></tr><tr><td>train_mae</td><td>█▇▅▃▂▂▂▂▂▂▁▁▁▁▁▁▁▁▁▁</td></tr><tr><td>val_loss</td><td>█▇▅▃▂▃▂▂▂▂▁▁▁▁▂▃▁▁▁▂</td></tr><tr><td>val_mae</td><td>█▇▅▃▂▃▂▂▂▂▁▁▁▁▂▃▁▁▁▂</td></tr></table><br/></div><div class=\"wandb-col\"><h3>Run summary:</h3><br/><table class=\"wandb\"><tr><td>Max Absolute Error (Test)</td><td>1.03865</td></tr><tr><td>Mean Absolute Error (Test)</td><td>0.18562</td></tr><tr><td>R²</td><td>0.33189</td></tr><tr><td>Test Loss</td><td>0.18562</td></tr><tr><td>Test MAE</td><td>0.18562</td></tr><tr><td>epoch</td><td>19</td></tr><tr><td>epoch/epoch</td><td>19</td></tr><tr><td>epoch/learning_rate</td><td>0.005</td></tr><tr><td>epoch/loss</td><td>0.18451</td></tr><tr><td>epoch/mae</td><td>0.18451</td></tr><tr><td>epoch/val_loss</td><td>0.1995</td></tr><tr><td>epoch/val_mae</td><td>0.1995</td></tr><tr><td>train_loss</td><td>0.18451</td></tr><tr><td>train_mae</td><td>0.18451</td></tr><tr><td>val_loss</td><td>0.1995</td></tr><tr><td>val_mae</td><td>0.1995</td></tr></table><br/></div></div>"
      ],
      "text/plain": [
       "<IPython.core.display.HTML object>"
      ]
     },
     "metadata": {},
     "output_type": "display_data"
    },
    {
     "data": {
      "text/html": [
       " View run <strong style=\"color:#cdcd00\">smart-sweep-59</strong> at: <a href='https://wandb.ai/walt_/dose-prediction/runs/taz3z7l9' target=\"_blank\">https://wandb.ai/walt_/dose-prediction/runs/taz3z7l9</a><br/> View project at: <a href='https://wandb.ai/walt_/dose-prediction' target=\"_blank\">https://wandb.ai/walt_/dose-prediction</a><br/>Synced 5 W&B file(s), 0 media file(s), 0 artifact file(s) and 0 other file(s)"
      ],
      "text/plain": [
       "<IPython.core.display.HTML object>"
      ]
     },
     "metadata": {},
     "output_type": "display_data"
    },
    {
     "data": {
      "text/html": [
       "Find logs at: <code>./wandb/run-20241124_153847-taz3z7l9/logs</code>"
      ],
      "text/plain": [
       "<IPython.core.display.HTML object>"
      ]
     },
     "metadata": {},
     "output_type": "display_data"
    },
    {
     "name": "stderr",
     "output_type": "stream",
     "text": [
      "\u001b[34m\u001b[1mwandb\u001b[0m: Agent Starting Run: 7iour5b2 with config:\n",
      "\u001b[34m\u001b[1mwandb\u001b[0m: \tactivation_function: tanh\n",
      "\u001b[34m\u001b[1mwandb\u001b[0m: \tbatch_size: 32\n",
      "\u001b[34m\u001b[1mwandb\u001b[0m: \tepochs: 20\n",
      "\u001b[34m\u001b[1mwandb\u001b[0m: \tinclude_edis: False\n",
      "\u001b[34m\u001b[1mwandb\u001b[0m: \tinclude_mgdis: False\n",
      "\u001b[34m\u001b[1mwandb\u001b[0m: \tinclude_mpc: True\n",
      "\u001b[34m\u001b[1mwandb\u001b[0m: \tinclude_sharpness: False\n",
      "\u001b[34m\u001b[1mwandb\u001b[0m: \tinclude_texture: False\n",
      "\u001b[34m\u001b[1mwandb\u001b[0m: \tlearning_rate: 0.005\n",
      "\u001b[34m\u001b[1mwandb\u001b[0m: \tloss_function: mean_absolute_error\n"
     ]
    },
    {
     "data": {
      "text/html": [
       "Tracking run with wandb version 0.18.7"
      ],
      "text/plain": [
       "<IPython.core.display.HTML object>"
      ]
     },
     "metadata": {},
     "output_type": "display_data"
    },
    {
     "data": {
      "text/html": [
       "Run data is saved locally in <code>/home/walt/FociNet/wandb/run-20241124_153908-7iour5b2</code>"
      ],
      "text/plain": [
       "<IPython.core.display.HTML object>"
      ]
     },
     "metadata": {},
     "output_type": "display_data"
    },
    {
     "data": {
      "text/html": [
       "Syncing run <strong><a href='https://wandb.ai/walt_/dose-prediction/runs/7iour5b2' target=\"_blank\">easy-sweep-60</a></strong> to <a href='https://wandb.ai/walt_/dose-prediction' target=\"_blank\">Weights & Biases</a> (<a href='https://wandb.me/developer-guide' target=\"_blank\">docs</a>)<br/>Sweep page: <a href='https://wandb.ai/walt_/dose-prediction/sweeps/ijck5aqp' target=\"_blank\">https://wandb.ai/walt_/dose-prediction/sweeps/ijck5aqp</a>"
      ],
      "text/plain": [
       "<IPython.core.display.HTML object>"
      ]
     },
     "metadata": {},
     "output_type": "display_data"
    },
    {
     "data": {
      "text/html": [
       " View project at <a href='https://wandb.ai/walt_/dose-prediction' target=\"_blank\">https://wandb.ai/walt_/dose-prediction</a>"
      ],
      "text/plain": [
       "<IPython.core.display.HTML object>"
      ]
     },
     "metadata": {},
     "output_type": "display_data"
    },
    {
     "data": {
      "text/html": [
       " View sweep at <a href='https://wandb.ai/walt_/dose-prediction/sweeps/ijck5aqp' target=\"_blank\">https://wandb.ai/walt_/dose-prediction/sweeps/ijck5aqp</a>"
      ],
      "text/plain": [
       "<IPython.core.display.HTML object>"
      ]
     },
     "metadata": {},
     "output_type": "display_data"
    },
    {
     "data": {
      "text/html": [
       " View run at <a href='https://wandb.ai/walt_/dose-prediction/runs/7iour5b2' target=\"_blank\">https://wandb.ai/walt_/dose-prediction/runs/7iour5b2</a>"
      ],
      "text/plain": [
       "<IPython.core.display.HTML object>"
      ]
     },
     "metadata": {},
     "output_type": "display_data"
    },
    {
     "name": "stdout",
     "output_type": "stream",
     "text": [
      "Active Feature Config: {'activation_function': 'tanh', 'batch_size': 32, 'epochs': 20, 'include_edis': False, 'include_mgdis': False, 'include_mpc': True, 'include_sharpness': False, 'include_texture': False, 'learning_rate': 0.005, 'loss_function': 'mean_absolute_error'}\n",
      "Subset X_train shape: (9766, 2)\n",
      "Subset X_val shape: (2790, 2)\n",
      "Subset X_test shape: (1396, 2)\n",
      "Calculated input_dim: 2\n",
      "Epoch 1/20\n",
      "306/306 - 3s - 8ms/step - loss: 0.2999 - mae: 0.2999 - val_loss: 0.2904 - val_mae: 0.2904\n",
      "Epoch 2/20\n",
      "306/306 - 1s - 3ms/step - loss: 0.2933 - mae: 0.2933 - val_loss: 0.2861 - val_mae: 0.2861\n",
      "Epoch 3/20\n",
      "306/306 - 1s - 3ms/step - loss: 0.2932 - mae: 0.2932 - val_loss: 0.2872 - val_mae: 0.2872\n",
      "Epoch 4/20\n",
      "306/306 - 1s - 3ms/step - loss: 0.2906 - mae: 0.2906 - val_loss: 0.2713 - val_mae: 0.2713\n",
      "Epoch 5/20\n",
      "306/306 - 1s - 3ms/step - loss: 0.2538 - mae: 0.2538 - val_loss: 0.2410 - val_mae: 0.2410\n",
      "Epoch 6/20\n",
      "306/306 - 1s - 3ms/step - loss: 0.2427 - mae: 0.2427 - val_loss: 0.2359 - val_mae: 0.2359\n",
      "Epoch 7/20\n",
      "306/306 - 1s - 3ms/step - loss: 0.2401 - mae: 0.2401 - val_loss: 0.2364 - val_mae: 0.2364\n",
      "Epoch 8/20\n",
      "306/306 - 1s - 3ms/step - loss: 0.2372 - mae: 0.2372 - val_loss: 0.2372 - val_mae: 0.2372\n",
      "Epoch 9/20\n",
      "306/306 - 1s - 3ms/step - loss: 0.2385 - mae: 0.2385 - val_loss: 0.2356 - val_mae: 0.2356\n",
      "Epoch 10/20\n",
      "306/306 - 1s - 3ms/step - loss: 0.2345 - mae: 0.2345 - val_loss: 0.2311 - val_mae: 0.2311\n",
      "Epoch 11/20\n",
      "306/306 - 1s - 3ms/step - loss: 0.2331 - mae: 0.2331 - val_loss: 0.2312 - val_mae: 0.2312\n",
      "Epoch 12/20\n",
      "306/306 - 1s - 3ms/step - loss: 0.2346 - mae: 0.2346 - val_loss: 0.2306 - val_mae: 0.2306\n",
      "Epoch 13/20\n",
      "306/306 - 1s - 3ms/step - loss: 0.2317 - mae: 0.2317 - val_loss: 0.2295 - val_mae: 0.2295\n",
      "Epoch 14/20\n",
      "306/306 - 1s - 2ms/step - loss: 0.2322 - mae: 0.2322 - val_loss: 0.2291 - val_mae: 0.2291\n",
      "Epoch 15/20\n",
      "306/306 - 1s - 2ms/step - loss: 0.2312 - mae: 0.2312 - val_loss: 0.2305 - val_mae: 0.2305\n",
      "Epoch 16/20\n",
      "306/306 - 1s - 2ms/step - loss: 0.2330 - mae: 0.2330 - val_loss: 0.2354 - val_mae: 0.2354\n",
      "Epoch 17/20\n",
      "306/306 - 1s - 2ms/step - loss: 0.2329 - mae: 0.2329 - val_loss: 0.2291 - val_mae: 0.2291\n",
      "Epoch 18/20\n",
      "306/306 - 1s - 3ms/step - loss: 0.2314 - mae: 0.2314 - val_loss: 0.2282 - val_mae: 0.2282\n",
      "Epoch 19/20\n",
      "306/306 - 1s - 2ms/step - loss: 0.2318 - mae: 0.2318 - val_loss: 0.2281 - val_mae: 0.2281\n",
      "Epoch 20/20\n",
      "306/306 - 1s - 2ms/step - loss: 0.2346 - mae: 0.2346 - val_loss: 0.2315 - val_mae: 0.2315\n",
      "\u001b[1m44/44\u001b[0m \u001b[32m━━━━━━━━━━━━━━━━━━━━\u001b[0m\u001b[37m\u001b[0m \u001b[1m0s\u001b[0m 4ms/step\n"
     ]
    },
    {
     "data": {
      "text/html": [
       "\n",
       "    <style>\n",
       "        .wandb-row {\n",
       "            display: flex;\n",
       "            flex-direction: row;\n",
       "            flex-wrap: wrap;\n",
       "            justify-content: flex-start;\n",
       "            width: 100%;\n",
       "        }\n",
       "        .wandb-col {\n",
       "            display: flex;\n",
       "            flex-direction: column;\n",
       "            flex-basis: 100%;\n",
       "            flex: 1;\n",
       "            padding: 10px;\n",
       "        }\n",
       "    </style>\n",
       "<div class=\"wandb-row\"><div class=\"wandb-col\"><h3>Run history:</h3><br/><table class=\"wandb\"><tr><td>Max Absolute Error (Test)</td><td>▁</td></tr><tr><td>Mean Absolute Error (Test)</td><td>▁</td></tr><tr><td>R²</td><td>▁</td></tr><tr><td>Test Loss</td><td>▁</td></tr><tr><td>Test MAE</td><td>▁</td></tr><tr><td>epoch</td><td>▁▁▂▂▂▃▃▄▄▄▅▅▅▆▆▇▇▇██</td></tr><tr><td>epoch/epoch</td><td>▁▁▂▂▂▃▃▄▄▄▅▅▅▆▆▇▇▇██</td></tr><tr><td>epoch/learning_rate</td><td>▁▁▁▁▁▁▁▁▁▁▁▁▁▁▁▁▁▁▁▁</td></tr><tr><td>epoch/loss</td><td>█▇▇▇▃▂▂▂▂▁▁▁▁▁▁▁▁▁▁▁</td></tr><tr><td>epoch/mae</td><td>█▇▇▇▃▂▂▂▂▁▁▁▁▁▁▁▁▁▁▁</td></tr><tr><td>epoch/val_loss</td><td>███▆▂▂▂▂▂▁▁▁▁▁▁▂▁▁▁▁</td></tr><tr><td>epoch/val_mae</td><td>███▆▂▂▂▂▂▁▁▁▁▁▁▂▁▁▁▁</td></tr><tr><td>train_loss</td><td>█▇▇▇▃▂▂▂▂▁▁▁▁▁▁▁▁▁▁▁</td></tr><tr><td>train_mae</td><td>█▇▇▇▃▂▂▂▂▁▁▁▁▁▁▁▁▁▁▁</td></tr><tr><td>val_loss</td><td>███▆▂▂▂▂▂▁▁▁▁▁▁▂▁▁▁▁</td></tr><tr><td>val_mae</td><td>███▆▂▂▂▂▂▁▁▁▁▁▁▂▁▁▁▁</td></tr></table><br/></div><div class=\"wandb-col\"><h3>Run summary:</h3><br/><table class=\"wandb\"><tr><td>Max Absolute Error (Test)</td><td>0.98853</td></tr><tr><td>Mean Absolute Error (Test)</td><td>0.23228</td></tr><tr><td>R²</td><td>0.12855</td></tr><tr><td>Test Loss</td><td>0.23228</td></tr><tr><td>Test MAE</td><td>0.23228</td></tr><tr><td>epoch</td><td>19</td></tr><tr><td>epoch/epoch</td><td>19</td></tr><tr><td>epoch/learning_rate</td><td>0.005</td></tr><tr><td>epoch/loss</td><td>0.23455</td></tr><tr><td>epoch/mae</td><td>0.23455</td></tr><tr><td>epoch/val_loss</td><td>0.23146</td></tr><tr><td>epoch/val_mae</td><td>0.23146</td></tr><tr><td>train_loss</td><td>0.23455</td></tr><tr><td>train_mae</td><td>0.23455</td></tr><tr><td>val_loss</td><td>0.23146</td></tr><tr><td>val_mae</td><td>0.23146</td></tr></table><br/></div></div>"
      ],
      "text/plain": [
       "<IPython.core.display.HTML object>"
      ]
     },
     "metadata": {},
     "output_type": "display_data"
    },
    {
     "data": {
      "text/html": [
       " View run <strong style=\"color:#cdcd00\">easy-sweep-60</strong> at: <a href='https://wandb.ai/walt_/dose-prediction/runs/7iour5b2' target=\"_blank\">https://wandb.ai/walt_/dose-prediction/runs/7iour5b2</a><br/> View project at: <a href='https://wandb.ai/walt_/dose-prediction' target=\"_blank\">https://wandb.ai/walt_/dose-prediction</a><br/>Synced 5 W&B file(s), 0 media file(s), 0 artifact file(s) and 0 other file(s)"
      ],
      "text/plain": [
       "<IPython.core.display.HTML object>"
      ]
     },
     "metadata": {},
     "output_type": "display_data"
    },
    {
     "data": {
      "text/html": [
       "Find logs at: <code>./wandb/run-20241124_153908-7iour5b2/logs</code>"
      ],
      "text/plain": [
       "<IPython.core.display.HTML object>"
      ]
     },
     "metadata": {},
     "output_type": "display_data"
    },
    {
     "name": "stderr",
     "output_type": "stream",
     "text": [
      "\u001b[34m\u001b[1mwandb\u001b[0m: Agent Starting Run: iarr5af9 with config:\n",
      "\u001b[34m\u001b[1mwandb\u001b[0m: \tactivation_function: tanh\n",
      "\u001b[34m\u001b[1mwandb\u001b[0m: \tbatch_size: 32\n",
      "\u001b[34m\u001b[1mwandb\u001b[0m: \tepochs: 20\n",
      "\u001b[34m\u001b[1mwandb\u001b[0m: \tinclude_edis: False\n",
      "\u001b[34m\u001b[1mwandb\u001b[0m: \tinclude_mgdis: False\n",
      "\u001b[34m\u001b[1mwandb\u001b[0m: \tinclude_mpc: False\n",
      "\u001b[34m\u001b[1mwandb\u001b[0m: \tinclude_sharpness: True\n",
      "\u001b[34m\u001b[1mwandb\u001b[0m: \tinclude_texture: True\n",
      "\u001b[34m\u001b[1mwandb\u001b[0m: \tlearning_rate: 0.005\n",
      "\u001b[34m\u001b[1mwandb\u001b[0m: \tloss_function: mean_absolute_error\n"
     ]
    },
    {
     "data": {
      "text/html": [
       "Tracking run with wandb version 0.18.7"
      ],
      "text/plain": [
       "<IPython.core.display.HTML object>"
      ]
     },
     "metadata": {},
     "output_type": "display_data"
    },
    {
     "data": {
      "text/html": [
       "Run data is saved locally in <code>/home/walt/FociNet/wandb/run-20241124_153933-iarr5af9</code>"
      ],
      "text/plain": [
       "<IPython.core.display.HTML object>"
      ]
     },
     "metadata": {},
     "output_type": "display_data"
    },
    {
     "data": {
      "text/html": [
       "Syncing run <strong><a href='https://wandb.ai/walt_/dose-prediction/runs/iarr5af9' target=\"_blank\">dashing-sweep-61</a></strong> to <a href='https://wandb.ai/walt_/dose-prediction' target=\"_blank\">Weights & Biases</a> (<a href='https://wandb.me/developer-guide' target=\"_blank\">docs</a>)<br/>Sweep page: <a href='https://wandb.ai/walt_/dose-prediction/sweeps/ijck5aqp' target=\"_blank\">https://wandb.ai/walt_/dose-prediction/sweeps/ijck5aqp</a>"
      ],
      "text/plain": [
       "<IPython.core.display.HTML object>"
      ]
     },
     "metadata": {},
     "output_type": "display_data"
    },
    {
     "data": {
      "text/html": [
       " View project at <a href='https://wandb.ai/walt_/dose-prediction' target=\"_blank\">https://wandb.ai/walt_/dose-prediction</a>"
      ],
      "text/plain": [
       "<IPython.core.display.HTML object>"
      ]
     },
     "metadata": {},
     "output_type": "display_data"
    },
    {
     "data": {
      "text/html": [
       " View sweep at <a href='https://wandb.ai/walt_/dose-prediction/sweeps/ijck5aqp' target=\"_blank\">https://wandb.ai/walt_/dose-prediction/sweeps/ijck5aqp</a>"
      ],
      "text/plain": [
       "<IPython.core.display.HTML object>"
      ]
     },
     "metadata": {},
     "output_type": "display_data"
    },
    {
     "data": {
      "text/html": [
       " View run at <a href='https://wandb.ai/walt_/dose-prediction/runs/iarr5af9' target=\"_blank\">https://wandb.ai/walt_/dose-prediction/runs/iarr5af9</a>"
      ],
      "text/plain": [
       "<IPython.core.display.HTML object>"
      ]
     },
     "metadata": {},
     "output_type": "display_data"
    },
    {
     "name": "stdout",
     "output_type": "stream",
     "text": [
      "Active Feature Config: {'activation_function': 'tanh', 'batch_size': 32, 'epochs': 20, 'include_edis': False, 'include_mgdis': False, 'include_mpc': False, 'include_sharpness': True, 'include_texture': True, 'learning_rate': 0.005, 'loss_function': 'mean_absolute_error'}\n",
      "Subset X_train shape: (9766, 3)\n",
      "Subset X_val shape: (2790, 3)\n",
      "Subset X_test shape: (1396, 3)\n",
      "Calculated input_dim: 3\n",
      "Epoch 1/20\n",
      "306/306 - 2s - 7ms/step - loss: 0.3038 - mae: 0.3038 - val_loss: 0.2896 - val_mae: 0.2896\n",
      "Epoch 2/20\n",
      "306/306 - 1s - 2ms/step - loss: 0.2939 - mae: 0.2939 - val_loss: 0.2868 - val_mae: 0.2868\n",
      "Epoch 3/20\n",
      "306/306 - 1s - 2ms/step - loss: 0.2937 - mae: 0.2937 - val_loss: 0.2883 - val_mae: 0.2883\n",
      "Epoch 4/20\n",
      "306/306 - 1s - 2ms/step - loss: 0.2848 - mae: 0.2848 - val_loss: 0.2622 - val_mae: 0.2622\n",
      "Epoch 5/20\n",
      "306/306 - 1s - 2ms/step - loss: 0.2503 - mae: 0.2503 - val_loss: 0.2441 - val_mae: 0.2441\n",
      "Epoch 6/20\n",
      "306/306 - 1s - 2ms/step - loss: 0.2415 - mae: 0.2415 - val_loss: 0.2392 - val_mae: 0.2392\n",
      "Epoch 7/20\n",
      "306/306 - 1s - 3ms/step - loss: 0.2385 - mae: 0.2385 - val_loss: 0.2424 - val_mae: 0.2424\n",
      "Epoch 8/20\n",
      "306/306 - 1s - 2ms/step - loss: 0.2346 - mae: 0.2346 - val_loss: 0.2299 - val_mae: 0.2299\n",
      "Epoch 9/20\n",
      "306/306 - 1s - 2ms/step - loss: 0.2343 - mae: 0.2343 - val_loss: 0.2319 - val_mae: 0.2319\n",
      "Epoch 10/20\n",
      "306/306 - 1s - 2ms/step - loss: 0.2332 - mae: 0.2332 - val_loss: 0.2277 - val_mae: 0.2277\n",
      "Epoch 11/20\n",
      "306/306 - 1s - 2ms/step - loss: 0.2320 - mae: 0.2320 - val_loss: 0.2324 - val_mae: 0.2324\n",
      "Epoch 12/20\n",
      "306/306 - 1s - 2ms/step - loss: 0.2301 - mae: 0.2301 - val_loss: 0.2269 - val_mae: 0.2269\n",
      "Epoch 13/20\n",
      "306/306 - 1s - 2ms/step - loss: 0.2295 - mae: 0.2295 - val_loss: 0.2258 - val_mae: 0.2258\n",
      "Epoch 14/20\n",
      "306/306 - 1s - 2ms/step - loss: 0.2271 - mae: 0.2271 - val_loss: 0.2298 - val_mae: 0.2298\n",
      "Epoch 15/20\n",
      "306/306 - 1s - 2ms/step - loss: 0.2282 - mae: 0.2282 - val_loss: 0.2282 - val_mae: 0.2282\n",
      "Epoch 16/20\n",
      "306/306 - 1s - 2ms/step - loss: 0.2271 - mae: 0.2271 - val_loss: 0.2329 - val_mae: 0.2329\n",
      "Epoch 17/20\n",
      "306/306 - 1s - 2ms/step - loss: 0.2268 - mae: 0.2268 - val_loss: 0.2283 - val_mae: 0.2283\n",
      "Epoch 18/20\n",
      "306/306 - 1s - 2ms/step - loss: 0.2276 - mae: 0.2276 - val_loss: 0.2263 - val_mae: 0.2263\n",
      "Epoch 19/20\n",
      "306/306 - 1s - 2ms/step - loss: 0.2285 - mae: 0.2285 - val_loss: 0.2341 - val_mae: 0.2341\n",
      "Epoch 20/20\n",
      "306/306 - 1s - 2ms/step - loss: 0.2265 - mae: 0.2265 - val_loss: 0.2266 - val_mae: 0.2266\n",
      "\u001b[1m44/44\u001b[0m \u001b[32m━━━━━━━━━━━━━━━━━━━━\u001b[0m\u001b[37m\u001b[0m \u001b[1m0s\u001b[0m 4ms/step\n"
     ]
    },
    {
     "data": {
      "text/html": [
       "\n",
       "    <style>\n",
       "        .wandb-row {\n",
       "            display: flex;\n",
       "            flex-direction: row;\n",
       "            flex-wrap: wrap;\n",
       "            justify-content: flex-start;\n",
       "            width: 100%;\n",
       "        }\n",
       "        .wandb-col {\n",
       "            display: flex;\n",
       "            flex-direction: column;\n",
       "            flex-basis: 100%;\n",
       "            flex: 1;\n",
       "            padding: 10px;\n",
       "        }\n",
       "    </style>\n",
       "<div class=\"wandb-row\"><div class=\"wandb-col\"><h3>Run history:</h3><br/><table class=\"wandb\"><tr><td>Max Absolute Error (Test)</td><td>▁</td></tr><tr><td>Mean Absolute Error (Test)</td><td>▁</td></tr><tr><td>R²</td><td>▁</td></tr><tr><td>Test Loss</td><td>▁</td></tr><tr><td>Test MAE</td><td>▁</td></tr><tr><td>epoch</td><td>▁▁▂▂▂▃▃▄▄▄▅▅▅▆▆▇▇▇██</td></tr><tr><td>epoch/epoch</td><td>▁▁▂▂▂▃▃▄▄▄▅▅▅▆▆▇▇▇██</td></tr><tr><td>epoch/learning_rate</td><td>▁▁▁▁▁▁▁▁▁▁▁▁▁▁▁▁▁▁▁▁</td></tr><tr><td>epoch/loss</td><td>█▇▇▆▃▂▂▂▂▂▁▁▁▁▁▁▁▁▁▁</td></tr><tr><td>epoch/mae</td><td>█▇▇▆▃▂▂▂▂▂▁▁▁▁▁▁▁▁▁▁</td></tr><tr><td>epoch/val_loss</td><td>███▅▃▂▃▁▂▁▂▁▁▁▁▂▁▁▂▁</td></tr><tr><td>epoch/val_mae</td><td>███▅▃▂▃▁▂▁▂▁▁▁▁▂▁▁▂▁</td></tr><tr><td>train_loss</td><td>█▇▇▆▃▂▂▂▂▂▁▁▁▁▁▁▁▁▁▁</td></tr><tr><td>train_mae</td><td>█▇▇▆▃▂▂▂▂▂▁▁▁▁▁▁▁▁▁▁</td></tr><tr><td>val_loss</td><td>███▅▃▂▃▁▂▁▂▁▁▁▁▂▁▁▂▁</td></tr><tr><td>val_mae</td><td>███▅▃▂▃▁▂▁▂▁▁▁▁▂▁▁▂▁</td></tr></table><br/></div><div class=\"wandb-col\"><h3>Run summary:</h3><br/><table class=\"wandb\"><tr><td>Max Absolute Error (Test)</td><td>1.00063</td></tr><tr><td>Mean Absolute Error (Test)</td><td>0.2255</td></tr><tr><td>R²</td><td>0.14484</td></tr><tr><td>Test Loss</td><td>0.2255</td></tr><tr><td>Test MAE</td><td>0.2255</td></tr><tr><td>epoch</td><td>19</td></tr><tr><td>epoch/epoch</td><td>19</td></tr><tr><td>epoch/learning_rate</td><td>0.005</td></tr><tr><td>epoch/loss</td><td>0.22655</td></tr><tr><td>epoch/mae</td><td>0.22655</td></tr><tr><td>epoch/val_loss</td><td>0.22657</td></tr><tr><td>epoch/val_mae</td><td>0.22657</td></tr><tr><td>train_loss</td><td>0.22655</td></tr><tr><td>train_mae</td><td>0.22655</td></tr><tr><td>val_loss</td><td>0.22657</td></tr><tr><td>val_mae</td><td>0.22657</td></tr></table><br/></div></div>"
      ],
      "text/plain": [
       "<IPython.core.display.HTML object>"
      ]
     },
     "metadata": {},
     "output_type": "display_data"
    },
    {
     "data": {
      "text/html": [
       " View run <strong style=\"color:#cdcd00\">dashing-sweep-61</strong> at: <a href='https://wandb.ai/walt_/dose-prediction/runs/iarr5af9' target=\"_blank\">https://wandb.ai/walt_/dose-prediction/runs/iarr5af9</a><br/> View project at: <a href='https://wandb.ai/walt_/dose-prediction' target=\"_blank\">https://wandb.ai/walt_/dose-prediction</a><br/>Synced 5 W&B file(s), 0 media file(s), 0 artifact file(s) and 0 other file(s)"
      ],
      "text/plain": [
       "<IPython.core.display.HTML object>"
      ]
     },
     "metadata": {},
     "output_type": "display_data"
    },
    {
     "data": {
      "text/html": [
       "Find logs at: <code>./wandb/run-20241124_153933-iarr5af9/logs</code>"
      ],
      "text/plain": [
       "<IPython.core.display.HTML object>"
      ]
     },
     "metadata": {},
     "output_type": "display_data"
    },
    {
     "name": "stderr",
     "output_type": "stream",
     "text": [
      "\u001b[34m\u001b[1mwandb\u001b[0m: Agent Starting Run: qp9cdb27 with config:\n",
      "\u001b[34m\u001b[1mwandb\u001b[0m: \tactivation_function: tanh\n",
      "\u001b[34m\u001b[1mwandb\u001b[0m: \tbatch_size: 32\n",
      "\u001b[34m\u001b[1mwandb\u001b[0m: \tepochs: 20\n",
      "\u001b[34m\u001b[1mwandb\u001b[0m: \tinclude_edis: False\n",
      "\u001b[34m\u001b[1mwandb\u001b[0m: \tinclude_mgdis: False\n",
      "\u001b[34m\u001b[1mwandb\u001b[0m: \tinclude_mpc: False\n",
      "\u001b[34m\u001b[1mwandb\u001b[0m: \tinclude_sharpness: True\n",
      "\u001b[34m\u001b[1mwandb\u001b[0m: \tinclude_texture: False\n",
      "\u001b[34m\u001b[1mwandb\u001b[0m: \tlearning_rate: 0.005\n",
      "\u001b[34m\u001b[1mwandb\u001b[0m: \tloss_function: mean_absolute_error\n"
     ]
    },
    {
     "data": {
      "text/html": [
       "Tracking run with wandb version 0.18.7"
      ],
      "text/plain": [
       "<IPython.core.display.HTML object>"
      ]
     },
     "metadata": {},
     "output_type": "display_data"
    },
    {
     "data": {
      "text/html": [
       "Run data is saved locally in <code>/home/walt/FociNet/wandb/run-20241124_153954-qp9cdb27</code>"
      ],
      "text/plain": [
       "<IPython.core.display.HTML object>"
      ]
     },
     "metadata": {},
     "output_type": "display_data"
    },
    {
     "data": {
      "text/html": [
       "Syncing run <strong><a href='https://wandb.ai/walt_/dose-prediction/runs/qp9cdb27' target=\"_blank\">fancy-sweep-62</a></strong> to <a href='https://wandb.ai/walt_/dose-prediction' target=\"_blank\">Weights & Biases</a> (<a href='https://wandb.me/developer-guide' target=\"_blank\">docs</a>)<br/>Sweep page: <a href='https://wandb.ai/walt_/dose-prediction/sweeps/ijck5aqp' target=\"_blank\">https://wandb.ai/walt_/dose-prediction/sweeps/ijck5aqp</a>"
      ],
      "text/plain": [
       "<IPython.core.display.HTML object>"
      ]
     },
     "metadata": {},
     "output_type": "display_data"
    },
    {
     "data": {
      "text/html": [
       " View project at <a href='https://wandb.ai/walt_/dose-prediction' target=\"_blank\">https://wandb.ai/walt_/dose-prediction</a>"
      ],
      "text/plain": [
       "<IPython.core.display.HTML object>"
      ]
     },
     "metadata": {},
     "output_type": "display_data"
    },
    {
     "data": {
      "text/html": [
       " View sweep at <a href='https://wandb.ai/walt_/dose-prediction/sweeps/ijck5aqp' target=\"_blank\">https://wandb.ai/walt_/dose-prediction/sweeps/ijck5aqp</a>"
      ],
      "text/plain": [
       "<IPython.core.display.HTML object>"
      ]
     },
     "metadata": {},
     "output_type": "display_data"
    },
    {
     "data": {
      "text/html": [
       " View run at <a href='https://wandb.ai/walt_/dose-prediction/runs/qp9cdb27' target=\"_blank\">https://wandb.ai/walt_/dose-prediction/runs/qp9cdb27</a>"
      ],
      "text/plain": [
       "<IPython.core.display.HTML object>"
      ]
     },
     "metadata": {},
     "output_type": "display_data"
    },
    {
     "name": "stdout",
     "output_type": "stream",
     "text": [
      "Active Feature Config: {'activation_function': 'tanh', 'batch_size': 32, 'epochs': 20, 'include_edis': False, 'include_mgdis': False, 'include_mpc': False, 'include_sharpness': True, 'include_texture': False, 'learning_rate': 0.005, 'loss_function': 'mean_absolute_error'}\n",
      "Subset X_train shape: (9766, 1)\n",
      "Subset X_val shape: (2790, 1)\n",
      "Subset X_test shape: (1396, 1)\n",
      "Calculated input_dim: 1\n",
      "Epoch 1/20\n",
      "306/306 - 2s - 8ms/step - loss: 0.2979 - mae: 0.2979 - val_loss: 0.2907 - val_mae: 0.2907\n",
      "Epoch 2/20\n",
      "306/306 - 1s - 3ms/step - loss: 0.2955 - mae: 0.2955 - val_loss: 0.2923 - val_mae: 0.2923\n",
      "Epoch 3/20\n",
      "306/306 - 1s - 2ms/step - loss: 0.2955 - mae: 0.2955 - val_loss: 0.2901 - val_mae: 0.2901\n",
      "Epoch 4/20\n",
      "306/306 - 1s - 2ms/step - loss: 0.2954 - mae: 0.2954 - val_loss: 0.2941 - val_mae: 0.2941\n",
      "Epoch 5/20\n",
      "306/306 - 1s - 2ms/step - loss: 0.2942 - mae: 0.2942 - val_loss: 0.2944 - val_mae: 0.2944\n",
      "Epoch 6/20\n",
      "306/306 - 1s - 2ms/step - loss: 0.2943 - mae: 0.2943 - val_loss: 0.2902 - val_mae: 0.2902\n",
      "Epoch 7/20\n",
      "306/306 - 1s - 2ms/step - loss: 0.2933 - mae: 0.2933 - val_loss: 0.2889 - val_mae: 0.2889\n",
      "Epoch 8/20\n",
      "306/306 - 1s - 3ms/step - loss: 0.2664 - mae: 0.2664 - val_loss: 0.2427 - val_mae: 0.2427\n",
      "Epoch 9/20\n",
      "306/306 - 1s - 2ms/step - loss: 0.2447 - mae: 0.2447 - val_loss: 0.2380 - val_mae: 0.2380\n",
      "Epoch 10/20\n",
      "306/306 - 1s - 2ms/step - loss: 0.2397 - mae: 0.2397 - val_loss: 0.2380 - val_mae: 0.2380\n",
      "Epoch 11/20\n",
      "306/306 - 1s - 2ms/step - loss: 0.2400 - mae: 0.2400 - val_loss: 0.2400 - val_mae: 0.2400\n",
      "Epoch 12/20\n",
      "306/306 - 1s - 2ms/step - loss: 0.2369 - mae: 0.2369 - val_loss: 0.2358 - val_mae: 0.2358\n",
      "Epoch 13/20\n",
      "306/306 - 1s - 2ms/step - loss: 0.2361 - mae: 0.2361 - val_loss: 0.2348 - val_mae: 0.2348\n",
      "Epoch 14/20\n",
      "306/306 - 1s - 2ms/step - loss: 0.2367 - mae: 0.2367 - val_loss: 0.2321 - val_mae: 0.2321\n",
      "Epoch 15/20\n",
      "306/306 - 1s - 3ms/step - loss: 0.2372 - mae: 0.2372 - val_loss: 0.2349 - val_mae: 0.2349\n",
      "Epoch 16/20\n",
      "306/306 - 1s - 2ms/step - loss: 0.2368 - mae: 0.2368 - val_loss: 0.2322 - val_mae: 0.2322\n",
      "Epoch 17/20\n",
      "306/306 - 1s - 3ms/step - loss: 0.2350 - mae: 0.2350 - val_loss: 0.2315 - val_mae: 0.2315\n",
      "Epoch 18/20\n",
      "306/306 - 1s - 3ms/step - loss: 0.2347 - mae: 0.2347 - val_loss: 0.2328 - val_mae: 0.2328\n",
      "Epoch 19/20\n",
      "306/306 - 1s - 2ms/step - loss: 0.2346 - mae: 0.2346 - val_loss: 0.2329 - val_mae: 0.2329\n",
      "Epoch 20/20\n",
      "306/306 - 1s - 2ms/step - loss: 0.2366 - mae: 0.2366 - val_loss: 0.2318 - val_mae: 0.2318\n",
      "\u001b[1m44/44\u001b[0m \u001b[32m━━━━━━━━━━━━━━━━━━━━\u001b[0m\u001b[37m\u001b[0m \u001b[1m0s\u001b[0m 4ms/step\n"
     ]
    },
    {
     "data": {
      "text/html": [
       "\n",
       "    <style>\n",
       "        .wandb-row {\n",
       "            display: flex;\n",
       "            flex-direction: row;\n",
       "            flex-wrap: wrap;\n",
       "            justify-content: flex-start;\n",
       "            width: 100%;\n",
       "        }\n",
       "        .wandb-col {\n",
       "            display: flex;\n",
       "            flex-direction: column;\n",
       "            flex-basis: 100%;\n",
       "            flex: 1;\n",
       "            padding: 10px;\n",
       "        }\n",
       "    </style>\n",
       "<div class=\"wandb-row\"><div class=\"wandb-col\"><h3>Run history:</h3><br/><table class=\"wandb\"><tr><td>Max Absolute Error (Test)</td><td>▁</td></tr><tr><td>Mean Absolute Error (Test)</td><td>▁</td></tr><tr><td>R²</td><td>▁</td></tr><tr><td>Test Loss</td><td>▁</td></tr><tr><td>Test MAE</td><td>▁</td></tr><tr><td>epoch</td><td>▁▁▂▂▂▃▃▄▄▄▅▅▅▆▆▇▇▇██</td></tr><tr><td>epoch/epoch</td><td>▁▁▂▂▂▃▃▄▄▄▅▅▅▆▆▇▇▇██</td></tr><tr><td>epoch/learning_rate</td><td>▁▁▁▁▁▁▁▁▁▁▁▁▁▁▁▁▁▁▁▁</td></tr><tr><td>epoch/loss</td><td>██████▇▅▂▂▂▁▁▁▁▁▁▁▁▁</td></tr><tr><td>epoch/mae</td><td>██████▇▅▂▂▂▁▁▁▁▁▁▁▁▁</td></tr><tr><td>epoch/val_loss</td><td>██████▇▂▂▂▂▁▁▁▁▁▁▁▁▁</td></tr><tr><td>epoch/val_mae</td><td>██████▇▂▂▂▂▁▁▁▁▁▁▁▁▁</td></tr><tr><td>train_loss</td><td>██████▇▅▂▂▂▁▁▁▁▁▁▁▁▁</td></tr><tr><td>train_mae</td><td>██████▇▅▂▂▂▁▁▁▁▁▁▁▁▁</td></tr><tr><td>val_loss</td><td>██████▇▂▂▂▂▁▁▁▁▁▁▁▁▁</td></tr><tr><td>val_mae</td><td>██████▇▂▂▂▂▁▁▁▁▁▁▁▁▁</td></tr></table><br/></div><div class=\"wandb-col\"><h3>Run summary:</h3><br/><table class=\"wandb\"><tr><td>Max Absolute Error (Test)</td><td>1.00521</td></tr><tr><td>Mean Absolute Error (Test)</td><td>0.23491</td></tr><tr><td>R²</td><td>0.07972</td></tr><tr><td>Test Loss</td><td>0.23491</td></tr><tr><td>Test MAE</td><td>0.23491</td></tr><tr><td>epoch</td><td>19</td></tr><tr><td>epoch/epoch</td><td>19</td></tr><tr><td>epoch/learning_rate</td><td>0.005</td></tr><tr><td>epoch/loss</td><td>0.23655</td></tr><tr><td>epoch/mae</td><td>0.23655</td></tr><tr><td>epoch/val_loss</td><td>0.23177</td></tr><tr><td>epoch/val_mae</td><td>0.23177</td></tr><tr><td>train_loss</td><td>0.23655</td></tr><tr><td>train_mae</td><td>0.23655</td></tr><tr><td>val_loss</td><td>0.23177</td></tr><tr><td>val_mae</td><td>0.23177</td></tr></table><br/></div></div>"
      ],
      "text/plain": [
       "<IPython.core.display.HTML object>"
      ]
     },
     "metadata": {},
     "output_type": "display_data"
    },
    {
     "data": {
      "text/html": [
       " View run <strong style=\"color:#cdcd00\">fancy-sweep-62</strong> at: <a href='https://wandb.ai/walt_/dose-prediction/runs/qp9cdb27' target=\"_blank\">https://wandb.ai/walt_/dose-prediction/runs/qp9cdb27</a><br/> View project at: <a href='https://wandb.ai/walt_/dose-prediction' target=\"_blank\">https://wandb.ai/walt_/dose-prediction</a><br/>Synced 5 W&B file(s), 0 media file(s), 0 artifact file(s) and 0 other file(s)"
      ],
      "text/plain": [
       "<IPython.core.display.HTML object>"
      ]
     },
     "metadata": {},
     "output_type": "display_data"
    },
    {
     "data": {
      "text/html": [
       "Find logs at: <code>./wandb/run-20241124_153954-qp9cdb27/logs</code>"
      ],
      "text/plain": [
       "<IPython.core.display.HTML object>"
      ]
     },
     "metadata": {},
     "output_type": "display_data"
    },
    {
     "name": "stderr",
     "output_type": "stream",
     "text": [
      "\u001b[34m\u001b[1mwandb\u001b[0m: Agent Starting Run: fb6o6f59 with config:\n",
      "\u001b[34m\u001b[1mwandb\u001b[0m: \tactivation_function: tanh\n",
      "\u001b[34m\u001b[1mwandb\u001b[0m: \tbatch_size: 32\n",
      "\u001b[34m\u001b[1mwandb\u001b[0m: \tepochs: 20\n",
      "\u001b[34m\u001b[1mwandb\u001b[0m: \tinclude_edis: False\n",
      "\u001b[34m\u001b[1mwandb\u001b[0m: \tinclude_mgdis: False\n",
      "\u001b[34m\u001b[1mwandb\u001b[0m: \tinclude_mpc: False\n",
      "\u001b[34m\u001b[1mwandb\u001b[0m: \tinclude_sharpness: False\n",
      "\u001b[34m\u001b[1mwandb\u001b[0m: \tinclude_texture: True\n",
      "\u001b[34m\u001b[1mwandb\u001b[0m: \tlearning_rate: 0.005\n",
      "\u001b[34m\u001b[1mwandb\u001b[0m: \tloss_function: mean_absolute_error\n"
     ]
    },
    {
     "data": {
      "text/html": [
       "Tracking run with wandb version 0.18.7"
      ],
      "text/plain": [
       "<IPython.core.display.HTML object>"
      ]
     },
     "metadata": {},
     "output_type": "display_data"
    },
    {
     "data": {
      "text/html": [
       "Run data is saved locally in <code>/home/walt/FociNet/wandb/run-20241124_154014-fb6o6f59</code>"
      ],
      "text/plain": [
       "<IPython.core.display.HTML object>"
      ]
     },
     "metadata": {},
     "output_type": "display_data"
    },
    {
     "data": {
      "text/html": [
       "Syncing run <strong><a href='https://wandb.ai/walt_/dose-prediction/runs/fb6o6f59' target=\"_blank\">smart-sweep-63</a></strong> to <a href='https://wandb.ai/walt_/dose-prediction' target=\"_blank\">Weights & Biases</a> (<a href='https://wandb.me/developer-guide' target=\"_blank\">docs</a>)<br/>Sweep page: <a href='https://wandb.ai/walt_/dose-prediction/sweeps/ijck5aqp' target=\"_blank\">https://wandb.ai/walt_/dose-prediction/sweeps/ijck5aqp</a>"
      ],
      "text/plain": [
       "<IPython.core.display.HTML object>"
      ]
     },
     "metadata": {},
     "output_type": "display_data"
    },
    {
     "data": {
      "text/html": [
       " View project at <a href='https://wandb.ai/walt_/dose-prediction' target=\"_blank\">https://wandb.ai/walt_/dose-prediction</a>"
      ],
      "text/plain": [
       "<IPython.core.display.HTML object>"
      ]
     },
     "metadata": {},
     "output_type": "display_data"
    },
    {
     "data": {
      "text/html": [
       " View sweep at <a href='https://wandb.ai/walt_/dose-prediction/sweeps/ijck5aqp' target=\"_blank\">https://wandb.ai/walt_/dose-prediction/sweeps/ijck5aqp</a>"
      ],
      "text/plain": [
       "<IPython.core.display.HTML object>"
      ]
     },
     "metadata": {},
     "output_type": "display_data"
    },
    {
     "data": {
      "text/html": [
       " View run at <a href='https://wandb.ai/walt_/dose-prediction/runs/fb6o6f59' target=\"_blank\">https://wandb.ai/walt_/dose-prediction/runs/fb6o6f59</a>"
      ],
      "text/plain": [
       "<IPython.core.display.HTML object>"
      ]
     },
     "metadata": {},
     "output_type": "display_data"
    },
    {
     "name": "stdout",
     "output_type": "stream",
     "text": [
      "Active Feature Config: {'activation_function': 'tanh', 'batch_size': 32, 'epochs': 20, 'include_edis': False, 'include_mgdis': False, 'include_mpc': False, 'include_sharpness': False, 'include_texture': True, 'learning_rate': 0.005, 'loss_function': 'mean_absolute_error'}\n",
      "Subset X_train shape: (9766, 2)\n",
      "Subset X_val shape: (2790, 2)\n",
      "Subset X_test shape: (1396, 2)\n",
      "Calculated input_dim: 2\n",
      "Epoch 1/20\n",
      "306/306 - 2s - 8ms/step - loss: 0.2978 - mae: 0.2978 - val_loss: 0.2990 - val_mae: 0.2990\n",
      "Epoch 2/20\n",
      "306/306 - 1s - 2ms/step - loss: 0.2914 - mae: 0.2914 - val_loss: 0.2779 - val_mae: 0.2779\n",
      "Epoch 3/20\n",
      "306/306 - 1s - 2ms/step - loss: 0.2657 - mae: 0.2657 - val_loss: 0.2519 - val_mae: 0.2519\n",
      "Epoch 4/20\n",
      "306/306 - 1s - 3ms/step - loss: 0.2501 - mae: 0.2501 - val_loss: 0.2478 - val_mae: 0.2478\n",
      "Epoch 5/20\n",
      "306/306 - 1s - 2ms/step - loss: 0.2442 - mae: 0.2442 - val_loss: 0.2388 - val_mae: 0.2388\n",
      "Epoch 6/20\n",
      "306/306 - 1s - 2ms/step - loss: 0.2390 - mae: 0.2390 - val_loss: 0.2353 - val_mae: 0.2353\n",
      "Epoch 7/20\n",
      "306/306 - 1s - 2ms/step - loss: 0.2374 - mae: 0.2374 - val_loss: 0.2351 - val_mae: 0.2351\n",
      "Epoch 8/20\n",
      "306/306 - 1s - 2ms/step - loss: 0.2351 - mae: 0.2351 - val_loss: 0.2309 - val_mae: 0.2309\n",
      "Epoch 9/20\n",
      "306/306 - 1s - 2ms/step - loss: 0.2344 - mae: 0.2344 - val_loss: 0.2352 - val_mae: 0.2352\n",
      "Epoch 10/20\n",
      "306/306 - 1s - 2ms/step - loss: 0.2335 - mae: 0.2335 - val_loss: 0.2302 - val_mae: 0.2302\n",
      "Epoch 11/20\n",
      "306/306 - 1s - 4ms/step - loss: 0.2344 - mae: 0.2344 - val_loss: 0.2300 - val_mae: 0.2300\n",
      "Epoch 12/20\n",
      "306/306 - 1s - 2ms/step - loss: 0.2321 - mae: 0.2321 - val_loss: 0.2285 - val_mae: 0.2285\n",
      "Epoch 13/20\n",
      "306/306 - 1s - 2ms/step - loss: 0.2316 - mae: 0.2316 - val_loss: 0.2299 - val_mae: 0.2299\n",
      "Epoch 14/20\n",
      "306/306 - 1s - 2ms/step - loss: 0.2325 - mae: 0.2325 - val_loss: 0.2281 - val_mae: 0.2281\n",
      "Epoch 15/20\n",
      "306/306 - 1s - 2ms/step - loss: 0.2316 - mae: 0.2316 - val_loss: 0.2290 - val_mae: 0.2290\n",
      "Epoch 16/20\n",
      "306/306 - 1s - 2ms/step - loss: 0.2340 - mae: 0.2340 - val_loss: 0.2307 - val_mae: 0.2307\n",
      "Epoch 17/20\n",
      "306/306 - 1s - 2ms/step - loss: 0.2316 - mae: 0.2316 - val_loss: 0.2296 - val_mae: 0.2296\n",
      "Epoch 18/20\n",
      "306/306 - 1s - 2ms/step - loss: 0.2283 - mae: 0.2283 - val_loss: 0.2262 - val_mae: 0.2262\n",
      "Epoch 19/20\n",
      "306/306 - 1s - 2ms/step - loss: 0.2311 - mae: 0.2311 - val_loss: 0.2298 - val_mae: 0.2298\n",
      "Epoch 20/20\n",
      "306/306 - 1s - 2ms/step - loss: 0.2308 - mae: 0.2308 - val_loss: 0.2315 - val_mae: 0.2315\n",
      "\u001b[1m44/44\u001b[0m \u001b[32m━━━━━━━━━━━━━━━━━━━━\u001b[0m\u001b[37m\u001b[0m \u001b[1m0s\u001b[0m 4ms/step\n"
     ]
    },
    {
     "data": {
      "text/html": [
       "\n",
       "    <style>\n",
       "        .wandb-row {\n",
       "            display: flex;\n",
       "            flex-direction: row;\n",
       "            flex-wrap: wrap;\n",
       "            justify-content: flex-start;\n",
       "            width: 100%;\n",
       "        }\n",
       "        .wandb-col {\n",
       "            display: flex;\n",
       "            flex-direction: column;\n",
       "            flex-basis: 100%;\n",
       "            flex: 1;\n",
       "            padding: 10px;\n",
       "        }\n",
       "    </style>\n",
       "<div class=\"wandb-row\"><div class=\"wandb-col\"><h3>Run history:</h3><br/><table class=\"wandb\"><tr><td>Max Absolute Error (Test)</td><td>▁</td></tr><tr><td>Mean Absolute Error (Test)</td><td>▁</td></tr><tr><td>R²</td><td>▁</td></tr><tr><td>Test Loss</td><td>▁</td></tr><tr><td>Test MAE</td><td>▁</td></tr><tr><td>epoch</td><td>▁▁▂▂▂▃▃▄▄▄▅▅▅▆▆▇▇▇██</td></tr><tr><td>epoch/epoch</td><td>▁▁▂▂▂▃▃▄▄▄▅▅▅▆▆▇▇▇██</td></tr><tr><td>epoch/learning_rate</td><td>▁▁▁▁▁▁▁▁▁▁▁▁▁▁▁▁▁▁▁▁</td></tr><tr><td>epoch/loss</td><td>█▇▅▃▃▂▂▂▂▂▂▁▁▁▁▂▁▁▁▁</td></tr><tr><td>epoch/mae</td><td>█▇▅▃▃▂▂▂▂▂▂▁▁▁▁▂▁▁▁▁</td></tr><tr><td>epoch/val_loss</td><td>█▆▃▃▂▂▂▁▂▁▁▁▁▁▁▁▁▁▁▂</td></tr><tr><td>epoch/val_mae</td><td>█▆▃▃▂▂▂▁▂▁▁▁▁▁▁▁▁▁▁▂</td></tr><tr><td>train_loss</td><td>█▇▅▃▃▂▂▂▂▂▂▁▁▁▁▂▁▁▁▁</td></tr><tr><td>train_mae</td><td>█▇▅▃▃▂▂▂▂▂▂▁▁▁▁▂▁▁▁▁</td></tr><tr><td>val_loss</td><td>█▆▃▃▂▂▂▁▂▁▁▁▁▁▁▁▁▁▁▂</td></tr><tr><td>val_mae</td><td>█▆▃▃▂▂▂▁▂▁▁▁▁▁▁▁▁▁▁▂</td></tr></table><br/></div><div class=\"wandb-col\"><h3>Run summary:</h3><br/><table class=\"wandb\"><tr><td>Max Absolute Error (Test)</td><td>1.00841</td></tr><tr><td>Mean Absolute Error (Test)</td><td>0.23036</td></tr><tr><td>R²</td><td>0.11357</td></tr><tr><td>Test Loss</td><td>0.23036</td></tr><tr><td>Test MAE</td><td>0.23036</td></tr><tr><td>epoch</td><td>19</td></tr><tr><td>epoch/epoch</td><td>19</td></tr><tr><td>epoch/learning_rate</td><td>0.005</td></tr><tr><td>epoch/loss</td><td>0.23076</td></tr><tr><td>epoch/mae</td><td>0.23076</td></tr><tr><td>epoch/val_loss</td><td>0.23155</td></tr><tr><td>epoch/val_mae</td><td>0.23155</td></tr><tr><td>train_loss</td><td>0.23076</td></tr><tr><td>train_mae</td><td>0.23076</td></tr><tr><td>val_loss</td><td>0.23155</td></tr><tr><td>val_mae</td><td>0.23155</td></tr></table><br/></div></div>"
      ],
      "text/plain": [
       "<IPython.core.display.HTML object>"
      ]
     },
     "metadata": {},
     "output_type": "display_data"
    },
    {
     "data": {
      "text/html": [
       " View run <strong style=\"color:#cdcd00\">smart-sweep-63</strong> at: <a href='https://wandb.ai/walt_/dose-prediction/runs/fb6o6f59' target=\"_blank\">https://wandb.ai/walt_/dose-prediction/runs/fb6o6f59</a><br/> View project at: <a href='https://wandb.ai/walt_/dose-prediction' target=\"_blank\">https://wandb.ai/walt_/dose-prediction</a><br/>Synced 5 W&B file(s), 0 media file(s), 0 artifact file(s) and 0 other file(s)"
      ],
      "text/plain": [
       "<IPython.core.display.HTML object>"
      ]
     },
     "metadata": {},
     "output_type": "display_data"
    },
    {
     "data": {
      "text/html": [
       "Find logs at: <code>./wandb/run-20241124_154014-fb6o6f59/logs</code>"
      ],
      "text/plain": [
       "<IPython.core.display.HTML object>"
      ]
     },
     "metadata": {},
     "output_type": "display_data"
    },
    {
     "name": "stderr",
     "output_type": "stream",
     "text": [
      "\u001b[34m\u001b[1mwandb\u001b[0m: Agent Starting Run: 7ns6qat0 with config:\n",
      "\u001b[34m\u001b[1mwandb\u001b[0m: \tactivation_function: tanh\n",
      "\u001b[34m\u001b[1mwandb\u001b[0m: \tbatch_size: 32\n",
      "\u001b[34m\u001b[1mwandb\u001b[0m: \tepochs: 20\n",
      "\u001b[34m\u001b[1mwandb\u001b[0m: \tinclude_edis: False\n",
      "\u001b[34m\u001b[1mwandb\u001b[0m: \tinclude_mgdis: False\n",
      "\u001b[34m\u001b[1mwandb\u001b[0m: \tinclude_mpc: False\n",
      "\u001b[34m\u001b[1mwandb\u001b[0m: \tinclude_sharpness: False\n",
      "\u001b[34m\u001b[1mwandb\u001b[0m: \tinclude_texture: False\n",
      "\u001b[34m\u001b[1mwandb\u001b[0m: \tlearning_rate: 0.005\n",
      "\u001b[34m\u001b[1mwandb\u001b[0m: \tloss_function: mean_absolute_error\n"
     ]
    },
    {
     "data": {
      "text/html": [
       "Tracking run with wandb version 0.18.7"
      ],
      "text/plain": [
       "<IPython.core.display.HTML object>"
      ]
     },
     "metadata": {},
     "output_type": "display_data"
    },
    {
     "data": {
      "text/html": [
       "Run data is saved locally in <code>/home/walt/FociNet/wandb/run-20241124_154035-7ns6qat0</code>"
      ],
      "text/plain": [
       "<IPython.core.display.HTML object>"
      ]
     },
     "metadata": {},
     "output_type": "display_data"
    },
    {
     "data": {
      "text/html": [
       "Syncing run <strong><a href='https://wandb.ai/walt_/dose-prediction/runs/7ns6qat0' target=\"_blank\">sandy-sweep-64</a></strong> to <a href='https://wandb.ai/walt_/dose-prediction' target=\"_blank\">Weights & Biases</a> (<a href='https://wandb.me/developer-guide' target=\"_blank\">docs</a>)<br/>Sweep page: <a href='https://wandb.ai/walt_/dose-prediction/sweeps/ijck5aqp' target=\"_blank\">https://wandb.ai/walt_/dose-prediction/sweeps/ijck5aqp</a>"
      ],
      "text/plain": [
       "<IPython.core.display.HTML object>"
      ]
     },
     "metadata": {},
     "output_type": "display_data"
    },
    {
     "data": {
      "text/html": [
       " View project at <a href='https://wandb.ai/walt_/dose-prediction' target=\"_blank\">https://wandb.ai/walt_/dose-prediction</a>"
      ],
      "text/plain": [
       "<IPython.core.display.HTML object>"
      ]
     },
     "metadata": {},
     "output_type": "display_data"
    },
    {
     "data": {
      "text/html": [
       " View sweep at <a href='https://wandb.ai/walt_/dose-prediction/sweeps/ijck5aqp' target=\"_blank\">https://wandb.ai/walt_/dose-prediction/sweeps/ijck5aqp</a>"
      ],
      "text/plain": [
       "<IPython.core.display.HTML object>"
      ]
     },
     "metadata": {},
     "output_type": "display_data"
    },
    {
     "data": {
      "text/html": [
       " View run at <a href='https://wandb.ai/walt_/dose-prediction/runs/7ns6qat0' target=\"_blank\">https://wandb.ai/walt_/dose-prediction/runs/7ns6qat0</a>"
      ],
      "text/plain": [
       "<IPython.core.display.HTML object>"
      ]
     },
     "metadata": {},
     "output_type": "display_data"
    },
    {
     "name": "stdout",
     "output_type": "stream",
     "text": [
      "Active Feature Config: {'activation_function': 'tanh', 'batch_size': 32, 'epochs': 20, 'include_edis': False, 'include_mgdis': False, 'include_mpc': False, 'include_sharpness': False, 'include_texture': False, 'learning_rate': 0.005, 'loss_function': 'mean_absolute_error'}\n",
      "Subset X_train shape: (9766, 0)\n",
      "Subset X_val shape: (2790, 0)\n",
      "Subset X_test shape: (1396, 0)\n",
      "Calculated input_dim: 0\n",
      "Epoch 1/20\n",
      "306/306 - 2s - 7ms/step - loss: 0.3225 - mae: 0.3225 - val_loss: 0.3241 - val_mae: 0.3241\n",
      "Epoch 2/20\n",
      "306/306 - 1s - 3ms/step - loss: 0.3201 - mae: 0.3201 - val_loss: 0.3242 - val_mae: 0.3242\n",
      "Epoch 3/20\n",
      "306/306 - 1s - 2ms/step - loss: 0.3198 - mae: 0.3198 - val_loss: 0.3235 - val_mae: 0.3235\n",
      "Epoch 4/20\n",
      "306/306 - 1s - 2ms/step - loss: 0.3196 - mae: 0.3196 - val_loss: 0.3234 - val_mae: 0.3234\n",
      "Epoch 5/20\n",
      "306/306 - 1s - 2ms/step - loss: 0.3193 - mae: 0.3193 - val_loss: 0.3235 - val_mae: 0.3235\n",
      "Epoch 6/20\n",
      "306/306 - 1s - 2ms/step - loss: 0.3192 - mae: 0.3192 - val_loss: 0.3233 - val_mae: 0.3233\n",
      "Epoch 7/20\n",
      "306/306 - 1s - 2ms/step - loss: 0.3193 - mae: 0.3193 - val_loss: 0.3234 - val_mae: 0.3234\n",
      "Epoch 8/20\n",
      "306/306 - 1s - 2ms/step - loss: 0.3191 - mae: 0.3191 - val_loss: 0.3233 - val_mae: 0.3233\n",
      "Epoch 9/20\n",
      "306/306 - 1s - 2ms/step - loss: 0.3192 - mae: 0.3192 - val_loss: 0.3233 - val_mae: 0.3233\n",
      "Epoch 10/20\n",
      "306/306 - 1s - 2ms/step - loss: 0.3190 - mae: 0.3190 - val_loss: 0.3237 - val_mae: 0.3237\n",
      "Epoch 11/20\n",
      "306/306 - 1s - 2ms/step - loss: 0.3190 - mae: 0.3190 - val_loss: 0.3235 - val_mae: 0.3235\n",
      "Epoch 12/20\n",
      "306/306 - 1s - 2ms/step - loss: 0.3194 - mae: 0.3194 - val_loss: 0.3248 - val_mae: 0.3248\n",
      "Epoch 13/20\n",
      "306/306 - 1s - 2ms/step - loss: 0.3191 - mae: 0.3191 - val_loss: 0.3237 - val_mae: 0.3237\n",
      "Epoch 14/20\n",
      "306/306 - 1s - 2ms/step - loss: 0.3193 - mae: 0.3193 - val_loss: 0.3233 - val_mae: 0.3233\n",
      "Epoch 15/20\n",
      "306/306 - 1s - 2ms/step - loss: 0.3190 - mae: 0.3190 - val_loss: 0.3239 - val_mae: 0.3239\n",
      "Epoch 16/20\n",
      "306/306 - 1s - 2ms/step - loss: 0.3190 - mae: 0.3190 - val_loss: 0.3237 - val_mae: 0.3237\n",
      "Epoch 17/20\n",
      "306/306 - 1s - 2ms/step - loss: 0.3191 - mae: 0.3191 - val_loss: 0.3233 - val_mae: 0.3233\n",
      "Epoch 18/20\n",
      "306/306 - 1s - 2ms/step - loss: 0.3190 - mae: 0.3190 - val_loss: 0.3236 - val_mae: 0.3236\n",
      "Epoch 19/20\n",
      "306/306 - 1s - 2ms/step - loss: 0.3191 - mae: 0.3191 - val_loss: 0.3233 - val_mae: 0.3233\n",
      "Epoch 20/20\n",
      "306/306 - 1s - 2ms/step - loss: 0.3190 - mae: 0.3190 - val_loss: 0.3239 - val_mae: 0.3239\n",
      "\u001b[1m44/44\u001b[0m \u001b[32m━━━━━━━━━━━━━━━━━━━━\u001b[0m\u001b[37m\u001b[0m \u001b[1m0s\u001b[0m 3ms/step\n"
     ]
    },
    {
     "data": {
      "text/html": [
       "\n",
       "    <style>\n",
       "        .wandb-row {\n",
       "            display: flex;\n",
       "            flex-direction: row;\n",
       "            flex-wrap: wrap;\n",
       "            justify-content: flex-start;\n",
       "            width: 100%;\n",
       "        }\n",
       "        .wandb-col {\n",
       "            display: flex;\n",
       "            flex-direction: column;\n",
       "            flex-basis: 100%;\n",
       "            flex: 1;\n",
       "            padding: 10px;\n",
       "        }\n",
       "    </style>\n",
       "<div class=\"wandb-row\"><div class=\"wandb-col\"><h3>Run history:</h3><br/><table class=\"wandb\"><tr><td>Max Absolute Error (Test)</td><td>▁</td></tr><tr><td>Mean Absolute Error (Test)</td><td>▁</td></tr><tr><td>R²</td><td>▁</td></tr><tr><td>Test Loss</td><td>▁</td></tr><tr><td>Test MAE</td><td>▁</td></tr><tr><td>epoch</td><td>▁▁▂▂▂▃▃▄▄▄▅▅▅▆▆▇▇▇██</td></tr><tr><td>epoch/epoch</td><td>▁▁▂▂▂▃▃▄▄▄▅▅▅▆▆▇▇▇██</td></tr><tr><td>epoch/learning_rate</td><td>▁▁▁▁▁▁▁▁▁▁▁▁▁▁▁▁▁▁▁▁</td></tr><tr><td>epoch/loss</td><td>█▃▃▂▂▁▂▁▁▁▁▂▁▂▁▁▁▁▁▁</td></tr><tr><td>epoch/mae</td><td>█▃▃▂▂▁▂▁▁▁▁▂▁▂▁▁▁▁▁▁</td></tr><tr><td>epoch/val_loss</td><td>▅▅▂▂▂▁▁▁▁▃▂█▃▁▄▃▁▃▁▄</td></tr><tr><td>epoch/val_mae</td><td>▅▅▂▂▂▁▁▁▁▃▂█▃▁▄▃▁▃▁▄</td></tr><tr><td>train_loss</td><td>█▃▃▂▂▁▂▁▁▁▁▂▁▂▁▁▁▁▁▁</td></tr><tr><td>train_mae</td><td>█▃▃▂▂▁▂▁▁▁▁▂▁▂▁▁▁▁▁▁</td></tr><tr><td>val_loss</td><td>▅▅▂▂▂▁▁▁▁▃▂█▃▁▄▃▁▃▁▄</td></tr><tr><td>val_mae</td><td>▅▅▂▂▂▁▁▁▁▃▂█▃▁▄▃▁▃▁▄</td></tr></table><br/></div><div class=\"wandb-col\"><h3>Run summary:</h3><br/><table class=\"wandb\"><tr><td>Max Absolute Error (Test)</td><td>0.90219</td></tr><tr><td>Mean Absolute Error (Test)</td><td>0.32598</td></tr><tr><td>R²</td><td>-0.32741</td></tr><tr><td>Test Loss</td><td>0.32598</td></tr><tr><td>Test MAE</td><td>0.32598</td></tr><tr><td>epoch</td><td>19</td></tr><tr><td>epoch/epoch</td><td>19</td></tr><tr><td>epoch/learning_rate</td><td>0.005</td></tr><tr><td>epoch/loss</td><td>0.31903</td></tr><tr><td>epoch/mae</td><td>0.31903</td></tr><tr><td>epoch/val_loss</td><td>0.32389</td></tr><tr><td>epoch/val_mae</td><td>0.32389</td></tr><tr><td>train_loss</td><td>0.31903</td></tr><tr><td>train_mae</td><td>0.31903</td></tr><tr><td>val_loss</td><td>0.32389</td></tr><tr><td>val_mae</td><td>0.32389</td></tr></table><br/></div></div>"
      ],
      "text/plain": [
       "<IPython.core.display.HTML object>"
      ]
     },
     "metadata": {},
     "output_type": "display_data"
    },
    {
     "data": {
      "text/html": [
       " View run <strong style=\"color:#cdcd00\">sandy-sweep-64</strong> at: <a href='https://wandb.ai/walt_/dose-prediction/runs/7ns6qat0' target=\"_blank\">https://wandb.ai/walt_/dose-prediction/runs/7ns6qat0</a><br/> View project at: <a href='https://wandb.ai/walt_/dose-prediction' target=\"_blank\">https://wandb.ai/walt_/dose-prediction</a><br/>Synced 5 W&B file(s), 0 media file(s), 0 artifact file(s) and 0 other file(s)"
      ],
      "text/plain": [
       "<IPython.core.display.HTML object>"
      ]
     },
     "metadata": {},
     "output_type": "display_data"
    },
    {
     "data": {
      "text/html": [
       "Find logs at: <code>./wandb/run-20241124_154035-7ns6qat0/logs</code>"
      ],
      "text/plain": [
       "<IPython.core.display.HTML object>"
      ]
     },
     "metadata": {},
     "output_type": "display_data"
    },
    {
     "name": "stderr",
     "output_type": "stream",
     "text": [
      "\u001b[34m\u001b[1mwandb\u001b[0m: Sweep Agent: Waiting for job.\n",
      "\u001b[34m\u001b[1mwandb\u001b[0m: Sweep Agent: Exiting.\n"
     ]
    }
   ],
   "source": [
    "# Import required libraries\n",
    "import wandb\n",
    "from wandb.integration.keras import WandbMetricsLogger, WandbModelCheckpoint\n",
    "import tensorflow as tf\n",
    "from tensorflow.keras import layers, models\n",
    "from tensorflow.keras.optimizers import Adam\n",
    "from sklearn.metrics import r2_score, mean_absolute_error\n",
    "import numpy as np\n",
    "\n",
    "# Sweep Configuration for feature selection, activation functions, and loss functions\n",
    "sweep_config = {\n",
    "    'method': 'grid',  # Options: 'grid', 'random', 'bayes'\n",
    "    'metric': {\n",
    "        'name': 'val_mae',  # Metric to optimize\n",
    "        'goal': 'minimize'\n",
    "    },\n",
    "    'parameters': {\n",
    "        'learning_rate': {\n",
    "            'values': [0.005]\n",
    "        },\n",
    "        'batch_size': {\n",
    "            'values': [16, 32]\n",
    "        },\n",
    "        'epochs': {\n",
    "            'values': [15, 20]\n",
    "        },\n",
    "        'activation_function': {\n",
    "            'values': ['tanh']  # Activation functions to sweep\n",
    "        },\n",
    "        'loss_function': {\n",
    "            'values': ['mean_absolute_error']  # Loss functions to sweep\n",
    "        },\n",
    "        # Feature toggles\n",
    "        'include_mpc': {'values': [True, False]},\n",
    "        'include_edis': {'values': [False]},\n",
    "        'include_mgdis': {'values': [True, False]},\n",
    "        'include_texture': {'values': [True, False]},\n",
    "        'include_sharpness': {'values': [True, False]},\n",
    "    },\n",
    "    'tags': [\"xray_4hr\", \"grnn_like\", \"400clip\", \"nooutliers\", \"feature_sweep\"]\n",
    "}\n",
    "\n",
    "# Define GRNN-like network using Keras\n",
    "def grnn(input_dim, learning_rate, activation_function, loss_function):\n",
    "    \"\"\"\n",
    "    Build a GRNN-like network using Keras.\n",
    "\n",
    "    Parameters:\n",
    "    - input_dim: Number of input features\n",
    "    - learning_rate: Learning rate for the optimizer\n",
    "    - activation_function: Activation function for the layers\n",
    "    - loss_function: Loss function to use for training\n",
    "\n",
    "    Returns:\n",
    "    - Compiled Keras model\n",
    "    \"\"\"\n",
    "    inputs = layers.Input(shape=(input_dim,))\n",
    "    pattern_layer = layers.Dense(64, activation=activation_function)(inputs)\n",
    "    summation_layer = layers.Dense(32, activation=activation_function)(pattern_layer)\n",
    "    outputs = layers.Dense(1, activation='linear')(summation_layer)\n",
    "    model = models.Model(inputs, outputs)\n",
    "    model.compile(\n",
    "        optimizer=Adam(learning_rate=learning_rate),\n",
    "        loss=loss_function,\n",
    "        metrics=['mae']\n",
    "    )\n",
    "    return model\n",
    "\n",
    "def calculate_input_dim(config):\n",
    "    \"\"\"\n",
    "    Dynamically calculate the number of input features based on the config.\n",
    "    \"\"\"\n",
    "    feature_count = 0\n",
    "    if config.get('include_mpc', True):  # Use dictionary key access\n",
    "        feature_count += 2  # MPC and EPC\n",
    "    if config.get('include_edis', True):\n",
    "        feature_count += 1  # EDIS\n",
    "    if config.get('include_mgdis', True):\n",
    "        feature_count += 1  # MGDIS\n",
    "    if config.get('include_texture', True):\n",
    "        feature_count += 2  # Texture: Contrast, Homogeneity\n",
    "    if config.get('include_sharpness', True):\n",
    "        feature_count += 1  # Sharpness (Laplacian Variance)\n",
    "    return feature_count\n",
    "\n",
    "\n",
    "def subset_features(X, config):\n",
    "    \"\"\"\n",
    "    Subset the feature array dynamically based on the active config.\n",
    "    \"\"\"\n",
    "    selected_features = []\n",
    "    feature_index = 0\n",
    "\n",
    "    # Include MPC (2 features: MPC and EPC)\n",
    "    if config.get('include_mpc', True):\n",
    "        selected_features.extend([feature_index, feature_index + 1])\n",
    "        feature_index += 2\n",
    "\n",
    "    # Include EDIS (1 feature)\n",
    "    if config.get('include_edis', True):\n",
    "        selected_features.append(feature_index)\n",
    "        feature_index += 1\n",
    "\n",
    "    # Include MGDIS (1 feature)\n",
    "    if config.get('include_mgdis', True):\n",
    "        selected_features.append(feature_index)\n",
    "        feature_index += 1\n",
    "\n",
    "    # Include Texture (2 features: Contrast and Homogeneity)\n",
    "    if config.get('include_texture', True):\n",
    "        selected_features.extend([feature_index, feature_index + 1])\n",
    "        feature_index += 2\n",
    "\n",
    "    # Include Sharpness (1 feature)\n",
    "    if config.get('include_sharpness', True):\n",
    "        selected_features.append(feature_index)\n",
    "        feature_index += 1\n",
    "\n",
    "    # Subset the features\n",
    "    return X[:, selected_features]\n",
    "\n",
    "\n",
    "\n",
    "def train():\n",
    "    # Initialize wandb for this sweep run\n",
    "    with wandb.init() as run:\n",
    "        config = run.config\n",
    "\n",
    "        # Log active feature configuration\n",
    "        print(f\"Active Feature Config: {config}\")\n",
    "\n",
    "        # Dynamically subset the pre-calculated feature arrays\n",
    "        X_train_subset = subset_features(X_train, config)\n",
    "        X_val_subset = subset_features(X_val, config)\n",
    "        X_test_subset = subset_features(X_test, config)\n",
    "\n",
    "        # Log the shapes after subsetting\n",
    "        print(f\"Subset X_train shape: {X_train_subset.shape}\")\n",
    "        print(f\"Subset X_val shape: {X_val_subset.shape}\")\n",
    "        print(f\"Subset X_test shape: {X_test_subset.shape}\")\n",
    "\n",
    "        # Calculate dynamic input_dim\n",
    "        input_dim = X_train_subset.shape[1]\n",
    "        print(f\"Calculated input_dim: {input_dim}\")\n",
    "\n",
    "        # Validate that the feature array dimensions match the expected input_dim\n",
    "        assert X_train_subset.shape[1] == input_dim, f\"Mismatch: X_train has {X_train.shape[1]} features, expected {input_dim}\"\n",
    "        assert X_val_subset.shape[1] == input_dim, f\"Mismatch: X_val has {X_val.shape[1]} features, expected {input_dim}\"\n",
    "        assert X_test_subset.shape[1] == input_dim, f\"Mismatch: X_test has {X_test.shape[1]} features, expected {input_dim}\"\n",
    "\n",
    "        # Build and compile the model dynamically\n",
    "        model = grnn(\n",
    "            input_dim=input_dim,\n",
    "            learning_rate=config.learning_rate,\n",
    "            activation_function=config.activation_function,\n",
    "            loss_function=config.loss_function\n",
    "        )\n",
    "\n",
    "        # Train the model with subsetted arrays\n",
    "        history = model.fit(\n",
    "            X_train_subset, y_train,\n",
    "            validation_data=(X_val_subset, y_val),\n",
    "            epochs=config.epochs,\n",
    "            batch_size=config.batch_size,\n",
    "            verbose=2,\n",
    "            callbacks=[WandbMetricsLogger(log_freq=\"epoch\")]\n",
    "        )\n",
    "\n",
    "        # Log training and validation metrics for each epoch\n",
    "        for epoch in range(config.epochs):\n",
    "            wandb.log({\n",
    "                \"epoch\": epoch,\n",
    "                \"train_loss\": history.history['loss'][epoch],\n",
    "                \"val_loss\": history.history['val_loss'][epoch],\n",
    "                \"val_mae\": history.history['val_mae'][epoch],\n",
    "                \"train_mae\": history.history['mae'][epoch]\n",
    "            })\n",
    "\n",
    "        # Evaluate the model with subsetted test array\n",
    "        test_loss, test_mae = model.evaluate(X_test_subset, y_test, verbose=0)\n",
    "        wandb.log({\"Test Loss\": test_loss, \"Test MAE\": test_mae})\n",
    "\n",
    "        # Predict using the model\n",
    "        predicted_doses = model.predict(X_test_subset).flatten()\n",
    "\n",
    "        # Log additional metrics\n",
    "        r2 = r2_score(y_test, predicted_doses)\n",
    "        absolute_errors = np.abs(y_test - predicted_doses)\n",
    "        wandb.log({\n",
    "            \"R²\": r2,\n",
    "            \"Mean Absolute Error (Test)\": np.mean(absolute_errors),\n",
    "            \"Max Absolute Error (Test)\": np.max(absolute_errors)\n",
    "        })\n",
    "\n",
    "\n",
    "\n",
    "# Initialize the sweep and run the agent\n",
    "sweep_id = wandb.sweep(sweep_config, project=\"dose-prediction\")\n",
    "wandb.agent(sweep_id, train)\n"
   ]
  },
  {
   "cell_type": "code",
   "execution_count": 5,
   "id": "a7ccd3ed",
   "metadata": {},
   "outputs": [],
   "source": [
    "# Finish the W&B run\n",
    "wandb.finish()"
   ]
  }
 ],
 "metadata": {
  "kernelspec": {
   "display_name": ".venv",
   "language": "python",
   "name": "python3"
  },
  "language_info": {
   "codemirror_mode": {
    "name": "ipython",
    "version": 3
   },
   "file_extension": ".py",
   "mimetype": "text/x-python",
   "name": "python",
   "nbconvert_exporter": "python",
   "pygments_lexer": "ipython3",
   "version": "3.10.12"
  }
 },
 "nbformat": 4,
 "nbformat_minor": 5
}
